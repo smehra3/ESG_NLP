{
  "nbformat": 4,
  "nbformat_minor": 0,
  "metadata": {
    "colab": {
      "name": "10Q - Universal Sent Encoder - +1 or -1.ipynb",
      "provenance": [],
      "collapsed_sections": [
        "H4atob3xx3Xe",
        "Nyjo68RL0ZHn",
        "SewhEFFrTDxx",
        "v9cFA6YV2dpQ"
      ],
      "machine_shape": "hm"
    },
    "kernelspec": {
      "name": "python3",
      "display_name": "Python 3"
    },
    "language_info": {
      "name": "python"
    },
    "accelerator": "GPU",
    "widgets": {
      "application/vnd.jupyter.widget-state+json": {
        "8c2a145b38284fd8a0db4e882fef7924": {
          "model_module": "@jupyter-widgets/controls",
          "model_name": "HBoxModel",
          "state": {
            "_view_name": "HBoxView",
            "_dom_classes": [],
            "_model_name": "HBoxModel",
            "_view_module": "@jupyter-widgets/controls",
            "_model_module_version": "1.5.0",
            "_view_count": null,
            "_view_module_version": "1.5.0",
            "box_style": "",
            "layout": "IPY_MODEL_8b9844751bcb4ee3897782671eea762d",
            "_model_module": "@jupyter-widgets/controls",
            "children": [
              "IPY_MODEL_6d52620f20ee4983aac630d401606cd3",
              "IPY_MODEL_0e0f49e564084f04baf56bccd12053ab"
            ]
          }
        },
        "8b9844751bcb4ee3897782671eea762d": {
          "model_module": "@jupyter-widgets/base",
          "model_name": "LayoutModel",
          "state": {
            "_view_name": "LayoutView",
            "grid_template_rows": null,
            "right": null,
            "justify_content": null,
            "_view_module": "@jupyter-widgets/base",
            "overflow": null,
            "_model_module_version": "1.2.0",
            "_view_count": null,
            "flex_flow": null,
            "width": null,
            "min_width": null,
            "border": null,
            "align_items": null,
            "bottom": null,
            "_model_module": "@jupyter-widgets/base",
            "top": null,
            "grid_column": null,
            "overflow_y": null,
            "overflow_x": null,
            "grid_auto_flow": null,
            "grid_area": null,
            "grid_template_columns": null,
            "flex": null,
            "_model_name": "LayoutModel",
            "justify_items": null,
            "grid_row": null,
            "max_height": null,
            "align_content": null,
            "visibility": null,
            "align_self": null,
            "height": null,
            "min_height": null,
            "padding": null,
            "grid_auto_rows": null,
            "grid_gap": null,
            "max_width": null,
            "order": null,
            "_view_module_version": "1.2.0",
            "grid_template_areas": null,
            "object_position": null,
            "object_fit": null,
            "grid_auto_columns": null,
            "margin": null,
            "display": null,
            "left": null
          }
        },
        "6d52620f20ee4983aac630d401606cd3": {
          "model_module": "@jupyter-widgets/controls",
          "model_name": "FloatProgressModel",
          "state": {
            "_view_name": "ProgressView",
            "style": "IPY_MODEL_c69097d0c42d4d0a932bc24c49b6142e",
            "_dom_classes": [],
            "description": "Downloading: 100%",
            "_model_name": "FloatProgressModel",
            "bar_style": "success",
            "max": 526681800,
            "_view_module": "@jupyter-widgets/controls",
            "_model_module_version": "1.5.0",
            "value": 526681800,
            "_view_count": null,
            "_view_module_version": "1.5.0",
            "orientation": "horizontal",
            "min": 0,
            "description_tooltip": null,
            "_model_module": "@jupyter-widgets/controls",
            "layout": "IPY_MODEL_9e973f4f2e9d4c5988deb5c534d4d9c2"
          }
        },
        "0e0f49e564084f04baf56bccd12053ab": {
          "model_module": "@jupyter-widgets/controls",
          "model_name": "HTMLModel",
          "state": {
            "_view_name": "HTMLView",
            "style": "IPY_MODEL_69e20fa54bc34cf7b6363a8af637fe27",
            "_dom_classes": [],
            "description": "",
            "_model_name": "HTMLModel",
            "placeholder": "​",
            "_view_module": "@jupyter-widgets/controls",
            "_model_module_version": "1.5.0",
            "value": " 527M/527M [00:13&lt;00:00, 38.5MB/s]",
            "_view_count": null,
            "_view_module_version": "1.5.0",
            "description_tooltip": null,
            "_model_module": "@jupyter-widgets/controls",
            "layout": "IPY_MODEL_91249a2fdb8f4e0bbd7d74787ef64216"
          }
        },
        "c69097d0c42d4d0a932bc24c49b6142e": {
          "model_module": "@jupyter-widgets/controls",
          "model_name": "ProgressStyleModel",
          "state": {
            "_view_name": "StyleView",
            "_model_name": "ProgressStyleModel",
            "description_width": "initial",
            "_view_module": "@jupyter-widgets/base",
            "_model_module_version": "1.5.0",
            "_view_count": null,
            "_view_module_version": "1.2.0",
            "bar_color": null,
            "_model_module": "@jupyter-widgets/controls"
          }
        },
        "9e973f4f2e9d4c5988deb5c534d4d9c2": {
          "model_module": "@jupyter-widgets/base",
          "model_name": "LayoutModel",
          "state": {
            "_view_name": "LayoutView",
            "grid_template_rows": null,
            "right": null,
            "justify_content": null,
            "_view_module": "@jupyter-widgets/base",
            "overflow": null,
            "_model_module_version": "1.2.0",
            "_view_count": null,
            "flex_flow": null,
            "width": null,
            "min_width": null,
            "border": null,
            "align_items": null,
            "bottom": null,
            "_model_module": "@jupyter-widgets/base",
            "top": null,
            "grid_column": null,
            "overflow_y": null,
            "overflow_x": null,
            "grid_auto_flow": null,
            "grid_area": null,
            "grid_template_columns": null,
            "flex": null,
            "_model_name": "LayoutModel",
            "justify_items": null,
            "grid_row": null,
            "max_height": null,
            "align_content": null,
            "visibility": null,
            "align_self": null,
            "height": null,
            "min_height": null,
            "padding": null,
            "grid_auto_rows": null,
            "grid_gap": null,
            "max_width": null,
            "order": null,
            "_view_module_version": "1.2.0",
            "grid_template_areas": null,
            "object_position": null,
            "object_fit": null,
            "grid_auto_columns": null,
            "margin": null,
            "display": null,
            "left": null
          }
        },
        "69e20fa54bc34cf7b6363a8af637fe27": {
          "model_module": "@jupyter-widgets/controls",
          "model_name": "DescriptionStyleModel",
          "state": {
            "_view_name": "StyleView",
            "_model_name": "DescriptionStyleModel",
            "description_width": "",
            "_view_module": "@jupyter-widgets/base",
            "_model_module_version": "1.5.0",
            "_view_count": null,
            "_view_module_version": "1.2.0",
            "_model_module": "@jupyter-widgets/controls"
          }
        },
        "91249a2fdb8f4e0bbd7d74787ef64216": {
          "model_module": "@jupyter-widgets/base",
          "model_name": "LayoutModel",
          "state": {
            "_view_name": "LayoutView",
            "grid_template_rows": null,
            "right": null,
            "justify_content": null,
            "_view_module": "@jupyter-widgets/base",
            "overflow": null,
            "_model_module_version": "1.2.0",
            "_view_count": null,
            "flex_flow": null,
            "width": null,
            "min_width": null,
            "border": null,
            "align_items": null,
            "bottom": null,
            "_model_module": "@jupyter-widgets/base",
            "top": null,
            "grid_column": null,
            "overflow_y": null,
            "overflow_x": null,
            "grid_auto_flow": null,
            "grid_area": null,
            "grid_template_columns": null,
            "flex": null,
            "_model_name": "LayoutModel",
            "justify_items": null,
            "grid_row": null,
            "max_height": null,
            "align_content": null,
            "visibility": null,
            "align_self": null,
            "height": null,
            "min_height": null,
            "padding": null,
            "grid_auto_rows": null,
            "grid_gap": null,
            "max_width": null,
            "order": null,
            "_view_module_version": "1.2.0",
            "grid_template_areas": null,
            "object_position": null,
            "object_fit": null,
            "grid_auto_columns": null,
            "margin": null,
            "display": null,
            "left": null
          }
        }
      }
    }
  },
  "cells": [
    {
      "cell_type": "markdown",
      "metadata": {
        "id": "H4atob3xx3Xe"
      },
      "source": [
        "# Auth"
      ]
    },
    {
      "cell_type": "code",
      "metadata": {
        "colab": {
          "base_uri": "https://localhost:8080/"
        },
        "id": "AJHyB8skx478",
        "outputId": "b851abe0-2f09-4c14-c7b4-b7ea1432dad8"
      },
      "source": [
        "!gcloud auth login"
      ],
      "execution_count": null,
      "outputs": [
        {
          "output_type": "stream",
          "text": [
            "Go to the following link in your browser:\n",
            "\n",
            "    https://accounts.google.com/o/oauth2/auth?response_type=code&client_id=32555940559.apps.googleusercontent.com&redirect_uri=urn%3Aietf%3Awg%3Aoauth%3A2.0%3Aoob&scope=openid+https%3A%2F%2Fwww.googleapis.com%2Fauth%2Fuserinfo.email+https%3A%2F%2Fwww.googleapis.com%2Fauth%2Fcloud-platform+https%3A%2F%2Fwww.googleapis.com%2Fauth%2Fappengine.admin+https%3A%2F%2Fwww.googleapis.com%2Fauth%2Fcompute+https%3A%2F%2Fwww.googleapis.com%2Fauth%2Faccounts.reauth&state=dS361mnT8PeL06cgNL3TPNVLQTJmoO&prompt=consent&access_type=offline&code_challenge=rpA63YQQkVgxnH6ds_eHiQZxap_VG20OUJTfTqgZIzQ&code_challenge_method=S256\n",
            "\n",
            "Enter verification code: 4/1AX4XfWjxRAVWtm0-O4InjLNT7kjrEfLFcDewiR_bZ8IDh9g1W1m2RZo24lA\n",
            "\n",
            "You are now logged in as [srishtimehra@berkeley.edu].\n",
            "Your current project is [None].  You can change this setting by running:\n",
            "  $ gcloud config set project PROJECT_ID\n",
            "\n",
            "\n",
            "To take a quick anonymous survey, run:\n",
            "  $ gcloud survey\n",
            "\n"
          ],
          "name": "stdout"
        }
      ]
    },
    {
      "cell_type": "code",
      "metadata": {
        "colab": {
          "base_uri": "https://localhost:8080/"
        },
        "id": "XCK0Fmm3x8UC",
        "outputId": "0c3aa948-1224-494d-dc64-344e41a38ec4"
      },
      "source": [
        "!gcloud auth application-default login"
      ],
      "execution_count": null,
      "outputs": [
        {
          "output_type": "stream",
          "text": [
            "Go to the following link in your browser:\n",
            "\n",
            "    https://accounts.google.com/o/oauth2/auth?response_type=code&client_id=764086051850-6qr4p6gpi6hn506pt8ejuq83di341hur.apps.googleusercontent.com&redirect_uri=urn%3Aietf%3Awg%3Aoauth%3A2.0%3Aoob&scope=openid+https%3A%2F%2Fwww.googleapis.com%2Fauth%2Fuserinfo.email+https%3A%2F%2Fwww.googleapis.com%2Fauth%2Fcloud-platform+https%3A%2F%2Fwww.googleapis.com%2Fauth%2Faccounts.reauth&state=lUjPrafk4o53clJMghF2Tllbh1DIVT&prompt=consent&access_type=offline&code_challenge=FzZbPTWmGdDnBJiwb_eWEdkeyIlalQ44g26I1gtn_70&code_challenge_method=S256\n",
            "\n",
            "Enter verification code: 4/1AX4XfWjD9hafeZRBsxnkIt1w186consZqXKjWe0DByC8-MgASb5xZ2berTg\n",
            "\n",
            "Credentials saved to file: [/content/.config/application_default_credentials.json]\n",
            "\n",
            "These credentials will be used by any library that requests Application Default Credentials (ADC).\n",
            "\u001b[1;33mWARNING:\u001b[0m \n",
            "Cannot find a quota project to add to ADC. You might receive a \"quota exceeded\" or \"API not enabled\" error. Run $ gcloud auth application-default set-quota-project to add a quota project.\n"
          ],
          "name": "stdout"
        }
      ]
    },
    {
      "cell_type": "markdown",
      "metadata": {
        "id": "Nyjo68RL0ZHn"
      },
      "source": [
        "#Install"
      ]
    },
    {
      "cell_type": "code",
      "metadata": {
        "id": "PrNVdb270dCu",
        "colab": {
          "base_uri": "https://localhost:8080/"
        },
        "outputId": "6acf09f5-2d7f-4950-f446-703a97b70fa8"
      },
      "source": [
        "!apt-get install python3-pypdf2"
      ],
      "execution_count": null,
      "outputs": [
        {
          "output_type": "stream",
          "text": [
            "Reading package lists... Done\n",
            "Building dependency tree       \n",
            "Reading state information... Done\n",
            "The following NEW packages will be installed:\n",
            "  python3-pypdf2\n",
            "0 upgraded, 1 newly installed, 0 to remove and 40 not upgraded.\n",
            "Need to get 49.2 kB of archives.\n",
            "After this operation, 263 kB of additional disk space will be used.\n",
            "Get:1 http://archive.ubuntu.com/ubuntu bionic/universe amd64 python3-pypdf2 all 1.26.0-2 [49.2 kB]\n",
            "Fetched 49.2 kB in 0s (122 kB/s)\n",
            "Selecting previously unselected package python3-pypdf2.\n",
            "(Reading database ... 160837 files and directories currently installed.)\n",
            "Preparing to unpack .../python3-pypdf2_1.26.0-2_all.deb ...\n",
            "Unpacking python3-pypdf2 (1.26.0-2) ...\n",
            "Setting up python3-pypdf2 (1.26.0-2) ...\n"
          ],
          "name": "stdout"
        }
      ]
    },
    {
      "cell_type": "code",
      "metadata": {
        "colab": {
          "base_uri": "https://localhost:8080/"
        },
        "id": "p8oop9anhZ1v",
        "outputId": "bc8e46b6-221f-4a44-ab4f-127d3e64202d"
      },
      "source": [
        "!pip install spacy"
      ],
      "execution_count": null,
      "outputs": [
        {
          "output_type": "stream",
          "text": [
            "Requirement already satisfied: spacy in /usr/local/lib/python3.7/dist-packages (2.2.4)\n",
            "Requirement already satisfied: plac<1.2.0,>=0.9.6 in /usr/local/lib/python3.7/dist-packages (from spacy) (1.1.3)\n",
            "Requirement already satisfied: catalogue<1.1.0,>=0.0.7 in /usr/local/lib/python3.7/dist-packages (from spacy) (1.0.0)\n",
            "Requirement already satisfied: wasabi<1.1.0,>=0.4.0 in /usr/local/lib/python3.7/dist-packages (from spacy) (0.8.2)\n",
            "Requirement already satisfied: cymem<2.1.0,>=2.0.2 in /usr/local/lib/python3.7/dist-packages (from spacy) (2.0.5)\n",
            "Requirement already satisfied: setuptools in /usr/local/lib/python3.7/dist-packages (from spacy) (57.2.0)\n",
            "Requirement already satisfied: blis<0.5.0,>=0.4.0 in /usr/local/lib/python3.7/dist-packages (from spacy) (0.4.1)\n",
            "Requirement already satisfied: thinc==7.4.0 in /usr/local/lib/python3.7/dist-packages (from spacy) (7.4.0)\n",
            "Requirement already satisfied: tqdm<5.0.0,>=4.38.0 in /usr/local/lib/python3.7/dist-packages (from spacy) (4.41.1)\n",
            "Requirement already satisfied: srsly<1.1.0,>=1.0.2 in /usr/local/lib/python3.7/dist-packages (from spacy) (1.0.5)\n",
            "Requirement already satisfied: preshed<3.1.0,>=3.0.2 in /usr/local/lib/python3.7/dist-packages (from spacy) (3.0.5)\n",
            "Requirement already satisfied: murmurhash<1.1.0,>=0.28.0 in /usr/local/lib/python3.7/dist-packages (from spacy) (1.0.5)\n",
            "Requirement already satisfied: numpy>=1.15.0 in /usr/local/lib/python3.7/dist-packages (from spacy) (1.19.5)\n",
            "Requirement already satisfied: requests<3.0.0,>=2.13.0 in /usr/local/lib/python3.7/dist-packages (from spacy) (2.23.0)\n",
            "Requirement already satisfied: importlib-metadata>=0.20 in /usr/local/lib/python3.7/dist-packages (from catalogue<1.1.0,>=0.0.7->spacy) (4.6.1)\n",
            "Requirement already satisfied: zipp>=0.5 in /usr/local/lib/python3.7/dist-packages (from importlib-metadata>=0.20->catalogue<1.1.0,>=0.0.7->spacy) (3.5.0)\n",
            "Requirement already satisfied: typing-extensions>=3.6.4 in /usr/local/lib/python3.7/dist-packages (from importlib-metadata>=0.20->catalogue<1.1.0,>=0.0.7->spacy) (3.7.4.3)\n",
            "Requirement already satisfied: certifi>=2017.4.17 in /usr/local/lib/python3.7/dist-packages (from requests<3.0.0,>=2.13.0->spacy) (2021.5.30)\n",
            "Requirement already satisfied: chardet<4,>=3.0.2 in /usr/local/lib/python3.7/dist-packages (from requests<3.0.0,>=2.13.0->spacy) (3.0.4)\n",
            "Requirement already satisfied: urllib3!=1.25.0,!=1.25.1,<1.26,>=1.21.1 in /usr/local/lib/python3.7/dist-packages (from requests<3.0.0,>=2.13.0->spacy) (1.24.3)\n",
            "Requirement already satisfied: idna<3,>=2.5 in /usr/local/lib/python3.7/dist-packages (from requests<3.0.0,>=2.13.0->spacy) (2.10)\n"
          ],
          "name": "stdout"
        }
      ]
    },
    {
      "cell_type": "code",
      "metadata": {
        "colab": {
          "base_uri": "https://localhost:8080/"
        },
        "id": "SKSecixShdCc",
        "outputId": "4230963e-338c-4da8-ab07-0b7e7398cd96"
      },
      "source": [
        "!pip install gensim"
      ],
      "execution_count": null,
      "outputs": [
        {
          "output_type": "stream",
          "text": [
            "Requirement already satisfied: gensim in /usr/local/lib/python3.7/dist-packages (3.6.0)\n",
            "Requirement already satisfied: smart-open>=1.2.1 in /usr/local/lib/python3.7/dist-packages (from gensim) (5.1.0)\n",
            "Requirement already satisfied: numpy>=1.11.3 in /usr/local/lib/python3.7/dist-packages (from gensim) (1.19.5)\n",
            "Requirement already satisfied: six>=1.5.0 in /usr/local/lib/python3.7/dist-packages (from gensim) (1.15.0)\n",
            "Requirement already satisfied: scipy>=0.18.1 in /usr/local/lib/python3.7/dist-packages (from gensim) (1.4.1)\n"
          ],
          "name": "stdout"
        }
      ]
    },
    {
      "cell_type": "code",
      "metadata": {
        "colab": {
          "base_uri": "https://localhost:8080/"
        },
        "id": "Ya_Q1I8yhhbi",
        "outputId": "e49337ac-6b19-46c1-9f30-bc2af93ae1be"
      },
      "source": [
        "!pip install mlflow"
      ],
      "execution_count": null,
      "outputs": [
        {
          "output_type": "stream",
          "text": [
            "Collecting mlflow\n",
            "  Downloading mlflow-1.19.0-py3-none-any.whl (14.4 MB)\n",
            "\u001b[K     |████████████████████████████████| 14.4 MB 5.1 MB/s \n",
            "\u001b[?25hRequirement already satisfied: Flask in /usr/local/lib/python3.7/dist-packages (from mlflow) (1.1.4)\n",
            "Requirement already satisfied: sqlalchemy in /usr/local/lib/python3.7/dist-packages (from mlflow) (1.4.20)\n",
            "Collecting gunicorn\n",
            "  Downloading gunicorn-20.1.0-py3-none-any.whl (79 kB)\n",
            "\u001b[K     |████████████████████████████████| 79 kB 6.1 MB/s \n",
            "\u001b[?25hRequirement already satisfied: pytz in /usr/local/lib/python3.7/dist-packages (from mlflow) (2018.9)\n",
            "Requirement already satisfied: requests>=2.17.3 in /usr/local/lib/python3.7/dist-packages (from mlflow) (2.23.0)\n",
            "Collecting prometheus-flask-exporter\n",
            "  Downloading prometheus_flask_exporter-0.18.2.tar.gz (22 kB)\n",
            "Collecting docker>=4.0.0\n",
            "  Downloading docker-5.0.0-py2.py3-none-any.whl (146 kB)\n",
            "\u001b[K     |████████████████████████████████| 146 kB 61.9 MB/s \n",
            "\u001b[?25hRequirement already satisfied: sqlparse>=0.3.1 in /usr/local/lib/python3.7/dist-packages (from mlflow) (0.4.1)\n",
            "Requirement already satisfied: click>=7.0 in /usr/local/lib/python3.7/dist-packages (from mlflow) (7.1.2)\n",
            "Collecting pyyaml>=5.1\n",
            "  Downloading PyYAML-5.4.1-cp37-cp37m-manylinux1_x86_64.whl (636 kB)\n",
            "\u001b[K     |████████████████████████████████| 636 kB 38.6 MB/s \n",
            "\u001b[?25hRequirement already satisfied: pandas in /usr/local/lib/python3.7/dist-packages (from mlflow) (1.1.5)\n",
            "Collecting alembic<=1.4.1\n",
            "  Downloading alembic-1.4.1.tar.gz (1.1 MB)\n",
            "\u001b[K     |████████████████████████████████| 1.1 MB 33.5 MB/s \n",
            "\u001b[?25hCollecting databricks-cli>=0.8.7\n",
            "  Downloading databricks-cli-0.14.3.tar.gz (54 kB)\n",
            "\u001b[K     |████████████████████████████████| 54 kB 2.7 MB/s \n",
            "\u001b[?25hCollecting querystring-parser\n",
            "  Downloading querystring_parser-1.2.4-py2.py3-none-any.whl (7.9 kB)\n",
            "Requirement already satisfied: cloudpickle in /usr/local/lib/python3.7/dist-packages (from mlflow) (1.3.0)\n",
            "Requirement already satisfied: entrypoints in /usr/local/lib/python3.7/dist-packages (from mlflow) (0.3)\n",
            "Requirement already satisfied: numpy in /usr/local/lib/python3.7/dist-packages (from mlflow) (1.19.5)\n",
            "Requirement already satisfied: packaging in /usr/local/lib/python3.7/dist-packages (from mlflow) (21.0)\n",
            "Requirement already satisfied: protobuf>=3.7.0 in /usr/local/lib/python3.7/dist-packages (from mlflow) (3.17.3)\n",
            "Collecting gitpython>=2.1.0\n",
            "  Downloading GitPython-3.1.18-py3-none-any.whl (170 kB)\n",
            "\u001b[K     |████████████████████████████████| 170 kB 44.2 MB/s \n",
            "\u001b[?25hCollecting Mako\n",
            "  Downloading Mako-1.1.4-py2.py3-none-any.whl (75 kB)\n",
            "\u001b[K     |████████████████████████████████| 75 kB 3.8 MB/s \n",
            "\u001b[?25hCollecting python-editor>=0.3\n",
            "  Downloading python_editor-1.0.4-py3-none-any.whl (4.9 kB)\n",
            "Requirement already satisfied: python-dateutil in /usr/local/lib/python3.7/dist-packages (from alembic<=1.4.1->mlflow) (2.8.1)\n",
            "Requirement already satisfied: tabulate>=0.7.7 in /usr/local/lib/python3.7/dist-packages (from databricks-cli>=0.8.7->mlflow) (0.8.9)\n",
            "Requirement already satisfied: six>=1.10.0 in /usr/local/lib/python3.7/dist-packages (from databricks-cli>=0.8.7->mlflow) (1.15.0)\n",
            "Collecting websocket-client>=0.32.0\n",
            "  Downloading websocket_client-1.1.0-py2.py3-none-any.whl (68 kB)\n",
            "\u001b[K     |████████████████████████████████| 68 kB 6.5 MB/s \n",
            "\u001b[?25hCollecting gitdb<5,>=4.0.1\n",
            "  Downloading gitdb-4.0.7-py3-none-any.whl (63 kB)\n",
            "\u001b[K     |████████████████████████████████| 63 kB 1.7 MB/s \n",
            "\u001b[?25hRequirement already satisfied: typing-extensions>=3.7.4.0 in /usr/local/lib/python3.7/dist-packages (from gitpython>=2.1.0->mlflow) (3.7.4.3)\n",
            "Collecting smmap<5,>=3.0.1\n",
            "  Downloading smmap-4.0.0-py2.py3-none-any.whl (24 kB)\n",
            "Requirement already satisfied: urllib3!=1.25.0,!=1.25.1,<1.26,>=1.21.1 in /usr/local/lib/python3.7/dist-packages (from requests>=2.17.3->mlflow) (1.24.3)\n",
            "Requirement already satisfied: certifi>=2017.4.17 in /usr/local/lib/python3.7/dist-packages (from requests>=2.17.3->mlflow) (2021.5.30)\n",
            "Requirement already satisfied: idna<3,>=2.5 in /usr/local/lib/python3.7/dist-packages (from requests>=2.17.3->mlflow) (2.10)\n",
            "Requirement already satisfied: chardet<4,>=3.0.2 in /usr/local/lib/python3.7/dist-packages (from requests>=2.17.3->mlflow) (3.0.4)\n",
            "Requirement already satisfied: greenlet!=0.4.17 in /usr/local/lib/python3.7/dist-packages (from sqlalchemy->mlflow) (1.1.0)\n",
            "Requirement already satisfied: importlib-metadata in /usr/local/lib/python3.7/dist-packages (from sqlalchemy->mlflow) (4.6.1)\n",
            "Requirement already satisfied: itsdangerous<2.0,>=0.24 in /usr/local/lib/python3.7/dist-packages (from Flask->mlflow) (1.1.0)\n",
            "Requirement already satisfied: Werkzeug<2.0,>=0.15 in /usr/local/lib/python3.7/dist-packages (from Flask->mlflow) (1.0.1)\n",
            "Requirement already satisfied: Jinja2<3.0,>=2.10.1 in /usr/local/lib/python3.7/dist-packages (from Flask->mlflow) (2.11.3)\n",
            "Requirement already satisfied: MarkupSafe>=0.23 in /usr/local/lib/python3.7/dist-packages (from Jinja2<3.0,>=2.10.1->Flask->mlflow) (2.0.1)\n",
            "Requirement already satisfied: setuptools>=3.0 in /usr/local/lib/python3.7/dist-packages (from gunicorn->mlflow) (57.2.0)\n",
            "Requirement already satisfied: zipp>=0.5 in /usr/local/lib/python3.7/dist-packages (from importlib-metadata->sqlalchemy->mlflow) (3.5.0)\n",
            "Requirement already satisfied: pyparsing>=2.0.2 in /usr/local/lib/python3.7/dist-packages (from packaging->mlflow) (2.4.7)\n",
            "Requirement already satisfied: prometheus_client in /usr/local/lib/python3.7/dist-packages (from prometheus-flask-exporter->mlflow) (0.11.0)\n",
            "Building wheels for collected packages: alembic, databricks-cli, prometheus-flask-exporter\n",
            "  Building wheel for alembic (setup.py) ... \u001b[?25l\u001b[?25hdone\n",
            "  Created wheel for alembic: filename=alembic-1.4.1-py2.py3-none-any.whl size=158170 sha256=62bf05ed5c5ca5984845544794200ad445d02eda920a1e0e227422de0a0bd6e0\n",
            "  Stored in directory: /root/.cache/pip/wheels/be/5d/0a/9e13f53f4f5dfb67cd8d245bb7cdffe12f135846f491a283e3\n",
            "  Building wheel for databricks-cli (setup.py) ... \u001b[?25l\u001b[?25hdone\n",
            "  Created wheel for databricks-cli: filename=databricks_cli-0.14.3-py3-none-any.whl size=100557 sha256=b2aaf76116177b8c3e457df99f56b7dd5fd797eb91a7fb652022c1217c45e95d\n",
            "  Stored in directory: /root/.cache/pip/wheels/3b/60/14/6930445b08959fbdf4e3029bac7e1f2cccb2e94df8afa00b29\n",
            "  Building wheel for prometheus-flask-exporter (setup.py) ... \u001b[?25l\u001b[?25hdone\n",
            "  Created wheel for prometheus-flask-exporter: filename=prometheus_flask_exporter-0.18.2-py3-none-any.whl size=17416 sha256=f30f8872096dfc4035afb69dbc3900d7086c9ed9a825c825db44093e52a75f1c\n",
            "  Stored in directory: /root/.cache/pip/wheels/6a/1e/1c/c765920cb92b2f0343d2dd8b481a407cee2823f9b4bbd2e52a\n",
            "Successfully built alembic databricks-cli prometheus-flask-exporter\n",
            "Installing collected packages: smmap, websocket-client, python-editor, Mako, gitdb, querystring-parser, pyyaml, prometheus-flask-exporter, gunicorn, gitpython, docker, databricks-cli, alembic, mlflow\n",
            "  Attempting uninstall: pyyaml\n",
            "    Found existing installation: PyYAML 3.13\n",
            "    Uninstalling PyYAML-3.13:\n",
            "      Successfully uninstalled PyYAML-3.13\n",
            "Successfully installed Mako-1.1.4 alembic-1.4.1 databricks-cli-0.14.3 docker-5.0.0 gitdb-4.0.7 gitpython-3.1.18 gunicorn-20.1.0 mlflow-1.19.0 prometheus-flask-exporter-0.18.2 python-editor-1.0.4 pyyaml-5.4.1 querystring-parser-1.2.4 smmap-4.0.0 websocket-client-1.1.0\n"
          ],
          "name": "stdout"
        }
      ]
    },
    {
      "cell_type": "code",
      "metadata": {
        "id": "l9P40JYa0fwX"
      },
      "source": [
        "!pip install -U -q PyDrive"
      ],
      "execution_count": null,
      "outputs": []
    },
    {
      "cell_type": "code",
      "metadata": {
        "id": "vTyH-TTQ0xpz",
        "colab": {
          "base_uri": "https://localhost:8080/"
        },
        "outputId": "941922f8-4dee-49d0-af5e-4decd6245c82"
      },
      "source": [
        "!pip install sentence-transformers"
      ],
      "execution_count": null,
      "outputs": [
        {
          "output_type": "stream",
          "text": [
            "Collecting sentence-transformers\n",
            "  Downloading sentence-transformers-2.0.0.tar.gz (85 kB)\n",
            "\u001b[K     |████████████████████████████████| 85 kB 2.5 MB/s \n",
            "\u001b[?25hCollecting transformers<5.0.0,>=4.6.0\n",
            "  Downloading transformers-4.9.1-py3-none-any.whl (2.6 MB)\n",
            "\u001b[K     |████████████████████████████████| 2.6 MB 8.7 MB/s \n",
            "\u001b[?25hRequirement already satisfied: tqdm in /usr/local/lib/python3.7/dist-packages (from sentence-transformers) (4.41.1)\n",
            "Requirement already satisfied: torch>=1.6.0 in /usr/local/lib/python3.7/dist-packages (from sentence-transformers) (1.9.0+cu102)\n",
            "Requirement already satisfied: torchvision in /usr/local/lib/python3.7/dist-packages (from sentence-transformers) (0.10.0+cu102)\n",
            "Requirement already satisfied: numpy in /usr/local/lib/python3.7/dist-packages (from sentence-transformers) (1.19.5)\n",
            "Requirement already satisfied: scikit-learn in /usr/local/lib/python3.7/dist-packages (from sentence-transformers) (0.22.2.post1)\n",
            "Requirement already satisfied: scipy in /usr/local/lib/python3.7/dist-packages (from sentence-transformers) (1.4.1)\n",
            "Requirement already satisfied: nltk in /usr/local/lib/python3.7/dist-packages (from sentence-transformers) (3.2.5)\n",
            "Collecting sentencepiece\n",
            "  Downloading sentencepiece-0.1.96-cp37-cp37m-manylinux_2_17_x86_64.manylinux2014_x86_64.whl (1.2 MB)\n",
            "\u001b[K     |████████████████████████████████| 1.2 MB 28.5 MB/s \n",
            "\u001b[?25hCollecting huggingface-hub\n",
            "  Downloading huggingface_hub-0.0.15-py3-none-any.whl (43 kB)\n",
            "\u001b[K     |████████████████████████████████| 43 kB 1.7 MB/s \n",
            "\u001b[?25hRequirement already satisfied: typing-extensions in /usr/local/lib/python3.7/dist-packages (from torch>=1.6.0->sentence-transformers) (3.7.4.3)\n",
            "Requirement already satisfied: filelock in /usr/local/lib/python3.7/dist-packages (from transformers<5.0.0,>=4.6.0->sentence-transformers) (3.0.12)\n",
            "Requirement already satisfied: requests in /usr/local/lib/python3.7/dist-packages (from transformers<5.0.0,>=4.6.0->sentence-transformers) (2.23.0)\n",
            "Collecting sacremoses\n",
            "  Downloading sacremoses-0.0.45-py3-none-any.whl (895 kB)\n",
            "\u001b[K     |████████████████████████████████| 895 kB 46.2 MB/s \n",
            "\u001b[?25hCollecting huggingface-hub\n",
            "  Downloading huggingface_hub-0.0.12-py3-none-any.whl (37 kB)\n",
            "Collecting tokenizers<0.11,>=0.10.1\n",
            "  Downloading tokenizers-0.10.3-cp37-cp37m-manylinux_2_5_x86_64.manylinux1_x86_64.manylinux_2_12_x86_64.manylinux2010_x86_64.whl (3.3 MB)\n",
            "\u001b[K     |████████████████████████████████| 3.3 MB 29.8 MB/s \n",
            "\u001b[?25hRequirement already satisfied: packaging in /usr/local/lib/python3.7/dist-packages (from transformers<5.0.0,>=4.6.0->sentence-transformers) (21.0)\n",
            "Requirement already satisfied: pyyaml>=5.1 in /usr/local/lib/python3.7/dist-packages (from transformers<5.0.0,>=4.6.0->sentence-transformers) (5.4.1)\n",
            "Requirement already satisfied: regex!=2019.12.17 in /usr/local/lib/python3.7/dist-packages (from transformers<5.0.0,>=4.6.0->sentence-transformers) (2019.12.20)\n",
            "Requirement already satisfied: importlib-metadata in /usr/local/lib/python3.7/dist-packages (from transformers<5.0.0,>=4.6.0->sentence-transformers) (4.6.1)\n",
            "Requirement already satisfied: pyparsing>=2.0.2 in /usr/local/lib/python3.7/dist-packages (from packaging->transformers<5.0.0,>=4.6.0->sentence-transformers) (2.4.7)\n",
            "Requirement already satisfied: zipp>=0.5 in /usr/local/lib/python3.7/dist-packages (from importlib-metadata->transformers<5.0.0,>=4.6.0->sentence-transformers) (3.5.0)\n",
            "Requirement already satisfied: six in /usr/local/lib/python3.7/dist-packages (from nltk->sentence-transformers) (1.15.0)\n",
            "Requirement already satisfied: urllib3!=1.25.0,!=1.25.1,<1.26,>=1.21.1 in /usr/local/lib/python3.7/dist-packages (from requests->transformers<5.0.0,>=4.6.0->sentence-transformers) (1.24.3)\n",
            "Requirement already satisfied: chardet<4,>=3.0.2 in /usr/local/lib/python3.7/dist-packages (from requests->transformers<5.0.0,>=4.6.0->sentence-transformers) (3.0.4)\n",
            "Requirement already satisfied: certifi>=2017.4.17 in /usr/local/lib/python3.7/dist-packages (from requests->transformers<5.0.0,>=4.6.0->sentence-transformers) (2021.5.30)\n",
            "Requirement already satisfied: idna<3,>=2.5 in /usr/local/lib/python3.7/dist-packages (from requests->transformers<5.0.0,>=4.6.0->sentence-transformers) (2.10)\n",
            "Requirement already satisfied: joblib in /usr/local/lib/python3.7/dist-packages (from sacremoses->transformers<5.0.0,>=4.6.0->sentence-transformers) (1.0.1)\n",
            "Requirement already satisfied: click in /usr/local/lib/python3.7/dist-packages (from sacremoses->transformers<5.0.0,>=4.6.0->sentence-transformers) (7.1.2)\n",
            "Requirement already satisfied: pillow>=5.3.0 in /usr/local/lib/python3.7/dist-packages (from torchvision->sentence-transformers) (7.1.2)\n",
            "Building wheels for collected packages: sentence-transformers\n",
            "  Building wheel for sentence-transformers (setup.py) ... \u001b[?25l\u001b[?25hdone\n",
            "  Created wheel for sentence-transformers: filename=sentence_transformers-2.0.0-py3-none-any.whl size=126709 sha256=6235db7e03cb456f50f6b6a67b085560b4d5eabfd6a66210c6264c2e264d0c33\n",
            "  Stored in directory: /root/.cache/pip/wheels/d1/c1/0f/faafd427f705c4b012274ba60d9a91d75830306811e1355293\n",
            "Successfully built sentence-transformers\n",
            "Installing collected packages: tokenizers, sacremoses, huggingface-hub, transformers, sentencepiece, sentence-transformers\n",
            "Successfully installed huggingface-hub-0.0.12 sacremoses-0.0.45 sentence-transformers-2.0.0 sentencepiece-0.1.96 tokenizers-0.10.3 transformers-4.9.1\n"
          ],
          "name": "stdout"
        }
      ]
    },
    {
      "cell_type": "code",
      "metadata": {
        "id": "6_nUX6xl02ov",
        "colab": {
          "base_uri": "https://localhost:8080/"
        },
        "outputId": "9f184628-9c7e-4dd7-c54c-02186b783b19"
      },
      "source": [
        "!pip install cloudstorage"
      ],
      "execution_count": null,
      "outputs": [
        {
          "output_type": "stream",
          "text": [
            "Collecting cloudstorage\n",
            "  Downloading cloudstorage-0.11.0-py3-none-any.whl (54 kB)\n",
            "\u001b[?25l\r\u001b[K     |██████                          | 10 kB 22.9 MB/s eta 0:00:01\r\u001b[K     |████████████                    | 20 kB 30.0 MB/s eta 0:00:01\r\u001b[K     |██████████████████▏             | 30 kB 14.2 MB/s eta 0:00:01\r\u001b[K     |████████████████████████▏       | 40 kB 11.6 MB/s eta 0:00:01\r\u001b[K     |██████████████████████████████▏ | 51 kB 5.5 MB/s eta 0:00:01\r\u001b[K     |████████████████████████████████| 54 kB 1.8 MB/s \n",
            "\u001b[?25hCollecting python-magic>=0.4.15\n",
            "  Downloading python_magic-0.4.24-py2.py3-none-any.whl (12 kB)\n",
            "Requirement already satisfied: python-dateutil>=2.7.3 in /usr/local/lib/python3.7/dist-packages (from cloudstorage) (2.8.1)\n",
            "Collecting inflection>=0.3.1\n",
            "  Downloading inflection-0.5.1-py2.py3-none-any.whl (9.5 kB)\n",
            "Requirement already satisfied: six>=1.5 in /usr/local/lib/python3.7/dist-packages (from python-dateutil>=2.7.3->cloudstorage) (1.15.0)\n",
            "Installing collected packages: python-magic, inflection, cloudstorage\n",
            "Successfully installed cloudstorage-0.11.0 inflection-0.5.1 python-magic-0.4.24\n"
          ],
          "name": "stdout"
        }
      ]
    },
    {
      "cell_type": "code",
      "metadata": {
        "id": "SH5FaZ6S09QR",
        "colab": {
          "base_uri": "https://localhost:8080/"
        },
        "outputId": "85605d91-0efa-4e4f-b1e5-e5aad344d4d4"
      },
      "source": [
        "!pip install webapp2"
      ],
      "execution_count": null,
      "outputs": [
        {
          "output_type": "stream",
          "text": [
            "Collecting webapp2\n",
            "  Downloading webapp2-2.5.2.zip (243 kB)\n",
            "\u001b[?25l\r\u001b[K     |█▍                              | 10 kB 24.5 MB/s eta 0:00:01\r\u001b[K     |██▊                             | 20 kB 30.6 MB/s eta 0:00:01\r\u001b[K     |████                            | 30 kB 12.2 MB/s eta 0:00:01\r\u001b[K     |█████▍                          | 40 kB 9.3 MB/s eta 0:00:01\r\u001b[K     |██████▊                         | 51 kB 5.2 MB/s eta 0:00:01\r\u001b[K     |████████                        | 61 kB 5.7 MB/s eta 0:00:01\r\u001b[K     |█████████▍                      | 71 kB 5.5 MB/s eta 0:00:01\r\u001b[K     |██████████▉                     | 81 kB 6.1 MB/s eta 0:00:01\r\u001b[K     |████████████▏                   | 92 kB 6.2 MB/s eta 0:00:01\r\u001b[K     |█████████████▌                  | 102 kB 5.0 MB/s eta 0:00:01\r\u001b[K     |██████████████▉                 | 112 kB 5.0 MB/s eta 0:00:01\r\u001b[K     |████████████████▏               | 122 kB 5.0 MB/s eta 0:00:01\r\u001b[K     |█████████████████▌              | 133 kB 5.0 MB/s eta 0:00:01\r\u001b[K     |██████████████████▉             | 143 kB 5.0 MB/s eta 0:00:01\r\u001b[K     |████████████████████▏           | 153 kB 5.0 MB/s eta 0:00:01\r\u001b[K     |█████████████████████▋          | 163 kB 5.0 MB/s eta 0:00:01\r\u001b[K     |███████████████████████         | 174 kB 5.0 MB/s eta 0:00:01\r\u001b[K     |████████████████████████▎       | 184 kB 5.0 MB/s eta 0:00:01\r\u001b[K     |█████████████████████████▋      | 194 kB 5.0 MB/s eta 0:00:01\r\u001b[K     |███████████████████████████     | 204 kB 5.0 MB/s eta 0:00:01\r\u001b[K     |████████████████████████████▎   | 215 kB 5.0 MB/s eta 0:00:01\r\u001b[K     |█████████████████████████████▋  | 225 kB 5.0 MB/s eta 0:00:01\r\u001b[K     |███████████████████████████████ | 235 kB 5.0 MB/s eta 0:00:01\r\u001b[K     |████████████████████████████████| 243 kB 5.0 MB/s \n",
            "\u001b[?25hBuilding wheels for collected packages: webapp2\n",
            "  Building wheel for webapp2 (setup.py) ... \u001b[?25l\u001b[?25hdone\n",
            "  Created wheel for webapp2: filename=webapp2-2.5.2-py3-none-any.whl size=64842 sha256=b081bd8e8c633ca48dcfedcb44f746069e04ad4be55564f349f4f27b6bf68714\n",
            "  Stored in directory: /root/.cache/pip/wheels/5e/b2/a4/d6d1ce12a65c39f47c390d74e273ea0c9f71f51451464b7183\n",
            "Successfully built webapp2\n",
            "Installing collected packages: webapp2\n",
            "Successfully installed webapp2-2.5.2\n"
          ],
          "name": "stdout"
        }
      ]
    },
    {
      "cell_type": "code",
      "metadata": {
        "id": "Q2apH3870_s7",
        "colab": {
          "base_uri": "https://localhost:8080/"
        },
        "outputId": "80f883c4-950e-4b0b-fef9-8f50de87292d"
      },
      "source": [
        "!pip install fsspec"
      ],
      "execution_count": null,
      "outputs": [
        {
          "output_type": "stream",
          "text": [
            "Collecting fsspec\n",
            "  Downloading fsspec-2021.7.0-py3-none-any.whl (118 kB)\n",
            "\u001b[?25l\r\u001b[K     |██▊                             | 10 kB 20.2 MB/s eta 0:00:01\r\u001b[K     |█████▌                          | 20 kB 19.9 MB/s eta 0:00:01\r\u001b[K     |████████▎                       | 30 kB 15.5 MB/s eta 0:00:01\r\u001b[K     |███████████                     | 40 kB 13.7 MB/s eta 0:00:01\r\u001b[K     |█████████████▉                  | 51 kB 4.9 MB/s eta 0:00:01\r\u001b[K     |████████████████▋               | 61 kB 5.6 MB/s eta 0:00:01\r\u001b[K     |███████████████████▍            | 71 kB 6.1 MB/s eta 0:00:01\r\u001b[K     |██████████████████████▏         | 81 kB 5.9 MB/s eta 0:00:01\r\u001b[K     |█████████████████████████       | 92 kB 5.6 MB/s eta 0:00:01\r\u001b[K     |███████████████████████████▊    | 102 kB 6.1 MB/s eta 0:00:01\r\u001b[K     |██████████████████████████████▌ | 112 kB 6.1 MB/s eta 0:00:01\r\u001b[K     |████████████████████████████████| 118 kB 6.1 MB/s \n",
            "\u001b[?25hInstalling collected packages: fsspec\n",
            "Successfully installed fsspec-2021.7.0\n"
          ],
          "name": "stdout"
        }
      ]
    },
    {
      "cell_type": "code",
      "metadata": {
        "id": "mS3O8rY91CoP",
        "colab": {
          "base_uri": "https://localhost:8080/"
        },
        "outputId": "5b918516-c055-4547-cb84-941ab00e752b"
      },
      "source": [
        "!pip install gcsfs"
      ],
      "execution_count": null,
      "outputs": [
        {
          "output_type": "stream",
          "text": [
            "Collecting gcsfs\n",
            "  Downloading gcsfs-2021.7.0-py2.py3-none-any.whl (23 kB)\n",
            "Requirement already satisfied: decorator in /usr/local/lib/python3.7/dist-packages (from gcsfs) (4.4.2)\n",
            "Requirement already satisfied: fsspec==2021.07.0 in /usr/local/lib/python3.7/dist-packages (from gcsfs) (2021.7.0)\n",
            "Requirement already satisfied: google-auth>=1.2 in /usr/local/lib/python3.7/dist-packages (from gcsfs) (1.32.1)\n",
            "Requirement already satisfied: requests in /usr/local/lib/python3.7/dist-packages (from gcsfs) (2.23.0)\n",
            "Collecting aiohttp\n",
            "  Downloading aiohttp-3.7.4.post0-cp37-cp37m-manylinux2014_x86_64.whl (1.3 MB)\n",
            "\u001b[K     |████████████████████████████████| 1.3 MB 7.6 MB/s \n",
            "\u001b[?25hRequirement already satisfied: google-auth-oauthlib in /usr/local/lib/python3.7/dist-packages (from gcsfs) (0.4.4)\n",
            "Requirement already satisfied: cachetools<5.0,>=2.0.0 in /usr/local/lib/python3.7/dist-packages (from google-auth>=1.2->gcsfs) (4.2.2)\n",
            "Requirement already satisfied: pyasn1-modules>=0.2.1 in /usr/local/lib/python3.7/dist-packages (from google-auth>=1.2->gcsfs) (0.2.8)\n",
            "Requirement already satisfied: six>=1.9.0 in /usr/local/lib/python3.7/dist-packages (from google-auth>=1.2->gcsfs) (1.15.0)\n",
            "Requirement already satisfied: rsa<5,>=3.1.4 in /usr/local/lib/python3.7/dist-packages (from google-auth>=1.2->gcsfs) (4.7.2)\n",
            "Requirement already satisfied: setuptools>=40.3.0 in /usr/local/lib/python3.7/dist-packages (from google-auth>=1.2->gcsfs) (57.2.0)\n",
            "Requirement already satisfied: pyasn1<0.5.0,>=0.4.6 in /usr/local/lib/python3.7/dist-packages (from pyasn1-modules>=0.2.1->google-auth>=1.2->gcsfs) (0.4.8)\n",
            "Requirement already satisfied: attrs>=17.3.0 in /usr/local/lib/python3.7/dist-packages (from aiohttp->gcsfs) (21.2.0)\n",
            "Collecting async-timeout<4.0,>=3.0\n",
            "  Downloading async_timeout-3.0.1-py3-none-any.whl (8.2 kB)\n",
            "Requirement already satisfied: chardet<5.0,>=2.0 in /usr/local/lib/python3.7/dist-packages (from aiohttp->gcsfs) (3.0.4)\n",
            "Collecting multidict<7.0,>=4.5\n",
            "  Downloading multidict-5.1.0-cp37-cp37m-manylinux2014_x86_64.whl (142 kB)\n",
            "\u001b[K     |████████████████████████████████| 142 kB 47.0 MB/s \n",
            "\u001b[?25hCollecting yarl<2.0,>=1.0\n",
            "  Downloading yarl-1.6.3-cp37-cp37m-manylinux2014_x86_64.whl (294 kB)\n",
            "\u001b[K     |████████████████████████████████| 294 kB 37.5 MB/s \n",
            "\u001b[?25hRequirement already satisfied: typing-extensions>=3.6.5 in /usr/local/lib/python3.7/dist-packages (from aiohttp->gcsfs) (3.7.4.3)\n",
            "Requirement already satisfied: idna>=2.0 in /usr/local/lib/python3.7/dist-packages (from yarl<2.0,>=1.0->aiohttp->gcsfs) (2.10)\n",
            "Requirement already satisfied: requests-oauthlib>=0.7.0 in /usr/local/lib/python3.7/dist-packages (from google-auth-oauthlib->gcsfs) (1.3.0)\n",
            "Requirement already satisfied: oauthlib>=3.0.0 in /usr/local/lib/python3.7/dist-packages (from requests-oauthlib>=0.7.0->google-auth-oauthlib->gcsfs) (3.1.1)\n",
            "Requirement already satisfied: certifi>=2017.4.17 in /usr/local/lib/python3.7/dist-packages (from requests->gcsfs) (2021.5.30)\n",
            "Requirement already satisfied: urllib3!=1.25.0,!=1.25.1,<1.26,>=1.21.1 in /usr/local/lib/python3.7/dist-packages (from requests->gcsfs) (1.24.3)\n",
            "Installing collected packages: multidict, yarl, async-timeout, aiohttp, gcsfs\n",
            "Successfully installed aiohttp-3.7.4.post0 async-timeout-3.0.1 gcsfs-2021.7.0 multidict-5.1.0 yarl-1.6.3\n"
          ],
          "name": "stdout"
        }
      ]
    },
    {
      "cell_type": "code",
      "metadata": {
        "colab": {
          "base_uri": "https://localhost:8080/"
        },
        "id": "PiwcRS5GgpUn",
        "outputId": "6da6b605-874b-4a35-8f21-3a52fc13b856"
      },
      "source": [
        "!pip install spark"
      ],
      "execution_count": null,
      "outputs": [
        {
          "output_type": "stream",
          "text": [
            "Collecting spark\n",
            "  Downloading spark-0.2.1.tar.gz (41 kB)\n",
            "\u001b[?25l\r\u001b[K     |████████                        | 10 kB 28.6 MB/s eta 0:00:01\r\u001b[K     |████████████████                | 20 kB 23.7 MB/s eta 0:00:01\r\u001b[K     |████████████████████████        | 30 kB 12.2 MB/s eta 0:00:01\r\u001b[K     |████████████████████████████████| 40 kB 9.7 MB/s eta 0:00:01\r\u001b[K     |████████████████████████████████| 41 kB 58 kB/s \n",
            "\u001b[?25hBuilding wheels for collected packages: spark\n",
            "  Building wheel for spark (setup.py) ... \u001b[?25l\u001b[?25hdone\n",
            "  Created wheel for spark: filename=spark-0.2.1-py3-none-any.whl size=58762 sha256=4281da7a791ba7b2a47a6af800705430f498c72cce0072dfebecc08d748e061b\n",
            "  Stored in directory: /root/.cache/pip/wheels/4e/0e/f1/164619f9920fb447d294afaae11a7715bd442ded7225953d72\n",
            "Successfully built spark\n",
            "Installing collected packages: spark\n",
            "Successfully installed spark-0.2.1\n"
          ],
          "name": "stdout"
        }
      ]
    },
    {
      "cell_type": "markdown",
      "metadata": {
        "id": "SewhEFFrTDxx"
      },
      "source": [
        "# Import"
      ]
    },
    {
      "cell_type": "code",
      "metadata": {
        "id": "UYk9IiC47eE2"
      },
      "source": [
        "import pandas as pd\n",
        "import zipfile\n",
        "from google.colab import drive\n",
        "import re\n",
        "import time\n",
        "import glob\n",
        "import numpy as np\n",
        "import datetime as dt\n",
        "from calendar import monthrange\n",
        "import nltk\n",
        "import PyPDF2\n",
        "from sentence_transformers import SentenceTransformer\n",
        "import cloudstorage as gcs\n",
        "from sklearn.metrics.pairwise import cosine_similarity\n",
        "import matplotlib.pyplot as plt\n",
        "import matplotlib.ticker as mtick\n",
        "import spark\n",
        "import tensorflow as tf\n",
        "import tensorflow_hub as hub\n",
        "from nltk.tokenize import sent_tokenize"
      ],
      "execution_count": null,
      "outputs": []
    },
    {
      "cell_type": "code",
      "metadata": {
        "id": "DKvIfbaJGTIn",
        "colab": {
          "base_uri": "https://localhost:8080/"
        },
        "outputId": "1f0e50d1-c62d-49da-9e65-82bccbcf078a"
      },
      "source": [
        "nltk.download('punkt')"
      ],
      "execution_count": null,
      "outputs": [
        {
          "output_type": "stream",
          "text": [
            "[nltk_data] Downloading package punkt to /root/nltk_data...\n",
            "[nltk_data]   Unzipping tokenizers/punkt.zip.\n"
          ],
          "name": "stdout"
        },
        {
          "output_type": "execute_result",
          "data": {
            "text/plain": [
              "True"
            ]
          },
          "metadata": {
            "tags": []
          },
          "execution_count": 16
        }
      ]
    },
    {
      "cell_type": "markdown",
      "metadata": {
        "id": "1Z1iBRqa9Vx6"
      },
      "source": [
        "# Data Prep"
      ]
    },
    {
      "cell_type": "code",
      "metadata": {
        "id": "vMvCASUXwznO",
        "colab": {
          "base_uri": "https://localhost:8080/"
        },
        "outputId": "6cce53dc-9a99-4a87-96ed-2df13de3feb1"
      },
      "source": [
        "read_10q_df = pd.read_csv(\"gs://esgbert_resourses/raw_data/sen_res_10Q_201318.csv\")\n",
        "#read_10q_df"
      ],
      "execution_count": null,
      "outputs": [
        {
          "output_type": "stream",
          "text": [
            "/usr/local/lib/python3.7/dist-packages/google/auth/_default.py:70: UserWarning: Your application has authenticated using end user credentials from Google Cloud SDK without a quota project. You might receive a \"quota exceeded\" or \"API not enabled\" error. We recommend you rerun `gcloud auth application-default login` and make sure a quota project is added. Or you can use service accounts instead. For more information about service accounts, see https://cloud.google.com/docs/authentication/\n",
            "  warnings.warn(_CLOUD_SDK_CREDENTIALS_WARNING)\n"
          ],
          "name": "stderr"
        }
      ]
    },
    {
      "cell_type": "code",
      "metadata": {
        "id": "zcFjlxNrNZ3m"
      },
      "source": [
        "subset_read_10q_df = read_10q_df[(read_10q_df.environment_score_quarter_change_pure!=0)]#&(read_10q_df.year==2017)]#&(read_10q_df.quarter==1)"
      ],
      "execution_count": null,
      "outputs": []
    },
    {
      "cell_type": "code",
      "metadata": {
        "colab": {
          "base_uri": "https://localhost:8080/"
        },
        "id": "w3fW_gshNKDP",
        "outputId": "c6186e97-c384-42d8-b6eb-101eb98db863"
      },
      "source": [
        "len(subset_read_10q_df)"
      ],
      "execution_count": null,
      "outputs": [
        {
          "output_type": "execute_result",
          "data": {
            "text/plain": [
              "2274"
            ]
          },
          "metadata": {
            "tags": []
          },
          "execution_count": 64
        }
      ]
    },
    {
      "cell_type": "code",
      "metadata": {
        "id": "OgdKRXxYp-yH"
      },
      "source": [
        "env_words = ['environment', 'global warming', 'emissions', 'assessment', 'oil spill', 'commitment', 'toxic', \n",
        "             'waste', 'pollution', 'environmental', 'hazardous', 'energy', 'natural resource', 'conservation', 'contamination', \n",
        "             'sustainability', 'sustainable', 'climate change', 'renewable', 'renew', 'reuse', 'recycle', 'mitigation',\n",
        "             'solar', 'wind', 'hydro']"
      ],
      "execution_count": null,
      "outputs": []
    },
    {
      "cell_type": "code",
      "metadata": {
        "id": "vE9_8djOpkWJ"
      },
      "source": [
        "def sent_contains_env_word(s):\n",
        "  contained_sents = []\n",
        "  s_tokenized = sent_tokenize(s)\n",
        "  for t in s_tokenized:\n",
        "    if(any(w in t for w in env_words)):\n",
        "      contained_sents.append(t)\n",
        "  return ' '.join(contained_sents)"
      ],
      "execution_count": null,
      "outputs": []
    },
    {
      "cell_type": "code",
      "metadata": {
        "colab": {
          "base_uri": "https://localhost:8080/"
        },
        "id": "9uAwil2Ot15Q",
        "outputId": "02caa743-a8c4-4883-d6f4-b622cf65c54d"
      },
      "source": [
        "subset_read_10q_df['contained_env_words_sents'] = subset_read_10q_df['Reports'].apply(lambda row: sent_contains_env_word(row))"
      ],
      "execution_count": null,
      "outputs": [
        {
          "output_type": "stream",
          "text": [
            "/usr/local/lib/python3.7/dist-packages/ipykernel_launcher.py:1: SettingWithCopyWarning: \n",
            "A value is trying to be set on a copy of a slice from a DataFrame.\n",
            "Try using .loc[row_indexer,col_indexer] = value instead\n",
            "\n",
            "See the caveats in the documentation: https://pandas.pydata.org/pandas-docs/stable/user_guide/indexing.html#returning-a-view-versus-a-copy\n",
            "  \"\"\"Entry point for launching an IPython kernel.\n"
          ],
          "name": "stderr"
        }
      ]
    },
    {
      "cell_type": "code",
      "metadata": {
        "colab": {
          "base_uri": "https://localhost:8080/"
        },
        "id": "PUOXYi5auUmt",
        "outputId": "854494ac-9c25-4a49-a3c0-d5dd5912f283"
      },
      "source": [
        "print(\"from\", len(subset_read_10q_df.iloc[0,17]), \"to\", len(subset_read_10q_df.iloc[0,20]))"
      ],
      "execution_count": null,
      "outputs": [
        {
          "output_type": "stream",
          "text": [
            "from 208788 to 14270\n"
          ],
          "name": "stdout"
        }
      ]
    },
    {
      "cell_type": "code",
      "metadata": {
        "id": "VOGpOxqb82f5"
      },
      "source": [
        "# function to remove numbers\n",
        "def remove_numbers(text):\n",
        "    # define the pattern to keep\n",
        "    pattern = r'[^a-zA-z.,!?/:;\\\"\\'\\s]' \n",
        "    return re.sub(pattern, ' _NUMBER_ ', text)\n"
      ],
      "execution_count": null,
      "outputs": []
    },
    {
      "cell_type": "code",
      "metadata": {
        "colab": {
          "base_uri": "https://localhost:8080/"
        },
        "id": "7-ZiiSBd9OL4",
        "outputId": "be5257b7-3bba-48e7-fd39-aa2d7872e71a"
      },
      "source": [
        "subset_read_10q_df['contained_env_words_sents_num_removed'] = subset_read_10q_df['contained_env_words_sents'].apply(lambda row: remove_numbers(row))"
      ],
      "execution_count": null,
      "outputs": [
        {
          "output_type": "stream",
          "text": [
            "/usr/local/lib/python3.7/dist-packages/ipykernel_launcher.py:1: SettingWithCopyWarning: \n",
            "A value is trying to be set on a copy of a slice from a DataFrame.\n",
            "Try using .loc[row_indexer,col_indexer] = value instead\n",
            "\n",
            "See the caveats in the documentation: https://pandas.pydata.org/pandas-docs/stable/user_guide/indexing.html#returning-a-view-versus-a-copy\n",
            "  \"\"\"Entry point for launching an IPython kernel.\n"
          ],
          "name": "stderr"
        }
      ]
    },
    {
      "cell_type": "code",
      "metadata": {
        "colab": {
          "base_uri": "https://localhost:8080/"
        },
        "id": "u8tVQGm55yL6",
        "outputId": "5c0ab71a-49d7-4da3-dbb9-7f7d1101589c"
      },
      "source": [
        "!gcloud config set project w266-313108"
      ],
      "execution_count": null,
      "outputs": [
        {
          "output_type": "stream",
          "text": [
            "Updated property [core/project].\n"
          ],
          "name": "stdout"
        }
      ]
    },
    {
      "cell_type": "markdown",
      "metadata": {
        "id": "s0NBw19o1UHS"
      },
      "source": [
        "# Universal Sentence Encoder"
      ]
    },
    {
      "cell_type": "code",
      "metadata": {
        "colab": {
          "base_uri": "https://localhost:8080/"
        },
        "id": "R2CKPWKa4YkS",
        "outputId": "cf4a81bc-ec37-4fcd-dfe5-ffd86814c6d7"
      },
      "source": [
        "module_url = \"https://tfhub.dev/google/universal-sentence-encoder/4\" \n",
        "use_model = hub.load(module_url)\n",
        "print (\"module %s loaded\" % module_url)"
      ],
      "execution_count": null,
      "outputs": [
        {
          "output_type": "stream",
          "text": [
            "INFO:absl:Using /tmp/tfhub_modules to cache modules.\n",
            "INFO:absl:Downloading TF-Hub Module 'https://tfhub.dev/google/universal-sentence-encoder/4'.\n",
            "INFO:absl:Downloaded https://tfhub.dev/google/universal-sentence-encoder/4, Total size: 987.47MB\n",
            "INFO:absl:Downloaded TF-Hub Module 'https://tfhub.dev/google/universal-sentence-encoder/4'.\n"
          ],
          "name": "stderr"
        },
        {
          "output_type": "stream",
          "text": [
            "module https://tfhub.dev/google/universal-sentence-encoder/4 loaded\n"
          ],
          "name": "stdout"
        }
      ]
    },
    {
      "cell_type": "code",
      "metadata": {
        "id": "RqO-kyue44yR"
      },
      "source": [
        "new_sentences = [\"The Company announced that it is on track to meet goals to further reduce emissions from its operations, including a _NUMBER_-percent decrease in methane emissions and a _NUMBER_-percent reduction in flaring by year-end _NUMBER_ help meet society's ambition for a lower-carbon future.\",\n",
        "                 \"The Company is making significant investments in renewablec energy and sustainability initiatives: Running on _NUMBER_% renewable energy by _NUMBER_. The company has over _NUMBER_ renewable energy projects that saved more than _NUMBER_,_NUMBER_ tons of packaging material.\",\n",
        "                 \"The Company demonstrates corporate leadership on climate change by setting strong goals and taking purposeful action in and outside our company. Our climate change strategy is based on mitigation, resilience and enablement. Progress Toward Energy Intensity Reduction, Emissions Reduction, Refurbish, Reuse, Recycle\",\n",
        "                 \"The Company has not made investments in renewable energy and sustainability initiatives and risks not meeting EPA suggestions.\",\n",
        "                 \"The Board failed to establish a Public Policy and Sustainability Committee in _NUMBER_ which causes concern over key sustainability and public policy matters.\",\n",
        "                 \"The Company has further increased emissions and holds environmental liability.\"\n",
        "]"
      ],
      "execution_count": null,
      "outputs": []
    },
    {
      "cell_type": "code",
      "metadata": {
        "id": "GVL4qB-kERMp"
      },
      "source": [
        "one_compare_sent = [\"environment global warming emissions assessment oil spill commitment toxic waste pollution environmental hazardous energy natural resource conservation contamination sustainability sustainable climate change renewable renew reuse recycle mitigation solar wind hydro\"]"
      ],
      "execution_count": null,
      "outputs": []
    },
    {
      "cell_type": "code",
      "metadata": {
        "id": "QMPwCOuSCvZC"
      },
      "source": [
        "def cosine(u, v):\n",
        "    return np.dot(u, v) / (np.linalg.norm(u) * np.linalg.norm(v))"
      ],
      "execution_count": null,
      "outputs": []
    },
    {
      "cell_type": "code",
      "metadata": {
        "id": "i8uEb3_--fwD"
      },
      "source": [
        "def top_3_sents_use(s, compare_sentences):\n",
        "  dict_for_sents = {}\n",
        "  tokenized_sents = sent_tokenize(s)\n",
        "  for sent in tokenized_sents:\n",
        "    sims = []\n",
        "    for c in compare_sentences:\n",
        "      sim = cosine(use_model([c])[0], use_model([sent])[0])\n",
        "      sims.append(abs(sim))\n",
        "    dict_for_sents[sent] = np.max(sims)\n",
        "  return ' '.join([k[0] for k in sorted(dict_for_sents.items(), key=lambda item: item[1])[-3:]])"
      ],
      "execution_count": null,
      "outputs": []
    },
    {
      "cell_type": "code",
      "metadata": {
        "id": "Qj_lxK3qALUL"
      },
      "source": [
        "first_report_tokenized = sent_tokenize(read_10q_df.iloc[0,17])"
      ],
      "execution_count": null,
      "outputs": []
    },
    {
      "cell_type": "code",
      "metadata": {
        "colab": {
          "base_uri": "https://localhost:8080/"
        },
        "id": "JVegqZlxB6-K",
        "outputId": "ff96d1e3-1156-4838-b310-4adad049317c"
      },
      "source": [
        "len(top_3_sents_use(read_10q_df.iloc[0,17]))"
      ],
      "execution_count": null,
      "outputs": [
        {
          "output_type": "execute_result",
          "data": {
            "text/plain": [
              "818"
            ]
          },
          "metadata": {
            "tags": []
          },
          "execution_count": 22
        }
      ]
    },
    {
      "cell_type": "markdown",
      "metadata": {
        "id": "6KaRKL8KNTcC"
      },
      "source": [
        "# Adding Column for Top 3 Sents per Universal Sentence Encoder (USE)"
      ]
    },
    {
      "cell_type": "code",
      "metadata": {
        "colab": {
          "base_uri": "https://localhost:8080/"
        },
        "id": "_CNVjore-mWv",
        "outputId": "0b9fc06b-e531-4b8f-a529-963685045769"
      },
      "source": [
        "subset_read_10q_df['top_3_sents_use'] = subset_read_10q_df['contained_env_words_sents_num_removed'].apply(lambda row: top_3_sents_use(row))"
      ],
      "execution_count": null,
      "outputs": [
        {
          "output_type": "stream",
          "text": [
            "/usr/local/lib/python3.7/dist-packages/ipykernel_launcher.py:1: SettingWithCopyWarning: \n",
            "A value is trying to be set on a copy of a slice from a DataFrame.\n",
            "Try using .loc[row_indexer,col_indexer] = value instead\n",
            "\n",
            "See the caveats in the documentation: https://pandas.pydata.org/pandas-docs/stable/user_guide/indexing.html#returning-a-view-versus-a-copy\n",
            "  \"\"\"Entry point for launching an IPython kernel.\n"
          ],
          "name": "stderr"
        }
      ]
    },
    {
      "cell_type": "code",
      "metadata": {
        "colab": {
          "base_uri": "https://localhost:8080/"
        },
        "id": "YnxPCBf3dV2h",
        "outputId": "c04cc846-01a6-4a56-8bdf-9256a9497b8d"
      },
      "source": [
        "len(subset_read_10q_df)"
      ],
      "execution_count": null,
      "outputs": [
        {
          "output_type": "execute_result",
          "data": {
            "text/plain": [
              "2274"
            ]
          },
          "metadata": {
            "tags": []
          },
          "execution_count": 80
        }
      ]
    },
    {
      "cell_type": "code",
      "metadata": {
        "colab": {
          "base_uri": "https://localhost:8080/"
        },
        "id": "5gvpcgulQZGi",
        "outputId": "e94bef88-d329-4f68-e734-e22abb989597"
      },
      "source": [
        "type(subset_read_10q_df)"
      ],
      "execution_count": null,
      "outputs": [
        {
          "output_type": "execute_result",
          "data": {
            "text/plain": [
              "pandas.core.frame.DataFrame"
            ]
          },
          "metadata": {
            "tags": []
          },
          "execution_count": 150
        }
      ]
    },
    {
      "cell_type": "code",
      "metadata": {
        "id": "XT8lJWozyEK9"
      },
      "source": [
        "subset_read_10q_df.to_csv('no_0_change_read_10q_df_with_top_3_use.csv')"
      ],
      "execution_count": null,
      "outputs": []
    },
    {
      "cell_type": "code",
      "metadata": {
        "colab": {
          "base_uri": "https://localhost:8080/"
        },
        "id": "ptpm8WUwyIWS",
        "outputId": "3a9f9753-e921-4a20-b251-7e75262cd132"
      },
      "source": [
        "!gsutil cp no_0_change_read_10q_df_with_top_3_use.csv gs://esgbert_resourses/raw_data/"
      ],
      "execution_count": null,
      "outputs": [
        {
          "output_type": "stream",
          "text": [
            "Copying file://no_0_change_read_10q_df_with_top_3_use.csv [Content-Type=text/csv]...\n",
            "/ [0 files][    0.0 B/721.7 MiB]                                                \r==> NOTE: You are uploading one or more large file(s), which would run\n",
            "significantly faster if you enable parallel composite uploads. This\n",
            "feature can be enabled by editing the\n",
            "\"parallel_composite_upload_threshold\" value in your .boto\n",
            "configuration file. However, note that if you do this large files will\n",
            "be uploaded as `composite objects\n",
            "<https://cloud.google.com/storage/docs/composite-objects>`_,which\n",
            "means that any user who downloads such objects will need to have a\n",
            "compiled crcmod installed (see \"gsutil help crcmod\"). This is because\n",
            "without a compiled crcmod, computing checksums on composite objects is\n",
            "so slow that gsutil disables downloads of composite objects.\n",
            "\n",
            "/\n",
            "Operation completed over 1 objects/721.7 MiB.                                    \n"
          ],
          "name": "stdout"
        }
      ]
    },
    {
      "cell_type": "code",
      "metadata": {
        "id": "9Vavl8PwZQuT",
        "colab": {
          "base_uri": "https://localhost:8080/"
        },
        "outputId": "022606f9-6732-494b-d395-0413c4e87dd6"
      },
      "source": [
        "subset_read_10q_df = pd.read_csv(\"gs://esgbert_resourses/raw_data/no_0_change_read_10q_df_with_top_3_use.csv\")"
      ],
      "execution_count": null,
      "outputs": [
        {
          "output_type": "stream",
          "text": [
            "/usr/local/lib/python3.7/dist-packages/google/auth/_default.py:70: UserWarning: Your application has authenticated using end user credentials from Google Cloud SDK without a quota project. You might receive a \"quota exceeded\" or \"API not enabled\" error. We recommend you rerun `gcloud auth application-default login` and make sure a quota project is added. Or you can use service accounts instead. For more information about service accounts, see https://cloud.google.com/docs/authentication/\n",
            "  warnings.warn(_CLOUD_SDK_CREDENTIALS_WARNING)\n"
          ],
          "name": "stderr"
        }
      ]
    },
    {
      "cell_type": "code",
      "metadata": {
        "colab": {
          "base_uri": "https://localhost:8080/"
        },
        "id": "1qgGgktMZ7fQ",
        "outputId": "8f60ab9e-74c4-4102-b3b4-dd49f2c7d479"
      },
      "source": [
        "subset_read_10q_df.iloc[0]"
      ],
      "execution_count": null,
      "outputs": [
        {
          "output_type": "execute_result",
          "data": {
            "text/plain": [
              "Unnamed: 0                                                                               1\n",
              "Unnamed: 0.1                                                                             1\n",
              "origin_idx                                                                              41\n",
              "CIK                                                                                1090872\n",
              "date                                                                            2016-06-30\n",
              "total_esg_score                                                                      71.96\n",
              "total_esg_score_quarter_change_pure                                                  -2.98\n",
              "total_esg_score_quarter_change_pct                                              -0.0414119\n",
              "governance_score_quarter_change_pure                                                   1.2\n",
              "governance_score_quarter_change_pct                                               0.019861\n",
              "social_score_quarter_change_pure                                                    -10.44\n",
              "social_score_quarter_change_pct                                                  -0.141024\n",
              "environment_score_quarter_change_pure                                                 5.43\n",
              "environment_score_quarter_change_pct                                              0.066155\n",
              "quarter                                                                                  2\n",
              "year                                                                                  2016\n",
              "month                                                                                    6\n",
              "ReportType                                                                             10Q\n",
              "Reports                                   0001090872-16-000076.txt : 2016090710-Q 1 a-0...\n",
              "reports_ordered                          In addition, the operation of Dako within Agil...\n",
              "reports_cosines                          0.8 0.78 0.78 0.76 0.76 0.76 0.75 0.75 0.75 0....\n",
              "contained_env_words_sents                The reassessment process considers whether we ...\n",
              "contained_env_words_sents_num_removed    The reassessment process considers whether we ...\n",
              "top_3_sents_use                          While we have divested substantially all of ou...\n",
              "Name: 0, dtype: object"
            ]
          },
          "metadata": {
            "tags": []
          },
          "execution_count": 17
        }
      ]
    },
    {
      "cell_type": "code",
      "metadata": {
        "colab": {
          "base_uri": "https://localhost:8080/",
          "height": 1000
        },
        "id": "7DCrUNXk4rxU",
        "outputId": "29ea632d-ef59-493a-917c-4d03a32ec38c"
      },
      "source": [
        "concatenated_filtered_cik_dfs"
      ],
      "execution_count": null,
      "outputs": [
        {
          "output_type": "execute_result",
          "data": {
            "text/html": [
              "<div>\n",
              "<style scoped>\n",
              "    .dataframe tbody tr th:only-of-type {\n",
              "        vertical-align: middle;\n",
              "    }\n",
              "\n",
              "    .dataframe tbody tr th {\n",
              "        vertical-align: top;\n",
              "    }\n",
              "\n",
              "    .dataframe thead th {\n",
              "        text-align: right;\n",
              "    }\n",
              "</style>\n",
              "<table border=\"1\" class=\"dataframe\">\n",
              "  <thead>\n",
              "    <tr style=\"text-align: right;\">\n",
              "      <th></th>\n",
              "      <th>Unnamed: 0</th>\n",
              "      <th>Unnamed: 0.1</th>\n",
              "      <th>Unnamed: 0.1.1</th>\n",
              "      <th>origin_idx</th>\n",
              "      <th>CIK</th>\n",
              "      <th>date</th>\n",
              "      <th>total_esg_score</th>\n",
              "      <th>total_esg_score_quarter_change_pure</th>\n",
              "      <th>total_esg_score_quarter_change_pct</th>\n",
              "      <th>governance_score_quarter_change_pure</th>\n",
              "      <th>governance_score_quarter_change_pct</th>\n",
              "      <th>social_score_quarter_change_pure</th>\n",
              "      <th>social_score_quarter_change_pct</th>\n",
              "      <th>environment_score_quarter_change_pure</th>\n",
              "      <th>environment_score_quarter_change_pct</th>\n",
              "      <th>quarter</th>\n",
              "      <th>year</th>\n",
              "      <th>month</th>\n",
              "      <th>ReportType</th>\n",
              "      <th>Reports</th>\n",
              "      <th>reports_ordered</th>\n",
              "      <th>reports_cosines</th>\n",
              "      <th>contained_env_words_sents</th>\n",
              "      <th>contained_env_words_sents_num_removed</th>\n",
              "      <th>top_3_sents_use</th>\n",
              "      <th>contained_env_words_sents_num_boiler_plt_removed</th>\n",
              "    </tr>\n",
              "  </thead>\n",
              "  <tbody>\n",
              "    <tr>\n",
              "      <th>0</th>\n",
              "      <td>0</td>\n",
              "      <td>1</td>\n",
              "      <td>1</td>\n",
              "      <td>41</td>\n",
              "      <td>1090872</td>\n",
              "      <td>2016-06-30</td>\n",
              "      <td>71.96</td>\n",
              "      <td>-2.98</td>\n",
              "      <td>-0.041412</td>\n",
              "      <td>1.20</td>\n",
              "      <td>0.019861</td>\n",
              "      <td>-10.44</td>\n",
              "      <td>-0.141024</td>\n",
              "      <td>5.43</td>\n",
              "      <td>0.066155</td>\n",
              "      <td>2</td>\n",
              "      <td>2016</td>\n",
              "      <td>6</td>\n",
              "      <td>10Q</td>\n",
              "      <td>0001090872-16-000076.txt : 2016090710-Q 1 a-0...</td>\n",
              "      <td>In addition, the operation of Dako within Agil...</td>\n",
              "      <td>0.8 0.78 0.78 0.76 0.76 0.76 0.75 0.75 0.75 0....</td>\n",
              "      <td>The reassessment process considers whether we ...</td>\n",
              "      <td>The reassessment process considers whether we ...</td>\n",
              "      <td>The following table summarizes our expected ob...</td>\n",
              "      <td>This senior credit facility allows us to reque...</td>\n",
              "    </tr>\n",
              "    <tr>\n",
              "      <th>1</th>\n",
              "      <td>1</td>\n",
              "      <td>3</td>\n",
              "      <td>3</td>\n",
              "      <td>50</td>\n",
              "      <td>1090872</td>\n",
              "      <td>2017-03-31</td>\n",
              "      <td>66.25</td>\n",
              "      <td>0.14</td>\n",
              "      <td>0.002113</td>\n",
              "      <td>0.00</td>\n",
              "      <td>0.000000</td>\n",
              "      <td>0.00</td>\n",
              "      <td>0.000000</td>\n",
              "      <td>0.55</td>\n",
              "      <td>0.006285</td>\n",
              "      <td>1</td>\n",
              "      <td>2017</td>\n",
              "      <td>3</td>\n",
              "      <td>10Q</td>\n",
              "      <td>0001090872-17-000008.txt : 2017060610-Q 1 a-0...</td>\n",
              "      <td>Our customers and we are subject to various go...</td>\n",
              "      <td>0.78 0.77 0.76 0.76 0.76 0.76 0.75 0.75 0.75 0...</td>\n",
              "      <td>The reassessment process considers whether we ...</td>\n",
              "      <td>The reassessment process considers whether we ...</td>\n",
              "      <td>This senior credit facility allows us to reque...</td>\n",
              "      <td>This senior credit facility allows us to reque...</td>\n",
              "    </tr>\n",
              "    <tr>\n",
              "      <th>2</th>\n",
              "      <td>2</td>\n",
              "      <td>6</td>\n",
              "      <td>6</td>\n",
              "      <td>62</td>\n",
              "      <td>1090872</td>\n",
              "      <td>2018-03-29</td>\n",
              "      <td>65.76</td>\n",
              "      <td>-0.18</td>\n",
              "      <td>-0.002737</td>\n",
              "      <td>2.80</td>\n",
              "      <td>0.046838</td>\n",
              "      <td>2.62</td>\n",
              "      <td>0.046167</td>\n",
              "      <td>-8.80</td>\n",
              "      <td>-0.098710</td>\n",
              "      <td>1</td>\n",
              "      <td>2018</td>\n",
              "      <td>3</td>\n",
              "      <td>10Q</td>\n",
              "      <td>0001090872-18-000009.txt : 2018053110-Q 1 a-0...</td>\n",
              "      <td>Our customers and we are subject to various go...</td>\n",
              "      <td>0.78 0.77 0.76 0.76 0.76 0.76 0.76 0.75 0.75 0...</td>\n",
              "      <td>The reassessment process considers whether we ...</td>\n",
              "      <td>The reassessment process considers whether we ...</td>\n",
              "      <td>The following table summarizes our expected ob...</td>\n",
              "      <td>This senior credit facility allows us to reque...</td>\n",
              "    </tr>\n",
              "    <tr>\n",
              "      <th>3</th>\n",
              "      <td>3</td>\n",
              "      <td>9</td>\n",
              "      <td>9</td>\n",
              "      <td>151</td>\n",
              "      <td>320193</td>\n",
              "      <td>2016-03-31</td>\n",
              "      <td>62.36</td>\n",
              "      <td>-0.03</td>\n",
              "      <td>-0.000481</td>\n",
              "      <td>0.00</td>\n",
              "      <td>0.000000</td>\n",
              "      <td>-0.80</td>\n",
              "      <td>-0.017723</td>\n",
              "      <td>0.62</td>\n",
              "      <td>0.008003</td>\n",
              "      <td>1</td>\n",
              "      <td>2016</td>\n",
              "      <td>3</td>\n",
              "      <td>10Q</td>\n",
              "      <td>0001193125-16-559625.txt : 2016042710-Q 1 d16...</td>\n",
              "      <td>Any such costs, which may rise in the future a...</td>\n",
              "      <td>0.78 0.78 0.76 0.76 0.76 0.75 0.75 0.74 0.73 0...</td>\n",
              "      <td>The Company has entered into agreements for th...</td>\n",
              "      <td>The Company has entered into agreements for th...</td>\n",
              "      <td>Due to declining sales and operating profits b...</td>\n",
              "      <td>This new senior credit facility has a five yea...</td>\n",
              "    </tr>\n",
              "    <tr>\n",
              "      <th>4</th>\n",
              "      <td>4</td>\n",
              "      <td>11</td>\n",
              "      <td>11</td>\n",
              "      <td>160</td>\n",
              "      <td>320193</td>\n",
              "      <td>2016-12-30</td>\n",
              "      <td>67.36</td>\n",
              "      <td>-0.08</td>\n",
              "      <td>-0.001188</td>\n",
              "      <td>0.00</td>\n",
              "      <td>0.000000</td>\n",
              "      <td>0.00</td>\n",
              "      <td>0.000000</td>\n",
              "      <td>-0.22</td>\n",
              "      <td>-0.002621</td>\n",
              "      <td>4</td>\n",
              "      <td>2016</td>\n",
              "      <td>12</td>\n",
              "      <td>10Q</td>\n",
              "      <td>0001628280-17-000717.txt : 2017020110-Q 1 a10...</td>\n",
              "      <td>Any such costs, which may rise in the future a...</td>\n",
              "      <td>0.78 0.77 0.76 0.76 0.76 0.76 0.74 0.73 0.73 0...</td>\n",
              "      <td>The Company has entered into agreements for th...</td>\n",
              "      <td>The Company has entered into agreements for th...</td>\n",
              "      <td>For example, in October _NUMBER__NUMBER__NUMBE...</td>\n",
              "      <td>Fair Value Measurement of Assets and Liabiliti...</td>\n",
              "    </tr>\n",
              "    <tr>\n",
              "      <th>...</th>\n",
              "      <td>...</td>\n",
              "      <td>...</td>\n",
              "      <td>...</td>\n",
              "      <td>...</td>\n",
              "      <td>...</td>\n",
              "      <td>...</td>\n",
              "      <td>...</td>\n",
              "      <td>...</td>\n",
              "      <td>...</td>\n",
              "      <td>...</td>\n",
              "      <td>...</td>\n",
              "      <td>...</td>\n",
              "      <td>...</td>\n",
              "      <td>...</td>\n",
              "      <td>...</td>\n",
              "      <td>...</td>\n",
              "      <td>...</td>\n",
              "      <td>...</td>\n",
              "      <td>...</td>\n",
              "      <td>...</td>\n",
              "      <td>...</td>\n",
              "      <td>...</td>\n",
              "      <td>...</td>\n",
              "      <td>...</td>\n",
              "      <td>...</td>\n",
              "      <td>...</td>\n",
              "    </tr>\n",
              "    <tr>\n",
              "      <th>2269</th>\n",
              "      <td>2269</td>\n",
              "      <td>5934</td>\n",
              "      <td>2961</td>\n",
              "      <td>30765</td>\n",
              "      <td>1604778</td>\n",
              "      <td>2015-12-31</td>\n",
              "      <td>51.00</td>\n",
              "      <td>0.41</td>\n",
              "      <td>0.008039</td>\n",
              "      <td>0.45</td>\n",
              "      <td>0.007377</td>\n",
              "      <td>-0.08</td>\n",
              "      <td>-0.001633</td>\n",
              "      <td>0.31</td>\n",
              "      <td>0.006596</td>\n",
              "      <td>4</td>\n",
              "      <td>2015</td>\n",
              "      <td>12</td>\n",
              "      <td>10Q</td>\n",
              "      <td>0001604778-16-000133.txt : 2016021010-Q 1 qor...</td>\n",
              "      <td>These and other risks and uncertainties, which...</td>\n",
              "      <td>0.78 0.78 0.77 0.71 0.71 0.71 0.7 0.7 0.69 0.6...</td>\n",
              "      <td>The Credit Agreement also contains customary e...</td>\n",
              "      <td>The Credit Agreement also contains customary e...</td>\n",
              "      <td>NaN</td>\n",
              "      <td>NaN</td>\n",
              "    </tr>\n",
              "    <tr>\n",
              "      <th>2270</th>\n",
              "      <td>2270</td>\n",
              "      <td>5936</td>\n",
              "      <td>2963</td>\n",
              "      <td>30800</td>\n",
              "      <td>39899</td>\n",
              "      <td>2015-09-30</td>\n",
              "      <td>55.00</td>\n",
              "      <td>-1.00</td>\n",
              "      <td>-0.018182</td>\n",
              "      <td>3.00</td>\n",
              "      <td>0.044776</td>\n",
              "      <td>0.00</td>\n",
              "      <td>0.000000</td>\n",
              "      <td>-8.00</td>\n",
              "      <td>-0.150943</td>\n",
              "      <td>3</td>\n",
              "      <td>2015</td>\n",
              "      <td>9</td>\n",
              "      <td>10Q</td>\n",
              "      <td>0000039899-15-000026.txt : 2015111010-Q 1 tgn...</td>\n",
              "      <td>Changing regulations, particularly FCC Regulat...</td>\n",
              "      <td>0.79 0.77 0.74 0.72 0.72 0.72 0.72 0.71 0.71 0...</td>\n",
              "      <td>Commitment fees on the revolving credit agreem...</td>\n",
              "      <td>Commitment fees on the revolving credit agreem...</td>\n",
              "      <td>NaN</td>\n",
              "      <td>NaN</td>\n",
              "    </tr>\n",
              "    <tr>\n",
              "      <th>2271</th>\n",
              "      <td>2271</td>\n",
              "      <td>5938</td>\n",
              "      <td>2965</td>\n",
              "      <td>30824</td>\n",
              "      <td>1136869</td>\n",
              "      <td>2015-09-30</td>\n",
              "      <td>62.00</td>\n",
              "      <td>-2.00</td>\n",
              "      <td>-0.032258</td>\n",
              "      <td>-1.00</td>\n",
              "      <td>-0.015625</td>\n",
              "      <td>-1.00</td>\n",
              "      <td>-0.017544</td>\n",
              "      <td>-5.00</td>\n",
              "      <td>-0.073529</td>\n",
              "      <td>3</td>\n",
              "      <td>2015</td>\n",
              "      <td>9</td>\n",
              "      <td>10Q</td>\n",
              "      <td>0001193125-15-372121.txt : 2015111010-Q 1 d20...</td>\n",
              "      <td>The net amount of tax liability for unrecogniz...</td>\n",
              "      <td>0.77 0.77 0.76 0.76 0.75 0.73 0.73 0.72 0.71 0...</td>\n",
              "      <td>Fair Value Measurement of Assets and Liabiliti...</td>\n",
              "      <td>Fair Value Measurement of Assets and Liabiliti...</td>\n",
              "      <td>NaN</td>\n",
              "      <td>NaN</td>\n",
              "    </tr>\n",
              "    <tr>\n",
              "      <th>2272</th>\n",
              "      <td>2272</td>\n",
              "      <td>5939</td>\n",
              "      <td>2966</td>\n",
              "      <td>30866</td>\n",
              "      <td>1158449</td>\n",
              "      <td>2015-09-30</td>\n",
              "      <td>48.00</td>\n",
              "      <td>2.00</td>\n",
              "      <td>0.041667</td>\n",
              "      <td>4.00</td>\n",
              "      <td>0.067797</td>\n",
              "      <td>0.00</td>\n",
              "      <td>0.000000</td>\n",
              "      <td>4.00</td>\n",
              "      <td>0.097561</td>\n",
              "      <td>3</td>\n",
              "      <td>2015</td>\n",
              "      <td>9</td>\n",
              "      <td>10Q</td>\n",
              "      <td>0001158449-15-000190.txt : 2015111710-Q 1 aap...</td>\n",
              "      <td>Listed below and discussed in our Annual Repor...</td>\n",
              "      <td>0.74 0.7 0.69 0.69 0.68 0.68 0.67 0.67 0.67 0....</td>\n",
              "      <td>This new standard requires management to perfo...</td>\n",
              "      <td>This new standard requires management to perfo...</td>\n",
              "      <td>NaN</td>\n",
              "      <td>NaN</td>\n",
              "    </tr>\n",
              "    <tr>\n",
              "      <th>2273</th>\n",
              "      <td>2273</td>\n",
              "      <td>5940</td>\n",
              "      <td>2967</td>\n",
              "      <td>30907</td>\n",
              "      <td>728535</td>\n",
              "      <td>2015-09-30</td>\n",
              "      <td>54.00</td>\n",
              "      <td>-5.00</td>\n",
              "      <td>-0.092593</td>\n",
              "      <td>-2.00</td>\n",
              "      <td>-0.032258</td>\n",
              "      <td>0.00</td>\n",
              "      <td>0.000000</td>\n",
              "      <td>-13.00</td>\n",
              "      <td>-0.236364</td>\n",
              "      <td>3</td>\n",
              "      <td>2015</td>\n",
              "      <td>9</td>\n",
              "      <td>10Q</td>\n",
              "      <td>0001437749-15-018776.txt : 2015102310-Q 1 jbh...</td>\n",
              "      <td>Rapid changes in fuel costs could impact our p...</td>\n",
              "      <td>0.77 0.77 0.74 0.73 0.73 0.73 0.72 0.7 0.7 0.7...</td>\n",
              "      <td>This new senior credit facility has a five yea...</td>\n",
              "      <td>This new senior credit facility has a five yea...</td>\n",
              "      <td>NaN</td>\n",
              "      <td>NaN</td>\n",
              "    </tr>\n",
              "  </tbody>\n",
              "</table>\n",
              "<p>2274 rows × 26 columns</p>\n",
              "</div>"
            ],
            "text/plain": [
              "      Unnamed: 0  ...   contained_env_words_sents_num_boiler_plt_removed\n",
              "0              0  ...  This senior credit facility allows us to reque...\n",
              "1              1  ...  This senior credit facility allows us to reque...\n",
              "2              2  ...  This senior credit facility allows us to reque...\n",
              "3              3  ...  This new senior credit facility has a five yea...\n",
              "4              4  ...  Fair Value Measurement of Assets and Liabiliti...\n",
              "...          ...  ...                                                ...\n",
              "2269        2269  ...                                                NaN\n",
              "2270        2270  ...                                                NaN\n",
              "2271        2271  ...                                                NaN\n",
              "2272        2272  ...                                                NaN\n",
              "2273        2273  ...                                                NaN\n",
              "\n",
              "[2274 rows x 26 columns]"
            ]
          },
          "metadata": {
            "tags": []
          },
          "execution_count": 37
        }
      ]
    },
    {
      "cell_type": "code",
      "metadata": {
        "colab": {
          "base_uri": "https://localhost:8080/"
        },
        "id": "1Gv89QDyEffd",
        "outputId": "c132b0e9-0e35-4906-818b-a125b5c4e5c8"
      },
      "source": [
        "%%time\n",
        "concatenated_filtered_cik_dfs['reports_num_removed'] = concatenated_filtered_cik_dfs['Reports'].apply(lambda row: remove_numbers(row))"
      ],
      "execution_count": null,
      "outputs": [
        {
          "output_type": "stream",
          "text": [
            "CPU times: user 3.91 s, sys: 123 ms, total: 4.03 s\n",
            "Wall time: 4.02 s\n"
          ],
          "name": "stdout"
        }
      ]
    },
    {
      "cell_type": "code",
      "metadata": {
        "colab": {
          "base_uri": "https://localhost:8080/"
        },
        "id": "qZNrfoHeEKVt",
        "outputId": "72dbfa64-1827-48d5-8688-0ab9b503eda0"
      },
      "source": [
        "%%time\n",
        "concatenated_filtered_cik_dfs['top_3_sents_use_one_compare_no_num'] = concatenated_filtered_cik_dfs['reports_num_removed'].apply(lambda row: top_3_sents_use(str(row),one_compare_sent))"
      ],
      "execution_count": null,
      "outputs": [
        {
          "output_type": "stream",
          "text": [
            "CPU times: user 10h 51min 23s, sys: 2h 1min 25s, total: 12h 52min 49s\n",
            "Wall time: 5h 29min 1s\n"
          ],
          "name": "stdout"
        }
      ]
    },
    {
      "cell_type": "code",
      "metadata": {
        "id": "ZAKDTZwmcTLW"
      },
      "source": [
        "concatenated_filtered_cik_dfs.to_csv(\"subset_read_10q_df_with_top3_one_compare.csv\")"
      ],
      "execution_count": null,
      "outputs": []
    },
    {
      "cell_type": "code",
      "metadata": {
        "colab": {
          "base_uri": "https://localhost:8080/"
        },
        "id": "JG8JonWkvJAb",
        "outputId": "0e0bb131-a1eb-43d0-96e4-820f8a59c6e2"
      },
      "source": [
        "len(concatenated_filtered_cik_dfs)"
      ],
      "execution_count": null,
      "outputs": [
        {
          "output_type": "execute_result",
          "data": {
            "text/plain": [
              "2274"
            ]
          },
          "metadata": {
            "tags": []
          },
          "execution_count": 49
        }
      ]
    },
    {
      "cell_type": "code",
      "metadata": {
        "colab": {
          "base_uri": "https://localhost:8080/",
          "height": 1000
        },
        "id": "3_NimypMllwH",
        "outputId": "da2b2614-fb62-488b-b2b6-76d32b855eb2"
      },
      "source": [
        "concatenated_filtered_cik_dfs"
      ],
      "execution_count": null,
      "outputs": [
        {
          "output_type": "execute_result",
          "data": {
            "text/html": [
              "<div>\n",
              "<style scoped>\n",
              "    .dataframe tbody tr th:only-of-type {\n",
              "        vertical-align: middle;\n",
              "    }\n",
              "\n",
              "    .dataframe tbody tr th {\n",
              "        vertical-align: top;\n",
              "    }\n",
              "\n",
              "    .dataframe thead th {\n",
              "        text-align: right;\n",
              "    }\n",
              "</style>\n",
              "<table border=\"1\" class=\"dataframe\">\n",
              "  <thead>\n",
              "    <tr style=\"text-align: right;\">\n",
              "      <th></th>\n",
              "      <th>Unnamed: 0</th>\n",
              "      <th>Unnamed: 0.1</th>\n",
              "      <th>Unnamed: 0.1.1</th>\n",
              "      <th>origin_idx</th>\n",
              "      <th>CIK</th>\n",
              "      <th>date</th>\n",
              "      <th>total_esg_score</th>\n",
              "      <th>total_esg_score_quarter_change_pure</th>\n",
              "      <th>total_esg_score_quarter_change_pct</th>\n",
              "      <th>governance_score_quarter_change_pure</th>\n",
              "      <th>governance_score_quarter_change_pct</th>\n",
              "      <th>social_score_quarter_change_pure</th>\n",
              "      <th>social_score_quarter_change_pct</th>\n",
              "      <th>environment_score_quarter_change_pure</th>\n",
              "      <th>environment_score_quarter_change_pct</th>\n",
              "      <th>quarter</th>\n",
              "      <th>year</th>\n",
              "      <th>month</th>\n",
              "      <th>ReportType</th>\n",
              "      <th>Reports</th>\n",
              "      <th>reports_ordered</th>\n",
              "      <th>reports_cosines</th>\n",
              "      <th>contained_env_words_sents</th>\n",
              "      <th>contained_env_words_sents_num_removed</th>\n",
              "      <th>top_3_sents_use</th>\n",
              "      <th>contained_env_words_sents_num_boiler_plt_removed</th>\n",
              "      <th>reports_num_removed</th>\n",
              "      <th>top_3_sents_use_one_compare_no_num</th>\n",
              "    </tr>\n",
              "  </thead>\n",
              "  <tbody>\n",
              "    <tr>\n",
              "      <th>0</th>\n",
              "      <td>0</td>\n",
              "      <td>1</td>\n",
              "      <td>1</td>\n",
              "      <td>41</td>\n",
              "      <td>1090872</td>\n",
              "      <td>2016-06-30</td>\n",
              "      <td>71.96</td>\n",
              "      <td>-2.98</td>\n",
              "      <td>-0.041412</td>\n",
              "      <td>1.20</td>\n",
              "      <td>0.019861</td>\n",
              "      <td>-10.44</td>\n",
              "      <td>-0.141024</td>\n",
              "      <td>5.43</td>\n",
              "      <td>0.066155</td>\n",
              "      <td>2</td>\n",
              "      <td>2016</td>\n",
              "      <td>6</td>\n",
              "      <td>10Q</td>\n",
              "      <td>0001090872-16-000076.txt : 2016090710-Q 1 a-0...</td>\n",
              "      <td>In addition, the operation of Dako within Agil...</td>\n",
              "      <td>0.8 0.78 0.78 0.76 0.76 0.76 0.75 0.75 0.75 0....</td>\n",
              "      <td>The reassessment process considers whether we ...</td>\n",
              "      <td>The reassessment process considers whether we ...</td>\n",
              "      <td>The following table summarizes our expected ob...</td>\n",
              "      <td>This senior credit facility allows us to reque...</td>\n",
              "      <td>_NUMBER_  _NUMBER_  _NUMBER_  _NUMBER_  _NUM...</td>\n",
              "      <td>One such cost is our obligation, along with th...</td>\n",
              "    </tr>\n",
              "    <tr>\n",
              "      <th>1</th>\n",
              "      <td>1</td>\n",
              "      <td>3</td>\n",
              "      <td>3</td>\n",
              "      <td>50</td>\n",
              "      <td>1090872</td>\n",
              "      <td>2017-03-31</td>\n",
              "      <td>66.25</td>\n",
              "      <td>0.14</td>\n",
              "      <td>0.002113</td>\n",
              "      <td>0.00</td>\n",
              "      <td>0.000000</td>\n",
              "      <td>0.00</td>\n",
              "      <td>0.000000</td>\n",
              "      <td>0.55</td>\n",
              "      <td>0.006285</td>\n",
              "      <td>1</td>\n",
              "      <td>2017</td>\n",
              "      <td>3</td>\n",
              "      <td>10Q</td>\n",
              "      <td>0001090872-17-000008.txt : 2017060610-Q 1 a-0...</td>\n",
              "      <td>Our customers and we are subject to various go...</td>\n",
              "      <td>0.78 0.77 0.76 0.76 0.76 0.76 0.75 0.75 0.75 0...</td>\n",
              "      <td>The reassessment process considers whether we ...</td>\n",
              "      <td>The reassessment process considers whether we ...</td>\n",
              "      <td>This senior credit facility allows us to reque...</td>\n",
              "      <td>This senior credit facility allows us to reque...</td>\n",
              "      <td>_NUMBER_  _NUMBER_  _NUMBER_  _NUMBER_  _NUM...</td>\n",
              "      <td>As a result, we may become subject to liabilit...</td>\n",
              "    </tr>\n",
              "    <tr>\n",
              "      <th>2</th>\n",
              "      <td>2</td>\n",
              "      <td>6</td>\n",
              "      <td>6</td>\n",
              "      <td>62</td>\n",
              "      <td>1090872</td>\n",
              "      <td>2018-03-29</td>\n",
              "      <td>65.76</td>\n",
              "      <td>-0.18</td>\n",
              "      <td>-0.002737</td>\n",
              "      <td>2.80</td>\n",
              "      <td>0.046838</td>\n",
              "      <td>2.62</td>\n",
              "      <td>0.046167</td>\n",
              "      <td>-8.80</td>\n",
              "      <td>-0.098710</td>\n",
              "      <td>1</td>\n",
              "      <td>2018</td>\n",
              "      <td>3</td>\n",
              "      <td>10Q</td>\n",
              "      <td>0001090872-18-000009.txt : 2018053110-Q 1 a-0...</td>\n",
              "      <td>Our customers and we are subject to various go...</td>\n",
              "      <td>0.78 0.77 0.76 0.76 0.76 0.76 0.76 0.75 0.75 0...</td>\n",
              "      <td>The reassessment process considers whether we ...</td>\n",
              "      <td>The reassessment process considers whether we ...</td>\n",
              "      <td>The following table summarizes our expected ob...</td>\n",
              "      <td>This senior credit facility allows us to reque...</td>\n",
              "      <td>_NUMBER_  _NUMBER_  _NUMBER_  _NUMBER_  _NUM...</td>\n",
              "      <td>The Toxic Substances Control Act prohibits per...</td>\n",
              "    </tr>\n",
              "    <tr>\n",
              "      <th>3</th>\n",
              "      <td>3</td>\n",
              "      <td>9</td>\n",
              "      <td>9</td>\n",
              "      <td>151</td>\n",
              "      <td>320193</td>\n",
              "      <td>2016-03-31</td>\n",
              "      <td>62.36</td>\n",
              "      <td>-0.03</td>\n",
              "      <td>-0.000481</td>\n",
              "      <td>0.00</td>\n",
              "      <td>0.000000</td>\n",
              "      <td>-0.80</td>\n",
              "      <td>-0.017723</td>\n",
              "      <td>0.62</td>\n",
              "      <td>0.008003</td>\n",
              "      <td>1</td>\n",
              "      <td>2016</td>\n",
              "      <td>3</td>\n",
              "      <td>10Q</td>\n",
              "      <td>0001193125-16-559625.txt : 2016042710-Q 1 d16...</td>\n",
              "      <td>Any such costs, which may rise in the future a...</td>\n",
              "      <td>0.78 0.78 0.76 0.76 0.76 0.75 0.75 0.74 0.73 0...</td>\n",
              "      <td>The Company has entered into agreements for th...</td>\n",
              "      <td>The Company has entered into agreements for th...</td>\n",
              "      <td>Due to declining sales and operating profits b...</td>\n",
              "      <td>This new senior credit facility has a five yea...</td>\n",
              "      <td>_NUMBER_  _NUMBER_  _NUMBER_  _NUMBER_  _NUM...</td>\n",
              "      <td>The Company s business may be impacted bypolit...</td>\n",
              "    </tr>\n",
              "    <tr>\n",
              "      <th>4</th>\n",
              "      <td>4</td>\n",
              "      <td>11</td>\n",
              "      <td>11</td>\n",
              "      <td>160</td>\n",
              "      <td>320193</td>\n",
              "      <td>2016-12-30</td>\n",
              "      <td>67.36</td>\n",
              "      <td>-0.08</td>\n",
              "      <td>-0.001188</td>\n",
              "      <td>0.00</td>\n",
              "      <td>0.000000</td>\n",
              "      <td>0.00</td>\n",
              "      <td>0.000000</td>\n",
              "      <td>-0.22</td>\n",
              "      <td>-0.002621</td>\n",
              "      <td>4</td>\n",
              "      <td>2016</td>\n",
              "      <td>12</td>\n",
              "      <td>10Q</td>\n",
              "      <td>0001628280-17-000717.txt : 2017020110-Q 1 a10...</td>\n",
              "      <td>Any such costs, which may rise in the future a...</td>\n",
              "      <td>0.78 0.77 0.76 0.76 0.76 0.76 0.74 0.73 0.73 0...</td>\n",
              "      <td>The Company has entered into agreements for th...</td>\n",
              "      <td>The Company has entered into agreements for th...</td>\n",
              "      <td>For example, in October _NUMBER__NUMBER__NUMBE...</td>\n",
              "      <td>Fair Value Measurement of Assets and Liabiliti...</td>\n",
              "      <td>_NUMBER_  _NUMBER_  _NUMBER_  _NUMBER_  _NUM...</td>\n",
              "      <td>The Company s business may be impacted by poli...</td>\n",
              "    </tr>\n",
              "    <tr>\n",
              "      <th>...</th>\n",
              "      <td>...</td>\n",
              "      <td>...</td>\n",
              "      <td>...</td>\n",
              "      <td>...</td>\n",
              "      <td>...</td>\n",
              "      <td>...</td>\n",
              "      <td>...</td>\n",
              "      <td>...</td>\n",
              "      <td>...</td>\n",
              "      <td>...</td>\n",
              "      <td>...</td>\n",
              "      <td>...</td>\n",
              "      <td>...</td>\n",
              "      <td>...</td>\n",
              "      <td>...</td>\n",
              "      <td>...</td>\n",
              "      <td>...</td>\n",
              "      <td>...</td>\n",
              "      <td>...</td>\n",
              "      <td>...</td>\n",
              "      <td>...</td>\n",
              "      <td>...</td>\n",
              "      <td>...</td>\n",
              "      <td>...</td>\n",
              "      <td>...</td>\n",
              "      <td>...</td>\n",
              "      <td>...</td>\n",
              "      <td>...</td>\n",
              "    </tr>\n",
              "    <tr>\n",
              "      <th>2269</th>\n",
              "      <td>2269</td>\n",
              "      <td>5934</td>\n",
              "      <td>2961</td>\n",
              "      <td>30765</td>\n",
              "      <td>1604778</td>\n",
              "      <td>2015-12-31</td>\n",
              "      <td>51.00</td>\n",
              "      <td>0.41</td>\n",
              "      <td>0.008039</td>\n",
              "      <td>0.45</td>\n",
              "      <td>0.007377</td>\n",
              "      <td>-0.08</td>\n",
              "      <td>-0.001633</td>\n",
              "      <td>0.31</td>\n",
              "      <td>0.006596</td>\n",
              "      <td>4</td>\n",
              "      <td>2015</td>\n",
              "      <td>12</td>\n",
              "      <td>10Q</td>\n",
              "      <td>0001604778-16-000133.txt : 2016021010-Q 1 qor...</td>\n",
              "      <td>These and other risks and uncertainties, which...</td>\n",
              "      <td>0.78 0.78 0.77 0.71 0.71 0.71 0.7 0.7 0.69 0.6...</td>\n",
              "      <td>The Credit Agreement also contains customary e...</td>\n",
              "      <td>The Credit Agreement also contains customary e...</td>\n",
              "      <td>NaN</td>\n",
              "      <td>NaN</td>\n",
              "      <td>_NUMBER_  _NUMBER_  _NUMBER_  _NUMBER_  _NUM...</td>\n",
              "      <td>Our business is subject to numerous risks and ...</td>\n",
              "    </tr>\n",
              "    <tr>\n",
              "      <th>2270</th>\n",
              "      <td>2270</td>\n",
              "      <td>5936</td>\n",
              "      <td>2963</td>\n",
              "      <td>30800</td>\n",
              "      <td>39899</td>\n",
              "      <td>2015-09-30</td>\n",
              "      <td>55.00</td>\n",
              "      <td>-1.00</td>\n",
              "      <td>-0.018182</td>\n",
              "      <td>3.00</td>\n",
              "      <td>0.044776</td>\n",
              "      <td>0.00</td>\n",
              "      <td>0.000000</td>\n",
              "      <td>-8.00</td>\n",
              "      <td>-0.150943</td>\n",
              "      <td>3</td>\n",
              "      <td>2015</td>\n",
              "      <td>9</td>\n",
              "      <td>10Q</td>\n",
              "      <td>0000039899-15-000026.txt : 2015111010-Q 1 tgn...</td>\n",
              "      <td>Changing regulations, particularly FCC Regulat...</td>\n",
              "      <td>0.79 0.77 0.74 0.72 0.72 0.72 0.72 0.71 0.71 0...</td>\n",
              "      <td>Commitment fees on the revolving credit agreem...</td>\n",
              "      <td>Commitment fees on the revolving credit agreem...</td>\n",
              "      <td>NaN</td>\n",
              "      <td>NaN</td>\n",
              "      <td>_NUMBER_  _NUMBER_  _NUMBER_  _NUMBER_  _NUM...</td>\n",
              "      <td>If we do not have in place our own systems and...</td>\n",
              "    </tr>\n",
              "    <tr>\n",
              "      <th>2271</th>\n",
              "      <td>2271</td>\n",
              "      <td>5938</td>\n",
              "      <td>2965</td>\n",
              "      <td>30824</td>\n",
              "      <td>1136869</td>\n",
              "      <td>2015-09-30</td>\n",
              "      <td>62.00</td>\n",
              "      <td>-2.00</td>\n",
              "      <td>-0.032258</td>\n",
              "      <td>-1.00</td>\n",
              "      <td>-0.015625</td>\n",
              "      <td>-1.00</td>\n",
              "      <td>-0.017544</td>\n",
              "      <td>-5.00</td>\n",
              "      <td>-0.073529</td>\n",
              "      <td>3</td>\n",
              "      <td>2015</td>\n",
              "      <td>9</td>\n",
              "      <td>10Q</td>\n",
              "      <td>0001193125-15-372121.txt : 2015111010-Q 1 d20...</td>\n",
              "      <td>The net amount of tax liability for unrecogniz...</td>\n",
              "      <td>0.77 0.77 0.76 0.76 0.75 0.73 0.73 0.72 0.71 0...</td>\n",
              "      <td>Fair Value Measurement of Assets and Liabiliti...</td>\n",
              "      <td>Fair Value Measurement of Assets and Liabiliti...</td>\n",
              "      <td>NaN</td>\n",
              "      <td>NaN</td>\n",
              "      <td>_NUMBER_  _NUMBER_  _NUMBER_  _NUMBER_  _NUM...</td>\n",
              "      <td>These risks and uncertainties include, but are...</td>\n",
              "    </tr>\n",
              "    <tr>\n",
              "      <th>2272</th>\n",
              "      <td>2272</td>\n",
              "      <td>5939</td>\n",
              "      <td>2966</td>\n",
              "      <td>30866</td>\n",
              "      <td>1158449</td>\n",
              "      <td>2015-09-30</td>\n",
              "      <td>48.00</td>\n",
              "      <td>2.00</td>\n",
              "      <td>0.041667</td>\n",
              "      <td>4.00</td>\n",
              "      <td>0.067797</td>\n",
              "      <td>0.00</td>\n",
              "      <td>0.000000</td>\n",
              "      <td>4.00</td>\n",
              "      <td>0.097561</td>\n",
              "      <td>3</td>\n",
              "      <td>2015</td>\n",
              "      <td>9</td>\n",
              "      <td>10Q</td>\n",
              "      <td>0001158449-15-000190.txt : 2015111710-Q 1 aap...</td>\n",
              "      <td>Listed below and discussed in our Annual Repor...</td>\n",
              "      <td>0.74 0.7 0.69 0.69 0.68 0.68 0.67 0.67 0.67 0....</td>\n",
              "      <td>This new standard requires management to perfo...</td>\n",
              "      <td>This new standard requires management to perfo...</td>\n",
              "      <td>NaN</td>\n",
              "      <td>NaN</td>\n",
              "      <td>_NUMBER_  _NUMBER_  _NUMBER_  _NUMBER_  _NUM...</td>\n",
              "      <td>Condensed Consolidated Financial Statements of...</td>\n",
              "    </tr>\n",
              "    <tr>\n",
              "      <th>2273</th>\n",
              "      <td>2273</td>\n",
              "      <td>5940</td>\n",
              "      <td>2967</td>\n",
              "      <td>30907</td>\n",
              "      <td>728535</td>\n",
              "      <td>2015-09-30</td>\n",
              "      <td>54.00</td>\n",
              "      <td>-5.00</td>\n",
              "      <td>-0.092593</td>\n",
              "      <td>-2.00</td>\n",
              "      <td>-0.032258</td>\n",
              "      <td>0.00</td>\n",
              "      <td>0.000000</td>\n",
              "      <td>-13.00</td>\n",
              "      <td>-0.236364</td>\n",
              "      <td>3</td>\n",
              "      <td>2015</td>\n",
              "      <td>9</td>\n",
              "      <td>10Q</td>\n",
              "      <td>0001437749-15-018776.txt : 2015102310-Q 1 jbh...</td>\n",
              "      <td>Rapid changes in fuel costs could impact our p...</td>\n",
              "      <td>0.77 0.77 0.74 0.73 0.73 0.73 0.72 0.7 0.7 0.7...</td>\n",
              "      <td>This new senior credit facility has a five yea...</td>\n",
              "      <td>This new senior credit facility has a five yea...</td>\n",
              "      <td>NaN</td>\n",
              "      <td>NaN</td>\n",
              "      <td>_NUMBER_  _NUMBER_  _NUMBER_  _NUMBER_  _NUM...</td>\n",
              "      <td>Benefits from core rate increases and improvem...</td>\n",
              "    </tr>\n",
              "  </tbody>\n",
              "</table>\n",
              "<p>2274 rows × 28 columns</p>\n",
              "</div>"
            ],
            "text/plain": [
              "      Unnamed: 0  ...                 top_3_sents_use_one_compare_no_num\n",
              "0              0  ...  One such cost is our obligation, along with th...\n",
              "1              1  ...  As a result, we may become subject to liabilit...\n",
              "2              2  ...  The Toxic Substances Control Act prohibits per...\n",
              "3              3  ...  The Company s business may be impacted bypolit...\n",
              "4              4  ...  The Company s business may be impacted by poli...\n",
              "...          ...  ...                                                ...\n",
              "2269        2269  ...  Our business is subject to numerous risks and ...\n",
              "2270        2270  ...  If we do not have in place our own systems and...\n",
              "2271        2271  ...  These risks and uncertainties include, but are...\n",
              "2272        2272  ...  Condensed Consolidated Financial Statements of...\n",
              "2273        2273  ...  Benefits from core rate increases and improvem...\n",
              "\n",
              "[2274 rows x 28 columns]"
            ]
          },
          "metadata": {
            "tags": []
          },
          "execution_count": 50
        }
      ]
    },
    {
      "cell_type": "code",
      "metadata": {
        "colab": {
          "base_uri": "https://localhost:8080/"
        },
        "id": "aPbs4fmWccWC",
        "outputId": "d49d28a7-495d-4546-c99c-8f80ceb4ae64"
      },
      "source": [
        "!gsutil cp subset_read_10q_df_with_top3_one_compare.csv gs://esgbert_resourses/raw_data/"
      ],
      "execution_count": null,
      "outputs": [
        {
          "output_type": "stream",
          "text": [
            "Copying file://subset_read_10q_df_with_top3_one_compare.csv [Content-Type=text/csv]...\n",
            "/ [0 files][    0.0 B/  1.1 GiB]                                                \r==> NOTE: You are uploading one or more large file(s), which would run\n",
            "significantly faster if you enable parallel composite uploads. This\n",
            "feature can be enabled by editing the\n",
            "\"parallel_composite_upload_threshold\" value in your .boto\n",
            "configuration file. However, note that if you do this large files will\n",
            "be uploaded as `composite objects\n",
            "<https://cloud.google.com/storage/docs/composite-objects>`_,which\n",
            "means that any user who downloads such objects will need to have a\n",
            "compiled crcmod installed (see \"gsutil help crcmod\"). This is because\n",
            "without a compiled crcmod, computing checksums on composite objects is\n",
            "so slow that gsutil disables downloads of composite objects.\n",
            "\n",
            "- [1 files][  1.1 GiB/  1.1 GiB]  106.7 MiB/s                                   \n",
            "Operation completed over 1 objects/1.1 GiB.                                      \n"
          ],
          "name": "stdout"
        }
      ]
    },
    {
      "cell_type": "code",
      "metadata": {
        "colab": {
          "base_uri": "https://localhost:8080/",
          "height": 137
        },
        "id": "U5_XZjkpbpLE",
        "outputId": "94e5a934-9f5e-4161-ebaa-1c7bfbd432a7"
      },
      "source": [
        "subset_read_10q_df.iloc[1,23]"
      ],
      "execution_count": null,
      "outputs": [
        {
          "output_type": "execute_result",
          "data": {
            "application/vnd.google.colaboratory.intrinsic+json": {
              "type": "string"
            },
            "text/plain": [
              "'While we have divested substantially all of our semiconductor related businesses to Avago Technologies Ltd. and Advantest Corporation and regardless of indemnification arrangements with those parties, we may still become subject to liabilities for historical environmental contamination related to those businesses. Environmental contamination from past operations could subject us to unreimbursed costs and could harm on_NUMBER_site operations and the future use and value of the properties involved, and environmental contamination caused by ongoing operations could subject us to substantial liabilities in the future. As a result, we may become subject to liabilities for environmental contamination, and these liabilities may be substantial.'"
            ]
          },
          "metadata": {
            "tags": []
          },
          "execution_count": 191
        }
      ]
    },
    {
      "cell_type": "code",
      "metadata": {
        "colab": {
          "base_uri": "https://localhost:8080/"
        },
        "id": "ghS9_QqY3DX6",
        "outputId": "85f7a7fd-4f68-4db7-d7de-c6b04886cbb1"
      },
      "source": [
        "!gsutil cp gs://esgbert_resourses/raw_data/subset_read_10q_df_with_top3_one_compare.csv ."
      ],
      "execution_count": null,
      "outputs": [
        {
          "output_type": "stream",
          "text": [
            "Copying gs://esgbert_resourses/raw_data/subset_read_10q_df_with_top3_one_compare.csv...\n",
            "\\ [1 files][  1.1 GiB/  1.1 GiB]   41.9 MiB/s                                   \n",
            "Operation completed over 1 objects/1.1 GiB.                                      \n"
          ],
          "name": "stdout"
        }
      ]
    },
    {
      "cell_type": "code",
      "metadata": {
        "id": "tv56u4BK255g"
      },
      "source": [
        "subset_read_10q_df_with_top3_one_compare = pd.read_csv(\"gs://esgbert_resourses/raw_data/subset_read_10q_df_with_top3_one_compare.csv\")"
      ],
      "execution_count": null,
      "outputs": []
    },
    {
      "cell_type": "code",
      "metadata": {
        "colab": {
          "base_uri": "https://localhost:8080/",
          "height": 1000
        },
        "id": "70-2j-l4mBAu",
        "outputId": "46899d74-993f-40c7-cdd3-bcfad4f5675e"
      },
      "source": [
        "subset_read_10q_df_with_top3_one_compare"
      ],
      "execution_count": null,
      "outputs": [
        {
          "output_type": "execute_result",
          "data": {
            "text/html": [
              "<div>\n",
              "<style scoped>\n",
              "    .dataframe tbody tr th:only-of-type {\n",
              "        vertical-align: middle;\n",
              "    }\n",
              "\n",
              "    .dataframe tbody tr th {\n",
              "        vertical-align: top;\n",
              "    }\n",
              "\n",
              "    .dataframe thead th {\n",
              "        text-align: right;\n",
              "    }\n",
              "</style>\n",
              "<table border=\"1\" class=\"dataframe\">\n",
              "  <thead>\n",
              "    <tr style=\"text-align: right;\">\n",
              "      <th></th>\n",
              "      <th>Unnamed: 0</th>\n",
              "      <th>Unnamed: 0.1</th>\n",
              "      <th>Unnamed: 0.1.1</th>\n",
              "      <th>Unnamed: 0.1.1.1</th>\n",
              "      <th>origin_idx</th>\n",
              "      <th>CIK</th>\n",
              "      <th>date</th>\n",
              "      <th>total_esg_score</th>\n",
              "      <th>total_esg_score_quarter_change_pure</th>\n",
              "      <th>total_esg_score_quarter_change_pct</th>\n",
              "      <th>governance_score_quarter_change_pure</th>\n",
              "      <th>governance_score_quarter_change_pct</th>\n",
              "      <th>social_score_quarter_change_pure</th>\n",
              "      <th>social_score_quarter_change_pct</th>\n",
              "      <th>environment_score_quarter_change_pure</th>\n",
              "      <th>environment_score_quarter_change_pct</th>\n",
              "      <th>quarter</th>\n",
              "      <th>year</th>\n",
              "      <th>month</th>\n",
              "      <th>ReportType</th>\n",
              "      <th>Reports</th>\n",
              "      <th>reports_ordered</th>\n",
              "      <th>reports_cosines</th>\n",
              "      <th>contained_env_words_sents</th>\n",
              "      <th>contained_env_words_sents_num_removed</th>\n",
              "      <th>top_3_sents_use</th>\n",
              "      <th>contained_env_words_sents_num_boiler_plt_removed</th>\n",
              "      <th>reports_num_removed</th>\n",
              "      <th>top_3_sents_use_one_compare_no_num</th>\n",
              "    </tr>\n",
              "  </thead>\n",
              "  <tbody>\n",
              "    <tr>\n",
              "      <th>0</th>\n",
              "      <td>0</td>\n",
              "      <td>0</td>\n",
              "      <td>1</td>\n",
              "      <td>1</td>\n",
              "      <td>41</td>\n",
              "      <td>1090872</td>\n",
              "      <td>2016-06-30</td>\n",
              "      <td>71.96</td>\n",
              "      <td>-2.98</td>\n",
              "      <td>-0.041412</td>\n",
              "      <td>1.20</td>\n",
              "      <td>0.019861</td>\n",
              "      <td>-10.44</td>\n",
              "      <td>-0.141024</td>\n",
              "      <td>5.43</td>\n",
              "      <td>0.066155</td>\n",
              "      <td>2</td>\n",
              "      <td>2016</td>\n",
              "      <td>6</td>\n",
              "      <td>10Q</td>\n",
              "      <td>0001090872-16-000076.txt : 2016090710-Q 1 a-0...</td>\n",
              "      <td>In addition, the operation of Dako within Agil...</td>\n",
              "      <td>0.8 0.78 0.78 0.76 0.76 0.76 0.75 0.75 0.75 0....</td>\n",
              "      <td>The reassessment process considers whether we ...</td>\n",
              "      <td>The reassessment process considers whether we ...</td>\n",
              "      <td>The following table summarizes our expected ob...</td>\n",
              "      <td>This senior credit facility allows us to reque...</td>\n",
              "      <td>_NUMBER_  _NUMBER_  _NUMBER_  _NUMBER_  _NUM...</td>\n",
              "      <td>One such cost is our obligation, along with th...</td>\n",
              "    </tr>\n",
              "    <tr>\n",
              "      <th>1</th>\n",
              "      <td>1</td>\n",
              "      <td>1</td>\n",
              "      <td>3</td>\n",
              "      <td>3</td>\n",
              "      <td>50</td>\n",
              "      <td>1090872</td>\n",
              "      <td>2017-03-31</td>\n",
              "      <td>66.25</td>\n",
              "      <td>0.14</td>\n",
              "      <td>0.002113</td>\n",
              "      <td>0.00</td>\n",
              "      <td>0.000000</td>\n",
              "      <td>0.00</td>\n",
              "      <td>0.000000</td>\n",
              "      <td>0.55</td>\n",
              "      <td>0.006285</td>\n",
              "      <td>1</td>\n",
              "      <td>2017</td>\n",
              "      <td>3</td>\n",
              "      <td>10Q</td>\n",
              "      <td>0001090872-17-000008.txt : 2017060610-Q 1 a-0...</td>\n",
              "      <td>Our customers and we are subject to various go...</td>\n",
              "      <td>0.78 0.77 0.76 0.76 0.76 0.76 0.75 0.75 0.75 0...</td>\n",
              "      <td>The reassessment process considers whether we ...</td>\n",
              "      <td>The reassessment process considers whether we ...</td>\n",
              "      <td>This senior credit facility allows us to reque...</td>\n",
              "      <td>This senior credit facility allows us to reque...</td>\n",
              "      <td>_NUMBER_  _NUMBER_  _NUMBER_  _NUMBER_  _NUM...</td>\n",
              "      <td>As a result, we may become subject to liabilit...</td>\n",
              "    </tr>\n",
              "    <tr>\n",
              "      <th>2</th>\n",
              "      <td>2</td>\n",
              "      <td>2</td>\n",
              "      <td>6</td>\n",
              "      <td>6</td>\n",
              "      <td>62</td>\n",
              "      <td>1090872</td>\n",
              "      <td>2018-03-29</td>\n",
              "      <td>65.76</td>\n",
              "      <td>-0.18</td>\n",
              "      <td>-0.002737</td>\n",
              "      <td>2.80</td>\n",
              "      <td>0.046838</td>\n",
              "      <td>2.62</td>\n",
              "      <td>0.046167</td>\n",
              "      <td>-8.80</td>\n",
              "      <td>-0.098710</td>\n",
              "      <td>1</td>\n",
              "      <td>2018</td>\n",
              "      <td>3</td>\n",
              "      <td>10Q</td>\n",
              "      <td>0001090872-18-000009.txt : 2018053110-Q 1 a-0...</td>\n",
              "      <td>Our customers and we are subject to various go...</td>\n",
              "      <td>0.78 0.77 0.76 0.76 0.76 0.76 0.76 0.75 0.75 0...</td>\n",
              "      <td>The reassessment process considers whether we ...</td>\n",
              "      <td>The reassessment process considers whether we ...</td>\n",
              "      <td>The following table summarizes our expected ob...</td>\n",
              "      <td>This senior credit facility allows us to reque...</td>\n",
              "      <td>_NUMBER_  _NUMBER_  _NUMBER_  _NUMBER_  _NUM...</td>\n",
              "      <td>The Toxic Substances Control Act prohibits per...</td>\n",
              "    </tr>\n",
              "    <tr>\n",
              "      <th>3</th>\n",
              "      <td>3</td>\n",
              "      <td>3</td>\n",
              "      <td>9</td>\n",
              "      <td>9</td>\n",
              "      <td>151</td>\n",
              "      <td>320193</td>\n",
              "      <td>2016-03-31</td>\n",
              "      <td>62.36</td>\n",
              "      <td>-0.03</td>\n",
              "      <td>-0.000481</td>\n",
              "      <td>0.00</td>\n",
              "      <td>0.000000</td>\n",
              "      <td>-0.80</td>\n",
              "      <td>-0.017723</td>\n",
              "      <td>0.62</td>\n",
              "      <td>0.008003</td>\n",
              "      <td>1</td>\n",
              "      <td>2016</td>\n",
              "      <td>3</td>\n",
              "      <td>10Q</td>\n",
              "      <td>0001193125-16-559625.txt : 2016042710-Q 1 d16...</td>\n",
              "      <td>Any such costs, which may rise in the future a...</td>\n",
              "      <td>0.78 0.78 0.76 0.76 0.76 0.75 0.75 0.74 0.73 0...</td>\n",
              "      <td>The Company has entered into agreements for th...</td>\n",
              "      <td>The Company has entered into agreements for th...</td>\n",
              "      <td>Due to declining sales and operating profits b...</td>\n",
              "      <td>This new senior credit facility has a five yea...</td>\n",
              "      <td>_NUMBER_  _NUMBER_  _NUMBER_  _NUMBER_  _NUM...</td>\n",
              "      <td>The Company s business may be impacted bypolit...</td>\n",
              "    </tr>\n",
              "    <tr>\n",
              "      <th>4</th>\n",
              "      <td>4</td>\n",
              "      <td>4</td>\n",
              "      <td>11</td>\n",
              "      <td>11</td>\n",
              "      <td>160</td>\n",
              "      <td>320193</td>\n",
              "      <td>2016-12-30</td>\n",
              "      <td>67.36</td>\n",
              "      <td>-0.08</td>\n",
              "      <td>-0.001188</td>\n",
              "      <td>0.00</td>\n",
              "      <td>0.000000</td>\n",
              "      <td>0.00</td>\n",
              "      <td>0.000000</td>\n",
              "      <td>-0.22</td>\n",
              "      <td>-0.002621</td>\n",
              "      <td>4</td>\n",
              "      <td>2016</td>\n",
              "      <td>12</td>\n",
              "      <td>10Q</td>\n",
              "      <td>0001628280-17-000717.txt : 2017020110-Q 1 a10...</td>\n",
              "      <td>Any such costs, which may rise in the future a...</td>\n",
              "      <td>0.78 0.77 0.76 0.76 0.76 0.76 0.74 0.73 0.73 0...</td>\n",
              "      <td>The Company has entered into agreements for th...</td>\n",
              "      <td>The Company has entered into agreements for th...</td>\n",
              "      <td>For example, in October _NUMBER__NUMBER__NUMBE...</td>\n",
              "      <td>Fair Value Measurement of Assets and Liabiliti...</td>\n",
              "      <td>_NUMBER_  _NUMBER_  _NUMBER_  _NUMBER_  _NUM...</td>\n",
              "      <td>The Company s business may be impacted by poli...</td>\n",
              "    </tr>\n",
              "    <tr>\n",
              "      <th>...</th>\n",
              "      <td>...</td>\n",
              "      <td>...</td>\n",
              "      <td>...</td>\n",
              "      <td>...</td>\n",
              "      <td>...</td>\n",
              "      <td>...</td>\n",
              "      <td>...</td>\n",
              "      <td>...</td>\n",
              "      <td>...</td>\n",
              "      <td>...</td>\n",
              "      <td>...</td>\n",
              "      <td>...</td>\n",
              "      <td>...</td>\n",
              "      <td>...</td>\n",
              "      <td>...</td>\n",
              "      <td>...</td>\n",
              "      <td>...</td>\n",
              "      <td>...</td>\n",
              "      <td>...</td>\n",
              "      <td>...</td>\n",
              "      <td>...</td>\n",
              "      <td>...</td>\n",
              "      <td>...</td>\n",
              "      <td>...</td>\n",
              "      <td>...</td>\n",
              "      <td>...</td>\n",
              "      <td>...</td>\n",
              "      <td>...</td>\n",
              "      <td>...</td>\n",
              "    </tr>\n",
              "    <tr>\n",
              "      <th>2269</th>\n",
              "      <td>2269</td>\n",
              "      <td>2269</td>\n",
              "      <td>5934</td>\n",
              "      <td>2961</td>\n",
              "      <td>30765</td>\n",
              "      <td>1604778</td>\n",
              "      <td>2015-12-31</td>\n",
              "      <td>51.00</td>\n",
              "      <td>0.41</td>\n",
              "      <td>0.008039</td>\n",
              "      <td>0.45</td>\n",
              "      <td>0.007377</td>\n",
              "      <td>-0.08</td>\n",
              "      <td>-0.001633</td>\n",
              "      <td>0.31</td>\n",
              "      <td>0.006596</td>\n",
              "      <td>4</td>\n",
              "      <td>2015</td>\n",
              "      <td>12</td>\n",
              "      <td>10Q</td>\n",
              "      <td>0001604778-16-000133.txt : 2016021010-Q 1 qor...</td>\n",
              "      <td>These and other risks and uncertainties, which...</td>\n",
              "      <td>0.78 0.78 0.77 0.71 0.71 0.71 0.7 0.7 0.69 0.6...</td>\n",
              "      <td>The Credit Agreement also contains customary e...</td>\n",
              "      <td>The Credit Agreement also contains customary e...</td>\n",
              "      <td>NaN</td>\n",
              "      <td>NaN</td>\n",
              "      <td>_NUMBER_  _NUMBER_  _NUMBER_  _NUMBER_  _NUM...</td>\n",
              "      <td>Our business is subject to numerous risks and ...</td>\n",
              "    </tr>\n",
              "    <tr>\n",
              "      <th>2270</th>\n",
              "      <td>2270</td>\n",
              "      <td>2270</td>\n",
              "      <td>5936</td>\n",
              "      <td>2963</td>\n",
              "      <td>30800</td>\n",
              "      <td>39899</td>\n",
              "      <td>2015-09-30</td>\n",
              "      <td>55.00</td>\n",
              "      <td>-1.00</td>\n",
              "      <td>-0.018182</td>\n",
              "      <td>3.00</td>\n",
              "      <td>0.044776</td>\n",
              "      <td>0.00</td>\n",
              "      <td>0.000000</td>\n",
              "      <td>-8.00</td>\n",
              "      <td>-0.150943</td>\n",
              "      <td>3</td>\n",
              "      <td>2015</td>\n",
              "      <td>9</td>\n",
              "      <td>10Q</td>\n",
              "      <td>0000039899-15-000026.txt : 2015111010-Q 1 tgn...</td>\n",
              "      <td>Changing regulations, particularly FCC Regulat...</td>\n",
              "      <td>0.79 0.77 0.74 0.72 0.72 0.72 0.72 0.71 0.71 0...</td>\n",
              "      <td>Commitment fees on the revolving credit agreem...</td>\n",
              "      <td>Commitment fees on the revolving credit agreem...</td>\n",
              "      <td>NaN</td>\n",
              "      <td>NaN</td>\n",
              "      <td>_NUMBER_  _NUMBER_  _NUMBER_  _NUMBER_  _NUM...</td>\n",
              "      <td>If we do not have in place our own systems and...</td>\n",
              "    </tr>\n",
              "    <tr>\n",
              "      <th>2271</th>\n",
              "      <td>2271</td>\n",
              "      <td>2271</td>\n",
              "      <td>5938</td>\n",
              "      <td>2965</td>\n",
              "      <td>30824</td>\n",
              "      <td>1136869</td>\n",
              "      <td>2015-09-30</td>\n",
              "      <td>62.00</td>\n",
              "      <td>-2.00</td>\n",
              "      <td>-0.032258</td>\n",
              "      <td>-1.00</td>\n",
              "      <td>-0.015625</td>\n",
              "      <td>-1.00</td>\n",
              "      <td>-0.017544</td>\n",
              "      <td>-5.00</td>\n",
              "      <td>-0.073529</td>\n",
              "      <td>3</td>\n",
              "      <td>2015</td>\n",
              "      <td>9</td>\n",
              "      <td>10Q</td>\n",
              "      <td>0001193125-15-372121.txt : 2015111010-Q 1 d20...</td>\n",
              "      <td>The net amount of tax liability for unrecogniz...</td>\n",
              "      <td>0.77 0.77 0.76 0.76 0.75 0.73 0.73 0.72 0.71 0...</td>\n",
              "      <td>Fair Value Measurement of Assets and Liabiliti...</td>\n",
              "      <td>Fair Value Measurement of Assets and Liabiliti...</td>\n",
              "      <td>NaN</td>\n",
              "      <td>NaN</td>\n",
              "      <td>_NUMBER_  _NUMBER_  _NUMBER_  _NUMBER_  _NUM...</td>\n",
              "      <td>These risks and uncertainties include, but are...</td>\n",
              "    </tr>\n",
              "    <tr>\n",
              "      <th>2272</th>\n",
              "      <td>2272</td>\n",
              "      <td>2272</td>\n",
              "      <td>5939</td>\n",
              "      <td>2966</td>\n",
              "      <td>30866</td>\n",
              "      <td>1158449</td>\n",
              "      <td>2015-09-30</td>\n",
              "      <td>48.00</td>\n",
              "      <td>2.00</td>\n",
              "      <td>0.041667</td>\n",
              "      <td>4.00</td>\n",
              "      <td>0.067797</td>\n",
              "      <td>0.00</td>\n",
              "      <td>0.000000</td>\n",
              "      <td>4.00</td>\n",
              "      <td>0.097561</td>\n",
              "      <td>3</td>\n",
              "      <td>2015</td>\n",
              "      <td>9</td>\n",
              "      <td>10Q</td>\n",
              "      <td>0001158449-15-000190.txt : 2015111710-Q 1 aap...</td>\n",
              "      <td>Listed below and discussed in our Annual Repor...</td>\n",
              "      <td>0.74 0.7 0.69 0.69 0.68 0.68 0.67 0.67 0.67 0....</td>\n",
              "      <td>This new standard requires management to perfo...</td>\n",
              "      <td>This new standard requires management to perfo...</td>\n",
              "      <td>NaN</td>\n",
              "      <td>NaN</td>\n",
              "      <td>_NUMBER_  _NUMBER_  _NUMBER_  _NUMBER_  _NUM...</td>\n",
              "      <td>Condensed Consolidated Financial Statements of...</td>\n",
              "    </tr>\n",
              "    <tr>\n",
              "      <th>2273</th>\n",
              "      <td>2273</td>\n",
              "      <td>2273</td>\n",
              "      <td>5940</td>\n",
              "      <td>2967</td>\n",
              "      <td>30907</td>\n",
              "      <td>728535</td>\n",
              "      <td>2015-09-30</td>\n",
              "      <td>54.00</td>\n",
              "      <td>-5.00</td>\n",
              "      <td>-0.092593</td>\n",
              "      <td>-2.00</td>\n",
              "      <td>-0.032258</td>\n",
              "      <td>0.00</td>\n",
              "      <td>0.000000</td>\n",
              "      <td>-13.00</td>\n",
              "      <td>-0.236364</td>\n",
              "      <td>3</td>\n",
              "      <td>2015</td>\n",
              "      <td>9</td>\n",
              "      <td>10Q</td>\n",
              "      <td>0001437749-15-018776.txt : 2015102310-Q 1 jbh...</td>\n",
              "      <td>Rapid changes in fuel costs could impact our p...</td>\n",
              "      <td>0.77 0.77 0.74 0.73 0.73 0.73 0.72 0.7 0.7 0.7...</td>\n",
              "      <td>This new senior credit facility has a five yea...</td>\n",
              "      <td>This new senior credit facility has a five yea...</td>\n",
              "      <td>NaN</td>\n",
              "      <td>NaN</td>\n",
              "      <td>_NUMBER_  _NUMBER_  _NUMBER_  _NUMBER_  _NUM...</td>\n",
              "      <td>Benefits from core rate increases and improvem...</td>\n",
              "    </tr>\n",
              "  </tbody>\n",
              "</table>\n",
              "<p>2274 rows × 29 columns</p>\n",
              "</div>"
            ],
            "text/plain": [
              "      Unnamed: 0  ...                 top_3_sents_use_one_compare_no_num\n",
              "0              0  ...  One such cost is our obligation, along with th...\n",
              "1              1  ...  As a result, we may become subject to liabilit...\n",
              "2              2  ...  The Toxic Substances Control Act prohibits per...\n",
              "3              3  ...  The Company s business may be impacted bypolit...\n",
              "4              4  ...  The Company s business may be impacted by poli...\n",
              "...          ...  ...                                                ...\n",
              "2269        2269  ...  Our business is subject to numerous risks and ...\n",
              "2270        2270  ...  If we do not have in place our own systems and...\n",
              "2271        2271  ...  These risks and uncertainties include, but are...\n",
              "2272        2272  ...  Condensed Consolidated Financial Statements of...\n",
              "2273        2273  ...  Benefits from core rate increases and improvem...\n",
              "\n",
              "[2274 rows x 29 columns]"
            ]
          },
          "metadata": {
            "tags": []
          },
          "execution_count": 25
        }
      ]
    },
    {
      "cell_type": "code",
      "metadata": {
        "colab": {
          "base_uri": "https://localhost:8080/"
        },
        "id": "BYfwQnd7h4IM",
        "outputId": "02b476bc-dedf-4863-c752-2836891ea70f"
      },
      "source": [
        "import difflib\n",
        "\n",
        "def get_overlap(s1, s2):\n",
        "  overlaps = []\n",
        "  s = difflib.SequenceMatcher(None, s1, s2)\n",
        "  for match in s.get_matching_blocks():\n",
        "    pos_a, pos_b, size = match\n",
        "    if((size>50)):\n",
        "      overlaps.append(s1[pos_a:pos_a+size])\n",
        "  return overlaps\n",
        "  \n",
        "s1 = subset_read_10q_df.iloc[0,22]\n",
        "print(s1)\n",
        "s2 = subset_read_10q_df.iloc[1,22]\n",
        "print(s2)\n",
        "print(get_overlap(s1, s2))"
      ],
      "execution_count": null,
      "outputs": [
        {
          "output_type": "stream",
          "text": [
            "The reassessment process considers whether we have acquired the power to direct the most significant activities of the VIE through changes in governing documents or other circumstances. The maximum exposure is equal to the carrying value because we do not have future funding commitments. Under the authoritative guidance we have the option to perform a qualitative assessment to determine whether further impairment testing is necessary. If an entity believes, as a result of its qualitative assessment, that it is more_NUMBER_likely_NUMBER_than_NUMBER_not _NUMBER_i.e. These include macro_NUMBER_economic conditions such as deterioration in the entity's operating environment or industry or market considerations; entity_NUMBER_specific events such as increasing costs, declining financial performance, or loss of key personnel; or other events such as an expectation that a reporting unit will be sold or a sustained decrease in the stock price on either an absolute basis or relative to peers. If it is determined, as a result of the qualitative assessment, that it is more_NUMBER_likely_NUMBER_than_NUMBER_not that the fair value of a reporting unit is less than its carrying amount, the provisions of authoritative guidance require that we perform a two_NUMBER_step impairment test on goodwill. An organization may choose to bypass the qualitative assessment for any indefinite_NUMBER_lived intangible asset in any period and proceed directly to calculating its fair value. Additional amendments to the accounting for income taxes on previously reported quarterly results was the recognition of the windfall tax benefits as a cumulative effect adjustment to opening retained earnings of   _NUMBER__NUMBER__NUMBER__NUMBER_ million   together with an increase in deferred tax assets included in other assets of   _NUMBER__NUMBER__NUMBER_ million  , an increase in additional paid in capital of   _NUMBER__NUMBER_ million  , a reduction in other accrued liabilities of   _NUMBER__NUMBER_ million   and a decrease of   _NUMBER__NUMBER__NUMBER_ million   in other long term liabilities. Changes in the time value of the foreign exchange contract are excluded from the assessment of hedge effectiveness and are recognized in other income _NUMBER_expense_NUMBER_ each period. For options designated as cash flow hedges, changes in the time value are excluded from the assessment of hedge effectiveness and are recognized in other income _NUMBER_expense_NUMBER_ over the life of the option contract. On June _NUMBER_, _NUMBER__NUMBER__NUMBER__NUMBER_, the commitments under the existing credit facility were increased by   _NUMBER__NUMBER__NUMBER__NUMBER_ million   so that the aggregate commitments under the facility now total   _NUMBER__NUMBER__NUMBER__NUMBER_ million  . This report contains forward_NUMBER_looking statements including, without limitation, statements regarding trends, seasonality and growth in, and drivers of, the markets we sell into, our strategic direction, our future effective tax rate and tax valuation allowance, earnings from our foreign subsidiaries, lease and site services income from Keysight, the impact of foreign currency movements on our performance, our hedging programs, remediation activities, indemnification, new product and service introductions, the ability of our products to meet market needs, adoption of our products, changes to our manufacturing processes, the use of contract manufacturers, out sourcing and third_NUMBER_party package delivery services, source and supply of materials used in our products, the impact of local government regulations on our ability to pay vendors or conduct operations, our liquidity position and cash availability, our ability to generate cash from operations, growth in our businesses, our investments, including in research and development, the potential impact of adopting new accounting pronouncements, our financial results, our operating margin, our sales, our purchase commitments, our capital expenditures, our contributions to our pension and other defined benefit plans, our strategic initiatives, our cost_NUMBER_control activities and other cost saving initiatives, uncertainties relating to Food and Drug Administration _NUMBER_\"FDA\"_NUMBER_ and other regulatory approvals, the integration of our acquisitions and other transactions, impairment of goodwill and other intangible assets, write down of investment values or loans and convertible notes, remediation of our material weakness, our stock repurchase program, our declared dividends, our transition to lower_NUMBER_cost regions, and the existence of economic instability, that involve risks and uncertainties. Within the applied markets, and excluding the impact of foreign currency movements, the NMR business and acquisitions, there was strong revenue growth in both the environmental and food markets, but revenue from sales to other applied markets was weak with a decline in revenue from sales to the chemical and energy markets in the   three and nine   months ended   July _NUMBER__NUMBER_, _NUMBER__NUMBER__NUMBER__NUMBER_  , when compared to the same periods last year. Excluding the impact of foreign currency movements, revenue grew strongly in the pharmaceutical and biotechnology market as well as in the food and environmental markets in the   three and nine   months ended   July _NUMBER__NUMBER_, _NUMBER__NUMBER__NUMBER__NUMBER_   when compared to the same periods last year. Within the applied markets, and excluding the impact of foreign currency movements, the NMR business and acquisitions, there was strong revenue growth in both the environmental and food markets, but revenue from sales to other applied markets was weak with a decline in revenue from sales to the chemical and energy markets in the   three and nine   months ended   July _NUMBER__NUMBER_, _NUMBER__NUMBER__NUMBER__NUMBER_  , when compared to the same periods last year. Excluding the impact of foreign currency movements, revenue grew strongly in the pharmaceutical and biotechnology market as well as in the food and environmental markets in the   three and nine   months ended   July _NUMBER__NUMBER_, _NUMBER__NUMBER__NUMBER__NUMBER_   when compared to the same periods last year. The decline in the Americas for the three and nine months ended July _NUMBER__NUMBER_, _NUMBER__NUMBER__NUMBER__NUMBER_ when compared to the same period last year was due to continued weakness in the chemical and energy markets, softness in diagnostic and clinical markets, and the impact of the exiting of the NMR business. Growth in Asia Pacific excluding Japan reflected broad growth in China, particularly in the environmental and food markets. European sales were down on weakness in sales to energy and applied markets. Chemical and energy end_NUMBER_market revenue performance continued to decline in the three and nine months ended July _NUMBER__NUMBER_, _NUMBER__NUMBER__NUMBER__NUMBER_. Continued government spending in China for environmental initiatives helped drive market performance in the segment. We remain concerned about short term prospects in chemical and energy markets, but are confident in our product portfolio to address customer needs when the market does recover. The food market saw very strong growth and the environmental market saw strong growth for the three months ended July _NUMBER__NUMBER_, _NUMBER__NUMBER__NUMBER__NUMBER_. The drivers of growth in the short_NUMBER_term and long_NUMBER_term will be our commitment to bring innovative solutions to market and our focus on improving customer experience. We believe our cash and cash equivalents, cash generated from operations, and ability to access capital markets and credit lines will satisfy, for at least the next twelve months, our liquidity requirements, both globally and domestically, including the following: working capital needs, capital expenditures, business acquisitions, stock repurchases, cash dividends, contractual obligations, commitments, principal and interest payments on debt, and other liquidity requirements associated with our operations. On June _NUMBER_, _NUMBER__NUMBER__NUMBER__NUMBER_, the commitments under the existing credit facility were increased by   _NUMBER__NUMBER__NUMBER__NUMBER_ million   so that the aggregate commitments under the facility now total   _NUMBER__NUMBER__NUMBER__NUMBER_ million  . _NUMBER__NUMBER_      Table of Contents  Other       As of July _NUMBER__NUMBER_, _NUMBER__NUMBER__NUMBER__NUMBER_ our contractual obligations reported under  other purchase commitments   were approximately _NUMBER__NUMBER__NUMBER_ million, an increase of approximately _NUMBER__NUMBER__NUMBER_ million in the first nine months of fiscal year _NUMBER__NUMBER__NUMBER__NUMBER_, largely due to a renewed telecommunications contract together with a long_NUMBER_term support contract related to the purchase of a software license. There were no other substantial changes from our _NUMBER__NUMBER__NUMBER__NUMBER_ Annual Report on Form _NUMBER__NUMBER__NUMBER_K to our contractual commitments in the first   nine   months of fiscal _NUMBER__NUMBER__NUMBER__NUMBER_. We have contractual commitments for non_NUMBER_cancelable operating leases. We have no other material non_NUMBER_cancelable guarantees or commitments. QUANTITATIVE AND QUALITATIVE DISCLOSURES ABOUT MARKET RISK       We are exposed to foreign currency exchange rate risks inherent in our sales commitments, anticipated sales, and assets and liabilities denominated in currencies other than the functional currency of our subsidiaries. While some of the remediation actions are completed, remediation actions will take time to be fully integrated and confirmed to be effective and sustainable. Also, in such an environment, pricing pressures could intensify. In order to secure components for the production of products, we may continue to enter into non_NUMBER_cancelable purchase commitments with vendors, or at times make advance payments to suppliers, which could impact our ability to adjust our inventory to declining market demands. Some of our products are subject to particularly complex regulations such as regulations of toxic substances and failure to comply with such regulations could harm our business. Environmental contamination from past operations could subject us to unreimbursed costs and could harm on_NUMBER_site operations and the future use and value of the properties involved, and environmental contamination caused by ongoing operations could subject us to substantial liabilities in the future. Certain properties transferred to Keysight Technologies, Inc. _NUMBER_ Keysight _NUMBER_ as part of the separation are undergoing remediation by HP Inc. and Hewlett_NUMBER_Packard Enterprise _NUMBER_formerly Hewlett_NUMBER_Packard Company_NUMBER_ _NUMBER_together \"HP\"_NUMBER_ for subsurface contaminations that were known at the time of our separation from HP. HP has agreed to retain the liability for this subsurface contamination, perform the required remediation and indemnify Keysight with respect to claims arising out of that contamination. While HP has agreed to minimize interference with on_NUMBER_site operations at those properties, remediation activities and subsurface contamination may require Keysight to incur unreimbursed costs and could harm on_NUMBER_site operations and the future use and value of the properties. In addition, the       _NUMBER__NUMBER_      Table of Contents  determination of the existence and cost of any additional contamination caused by us prior to the separation could involve costly and time_NUMBER_consuming negotiations and litigation. Other than those properties currently undergoing remediation by HP, we have agreed to indemnify HP, with respect to any liability associated with contamination from past operations, and Keysight, with respect to any liability associated with contamination prior to the separation, at, respectively, properties transferred from HP to us and properties transferred by us to Keysight. While we are not aware of any material liabilities associated with any potential subsurface contamination at any of those properties, subsurface contamination may exist, and we may be exposed to material liability as a result of the existence of that contamination. Our current and historical manufacturing processes involve, or have involved, the use of substances regulated under various international, federal, state and local laws governing the environment. As a result, we may become subject to liabilities for environmental contamination, and these liabilities may be substantial. While we have divested substantially all of our semiconductor related businesses to Avago Technologies Ltd. and Advantest Corporation and regardless of indemnification arrangements with those parties, we may still become subject to liabilities for historical environmental contamination related to those businesses. Although our policy is to apply strict standards for environmental protection at our sites inside and outside the United States, even if the sites outside the United States are not subject to regulations imposed by foreign governments, we may not be aware of all conditions that could subject us to liability. As part of our acquisition of Varian, Inc. _NUMBER_ Varian _NUMBER_ we assumed the liabilities of Varian, including Varian's costs and potential liabilities for environmental matters. One such cost is our obligation, along with the obligation of Varian Semiconductor Equipment Associates, Inc. _NUMBER_\"VSEA\"_NUMBER_ to each indemnify Varian Medical Systems, Inc. _NUMBER_ VMS _NUMBER_ for certain costs relating to _NUMBER_a_NUMBER_ environmental investigation, monitoring and/or remediation activities at certain facilities previously operated by Varian Associates, Inc. _NUMBER_\"VAI\"_NUMBER_ and third_NUMBER_party claims made in connection with environmental conditions at those facilities, and _NUMBER_b_NUMBER_ EPA or third_NUMBER_party claims alleging that VAI or VMS is a potentially responsible party under the Comprehensive Environmental Response Compensation and Liability Act of _NUMBER__NUMBER__NUMBER__NUMBER_, as amended in connection with certain sites to which VAI allegedly shipped manufacturing waste for recycling, treatment or disposal. Although any ultimate liability arising from environmental_NUMBER_related matters could result in significant expenditures that, if aggregated and assumed to occur within a single fiscal year, could be material to our financial statements, the likelihood of such occurrence is considered remote. Based on information currently available and our best assessment of the ultimate amount and timing of environmental_NUMBER_related events, management believes that the costs of environmental_NUMBER_related matters are unlikely to have a material adverse effect on our financial condition or results of operations. These assessments can require a high degree of judgment and estimation. Several jurisdictions have granted Agilent tax incentives which require renewal at various times in the future. Agilent's taxes could increase if the incentives are not renewed upon expiration. On June _NUMBER_, _NUMBER__NUMBER__NUMBER__NUMBER_, we increased the commitments under the existing credit facility by _NUMBER__NUMBER__NUMBER__NUMBER_ million so that the aggregate commitments under the facility now total _NUMBER__NUMBER__NUMBER__NUMBER_ million and retained a provision that allows us to further increase commitments to the credit facility by _NUMBER__NUMBER__NUMBER__NUMBER_ million in the aggregate, subject to certain conditions.\n",
            "The reassessment process considers whether we have acquired the power to direct the most significant activities of the VIE through changes in governing documents or other circumstances. Changes in the time value of the foreign exchange contract are excluded from the assessment of hedge effectiveness and are recognized in other income _NUMBER_expense_NUMBER_ each period. For options designated as cash flow hedges, changes in the time value are excluded from the assessment of hedge effectiveness and are recognized in other income _NUMBER_expense_NUMBER_ over the life of the option contract. On June _NUMBER_, _NUMBER__NUMBER__NUMBER__NUMBER_, the commitments under the existing credit facility were increased by   _NUMBER__NUMBER__NUMBER__NUMBER_ million   so that the aggregate commitments under the facility now total   _NUMBER__NUMBER__NUMBER__NUMBER_ million  . This report contains forward_NUMBER_looking statements including, without limitation, statements regarding trends, seasonality and growth in, and drivers of, the markets we sell into, our strategic direction, our future effective tax rate and tax valuation allowance, earnings from our foreign subsidiaries, lease and site services income from Keysight, the impact of foreign currency movements on our performance, our hedging programs, indemnification, new product and service introductions, the ability of our products to meet market needs, adoption of our products, changes to our manufacturing processes, the use of contract manufacturers, out sourcing and third_NUMBER_party package delivery services, source and supply of materials used in our products, the impact of local government regulations on our ability to pay vendors or conduct operations, our liquidity position, our ability to generate cash from operations, growth in our businesses, our investments, including in research and development, the potential impact of adopting new accounting pronouncements, our financial results, our operating margin, our sales, our purchase commitments, our capital expenditures, our contributions to our pension and other defined benefit plans, our strategic initiatives, our cost_NUMBER_control activities and other cost saving initiatives, uncertainties relating to Food and Drug Administration _NUMBER_\"FDA\"_NUMBER_ and other regulatory approvals, the integration of our acquisitions and other transactions, impairment of goodwill and other intangible assets, write down of investment values or loans and convertible notes, our stock repurchase program, our declared dividends, and the existence of economic instability, that involve risks and uncertainties. Within the applied markets, there was strong revenue growth in the environmental and chemical and energy markets with modest revenue growth in the food market and ongoing declines in the forensics market in the   three and six   months ended   April _NUMBER__NUMBER_, _NUMBER__NUMBER__NUMBER__NUMBER_  , when compared to the same periods last year. For the three and six months ended April _NUMBER__NUMBER_, _NUMBER__NUMBER__NUMBER__NUMBER_, revenue grew across nearly all key markets led by strong growth in the diagnostics and clinical, environmental, food and the chemical and energy markets. Within the chemical and energy market, we are encouraged by two consecutive quarters of revenue growth but a cyclical recovery in these markets cannot yet be determined. Within the applied markets, there was strong revenue growth in the environmental and chemical and energy markets with modest revenue growth in the food market and ongoing declines in the forensics market in the   three and six   months ended   April _NUMBER__NUMBER_, _NUMBER__NUMBER__NUMBER__NUMBER_  , when compared to the same periods last year. For the three and six months ended April _NUMBER__NUMBER_, _NUMBER__NUMBER__NUMBER__NUMBER_, revenue grew across nearly all key markets led by strong growth in the diagnostics and clinical, environmental, food and the chemical and energy markets. Gas chromatography and gas chromatography mass spectrometry saw strong revenue growth helped by increased demand in chemical and energy market sales. For the three months ended April _NUMBER__NUMBER_, _NUMBER__NUMBER__NUMBER__NUMBER_, end market performance was led by encouraging demand in the chemical and energy markets. Pharmaceutical and biotechnology markets continued to have solid growth during our second quarter as did environmental sales. For the six months ended April _NUMBER__NUMBER_, _NUMBER__NUMBER__NUMBER__NUMBER_, chemical and energy and pharmaceutical sales were the primary drivers of growth, with weakness coming from life science research and diagnostic and clinical sales. We are encouraged by the continued growth in the chemical and energy markets but a cyclical recovery in these markets cannot yet be determined. We believe our cash and cash equivalents, cash generated from operations, and ability to access capital markets and credit lines will satisfy, for at least the next twelve months, our liquidity requirements, both globally and domestically, including the       _NUMBER__NUMBER_      Table of Contents  following: working capital needs, capital expenditures, business acquisitions, stock repurchases, cash dividends, contractual obligations, commitments, principal and interest payments on debt, and other liquidity requirements associated with our operations. On June _NUMBER_, _NUMBER__NUMBER__NUMBER__NUMBER_, the commitments under the existing credit facility were increased by   _NUMBER__NUMBER__NUMBER__NUMBER_ million   so that the aggregate commitments under the facility now total   _NUMBER__NUMBER__NUMBER__NUMBER_ million  . Other       As of   April _NUMBER__NUMBER_, _NUMBER__NUMBER__NUMBER__NUMBER_   our contractual obligations reported under  other purchase commitments  were approximately _NUMBER__NUMBER__NUMBER_ million, a decrease of approximately _NUMBER__NUMBER__NUMBER_ million in the first   six   months of fiscal year _NUMBER__NUMBER__NUMBER__NUMBER_, primarily due to the reduction in commitments that occurred as purchases were made. There were no other substantial changes from our _NUMBER__NUMBER__NUMBER__NUMBER_ Annual Report on Form _NUMBER__NUMBER__NUMBER_K to our contractual commitments in the first   six   months of fiscal _NUMBER__NUMBER__NUMBER__NUMBER_. We have contractual commitments for non_NUMBER_cancelable operating leases. We have no other material non_NUMBER_cancelable guarantees or commitments. QUANTITATIVE AND QUALITATIVE DISCLOSURES ABOUT MARKET RISK       We are exposed to foreign currency exchange rate risks inherent in our sales commitments, anticipated sales, and assets and liabilities denominated in currencies other than the functional currency of our subsidiaries. Also, in such an environment, pricing pressures could intensify. In order to secure components for the production of products, we may continue to enter into non_NUMBER_cancelable purchase commitments with vendors, or at times make advance payments to suppliers, which could impact our ability to adjust our inventory to declining market demands. Some of our products are subject to particularly complex regulations such as regulations of toxic substances and failure to comply with such regulations could harm our business. Environmental contamination from past operations could subject us to unreimbursed costs and could harm on_NUMBER_site operations and the future use and value of the properties involved, and environmental contamination caused by ongoing operations could subject us to substantial liabilities in the future. Certain properties transferred to Keysight Technologies, Inc. _NUMBER_ Keysight _NUMBER_ as part of the separation are undergoing remediation by HP Inc. and Hewlett_NUMBER_Packard Enterprise _NUMBER_formerly Hewlett_NUMBER_Packard Company_NUMBER_ _NUMBER_together \"HP\"_NUMBER_ for subsurface contaminations that were known at the time of our separation from HP. HP has agreed to retain the liability for this subsurface contamination, perform the required remediation and indemnify Keysight with respect to claims arising out of that contamination. While HP has agreed to minimize interference with on_NUMBER_site operations at those properties, remediation activities and subsurface contamination may require Keysight to incur unreimbursed costs and could harm on_NUMBER_site operations and the future use and value of the properties. In addition, the determination of the existence and cost of any additional contamination caused by us prior to the separation could involve costly and time_NUMBER_consuming negotiations and litigation. Other than those properties currently undergoing remediation by HP, we have agreed to indemnify HP, with respect to any liability associated with contamination from past operations, and Keysight, with respect to any liability associated with contamination prior to the separation, at, respectively, properties transferred from HP to us and properties transferred by us to Keysight. While we are not aware of any material liabilities associated with any potential subsurface contamination at any of       _NUMBER__NUMBER_      Table of Contents  those properties, subsurface contamination may exist, and we may be exposed to material liability as a result of the existence of that contamination. Our current and historical manufacturing processes involve, or have involved, the use of substances regulated under various international, federal, state and local laws governing the environment. As a result, we may become subject to liabilities for environmental contamination, and these liabilities may be substantial. While we have divested substantially all of our semiconductor related businesses to Avago Technologies Ltd. and Advantest Corporation and regardless of indemnification arrangements with those parties, we may still become subject to liabilities for historical environmental contamination related to those businesses. Although our policy is to apply strict standards for environmental protection at our sites inside and outside the United States, even if the sites outside the United States are not subject to regulations imposed by foreign governments, we may not be aware of all conditions that could subject us to liability. As part of our acquisition of Varian, Inc. _NUMBER_ Varian _NUMBER_ we assumed the liabilities of Varian, including Varian's costs and potential liabilities for environmental matters. One such cost is our obligation, along with the obligation of Varian Semiconductor Equipment Associates, Inc. _NUMBER_\"VSEA\"_NUMBER_ to each indemnify Varian Medical Systems, Inc. _NUMBER_ VMS _NUMBER_ for certain costs relating to _NUMBER_a_NUMBER_ environmental investigation, monitoring and/or remediation activities at certain facilities previously operated by Varian Associates, Inc. _NUMBER_\"VAI\"_NUMBER_ and third_NUMBER_party claims made in connection with environmental conditions at those facilities, and _NUMBER_b_NUMBER_ EPA or third_NUMBER_party claims alleging that VAI or VMS is a potentially responsible party under the Comprehensive Environmental Response Compensation and Liability Act of _NUMBER__NUMBER__NUMBER__NUMBER_, as amended, in connection with certain sites to which VAI allegedly shipped manufacturing waste for recycling, treatment or disposal. Although any ultimate liability arising from environmental_NUMBER_related matters could result in significant expenditures that, if aggregated and assumed to occur within a single fiscal year, could be material to our financial statements, the likelihood of such occurrence is considered unlikely. Based on information currently available and our best assessment of the ultimate amount and timing of environmental_NUMBER_related events, management believes that the costs of environmental_NUMBER_related matters are unlikely to have a material adverse effect on our financial condition or results of operations. These assessments can require a high degree of judgment and estimation. Several jurisdictions have granted Agilent tax incentives which require renewal at various times in the future. Agilent's taxes could increase if the incentives are not renewed upon expiration. On June _NUMBER_, _NUMBER__NUMBER__NUMBER__NUMBER_, we increased the commitments under the existing credit facility by _NUMBER__NUMBER__NUMBER__NUMBER_ million so that the aggregate commitments under the facility now total _NUMBER__NUMBER__NUMBER__NUMBER_ million and retained a provision that allows us to further increase commitments to the credit facility by _NUMBER__NUMBER__NUMBER__NUMBER_ million in the aggregate, subject to certain conditions.\n",
            "C\n",
            "['The reassessment process considers whether we have acquired the power to direct the most significant activities of the VIE through changes in governing documents or other circumstances. ', ', our ability to generate cash from operations, growth in our businesses, our investments, including in research and development, the potential impact of adopting new accounting pronouncements, our financial results, our operating margin, our sales, our purchase commitments, our capital expenditures, our contributions to our pension and other defined benefit plans, our strategic initiatives, our cost_NUMBER_control activities and other cost saving initiatives, uncertainties relating to Food and Drug Administration _NUMBER_\"FDA\"_NUMBER_ and other regulatory approvals, the integration of our acquisitions and other transactions, impairment of goodwill and other intangible assets, write down of investment values or loans and convertible notes, ', '   months of fiscal _NUMBER__NUMBER__NUMBER__NUMBER_. We have contractual commitments for non_NUMBER_cancelable operating leases. We have no other material non_NUMBER_cancelable guarantees or commitments. QUANTITATIVE AND QUALITATIVE DISCLOSURES ABOUT MARKET RISK       We are exposed to foreign currency exchange rate risks inherent in our sales commitments, anticipated sales, and assets and liabilities denominated in currencies other than the functional currency of our subsidiaries. ', 'Also, in such an environment, pricing pressures could intensify. In order to secure components for the production of products, we may continue to enter into non_NUMBER_cancelable purchase commitments with vendors, or at times make advance payments to suppliers, which could impact our ability to adjust our inventory to declining market demands. Some of our products are subject to particularly complex regulations such as regulations of toxic substances and failure to comply with such regulations could harm our business. Environmental contamination from past operations could subject us to unreimbursed costs and could harm on_NUMBER_site operations and the future use and value of the properties involved, and environmental contamination caused by ongoing operations could subject us to substantial liabilities in the future. Certain properties transferred to Keysight Technologies, Inc. _NUMBER_ Keysight _NUMBER_ as part of the separation are undergoing remediation by HP Inc. and Hewlett_NUMBER_Packard Enterprise _NUMBER_formerly Hewlett_NUMBER_Packard Company_NUMBER_ _NUMBER_together \"HP\"_NUMBER_ for subsurface contaminations that were known at the time of our separation from HP. HP has agreed to retain the liability for this subsurface contamination, perform the required remediation and indemnify Keysight with respect to claims arising out of that contamination. While HP has agreed to minimize interference with on_NUMBER_site operations at those properties, remediation activities and subsurface contamination may require Keysight to incur unreimbursed costs and could harm on_NUMBER_site operations and the future use and value of the properties. In addition, the ', 'determination of the existence and cost of any additional contamination caused by us prior to the separation could involve costly and time_NUMBER_consuming negotiations and litigation. Other than those properties currently undergoing remediation by HP, we have agreed to indemnify HP, with respect to any liability associated with contamination from past operations, and Keysight, with respect to any liability associated with contamination prior to the separation, at, respectively, properties transferred from HP to us and properties transferred by us to Keysight. While we are not aware of any material liabilities associated with any potential subsurface contamination at any of', ' those properties, subsurface contamination may exist, and we may be exposed to material liability as a result of the existence of that contamination. Our current and historical manufacturing processes involve, or have involved, the use of substances regulated under various international, federal, state and local laws governing the environment. As a result, we may become subject to liabilities for environmental contamination, and these liabilities may be substantial. While we have divested substantially all of our semiconductor related businesses to Avago Technologies Ltd. and Advantest Corporation and regardless of indemnification arrangements with those parties, we may still become subject to liabilities for historical environmental contamination related to those businesses. Although our policy is to apply strict standards for environmental protection at our sites inside and outside the United States, even if the sites outside the United States are not subject to regulations imposed by foreign governments, we may not be aware of all conditions that could subject us to liability. As part of our acquisition of Varian, Inc. _NUMBER_ Varian _NUMBER_ we assumed the liabilities of Varian, including Varian\\'s costs and potential liabilities for environmental matters. One such cost is our obligation, along with the obligation of Varian Semiconductor Equipment Associates, Inc. _NUMBER_\"VSEA\"_NUMBER_ to each indemnify Varian Medical Systems, Inc. _NUMBER_ VMS _NUMBER_ for certain costs relating to _NUMBER_a_NUMBER_ environmental investigation, monitoring and/or remediation activities at certain facilities previously operated by Varian Associates, Inc. _NUMBER_\"VAI\"_NUMBER_ and third_NUMBER_party claims made in connection with environmental conditions at those facilities, and _NUMBER_b_NUMBER_ EPA or third_NUMBER_party claims alleging that VAI or VMS is a potentially responsible party under the Comprehensive Environmental Response Compensation and Liability Act of _NUMBER__NUMBER__NUMBER__NUMBER_, as amended', ' in connection with certain sites to which VAI allegedly shipped manufacturing waste for recycling, treatment or disposal. Although any ultimate liability arising from environmental_NUMBER_related matters could result in significant expenditures that, if aggregated and assumed to occur within a single fiscal year, could be material to our financial statements, the likelihood of such occurrence is considered ', \". Based on information currently available and our best assessment of the ultimate amount and timing of environmental_NUMBER_related events, management believes that the costs of environmental_NUMBER_related matters are unlikely to have a material adverse effect on our financial condition or results of operations. These assessments can require a high degree of judgment and estimation. Several jurisdictions have granted Agilent tax incentives which require renewal at various times in the future. Agilent's taxes could increase if the incentives are not renewed upon expiration. On June _NUMBER_, _NUMBER__NUMBER__NUMBER__NUMBER_, we increased the commitments under the existing credit facility by _NUMBER__NUMBER__NUMBER__NUMBER_ million so that the aggregate commitments under the facility now total _NUMBER__NUMBER__NUMBER__NUMBER_ million and retained a provision that allows us to further increase commitments to the credit facility by _NUMBER__NUMBER__NUMBER__NUMBER_ million in the aggregate, subject to certain conditions.\"]\n"
          ],
          "name": "stdout"
        }
      ]
    },
    {
      "cell_type": "code",
      "metadata": {
        "colab": {
          "base_uri": "https://localhost:8080/"
        },
        "id": "B02ArMbE_T8Y",
        "outputId": "58cecade-3992-4238-a7b6-1d515948c497"
      },
      "source": [
        "len(\"The reassessment process considers whether we have acquired the power to direct the most significant activities of the VIE through changes in governing documents or other circumstances. \")"
      ],
      "execution_count": null,
      "outputs": [
        {
          "output_type": "execute_result",
          "data": {
            "text/plain": [
              "186"
            ]
          },
          "metadata": {
            "tags": []
          },
          "execution_count": 127
        }
      ]
    },
    {
      "cell_type": "code",
      "metadata": {
        "colab": {
          "base_uri": "https://localhost:8080/"
        },
        "id": "VBryekuwiEu0",
        "outputId": "6ef89660-7649-4d07-a405-f8984f5aae99"
      },
      "source": [
        "type(subset_read_10q_df['CIK'].to_numpy())"
      ],
      "execution_count": null,
      "outputs": [
        {
          "output_type": "execute_result",
          "data": {
            "text/plain": [
              "numpy.ndarray"
            ]
          },
          "metadata": {
            "tags": []
          },
          "execution_count": 204
        }
      ]
    },
    {
      "cell_type": "code",
      "metadata": {
        "id": "aobeUBuWGULK"
      },
      "source": [
        "subset_read_10q_df['contained_env_words_sents_num_boiler_plt_removed'] = ''"
      ],
      "execution_count": null,
      "outputs": []
    },
    {
      "cell_type": "code",
      "metadata": {
        "id": "lnsp0m6JiACN"
      },
      "source": [
        "concatenated_filtered_cik_dfs = pd.DataFrame()\n",
        "for cik in subset_read_10q_df['CIK'].to_numpy():\n",
        "  filter_for_cik = subset_read_10q_df[subset_read_10q_df.CIK==cik]\n",
        "  #print(filter_for_cik.iloc[0,22])\n",
        "  #print(filter_for_cik.iloc[1,22])\n",
        "  overlaps_across_quarters = []\n",
        "  for i in range(len(filter_for_cik)-1):\n",
        "    for j in range(i+1, len(filter_for_cik)-2):\n",
        "      overlaps = get_overlap(str(filter_for_cik.iloc[i,22]),str(filter_for_cik.iloc[j,22]))\n",
        "      overlaps_across_quarters = np.concatenate((overlaps_across_quarters, overlaps))\n",
        "  for i in range(len(filter_for_cik)):\n",
        "    filter_for_cik.iloc[i,24] = str(filter_for_cik.iloc[i,22])\n",
        "    for overlap in overlaps_across_quarters:\n",
        "      filter_for_cik.iloc[i,24] = filter_for_cik.iloc[i,24].replace(overlap, '')  \n",
        "  concatenated_filtered_cik_dfs = concatenated_filtered_cik_dfs.append(filter_for_cik)\n",
        "  #print(\"duplicate text: \", overlaps_across_quarters)"
      ],
      "execution_count": null,
      "outputs": []
    },
    {
      "cell_type": "code",
      "metadata": {
        "id": "0mrhyhJ9q85V"
      },
      "source": [
        "subset_read_10q_df.to_csv('no_boiler_plt_subset_read_10q_df.csv')"
      ],
      "execution_count": null,
      "outputs": []
    },
    {
      "cell_type": "code",
      "metadata": {
        "colab": {
          "base_uri": "https://localhost:8080/"
        },
        "id": "MIcCAjwMrAWl",
        "outputId": "ab5f654c-7c15-47f6-eb47-4d5cc32b6962"
      },
      "source": [
        "!gsutil cp no_boiler_plt_subset_read_10q_df.csv gs://esgbert_resourses/raw_data/"
      ],
      "execution_count": null,
      "outputs": [
        {
          "output_type": "stream",
          "text": [
            "Copying file://no_boiler_plt_subset_read_10q_df.csv [Content-Type=text/csv]...\n",
            "/ [0 files][    0.0 B/719.2 MiB]                                                \r==> NOTE: You are uploading one or more large file(s), which would run\n",
            "significantly faster if you enable parallel composite uploads. This\n",
            "feature can be enabled by editing the\n",
            "\"parallel_composite_upload_threshold\" value in your .boto\n",
            "configuration file. However, note that if you do this large files will\n",
            "be uploaded as `composite objects\n",
            "<https://cloud.google.com/storage/docs/composite-objects>`_,which\n",
            "means that any user who downloads such objects will need to have a\n",
            "compiled crcmod installed (see \"gsutil help crcmod\"). This is because\n",
            "without a compiled crcmod, computing checksums on composite objects is\n",
            "so slow that gsutil disables downloads of composite objects.\n",
            "\n",
            "| [1 files][719.2 MiB/719.2 MiB]                                                \n",
            "Operation completed over 1 objects/719.2 MiB.                                    \n"
          ],
          "name": "stdout"
        }
      ]
    },
    {
      "cell_type": "code",
      "metadata": {
        "id": "UlHyHlvfjA3N"
      },
      "source": [
        "concatenated_filtered_cik_dfs=pd.read_csv(\"gs://esgbert_resourses/raw_data/no_boiler_plt_subset_read_10q_df.csv\")"
      ],
      "execution_count": null,
      "outputs": []
    },
    {
      "cell_type": "code",
      "metadata": {
        "colab": {
          "base_uri": "https://localhost:8080/",
          "height": 1000
        },
        "id": "UfuimFEv3oxm",
        "outputId": "662b602b-c0e2-4fe3-b27d-5db66373049c"
      },
      "source": [
        "concatenated_filtered_cik_dfs"
      ],
      "execution_count": null,
      "outputs": [
        {
          "output_type": "execute_result",
          "data": {
            "text/html": [
              "<div>\n",
              "<style scoped>\n",
              "    .dataframe tbody tr th:only-of-type {\n",
              "        vertical-align: middle;\n",
              "    }\n",
              "\n",
              "    .dataframe tbody tr th {\n",
              "        vertical-align: top;\n",
              "    }\n",
              "\n",
              "    .dataframe thead th {\n",
              "        text-align: right;\n",
              "    }\n",
              "</style>\n",
              "<table border=\"1\" class=\"dataframe\">\n",
              "  <thead>\n",
              "    <tr style=\"text-align: right;\">\n",
              "      <th></th>\n",
              "      <th>Unnamed: 0</th>\n",
              "      <th>Unnamed: 0.1</th>\n",
              "      <th>Unnamed: 0.1.1</th>\n",
              "      <th>origin_idx</th>\n",
              "      <th>CIK</th>\n",
              "      <th>date</th>\n",
              "      <th>total_esg_score</th>\n",
              "      <th>total_esg_score_quarter_change_pure</th>\n",
              "      <th>total_esg_score_quarter_change_pct</th>\n",
              "      <th>governance_score_quarter_change_pure</th>\n",
              "      <th>governance_score_quarter_change_pct</th>\n",
              "      <th>social_score_quarter_change_pure</th>\n",
              "      <th>social_score_quarter_change_pct</th>\n",
              "      <th>environment_score_quarter_change_pure</th>\n",
              "      <th>environment_score_quarter_change_pct</th>\n",
              "      <th>quarter</th>\n",
              "      <th>year</th>\n",
              "      <th>month</th>\n",
              "      <th>ReportType</th>\n",
              "      <th>Reports</th>\n",
              "      <th>reports_ordered</th>\n",
              "      <th>reports_cosines</th>\n",
              "      <th>contained_env_words_sents</th>\n",
              "      <th>contained_env_words_sents_num_removed</th>\n",
              "      <th>top_3_sents_use</th>\n",
              "      <th>contained_env_words_sents_num_boiler_plt_removed</th>\n",
              "    </tr>\n",
              "  </thead>\n",
              "  <tbody>\n",
              "    <tr>\n",
              "      <th>0</th>\n",
              "      <td>0</td>\n",
              "      <td>1</td>\n",
              "      <td>1</td>\n",
              "      <td>41</td>\n",
              "      <td>1090872</td>\n",
              "      <td>2016-06-30</td>\n",
              "      <td>71.96</td>\n",
              "      <td>-2.98</td>\n",
              "      <td>-0.041412</td>\n",
              "      <td>1.20</td>\n",
              "      <td>0.019861</td>\n",
              "      <td>-10.44</td>\n",
              "      <td>-0.141024</td>\n",
              "      <td>5.43</td>\n",
              "      <td>0.066155</td>\n",
              "      <td>2</td>\n",
              "      <td>2016</td>\n",
              "      <td>6</td>\n",
              "      <td>10Q</td>\n",
              "      <td>0001090872-16-000076.txt : 2016090710-Q 1 a-0...</td>\n",
              "      <td>In addition, the operation of Dako within Agil...</td>\n",
              "      <td>0.8 0.78 0.78 0.76 0.76 0.76 0.75 0.75 0.75 0....</td>\n",
              "      <td>The reassessment process considers whether we ...</td>\n",
              "      <td>The reassessment process considers whether we ...</td>\n",
              "      <td>The following table summarizes our expected ob...</td>\n",
              "      <td>This senior credit facility allows us to reque...</td>\n",
              "    </tr>\n",
              "    <tr>\n",
              "      <th>1</th>\n",
              "      <td>1</td>\n",
              "      <td>3</td>\n",
              "      <td>3</td>\n",
              "      <td>50</td>\n",
              "      <td>1090872</td>\n",
              "      <td>2017-03-31</td>\n",
              "      <td>66.25</td>\n",
              "      <td>0.14</td>\n",
              "      <td>0.002113</td>\n",
              "      <td>0.00</td>\n",
              "      <td>0.000000</td>\n",
              "      <td>0.00</td>\n",
              "      <td>0.000000</td>\n",
              "      <td>0.55</td>\n",
              "      <td>0.006285</td>\n",
              "      <td>1</td>\n",
              "      <td>2017</td>\n",
              "      <td>3</td>\n",
              "      <td>10Q</td>\n",
              "      <td>0001090872-17-000008.txt : 2017060610-Q 1 a-0...</td>\n",
              "      <td>Our customers and we are subject to various go...</td>\n",
              "      <td>0.78 0.77 0.76 0.76 0.76 0.76 0.75 0.75 0.75 0...</td>\n",
              "      <td>The reassessment process considers whether we ...</td>\n",
              "      <td>The reassessment process considers whether we ...</td>\n",
              "      <td>This senior credit facility allows us to reque...</td>\n",
              "      <td>This senior credit facility allows us to reque...</td>\n",
              "    </tr>\n",
              "    <tr>\n",
              "      <th>2</th>\n",
              "      <td>2</td>\n",
              "      <td>6</td>\n",
              "      <td>6</td>\n",
              "      <td>62</td>\n",
              "      <td>1090872</td>\n",
              "      <td>2018-03-29</td>\n",
              "      <td>65.76</td>\n",
              "      <td>-0.18</td>\n",
              "      <td>-0.002737</td>\n",
              "      <td>2.80</td>\n",
              "      <td>0.046838</td>\n",
              "      <td>2.62</td>\n",
              "      <td>0.046167</td>\n",
              "      <td>-8.80</td>\n",
              "      <td>-0.098710</td>\n",
              "      <td>1</td>\n",
              "      <td>2018</td>\n",
              "      <td>3</td>\n",
              "      <td>10Q</td>\n",
              "      <td>0001090872-18-000009.txt : 2018053110-Q 1 a-0...</td>\n",
              "      <td>Our customers and we are subject to various go...</td>\n",
              "      <td>0.78 0.77 0.76 0.76 0.76 0.76 0.76 0.75 0.75 0...</td>\n",
              "      <td>The reassessment process considers whether we ...</td>\n",
              "      <td>The reassessment process considers whether we ...</td>\n",
              "      <td>The following table summarizes our expected ob...</td>\n",
              "      <td>This senior credit facility allows us to reque...</td>\n",
              "    </tr>\n",
              "    <tr>\n",
              "      <th>3</th>\n",
              "      <td>3</td>\n",
              "      <td>9</td>\n",
              "      <td>9</td>\n",
              "      <td>151</td>\n",
              "      <td>320193</td>\n",
              "      <td>2016-03-31</td>\n",
              "      <td>62.36</td>\n",
              "      <td>-0.03</td>\n",
              "      <td>-0.000481</td>\n",
              "      <td>0.00</td>\n",
              "      <td>0.000000</td>\n",
              "      <td>-0.80</td>\n",
              "      <td>-0.017723</td>\n",
              "      <td>0.62</td>\n",
              "      <td>0.008003</td>\n",
              "      <td>1</td>\n",
              "      <td>2016</td>\n",
              "      <td>3</td>\n",
              "      <td>10Q</td>\n",
              "      <td>0001193125-16-559625.txt : 2016042710-Q 1 d16...</td>\n",
              "      <td>Any such costs, which may rise in the future a...</td>\n",
              "      <td>0.78 0.78 0.76 0.76 0.76 0.75 0.75 0.74 0.73 0...</td>\n",
              "      <td>The Company has entered into agreements for th...</td>\n",
              "      <td>The Company has entered into agreements for th...</td>\n",
              "      <td>Due to declining sales and operating profits b...</td>\n",
              "      <td>This new senior credit facility has a five yea...</td>\n",
              "    </tr>\n",
              "    <tr>\n",
              "      <th>4</th>\n",
              "      <td>4</td>\n",
              "      <td>11</td>\n",
              "      <td>11</td>\n",
              "      <td>160</td>\n",
              "      <td>320193</td>\n",
              "      <td>2016-12-30</td>\n",
              "      <td>67.36</td>\n",
              "      <td>-0.08</td>\n",
              "      <td>-0.001188</td>\n",
              "      <td>0.00</td>\n",
              "      <td>0.000000</td>\n",
              "      <td>0.00</td>\n",
              "      <td>0.000000</td>\n",
              "      <td>-0.22</td>\n",
              "      <td>-0.002621</td>\n",
              "      <td>4</td>\n",
              "      <td>2016</td>\n",
              "      <td>12</td>\n",
              "      <td>10Q</td>\n",
              "      <td>0001628280-17-000717.txt : 2017020110-Q 1 a10...</td>\n",
              "      <td>Any such costs, which may rise in the future a...</td>\n",
              "      <td>0.78 0.77 0.76 0.76 0.76 0.76 0.74 0.73 0.73 0...</td>\n",
              "      <td>The Company has entered into agreements for th...</td>\n",
              "      <td>The Company has entered into agreements for th...</td>\n",
              "      <td>For example, in October _NUMBER__NUMBER__NUMBE...</td>\n",
              "      <td>Fair Value Measurement of Assets and Liabiliti...</td>\n",
              "    </tr>\n",
              "    <tr>\n",
              "      <th>...</th>\n",
              "      <td>...</td>\n",
              "      <td>...</td>\n",
              "      <td>...</td>\n",
              "      <td>...</td>\n",
              "      <td>...</td>\n",
              "      <td>...</td>\n",
              "      <td>...</td>\n",
              "      <td>...</td>\n",
              "      <td>...</td>\n",
              "      <td>...</td>\n",
              "      <td>...</td>\n",
              "      <td>...</td>\n",
              "      <td>...</td>\n",
              "      <td>...</td>\n",
              "      <td>...</td>\n",
              "      <td>...</td>\n",
              "      <td>...</td>\n",
              "      <td>...</td>\n",
              "      <td>...</td>\n",
              "      <td>...</td>\n",
              "      <td>...</td>\n",
              "      <td>...</td>\n",
              "      <td>...</td>\n",
              "      <td>...</td>\n",
              "      <td>...</td>\n",
              "      <td>...</td>\n",
              "    </tr>\n",
              "    <tr>\n",
              "      <th>2269</th>\n",
              "      <td>2269</td>\n",
              "      <td>5934</td>\n",
              "      <td>2961</td>\n",
              "      <td>30765</td>\n",
              "      <td>1604778</td>\n",
              "      <td>2015-12-31</td>\n",
              "      <td>51.00</td>\n",
              "      <td>0.41</td>\n",
              "      <td>0.008039</td>\n",
              "      <td>0.45</td>\n",
              "      <td>0.007377</td>\n",
              "      <td>-0.08</td>\n",
              "      <td>-0.001633</td>\n",
              "      <td>0.31</td>\n",
              "      <td>0.006596</td>\n",
              "      <td>4</td>\n",
              "      <td>2015</td>\n",
              "      <td>12</td>\n",
              "      <td>10Q</td>\n",
              "      <td>0001604778-16-000133.txt : 2016021010-Q 1 qor...</td>\n",
              "      <td>These and other risks and uncertainties, which...</td>\n",
              "      <td>0.78 0.78 0.77 0.71 0.71 0.71 0.7 0.7 0.69 0.6...</td>\n",
              "      <td>The Credit Agreement also contains customary e...</td>\n",
              "      <td>The Credit Agreement also contains customary e...</td>\n",
              "      <td>NaN</td>\n",
              "      <td>NaN</td>\n",
              "    </tr>\n",
              "    <tr>\n",
              "      <th>2270</th>\n",
              "      <td>2270</td>\n",
              "      <td>5936</td>\n",
              "      <td>2963</td>\n",
              "      <td>30800</td>\n",
              "      <td>39899</td>\n",
              "      <td>2015-09-30</td>\n",
              "      <td>55.00</td>\n",
              "      <td>-1.00</td>\n",
              "      <td>-0.018182</td>\n",
              "      <td>3.00</td>\n",
              "      <td>0.044776</td>\n",
              "      <td>0.00</td>\n",
              "      <td>0.000000</td>\n",
              "      <td>-8.00</td>\n",
              "      <td>-0.150943</td>\n",
              "      <td>3</td>\n",
              "      <td>2015</td>\n",
              "      <td>9</td>\n",
              "      <td>10Q</td>\n",
              "      <td>0000039899-15-000026.txt : 2015111010-Q 1 tgn...</td>\n",
              "      <td>Changing regulations, particularly FCC Regulat...</td>\n",
              "      <td>0.79 0.77 0.74 0.72 0.72 0.72 0.72 0.71 0.71 0...</td>\n",
              "      <td>Commitment fees on the revolving credit agreem...</td>\n",
              "      <td>Commitment fees on the revolving credit agreem...</td>\n",
              "      <td>NaN</td>\n",
              "      <td>NaN</td>\n",
              "    </tr>\n",
              "    <tr>\n",
              "      <th>2271</th>\n",
              "      <td>2271</td>\n",
              "      <td>5938</td>\n",
              "      <td>2965</td>\n",
              "      <td>30824</td>\n",
              "      <td>1136869</td>\n",
              "      <td>2015-09-30</td>\n",
              "      <td>62.00</td>\n",
              "      <td>-2.00</td>\n",
              "      <td>-0.032258</td>\n",
              "      <td>-1.00</td>\n",
              "      <td>-0.015625</td>\n",
              "      <td>-1.00</td>\n",
              "      <td>-0.017544</td>\n",
              "      <td>-5.00</td>\n",
              "      <td>-0.073529</td>\n",
              "      <td>3</td>\n",
              "      <td>2015</td>\n",
              "      <td>9</td>\n",
              "      <td>10Q</td>\n",
              "      <td>0001193125-15-372121.txt : 2015111010-Q 1 d20...</td>\n",
              "      <td>The net amount of tax liability for unrecogniz...</td>\n",
              "      <td>0.77 0.77 0.76 0.76 0.75 0.73 0.73 0.72 0.71 0...</td>\n",
              "      <td>Fair Value Measurement of Assets and Liabiliti...</td>\n",
              "      <td>Fair Value Measurement of Assets and Liabiliti...</td>\n",
              "      <td>NaN</td>\n",
              "      <td>NaN</td>\n",
              "    </tr>\n",
              "    <tr>\n",
              "      <th>2272</th>\n",
              "      <td>2272</td>\n",
              "      <td>5939</td>\n",
              "      <td>2966</td>\n",
              "      <td>30866</td>\n",
              "      <td>1158449</td>\n",
              "      <td>2015-09-30</td>\n",
              "      <td>48.00</td>\n",
              "      <td>2.00</td>\n",
              "      <td>0.041667</td>\n",
              "      <td>4.00</td>\n",
              "      <td>0.067797</td>\n",
              "      <td>0.00</td>\n",
              "      <td>0.000000</td>\n",
              "      <td>4.00</td>\n",
              "      <td>0.097561</td>\n",
              "      <td>3</td>\n",
              "      <td>2015</td>\n",
              "      <td>9</td>\n",
              "      <td>10Q</td>\n",
              "      <td>0001158449-15-000190.txt : 2015111710-Q 1 aap...</td>\n",
              "      <td>Listed below and discussed in our Annual Repor...</td>\n",
              "      <td>0.74 0.7 0.69 0.69 0.68 0.68 0.67 0.67 0.67 0....</td>\n",
              "      <td>This new standard requires management to perfo...</td>\n",
              "      <td>This new standard requires management to perfo...</td>\n",
              "      <td>NaN</td>\n",
              "      <td>NaN</td>\n",
              "    </tr>\n",
              "    <tr>\n",
              "      <th>2273</th>\n",
              "      <td>2273</td>\n",
              "      <td>5940</td>\n",
              "      <td>2967</td>\n",
              "      <td>30907</td>\n",
              "      <td>728535</td>\n",
              "      <td>2015-09-30</td>\n",
              "      <td>54.00</td>\n",
              "      <td>-5.00</td>\n",
              "      <td>-0.092593</td>\n",
              "      <td>-2.00</td>\n",
              "      <td>-0.032258</td>\n",
              "      <td>0.00</td>\n",
              "      <td>0.000000</td>\n",
              "      <td>-13.00</td>\n",
              "      <td>-0.236364</td>\n",
              "      <td>3</td>\n",
              "      <td>2015</td>\n",
              "      <td>9</td>\n",
              "      <td>10Q</td>\n",
              "      <td>0001437749-15-018776.txt : 2015102310-Q 1 jbh...</td>\n",
              "      <td>Rapid changes in fuel costs could impact our p...</td>\n",
              "      <td>0.77 0.77 0.74 0.73 0.73 0.73 0.72 0.7 0.7 0.7...</td>\n",
              "      <td>This new senior credit facility has a five yea...</td>\n",
              "      <td>This new senior credit facility has a five yea...</td>\n",
              "      <td>NaN</td>\n",
              "      <td>NaN</td>\n",
              "    </tr>\n",
              "  </tbody>\n",
              "</table>\n",
              "<p>2274 rows × 26 columns</p>\n",
              "</div>"
            ],
            "text/plain": [
              "      Unnamed: 0  ...   contained_env_words_sents_num_boiler_plt_removed\n",
              "0              0  ...  This senior credit facility allows us to reque...\n",
              "1              1  ...  This senior credit facility allows us to reque...\n",
              "2              2  ...  This senior credit facility allows us to reque...\n",
              "3              3  ...  This new senior credit facility has a five yea...\n",
              "4              4  ...  Fair Value Measurement of Assets and Liabiliti...\n",
              "...          ...  ...                                                ...\n",
              "2269        2269  ...                                                NaN\n",
              "2270        2270  ...                                                NaN\n",
              "2271        2271  ...                                                NaN\n",
              "2272        2272  ...                                                NaN\n",
              "2273        2273  ...                                                NaN\n",
              "\n",
              "[2274 rows x 26 columns]"
            ]
          },
          "metadata": {
            "tags": []
          },
          "execution_count": 27
        }
      ]
    },
    {
      "cell_type": "markdown",
      "metadata": {
        "id": "mHPqG0MG2ejQ"
      },
      "source": [
        "# Adding top 3 columns"
      ]
    },
    {
      "cell_type": "code",
      "metadata": {
        "colab": {
          "base_uri": "https://localhost:8080/"
        },
        "id": "gufgx_5V4DMO",
        "outputId": "61322ce7-c8a8-4753-d5be-4789f33b7765"
      },
      "source": [
        "len(concatenated_filtered_cik_dfs)"
      ],
      "execution_count": null,
      "outputs": [
        {
          "output_type": "execute_result",
          "data": {
            "text/plain": [
              "2274"
            ]
          },
          "metadata": {
            "tags": []
          },
          "execution_count": 38
        }
      ]
    },
    {
      "cell_type": "code",
      "metadata": {
        "id": "pO36RHziiWnq"
      },
      "source": [
        "year_2017_concat = concatenated_filtered_cik_dfs[(concatenated_filtered_cik_dfs.year==2017)]"
      ],
      "execution_count": null,
      "outputs": []
    },
    {
      "cell_type": "code",
      "metadata": {
        "colab": {
          "base_uri": "https://localhost:8080/"
        },
        "id": "kwRLlt4zk80e",
        "outputId": "611fe800-3147-47be-f774-e9ad19f36d32"
      },
      "source": [
        "len(year_2017_concat)"
      ],
      "execution_count": null,
      "outputs": [
        {
          "output_type": "execute_result",
          "data": {
            "text/plain": [
              "659"
            ]
          },
          "metadata": {
            "tags": []
          },
          "execution_count": 34
        }
      ]
    },
    {
      "cell_type": "code",
      "metadata": {
        "colab": {
          "base_uri": "https://localhost:8080/"
        },
        "id": "djeySe0f11jT",
        "outputId": "0433ab2f-d633-4b73-d6cf-12e27a3d2798"
      },
      "source": [
        "year_2017_concat['contained_env_words_sents_num_boiler_plt_removed'].to_numpy().dtype"
      ],
      "execution_count": null,
      "outputs": [
        {
          "output_type": "execute_result",
          "data": {
            "text/plain": [
              "dtype('O')"
            ]
          },
          "metadata": {
            "tags": []
          },
          "execution_count": 35
        }
      ]
    },
    {
      "cell_type": "code",
      "metadata": {
        "colab": {
          "base_uri": "https://localhost:8080/"
        },
        "id": "T65B-fQtk2DQ",
        "outputId": "d1ca77f4-98d0-4a7d-9dd6-4a42279943a4"
      },
      "source": [
        "%%time \n",
        "year_2017_concat['top_3_sents_use_no_boiler_plt'] = year_2017_concat['contained_env_words_sents_num_boiler_plt_removed'].apply(lambda row: top_3_sents_use(str(row)))"
      ],
      "execution_count": null,
      "outputs": [
        {
          "output_type": "stream",
          "text": [
            "CPU times: user 1min 23s, sys: 13.2 s, total: 1min 37s\n",
            "Wall time: 38.3 s\n"
          ],
          "name": "stdout"
        },
        {
          "output_type": "stream",
          "text": [
            "/usr/local/lib/python3.7/dist-packages/ipykernel_launcher.py:1: SettingWithCopyWarning: \n",
            "A value is trying to be set on a copy of a slice from a DataFrame.\n",
            "Try using .loc[row_indexer,col_indexer] = value instead\n",
            "\n",
            "See the caveats in the documentation: https://pandas.pydata.org/pandas-docs/stable/user_guide/indexing.html#returning-a-view-versus-a-copy\n",
            "  \"\"\"Entry point for launching an IPython kernel.\n"
          ],
          "name": "stderr"
        }
      ]
    },
    {
      "cell_type": "code",
      "metadata": {
        "colab": {
          "base_uri": "https://localhost:8080/"
        },
        "id": "G3I6Dy5hrhSp",
        "outputId": "a2ca0d94-5809-419f-f8b9-dfdce6a5fa0e"
      },
      "source": [
        "%%time \n",
        "concatenated_filtered_cik_dfs['top_3_sents_use_no_boiler_plt'] = concatenated_filtered_cik_dfs['contained_env_words_sents_num_boiler_plt_removed'].apply(lambda row: top_3_sents_use(str(row)))"
      ],
      "execution_count": null,
      "outputs": [
        {
          "output_type": "stream",
          "text": [
            "CPU times: user 4min 37s, sys: 44.6 s, total: 5min 22s\n",
            "Wall time: 2min 7s\n"
          ],
          "name": "stdout"
        }
      ]
    },
    {
      "cell_type": "code",
      "metadata": {
        "id": "sbVFMQSA6KWa"
      },
      "source": [
        "concatenated_filtered_cik_dfs['top_3_sents_use_no_boiler_plt'] "
      ],
      "execution_count": null,
      "outputs": []
    },
    {
      "cell_type": "code",
      "metadata": {
        "id": "lVLHguqmwabz"
      },
      "source": [
        "concatenated_filtered_cik_dfs.to_csv('final_subset_read_10q_df.csv')"
      ],
      "execution_count": null,
      "outputs": []
    },
    {
      "cell_type": "code",
      "metadata": {
        "colab": {
          "base_uri": "https://localhost:8080/"
        },
        "id": "Lv1hQ-9YrxCE",
        "outputId": "015a6c65-7c13-47f7-f718-f2d4c0969c12"
      },
      "source": [
        "!gsutil cp final_subset_read_10q_df.csv gs://esgbert_resourses/raw_data/"
      ],
      "execution_count": null,
      "outputs": [
        {
          "output_type": "stream",
          "text": [
            "Copying file://final_subset_read_10q_df.csv [Content-Type=text/csv]...\n",
            "/ [0 files][    0.0 B/719.2 MiB]                                                \r==> NOTE: You are uploading one or more large file(s), which would run\n",
            "significantly faster if you enable parallel composite uploads. This\n",
            "feature can be enabled by editing the\n",
            "\"parallel_composite_upload_threshold\" value in your .boto\n",
            "configuration file. However, note that if you do this large files will\n",
            "be uploaded as `composite objects\n",
            "<https://cloud.google.com/storage/docs/composite-objects>`_,which\n",
            "means that any user who downloads such objects will need to have a\n",
            "compiled crcmod installed (see \"gsutil help crcmod\"). This is because\n",
            "without a compiled crcmod, computing checksums on composite objects is\n",
            "so slow that gsutil disables downloads of composite objects.\n",
            "\n",
            "|\n",
            "Operation completed over 1 objects/719.2 MiB.                                    \n"
          ],
          "name": "stdout"
        }
      ]
    },
    {
      "cell_type": "markdown",
      "metadata": {
        "id": "UEw8AkHm2RTQ"
      },
      "source": [
        ""
      ]
    },
    {
      "cell_type": "code",
      "metadata": {
        "colab": {
          "base_uri": "https://localhost:8080/"
        },
        "id": "W-yemPfa0vxX",
        "outputId": "90a1dbb5-834c-4019-b63e-764ef67cec92"
      },
      "source": [
        "!gsutil cp gs://esgbert_resourses/raw_data/final_subset_read_10q_df.csv ."
      ],
      "execution_count": null,
      "outputs": [
        {
          "output_type": "stream",
          "text": [
            "Copying gs://esgbert_resourses/raw_data/final_subset_read_10q_df.csv...\n",
            "/ [1 files][719.2 MiB/719.2 MiB]   43.5 MiB/s                                   \n",
            "Operation completed over 1 objects/719.2 MiB.                                    \n"
          ],
          "name": "stdout"
        }
      ]
    },
    {
      "cell_type": "code",
      "metadata": {
        "id": "tXt3MHOA0gnb"
      },
      "source": [
        "final_subset_read_10q_df = pd.read_csv(\"gs://esgbert_resourses/raw_data/final_subset_read_10q_df.csv\")"
      ],
      "execution_count": null,
      "outputs": []
    },
    {
      "cell_type": "code",
      "metadata": {
        "colab": {
          "base_uri": "https://localhost:8080/"
        },
        "id": "-tLeoPhQ1Jn5",
        "outputId": "2f5a40bd-19fd-4e68-8270-b9a8828d5b93"
      },
      "source": [
        "final_subset_read_10q_df.iloc[0]"
      ],
      "execution_count": null,
      "outputs": [
        {
          "output_type": "execute_result",
          "data": {
            "text/plain": [
              "Unnamed: 0                                                                                          0\n",
              "Unnamed: 0.1                                                                                        0\n",
              "Unnamed: 0.1.1                                                                                      0\n",
              "Unnamed: 0.1.1.1                                                                                    1\n",
              "Unnamed: 0.1.1.1.1                                                                                  1\n",
              "origin_idx                                                                                         41\n",
              "CIK                                                                                           1090872\n",
              "date                                                                                       2016-06-30\n",
              "total_esg_score                                                                                 71.96\n",
              "total_esg_score_quarter_change_pure                                                             -2.98\n",
              "total_esg_score_quarter_change_pct                                                         -0.0414119\n",
              "governance_score_quarter_change_pure                                                              1.2\n",
              "governance_score_quarter_change_pct                                                          0.019861\n",
              "social_score_quarter_change_pure                                                               -10.44\n",
              "social_score_quarter_change_pct                                                             -0.141024\n",
              "environment_score_quarter_change_pure                                                            5.43\n",
              "environment_score_quarter_change_pct                                                         0.066155\n",
              "quarter                                                                                             2\n",
              "year                                                                                             2016\n",
              "month                                                                                               6\n",
              "ReportType                                                                                        10Q\n",
              "Reports                                              0001090872-16-000076.txt : 2016090710-Q 1 a-0...\n",
              "reports_ordered                                     In addition, the operation of Dako within Agil...\n",
              "reports_cosines                                     0.8 0.78 0.78 0.76 0.76 0.76 0.75 0.75 0.75 0....\n",
              "contained_env_words_sents                           The reassessment process considers whether we ...\n",
              "contained_env_words_sents_num_removed               The reassessment process considers whether we ...\n",
              "top_3_sents_use                                     The following table summarizes our expected ob...\n",
              "contained_env_words_sents_num_boiler_plt_removed    This senior credit facility allows us to reque...\n",
              "top_3_sents_use_no_boiler_plt                       Some of the factors and events that are not wi...\n",
              "top_3_sents_use_no_boiler_plt_str                   Some of the factors and events that are not wi...\n",
              "top_3_sents_use_str                                 The following table summarizes our expected ob...\n",
              "Name: 0, dtype: object"
            ]
          },
          "metadata": {
            "tags": []
          },
          "execution_count": 82
        }
      ]
    },
    {
      "cell_type": "code",
      "metadata": {
        "colab": {
          "base_uri": "https://localhost:8080/"
        },
        "id": "u9BC3AF9dIvI",
        "outputId": "91712c4f-03e4-4b04-8696-029ea5b11eef"
      },
      "source": [
        "subset_read_10q_df_with_top3_one_compare.iloc[0]"
      ],
      "execution_count": null,
      "outputs": [
        {
          "output_type": "execute_result",
          "data": {
            "text/plain": [
              "Unnamed: 0                                                                                          0\n",
              "Unnamed: 0.1                                                                                        0\n",
              "Unnamed: 0.1.1                                                                                      1\n",
              "Unnamed: 0.1.1.1                                                                                    1\n",
              "origin_idx                                                                                         41\n",
              "CIK                                                                                           1090872\n",
              "date                                                                                       2016-06-30\n",
              "total_esg_score                                                                                 71.96\n",
              "total_esg_score_quarter_change_pure                                                             -2.98\n",
              "total_esg_score_quarter_change_pct                                                         -0.0414119\n",
              "governance_score_quarter_change_pure                                                              1.2\n",
              "governance_score_quarter_change_pct                                                          0.019861\n",
              "social_score_quarter_change_pure                                                               -10.44\n",
              "social_score_quarter_change_pct                                                             -0.141024\n",
              "environment_score_quarter_change_pure                                                            5.43\n",
              "environment_score_quarter_change_pct                                                         0.066155\n",
              "quarter                                                                                             2\n",
              "year                                                                                             2016\n",
              "month                                                                                               6\n",
              "ReportType                                                                                        10Q\n",
              "Reports                                              0001090872-16-000076.txt : 2016090710-Q 1 a-0...\n",
              "reports_ordered                                     In addition, the operation of Dako within Agil...\n",
              "reports_cosines                                     0.8 0.78 0.78 0.76 0.76 0.76 0.75 0.75 0.75 0....\n",
              "contained_env_words_sents                           The reassessment process considers whether we ...\n",
              "contained_env_words_sents_num_removed               The reassessment process considers whether we ...\n",
              "top_3_sents_use                                     The following table summarizes our expected ob...\n",
              "contained_env_words_sents_num_boiler_plt_removed    This senior credit facility allows us to reque...\n",
              "reports_num_removed                                   _NUMBER_  _NUMBER_  _NUMBER_  _NUMBER_  _NUM...\n",
              "top_3_sents_use_one_compare_no_num                  One such cost is our obligation, along with th...\n",
              "Name: 0, dtype: object"
            ]
          },
          "metadata": {
            "tags": []
          },
          "execution_count": 106
        }
      ]
    },
    {
      "cell_type": "code",
      "metadata": {
        "id": "zc_jvwVnDl4Q"
      },
      "source": [
        "final_subset_read_10q_df['top_3_sents_use_str'] = final_subset_read_10q_df['top_3_sents_use'].apply(lambda row: str(row))"
      ],
      "execution_count": null,
      "outputs": []
    },
    {
      "cell_type": "code",
      "metadata": {
        "id": "J-PwtqA0XWEl"
      },
      "source": [
        "final_subset_read_10q_df.rename(columns = {'top_3_sents_use':'top_3_sents_use_compare_new_sents'}, inplace = True)\n",
        "final_subset_read_10q_df.rename(columns = {'top_3_sents_use_str':'top_3_sents_use_compare_new_sents_str'}, inplace = True)\n",
        "final_subset_read_10q_df.rename(columns = {'top_3_sents_use_no_boiler_plt':'top_3_sents_use_no_boiler_plt_compare_new_sents'}, inplace = True)\n",
        "final_subset_read_10q_df.rename(columns = {'top_3_sents_use_no_boiler_plt_str':'top_3_sents_use_no_boiler_plt_compare_new_sents_str'}, inplace = True)"
      ],
      "execution_count": null,
      "outputs": []
    },
    {
      "cell_type": "code",
      "metadata": {
        "id": "wZjxGfBMR5LL"
      },
      "source": [
        "final_subset_read_10q_df.to_csv(\"final_subset_read_10q_df.csv\")"
      ],
      "execution_count": null,
      "outputs": []
    },
    {
      "cell_type": "code",
      "metadata": {
        "colab": {
          "base_uri": "https://localhost:8080/"
        },
        "id": "oStwUK_HR-nY",
        "outputId": "c9518406-3d75-43f0-994d-f8b9604ac3a2"
      },
      "source": [
        "!gsutil cp final_subset_read_10q_df.csv gs://esgbert_resourses/raw_data/"
      ],
      "execution_count": null,
      "outputs": [
        {
          "output_type": "stream",
          "text": [
            "Copying file://final_subset_read_10q_df.csv [Content-Type=text/csv]...\n",
            "/ [0 files][    0.0 B/719.3 MiB]                                                \r==> NOTE: You are uploading one or more large file(s), which would run\n",
            "significantly faster if you enable parallel composite uploads. This\n",
            "feature can be enabled by editing the\n",
            "\"parallel_composite_upload_threshold\" value in your .boto\n",
            "configuration file. However, note that if you do this large files will\n",
            "be uploaded as `composite objects\n",
            "<https://cloud.google.com/storage/docs/composite-objects>`_,which\n",
            "means that any user who downloads such objects will need to have a\n",
            "compiled crcmod installed (see \"gsutil help crcmod\"). This is because\n",
            "without a compiled crcmod, computing checksums on composite objects is\n",
            "so slow that gsutil disables downloads of composite objects.\n",
            "\n",
            "Resuming upload for file://final_subset_read_10q_df.csv\n",
            "Catching up md5 for file://final_subset_read_10q_df.csv...\n",
            "|\n",
            "Operation completed over 1 objects/719.3 MiB.                                    \n"
          ],
          "name": "stdout"
        }
      ]
    },
    {
      "cell_type": "markdown",
      "metadata": {
        "id": "UWK8Ze2G2l6F"
      },
      "source": [
        "# Testing Model with USE Selected Relevant Sents"
      ]
    },
    {
      "cell_type": "code",
      "metadata": {
        "id": "y1h0c0fT5CAJ"
      },
      "source": [
        "import numpy as np\n",
        "import pandas as pd\n",
        "\n",
        "import tensorflow as tf\n",
        "import tensorflow_datasets as tfds\n",
        "\n",
        "import transformers\n",
        "\n",
        "from transformers import BertTokenizer, TFBertModel, BertForMaskedLM, TFBertForMaskedLM, TFBertForSequenceClassification\n",
        "from tensorflow.keras import backend as K\n",
        "\n",
        "import logging\n",
        "tf.get_logger().setLevel(logging.ERROR)"
      ],
      "execution_count": null,
      "outputs": []
    },
    {
      "cell_type": "code",
      "metadata": {
        "colab": {
          "base_uri": "https://localhost:8080/"
        },
        "id": "pThtpY_p3M1j",
        "outputId": "d39be9b1-ac7b-4d5d-ad0c-f8cc75102ce8"
      },
      "source": [
        "#total_ds = pd.concat([train_ds, test_ds])\n",
        "#total_ds = concatenated_filtered_cik_dfs.copy()\n",
        "#total_ds = final_subset_read_10q_df.copy()#subset_read_10q_df.copy()\n",
        "total_ds = subset_read_10q_df_with_top3_one_compare.copy()\n",
        "len(total_ds)"
      ],
      "execution_count": 64,
      "outputs": [
        {
          "output_type": "execute_result",
          "data": {
            "text/plain": [
              "2274"
            ]
          },
          "metadata": {
            "tags": []
          },
          "execution_count": 64
        }
      ]
    },
    {
      "cell_type": "code",
      "metadata": {
        "id": "O9QdQD5h4K-b"
      },
      "source": [
        "total_ds['class_environment_score_quarter_change_pure'] = np.where(total_ds['environment_score_quarter_change_pure']<0,0,1)"
      ],
      "execution_count": 65,
      "outputs": []
    },
    {
      "cell_type": "code",
      "metadata": {
        "colab": {
          "base_uri": "https://localhost:8080/"
        },
        "id": "w8fI7NL13M1j",
        "outputId": "d1b55b86-d989-42ec-d003-25084b544abb"
      },
      "source": [
        "dataset = tf.data.Dataset.from_tensor_slices((total_ds.top_3_sents_use_one_compare_no_num.values, total_ds.class_environment_score_quarter_change_pure.values))\n",
        "dataset"
      ],
      "execution_count": 66,
      "outputs": [
        {
          "output_type": "execute_result",
          "data": {
            "text/plain": [
              "<TensorSliceDataset shapes: ((), ()), types: (tf.string, tf.int64)>"
            ]
          },
          "metadata": {
            "tags": []
          },
          "execution_count": 66
        }
      ]
    },
    {
      "cell_type": "code",
      "metadata": {
        "id": "Lrj2WsBK6253"
      },
      "source": [
        "dataset = dataset.shuffle(len(dataset))"
      ],
      "execution_count": 67,
      "outputs": []
    },
    {
      "cell_type": "code",
      "metadata": {
        "id": "jRRTQ_Ts3M1k"
      },
      "source": [
        "#train_size = round(len(total_ds)*.8)\n",
        "#test_size = len(total_ds) - round(len(total_ds)*.8)\n",
        "# train_size = len(train_ds)\n",
        "# test_size = len(test_ds)\n",
        "# print(train_size)\n",
        "# print(test_size)"
      ],
      "execution_count": null,
      "outputs": []
    },
    {
      "cell_type": "code",
      "metadata": {
        "colab": {
          "base_uri": "https://localhost:8080/"
        },
        "id": "xSghtwim6Y-p",
        "outputId": "8115610f-fdff-4325-8054-4401d370a863"
      },
      "source": [
        "train_size = round(len(total_ds)*.7)\n",
        "valid_size = round(len(total_ds)*.2)\n",
        "test_size = len(total_ds) - round(len(total_ds)*.7) - round(len(total_ds)*.2)\n",
        "\n",
        "print(train_size)\n",
        "print(valid_size)\n",
        "print(test_size)"
      ],
      "execution_count": 68,
      "outputs": [
        {
          "output_type": "stream",
          "text": [
            "1592\n",
            "455\n",
            "227\n"
          ],
          "name": "stdout"
        }
      ]
    },
    {
      "cell_type": "code",
      "metadata": {
        "id": "Eh25GHcYEEaJ"
      },
      "source": [
        "train_data = dataset.take(train_size)\n",
        "temp_data = dataset.skip(train_size)\n",
        "valid_data = temp_data.take(valid_size)\n",
        "test_data = temp_data.skip(valid_size)"
      ],
      "execution_count": 69,
      "outputs": []
    },
    {
      "cell_type": "code",
      "metadata": {
        "id": "kURnZ3Nr3M1l"
      },
      "source": [
        "#train_data = dataset.take(train_size)\n",
        "#train_data = dataset.take(len(train_ds))\n",
        "# train_data = tf.data.Dataset.from_tensor_slices((train_ds.top_3_sents_use_no_boiler_plt.values, train_ds.class_environment_score_quarter_change_pure.values))\n",
        "# train_data"
      ],
      "execution_count": null,
      "outputs": []
    },
    {
      "cell_type": "code",
      "metadata": {
        "colab": {
          "base_uri": "https://localhost:8080/"
        },
        "id": "IoI4S3M73M1l",
        "outputId": "86816839-b273-43b7-c086-be34a90c8c93"
      },
      "source": [
        "#test_data = dataset.skip(train_size)\n",
        "#test_data = dataset.skip(len(train_ds))\n",
        "# test_data = tf.data.Dataset.from_tensor_slices((test_ds.top_3_sents_use_no_boiler_plt.values, test_ds.class_environment_score_quarter_change_pure.values))\n",
        "# test_data"
      ],
      "execution_count": null,
      "outputs": [
        {
          "output_type": "execute_result",
          "data": {
            "text/plain": [
              "<TensorSliceDataset shapes: ((), ()), types: (tf.string, tf.int64)>"
            ]
          },
          "metadata": {
            "tags": []
          },
          "execution_count": 70
        }
      ]
    },
    {
      "cell_type": "code",
      "metadata": {
        "id": "nmas094j3M1l"
      },
      "source": [
        "train_examples_batch, train_labels_batch = next(iter(train_data.batch(train_size)))\n",
        "valid_examples_batch, valid_labels_batch = next(iter(valid_data.batch(valid_size)))\n",
        "test_examples_batch, test_labels_batch = next(iter(test_data.batch(test_size)))"
      ],
      "execution_count": 70,
      "outputs": []
    },
    {
      "cell_type": "code",
      "metadata": {
        "id": "LMvUlXNN3M1m"
      },
      "source": [
        "from tokenizers import normalizers\n",
        "from tokenizers.normalizers import NFD, StripAccents\n",
        "\n",
        "num_train_examples = train_size\n",
        "num_valid_examples = valid_size\n",
        "num_test_examples = test_size\n",
        "num_tiny_set = 5\n",
        "\n",
        "max_length = 512\n",
        "\n",
        "x_train = tokenizer([str(x.numpy())[2:] for x in train_examples_batch[:num_train_examples]], \n",
        "              max_length=max_length,\n",
        "              truncation=True,\n",
        "              padding='max_length', \n",
        "              return_tensors='tf')\n",
        "y_train = train_labels_batch[:num_train_examples]\n",
        "\n",
        "x_val = tokenizer([str(x.numpy())[2:] for x in valid_examples_batch[:num_valid_examples]], \n",
        "              max_length=max_length,\n",
        "              truncation=True,\n",
        "              padding='max_length', \n",
        "              return_tensors='tf')\n",
        "y_val = valid_labels_batch[:num_valid_examples]\n",
        "\n",
        "x_test = tokenizer([str(x.numpy())[2:] for x in test_examples_batch[:num_test_examples]], \n",
        "              max_length=max_length,\n",
        "              truncation=True,\n",
        "              padding='max_length', \n",
        "              return_tensors='tf')\n",
        "y_test = test_labels_batch[:num_test_examples]\n",
        " \n",
        "x_tiny = tokenizer([str(x.numpy())[2:] for x in test_examples_batch[:num_tiny_set]], \n",
        "              max_length=max_length,\n",
        "              truncation=True,\n",
        "              padding='max_length', \n",
        "              return_tensors='tf')\n",
        "y_tiny = test_labels_batch[:num_tiny_set]"
      ],
      "execution_count": 71,
      "outputs": []
    },
    {
      "cell_type": "code",
      "metadata": {
        "id": "hS332yVsEZeP",
        "colab": {
          "base_uri": "https://localhost:8080/"
        },
        "outputId": "2e7400ed-b535-4da1-a3d9-76f3ce44c58c"
      },
      "source": [
        "print('ratio of positive examples: ', np.sum(y_train==1)/len(y_train))\n",
        "print('ratio of positive examples in validation: ', np.sum(y_val==1)/len(y_val))\n",
        "print('ratio of positive examples in test: ', np.sum(y_test==1)/len(y_test))"
      ],
      "execution_count": 72,
      "outputs": [
        {
          "output_type": "stream",
          "text": [
            "ratio of positive examples:  0.5973618090452262\n",
            "ratio of positive examples in validation:  0.5978021978021978\n",
            "ratio of positive examples in test:  0.5682819383259912\n"
          ],
          "name": "stdout"
        }
      ]
    },
    {
      "cell_type": "code",
      "metadata": {
        "colab": {
          "base_uri": "https://localhost:8080/"
        },
        "id": "Ac4UdVXO3M1l",
        "outputId": "91b4788b-9f93-4a69-ae38-5df39aa24077"
      },
      "source": [
        "#Getting the model from google cloud storage\n",
        "!gsutil cp -r gs://esgbert_resourses/esgbert_model/model '.'"
      ],
      "execution_count": 73,
      "outputs": [
        {
          "output_type": "stream",
          "text": [
            "Copying gs://esgbert_resourses/esgbert_model/model/ESGMLMTunedBERT/config.json...\n",
            "Copying gs://esgbert_resourses/esgbert_model/model/ESGMLMTunedBERT/pytorch_model.bin...\n",
            "Copying gs://esgbert_resourses/esgbert_model/model/ESGMLMTunedBERT/training_args.bin...\n",
            "- [3 files][413.4 MiB/413.4 MiB]                                                \n",
            "Operation completed over 3 objects/413.4 MiB.                                    \n"
          ],
          "name": "stdout"
        }
      ]
    },
    {
      "cell_type": "code",
      "metadata": {
        "colab": {
          "base_uri": "https://localhost:8080/"
        },
        "id": "SB6M0bve3M1l",
        "outputId": "4fc9e160-6f43-4d85-eba5-e8a41cf4721e"
      },
      "source": [
        "# From Bucket\n",
        "tokenizer = BertTokenizer.from_pretrained('bert-base-cased')\n",
        "bert_model = TFBertForSequenceClassification.from_pretrained('./model/ESGMLMTunedBERT', from_pt=True, num_labels=2)"
      ],
      "execution_count": 74,
      "outputs": [
        {
          "output_type": "stream",
          "text": [
            "Some weights of the PyTorch model were not used when initializing the TF 2.0 model TFBertForSequenceClassification: ['bert.embeddings.position_ids']\n",
            "- This IS expected if you are initializing TFBertForSequenceClassification from a PyTorch model trained on another task or with another architecture (e.g. initializing a TFBertForSequenceClassification model from a BertForPreTraining model).\n",
            "- This IS NOT expected if you are initializing TFBertForSequenceClassification from a PyTorch model that you expect to be exactly identical (e.g. initializing a TFBertForSequenceClassification model from a BertForSequenceClassification model).\n",
            "Some weights or buffers of the TF 2.0 model TFBertForSequenceClassification were not initialized from the PyTorch model and are newly initialized: ['bert.pooler.dense.weight', 'bert.pooler.dense.bias', 'classifier.weight', 'classifier.bias']\n",
            "You should probably TRAIN this model on a down-stream task to be able to use it for predictions and inference.\n"
          ],
          "name": "stderr"
        }
      ]
    },
    {
      "cell_type": "code",
      "metadata": {
        "id": "mDthPwBKsEA2"
      },
      "source": [
        "loss = tf.keras.losses.BinaryCrossentropy(from_logits=False)\n",
        "metric = tf.keras.metrics.BinaryAccuracy('accuracy')\n",
        "optimizer = tf.keras.optimizers.Adam(learning_rate=2e-5,epsilon=1e-08)\n",
        "\n",
        "bert_model.compile(loss=loss,optimizer=optimizer,metrics=[metric])"
      ],
      "execution_count": 75,
      "outputs": []
    },
    {
      "cell_type": "code",
      "metadata": {
        "colab": {
          "base_uri": "https://localhost:8080/"
        },
        "id": "sbAci-hanuxf",
        "outputId": "194d333d-6efb-49cb-c8d5-181e86b1fc4a"
      },
      "source": [
        "bert_model.fit([x_train.input_ids, x_train.attention_mask],y_train,\n",
        "               batch_size=8,epochs=8,\n",
        "               validation_data=([x_val.input_ids,x_val.attention_mask],y_val),)\n",
        "               #callbacks=callbacks)"
      ],
      "execution_count": 78,
      "outputs": [
        {
          "output_type": "stream",
          "text": [
            "Epoch 1/8\n",
            "199/199 [==============================] - 120s 602ms/step - loss: 0.6684 - accuracy: 0.6068 - val_loss: 0.6523 - val_accuracy: 0.6011\n",
            "Epoch 2/8\n",
            "199/199 [==============================] - 120s 602ms/step - loss: 0.6331 - accuracy: 0.6555 - val_loss: 0.6117 - val_accuracy: 0.6923\n",
            "Epoch 3/8\n",
            "199/199 [==============================] - 120s 602ms/step - loss: 0.6417 - accuracy: 0.6888 - val_loss: 0.7848 - val_accuracy: 0.7132\n",
            "Epoch 4/8\n",
            "199/199 [==============================] - 120s 602ms/step - loss: 0.6589 - accuracy: 0.6636 - val_loss: 0.6297 - val_accuracy: 0.6505\n",
            "Epoch 5/8\n",
            "199/199 [==============================] - 120s 602ms/step - loss: 0.6156 - accuracy: 0.6724 - val_loss: 0.6301 - val_accuracy: 0.7132\n",
            "Epoch 6/8\n",
            "199/199 [==============================] - 120s 603ms/step - loss: 0.5650 - accuracy: 0.7513 - val_loss: 0.7211 - val_accuracy: 0.7374\n",
            "Epoch 7/8\n",
            "199/199 [==============================] - 120s 602ms/step - loss: 0.5425 - accuracy: 0.7635 - val_loss: 0.8114 - val_accuracy: 0.7198\n",
            "Epoch 8/8\n",
            "199/199 [==============================] - 120s 603ms/step - loss: 0.4406 - accuracy: 0.8200 - val_loss: 1.1039 - val_accuracy: 0.7846\n"
          ],
          "name": "stdout"
        },
        {
          "output_type": "execute_result",
          "data": {
            "text/plain": [
              "<tensorflow.python.keras.callbacks.History at 0x7fc8cb45e610>"
            ]
          },
          "metadata": {
            "tags": []
          },
          "execution_count": 78
        }
      ]
    },
    {
      "cell_type": "code",
      "metadata": {
        "colab": {
          "base_uri": "https://localhost:8080/"
        },
        "id": "DschikdtsHqr",
        "outputId": "1f2624cc-9ff9-410f-9240-24ba0bc288d7"
      },
      "source": [
        "bert_model.fit([x_train.input_ids, x_train.attention_mask],y_train,\n",
        "               batch_size=8,epochs=4,\n",
        "               validation_data=([x_val.input_ids,x_val.attention_mask],y_val),)\n",
        "               #callbacks=callbacks)"
      ],
      "execution_count": null,
      "outputs": [
        {
          "output_type": "stream",
          "text": [
            "Epoch 1/4\n",
            "199/199 [==============================] - 135s 618ms/step - loss: 1.9230 - accuracy: 0.6394 - val_loss: 1.0767 - val_accuracy: 0.7176\n",
            "Epoch 2/4\n",
            "199/199 [==============================] - 120s 602ms/step - loss: 0.6803 - accuracy: 0.7371 - val_loss: 0.6638 - val_accuracy: 0.6066\n",
            "Epoch 3/4\n",
            "199/199 [==============================] - 120s 602ms/step - loss: 0.5630 - accuracy: 0.7148 - val_loss: 1.1011 - val_accuracy: 0.7495\n",
            "Epoch 4/4\n",
            "199/199 [==============================] - 120s 601ms/step - loss: 0.5464 - accuracy: 0.8150 - val_loss: 1.2711 - val_accuracy: 0.7846\n"
          ],
          "name": "stdout"
        },
        {
          "output_type": "execute_result",
          "data": {
            "text/plain": [
              "<tensorflow.python.keras.callbacks.History at 0x7f072017e350>"
            ]
          },
          "metadata": {
            "tags": []
          },
          "execution_count": 143
        }
      ]
    },
    {
      "cell_type": "code",
      "metadata": {
        "colab": {
          "base_uri": "https://localhost:8080/"
        },
        "id": "_rXDgmlMu3qT",
        "outputId": "223e18c1-e193-429c-b176-2aabb1840e1d"
      },
      "source": [
        "bert_model.fit([x_train.input_ids, x_train.attention_mask],y_train,\n",
        "               batch_size=8,epochs=8,\n",
        "               validation_data=([x_val.input_ids,x_val.attention_mask],y_val),)\n",
        "               #callbacks=callbacks)"
      ],
      "execution_count": null,
      "outputs": [
        {
          "output_type": "stream",
          "text": [
            "Epoch 1/8\n",
            "199/199 [==============================] - 120s 602ms/step - loss: 0.5242 - accuracy: 0.7764 - val_loss: 0.5916 - val_accuracy: 0.6703\n",
            "Epoch 2/8\n",
            "199/199 [==============================] - 120s 601ms/step - loss: 0.4859 - accuracy: 0.7893 - val_loss: 1.1111 - val_accuracy: 0.7868\n",
            "Epoch 3/8\n",
            "199/199 [==============================] - 120s 601ms/step - loss: 0.4965 - accuracy: 0.8024 - val_loss: 0.6639 - val_accuracy: 0.7857\n",
            "Epoch 4/8\n",
            "199/199 [==============================] - 120s 602ms/step - loss: 0.3453 - accuracy: 0.8703 - val_loss: 1.4442 - val_accuracy: 0.8088\n",
            "Epoch 5/8\n",
            "199/199 [==============================] - 120s 601ms/step - loss: 0.6646 - accuracy: 0.8606 - val_loss: 0.9488 - val_accuracy: 0.6275\n",
            "Epoch 6/8\n",
            "199/199 [==============================] - 120s 602ms/step - loss: 0.5855 - accuracy: 0.7136 - val_loss: 0.9163 - val_accuracy: 0.7571\n",
            "Epoch 7/8\n",
            "199/199 [==============================] - 120s 601ms/step - loss: 0.4951 - accuracy: 0.8015 - val_loss: 1.1844 - val_accuracy: 0.7857\n",
            "Epoch 8/8\n",
            "199/199 [==============================] - 120s 601ms/step - loss: 0.3532 - accuracy: 0.8618 - val_loss: 0.9971 - val_accuracy: 0.8000\n"
          ],
          "name": "stdout"
        },
        {
          "output_type": "execute_result",
          "data": {
            "text/plain": [
              "<tensorflow.python.keras.callbacks.History at 0x7f071a044a50>"
            ]
          },
          "metadata": {
            "tags": []
          },
          "execution_count": 145
        }
      ]
    },
    {
      "cell_type": "markdown",
      "metadata": {
        "id": "Wj_KbXv_fUTw"
      },
      "source": [
        "# Evaluate on Original BERT"
      ]
    },
    {
      "cell_type": "code",
      "metadata": {
        "colab": {
          "base_uri": "https://localhost:8080/",
          "height": 154,
          "referenced_widgets": [
            "8c2a145b38284fd8a0db4e882fef7924",
            "8b9844751bcb4ee3897782671eea762d",
            "6d52620f20ee4983aac630d401606cd3",
            "0e0f49e564084f04baf56bccd12053ab",
            "c69097d0c42d4d0a932bc24c49b6142e",
            "9e973f4f2e9d4c5988deb5c534d4d9c2",
            "69e20fa54bc34cf7b6363a8af637fe27",
            "91249a2fdb8f4e0bbd7d74787ef64216"
          ]
        },
        "id": "-tdCxi71fgyy",
        "outputId": "fa588d02-37f1-4736-debc-b24febd6dad3"
      },
      "source": [
        "# From Bucket\n",
        "tokenizer = BertTokenizer.from_pretrained('bert-base-cased')\n",
        "bert_original_model = TFBertForSequenceClassification.from_pretrained('bert-base-cased', num_labels=2)"
      ],
      "execution_count": 33,
      "outputs": [
        {
          "output_type": "display_data",
          "data": {
            "application/vnd.jupyter.widget-view+json": {
              "model_id": "8c2a145b38284fd8a0db4e882fef7924",
              "version_minor": 0,
              "version_major": 2
            },
            "text/plain": [
              "HBox(children=(FloatProgress(value=0.0, description='Downloading', max=526681800.0, style=ProgressStyle(descri…"
            ]
          },
          "metadata": {
            "tags": []
          }
        },
        {
          "output_type": "stream",
          "text": [
            "\n"
          ],
          "name": "stdout"
        },
        {
          "output_type": "stream",
          "text": [
            "All model checkpoint layers were used when initializing TFBertForSequenceClassification.\n",
            "\n",
            "Some layers of TFBertForSequenceClassification were not initialized from the model checkpoint at bert-base-cased and are newly initialized: ['classifier']\n",
            "You should probably TRAIN this model on a down-stream task to be able to use it for predictions and inference.\n"
          ],
          "name": "stderr"
        }
      ]
    },
    {
      "cell_type": "code",
      "metadata": {
        "id": "AwbxCsA2fgy0"
      },
      "source": [
        "loss = tf.keras.losses.BinaryCrossentropy(from_logits=False)\n",
        "metric = tf.keras.metrics.BinaryAccuracy('accuracy')\n",
        "optimizer = tf.keras.optimizers.Adam(learning_rate=2e-5,epsilon=1e-08)\n",
        "\n",
        "bert_original_model.compile(loss=loss,optimizer=optimizer,metrics=[metric])"
      ],
      "execution_count": 34,
      "outputs": []
    },
    {
      "cell_type": "code",
      "metadata": {
        "colab": {
          "base_uri": "https://localhost:8080/"
        },
        "id": "YFtxkNxgfgy1",
        "outputId": "5caa2247-3bf6-4cb1-ac82-beb868c3e5c6"
      },
      "source": [
        "bert_model.fit([x_train.input_ids, x_train.attention_mask],y_train,\n",
        "               batch_size=8,epochs=8,\n",
        "               validation_data=([x_val.input_ids,x_val.attention_mask],y_val),)\n",
        "               #callbacks=callbacks)"
      ],
      "execution_count": 37,
      "outputs": [
        {
          "output_type": "stream",
          "text": [
            "Epoch 1/8\n",
            "199/199 [==============================] - 120s 603ms/step - loss: 4.7972 - accuracy: 0.6052 - val_loss: 5.1181 - val_accuracy: 0.5978\n",
            "Epoch 2/8\n",
            "199/199 [==============================] - 120s 602ms/step - loss: 4.7560 - accuracy: 0.6316 - val_loss: 5.1827 - val_accuracy: 0.5923\n",
            "Epoch 3/8\n",
            "199/199 [==============================] - 120s 602ms/step - loss: 4.7234 - accuracy: 0.6492 - val_loss: 5.3872 - val_accuracy: 0.5945\n",
            "Epoch 4/8\n",
            "199/199 [==============================] - 120s 602ms/step - loss: 4.7158 - accuracy: 0.6530 - val_loss: 5.2677 - val_accuracy: 0.6055\n",
            "Epoch 5/8\n",
            "199/199 [==============================] - 120s 603ms/step - loss: 4.7040 - accuracy: 0.6611 - val_loss: 5.4225 - val_accuracy: 0.5703\n",
            "Epoch 6/8\n",
            "199/199 [==============================] - 120s 602ms/step - loss: 4.8080 - accuracy: 0.6256 - val_loss: 5.1336 - val_accuracy: 0.5857\n",
            "Epoch 7/8\n",
            "199/199 [==============================] - 120s 602ms/step - loss: 4.7491 - accuracy: 0.6344 - val_loss: 5.2306 - val_accuracy: 0.6055\n",
            "Epoch 8/8\n",
            "199/199 [==============================] - 120s 602ms/step - loss: 4.7153 - accuracy: 0.6583 - val_loss: 5.3767 - val_accuracy: 0.6055\n"
          ],
          "name": "stdout"
        },
        {
          "output_type": "execute_result",
          "data": {
            "text/plain": [
              "<tensorflow.python.keras.callbacks.History at 0x7fc8d6d4a710>"
            ]
          },
          "metadata": {
            "tags": []
          },
          "execution_count": 37
        }
      ]
    },
    {
      "cell_type": "markdown",
      "metadata": {
        "id": "g1DTeuXQqbFS"
      },
      "source": [
        "# Evaluate on Test"
      ]
    },
    {
      "cell_type": "code",
      "metadata": {
        "colab": {
          "base_uri": "https://localhost:8080/"
        },
        "id": "BiMaFsdHrsAH",
        "outputId": "ac543e70-d20c-43cd-b255-f93cb81ca8a3"
      },
      "source": [
        "bert_model.evaluate([x_test.input_ids, x_test.attention_mask],y_test,batch_size=8)"
      ],
      "execution_count": 79,
      "outputs": [
        {
          "output_type": "stream",
          "text": [
            "29/29 [==============================] - 6s 191ms/step - loss: 1.0537 - accuracy: 0.7930\n"
          ],
          "name": "stdout"
        },
        {
          "output_type": "execute_result",
          "data": {
            "text/plain": [
              "[1.0537227392196655, 0.7929515242576599]"
            ]
          },
          "metadata": {
            "tags": []
          },
          "execution_count": 79
        }
      ]
    },
    {
      "cell_type": "code",
      "metadata": {
        "colab": {
          "base_uri": "https://localhost:8080/"
        },
        "id": "CuN-X0k5mm65",
        "outputId": "8a99e8a5-303d-45f7-cdb8-c84aaab1b4bb"
      },
      "source": [
        "bert_original_model.evaluate([x_test.input_ids, x_test.attention_mask],y_test,batch_size=8)"
      ],
      "execution_count": 63,
      "outputs": [
        {
          "output_type": "stream",
          "text": [
            "29/29 [==============================] - 9s 191ms/step - loss: 5.0026 - accuracy: 0.3789\n"
          ],
          "name": "stdout"
        },
        {
          "output_type": "execute_result",
          "data": {
            "text/plain": [
              "[5.002620697021484, 0.3788546323776245]"
            ]
          },
          "metadata": {
            "tags": []
          },
          "execution_count": 63
        }
      ]
    },
    {
      "cell_type": "markdown",
      "metadata": {
        "id": "v9cFA6YV2dpQ"
      },
      "source": [
        "# Trying Dummy Data"
      ]
    },
    {
      "cell_type": "code",
      "metadata": {
        "colab": {
          "base_uri": "https://localhost:8080/"
        },
        "id": "IzwnqtEbhF0V",
        "outputId": "e25d0194-bb10-4b7b-b330-c4c8aece4e7f"
      },
      "source": [
        "!pip install sentence_transformers"
      ],
      "execution_count": null,
      "outputs": [
        {
          "output_type": "stream",
          "text": [
            "Requirement already satisfied: sentence_transformers in /usr/local/lib/python3.7/dist-packages (2.0.0)\n",
            "Requirement already satisfied: torch>=1.6.0 in /usr/local/lib/python3.7/dist-packages (from sentence_transformers) (1.9.0+cu102)\n",
            "Requirement already satisfied: scipy in /usr/local/lib/python3.7/dist-packages (from sentence_transformers) (1.4.1)\n",
            "Requirement already satisfied: tqdm in /usr/local/lib/python3.7/dist-packages (from sentence_transformers) (4.41.1)\n",
            "Requirement already satisfied: huggingface-hub in /usr/local/lib/python3.7/dist-packages (from sentence_transformers) (0.0.12)\n",
            "Requirement already satisfied: scikit-learn in /usr/local/lib/python3.7/dist-packages (from sentence_transformers) (0.22.2.post1)\n",
            "Requirement already satisfied: transformers<5.0.0,>=4.6.0 in /usr/local/lib/python3.7/dist-packages (from sentence_transformers) (4.9.0)\n",
            "Requirement already satisfied: sentencepiece in /usr/local/lib/python3.7/dist-packages (from sentence_transformers) (0.1.96)\n",
            "Requirement already satisfied: torchvision in /usr/local/lib/python3.7/dist-packages (from sentence_transformers) (0.10.0+cu102)\n",
            "Requirement already satisfied: nltk in /usr/local/lib/python3.7/dist-packages (from sentence_transformers) (3.2.5)\n",
            "Requirement already satisfied: numpy in /usr/local/lib/python3.7/dist-packages (from sentence_transformers) (1.19.5)\n",
            "Requirement already satisfied: typing-extensions in /usr/local/lib/python3.7/dist-packages (from torch>=1.6.0->sentence_transformers) (3.7.4.3)\n",
            "Requirement already satisfied: regex!=2019.12.17 in /usr/local/lib/python3.7/dist-packages (from transformers<5.0.0,>=4.6.0->sentence_transformers) (2019.12.20)\n",
            "Requirement already satisfied: pyyaml>=5.1 in /usr/local/lib/python3.7/dist-packages (from transformers<5.0.0,>=4.6.0->sentence_transformers) (5.4.1)\n",
            "Requirement already satisfied: importlib-metadata in /usr/local/lib/python3.7/dist-packages (from transformers<5.0.0,>=4.6.0->sentence_transformers) (4.6.1)\n",
            "Requirement already satisfied: requests in /usr/local/lib/python3.7/dist-packages (from transformers<5.0.0,>=4.6.0->sentence_transformers) (2.23.0)\n",
            "Requirement already satisfied: filelock in /usr/local/lib/python3.7/dist-packages (from transformers<5.0.0,>=4.6.0->sentence_transformers) (3.0.12)\n",
            "Requirement already satisfied: tokenizers<0.11,>=0.10.1 in /usr/local/lib/python3.7/dist-packages (from transformers<5.0.0,>=4.6.0->sentence_transformers) (0.10.3)\n",
            "Requirement already satisfied: packaging in /usr/local/lib/python3.7/dist-packages (from transformers<5.0.0,>=4.6.0->sentence_transformers) (21.0)\n",
            "Requirement already satisfied: sacremoses in /usr/local/lib/python3.7/dist-packages (from transformers<5.0.0,>=4.6.0->sentence_transformers) (0.0.45)\n",
            "Requirement already satisfied: pyparsing>=2.0.2 in /usr/local/lib/python3.7/dist-packages (from packaging->transformers<5.0.0,>=4.6.0->sentence_transformers) (2.4.7)\n",
            "Requirement already satisfied: zipp>=0.5 in /usr/local/lib/python3.7/dist-packages (from importlib-metadata->transformers<5.0.0,>=4.6.0->sentence_transformers) (3.5.0)\n",
            "Requirement already satisfied: six in /usr/local/lib/python3.7/dist-packages (from nltk->sentence_transformers) (1.15.0)\n",
            "Requirement already satisfied: urllib3!=1.25.0,!=1.25.1,<1.26,>=1.21.1 in /usr/local/lib/python3.7/dist-packages (from requests->transformers<5.0.0,>=4.6.0->sentence_transformers) (1.24.3)\n",
            "Requirement already satisfied: certifi>=2017.4.17 in /usr/local/lib/python3.7/dist-packages (from requests->transformers<5.0.0,>=4.6.0->sentence_transformers) (2021.5.30)\n",
            "Requirement already satisfied: idna<3,>=2.5 in /usr/local/lib/python3.7/dist-packages (from requests->transformers<5.0.0,>=4.6.0->sentence_transformers) (2.10)\n",
            "Requirement already satisfied: chardet<4,>=3.0.2 in /usr/local/lib/python3.7/dist-packages (from requests->transformers<5.0.0,>=4.6.0->sentence_transformers) (3.0.4)\n",
            "Requirement already satisfied: click in /usr/local/lib/python3.7/dist-packages (from sacremoses->transformers<5.0.0,>=4.6.0->sentence_transformers) (7.1.2)\n",
            "Requirement already satisfied: joblib in /usr/local/lib/python3.7/dist-packages (from sacremoses->transformers<5.0.0,>=4.6.0->sentence_transformers) (1.0.1)\n",
            "Requirement already satisfied: pillow>=5.3.0 in /usr/local/lib/python3.7/dist-packages (from torchvision->sentence_transformers) (7.1.2)\n"
          ],
          "name": "stdout"
        }
      ]
    },
    {
      "cell_type": "code",
      "metadata": {
        "colab": {
          "base_uri": "https://localhost:8080/"
        },
        "id": "rFn3TbzMhAH8",
        "outputId": "ae0cffd4-b349-4e6d-ad69-e39773ecf0b4"
      },
      "source": [
        "from sentence_transformers import SentenceTransformer\n",
        "import nltk \n",
        "nltk.download('punkt')\n",
        "import numpy as np"
      ],
      "execution_count": null,
      "outputs": [
        {
          "output_type": "stream",
          "text": [
            "[nltk_data] Downloading package punkt to /root/nltk_data...\n",
            "[nltk_data]   Package punkt is already up-to-date!\n"
          ],
          "name": "stdout"
        }
      ]
    },
    {
      "cell_type": "code",
      "metadata": {
        "id": "rNwQ2bw1mTKE"
      },
      "source": [
        ""
      ],
      "execution_count": null,
      "outputs": []
    },
    {
      "cell_type": "code",
      "metadata": {
        "id": "QAZx-AdU2fwv"
      },
      "source": [
        "dummy_sents_with_high_similarity = [\"The Company values the views of its shareholders. Beginning in Fiscal 2018, the Company initiated an expanded ESG engagement program with institutional shareholders representing over 40% of our outstanding shares, and we continued that program in Fiscal 2019.\",\n",
        "                                    \"In the fall of 2019 and into early 2020, we conducted a second round of engagement with stockholders representing about 28.0% of our outstanding shares in a series of meetings that focused on sustainability issues, including climate change and human capital management. In the area of human capital management, the topics included executive compensation practices, diverse representation in senior roles at [the company], talent development and succession planning, and identifying unintended biases in [the company's] people processes, including gender pay equity. Investors representing 4.5% of our outstanding shares declined our invitation to participate in the Fall/Winter engagement effort.\",\n",
        "                                    \"During our meetings with shareholders we heard strong support for our new CEO and feedback regarding executive compensation. Our shareholders also expressed continued interest in the Board's oversight of opioid risks, the Company's ongoing compliance efforts to managing the opioid issue and clarifications to our Political Contributions and Lobbying Policy, including Board oversight. Informed by those discussions, we made the following changes to our governance and compensation practices\",\n",
        "                                    \"We are proud that over 60% of our employees are women or people of color, that over half of our employees report to a woman or a person of color and that women and people of color represent more than 50% of our employees at or above the vice president-level.\",\n",
        "                                    \"Since the end of 2010, the number of women at or above the vice president-level has increased by more than 70%, and the number of people of color at or above that level has more than doubled.\",\n",
        "                                    \"We offer a wide variety of career opportunities…and paths to advancement through on-the-job coaching, training, and education. We are proud to be a company where an associate can start in an entry-level job and turn it into a successful career.\",\n",
        "                                    \"We have made significant investments in our U.S. hourly associates. For example, we stated in our 2019 ESG Report that: we had raised our starting wages in the U.S. over the prior three years; in fiscal year 2019, we had delivered approximately $793 million in bonuses to full- and part-time hourly associates in our [Company's U.S.] stores.\",\n",
        "                                    \"We had opened nearly 200 Company Academies in the U.S. with hundreds of thousands of associates having been trained in these academies since the inception of the program.\",\n",
        "                                    \"In 2019, the Company conducted the Our Voice Employee Survey. Our overall participation rate was 87%, 3% higher than in 2017. Our overall results have increased to 81% favorable.\",\n",
        "                                    \"The Company is making significant investments in renewable energy and sustainability initiatives: Running on 100% renewable energy by 2030. The company has over 86 renewable energy projects, including 26 utility-scale wind and solar farms and 60 solar rooftops installed on fulfillment centers and sort centers around the globe;…Since 2008…[we] saved more than 810,000 tons of packaging material and eliminated the use of 1.4 billion shipping boxes.\",\n",
        "                                    \"The Company demonstrates corporate leadership on climate change by setting strong goals and taking purposeful action in and outside our company. Our climate change strategy is based on mitigation, resilience and enablement. Progress Toward 2020 Targets: 60% Energy Intensity Reduction: 130% completed; 30% Fleet Emissions Reduction: 86.7% completed; Refurbish, reuse or recycle 200m devices: 87.5% completed\",\n",
        "                                    \"The Company has invested nearly $10 billion in technology and programs to reduce emissions since 2000…These investments were key in eliminating or reducing CO2 emissions by more than 400 million tonnes, which is equivalent to the average annual energy demand of more than 46 million U.S. homes.\",\n",
        "                                    \"The Company also announced, and is on track to meet, goals to further reduce emissions from its operations, including a 15-percent decrease in methane emissions and a 25-percent reduction in flaring by year-end 2020, as well as a 10-percent reduction in GHG intensity for the Imperial Oil-operated oil sands operations by 2023. These measures build upon established programs to deliver sustainable GHG reductions that help meet society's ambition for a lower-carbon future.\",\n",
        "                                    \"Each year, we release a Supplier Responsibility Progress Report and an Environmental Responsibility Report, which disclose the efforts the Company has undertaken in achieving our goals regarding a host of different ESG issues. For example, we have delivered on our goal to cover 100% of our operations with 100% renewable electricity, and we have achieved a 35% reduction in our overall carbon footprint compared to 2015.\",\n",
        "                                    \"Our Culture. The people of our Company are aligned around core values that inspire our behavior as individuals and as an organization. Integrity. Honor commitments. Never compromise ethics. Relationships. Build trust through collaboration. Compassion. Walk in the shoes of the people we serve and those with whom we work. Innovation. Invent the future and learn from the past…Demonstrate excellence in everything we do.\",\n",
        "                                    \"Our strong tone at the top begins with our Board of Directors, which has demonstrated its focus on advancing openness, honesty, fairness and integrity in the Boardroom and across the Company.\",\n",
        "                                    \"Ethics, Conduct and Culture Committee oversees management's efforts to reinforce and enhance a culture of ethics throughout the firm.\",\n",
        "                                    \"The Board established a Public Policy and Sustainability Committee in 2017 to assist the Board in providing more focused oversight over [the company's] policies, programs and related risks that concern key sustainability and public policy matters.\",\n",
        "                                    \"During the past year, the Corporate Governance and Nominating Committee's oversight focused on, among other things… [the company's] Corporate Responsibility Report and trends (including environmental sustainability, climate risk, human capital, human rights issues, and political accountability), and investor outreach and feedback.\",\n",
        "                                    \"We continue to drive ethical sourcing practices across our supply chain, protecting human rights, supporting diverse suppliers and engaging with suppliers around environmental issues.\",\n",
        "                                    \"We are committed to creating an open and accountable workplace where employees feel empowered to speak up and raise issues. With this in mind, we provide multiple channels to speak up, ask for guidance, and report concerns.\",\n",
        "                                    \"The Foundation works to improve the quality of education in the United States at all levels, with special emphasis on math and science. The Foundation also supports the Company's other cultural and public service giving.\",\n",
        "                                    \"Since 2008, when we launched Aspire, we have committed more than $550 million in education-centric programs. Much of our work is in collaboration with organizations that help underrepresented students develop computer science and coding skills…\",\n",
        "                                    \"We are investing in building the next generation of technical leaders by providing broader access to STEM education. We have committed $50 million to support computer science and STEM programs for underserved and underrepresented communities.\",\n",
        "                                    \"During our meetings with shareholders we heard strong support for our new CEO and feedback regarding executive compensation. Our shareholders also expressed continued interest in the Board's oversight of opioid risks, the Company's ongoing compliance efforts to managing the opioid issue and clarifications to our Political Contributions and Lobbying Policy, including Board oversight. Informed by those discussions, we made the following changes to our governance and compensation practices…\",\n",
        "                                    \"The Company values the views of its shareholders. Beginning in Fiscal 2018, the Company initiated an expanded ESG engagement program with institutional shareholders representing over 40% of our outstanding shares, and we continued that program in Fiscal 2019.\",\n",
        "                                    \"In the fall of 2019 and into early 2020, we conducted a second round of engagement with stockholders representing about 28.0% of our outstanding shares in a series of meetings that focused on sustainability issues, including climate change and human capital management. In the area of human capital management, the topics included executive compensation practices, diverse representation in senior roles at [the company], talent development and succession planning, and identifying unintended biases in [the company's] people processes, including gender pay equity. Investors representing 4.5% of our outstanding shares declined our invitation to participate in the Fall/Winter engagement effort.\",\n",
        "                                    \"We have worked, and are continuing to work, to integrate our ESG and SEC reporting and align our ESG disclosures with external frameworks such as SASB and TCFD\",\n",
        "                                    \"In 2017 the Financial Stability Board's Task Force on Climate-related Financial Disclosure (TCFD) issued its recommendations on reporting climate-related financial information. In September 2018, [we] published [our] climate report—under Board oversight led by the Nominating/Governance and Public Policy Committee—that is aligned with the main principles outlined in the recommendations of the TCFD.\",\n",
        "                                    \"ESG performance is a focus for the Company and our shareholders. The Compensation Committee factors ESG performance related to strategic goals for each NEO…reflect our ongoing commitment to ESG performance outcomes.\",\n",
        "                                    \"2019 Short-Term Incentive Compensation performance measures include Diversity and Sustainability Targets as follows: At least 60% of U.S.-based workforce comprised of minority and female employees; direct at least $5.2 billion of our overall supplier spending to minority- and female-owned firms; reduce our carbon intensity — the amount of carbon our business emits divided by the terabytes of data we transport over our networks — by at least 10% compared to the prior year.\",                             \n",
        "]"
      ],
      "execution_count": null,
      "outputs": []
    },
    {
      "cell_type": "code",
      "metadata": {
        "colab": {
          "base_uri": "https://localhost:8080/"
        },
        "id": "XDx0KY1tlkIk",
        "outputId": "514941b3-00eb-40a8-9013-b497b4e62911"
      },
      "source": [
        "len(dummy_sents_with_high_similarity)"
      ],
      "execution_count": null,
      "outputs": [
        {
          "output_type": "execute_result",
          "data": {
            "text/plain": [
              "31"
            ]
          },
          "metadata": {
            "tags": []
          },
          "execution_count": 23
        }
      ]
    },
    {
      "cell_type": "code",
      "metadata": {
        "id": "BxTPxF34UZw4"
      },
      "source": [
        "compare_sentences = [\"The Company values the views of its shareholders. Beginning in Fiscal 2018, the Company initiated an expanded ESG engagement program with institutional shareholders representing over 40% of our outstanding shares, and we continued that program in Fiscal 2019.\",\n",
        "                                    \"In the fall of 2019 and into early 2020, we conducted a second round of engagement with stockholders representing about 28.0% of our outstanding shares in a series of meetings that focused on sustainability issues, including climate change and human capital management. In the area of human capital management, the topics included executive compensation practices, diverse representation in senior roles at [the company], talent development and succession planning, and identifying unintended biases in [the company's] people processes, including gender pay equity. Investors representing 4.5% of our outstanding shares declined our invitation to participate in the Fall/Winter engagement effort.\",\n",
        "                                    \"During our meetings with shareholders we heard strong support for our new CEO and feedback regarding executive compensation. Our shareholders also expressed continued interest in the Board's oversight of opioid risks, the Company's ongoing compliance efforts to managing the opioid issue and clarifications to our Political Contributions and Lobbying Policy, including Board oversight. Informed by those discussions, we made the following changes to our governance and compensation practices\",\n",
        "                                    \"We are proud that over 60% of our employees are women or people of color, that over half of our employees report to a woman or a person of color and that women and people of color represent more than 50% of our employees at or above the vice president-level.\",\n",
        "                                    \"Since the end of 2010, the number of women at or above the vice president-level has increased by more than 70%, and the number of people of color at or above that level has more than doubled.\",\n",
        "                                    ]"
      ],
      "execution_count": null,
      "outputs": []
    },
    {
      "cell_type": "code",
      "metadata": {
        "id": "A21oMnDdeO6I"
      },
      "source": [
        "def cosine(u, v):\n",
        "    return np.dot(u, v) / (np.linalg.norm(u) * np.linalg.norm(v))"
      ],
      "execution_count": null,
      "outputs": []
    },
    {
      "cell_type": "code",
      "metadata": {
        "id": "mZP_nXTkeQIk"
      },
      "source": [
        "# New version for merged calls\n",
        "def sort_sents_by_desc_order_relevance(speech, compare_sentences):\n",
        "  sorted_sents_for_speech = []\n",
        "  sorted_cosine_for_speech = []\n",
        "  sbert_model = SentenceTransformer('bert-base-nli-mean-tokens')\n",
        "  \n",
        "  sentences = nltk.sent_tokenize(speech)\n",
        "  \n",
        "  tuples_of_sents_sim = [(sent, \n",
        "                      sum([cosine(sbert_model.encode([compare_sent])[0], \n",
        "                                              sbert_model.encode([sent])[0])for compare_sent in compare_sentences])/len(compare_sentences))\n",
        "                                              for sent in sentences]\n",
        "  tuples_of_sents_sim.sort(key=lambda x:x[1], reverse=True)\n",
        "  sorted_sents_for_speech.append(\" \".join([x[0] for x in tuples_of_sents_sim]))\n",
        "  sorted_cosine_for_speech.append(\" \".join([str(round(x[1],2)) for x in tuples_of_sents_sim]))\n",
        "\n",
        "  return sorted_sents_for_speech, sorted_cosine_for_speech"
      ],
      "execution_count": null,
      "outputs": []
    },
    {
      "cell_type": "code",
      "metadata": {
        "id": "hpL3wAZaiQ3v"
      },
      "source": [
        "cosines_dicts = []"
      ],
      "execution_count": null,
      "outputs": []
    },
    {
      "cell_type": "code",
      "metadata": {
        "colab": {
          "base_uri": "https://localhost:8080/"
        },
        "id": "YaThuggpeTxQ",
        "outputId": "9bbbe30a-a690-4f1c-8768-6c82ea975441"
      },
      "source": [
        "for sent in dummy_sents_with_high_similarity:\n",
        "  temp_sent, temp_cos = sort_sents_by_desc_order_relevance(sent, compare_sentences)\n",
        "  print({\"sent\": temp_sent, \"cosine\": temp_cos})\n",
        "  cosines_dicts.append({\"sent\": temp_sent, \"cosine\": temp_cos})"
      ],
      "execution_count": null,
      "outputs": [
        {
          "output_type": "stream",
          "text": [
            "{'sent': ['We are proud to be a company where an associate can start in an entry-level job and turn it into a successful career. We offer a wide variety of career opportunities…and paths to advancement through on-the-job coaching, training, and education.'], 'cosine': ['0.51 0.38']}\n",
            "{'sent': [\"For example, we stated in our 2019 ESG Report that: we had raised our starting wages in the U.S. over the prior three years; in fiscal year 2019, we had delivered approximately $793 million in bonuses to full- and part-time hourly associates in our [Company's U.S.] stores. We have made significant investments in our U.S. hourly associates.\"], 'cosine': ['0.67 0.56']}\n",
            "{'sent': ['We had opened nearly 200 Company Academies in the U.S. with hundreds of thousands of associates having been trained in these academies since the inception of the program.'], 'cosine': ['0.6']}\n",
            "{'sent': ['Our overall participation rate was 87%, 3% higher than in 2017. Our overall results have increased to 81% favorable. In 2019, the Company conducted the Our Voice Employee Survey.'], 'cosine': ['0.51 0.49 0.42']}\n",
            "{'sent': ['The company has over 86 renewable energy projects, including 26 utility-scale wind and solar farms and 60 solar rooftops installed on fulfillment centers and sort centers around the globe;…Since 2008…[we] saved more than 810,000 tons of packaging material and eliminated the use of 1.4 billion shipping boxes. The Company is making significant investments in renewable energy and sustainability initiatives: Running on 100% renewable energy by 2030.'], 'cosine': ['0.52 0.51']}\n",
            "{'sent': ['Progress Toward 2020 Targets: 60% Energy Intensity Reduction: 130% completed; 30% Fleet Emissions Reduction: 86.7% completed; Refurbish, reuse or recycle 200m devices: 87.5% completed The Company demonstrates corporate leadership on climate change by setting strong goals and taking purposeful action in and outside our company. Our climate change strategy is based on mitigation, resilience and enablement.'], 'cosine': ['0.6 0.43 0.24']}\n",
            "{'sent': ['The Company has invested nearly $10 billion in technology and programs to reduce emissions since 2000…These investments were key in eliminating or reducing CO2 emissions by more than 400 million tonnes, which is equivalent to the average annual energy demand of more than 46 million U.S. homes.'], 'cosine': ['0.63']}\n",
            "{'sent': [\"The Company also announced, and is on track to meet, goals to further reduce emissions from its operations, including a 15-percent decrease in methane emissions and a 25-percent reduction in flaring by year-end 2020, as well as a 10-percent reduction in GHG intensity for the Imperial Oil-operated oil sands operations by 2023. These measures build upon established programs to deliver sustainable GHG reductions that help meet society's ambition for a lower-carbon future.\"], 'cosine': ['0.53 0.34']}\n",
            "{'sent': ['For example, we have delivered on our goal to cover 100% of our operations with 100% renewable electricity, and we have achieved a 35% reduction in our overall carbon footprint compared to 2015. Each year, we release a Supplier Responsibility Progress Report and an Environmental Responsibility Report, which disclose the efforts the Company has undertaken in achieving our goals regarding a host of different ESG issues.'], 'cosine': ['0.58 0.55']}\n",
            "{'sent': ['The people of our Company are aligned around core values that inspire our behavior as individuals and as an organization. Invent the future and learn from the past…Demonstrate excellence in everything we do. Walk in the shoes of the people we serve and those with whom we work. Build trust through collaboration. Honor commitments. Innovation. Never compromise ethics. Our Culture. Relationships. Integrity. Compassion.'], 'cosine': ['0.41 0.34 0.31 0.18 0.16 0.09 0.06 0.06 0.05 -0.01 -0.03']}\n",
            "{'sent': ['Our strong tone at the top begins with our Board of Directors, which has demonstrated its focus on advancing openness, honesty, fairness and integrity in the Boardroom and across the Company.'], 'cosine': ['0.55']}\n",
            "{'sent': [\"Ethics, Conduct and Culture Committee oversees management's efforts to reinforce and enhance a culture of ethics throughout the firm.\"], 'cosine': ['0.41']}\n",
            "{'sent': [\"The Board established a Public Policy and Sustainability Committee in 2017 to assist the Board in providing more focused oversight over [the company's] policies, programs and related risks that concern key sustainability and public policy matters.\"], 'cosine': ['0.45']}\n",
            "{'sent': [\"During the past year, the Corporate Governance and Nominating Committee's oversight focused on, among other things… [the company's] Corporate Responsibility Report and trends (including environmental sustainability, climate risk, human capital, human rights issues, and political accountability), and investor outreach and feedback.\"], 'cosine': ['0.57']}\n",
            "{'sent': ['We continue to drive ethical sourcing practices across our supply chain, protecting human rights, supporting diverse suppliers and engaging with suppliers around environmental issues.'], 'cosine': ['0.4']}\n",
            "{'sent': ['We are committed to creating an open and accountable workplace where employees feel empowered to speak up and raise issues. With this in mind, we provide multiple channels to speak up, ask for guidance, and report concerns.'], 'cosine': ['0.41 0.21']}\n",
            "{'sent': [\"The Foundation works to improve the quality of education in the United States at all levels, with special emphasis on math and science. The Foundation also supports the Company's other cultural and public service giving.\"], 'cosine': ['0.43 0.33']}\n",
            "{'sent': ['Since 2008, when we launched Aspire, we have committed more than $550 million in education-centric programs. Much of our work is in collaboration with organizations that help underrepresented students develop computer science and coding skills…'], 'cosine': ['0.59 0.33']}\n",
            "{'sent': ['We have committed $50 million to support computer science and STEM programs for underserved and underrepresented communities. We are investing in building the next generation of technical leaders by providing broader access to STEM education.'], 'cosine': ['0.55 0.4']}\n",
            "{'sent': [\"During our meetings with shareholders we heard strong support for our new CEO and feedback regarding executive compensation. Our shareholders also expressed continued interest in the Board's oversight of opioid risks, the Company's ongoing compliance efforts to managing the opioid issue and clarifications to our Political Contributions and Lobbying Policy, including Board oversight. Informed by those discussions, we made the following changes to our governance and compensation practices…\"], 'cosine': ['0.64 0.56 0.36']}\n",
            "{'sent': ['Beginning in Fiscal 2018, the Company initiated an expanded ESG engagement program with institutional shareholders representing over 40% of our outstanding shares, and we continued that program in Fiscal 2019. The Company values the views of its shareholders.'], 'cosine': ['0.72 0.4']}\n",
            "{'sent': [\"In the fall of 2019 and into early 2020, we conducted a second round of engagement with stockholders representing about 28.0% of our outstanding shares in a series of meetings that focused on sustainability issues, including climate change and human capital management. In the area of human capital management, the topics included executive compensation practices, diverse representation in senior roles at [the company], talent development and succession planning, and identifying unintended biases in [the company's] people processes, including gender pay equity. Investors representing 4.5% of our outstanding shares declined our invitation to participate in the Fall/Winter engagement effort.\"], 'cosine': ['0.64 0.54 0.46']}\n",
            "{'sent': ['We have worked, and are continuing to work, to integrate our ESG and SEC reporting and align our ESG disclosures with external frameworks such as SASB and TCFD'], 'cosine': ['0.38']}\n",
            "{'sent': [\"In September 2018, [we] published [our] climate report—under Board oversight led by the Nominating/Governance and Public Policy Committee—that is aligned with the main principles outlined in the recommendations of the TCFD. In 2017 the Financial Stability Board's Task Force on Climate-related Financial Disclosure (TCFD) issued its recommendations on reporting climate-related financial information.\"], 'cosine': ['0.42 0.38']}\n",
            "{'sent': ['ESG performance is a focus for the Company and our shareholders. The Compensation Committee factors ESG performance related to strategic goals for each NEO…reflect our ongoing commitment to ESG performance outcomes.'], 'cosine': ['0.49 0.44']}\n",
            "{'sent': ['2019 Short-Term Incentive Compensation performance measures include Diversity and Sustainability Targets as follows: At least 60% of U.S.-based workforce comprised of minority and female employees; direct at least $5.2 billion of our overall supplier spending to minority- and female-owned firms; reduce our carbon intensity — the amount of carbon our business emits divided by the terabytes of data we transport over our networks — by at least 10% compared to the prior year.'], 'cosine': ['0.62']}\n"
          ],
          "name": "stdout"
        }
      ]
    },
    {
      "cell_type": "code",
      "metadata": {
        "colab": {
          "base_uri": "https://localhost:8080/"
        },
        "id": "2r8Lq75TAmA9",
        "outputId": "376971ca-af1a-40da-e63f-e982d6381362"
      },
      "source": [
        "len(\"The Company values ​​the point of view of its shareholders. Starting in fiscal 2018, the Company launched an expanded ESG engagement program with institutional shareholders representing more than 40% of our outstanding shares, and we continued this program during fiscal 2019.\")"
      ],
      "execution_count": null,
      "outputs": [
        {
          "output_type": "execute_result",
          "data": {
            "text/plain": [
              "259"
            ]
          },
          "metadata": {
            "tags": []
          },
          "execution_count": 2
        }
      ]
    },
    {
      "cell_type": "code",
      "metadata": {
        "colab": {
          "base_uri": "https://localhost:8080/"
        },
        "id": "EtzSy9t8DWrd",
        "outputId": "14bb6ad1-957e-4d35-b6de-7b3612d1f0b6"
      },
      "source": [
        ""
      ],
      "execution_count": null,
      "outputs": [
        {
          "output_type": "execute_result",
          "data": {
            "text/plain": [
              "False"
            ]
          },
          "metadata": {
            "tags": []
          },
          "execution_count": 3
        }
      ]
    }
  ]
}