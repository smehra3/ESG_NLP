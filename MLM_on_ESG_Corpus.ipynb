{
  "nbformat": 4,
  "nbformat_minor": 0,
  "metadata": {
    "colab": {
      "name": "Fine Tuning BERT for ESG Corpus.ipynb",
      "provenance": [],
      "collapsed_sections": [],
      "machine_shape": "hm"
    },
    "kernelspec": {
      "name": "python3",
      "display_name": "Python 3"
    },
    "language_info": {
      "name": "python"
    },
    "accelerator": "TPU"
  },
  "cells": [
    {
      "cell_type": "markdown",
      "metadata": {
        "id": "x-gkWfj10XdW"
      },
      "source": [
        "# Getting Input - Sustainaibility Reports"
      ]
    },
    {
      "cell_type": "code",
      "metadata": {
        "colab": {
          "base_uri": "https://localhost:8080/"
        },
        "id": "FyLDlestb5a-",
        "outputId": "334be299-479a-4217-8cdc-9c5b92c917d5"
      },
      "source": [
        "!apt-get install python3-pypdf2\n",
        "!pip install -U -q PyDrive"
      ],
      "execution_count": null,
      "outputs": [
        {
          "output_type": "stream",
          "text": [
            "Reading package lists... Done\n",
            "Building dependency tree       \n",
            "Reading state information... Done\n",
            "The following NEW packages will be installed:\n",
            "  python3-pypdf2\n",
            "0 upgraded, 1 newly installed, 0 to remove and 39 not upgraded.\n",
            "Need to get 49.2 kB of archives.\n",
            "After this operation, 263 kB of additional disk space will be used.\n",
            "Get:1 http://archive.ubuntu.com/ubuntu bionic/universe amd64 python3-pypdf2 all 1.26.0-2 [49.2 kB]\n",
            "Fetched 49.2 kB in 1s (90.1 kB/s)\n",
            "Selecting previously unselected package python3-pypdf2.\n",
            "(Reading database ... 160815 files and directories currently installed.)\n",
            "Preparing to unpack .../python3-pypdf2_1.26.0-2_all.deb ...\n",
            "Unpacking python3-pypdf2 (1.26.0-2) ...\n",
            "Setting up python3-pypdf2 (1.26.0-2) ...\n"
          ],
          "name": "stdout"
        }
      ]
    },
    {
      "cell_type": "code",
      "metadata": {
        "id": "NTek3JfXb0-A"
      },
      "source": [
        "from google.colab import auth\n",
        "import json\n",
        "import nltk\n",
        "import numpy as np\n",
        "from oauth2client.client import GoogleCredentials\n",
        "import os\n",
        "import pandas as pd\n",
        "from pydrive.auth import GoogleAuth\n",
        "from pydrive.drive import GoogleDrive\n",
        "import PyPDF2\n",
        "import requests"
      ],
      "execution_count": null,
      "outputs": []
    },
    {
      "cell_type": "code",
      "metadata": {
        "id": "y9QT5koGU1yR"
      },
      "source": [
        "#ADF Reports\n",
        "adfreports = []"
      ],
      "execution_count": null,
      "outputs": []
    },
    {
      "cell_type": "code",
      "metadata": {
        "id": "D27W1Oursc49"
      },
      "source": [
        "# 1. Authenticate and create the PyDrive client.\n",
        "auth.authenticate_user()\n",
        "gauth = GoogleAuth()\n",
        "gauth.credentials = GoogleCredentials.get_application_default()\n",
        "drive = GoogleDrive(gauth)"
      ],
      "execution_count": null,
      "outputs": []
    },
    {
      "cell_type": "code",
      "metadata": {
        "id": "RsUhL3rSWPO5"
      },
      "source": [
        "# local (colab) directory to store the data.\n",
        "local_download_path = os.path.expanduser('~/data/a4s')\n",
        "try:\n",
        "  os.makedirs(local_download_path)\n",
        "except: pass"
      ],
      "execution_count": null,
      "outputs": []
    },
    {
      "cell_type": "code",
      "metadata": {
        "id": "ph0eb1oogeIE",
        "colab": {
          "base_uri": "https://localhost:8080/"
        },
        "outputId": "c02c144f-ea79-465f-b374-7eefc379affc"
      },
      "source": [
        "# 2. Auto-iterate using the query syntax\n",
        "file_list = drive.ListFile(\n",
        "    {'q': \"'1wjLj01vGtA6zDxulEU9pxH9_dZcGkTl5' in parents\"}).GetList()"
      ],
      "execution_count": null,
      "outputs": [
        {
          "output_type": "stream",
          "text": [
            "WARNING:googleapiclient.discovery_cache:file_cache is unavailable when using oauth2client >= 4.0.0 or google-auth\n",
            "Traceback (most recent call last):\n",
            "  File \"/usr/local/lib/python3.7/dist-packages/googleapiclient/discovery_cache/file_cache.py\", line 33, in <module>\n",
            "    from oauth2client.contrib.locked_file import LockedFile\n",
            "ModuleNotFoundError: No module named 'oauth2client.contrib.locked_file'\n",
            "\n",
            "During handling of the above exception, another exception occurred:\n",
            "\n",
            "Traceback (most recent call last):\n",
            "  File \"/usr/local/lib/python3.7/dist-packages/googleapiclient/discovery_cache/file_cache.py\", line 37, in <module>\n",
            "    from oauth2client.locked_file import LockedFile\n",
            "ModuleNotFoundError: No module named 'oauth2client.locked_file'\n",
            "\n",
            "During handling of the above exception, another exception occurred:\n",
            "\n",
            "Traceback (most recent call last):\n",
            "  File \"/usr/local/lib/python3.7/dist-packages/googleapiclient/discovery_cache/__init__.py\", line 44, in autodetect\n",
            "    from . import file_cache\n",
            "  File \"/usr/local/lib/python3.7/dist-packages/googleapiclient/discovery_cache/file_cache.py\", line 41, in <module>\n",
            "    \"file_cache is unavailable when using oauth2client >= 4.0.0 or google-auth\"\n",
            "ImportError: file_cache is unavailable when using oauth2client >= 4.0.0 or google-auth\n"
          ],
          "name": "stderr"
        }
      ]
    },
    {
      "cell_type": "code",
      "metadata": {
        "colab": {
          "base_uri": "https://localhost:8080/"
        },
        "id": "JMTOZG5xogsJ",
        "outputId": "f74b6bec-f16f-4e99-f8e3-f991b18e6e9c"
      },
      "source": [
        "print(file_list[0])"
      ],
      "execution_count": null,
      "outputs": [
        {
          "output_type": "stream",
          "text": [
            "GoogleDriveFile({'kind': 'drive#file', 'id': '1j3_rLHMMfuQtTD02x5uHrGkxfewvrod8', 'etag': '\"MTYyNTEwNDk5MjAwMA\"', 'selfLink': 'https://www.googleapis.com/drive/v2/files/1j3_rLHMMfuQtTD02x5uHrGkxfewvrod8', 'webContentLink': 'https://drive.google.com/uc?id=1j3_rLHMMfuQtTD02x5uHrGkxfewvrod8&export=download', 'alternateLink': 'https://drive.google.com/file/d/1j3_rLHMMfuQtTD02x5uHrGkxfewvrod8/view?usp=drivesdk', 'embedLink': 'https://drive.google.com/file/d/1j3_rLHMMfuQtTD02x5uHrGkxfewvrod8/preview?usp=drivesdk', 'iconLink': 'https://drive-thirdparty.googleusercontent.com/16/type/application/pdf', 'thumbnailLink': 'https://lh3.googleusercontent.com/DrVnxqeiJ6ChXApqZjW5EO8x09YNRrv170ZpF8FJB4F7bSpg9lQ9wMs59DOhUbGvQMIRD4wlfCXgDns=s220', 'title': 'ABN AMRO - Measuring, reporting, steering.pdf.downloadasset.pdf', 'mimeType': 'application/pdf', 'labels': {'starred': False, 'hidden': False, 'trashed': False, 'restricted': False, 'viewed': True}, 'copyRequiresWriterPermission': False, 'createdDate': '2021-07-13T11:23:59.758Z', 'modifiedDate': '2021-07-01T02:03:12.000Z', 'modifiedByMeDate': '2021-07-01T02:03:12.000Z', 'lastViewedByMeDate': '2021-07-13T11:23:59.758Z', 'markedViewedByMeDate': '1970-01-01T00:00:00.000Z', 'version': '2', 'parents': [{'kind': 'drive#parentReference', 'id': '1wjLj01vGtA6zDxulEU9pxH9_dZcGkTl5', 'selfLink': 'https://www.googleapis.com/drive/v2/files/1j3_rLHMMfuQtTD02x5uHrGkxfewvrod8/parents/1wjLj01vGtA6zDxulEU9pxH9_dZcGkTl5', 'parentLink': 'https://www.googleapis.com/drive/v2/files/1wjLj01vGtA6zDxulEU9pxH9_dZcGkTl5', 'isRoot': False}], 'downloadUrl': 'https://www.googleapis.com/drive/v2/files/1j3_rLHMMfuQtTD02x5uHrGkxfewvrod8?alt=media&source=downloadUrl', 'userPermission': {'kind': 'drive#permission', 'etag': '\"DPbaKuXD8DEtoSoJeuTQ-yo5Mg4\"', 'id': 'me', 'selfLink': 'https://www.googleapis.com/drive/v2/files/1j3_rLHMMfuQtTD02x5uHrGkxfewvrod8/permissions/me', 'role': 'owner', 'type': 'user'}, 'originalFilename': 'ABN AMRO - Measuring, reporting, steering.pdf.downloadasset.pdf', 'fileExtension': 'pdf', 'md5Checksum': '4ce693ed0ae6576e18ab8f9a01a50e6f', 'fileSize': '578500', 'quotaBytesUsed': '578500', 'ownerNames': ['Srishti Mehra'], 'owners': [{'kind': 'drive#user', 'displayName': 'Srishti Mehra', 'picture': {'url': 'https://lh3.googleusercontent.com/a-/AOh14GiVF9wdDD41n0Vuwmk75OZTpSlFvihpG-_E44nS=s64'}, 'isAuthenticatedUser': True, 'permissionId': '05008182001513680726', 'emailAddress': 'srishtimehra@berkeley.edu'}], 'lastModifyingUserName': 'Srishti Mehra', 'lastModifyingUser': {'kind': 'drive#user', 'displayName': 'Srishti Mehra', 'picture': {'url': 'https://lh3.googleusercontent.com/a-/AOh14GiVF9wdDD41n0Vuwmk75OZTpSlFvihpG-_E44nS=s64'}, 'isAuthenticatedUser': True, 'permissionId': '05008182001513680726', 'emailAddress': 'srishtimehra@berkeley.edu'}, 'capabilities': {'canCopy': True, 'canEdit': True}, 'editable': True, 'copyable': True, 'writersCanShare': True, 'shared': True, 'explicitlyTrashed': False, 'appDataContents': False, 'headRevisionId': '0B4PYReHrhYYkN2pOY0xXS1ZWUEZDemphL0ozbGt1Ym5CdVhzPQ', 'spaces': ['drive']})\n"
          ],
          "name": "stdout"
        }
      ]
    },
    {
      "cell_type": "code",
      "metadata": {
        "colab": {
          "base_uri": "https://localhost:8080/"
        },
        "id": "fcN_MGLkg54j",
        "outputId": "ffbbbeba-b514-4370-84a3-2e73e8f8360f"
      },
      "source": [
        "for f in file_list:\n",
        "  # 3. Create & download by id.\n",
        "  print('title: %s, id: %s' % (f['title'], f['id']))\n",
        "  fname = os.path.join(local_download_path, f['title'])\n",
        "  print('downloading to {}'.format(fname))\n",
        "  f_ = drive.CreateFile({'id': f['id']})\n",
        "  f_.GetContentFile(fname)\n",
        "  \n",
        "  # creating a pdf file object\n",
        "  pdfFileObj = open(fname, 'rb')\n",
        "\n",
        "  # creating a pdf reader object\n",
        "  pdfReader = PyPDF2.PdfFileReader(pdfFileObj)\n",
        "  \n",
        "  # printing number of pages in pdf file\n",
        "  print(pdfReader.numPages)\n",
        "  \n",
        "  # creating a page object\n",
        "  pageObj = pdfReader.getPage(0)\n",
        "  \n",
        "  # extracting text from page\n",
        "  text = [pdfReader.getPage(i).extractText() for i in range(0, pdfReader.getNumPages())]\n",
        "  adfreports.append({\"resource_name\":f['title'], \"text\":\"\\n\".join(text)})\n",
        "  \n",
        "  # closing the pdf file object\n",
        "  pdfFileObj.close()\n",
        "\n",
        "  #print('downloading to {}'.format(fname))\n",
        "  #f_ = drive.CreateFile({'id': f['id']})\n",
        "  #f_.GetContentFile(fname)"
      ],
      "execution_count": null,
      "outputs": [
        {
          "output_type": "stream",
          "text": [
            "title: ABN AMRO - Measuring, reporting, steering.pdf.downloadasset.pdf, id: 1j3_rLHMMfuQtTD02x5uHrGkxfewvrod8\n",
            "downloading to /root/data/a4s/ABN AMRO - Measuring, reporting, steering.pdf.downloadasset.pdf\n"
          ],
          "name": "stdout"
        },
        {
          "output_type": "stream",
          "text": [
            "PdfReadWarning: Xref table not zero-indexed. ID numbers for objects will be corrected. [pdf.py:1736]\n"
          ],
          "name": "stderr"
        },
        {
          "output_type": "stream",
          "text": [
            "11\n",
            "title: Net Zero A Practical Guide for Finance Teams of Banks.pdf.downloadasset.pdf, id: 1DYde-ijnUqKC1ZW7qE4T6ervLiSpenoN\n",
            "downloading to /root/data/a4s/Net Zero A Practical Guide for Finance Teams of Banks.pdf.downloadasset.pdf\n",
            "42\n",
            "title: Net Zero A Practical Guide for Finance Teams.pdf.downloadasset.pdf, id: 1hbo_5Vc38ZtSyWTJJiPQm36uQXc_gFLV\n",
            "downloading to /root/data/a4s/Net Zero A Practical Guide for Finance Teams.pdf.downloadasset.pdf\n",
            "38\n",
            "title: NatWest Group - Reducing financed emissions to meet our climate ambition.pdf.downloadasset.pdf, id: 1WeqnA4zpUvB9VDco7u1eeqaAOSMlSXcR\n",
            "downloading to /root/data/a4s/NatWest Group - Reducing financed emissions to meet our climate ambition.pdf.downloadasset.pdf\n",
            "10\n",
            "title: British Land - Engaging the Board and Executive Management on Sustainability.pdf.downloadasset.pdf, id: 1tXQ6Z-SZ2YQ4GKuMddVUkhy11hTrIGrW\n",
            "downloading to /root/data/a4s/British Land - Engaging the Board and Executive Management on Sustainability.pdf.downloadasset.pdf\n",
            "10\n",
            "title: Future proofed decision making.pdf.downloadasset.pdf, id: 14kcJ0I0W9JPatYHeZrHkZYo-OHMPSXs3\n",
            "downloading to /root/data/a4s/Future proofed decision making.pdf.downloadasset.pdf\n",
            "32\n",
            "title: The value of extra financial disclosure.pdf.downloadasset.pdf, id: 15CdnRLUrgQZ0nTE9iHpilEYO7fsIIn7C\n",
            "downloading to /root/data/a4s/The value of extra financial disclosure.pdf.downloadasset.pdf\n",
            "60\n",
            "title: Resilience-and-the-Long-Term-booklet.pdf.downloadasset.pdf, id: 17NofuFrJQuVTexGRblKjo68qpC3WUWfw\n",
            "downloading to /root/data/a4s/Resilience-and-the-Long-Term-booklet.pdf.downloadasset.pdf\n",
            "16\n",
            "title: CIMA-accounting-for-natural-capital.pdf, id: 1ydm3UMJbbT9fR-XFS_oSmc6eqOkhpbYd\n",
            "downloading to /root/data/a4s/CIMA-accounting-for-natural-capital.pdf\n",
            "20\n",
            "title: A4S Essential Guide to Strategic Planning, Budgeting and Forecasting1.pdf.downloadasset (1).pdf, id: 1sGgS1u_8Kq63s0dB68VK2e_68msKyfv7\n",
            "downloading to /root/data/a4s/A4S Essential Guide to Strategic Planning, Budgeting and Forecasting1.pdf.downloadasset (1).pdf\n",
            "175\n",
            "title: 070_342__scottishnaturalcapitalsurvey2014_fullresults_scottishforumonnaturalcapital_1459954033.pdf, id: 1M6ov3qohcx5ASsz8Z5ZUXvHftVTQgEWd\n",
            "downloading to /root/data/a4s/070_342__scottishnaturalcapitalsurvey2014_fullresults_scottishforumonnaturalcapital_1459954033.pdf\n",
            "3\n",
            "title: Sussex Community NHS Trust - Public sector and third sector category.pdf, id: 1XFfU-bDbxR0mbJojt3QV53iZg9VS8Fck\n",
            "downloading to /root/data/a4s/Sussex Community NHS Trust - Public sector and third sector category.pdf\n",
            "2\n",
            "title: SHE Transmission - Large business.pdf, id: 10I5pXfp46KJ1SQuSE1UEmj3MjDl4X4jS\n",
            "downloading to /root/data/a4s/SHE Transmission - Large business.pdf\n",
            "2\n",
            "title: George Cobb - Finance Leader of the Future.pdf, id: 1z7MBBim63VprQGhLKG8i5EVwY2vBFgQy\n",
            "downloading to /root/data/a4s/George Cobb - Finance Leader of the Future.pdf\n",
            "2\n",
            "title: FRC Group - Small and medium-sized enterprise.pdf, id: 16Xng3QSdagECj5j1rxc3fO3I4MIfMj8N\n",
            "downloading to /root/data/a4s/FRC Group - Small and medium-sized enterprise.pdf\n",
            "2\n",
            "title: Carbon Tracker Initiative - Driving change in others.pdf, id: 1OMyDlY8Na2OtdIyGtK_TQzZs75LqkaFo\n",
            "downloading to /root/data/a4s/Carbon Tracker Initiative - Driving change in others.pdf\n",
            "2\n",
            "title: bio-bean case study - Innovative new idea category.pdf, id: 1sZo_3NBcdOJNmqTWPUA5E9Ha7IKp0pNy\n",
            "downloading to /root/data/a4s/bio-bean case study - Innovative new idea category.pdf\n",
            "2\n",
            "title: Adnams - Small and medium-sized enterprise.pdf, id: 1kLd31__a8UxChEp37-2G1Ds7WHGsY0e2\n",
            "downloading to /root/data/a4s/Adnams - Small and medium-sized enterprise.pdf\n",
            "2\n",
            "title: A4S Summit 2015 BOOKLET.pdf.downloadasset.pdf, id: 1FHqHquYYQcyqSXW0NUlMrmUgooG6C4f5\n",
            "downloading to /root/data/a4s/A4S Summit 2015 BOOKLET.pdf.downloadasset.pdf\n",
            "44\n",
            "title: Accounting-for-good-report-FINAL.pdf, id: 18rxjtEAyUjnCfgm3Githd-e19RWOwh3N\n",
            "downloading to /root/data/a4s/Accounting-for-good-report-FINAL.pdf\n",
            "6\n",
            "title: Capex (2019).pdf.downloadasset.pdf, id: 1UD1lBBusrMdjZtbdd56quo2kWlyp4cXt\n",
            "downloading to /root/data/a4s/Capex (2019).pdf.downloadasset.pdf\n",
            "36\n",
            "title: The A4S Essential Guide to Managing Future Uncertainty.pdf.downloadasset.pdf, id: 16sjVccyffrUJRfOT2OCWvSVXcUys1Uvl\n",
            "downloading to /root/data/a4s/The A4S Essential Guide to Managing Future Uncertainty.pdf.downloadasset.pdf\n",
            "32\n",
            "title: The A4S Essential Guide to Natural and Social Capital.pdf.downloadasset.pdf, id: 1z2zH-00ysd8_s21IBlUB2ryzf5yC48sS\n",
            "downloading to /root/data/a4s/The A4S Essential Guide to Natural and Social Capital.pdf.downloadasset.pdf\n",
            "28\n",
            "title: The A4S Essential Guide to Enhancing Investor Engagement.pdf.downloadasset.pdf, id: 1rf4G4SylP_LehBZRzjHDEkkTMvt8r9Wi\n",
            "downloading to /root/data/a4s/The A4S Essential Guide to Enhancing Investor Engagement.pdf.downloadasset.pdf\n",
            "28\n",
            "title: The A4S Essential Guide to Capex.pdf.downloadasset.pdf, id: 1WWN1L0CIj582xqm3mNYNgY_RHJfXK8YH\n",
            "downloading to /root/data/a4s/The A4S Essential Guide to Capex.pdf.downloadasset.pdf\n",
            "36\n",
            "title: AASB_AUASB_Joint_Bulletin_May2019.pdf, id: 1XmXgy05Orhm3U34iM3gRo8rsbS7oRhjo\n",
            "downloading to /root/data/a4s/AASB_AUASB_Joint_Bulletin_May2019.pdf\n",
            "16\n",
            "title: 19-208MR ASIC updates guidance on climate change related disclosure _ ASIC - Australian Securities and Investments Commission.pdf, id: 1FKqCfMiyxKaMZWimLzT1WF_3isGSpzUB\n",
            "downloading to /root/data/a4s/19-208MR ASIC updates guidance on climate change related disclosure _ ASIC - Australian Securities and Investments Commission.pdf\n",
            "2\n",
            "title: Finance for the Future - United Utilities.pdf.downloadasset.pdf, id: 1ILV56MW8Sluqeh9LK58P3YUlyrZktDRH\n",
            "downloading to /root/data/a4s/Finance for the Future - United Utilities.pdf.downloadasset.pdf\n",
            "2\n",
            "title: Finance for the Future - SKANSKA UK.pdf.downloadasset.pdf, id: 1JvwdKPte2VwzKqKkXgsHW4vs1t1d24MC\n",
            "downloading to /root/data/a4s/Finance for the Future - SKANSKA UK.pdf.downloadasset.pdf\n",
            "2\n",
            "title: The-2030-Agenda-for-Sustainable-Development-A-Snapshot-of-the-Accountancy-Professions-Contribution-2016_0.pdf, id: 1M0DLVocvS1UELN6GCDQ2nu_LiLV2JGnD\n",
            "downloading to /root/data/a4s/The-2030-Agenda-for-Sustainable-Development-A-Snapshot-of-the-Accountancy-Professions-Contribution-2016_0.pdf\n",
            "31\n",
            "title: A4S Summit Nov 2016 Event Report.pdf.downloadasset.pdf, id: 1d0FZgj-u7PPnRsccaHm-GfqejHpOdIQD\n",
            "downloading to /root/data/a4s/A4S Summit Nov 2016 Event Report.pdf.downloadasset.pdf\n",
            "8\n",
            "title: Chartered accountants australia new zealand - enhancing not for profit annual and financial reporting.pdf.downloadasset.pdf, id: 1bsBISfKAdFuzLL6qc57_J11ROlbe51Xz\n",
            "downloading to /root/data/a4s/Chartered accountants australia new zealand - enhancing not for profit annual and financial reporting.pdf.downloadasset.pdf\n",
            "105\n",
            "title: A4S Essential Guide to Social and Human Capital Accounting.pdf.downloadasset.pdf, id: 1EREBjBhPxDq0pM_w8mHb6fZE0cjXxgwa\n",
            "downloading to /root/data/a4s/A4S Essential Guide to Social and Human Capital Accounting.pdf.downloadasset.pdf\n",
            "106\n",
            "title: Chartered Accounts Australia and New Zealand - How can New Zealand keep living standards rising for all.pdf.downloadasset.pdf, id: 1u6McIHp6E0hnh0P8qztbDzaPuiceKSo5\n",
            "downloading to /root/data/a4s/Chartered Accounts Australia and New Zealand - How can New Zealand keep living standards rising for all.pdf.downloadasset.pdf\n",
            "64\n",
            "title: Event Report Summit 2017.pdf.downloadasset.pdf, id: 11o4F7VMQFdVbWlfxOphdHlt51kLd5D28\n",
            "downloading to /root/data/a4s/Event Report Summit 2017.pdf.downloadasset.pdf\n",
            "15\n",
            "title: Chartered Accountants Australia and New Zealand – Shaping Australia’s Future.pdf.downloadasset.pdf, id: 1pwlFX9dEODy89je-SMXGvHVPS77K5nvv\n",
            "downloading to /root/data/a4s/Chartered Accountants Australia and New Zealand – Shaping Australia’s Future.pdf.downloadasset.pdf\n",
            "68\n",
            "title: Chartered Accountants Australia and New Zealand – Shaping the Future of Our Regions.pdf.downloadasset.pdf, id: 1rvRabvwPn77PhXs0fTsq07DqLuCM7XFa\n",
            "downloading to /root/data/a4s/Chartered Accountants Australia and New Zealand – Shaping the Future of Our Regions.pdf.downloadasset.pdf\n",
            "68\n",
            "title: SDGs-and-the-integrated-report_full17.pdf, id: 1bC4KZ12Rl-P1ZPUyp2jyzDj71slsV1i-\n",
            "downloading to /root/data/a4s/SDGs-and-the-integrated-report_full17.pdf\n",
            "52\n",
            "title: 5-99-0-4e-20180227.pdf, id: 1gk1jZNXxtD6OOa2qWtdhMhSuag2kIfVC\n",
            "downloading to /root/data/a4s/5-99-0-4e-20180227.pdf\n",
            "2\n",
            "title: cgma-sustainable-dvelopment-goals-guide-apr-18.pdf, id: 15wZyV0OpkI6m6nfxyvTvuGOUGXD-j_lo\n",
            "downloading to /root/data/a4s/cgma-sustainable-dvelopment-goals-guide-apr-18.pdf\n",
            "32\n",
            "title: A4S Essential Guide to Strategic Planning, Budgeting and Forecasting1.pdf.downloadasset.pdf, id: 16KTOuq5y5byhFk23Qe-Q9nWRCrOLF_z3\n",
            "downloading to /root/data/a4s/A4S Essential Guide to Strategic Planning, Budgeting and Forecasting1.pdf.downloadasset.pdf\n",
            "175\n",
            "title: CA Australia and New Zealand - the future of business.pdf.downloadasset.pdf, id: 1HgZZfPOeswunepVmaimvhdObQBJoHZ-w\n",
            "downloading to /root/data/a4s/CA Australia and New Zealand - the future of business.pdf.downloadasset.pdf\n",
            "64\n",
            "title: Accounting Bodies Network Our Principles in Action.pdf.downloadasset.pdf, id: 1cnw7KPTCD5mQka17h6djHPM7We4ckIUs\n",
            "downloading to /root/data/a4s/Accounting Bodies Network Our Principles in Action.pdf.downloadasset.pdf\n",
            "16\n",
            "title: TCFD Implementation - Top Tips for Finance Teams.pdf.downloadasset (1).pdf, id: 1QuNr4SD04ck2_-EpPi_MxInXbkDmW9kU\n",
            "downloading to /root/data/a4s/TCFD Implementation - Top Tips for Finance Teams.pdf.downloadasset (1).pdf\n",
            "12\n",
            "title: Can Green Tax save the world (with cover).pdf.downloadasset.pdf, id: 1MiVIPtoIDQQ_dcKhGbMsKbTcaUCdMsed\n",
            "downloading to /root/data/a4s/Can Green Tax save the world (with cover).pdf.downloadasset.pdf\n",
            "7\n",
            "title: CA Australia and New Zealand - Ethical considerations around AI.pdf.downloadasset.pdf, id: 1SuXuyJq2rrvykaRuLnL1b0CqMd8OGnZZ\n",
            "downloading to /root/data/a4s/CA Australia and New Zealand - Ethical considerations around AI.pdf.downloadasset.pdf\n",
            "24\n",
            "title: A4S Essential Guide to Finance Culture.pdf.downloadasset.pdf, id: 1kpdLLmcph_JdbJLWVpbgTrp2lBgU6YRm\n",
            "downloading to /root/data/a4s/A4S Essential Guide to Finance Culture.pdf.downloadasset.pdf\n",
            "51\n",
            "title: Tool 1 - Culture survey.pdf.downloadasset.pdf, id: 1ND9Z29cE0Wji7yOX8fo0C3joYgV2Aswn\n",
            "downloading to /root/data/a4s/Tool 1 - Culture survey.pdf.downloadasset.pdf\n",
            "5\n",
            "title: Tool 2 - Maturity map.pdf.downloadasset.pdf, id: 1ayg-RZp8ysvEcCXus9XeDPQa5Myy-eZ5\n",
            "downloading to /root/data/a4s/Tool 2 - Maturity map.pdf.downloadasset.pdf\n",
            "1\n",
            "title: Tool 4 Change management roles.pdf.downloadasset.pdf, id: 1IKUMbMWw82QkT-6LnjfcwoxRHJybSUOz\n",
            "downloading to /root/data/a4s/Tool 4 Change management roles.pdf.downloadasset.pdf\n",
            "5\n",
            "title: Tool 8 - Finance sustainability competencies.pdf.downloadasset.pdf, id: 1DCpg4cpl8LsY3a2y1yE55uQYOA7Zjjac\n",
            "downloading to /root/data/a4s/Tool 8 - Finance sustainability competencies.pdf.downloadasset.pdf\n",
            "3\n",
            "title: Capex Deep Dive.pdf.downloadasset.pdf, id: 1ZSFb5CA2w1RGBwsmvdHIhxxzdmhq0wuO\n",
            "downloading to /root/data/a4s/Capex Deep Dive.pdf.downloadasset.pdf\n",
            "52\n",
            "title: A4S Essential Guide to Debt Finance1.pdf.downloadasset.pdf, id: 1LiEgMuiDOQ1FT_5aTtk0VtV4MzPbjsnI\n",
            "downloading to /root/data/a4s/A4S Essential Guide to Debt Finance1.pdf.downloadasset.pdf\n",
            "61\n",
            "title: A4S Social Human Capital Co-operators.pdf.downloadasset.pdf, id: 1ZZFZYpc0AF4iyClb6A_IP5zz6Slkpipo\n",
            "downloading to /root/data/a4s/A4S Social Human Capital Co-operators.pdf.downloadasset.pdf\n",
            "24\n",
            "title: A4S Social Human Capital Brookfield.pdf.downloadasset.pdf, id: 1SPYVZ-Vfrr7IZEbhV7ycmEMiv9dknsJ6\n",
            "downloading to /root/data/a4s/A4S Social Human Capital Brookfield.pdf.downloadasset.pdf\n",
            "18\n",
            "title: A4S Finance Culture Practical Examples.pdf.downloadasset.pdf, id: 1uFpQcaDKYLYZyexcVsih33AfZTZih32A\n",
            "downloading to /root/data/a4s/A4S Finance Culture Practical Examples.pdf.downloadasset.pdf\n",
            "17\n",
            "title: Unilever TCFD Implementation Practical Example.pdf.downloadasset.pdf, id: 1LNJuaiM0WcezsUar22rA4dQXZpwNIWBw\n",
            "downloading to /root/data/a4s/Unilever TCFD Implementation Practical Example.pdf.downloadasset.pdf\n",
            "12\n",
            "title: Tesco TCFD Implementation Practical Example.pdf.downloadasset.pdf, id: 1mSWShNZNsH7eT6dJjFwhpKqkc8EPqIuf\n",
            "downloading to /root/data/a4s/Tesco TCFD Implementation Practical Example.pdf.downloadasset.pdf\n",
            "8\n",
            "title: Managing Future Uncertainty Maturity Map.pdf.downloadasset.pdf, id: 1d4oftpa25RXIRkFINm8MsUsK2YAU9fyd\n",
            "downloading to /root/data/a4s/Managing Future Uncertainty Maturity Map.pdf.downloadasset.pdf\n",
            "1\n",
            "title: Finance Culture Maturity Map.pdf.downloadasset.pdf, id: 1tdt0fe2ctsEHAX2GkxuZOLgTWgJTETGP\n",
            "downloading to /root/data/a4s/Finance Culture Maturity Map.pdf.downloadasset.pdf\n",
            "1\n",
            "title: Strategic Planning, Budgeting and Forecasting Maturity Map.pdf.downloadasset.pdf, id: 193wvaB6ZpkjFqFoYtUPZI-Ff-sKPnI3w\n",
            "downloading to /root/data/a4s/Strategic Planning, Budgeting and Forecasting Maturity Map.pdf.downloadasset.pdf\n",
            "1\n",
            "title: Management Information Maturity Map.pdf.downloadasset.pdf, id: 154FEmIStZzumKp6niaGMlEbGGy0TrQTw\n",
            "downloading to /root/data/a4s/Management Information Maturity Map.pdf.downloadasset.pdf\n",
            "1\n",
            "title: CAPEX Maturity Map.pdf.downloadasset.pdf, id: 1HmkvpUKbIPuxgoC--LnfojyW5wp2LmDO\n",
            "downloading to /root/data/a4s/CAPEX Maturity Map.pdf.downloadasset.pdf\n",
            "1\n",
            "title: Natural Capital Maturity Map.pdf.downloadasset.pdf, id: 15rsRAexTz13MmbT_ZUhVRoNp1YNfmgHN\n",
            "downloading to /root/data/a4s/Natural Capital Maturity Map.pdf.downloadasset.pdf\n",
            "1\n",
            "title: Social and Human Capital Accounting Maturity Map.pdf.downloadasset.pdf, id: 1bsusTS5R_VAhHyQ-x47YAYyZHviS7Fdq\n",
            "downloading to /root/data/a4s/Social and Human Capital Accounting Maturity Map.pdf.downloadasset.pdf\n",
            "1\n",
            "title: Enhancing Investor Engagement Maturity Map.pdf.downloadasset.pdf, id: 1SKNtUAmPrGZ7dXs_NRmS1fiEfwQdOACm\n",
            "downloading to /root/data/a4s/Enhancing Investor Engagement Maturity Map.pdf.downloadasset.pdf\n",
            "1\n",
            "title: Debt Finance Maturity Map.pdf.downloadasset.pdf, id: 1QM527Fj7HiEiL4ocYlqsvTh-AruaFMD4\n",
            "downloading to /root/data/a4s/Debt Finance Maturity Map.pdf.downloadasset.pdf\n",
            "1\n",
            "title: TCFD Recommendations Maturity Map.pdf.downloadasset.pdf, id: 1XzIAnqup7d5rWWbCR9vLxMk9d4EL0i_W\n",
            "downloading to /root/data/a4s/TCFD Recommendations Maturity Map.pdf.downloadasset.pdf\n",
            "1\n",
            "title: Tideway Finance for the Future Awards 2019.pdf.downloadasset.pdf, id: 1Yd3lZLdAWmO3p2Ooi5tDSzGZ6MQwq5m1\n",
            "downloading to /root/data/a4s/Tideway Finance for the Future Awards 2019.pdf.downloadasset.pdf\n",
            "4\n",
            "title: Globalance Finance for the Future Awards 2019.pdf.downloadasset.pdf, id: 1OX0Rorsx3pAlsIDytyRwL3FWWHITTx_6\n",
            "downloading to /root/data/a4s/Globalance Finance for the Future Awards 2019.pdf.downloadasset.pdf\n",
            "4\n",
            "title: Yorkshire Water Finance for the Future Awards 2019.pdf.downloadasset.pdf, id: 1MTyn30xYywTRhG0Mg8lV3RnryL-Y__qn\n",
            "downloading to /root/data/a4s/Yorkshire Water Finance for the Future Awards 2019.pdf.downloadasset.pdf\n",
            "4\n",
            "title: FFTF ABN AMRO integrated approach case study v1.pdf.downloadasset.pdf, id: 1pIjnQCQ8MT0tdDiOT3PrJ9Fsl1zLbeK0\n",
            "downloading to /root/data/a4s/FFTF ABN AMRO integrated approach case study v1.pdf.downloadasset.pdf\n",
            "5\n",
            "title: A collection of Sainsbury's Practical Examples.pdf.downloadasset.pdf, id: 1UDUh-AuizhOSqh5P-AJf41KbbKfqpw3F\n",
            "downloading to /root/data/a4s/A collection of Sainsbury's Practical Examples.pdf.downloadasset.pdf\n",
            "36\n",
            "title: Harvard Business School case study.pdf.downloadasset.pdf, id: 1SaHHzLyUhhwjlLm3N7xzNhr5RZSJBqox\n",
            "downloading to /root/data/a4s/Harvard Business School case study.pdf.downloadasset.pdf\n",
            "4\n",
            "title: Hindustan Unilever case study.pdf.downloadasset.pdf, id: 1owoyWMbScC95ekeHmPpjrCKNJpgRmDj9\n",
            "downloading to /root/data/a4s/Hindustan Unilever case study.pdf.downloadasset.pdf\n",
            "4\n",
            "title: TSKB case study.pdf.downloadasset.pdf, id: 18VwAl10Ql8k4bMnZVP22lwVtgI9ymud8\n",
            "downloading to /root/data/a4s/TSKB case study.pdf.downloadasset.pdf\n",
            "4\n",
            "title: Landsec case study.pdf.downloadasset.pdf, id: 1GcbGGyJkJ50RGDqtpm5OQsSax85o4giL\n",
            "downloading to /root/data/a4s/Landsec case study.pdf.downloadasset.pdf\n",
            "4\n",
            "title: Sainsburys case study.pdf.downloadasset.pdf, id: 1eJ2W3YhWDMoQmXwdezl0Kfo4yS-zgLP-\n",
            "downloading to /root/data/a4s/Sainsburys case study.pdf.downloadasset.pdf\n",
            "4\n",
            "title: Severn Trent case study.pdf.downloadasset.pdf, id: 1mF7bQB29hZ3ZSZcJV5JmoJDFrAN8zVsT\n",
            "downloading to /root/data/a4s/Severn Trent case study.pdf.downloadasset.pdf\n",
            "4\n",
            "title: SSE case study.pdf.downloadasset.pdf, id: 1eVYvWZc_18ApXlOQBeTC1HKgKhNJbV_k\n",
            "downloading to /root/data/a4s/SSE case study.pdf.downloadasset.pdf\n",
            "5\n",
            "title: Stora Enso case study.pdf.downloadasset.pdf, id: 12PO9xinTPv_ZobgCjesJTnLvu9Frv6Hl\n",
            "downloading to /root/data/a4s/Stora Enso case study.pdf.downloadasset.pdf\n",
            "5\n",
            "title: Tata Consultancy case study.pdf.downloadasset.pdf, id: 1puK6IsMGGSRVL-iAUgf45HDSYAqfUwgg\n",
            "downloading to /root/data/a4s/Tata Consultancy case study.pdf.downloadasset.pdf\n",
            "5\n",
            "title: Tesco case study.pdf.downloadasset.pdf, id: 1ySnnHMvoxFYkhyPWE2GlCtTOomMOZFlM\n",
            "downloading to /root/data/a4s/Tesco case study.pdf.downloadasset.pdf\n",
            "5\n",
            "title: Thinking Ahead case study.pdf.downloadasset.pdf, id: 1X9ZOUNvuCG5tnyxXALQ1xUcgXw04FF3F\n",
            "downloading to /root/data/a4s/Thinking Ahead case study.pdf.downloadasset.pdf\n",
            "4\n",
            "title: Zigway case study.pdf.downloadasset.pdf, id: 1M7siuB6tzztOKF1hCdTFj7kL6OEzVhHB\n",
            "downloading to /root/data/a4s/Zigway case study.pdf.downloadasset.pdf\n",
            "4\n",
            "title: WSIB Social and Human Capital Accounting FR.pdf.downloadasset.pdf, id: 1-2rXIWm4aszS-mLsaC1XQjrmW4TJm63T\n",
            "downloading to /root/data/a4s/WSIB Social and Human Capital Accounting FR.pdf.downloadasset.pdf\n",
            "18\n",
            "title: A4S Social Human Capital WSIB.pdf.downloadasset.pdf, id: 1x16KS_QoEjWbYnBZxw66sWea0jBrWxDN\n",
            "downloading to /root/data/a4s/A4S Social Human Capital WSIB.pdf.downloadasset.pdf\n",
            "18\n",
            "title: Accounting Bissim case study.pdf.downloadasset.pdf, id: 1r8f6bJAFTeJ3HIvURnJGvsazdaGWnQaG\n",
            "downloading to /root/data/a4s/Accounting Bissim case study.pdf.downloadasset.pdf\n",
            "4\n",
            "title: Accounting for Energy case study.pdf.downloadasset.pdf, id: 1yHyiAYlBNOPRbW3rGxWPYu7OE_ssQ149\n",
            "downloading to /root/data/a4s/Accounting for Energy case study.pdf.downloadasset.pdf\n",
            "4\n",
            "title: Carbon Delta case study.pdf.downloadasset.pdf, id: 1iqxhvVyODTy3haU042m0SQ5OxCDJIU7_\n",
            "downloading to /root/data/a4s/Carbon Delta case study.pdf.downloadasset.pdf\n",
            "4\n",
            "title: City of Vancouver case study.pdf.downloadasset.pdf, id: 1MbXl4nglmHbP_6Gn2X9NHFuJ7RwYwsqE\n",
            "downloading to /root/data/a4s/City of Vancouver case study.pdf.downloadasset.pdf\n",
            "5\n",
            "title: CCFI case study.pdf.downloadasset.pdf, id: 1xYX0FZbm07zHZI8g1EyM_qyEudMXU9wq\n",
            "downloading to /root/data/a4s/CCFI case study.pdf.downloadasset.pdf\n",
            "5\n",
            "title: Contact Energy case study.pdf.downloadasset.pdf, id: 13Io1NHmUCPHX1c812GPJcMil0kLvDJ7l\n",
            "downloading to /root/data/a4s/Contact Energy case study.pdf.downloadasset.pdf\n",
            "4\n",
            "title: CSEAR case study.pdf.downloadasset.pdf, id: 1NleCHsGkRJnGYIo8STPGvcdp7fU5wWPX\n",
            "downloading to /root/data/a4s/CSEAR case study.pdf.downloadasset.pdf\n",
            "4\n",
            "title: DNB case study.pdf.downloadasset.pdf, id: 1w9_S7c19Gjeu4IuQFuPrE1KTCBMJme3k\n",
            "downloading to /root/data/a4s/DNB case study.pdf.downloadasset.pdf\n",
            "4\n",
            "title: Ecology Building Society case study.pdf.downloadasset.pdf, id: 1e8M39sjoozUQpXvjwcbee8hwGxUld_X4\n",
            "downloading to /root/data/a4s/Ecology Building Society case study.pdf.downloadasset.pdf\n",
            "5\n",
            "title: Financing our Future update 2019.pdf.downloadasset.pdf, id: 1JePKZvggcIX1_Cwy68KfVCBTK3EwZh6F\n",
            "downloading to /root/data/a4s/Financing our Future update 2019.pdf.downloadasset.pdf\n",
            "36\n",
            "title: SSE TCFD Implementation Practical Example.pdf.downloadasset.pdf, id: 1cDhL3sSPvFf4sOzdRRchqyG6N1L2Q8DP\n",
            "downloading to /root/data/a4s/SSE TCFD Implementation Practical Example.pdf.downloadasset.pdf\n",
            "13\n",
            "title: Briefing for Finance Biodiversity.pdf.downloadasset.pdf, id: 1CaZ0iK3U35MH0FVlQIxgk4RT2QrdHpMu\n",
            "downloading to /root/data/a4s/Briefing for Finance Biodiversity.pdf.downloadasset.pdf\n",
            "4\n",
            "title: Implementing a Sustainable Finance Framework Top Tips.pdf.downloadasset.pdf, id: 1sol8UL1WPKxQzvaGi3Icr72sbQLyb4IK\n",
            "downloading to /root/data/a4s/Implementing a Sustainable Finance Framework Top Tips.pdf.downloadasset.pdf\n",
            "22\n",
            "title: Stora Enso - Capex practical example.pdf.downloadasset.pdf, id: 1t98G98Fw7h1cpmKyzrPE1qoJesiD-fFr\n",
            "downloading to /root/data/a4s/Stora Enso - Capex practical example.pdf.downloadasset.pdf\n",
            "6\n",
            "title: Verizon TCFD Implementation Practical Example.pdf.downloadasset.pdf, id: 1Y46D36eX6a5xETkvfJKijWaYiU-Nwqyd\n",
            "downloading to /root/data/a4s/Verizon TCFD Implementation Practical Example.pdf.downloadasset.pdf\n",
            "11\n",
            "title: Management Information Illustrative Example 1 - Growth plc.pdf.downloadasset.pdf, id: 1gPIXfWpeH1yoCT6iiWrwQouovTOiirBD\n",
            "downloading to /root/data/a4s/Management Information Illustrative Example 1 - Growth plc.pdf.downloadasset.pdf\n",
            "11\n",
            "title: A4S Essential Guide to Management Information.pdf.downloadasset.pdf, id: 1Zhd_MOH4ChUk21HIPwHuvVDyB0Dp3nio\n",
            "downloading to /root/data/a4s/A4S Essential Guide to Management Information.pdf.downloadasset.pdf\n",
            "56\n",
            "title: Management Information Illustrative Example 2 - Purposecorp.pdf.downloadasset.pdf, id: 1ZjQtVCUKQhFeLJidHYcT1WYfTixGF82T\n",
            "downloading to /root/data/a4s/Management Information Illustrative Example 2 - Purposecorp.pdf.downloadasset.pdf\n",
            "13\n",
            "title: PIMCO Finance for the Future Case Study.pdf.downloadasset.pdf, id: 1a0ABvbtZv86qGFcuwx96XTLt72vlbaE9\n",
            "downloading to /root/data/a4s/PIMCO Finance for the Future Case Study.pdf.downloadasset.pdf\n",
            "3\n",
            "title: Xylem Finance for the Future Case Study .pdf.downloadasset.pdf, id: 1vsIaRmEo9zE3D4uwqLzdyKLcdFv7edeb\n",
            "downloading to /root/data/a4s/Xylem Finance for the Future Case Study .pdf.downloadasset.pdf\n",
            "3\n",
            "title: Sustainable investing in pensions - Top Tips for Sponsors of Pension Schemes.pdf.downloadasset.pdf, id: 1b9j8fHSV_ikD19aLLz5xqKnvLNQja68c\n",
            "downloading to /root/data/a4s/Sustainable investing in pensions - Top Tips for Sponsors of Pension Schemes.pdf.downloadasset.pdf\n",
            "18\n",
            "title: Levi Strauss & Co Optimizing returns and supporting company values through sustainable investing.pdf.downloadasset.pdf, id: 1lswcWQcmS7fiGv1HQ89Lwq4mARkGX2Np\n",
            "downloading to /root/data/a4s/Levi Strauss & Co Optimizing returns and supporting company values through sustainable investing.pdf.downloadasset.pdf\n",
            "7\n",
            "title: Briefing for Finance Sustainable Development Goals.pdf.downloadasset.pdf, id: 1aPNiUtDS3YY5BcEcoDvAdYK-MdAuJ5Ok\n",
            "downloading to /root/data/a4s/Briefing for Finance Sustainable Development Goals.pdf.downloadasset.pdf\n",
            "5\n",
            "title: GIB An integrated strategy to drive sustainable investment.pdf.downloadasset.pdf, id: 1nxyY_DQaLbtNTvEAZzufTpwHZE3dP97z\n",
            "downloading to /root/data/a4s/GIB An integrated strategy to drive sustainable investment.pdf.downloadasset.pdf\n",
            "9\n",
            "title: TCFD Reporting Example - ABN AMRO.pdf.downloadasset.pdf, id: 1gtoYkq5AQIuMMU0CBHZN1JZrw-_Y0mOW\n",
            "downloading to /root/data/a4s/TCFD Reporting Example - ABN AMRO.pdf.downloadasset.pdf\n",
            "14\n",
            "title: Heathrow achieving net zero practical example.pdf.downloadasset.pdf, id: 11D-4UHb5e7yygoiEh-8AZSO2CQqtG_S6\n",
            "downloading to /root/data/a4s/Heathrow achieving net zero practical example.pdf.downloadasset.pdf\n",
            "7\n",
            "title: Goal 13 Impact Platform - emerging findings.pdf.downloadasset.pdf, id: 1dfFHNsWB3dCwkSYKEGphfqIrf9iCDq5Q\n",
            "downloading to /root/data/a4s/Goal 13 Impact Platform - emerging findings.pdf.downloadasset.pdf\n",
            "56\n",
            "title: 12567_FFTF Rabobank case study v1.pdf.downloadasset.pdf, id: 1XD3afMWpx_HWqATn6mJuPOUl2wdV65Lc\n",
            "downloading to /root/data/a4s/12567_FFTF Rabobank case study v1.pdf.downloadasset.pdf\n",
            "4\n",
            "title: 12567_FFTF Rabobank case study v1.pdf.downloadasset.pdf, id: 1ARRqUJ4Buay9BwhDlEoPgF7LSvtXH2OB\n",
            "downloading to /root/data/a4s/12567_FFTF Rabobank case study v1.pdf.downloadasset.pdf\n",
            "4\n",
            "title: Engaging asset managers to support net zero practical example - BT Pension Scheme.pdf.downloadasset.pdf, id: 1Yn8iByv8Qoz2ICV9zdWxkPE4aDRlQFEK\n",
            "downloading to /root/data/a4s/Engaging asset managers to support net zero practical example - BT Pension Scheme.pdf.downloadasset.pdf\n",
            "8\n",
            "title: Approach to stewardship practical example Church of England Pensions Board.pdf.downloadasset.pdf, id: 1fh98oMcC6B66PoNxfh58Ct43BylbXBGr\n",
            "downloading to /root/data/a4s/Approach to stewardship practical example Church of England Pensions Board.pdf.downloadasset.pdf\n",
            "7\n",
            "title: Dedicating assets to sustainable outcomes - Environment Agency Pension Fund.pdf.downloadasset.pdf, id: 1IYzY2UGJRdJelVuep5NkWbmqUZiioYCF\n",
            "downloading to /root/data/a4s/Dedicating assets to sustainable outcomes - Environment Agency Pension Fund.pdf.downloadasset.pdf\n",
            "7\n",
            "title: Delivering a net zero investment strategy - NEST.pdf.downloadasset.pdf, id: 1mIK-9DcvXiPWHt11v3hpx6DqzTJrT_YS\n",
            "downloading to /root/data/a4s/Delivering a net zero investment strategy - NEST.pdf.downloadasset.pdf\n",
            "8\n",
            "title: Aligning member expectations with investment strategies practical example Tesco Pension Fund.pdf.downloadasset.pdf, id: 17LSNQfqIHQkezyWatoqzBPUhh4kAvRYV\n",
            "downloading to /root/data/a4s/Aligning member expectations with investment strategies practical example Tesco Pension Fund.pdf.downloadasset.pdf\n",
            "8\n",
            "title: TCFD reporting practical example - West Midlands Pension Fund.pdf.downloadasset.pdf, id: 1X5QhYB8oaOoSVu32I6YIwSlkzhnc3XZk\n",
            "downloading to /root/data/a4s/TCFD reporting practical example - West Midlands Pension Fund.pdf.downloadasset.pdf\n",
            "7\n",
            "title: Stora Enso Plastics Case Study.pdf.downloadasset.pdf, id: 1jtDvdDS3HmM6Rp3SAdVeE_UcVH0k2Shw\n",
            "downloading to /root/data/a4s/Stora Enso Plastics Case Study.pdf.downloadasset.pdf\n",
            "8\n",
            "title: Unilver Plastics Case Study.pdf.downloadasset.pdf, id: 1dxK31l_1F_dpLnmEHKTApErJpIxL2HXN\n",
            "downloading to /root/data/a4s/Unilver Plastics Case Study.pdf.downloadasset.pdf\n",
            "15\n",
            "title: Governance & Collaboration Establishing an IIRC.pdf.downloadasset.pdf, id: 1cJYJsHH27d6Gm9eFr0tcqUOiQ2Vy6Cg5\n",
            "downloading to /root/data/a4s/Governance & Collaboration Establishing an IIRC.pdf.downloadasset.pdf\n",
            "12\n",
            "title: Briefing for Finance Climate Action.pdf.downloadasset.pdf, id: 1dPIC3fyvsrE1u67UEAk5ZU3z0f0yoVZq\n",
            "downloading to /root/data/a4s/Briefing for Finance Climate Action.pdf.downloadasset.pdf\n",
            "5\n",
            "title: British Land TCFD Reporting Example.pdf.downloadasset.pdf, id: 1x078WZi27t0cbnDjLeYu-QatxW2iDZFQ\n",
            "downloading to /root/data/a4s/British Land TCFD Reporting Example.pdf.downloadasset.pdf\n",
            "17\n",
            "title: SSE Networks Transmission Case Study.pdf.downloadasset.pdf, id: 1jmKZEkumbf3IhBKafHr49vndN2UR5Ig7\n",
            "downloading to /root/data/a4s/SSE Networks Transmission Case Study.pdf.downloadasset.pdf\n",
            "8\n",
            "title: A4S Essential Guide to Valuations and Climate Change.pdf.downloadasset.pdf, id: 1d68YLejIXpt5MdbdyQLyz8r4_HEeS6l_\n",
            "downloading to /root/data/a4s/A4S Essential Guide to Valuations and Climate Change.pdf.downloadasset.pdf\n",
            "104\n",
            "title: A4S Essential Guide to Valuations and Climate Change.pdf.downloadasset.pdf, id: 1EzeiMUvsq6S5XtKWhL07k8fhwFzHRV-M\n",
            "downloading to /root/data/a4s/A4S Essential Guide to Valuations and Climate Change.pdf.downloadasset.pdf\n",
            "104\n",
            "title: BBC Pensions Scenario Analysis Case Study.pdf.downloadasset.pdf, id: 1DGx_T7hdfSXww0Sn5DLlMQjRduiZtoHf\n",
            "downloading to /root/data/a4s/BBC Pensions Scenario Analysis Case Study.pdf.downloadasset.pdf\n",
            "5\n",
            "title: HSBC Pensions TCFD Metrics Case Study.pdf.downloadasset.pdf, id: 1RrqqtxuF7oXAR1VIso57O85MeFFmw5aN\n",
            "downloading to /root/data/a4s/HSBC Pensions TCFD Metrics Case Study.pdf.downloadasset.pdf\n",
            "7\n",
            "title: Building a Better Future report.pdf.downloadasset.pdf, id: 1lJmyURI3c_RnePuFMnCnNkrwIstT2VXI\n",
            "downloading to /root/data/a4s/Building a Better Future report.pdf.downloadasset.pdf\n",
            "27\n",
            "title: Storebrand - Using internal carbon pricing as a catalyst for change.pdf.downloadasset.pdf, id: 1AFEWGt0xCFVuTqYi6cwVxH_0a0YVhVbT\n",
            "downloading to /root/data/a4s/Storebrand - Using internal carbon pricing as a catalyst for change.pdf.downloadasset.pdf\n",
            "7\n",
            "title: Top ten tips for achieving net zero - Chief Financial Officers.pdf.downloadasset.pdf, id: 1NrnL9Rb-jioK4n4kPHHDnwbxN6bVYDKA\n",
            "downloading to /root/data/a4s/Top ten tips for achieving net zero - Chief Financial Officers.pdf.downloadasset.pdf\n",
            "6\n",
            "title: National Grid - Embedding a carbon price into investment decisions.pdf.downloadasset.pdf, id: 1WB16UqY5RKbMnhyo2zOGgtOrYW06LzJz\n",
            "downloading to /root/data/a4s/National Grid - Embedding a carbon price into investment decisions.pdf.downloadasset.pdf\n",
            "6\n",
            "title: Alecta - Securing long-term value through stewardship.pdf.downloadasset.pdf, id: 1afobJ59F3KDdUasmrAPRuOoVbWefVW18\n",
            "downloading to /root/data/a4s/Alecta - Securing long-term value through stewardship.pdf.downloadasset.pdf\n",
            "9\n",
            "title: TCFD Implementation - Top Tips for Finance Teams.pdf.downloadasset.pdf, id: 1uCDzLSerVTVMd2RgJ6ZYooElVujRlBla\n",
            "downloading to /root/data/a4s/TCFD Implementation - Top Tips for Finance Teams.pdf.downloadasset.pdf\n",
            "12\n",
            "title: British Land - Setting our pathway to net zero.pdf.downloadasset.pdf, id: 1cljqB_JEKfcm0EKS6ybvEQvcQawkL4Q2\n",
            "downloading to /root/data/a4s/British Land - Setting our pathway to net zero.pdf.downloadasset.pdf\n",
            "8\n",
            "title: Unilever EIE Case Study.pdf.downloadasset.pdf, id: 1rPIlQMad4_Diup2wK2R-WHOQ6Hed7WVR\n",
            "downloading to /root/data/a4s/Unilever EIE Case Study.pdf.downloadasset.pdf\n",
            "11\n",
            "title: Burberry Enhancing Investor Engagement Case Study.pdf.downloadasset.pdf, id: 1duyPwatnFzjTpNAu88JjewsSs2lchmlg\n",
            "downloading to /root/data/a4s/Burberry Enhancing Investor Engagement Case Study.pdf.downloadasset.pdf\n",
            "11\n",
            "title: GSK TCFD Implementation Practical Example.pdf.downloadasset.pdf, id: 1G6vRh1I7552cziyf3TCgjWteKQAC_7uP\n",
            "downloading to /root/data/a4s/GSK TCFD Implementation Practical Example.pdf.downloadasset.pdf\n",
            "8\n"
          ],
          "name": "stdout"
        }
      ]
    },
    {
      "cell_type": "code",
      "metadata": {
        "id": "dHiuLFmxhAXw"
      },
      "source": [
        "adfreportsdf = pd.DataFrame(adfreports)"
      ],
      "execution_count": null,
      "outputs": []
    },
    {
      "cell_type": "code",
      "metadata": {
        "id": "cvVkvucvkqWS",
        "colab": {
          "base_uri": "https://localhost:8080/",
          "height": 419
        },
        "outputId": "a5228ba0-0e59-47e5-dbce-c5764cebd2c6"
      },
      "source": [
        "adfreportsdf"
      ],
      "execution_count": null,
      "outputs": [
        {
          "output_type": "execute_result",
          "data": {
            "text/html": [
              "<div>\n",
              "<style scoped>\n",
              "    .dataframe tbody tr th:only-of-type {\n",
              "        vertical-align: middle;\n",
              "    }\n",
              "\n",
              "    .dataframe tbody tr th {\n",
              "        vertical-align: top;\n",
              "    }\n",
              "\n",
              "    .dataframe thead th {\n",
              "        text-align: right;\n",
              "    }\n",
              "</style>\n",
              "<table border=\"1\" class=\"dataframe\">\n",
              "  <thead>\n",
              "    <tr style=\"text-align: right;\">\n",
              "      <th></th>\n",
              "      <th>resource_name</th>\n",
              "      <th>text</th>\n",
              "    </tr>\n",
              "  </thead>\n",
              "  <tbody>\n",
              "    <tr>\n",
              "      <th>0</th>\n",
              "      <td>ABN AMRO - Measuring, reporting, steering.pdf....</td>\n",
              "      <td>MEASURING, REPORTING, STEERING \\n˜ OUR THREE˚S...</td>\n",
              "    </tr>\n",
              "    <tr>\n",
              "      <th>1</th>\n",
              "      <td>Net Zero A Practical Guide for Finance Teams o...</td>\n",
              "      <td>A PRACTICAL GUIDE\\n FOR FINANCE TEAMS OF BANKS...</td>\n",
              "    </tr>\n",
              "    <tr>\n",
              "      <th>2</th>\n",
              "      <td>Net Zero A Practical Guide for Finance Teams.p...</td>\n",
              "      <td>A PRACTICAL GUIDE\\n FOR FINANCE TEAMS\\n\\nCONTE...</td>\n",
              "    </tr>\n",
              "    <tr>\n",
              "      <th>3</th>\n",
              "      <td>NatWest Group - Reducing financed emissions to...</td>\n",
              "      <td>REDUCING FINANCED EMISSIONS \\nTO MEET OUR CLIM...</td>\n",
              "    </tr>\n",
              "    <tr>\n",
              "      <th>4</th>\n",
              "      <td>British Land - Engaging the Board and Executiv...</td>\n",
              "      <td>˜˚\\n˜˚˛˝˙ˆˇ\\nENGAGING THE BOARD AND \\nEXECUTIV...</td>\n",
              "    </tr>\n",
              "    <tr>\n",
              "      <th>...</th>\n",
              "      <td>...</td>\n",
              "      <td>...</td>\n",
              "    </tr>\n",
              "    <tr>\n",
              "      <th>137</th>\n",
              "      <td>TCFD Implementation - Top Tips for Finance Tea...</td>\n",
              "      <td>IMPLEMENTING THE RECOMMENDATIONS OF \\nTHE FSB ...</td>\n",
              "    </tr>\n",
              "    <tr>\n",
              "      <th>138</th>\n",
              "      <td>British Land - Setting our pathway to net zero...</td>\n",
              "      <td>˜˚\\n˜˚˛˝˙ˆˇ\\nSETTING OUR PATHWAY TO NET ZERO\\n...</td>\n",
              "    </tr>\n",
              "    <tr>\n",
              "      <th>139</th>\n",
              "      <td>Unilever EIE Case Study.pdf.downloadasset.pdf</td>\n",
              "      <td>˜˚\\n˜˚˛˝˙ˆˇ\\nENHANCING INVESTOR ENGAGEMENT\\nPr...</td>\n",
              "    </tr>\n",
              "    <tr>\n",
              "      <th>140</th>\n",
              "      <td>Burberry Enhancing Investor Engagement Case St...</td>\n",
              "      <td>˜˚\\n˜˚˛˝˙ˆˇ\\nENHANCING INVESTOR ENGAGEMENT\\nPr...</td>\n",
              "    </tr>\n",
              "    <tr>\n",
              "      <th>141</th>\n",
              "      <td>GSK TCFD Implementation Practical Example.pdf....</td>\n",
              "      <td>˜˚\\n˜˚˛˝˙ˆˇ\\nGETTING STARTED WITH TCFD\\nPracti...</td>\n",
              "    </tr>\n",
              "  </tbody>\n",
              "</table>\n",
              "<p>142 rows × 2 columns</p>\n",
              "</div>"
            ],
            "text/plain": [
              "                                         resource_name                                               text\n",
              "0    ABN AMRO - Measuring, reporting, steering.pdf....  MEASURING, REPORTING, STEERING \\n˜ OUR THREE˚S...\n",
              "1    Net Zero A Practical Guide for Finance Teams o...  A PRACTICAL GUIDE\\n FOR FINANCE TEAMS OF BANKS...\n",
              "2    Net Zero A Practical Guide for Finance Teams.p...  A PRACTICAL GUIDE\\n FOR FINANCE TEAMS\\n\\nCONTE...\n",
              "3    NatWest Group - Reducing financed emissions to...  REDUCING FINANCED EMISSIONS \\nTO MEET OUR CLIM...\n",
              "4    British Land - Engaging the Board and Executiv...  ˜˚\\n˜˚˛˝˙ˆˇ\\nENGAGING THE BOARD AND \\nEXECUTIV...\n",
              "..                                                 ...                                                ...\n",
              "137  TCFD Implementation - Top Tips for Finance Tea...  IMPLEMENTING THE RECOMMENDATIONS OF \\nTHE FSB ...\n",
              "138  British Land - Setting our pathway to net zero...  ˜˚\\n˜˚˛˝˙ˆˇ\\nSETTING OUR PATHWAY TO NET ZERO\\n...\n",
              "139      Unilever EIE Case Study.pdf.downloadasset.pdf  ˜˚\\n˜˚˛˝˙ˆˇ\\nENHANCING INVESTOR ENGAGEMENT\\nPr...\n",
              "140  Burberry Enhancing Investor Engagement Case St...  ˜˚\\n˜˚˛˝˙ˆˇ\\nENHANCING INVESTOR ENGAGEMENT\\nPr...\n",
              "141  GSK TCFD Implementation Practical Example.pdf....  ˜˚\\n˜˚˛˝˙ˆˇ\\nGETTING STARTED WITH TCFD\\nPracti...\n",
              "\n",
              "[142 rows x 2 columns]"
            ]
          },
          "metadata": {
            "tags": []
          },
          "execution_count": 10
        }
      ]
    },
    {
      "cell_type": "code",
      "metadata": {
        "id": "rYzFED0EH1lN"
      },
      "source": [
        "esgRAWtextfile = open(r\"esgRAWtext.txt\",\"w\")\n",
        "\n",
        "esgRAWtextfile.writelines(adfreportsdf.text.to_numpy())"
      ],
      "execution_count": null,
      "outputs": []
    },
    {
      "cell_type": "code",
      "metadata": {
        "id": "ykeVYjRFXPSc"
      },
      "source": [
        "BUCKET_NAME = \"esgbert_resourses\" #@param {type:\"string\"}\n",
        "RAW_DATA_DIR = \"raw_data\" #@param {type:\"string\"}\n",
        "\n",
        "BUCKET_PATH = \"gs://{}\".format(BUCKET_NAME)\n",
        "RAW_DATA_GCS_DIR = \"{}/{}\".format(BUCKET_PATH, RAW_DATA_DIR)\n",
        "\n",
        "RAW_TEXT_FILE_FULL_PATH = \"{}/{}\".format(RAW_DATA_GCS_DIR, \"esgRAWtext.txt\")"
      ],
      "execution_count": null,
      "outputs": []
    },
    {
      "cell_type": "code",
      "metadata": {
        "id": "-MjMkd-uarDc"
      },
      "source": [
        "RAW_TEXT_FILE_FULL_PATH"
      ],
      "execution_count": null,
      "outputs": []
    },
    {
      "cell_type": "code",
      "metadata": {
        "colab": {
          "base_uri": "https://localhost:8080/"
        },
        "id": "BnnlWtsSYPEy",
        "outputId": "df35fca9-4d1a-470f-e298-2c93b6aa33d6"
      },
      "source": [
        "!gsutil cp 'esgRAWtext.txt' gs://esgbert_resourses/raw_data"
      ],
      "execution_count": null,
      "outputs": [
        {
          "output_type": "stream",
          "text": [
            "Copying file://esgRAWtext.txt [Content-Type=text/plain]...\n",
            "/ [1 files][  3.2 MiB/  3.2 MiB]                                                \n",
            "Operation completed over 1 objects/3.2 MiB.                                      \n"
          ],
          "name": "stdout"
        }
      ]
    },
    {
      "cell_type": "markdown",
      "metadata": {
        "id": "M-KQaIuaesD-"
      },
      "source": [
        "### Processing Text"
      ]
    },
    {
      "cell_type": "code",
      "metadata": {
        "id": "L60z0ygugtWE"
      },
      "source": [
        "def normalize_text(text):\n",
        "  # remove non-UTF\n",
        "  text = text.encode(\"utf-8\", \"ignore\").decode()\n",
        "  # remove \\n\n",
        "  text = text.replace(\"\\n\",\" \")\n",
        "  # remove extra spaces\n",
        "  text = ' '.join(text.split())\n",
        "  return text\n",
        "\n",
        "def count_lines(filename):\n",
        "  count = 0\n",
        "  with open(filename) as fi:\n",
        "    for line in fi:\n",
        "      count += 1\n",
        "  return count"
      ],
      "execution_count": null,
      "outputs": []
    },
    {
      "cell_type": "code",
      "metadata": {
        "colab": {
          "base_uri": "https://localhost:8080/"
        },
        "id": "RuaFfvYUbnKX",
        "outputId": "0ff0a4d0-22aa-4561-9257-d99abc150470"
      },
      "source": [
        "from tensorflow.keras.utils import Progbar\n",
        "\n",
        "RAW_DATA_FPATH = \"esgRAWtext.txt\" #@param {type: \"string\"}\n",
        "PRC_DATA_FPATH = \"esgPROCESSEDtext.txt\" #@param {type: \"string\"}\n",
        "\n",
        "# apply normalization to the dataset\n",
        "# this will take a minute or two\n",
        "\n",
        "total_lines = count_lines(RAW_DATA_FPATH)\n",
        "bar = Progbar(total_lines)\n",
        "\n",
        "with open(RAW_DATA_FPATH,encoding=\"utf-8\") as fi:\n",
        "  with open(PRC_DATA_FPATH, \"w\",encoding=\"utf-8\") as fo:\n",
        "    for l in fi:\n",
        "      fo.write(normalize_text(l)+\"\\n\")\n",
        "      bar.add(1)"
      ],
      "execution_count": null,
      "outputs": [
        {
          "output_type": "stream",
          "text": [
            "124214/124214 [==============================] - 0s 3us/step\n"
          ],
          "name": "stdout"
        }
      ]
    },
    {
      "cell_type": "code",
      "metadata": {
        "id": "lsd9oEXWuLt4"
      },
      "source": [
        "VOC_SIZE = 52000 #@param {type:\"integer\"}"
      ],
      "execution_count": null,
      "outputs": []
    },
    {
      "cell_type": "code",
      "metadata": {
        "colab": {
          "base_uri": "https://localhost:8080/"
        },
        "id": "e662_CJt7cB0",
        "outputId": "1a30d23f-12d5-47c9-9bcb-329056cfac1f"
      },
      "source": [
        "!gsutil cp 'esgPROCESSEDtext.txt' gs://esgbert_resourses/raw_data"
      ],
      "execution_count": null,
      "outputs": [
        {
          "output_type": "stream",
          "text": [
            "Copying file://esgPROCESSEDtext.txt [Content-Type=text/plain]...\n",
            "/ [1 files][  3.2 MiB/  3.2 MiB]                                                \n",
            "Operation completed over 1 objects/3.2 MiB.                                      \n"
          ],
          "name": "stdout"
        }
      ]
    },
    {
      "cell_type": "code",
      "metadata": {
        "id": "_jdXd-ryquoT"
      },
      "source": [
        "# We won't need TensorFlow here\n",
        "#!pip uninstall -y tensorflow\n",
        "# Install `transformers` from master\n",
        "!pip install git+https://github.com/huggingface/transformers\n",
        "!pip list | grep -E 'transformers|tokenizers'\n",
        "# transformers version at notebook update --- 2.11.0\n",
        "# tokenizers version at notebook update --- 0.8.0rc1"
      ],
      "execution_count": null,
      "outputs": []
    },
    {
      "cell_type": "markdown",
      "metadata": {
        "id": "2sIQJNXgZUf2"
      },
      "source": [
        "# Fine Tuning BERT with MLM task on ESG Corpus"
      ]
    },
    {
      "cell_type": "markdown",
      "metadata": {
        "id": "M16JfKMUrd7E"
      },
      "source": [
        "# LM Fine-Tuning"
      ]
    },
    {
      "cell_type": "code",
      "metadata": {
        "id": "8airoyk1tQ-a"
      },
      "source": [
        "from transformers import BertConfig\n",
        "\n",
        "bert_lm_config = BertConfig(\n",
        "    vocab_size=VOC_SIZE,\n",
        "    max_position_embeddings=512,\n",
        "    num_attention_heads=12,\n",
        "    num_hidden_layers=6,\n",
        "    type_vocab_size=1,\n",
        ")"
      ],
      "execution_count": null,
      "outputs": []
    },
    {
      "cell_type": "code",
      "metadata": {
        "id": "0kmDfsQConSc",
        "colab": {
          "base_uri": "https://localhost:8080/"
        },
        "outputId": "94be108d-e152-4d30-a084-4c679f3233a1"
      },
      "source": [
        "from transformers import BertTokenizer\n",
        "\n",
        "tokenizer = BertTokenizer.from_pretrained('bert-base-cased')"
      ],
      "execution_count": null,
      "outputs": [
        {
          "output_type": "stream",
          "text": [
            "loading file https://huggingface.co/bert-base-cased/resolve/main/vocab.txt from cache at /root/.cache/huggingface/transformers/6508e60ab3c1200bffa26c95f4b58ac6b6d95fba4db1f195f632fa3cd7bc64cc.437aa611e89f6fc6675a049d2b5545390adbc617e7d655286421c191d2be2791\n",
            "loading file https://huggingface.co/bert-base-cased/resolve/main/added_tokens.json from cache at None\n",
            "loading file https://huggingface.co/bert-base-cased/resolve/main/special_tokens_map.json from cache at None\n",
            "loading file https://huggingface.co/bert-base-cased/resolve/main/tokenizer_config.json from cache at /root/.cache/huggingface/transformers/ec84e86ee39bfe112543192cf981deebf7e6cbe8c91b8f7f8f63c9be44366158.ec5c189f89475aac7d8cbd243960a0655cfadc3d0474da8ff2ed0bf1699c2a5f\n",
            "loading file https://huggingface.co/bert-base-cased/resolve/main/tokenizer.json from cache at /root/.cache/huggingface/transformers/226a307193a9f4344264cdc76a12988448a25345ba172f2c7421f3b6810fddad.3dab63143af66769bbb35e3811f75f7e16b2320e12b7935e216bd6159ce6d9a6\n"
          ],
          "name": "stderr"
        }
      ]
    },
    {
      "cell_type": "code",
      "metadata": {
        "id": "6Tg16G8wosDP"
      },
      "source": [
        "from transformers import BertForMaskedLM\n",
        "\n",
        "bert_lm_finetuned_model = BertForMaskedLM(config=bert_lm_config)"
      ],
      "execution_count": null,
      "outputs": []
    },
    {
      "cell_type": "code",
      "metadata": {
        "colab": {
          "base_uri": "https://localhost:8080/"
        },
        "id": "XPNU6SjMtyWY",
        "outputId": "7aeb66e1-4242-43f0-e519-c2b0747aaba7"
      },
      "source": [
        "bert_lm_finetuned_model.num_parameters()\n",
        "# => 83.5 million parameters"
      ],
      "execution_count": null,
      "outputs": [
        {
          "output_type": "execute_result",
          "data": {
            "text/plain": [
              "83502880"
            ]
          },
          "metadata": {
            "tags": []
          },
          "execution_count": 53
        }
      ]
    },
    {
      "cell_type": "code",
      "metadata": {
        "colab": {
          "base_uri": "https://localhost:8080/"
        },
        "id": "u45bLEFeuQnb",
        "outputId": "cd660efd-6861-4d9c-f378-e5d94a5d6eaf"
      },
      "source": [
        "%%time\n",
        "from transformers import LineByLineTextDataset\n",
        "\n",
        "dataset = LineByLineTextDataset(\n",
        "    tokenizer=tokenizer,\n",
        "    file_path=\"./esgPROCESSEDtext.txt\",\n",
        "    block_size=128,\n",
        ")"
      ],
      "execution_count": null,
      "outputs": [
        {
          "output_type": "stream",
          "text": [
            "/usr/local/lib/python3.7/dist-packages/transformers/data/datasets/language_modeling.py:124: FutureWarning: This dataset will be removed from the library soon, preprocessing should be handled with the 🤗 Datasets library. You can have a look at this example script for pointers: https://github.com/huggingface/transformers/blob/master/examples/pytorch/language-modeling/run_mlm.py\n",
            "  FutureWarning,\n",
            "Creating features from dataset file at ./esgPROCESSEDtext.txt\n"
          ],
          "name": "stderr"
        },
        {
          "output_type": "stream",
          "text": [
            "CPU times: user 18.6 s, sys: 118 ms, total: 18.7 s\n",
            "Wall time: 18.7 s\n"
          ],
          "name": "stdout"
        }
      ]
    },
    {
      "cell_type": "code",
      "metadata": {
        "id": "zWNIRTctum2q"
      },
      "source": [
        "from transformers import DataCollatorForLanguageModeling\n",
        "\n",
        "data_collator = DataCollatorForLanguageModeling(\n",
        "    tokenizer=tokenizer, mlm=True, mlm_probability=0.15\n",
        ")"
      ],
      "execution_count": null,
      "outputs": []
    },
    {
      "cell_type": "code",
      "metadata": {
        "colab": {
          "base_uri": "https://localhost:8080/"
        },
        "id": "YHQd-MSmun97",
        "outputId": "bf8fcea5-9ce0-4f49-89f1-0d66bd719dcd"
      },
      "source": [
        "from transformers import Trainer, TrainingArguments\n",
        "\n",
        "training_args = TrainingArguments(\n",
        "    output_dir=\"./ESGBERT\",\n",
        "    overwrite_output_dir=True,\n",
        "    num_train_epochs=1,\n",
        "    per_device_train_batch_size=64,\n",
        "    save_steps=10_000,\n",
        "    save_total_limit=2,\n",
        "    prediction_loss_only=True,\n",
        ")\n",
        "\n",
        "trainer = Trainer(\n",
        "    model=bert_lm_finetuned_model,\n",
        "    args=training_args,\n",
        "    data_collator=data_collator,\n",
        "    train_dataset=dataset,\n",
        ")"
      ],
      "execution_count": null,
      "outputs": [
        {
          "output_type": "stream",
          "text": [
            "PyTorch: setting up devices\n",
            "The default value for the training argument `--report_to` will change in v5 (from all installed integrations to none). In v5, you will need to use `--report_to all` to get the same behavior as now. You should start updating your code and make this info disappear :-).\n"
          ],
          "name": "stderr"
        }
      ]
    },
    {
      "cell_type": "code",
      "metadata": {
        "colab": {
          "base_uri": "https://localhost:8080/",
          "height": 412
        },
        "id": "I5CZns7YuvwI",
        "outputId": "566eb6ca-d5d5-4565-858e-40fdb5f4c93e"
      },
      "source": [
        "%%time\n",
        "trainer.train()"
      ],
      "execution_count": null,
      "outputs": [
        {
          "output_type": "stream",
          "text": [
            "***** Running training *****\n",
            "  Num examples = 85854\n",
            "  Num Epochs = 1\n",
            "  Instantaneous batch size per device = 64\n",
            "  Total train batch size (w. parallel, distributed & accumulation) = 64\n",
            "  Gradient Accumulation steps = 1\n",
            "  Total optimization steps = 1342\n"
          ],
          "name": "stderr"
        },
        {
          "output_type": "display_data",
          "data": {
            "text/html": [
              "\n",
              "    <div>\n",
              "      \n",
              "      <progress value='1342' max='1342' style='width:300px; height:20px; vertical-align: middle;'></progress>\n",
              "      [1342/1342 51:41, Epoch 1/1]\n",
              "    </div>\n",
              "    <table border=\"1\" class=\"dataframe\">\n",
              "  <thead>\n",
              "    <tr style=\"text-align: left;\">\n",
              "      <th>Step</th>\n",
              "      <th>Training Loss</th>\n",
              "    </tr>\n",
              "  </thead>\n",
              "  <tbody>\n",
              "    <tr>\n",
              "      <td>500</td>\n",
              "      <td>7.687800</td>\n",
              "    </tr>\n",
              "    <tr>\n",
              "      <td>1000</td>\n",
              "      <td>6.896700</td>\n",
              "    </tr>\n",
              "  </tbody>\n",
              "</table><p>"
            ],
            "text/plain": [
              "<IPython.core.display.HTML object>"
            ]
          },
          "metadata": {
            "tags": []
          }
        },
        {
          "output_type": "stream",
          "text": [
            "\n",
            "\n",
            "Training completed. Do not forget to share your model on huggingface.co/models =)\n",
            "\n",
            "\n"
          ],
          "name": "stderr"
        },
        {
          "output_type": "stream",
          "text": [
            "CPU times: user 16h 20min 36s, sys: 8min 50s, total: 16h 29min 27s\n",
            "Wall time: 51min 45s\n"
          ],
          "name": "stdout"
        },
        {
          "output_type": "execute_result",
          "data": {
            "text/plain": [
              "TrainOutput(global_step=1342, training_loss=7.153643225770772, metrics={'train_runtime': 3105.0863, 'train_samples_per_second': 27.649, 'train_steps_per_second': 0.432, 'total_flos': 966888090405120.0, 'train_loss': 7.153643225770772, 'epoch': 1.0})"
            ]
          },
          "metadata": {
            "tags": []
          },
          "execution_count": 57
        }
      ]
    },
    {
      "cell_type": "code",
      "metadata": {
        "colab": {
          "base_uri": "https://localhost:8080/"
        },
        "id": "HNPqOWg4kwRj",
        "outputId": "da675e92-1124-4d41-ae60-1259c4c672ea"
      },
      "source": [
        "trainer.save_model(\"./ESGBERT\")"
      ],
      "execution_count": null,
      "outputs": [
        {
          "output_type": "stream",
          "text": [
            "Saving model checkpoint to ./ESGBERT\n",
            "Configuration saved in ./ESGBERT/config.json\n",
            "Model weights saved in ./ESGBERT/pytorch_model.bin\n"
          ],
          "name": "stderr"
        }
      ]
    },
    {
      "cell_type": "markdown",
      "metadata": {
        "id": "iSBSIlT7k_vq"
      },
      "source": [
        "# Checking if LM Worked"
      ]
    },
    {
      "cell_type": "code",
      "metadata": {
        "colab": {
          "base_uri": "https://localhost:8080/"
        },
        "id": "zIXn71AMlCPk",
        "outputId": "461265ce-8b60-4ebd-b36e-1dd39adb173e"
      },
      "source": [
        "from transformers import pipeline\n",
        "\n",
        "fill_mask = pipeline(\n",
        "    \"fill-mask\",\n",
        "    model=\"./ESGBERT\",\n",
        "    tokenizer=tokenizer\n",
        ")"
      ],
      "execution_count": null,
      "outputs": [
        {
          "output_type": "stream",
          "text": [
            "loading configuration file ./ESGBERT/config.json\n",
            "Model config BertConfig {\n",
            "  \"architectures\": [\n",
            "    \"BertForMaskedLM\"\n",
            "  ],\n",
            "  \"attention_probs_dropout_prob\": 0.1,\n",
            "  \"gradient_checkpointing\": false,\n",
            "  \"hidden_act\": \"gelu\",\n",
            "  \"hidden_dropout_prob\": 0.1,\n",
            "  \"hidden_size\": 768,\n",
            "  \"initializer_range\": 0.02,\n",
            "  \"intermediate_size\": 3072,\n",
            "  \"layer_norm_eps\": 1e-12,\n",
            "  \"max_position_embeddings\": 512,\n",
            "  \"model_type\": \"bert\",\n",
            "  \"num_attention_heads\": 12,\n",
            "  \"num_hidden_layers\": 6,\n",
            "  \"pad_token_id\": 0,\n",
            "  \"position_embedding_type\": \"absolute\",\n",
            "  \"torch_dtype\": \"float32\",\n",
            "  \"transformers_version\": \"4.9.0.dev0\",\n",
            "  \"type_vocab_size\": 1,\n",
            "  \"use_cache\": true,\n",
            "  \"vocab_size\": 52000\n",
            "}\n",
            "\n",
            "loading configuration file ./ESGBERT/config.json\n",
            "Model config BertConfig {\n",
            "  \"architectures\": [\n",
            "    \"BertForMaskedLM\"\n",
            "  ],\n",
            "  \"attention_probs_dropout_prob\": 0.1,\n",
            "  \"gradient_checkpointing\": false,\n",
            "  \"hidden_act\": \"gelu\",\n",
            "  \"hidden_dropout_prob\": 0.1,\n",
            "  \"hidden_size\": 768,\n",
            "  \"initializer_range\": 0.02,\n",
            "  \"intermediate_size\": 3072,\n",
            "  \"layer_norm_eps\": 1e-12,\n",
            "  \"max_position_embeddings\": 512,\n",
            "  \"model_type\": \"bert\",\n",
            "  \"num_attention_heads\": 12,\n",
            "  \"num_hidden_layers\": 6,\n",
            "  \"pad_token_id\": 0,\n",
            "  \"position_embedding_type\": \"absolute\",\n",
            "  \"torch_dtype\": \"float32\",\n",
            "  \"transformers_version\": \"4.9.0.dev0\",\n",
            "  \"type_vocab_size\": 1,\n",
            "  \"use_cache\": true,\n",
            "  \"vocab_size\": 52000\n",
            "}\n",
            "\n",
            "loading weights file ./ESGBERT/pytorch_model.bin\n",
            "All model checkpoint weights were used when initializing BertForMaskedLM.\n",
            "\n",
            "All the weights of BertForMaskedLM were initialized from the model checkpoint at ./ESGBERT.\n",
            "If your task is similar to the task the model of the checkpoint was trained on, you can already use BertForMaskedLM for predictions without further training.\n"
          ],
          "name": "stderr"
        }
      ]
    },
    {
      "cell_type": "code",
      "metadata": {
        "colab": {
          "base_uri": "https://localhost:8080/"
        },
        "id": "WjbNeG7qlVKP",
        "outputId": "c7b454fc-2c52-4b41-cd63-dcd6347e0553"
      },
      "source": [
        "fill_mask(\"Understand the opportunities and [MASK] that your organization is exposed to as a result of environmental and social trends.\")"
      ],
      "execution_count": null,
      "outputs": [
        {
          "output_type": "execute_result",
          "data": {
            "text/plain": [
              "[{'score': 0.060306910425424576,\n",
              "  'sequence': 'Understand the opportunities and the that your organization is exposed to as a result of environmental and social trends.',\n",
              "  'token': 1103,\n",
              "  'token_str': 't h e'},\n",
              " {'score': 0.02638576552271843,\n",
              "  'sequence': 'Understand the opportunities and to that your organization is exposed to as a result of environmental and social trends.',\n",
              "  'token': 1106,\n",
              "  'token_str': 't o'},\n",
              " {'score': 0.02493955008685589,\n",
              "  'sequence': 'Understand the opportunities and, that your organization is exposed to as a result of environmental and social trends.',\n",
              "  'token': 117,\n",
              "  'token_str': ','},\n",
              " {'score': 0.021994639188051224,\n",
              "  'sequence': 'Understand the opportunities and of that your organization is exposed to as a result of environmental and social trends.',\n",
              "  'token': 1104,\n",
              "  'token_str': 'o f'},\n",
              " {'score': 0.01930198259651661,\n",
              "  'sequence': 'Understand the opportunities and and that your organization is exposed to as a result of environmental and social trends.',\n",
              "  'token': 1105,\n",
              "  'token_str': 'a n d'}]"
            ]
          },
          "metadata": {
            "tags": []
          },
          "execution_count": 62
        }
      ]
    }
  ]
}