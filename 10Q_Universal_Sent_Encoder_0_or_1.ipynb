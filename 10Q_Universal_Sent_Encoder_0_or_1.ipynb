{
  "nbformat": 4,
  "nbformat_minor": 0,
  "metadata": {
    "accelerator": "GPU",
    "colab": {
      "name": "10Q - Universal Sent Encoder - 0 or 1.ipynb",
      "provenance": [],
      "collapsed_sections": [
        "Nyjo68RL0ZHn",
        "SewhEFFrTDxx",
        "1Z1iBRqa9Vx6",
        "s0NBw19o1UHS",
        "6KaRKL8KNTcC"
      ],
      "machine_shape": "hm"
    },
    "kernelspec": {
      "display_name": "Python 3",
      "name": "python3"
    },
    "language_info": {
      "name": "python"
    },
    "widgets": {
      "application/vnd.jupyter.widget-state+json": {
        "81c33135427f49a79c1240e7a4bfec8c": {
          "model_module": "@jupyter-widgets/controls",
          "model_name": "HBoxModel",
          "state": {
            "_view_name": "HBoxView",
            "_dom_classes": [],
            "_model_name": "HBoxModel",
            "_view_module": "@jupyter-widgets/controls",
            "_model_module_version": "1.5.0",
            "_view_count": null,
            "_view_module_version": "1.5.0",
            "box_style": "",
            "layout": "IPY_MODEL_a321128c9b414e549c994750b27c1837",
            "_model_module": "@jupyter-widgets/controls",
            "children": [
              "IPY_MODEL_f9f04451a20c473d961f03d0a02744ac",
              "IPY_MODEL_d0209b5ef3db49ea85365e0ee0b48907"
            ]
          }
        },
        "a321128c9b414e549c994750b27c1837": {
          "model_module": "@jupyter-widgets/base",
          "model_name": "LayoutModel",
          "state": {
            "_view_name": "LayoutView",
            "grid_template_rows": null,
            "right": null,
            "justify_content": null,
            "_view_module": "@jupyter-widgets/base",
            "overflow": null,
            "_model_module_version": "1.2.0",
            "_view_count": null,
            "flex_flow": null,
            "width": null,
            "min_width": null,
            "border": null,
            "align_items": null,
            "bottom": null,
            "_model_module": "@jupyter-widgets/base",
            "top": null,
            "grid_column": null,
            "overflow_y": null,
            "overflow_x": null,
            "grid_auto_flow": null,
            "grid_area": null,
            "grid_template_columns": null,
            "flex": null,
            "_model_name": "LayoutModel",
            "justify_items": null,
            "grid_row": null,
            "max_height": null,
            "align_content": null,
            "visibility": null,
            "align_self": null,
            "height": null,
            "min_height": null,
            "padding": null,
            "grid_auto_rows": null,
            "grid_gap": null,
            "max_width": null,
            "order": null,
            "_view_module_version": "1.2.0",
            "grid_template_areas": null,
            "object_position": null,
            "object_fit": null,
            "grid_auto_columns": null,
            "margin": null,
            "display": null,
            "left": null
          }
        },
        "f9f04451a20c473d961f03d0a02744ac": {
          "model_module": "@jupyter-widgets/controls",
          "model_name": "FloatProgressModel",
          "state": {
            "_view_name": "ProgressView",
            "style": "IPY_MODEL_f930d6ad0fb04095a134e1ddc09ec363",
            "_dom_classes": [],
            "description": "Downloading: 100%",
            "_model_name": "FloatProgressModel",
            "bar_style": "success",
            "max": 213450,
            "_view_module": "@jupyter-widgets/controls",
            "_model_module_version": "1.5.0",
            "value": 213450,
            "_view_count": null,
            "_view_module_version": "1.5.0",
            "orientation": "horizontal",
            "min": 0,
            "description_tooltip": null,
            "_model_module": "@jupyter-widgets/controls",
            "layout": "IPY_MODEL_0a80648207374aa2a896fc31b91b1c82"
          }
        },
        "d0209b5ef3db49ea85365e0ee0b48907": {
          "model_module": "@jupyter-widgets/controls",
          "model_name": "HTMLModel",
          "state": {
            "_view_name": "HTMLView",
            "style": "IPY_MODEL_f5e5c26b643a42c6a62e3cc8d5ed85a3",
            "_dom_classes": [],
            "description": "",
            "_model_name": "HTMLModel",
            "placeholder": "​",
            "_view_module": "@jupyter-widgets/controls",
            "_model_module_version": "1.5.0",
            "value": " 213k/213k [00:03&lt;00:00, 66.4kB/s]",
            "_view_count": null,
            "_view_module_version": "1.5.0",
            "description_tooltip": null,
            "_model_module": "@jupyter-widgets/controls",
            "layout": "IPY_MODEL_2ec2d58c1bb54a1c92a59a2f087c6871"
          }
        },
        "f930d6ad0fb04095a134e1ddc09ec363": {
          "model_module": "@jupyter-widgets/controls",
          "model_name": "ProgressStyleModel",
          "state": {
            "_view_name": "StyleView",
            "_model_name": "ProgressStyleModel",
            "description_width": "initial",
            "_view_module": "@jupyter-widgets/base",
            "_model_module_version": "1.5.0",
            "_view_count": null,
            "_view_module_version": "1.2.0",
            "bar_color": null,
            "_model_module": "@jupyter-widgets/controls"
          }
        },
        "0a80648207374aa2a896fc31b91b1c82": {
          "model_module": "@jupyter-widgets/base",
          "model_name": "LayoutModel",
          "state": {
            "_view_name": "LayoutView",
            "grid_template_rows": null,
            "right": null,
            "justify_content": null,
            "_view_module": "@jupyter-widgets/base",
            "overflow": null,
            "_model_module_version": "1.2.0",
            "_view_count": null,
            "flex_flow": null,
            "width": null,
            "min_width": null,
            "border": null,
            "align_items": null,
            "bottom": null,
            "_model_module": "@jupyter-widgets/base",
            "top": null,
            "grid_column": null,
            "overflow_y": null,
            "overflow_x": null,
            "grid_auto_flow": null,
            "grid_area": null,
            "grid_template_columns": null,
            "flex": null,
            "_model_name": "LayoutModel",
            "justify_items": null,
            "grid_row": null,
            "max_height": null,
            "align_content": null,
            "visibility": null,
            "align_self": null,
            "height": null,
            "min_height": null,
            "padding": null,
            "grid_auto_rows": null,
            "grid_gap": null,
            "max_width": null,
            "order": null,
            "_view_module_version": "1.2.0",
            "grid_template_areas": null,
            "object_position": null,
            "object_fit": null,
            "grid_auto_columns": null,
            "margin": null,
            "display": null,
            "left": null
          }
        },
        "f5e5c26b643a42c6a62e3cc8d5ed85a3": {
          "model_module": "@jupyter-widgets/controls",
          "model_name": "DescriptionStyleModel",
          "state": {
            "_view_name": "StyleView",
            "_model_name": "DescriptionStyleModel",
            "description_width": "",
            "_view_module": "@jupyter-widgets/base",
            "_model_module_version": "1.5.0",
            "_view_count": null,
            "_view_module_version": "1.2.0",
            "_model_module": "@jupyter-widgets/controls"
          }
        },
        "2ec2d58c1bb54a1c92a59a2f087c6871": {
          "model_module": "@jupyter-widgets/base",
          "model_name": "LayoutModel",
          "state": {
            "_view_name": "LayoutView",
            "grid_template_rows": null,
            "right": null,
            "justify_content": null,
            "_view_module": "@jupyter-widgets/base",
            "overflow": null,
            "_model_module_version": "1.2.0",
            "_view_count": null,
            "flex_flow": null,
            "width": null,
            "min_width": null,
            "border": null,
            "align_items": null,
            "bottom": null,
            "_model_module": "@jupyter-widgets/base",
            "top": null,
            "grid_column": null,
            "overflow_y": null,
            "overflow_x": null,
            "grid_auto_flow": null,
            "grid_area": null,
            "grid_template_columns": null,
            "flex": null,
            "_model_name": "LayoutModel",
            "justify_items": null,
            "grid_row": null,
            "max_height": null,
            "align_content": null,
            "visibility": null,
            "align_self": null,
            "height": null,
            "min_height": null,
            "padding": null,
            "grid_auto_rows": null,
            "grid_gap": null,
            "max_width": null,
            "order": null,
            "_view_module_version": "1.2.0",
            "grid_template_areas": null,
            "object_position": null,
            "object_fit": null,
            "grid_auto_columns": null,
            "margin": null,
            "display": null,
            "left": null
          }
        },
        "bf3f5f5ef9fc427b89f58c4a1cfbfd5d": {
          "model_module": "@jupyter-widgets/controls",
          "model_name": "HBoxModel",
          "state": {
            "_view_name": "HBoxView",
            "_dom_classes": [],
            "_model_name": "HBoxModel",
            "_view_module": "@jupyter-widgets/controls",
            "_model_module_version": "1.5.0",
            "_view_count": null,
            "_view_module_version": "1.5.0",
            "box_style": "",
            "layout": "IPY_MODEL_f664a5992634484885261fbbd66ee295",
            "_model_module": "@jupyter-widgets/controls",
            "children": [
              "IPY_MODEL_c16f496c1de046bc8e95b310dbdd6c9f",
              "IPY_MODEL_9456fa51e4d24937b938ee216103e853"
            ]
          }
        },
        "f664a5992634484885261fbbd66ee295": {
          "model_module": "@jupyter-widgets/base",
          "model_name": "LayoutModel",
          "state": {
            "_view_name": "LayoutView",
            "grid_template_rows": null,
            "right": null,
            "justify_content": null,
            "_view_module": "@jupyter-widgets/base",
            "overflow": null,
            "_model_module_version": "1.2.0",
            "_view_count": null,
            "flex_flow": null,
            "width": null,
            "min_width": null,
            "border": null,
            "align_items": null,
            "bottom": null,
            "_model_module": "@jupyter-widgets/base",
            "top": null,
            "grid_column": null,
            "overflow_y": null,
            "overflow_x": null,
            "grid_auto_flow": null,
            "grid_area": null,
            "grid_template_columns": null,
            "flex": null,
            "_model_name": "LayoutModel",
            "justify_items": null,
            "grid_row": null,
            "max_height": null,
            "align_content": null,
            "visibility": null,
            "align_self": null,
            "height": null,
            "min_height": null,
            "padding": null,
            "grid_auto_rows": null,
            "grid_gap": null,
            "max_width": null,
            "order": null,
            "_view_module_version": "1.2.0",
            "grid_template_areas": null,
            "object_position": null,
            "object_fit": null,
            "grid_auto_columns": null,
            "margin": null,
            "display": null,
            "left": null
          }
        },
        "c16f496c1de046bc8e95b310dbdd6c9f": {
          "model_module": "@jupyter-widgets/controls",
          "model_name": "FloatProgressModel",
          "state": {
            "_view_name": "ProgressView",
            "style": "IPY_MODEL_329d1ce7e7a748ec993fc04b3bb59257",
            "_dom_classes": [],
            "description": "Downloading: 100%",
            "_model_name": "FloatProgressModel",
            "bar_style": "success",
            "max": 29,
            "_view_module": "@jupyter-widgets/controls",
            "_model_module_version": "1.5.0",
            "value": 29,
            "_view_count": null,
            "_view_module_version": "1.5.0",
            "orientation": "horizontal",
            "min": 0,
            "description_tooltip": null,
            "_model_module": "@jupyter-widgets/controls",
            "layout": "IPY_MODEL_376553fdaeb34b00bfc5a8ad1c4f2001"
          }
        },
        "9456fa51e4d24937b938ee216103e853": {
          "model_module": "@jupyter-widgets/controls",
          "model_name": "HTMLModel",
          "state": {
            "_view_name": "HTMLView",
            "style": "IPY_MODEL_e7805ebc9476436f9599dc05ff28005e",
            "_dom_classes": [],
            "description": "",
            "_model_name": "HTMLModel",
            "placeholder": "​",
            "_view_module": "@jupyter-widgets/controls",
            "_model_module_version": "1.5.0",
            "value": " 29.0/29.0 [00:01&lt;00:00, 17.6B/s]",
            "_view_count": null,
            "_view_module_version": "1.5.0",
            "description_tooltip": null,
            "_model_module": "@jupyter-widgets/controls",
            "layout": "IPY_MODEL_5d8948caed2b4135bc49ec2eef0f11d4"
          }
        },
        "329d1ce7e7a748ec993fc04b3bb59257": {
          "model_module": "@jupyter-widgets/controls",
          "model_name": "ProgressStyleModel",
          "state": {
            "_view_name": "StyleView",
            "_model_name": "ProgressStyleModel",
            "description_width": "initial",
            "_view_module": "@jupyter-widgets/base",
            "_model_module_version": "1.5.0",
            "_view_count": null,
            "_view_module_version": "1.2.0",
            "bar_color": null,
            "_model_module": "@jupyter-widgets/controls"
          }
        },
        "376553fdaeb34b00bfc5a8ad1c4f2001": {
          "model_module": "@jupyter-widgets/base",
          "model_name": "LayoutModel",
          "state": {
            "_view_name": "LayoutView",
            "grid_template_rows": null,
            "right": null,
            "justify_content": null,
            "_view_module": "@jupyter-widgets/base",
            "overflow": null,
            "_model_module_version": "1.2.0",
            "_view_count": null,
            "flex_flow": null,
            "width": null,
            "min_width": null,
            "border": null,
            "align_items": null,
            "bottom": null,
            "_model_module": "@jupyter-widgets/base",
            "top": null,
            "grid_column": null,
            "overflow_y": null,
            "overflow_x": null,
            "grid_auto_flow": null,
            "grid_area": null,
            "grid_template_columns": null,
            "flex": null,
            "_model_name": "LayoutModel",
            "justify_items": null,
            "grid_row": null,
            "max_height": null,
            "align_content": null,
            "visibility": null,
            "align_self": null,
            "height": null,
            "min_height": null,
            "padding": null,
            "grid_auto_rows": null,
            "grid_gap": null,
            "max_width": null,
            "order": null,
            "_view_module_version": "1.2.0",
            "grid_template_areas": null,
            "object_position": null,
            "object_fit": null,
            "grid_auto_columns": null,
            "margin": null,
            "display": null,
            "left": null
          }
        },
        "e7805ebc9476436f9599dc05ff28005e": {
          "model_module": "@jupyter-widgets/controls",
          "model_name": "DescriptionStyleModel",
          "state": {
            "_view_name": "StyleView",
            "_model_name": "DescriptionStyleModel",
            "description_width": "",
            "_view_module": "@jupyter-widgets/base",
            "_model_module_version": "1.5.0",
            "_view_count": null,
            "_view_module_version": "1.2.0",
            "_model_module": "@jupyter-widgets/controls"
          }
        },
        "5d8948caed2b4135bc49ec2eef0f11d4": {
          "model_module": "@jupyter-widgets/base",
          "model_name": "LayoutModel",
          "state": {
            "_view_name": "LayoutView",
            "grid_template_rows": null,
            "right": null,
            "justify_content": null,
            "_view_module": "@jupyter-widgets/base",
            "overflow": null,
            "_model_module_version": "1.2.0",
            "_view_count": null,
            "flex_flow": null,
            "width": null,
            "min_width": null,
            "border": null,
            "align_items": null,
            "bottom": null,
            "_model_module": "@jupyter-widgets/base",
            "top": null,
            "grid_column": null,
            "overflow_y": null,
            "overflow_x": null,
            "grid_auto_flow": null,
            "grid_area": null,
            "grid_template_columns": null,
            "flex": null,
            "_model_name": "LayoutModel",
            "justify_items": null,
            "grid_row": null,
            "max_height": null,
            "align_content": null,
            "visibility": null,
            "align_self": null,
            "height": null,
            "min_height": null,
            "padding": null,
            "grid_auto_rows": null,
            "grid_gap": null,
            "max_width": null,
            "order": null,
            "_view_module_version": "1.2.0",
            "grid_template_areas": null,
            "object_position": null,
            "object_fit": null,
            "grid_auto_columns": null,
            "margin": null,
            "display": null,
            "left": null
          }
        },
        "c0d7f4ba02414bc88c167762d8d0080b": {
          "model_module": "@jupyter-widgets/controls",
          "model_name": "HBoxModel",
          "state": {
            "_view_name": "HBoxView",
            "_dom_classes": [],
            "_model_name": "HBoxModel",
            "_view_module": "@jupyter-widgets/controls",
            "_model_module_version": "1.5.0",
            "_view_count": null,
            "_view_module_version": "1.5.0",
            "box_style": "",
            "layout": "IPY_MODEL_8f5dc0f6d4b74d8aa3c98c43e59c8f8b",
            "_model_module": "@jupyter-widgets/controls",
            "children": [
              "IPY_MODEL_309a3e8bbe4d4e619f90dbb269f446ae",
              "IPY_MODEL_c484ec18b53147839cd7842549c980eb"
            ]
          }
        },
        "8f5dc0f6d4b74d8aa3c98c43e59c8f8b": {
          "model_module": "@jupyter-widgets/base",
          "model_name": "LayoutModel",
          "state": {
            "_view_name": "LayoutView",
            "grid_template_rows": null,
            "right": null,
            "justify_content": null,
            "_view_module": "@jupyter-widgets/base",
            "overflow": null,
            "_model_module_version": "1.2.0",
            "_view_count": null,
            "flex_flow": null,
            "width": null,
            "min_width": null,
            "border": null,
            "align_items": null,
            "bottom": null,
            "_model_module": "@jupyter-widgets/base",
            "top": null,
            "grid_column": null,
            "overflow_y": null,
            "overflow_x": null,
            "grid_auto_flow": null,
            "grid_area": null,
            "grid_template_columns": null,
            "flex": null,
            "_model_name": "LayoutModel",
            "justify_items": null,
            "grid_row": null,
            "max_height": null,
            "align_content": null,
            "visibility": null,
            "align_self": null,
            "height": null,
            "min_height": null,
            "padding": null,
            "grid_auto_rows": null,
            "grid_gap": null,
            "max_width": null,
            "order": null,
            "_view_module_version": "1.2.0",
            "grid_template_areas": null,
            "object_position": null,
            "object_fit": null,
            "grid_auto_columns": null,
            "margin": null,
            "display": null,
            "left": null
          }
        },
        "309a3e8bbe4d4e619f90dbb269f446ae": {
          "model_module": "@jupyter-widgets/controls",
          "model_name": "FloatProgressModel",
          "state": {
            "_view_name": "ProgressView",
            "style": "IPY_MODEL_0cff2f7deb78477ea49df63ca138ebc8",
            "_dom_classes": [],
            "description": "Downloading: 100%",
            "_model_name": "FloatProgressModel",
            "bar_style": "success",
            "max": 435797,
            "_view_module": "@jupyter-widgets/controls",
            "_model_module_version": "1.5.0",
            "value": 435797,
            "_view_count": null,
            "_view_module_version": "1.5.0",
            "orientation": "horizontal",
            "min": 0,
            "description_tooltip": null,
            "_model_module": "@jupyter-widgets/controls",
            "layout": "IPY_MODEL_10a46ad7ef2247e1bd4c33e4a8492e01"
          }
        },
        "c484ec18b53147839cd7842549c980eb": {
          "model_module": "@jupyter-widgets/controls",
          "model_name": "HTMLModel",
          "state": {
            "_view_name": "HTMLView",
            "style": "IPY_MODEL_c9ab1dc594454008846d6a1ecd330cd6",
            "_dom_classes": [],
            "description": "",
            "_model_name": "HTMLModel",
            "placeholder": "​",
            "_view_module": "@jupyter-widgets/controls",
            "_model_module_version": "1.5.0",
            "value": " 436k/436k [00:00&lt;00:00, 478kB/s]",
            "_view_count": null,
            "_view_module_version": "1.5.0",
            "description_tooltip": null,
            "_model_module": "@jupyter-widgets/controls",
            "layout": "IPY_MODEL_c726604bd2cf4d83a535dc14cc2a5e17"
          }
        },
        "0cff2f7deb78477ea49df63ca138ebc8": {
          "model_module": "@jupyter-widgets/controls",
          "model_name": "ProgressStyleModel",
          "state": {
            "_view_name": "StyleView",
            "_model_name": "ProgressStyleModel",
            "description_width": "initial",
            "_view_module": "@jupyter-widgets/base",
            "_model_module_version": "1.5.0",
            "_view_count": null,
            "_view_module_version": "1.2.0",
            "bar_color": null,
            "_model_module": "@jupyter-widgets/controls"
          }
        },
        "10a46ad7ef2247e1bd4c33e4a8492e01": {
          "model_module": "@jupyter-widgets/base",
          "model_name": "LayoutModel",
          "state": {
            "_view_name": "LayoutView",
            "grid_template_rows": null,
            "right": null,
            "justify_content": null,
            "_view_module": "@jupyter-widgets/base",
            "overflow": null,
            "_model_module_version": "1.2.0",
            "_view_count": null,
            "flex_flow": null,
            "width": null,
            "min_width": null,
            "border": null,
            "align_items": null,
            "bottom": null,
            "_model_module": "@jupyter-widgets/base",
            "top": null,
            "grid_column": null,
            "overflow_y": null,
            "overflow_x": null,
            "grid_auto_flow": null,
            "grid_area": null,
            "grid_template_columns": null,
            "flex": null,
            "_model_name": "LayoutModel",
            "justify_items": null,
            "grid_row": null,
            "max_height": null,
            "align_content": null,
            "visibility": null,
            "align_self": null,
            "height": null,
            "min_height": null,
            "padding": null,
            "grid_auto_rows": null,
            "grid_gap": null,
            "max_width": null,
            "order": null,
            "_view_module_version": "1.2.0",
            "grid_template_areas": null,
            "object_position": null,
            "object_fit": null,
            "grid_auto_columns": null,
            "margin": null,
            "display": null,
            "left": null
          }
        },
        "c9ab1dc594454008846d6a1ecd330cd6": {
          "model_module": "@jupyter-widgets/controls",
          "model_name": "DescriptionStyleModel",
          "state": {
            "_view_name": "StyleView",
            "_model_name": "DescriptionStyleModel",
            "description_width": "",
            "_view_module": "@jupyter-widgets/base",
            "_model_module_version": "1.5.0",
            "_view_count": null,
            "_view_module_version": "1.2.0",
            "_model_module": "@jupyter-widgets/controls"
          }
        },
        "c726604bd2cf4d83a535dc14cc2a5e17": {
          "model_module": "@jupyter-widgets/base",
          "model_name": "LayoutModel",
          "state": {
            "_view_name": "LayoutView",
            "grid_template_rows": null,
            "right": null,
            "justify_content": null,
            "_view_module": "@jupyter-widgets/base",
            "overflow": null,
            "_model_module_version": "1.2.0",
            "_view_count": null,
            "flex_flow": null,
            "width": null,
            "min_width": null,
            "border": null,
            "align_items": null,
            "bottom": null,
            "_model_module": "@jupyter-widgets/base",
            "top": null,
            "grid_column": null,
            "overflow_y": null,
            "overflow_x": null,
            "grid_auto_flow": null,
            "grid_area": null,
            "grid_template_columns": null,
            "flex": null,
            "_model_name": "LayoutModel",
            "justify_items": null,
            "grid_row": null,
            "max_height": null,
            "align_content": null,
            "visibility": null,
            "align_self": null,
            "height": null,
            "min_height": null,
            "padding": null,
            "grid_auto_rows": null,
            "grid_gap": null,
            "max_width": null,
            "order": null,
            "_view_module_version": "1.2.0",
            "grid_template_areas": null,
            "object_position": null,
            "object_fit": null,
            "grid_auto_columns": null,
            "margin": null,
            "display": null,
            "left": null
          }
        },
        "6e0ffa5fb47447078c15e3afab698c2d": {
          "model_module": "@jupyter-widgets/controls",
          "model_name": "HBoxModel",
          "state": {
            "_view_name": "HBoxView",
            "_dom_classes": [],
            "_model_name": "HBoxModel",
            "_view_module": "@jupyter-widgets/controls",
            "_model_module_version": "1.5.0",
            "_view_count": null,
            "_view_module_version": "1.5.0",
            "box_style": "",
            "layout": "IPY_MODEL_a2d492d6a0d44f07b1cc5e1774c47a8d",
            "_model_module": "@jupyter-widgets/controls",
            "children": [
              "IPY_MODEL_50a6a70d97fd45f08eb22c4b24006286",
              "IPY_MODEL_6a54784c1dbb4fc8a94da3584036cd05"
            ]
          }
        },
        "a2d492d6a0d44f07b1cc5e1774c47a8d": {
          "model_module": "@jupyter-widgets/base",
          "model_name": "LayoutModel",
          "state": {
            "_view_name": "LayoutView",
            "grid_template_rows": null,
            "right": null,
            "justify_content": null,
            "_view_module": "@jupyter-widgets/base",
            "overflow": null,
            "_model_module_version": "1.2.0",
            "_view_count": null,
            "flex_flow": null,
            "width": null,
            "min_width": null,
            "border": null,
            "align_items": null,
            "bottom": null,
            "_model_module": "@jupyter-widgets/base",
            "top": null,
            "grid_column": null,
            "overflow_y": null,
            "overflow_x": null,
            "grid_auto_flow": null,
            "grid_area": null,
            "grid_template_columns": null,
            "flex": null,
            "_model_name": "LayoutModel",
            "justify_items": null,
            "grid_row": null,
            "max_height": null,
            "align_content": null,
            "visibility": null,
            "align_self": null,
            "height": null,
            "min_height": null,
            "padding": null,
            "grid_auto_rows": null,
            "grid_gap": null,
            "max_width": null,
            "order": null,
            "_view_module_version": "1.2.0",
            "grid_template_areas": null,
            "object_position": null,
            "object_fit": null,
            "grid_auto_columns": null,
            "margin": null,
            "display": null,
            "left": null
          }
        },
        "50a6a70d97fd45f08eb22c4b24006286": {
          "model_module": "@jupyter-widgets/controls",
          "model_name": "FloatProgressModel",
          "state": {
            "_view_name": "ProgressView",
            "style": "IPY_MODEL_0a417c24123c4fc3b705b3b53a9aec03",
            "_dom_classes": [],
            "description": "Downloading: 100%",
            "_model_name": "FloatProgressModel",
            "bar_style": "success",
            "max": 570,
            "_view_module": "@jupyter-widgets/controls",
            "_model_module_version": "1.5.0",
            "value": 570,
            "_view_count": null,
            "_view_module_version": "1.5.0",
            "orientation": "horizontal",
            "min": 0,
            "description_tooltip": null,
            "_model_module": "@jupyter-widgets/controls",
            "layout": "IPY_MODEL_46ebafb4d2354e809a2ac3211be06069"
          }
        },
        "6a54784c1dbb4fc8a94da3584036cd05": {
          "model_module": "@jupyter-widgets/controls",
          "model_name": "HTMLModel",
          "state": {
            "_view_name": "HTMLView",
            "style": "IPY_MODEL_62e9d970e4f940df9abae41a86ebbaed",
            "_dom_classes": [],
            "description": "",
            "_model_name": "HTMLModel",
            "placeholder": "​",
            "_view_module": "@jupyter-widgets/controls",
            "_model_module_version": "1.5.0",
            "value": " 570/570 [00:00&lt;00:00, 11.1kB/s]",
            "_view_count": null,
            "_view_module_version": "1.5.0",
            "description_tooltip": null,
            "_model_module": "@jupyter-widgets/controls",
            "layout": "IPY_MODEL_27719d6663a74c04bed287520e7b4d83"
          }
        },
        "0a417c24123c4fc3b705b3b53a9aec03": {
          "model_module": "@jupyter-widgets/controls",
          "model_name": "ProgressStyleModel",
          "state": {
            "_view_name": "StyleView",
            "_model_name": "ProgressStyleModel",
            "description_width": "initial",
            "_view_module": "@jupyter-widgets/base",
            "_model_module_version": "1.5.0",
            "_view_count": null,
            "_view_module_version": "1.2.0",
            "bar_color": null,
            "_model_module": "@jupyter-widgets/controls"
          }
        },
        "46ebafb4d2354e809a2ac3211be06069": {
          "model_module": "@jupyter-widgets/base",
          "model_name": "LayoutModel",
          "state": {
            "_view_name": "LayoutView",
            "grid_template_rows": null,
            "right": null,
            "justify_content": null,
            "_view_module": "@jupyter-widgets/base",
            "overflow": null,
            "_model_module_version": "1.2.0",
            "_view_count": null,
            "flex_flow": null,
            "width": null,
            "min_width": null,
            "border": null,
            "align_items": null,
            "bottom": null,
            "_model_module": "@jupyter-widgets/base",
            "top": null,
            "grid_column": null,
            "overflow_y": null,
            "overflow_x": null,
            "grid_auto_flow": null,
            "grid_area": null,
            "grid_template_columns": null,
            "flex": null,
            "_model_name": "LayoutModel",
            "justify_items": null,
            "grid_row": null,
            "max_height": null,
            "align_content": null,
            "visibility": null,
            "align_self": null,
            "height": null,
            "min_height": null,
            "padding": null,
            "grid_auto_rows": null,
            "grid_gap": null,
            "max_width": null,
            "order": null,
            "_view_module_version": "1.2.0",
            "grid_template_areas": null,
            "object_position": null,
            "object_fit": null,
            "grid_auto_columns": null,
            "margin": null,
            "display": null,
            "left": null
          }
        },
        "62e9d970e4f940df9abae41a86ebbaed": {
          "model_module": "@jupyter-widgets/controls",
          "model_name": "DescriptionStyleModel",
          "state": {
            "_view_name": "StyleView",
            "_model_name": "DescriptionStyleModel",
            "description_width": "",
            "_view_module": "@jupyter-widgets/base",
            "_model_module_version": "1.5.0",
            "_view_count": null,
            "_view_module_version": "1.2.0",
            "_model_module": "@jupyter-widgets/controls"
          }
        },
        "27719d6663a74c04bed287520e7b4d83": {
          "model_module": "@jupyter-widgets/base",
          "model_name": "LayoutModel",
          "state": {
            "_view_name": "LayoutView",
            "grid_template_rows": null,
            "right": null,
            "justify_content": null,
            "_view_module": "@jupyter-widgets/base",
            "overflow": null,
            "_model_module_version": "1.2.0",
            "_view_count": null,
            "flex_flow": null,
            "width": null,
            "min_width": null,
            "border": null,
            "align_items": null,
            "bottom": null,
            "_model_module": "@jupyter-widgets/base",
            "top": null,
            "grid_column": null,
            "overflow_y": null,
            "overflow_x": null,
            "grid_auto_flow": null,
            "grid_area": null,
            "grid_template_columns": null,
            "flex": null,
            "_model_name": "LayoutModel",
            "justify_items": null,
            "grid_row": null,
            "max_height": null,
            "align_content": null,
            "visibility": null,
            "align_self": null,
            "height": null,
            "min_height": null,
            "padding": null,
            "grid_auto_rows": null,
            "grid_gap": null,
            "max_width": null,
            "order": null,
            "_view_module_version": "1.2.0",
            "grid_template_areas": null,
            "object_position": null,
            "object_fit": null,
            "grid_auto_columns": null,
            "margin": null,
            "display": null,
            "left": null
          }
        },
        "15d830c1b7a7481dacc836b5a6bc9ddb": {
          "model_module": "@jupyter-widgets/controls",
          "model_name": "HBoxModel",
          "state": {
            "_view_name": "HBoxView",
            "_dom_classes": [],
            "_model_name": "HBoxModel",
            "_view_module": "@jupyter-widgets/controls",
            "_model_module_version": "1.5.0",
            "_view_count": null,
            "_view_module_version": "1.5.0",
            "box_style": "",
            "layout": "IPY_MODEL_f6c2cec81031465180465f5a46ba8f03",
            "_model_module": "@jupyter-widgets/controls",
            "children": [
              "IPY_MODEL_da7ce4dc7f6a4e968aef69df85a7f4d0",
              "IPY_MODEL_50ec9269fce443ea98a722984c93d557"
            ]
          }
        },
        "f6c2cec81031465180465f5a46ba8f03": {
          "model_module": "@jupyter-widgets/base",
          "model_name": "LayoutModel",
          "state": {
            "_view_name": "LayoutView",
            "grid_template_rows": null,
            "right": null,
            "justify_content": null,
            "_view_module": "@jupyter-widgets/base",
            "overflow": null,
            "_model_module_version": "1.2.0",
            "_view_count": null,
            "flex_flow": null,
            "width": null,
            "min_width": null,
            "border": null,
            "align_items": null,
            "bottom": null,
            "_model_module": "@jupyter-widgets/base",
            "top": null,
            "grid_column": null,
            "overflow_y": null,
            "overflow_x": null,
            "grid_auto_flow": null,
            "grid_area": null,
            "grid_template_columns": null,
            "flex": null,
            "_model_name": "LayoutModel",
            "justify_items": null,
            "grid_row": null,
            "max_height": null,
            "align_content": null,
            "visibility": null,
            "align_self": null,
            "height": null,
            "min_height": null,
            "padding": null,
            "grid_auto_rows": null,
            "grid_gap": null,
            "max_width": null,
            "order": null,
            "_view_module_version": "1.2.0",
            "grid_template_areas": null,
            "object_position": null,
            "object_fit": null,
            "grid_auto_columns": null,
            "margin": null,
            "display": null,
            "left": null
          }
        },
        "da7ce4dc7f6a4e968aef69df85a7f4d0": {
          "model_module": "@jupyter-widgets/controls",
          "model_name": "FloatProgressModel",
          "state": {
            "_view_name": "ProgressView",
            "style": "IPY_MODEL_7d1e8a98cd45404f868bba08b25bd5b3",
            "_dom_classes": [],
            "description": "Downloading: 100%",
            "_model_name": "FloatProgressModel",
            "bar_style": "success",
            "max": 526681800,
            "_view_module": "@jupyter-widgets/controls",
            "_model_module_version": "1.5.0",
            "value": 526681800,
            "_view_count": null,
            "_view_module_version": "1.5.0",
            "orientation": "horizontal",
            "min": 0,
            "description_tooltip": null,
            "_model_module": "@jupyter-widgets/controls",
            "layout": "IPY_MODEL_700628feb7904273b60fe683920b5b50"
          }
        },
        "50ec9269fce443ea98a722984c93d557": {
          "model_module": "@jupyter-widgets/controls",
          "model_name": "HTMLModel",
          "state": {
            "_view_name": "HTMLView",
            "style": "IPY_MODEL_02c90bbcc84c40ab99f129ee4e4f3926",
            "_dom_classes": [],
            "description": "",
            "_model_name": "HTMLModel",
            "placeholder": "​",
            "_view_module": "@jupyter-widgets/controls",
            "_model_module_version": "1.5.0",
            "value": " 527M/527M [00:10&lt;00:00, 51.7MB/s]",
            "_view_count": null,
            "_view_module_version": "1.5.0",
            "description_tooltip": null,
            "_model_module": "@jupyter-widgets/controls",
            "layout": "IPY_MODEL_5c6899288cdd400e8ce58cdf93120695"
          }
        },
        "7d1e8a98cd45404f868bba08b25bd5b3": {
          "model_module": "@jupyter-widgets/controls",
          "model_name": "ProgressStyleModel",
          "state": {
            "_view_name": "StyleView",
            "_model_name": "ProgressStyleModel",
            "description_width": "initial",
            "_view_module": "@jupyter-widgets/base",
            "_model_module_version": "1.5.0",
            "_view_count": null,
            "_view_module_version": "1.2.0",
            "bar_color": null,
            "_model_module": "@jupyter-widgets/controls"
          }
        },
        "700628feb7904273b60fe683920b5b50": {
          "model_module": "@jupyter-widgets/base",
          "model_name": "LayoutModel",
          "state": {
            "_view_name": "LayoutView",
            "grid_template_rows": null,
            "right": null,
            "justify_content": null,
            "_view_module": "@jupyter-widgets/base",
            "overflow": null,
            "_model_module_version": "1.2.0",
            "_view_count": null,
            "flex_flow": null,
            "width": null,
            "min_width": null,
            "border": null,
            "align_items": null,
            "bottom": null,
            "_model_module": "@jupyter-widgets/base",
            "top": null,
            "grid_column": null,
            "overflow_y": null,
            "overflow_x": null,
            "grid_auto_flow": null,
            "grid_area": null,
            "grid_template_columns": null,
            "flex": null,
            "_model_name": "LayoutModel",
            "justify_items": null,
            "grid_row": null,
            "max_height": null,
            "align_content": null,
            "visibility": null,
            "align_self": null,
            "height": null,
            "min_height": null,
            "padding": null,
            "grid_auto_rows": null,
            "grid_gap": null,
            "max_width": null,
            "order": null,
            "_view_module_version": "1.2.0",
            "grid_template_areas": null,
            "object_position": null,
            "object_fit": null,
            "grid_auto_columns": null,
            "margin": null,
            "display": null,
            "left": null
          }
        },
        "02c90bbcc84c40ab99f129ee4e4f3926": {
          "model_module": "@jupyter-widgets/controls",
          "model_name": "DescriptionStyleModel",
          "state": {
            "_view_name": "StyleView",
            "_model_name": "DescriptionStyleModel",
            "description_width": "",
            "_view_module": "@jupyter-widgets/base",
            "_model_module_version": "1.5.0",
            "_view_count": null,
            "_view_module_version": "1.2.0",
            "_model_module": "@jupyter-widgets/controls"
          }
        },
        "5c6899288cdd400e8ce58cdf93120695": {
          "model_module": "@jupyter-widgets/base",
          "model_name": "LayoutModel",
          "state": {
            "_view_name": "LayoutView",
            "grid_template_rows": null,
            "right": null,
            "justify_content": null,
            "_view_module": "@jupyter-widgets/base",
            "overflow": null,
            "_model_module_version": "1.2.0",
            "_view_count": null,
            "flex_flow": null,
            "width": null,
            "min_width": null,
            "border": null,
            "align_items": null,
            "bottom": null,
            "_model_module": "@jupyter-widgets/base",
            "top": null,
            "grid_column": null,
            "overflow_y": null,
            "overflow_x": null,
            "grid_auto_flow": null,
            "grid_area": null,
            "grid_template_columns": null,
            "flex": null,
            "_model_name": "LayoutModel",
            "justify_items": null,
            "grid_row": null,
            "max_height": null,
            "align_content": null,
            "visibility": null,
            "align_self": null,
            "height": null,
            "min_height": null,
            "padding": null,
            "grid_auto_rows": null,
            "grid_gap": null,
            "max_width": null,
            "order": null,
            "_view_module_version": "1.2.0",
            "grid_template_areas": null,
            "object_position": null,
            "object_fit": null,
            "grid_auto_columns": null,
            "margin": null,
            "display": null,
            "left": null
          }
        }
      }
    }
  },
  "cells": [
    {
      "cell_type": "markdown",
      "metadata": {
        "id": "H4atob3xx3Xe"
      },
      "source": [
        "# Auth"
      ]
    },
    {
      "cell_type": "code",
      "metadata": {
        "colab": {
          "base_uri": "https://localhost:8080/"
        },
        "id": "AJHyB8skx478",
        "outputId": "0a83eecf-34b0-46b0-bd80-3ec1a67a04e4"
      },
      "source": [
        "!gcloud auth login"
      ],
      "execution_count": 2,
      "outputs": [
        {
          "output_type": "stream",
          "text": [
            "Go to the following link in your browser:\n",
            "\n",
            "    https://accounts.google.com/o/oauth2/auth?response_type=code&client_id=32555940559.apps.googleusercontent.com&redirect_uri=urn%3Aietf%3Awg%3Aoauth%3A2.0%3Aoob&scope=openid+https%3A%2F%2Fwww.googleapis.com%2Fauth%2Fuserinfo.email+https%3A%2F%2Fwww.googleapis.com%2Fauth%2Fcloud-platform+https%3A%2F%2Fwww.googleapis.com%2Fauth%2Fappengine.admin+https%3A%2F%2Fwww.googleapis.com%2Fauth%2Fcompute+https%3A%2F%2Fwww.googleapis.com%2Fauth%2Faccounts.reauth&state=IzfaRcrvEB1YVhbmefPtYRrrfU4Jlk&prompt=consent&access_type=offline&code_challenge=Fg0IY9ayLGKr0MCYplwwBrmFs97VxUbg1tTIzpj3cF0&code_challenge_method=S256\n",
            "\n",
            "Enter verification code: 4/1AX4XfWg3-UPLgtFOINn9OGe9LbDXRdg-ZtDockb9Gf6Fx7KmGHxfOq5fdSI\n",
            "\n",
            "You are now logged in as [srishtimehra@berkeley.edu].\n",
            "Your current project is [None].  You can change this setting by running:\n",
            "  $ gcloud config set project PROJECT_ID\n",
            "\n",
            "\n",
            "To take a quick anonymous survey, run:\n",
            "  $ gcloud survey\n",
            "\n"
          ],
          "name": "stdout"
        }
      ]
    },
    {
      "cell_type": "code",
      "metadata": {
        "colab": {
          "base_uri": "https://localhost:8080/"
        },
        "id": "XCK0Fmm3x8UC",
        "outputId": "22ffa236-2542-414f-d89f-0f14c27c75c7"
      },
      "source": [
        "!gcloud auth application-default login"
      ],
      "execution_count": 3,
      "outputs": [
        {
          "output_type": "stream",
          "text": [
            "Go to the following link in your browser:\n",
            "\n",
            "    https://accounts.google.com/o/oauth2/auth?response_type=code&client_id=764086051850-6qr4p6gpi6hn506pt8ejuq83di341hur.apps.googleusercontent.com&redirect_uri=urn%3Aietf%3Awg%3Aoauth%3A2.0%3Aoob&scope=openid+https%3A%2F%2Fwww.googleapis.com%2Fauth%2Fuserinfo.email+https%3A%2F%2Fwww.googleapis.com%2Fauth%2Fcloud-platform+https%3A%2F%2Fwww.googleapis.com%2Fauth%2Faccounts.reauth&state=BBXX8nxPH2HGCsLIDVc5ivyDkXYwMM&prompt=consent&access_type=offline&code_challenge=KO8tTrO4oHaYiZqQmdHs-fRPFT11MPtBSkIO5fr5Xn0&code_challenge_method=S256\n",
            "\n",
            "Enter verification code: 4/1AX4XfWgSHYSUS3R3uwypSPWteqgNbZwvIi95ZYQTcGIYBzLs0g15pr0uho4\n",
            "\n",
            "Credentials saved to file: [/content/.config/application_default_credentials.json]\n",
            "\n",
            "These credentials will be used by any library that requests Application Default Credentials (ADC).\n",
            "\u001b[1;33mWARNING:\u001b[0m \n",
            "Cannot find a quota project to add to ADC. You might receive a \"quota exceeded\" or \"API not enabled\" error. Run $ gcloud auth application-default set-quota-project to add a quota project.\n"
          ],
          "name": "stdout"
        }
      ]
    },
    {
      "cell_type": "markdown",
      "metadata": {
        "id": "Nyjo68RL0ZHn"
      },
      "source": [
        "#Install"
      ]
    },
    {
      "cell_type": "code",
      "metadata": {
        "colab": {
          "base_uri": "https://localhost:8080/"
        },
        "id": "PrNVdb270dCu",
        "outputId": "88c6a2bf-013e-4223-98a6-ed62d1c76bb2"
      },
      "source": [
        "!apt-get install python3-pypdf2"
      ],
      "execution_count": 4,
      "outputs": [
        {
          "output_type": "stream",
          "text": [
            "Reading package lists... Done\n",
            "Building dependency tree       \n",
            "Reading state information... Done\n",
            "The following NEW packages will be installed:\n",
            "  python3-pypdf2\n",
            "0 upgraded, 1 newly installed, 0 to remove and 40 not upgraded.\n",
            "Need to get 49.2 kB of archives.\n",
            "After this operation, 263 kB of additional disk space will be used.\n",
            "Get:1 http://archive.ubuntu.com/ubuntu bionic/universe amd64 python3-pypdf2 all 1.26.0-2 [49.2 kB]\n",
            "Fetched 49.2 kB in 0s (797 kB/s)\n",
            "Selecting previously unselected package python3-pypdf2.\n",
            "(Reading database ... 160837 files and directories currently installed.)\n",
            "Preparing to unpack .../python3-pypdf2_1.26.0-2_all.deb ...\n",
            "Unpacking python3-pypdf2 (1.26.0-2) ...\n",
            "Setting up python3-pypdf2 (1.26.0-2) ...\n"
          ],
          "name": "stdout"
        }
      ]
    },
    {
      "cell_type": "code",
      "metadata": {
        "colab": {
          "base_uri": "https://localhost:8080/"
        },
        "id": "p8oop9anhZ1v",
        "outputId": "1a96d0d7-fd46-4ff6-b826-e1e3cb045058"
      },
      "source": [
        "!pip install spacy"
      ],
      "execution_count": 5,
      "outputs": [
        {
          "output_type": "stream",
          "text": [
            "Requirement already satisfied: spacy in /usr/local/lib/python3.7/dist-packages (2.2.4)\n",
            "Requirement already satisfied: murmurhash<1.1.0,>=0.28.0 in /usr/local/lib/python3.7/dist-packages (from spacy) (1.0.5)\n",
            "Requirement already satisfied: cymem<2.1.0,>=2.0.2 in /usr/local/lib/python3.7/dist-packages (from spacy) (2.0.5)\n",
            "Requirement already satisfied: numpy>=1.15.0 in /usr/local/lib/python3.7/dist-packages (from spacy) (1.19.5)\n",
            "Requirement already satisfied: preshed<3.1.0,>=3.0.2 in /usr/local/lib/python3.7/dist-packages (from spacy) (3.0.5)\n",
            "Requirement already satisfied: wasabi<1.1.0,>=0.4.0 in /usr/local/lib/python3.7/dist-packages (from spacy) (0.8.2)\n",
            "Requirement already satisfied: srsly<1.1.0,>=1.0.2 in /usr/local/lib/python3.7/dist-packages (from spacy) (1.0.5)\n",
            "Requirement already satisfied: tqdm<5.0.0,>=4.38.0 in /usr/local/lib/python3.7/dist-packages (from spacy) (4.41.1)\n",
            "Requirement already satisfied: requests<3.0.0,>=2.13.0 in /usr/local/lib/python3.7/dist-packages (from spacy) (2.23.0)\n",
            "Requirement already satisfied: catalogue<1.1.0,>=0.0.7 in /usr/local/lib/python3.7/dist-packages (from spacy) (1.0.0)\n",
            "Requirement already satisfied: thinc==7.4.0 in /usr/local/lib/python3.7/dist-packages (from spacy) (7.4.0)\n",
            "Requirement already satisfied: blis<0.5.0,>=0.4.0 in /usr/local/lib/python3.7/dist-packages (from spacy) (0.4.1)\n",
            "Requirement already satisfied: plac<1.2.0,>=0.9.6 in /usr/local/lib/python3.7/dist-packages (from spacy) (1.1.3)\n",
            "Requirement already satisfied: setuptools in /usr/local/lib/python3.7/dist-packages (from spacy) (57.2.0)\n",
            "Requirement already satisfied: importlib-metadata>=0.20 in /usr/local/lib/python3.7/dist-packages (from catalogue<1.1.0,>=0.0.7->spacy) (4.6.1)\n",
            "Requirement already satisfied: typing-extensions>=3.6.4 in /usr/local/lib/python3.7/dist-packages (from importlib-metadata>=0.20->catalogue<1.1.0,>=0.0.7->spacy) (3.7.4.3)\n",
            "Requirement already satisfied: zipp>=0.5 in /usr/local/lib/python3.7/dist-packages (from importlib-metadata>=0.20->catalogue<1.1.0,>=0.0.7->spacy) (3.5.0)\n",
            "Requirement already satisfied: idna<3,>=2.5 in /usr/local/lib/python3.7/dist-packages (from requests<3.0.0,>=2.13.0->spacy) (2.10)\n",
            "Requirement already satisfied: chardet<4,>=3.0.2 in /usr/local/lib/python3.7/dist-packages (from requests<3.0.0,>=2.13.0->spacy) (3.0.4)\n",
            "Requirement already satisfied: urllib3!=1.25.0,!=1.25.1,<1.26,>=1.21.1 in /usr/local/lib/python3.7/dist-packages (from requests<3.0.0,>=2.13.0->spacy) (1.24.3)\n",
            "Requirement already satisfied: certifi>=2017.4.17 in /usr/local/lib/python3.7/dist-packages (from requests<3.0.0,>=2.13.0->spacy) (2021.5.30)\n"
          ],
          "name": "stdout"
        }
      ]
    },
    {
      "cell_type": "code",
      "metadata": {
        "colab": {
          "base_uri": "https://localhost:8080/"
        },
        "id": "SKSecixShdCc",
        "outputId": "e714ba87-26b5-4c38-cf1b-45daba820e37"
      },
      "source": [
        "!pip install gensim"
      ],
      "execution_count": 6,
      "outputs": [
        {
          "output_type": "stream",
          "text": [
            "Requirement already satisfied: gensim in /usr/local/lib/python3.7/dist-packages (3.6.0)\n",
            "Requirement already satisfied: numpy>=1.11.3 in /usr/local/lib/python3.7/dist-packages (from gensim) (1.19.5)\n",
            "Requirement already satisfied: six>=1.5.0 in /usr/local/lib/python3.7/dist-packages (from gensim) (1.15.0)\n",
            "Requirement already satisfied: scipy>=0.18.1 in /usr/local/lib/python3.7/dist-packages (from gensim) (1.4.1)\n",
            "Requirement already satisfied: smart-open>=1.2.1 in /usr/local/lib/python3.7/dist-packages (from gensim) (5.1.0)\n"
          ],
          "name": "stdout"
        }
      ]
    },
    {
      "cell_type": "code",
      "metadata": {
        "colab": {
          "base_uri": "https://localhost:8080/"
        },
        "id": "Ya_Q1I8yhhbi",
        "outputId": "a14e518f-3c19-4b0c-9c07-6c6fd90c54d9"
      },
      "source": [
        "!pip install mlflow"
      ],
      "execution_count": 7,
      "outputs": [
        {
          "output_type": "stream",
          "text": [
            "Collecting mlflow\n",
            "  Downloading mlflow-1.19.0-py3-none-any.whl (14.4 MB)\n",
            "\u001b[K     |████████████████████████████████| 14.4 MB 11.3 MB/s \n",
            "\u001b[?25hRequirement already satisfied: cloudpickle in /usr/local/lib/python3.7/dist-packages (from mlflow) (1.3.0)\n",
            "Requirement already satisfied: sqlparse>=0.3.1 in /usr/local/lib/python3.7/dist-packages (from mlflow) (0.4.1)\n",
            "Requirement already satisfied: pandas in /usr/local/lib/python3.7/dist-packages (from mlflow) (1.1.5)\n",
            "Requirement already satisfied: requests>=2.17.3 in /usr/local/lib/python3.7/dist-packages (from mlflow) (2.23.0)\n",
            "Requirement already satisfied: entrypoints in /usr/local/lib/python3.7/dist-packages (from mlflow) (0.3)\n",
            "Collecting prometheus-flask-exporter\n",
            "  Downloading prometheus_flask_exporter-0.18.2.tar.gz (22 kB)\n",
            "Requirement already satisfied: pytz in /usr/local/lib/python3.7/dist-packages (from mlflow) (2018.9)\n",
            "Requirement already satisfied: sqlalchemy in /usr/local/lib/python3.7/dist-packages (from mlflow) (1.4.20)\n",
            "Collecting alembic<=1.4.1\n",
            "  Downloading alembic-1.4.1.tar.gz (1.1 MB)\n",
            "\u001b[K     |████████████████████████████████| 1.1 MB 57.0 MB/s \n",
            "\u001b[?25hCollecting databricks-cli>=0.8.7\n",
            "  Downloading databricks-cli-0.14.3.tar.gz (54 kB)\n",
            "\u001b[K     |████████████████████████████████| 54 kB 3.6 MB/s \n",
            "\u001b[?25hRequirement already satisfied: Flask in /usr/local/lib/python3.7/dist-packages (from mlflow) (1.1.4)\n",
            "Requirement already satisfied: protobuf>=3.7.0 in /usr/local/lib/python3.7/dist-packages (from mlflow) (3.17.3)\n",
            "Collecting querystring-parser\n",
            "  Downloading querystring_parser-1.2.4-py2.py3-none-any.whl (7.9 kB)\n",
            "Collecting docker>=4.0.0\n",
            "  Downloading docker-5.0.0-py2.py3-none-any.whl (146 kB)\n",
            "\u001b[K     |████████████████████████████████| 146 kB 60.2 MB/s \n",
            "\u001b[?25hRequirement already satisfied: click>=7.0 in /usr/local/lib/python3.7/dist-packages (from mlflow) (7.1.2)\n",
            "Requirement already satisfied: packaging in /usr/local/lib/python3.7/dist-packages (from mlflow) (21.0)\n",
            "Collecting gunicorn\n",
            "  Downloading gunicorn-20.1.0-py3-none-any.whl (79 kB)\n",
            "\u001b[K     |████████████████████████████████| 79 kB 10.0 MB/s \n",
            "\u001b[?25hRequirement already satisfied: numpy in /usr/local/lib/python3.7/dist-packages (from mlflow) (1.19.5)\n",
            "Collecting pyyaml>=5.1\n",
            "  Downloading PyYAML-5.4.1-cp37-cp37m-manylinux1_x86_64.whl (636 kB)\n",
            "\u001b[K     |████████████████████████████████| 636 kB 83.0 MB/s \n",
            "\u001b[?25hCollecting gitpython>=2.1.0\n",
            "  Downloading GitPython-3.1.18-py3-none-any.whl (170 kB)\n",
            "\u001b[K     |████████████████████████████████| 170 kB 92.4 MB/s \n",
            "\u001b[?25hCollecting Mako\n",
            "  Downloading Mako-1.1.4-py2.py3-none-any.whl (75 kB)\n",
            "\u001b[K     |████████████████████████████████| 75 kB 5.9 MB/s \n",
            "\u001b[?25hCollecting python-editor>=0.3\n",
            "  Downloading python_editor-1.0.4-py3-none-any.whl (4.9 kB)\n",
            "Requirement already satisfied: python-dateutil in /usr/local/lib/python3.7/dist-packages (from alembic<=1.4.1->mlflow) (2.8.1)\n",
            "Requirement already satisfied: tabulate>=0.7.7 in /usr/local/lib/python3.7/dist-packages (from databricks-cli>=0.8.7->mlflow) (0.8.9)\n",
            "Requirement already satisfied: six>=1.10.0 in /usr/local/lib/python3.7/dist-packages (from databricks-cli>=0.8.7->mlflow) (1.15.0)\n",
            "Collecting websocket-client>=0.32.0\n",
            "  Downloading websocket_client-1.1.0-py2.py3-none-any.whl (68 kB)\n",
            "\u001b[K     |████████████████████████████████| 68 kB 8.6 MB/s \n",
            "\u001b[?25hRequirement already satisfied: typing-extensions>=3.7.4.0 in /usr/local/lib/python3.7/dist-packages (from gitpython>=2.1.0->mlflow) (3.7.4.3)\n",
            "Collecting gitdb<5,>=4.0.1\n",
            "  Downloading gitdb-4.0.7-py3-none-any.whl (63 kB)\n",
            "\u001b[K     |████████████████████████████████| 63 kB 2.3 MB/s \n",
            "\u001b[?25hCollecting smmap<5,>=3.0.1\n",
            "  Downloading smmap-4.0.0-py2.py3-none-any.whl (24 kB)\n",
            "Requirement already satisfied: idna<3,>=2.5 in /usr/local/lib/python3.7/dist-packages (from requests>=2.17.3->mlflow) (2.10)\n",
            "Requirement already satisfied: urllib3!=1.25.0,!=1.25.1,<1.26,>=1.21.1 in /usr/local/lib/python3.7/dist-packages (from requests>=2.17.3->mlflow) (1.24.3)\n",
            "Requirement already satisfied: chardet<4,>=3.0.2 in /usr/local/lib/python3.7/dist-packages (from requests>=2.17.3->mlflow) (3.0.4)\n",
            "Requirement already satisfied: certifi>=2017.4.17 in /usr/local/lib/python3.7/dist-packages (from requests>=2.17.3->mlflow) (2021.5.30)\n",
            "Requirement already satisfied: greenlet!=0.4.17 in /usr/local/lib/python3.7/dist-packages (from sqlalchemy->mlflow) (1.1.0)\n",
            "Requirement already satisfied: importlib-metadata in /usr/local/lib/python3.7/dist-packages (from sqlalchemy->mlflow) (4.6.1)\n",
            "Requirement already satisfied: Werkzeug<2.0,>=0.15 in /usr/local/lib/python3.7/dist-packages (from Flask->mlflow) (1.0.1)\n",
            "Requirement already satisfied: itsdangerous<2.0,>=0.24 in /usr/local/lib/python3.7/dist-packages (from Flask->mlflow) (1.1.0)\n",
            "Requirement already satisfied: Jinja2<3.0,>=2.10.1 in /usr/local/lib/python3.7/dist-packages (from Flask->mlflow) (2.11.3)\n",
            "Requirement already satisfied: MarkupSafe>=0.23 in /usr/local/lib/python3.7/dist-packages (from Jinja2<3.0,>=2.10.1->Flask->mlflow) (2.0.1)\n",
            "Requirement already satisfied: setuptools>=3.0 in /usr/local/lib/python3.7/dist-packages (from gunicorn->mlflow) (57.2.0)\n",
            "Requirement already satisfied: zipp>=0.5 in /usr/local/lib/python3.7/dist-packages (from importlib-metadata->sqlalchemy->mlflow) (3.5.0)\n",
            "Requirement already satisfied: pyparsing>=2.0.2 in /usr/local/lib/python3.7/dist-packages (from packaging->mlflow) (2.4.7)\n",
            "Requirement already satisfied: prometheus_client in /usr/local/lib/python3.7/dist-packages (from prometheus-flask-exporter->mlflow) (0.11.0)\n",
            "Building wheels for collected packages: alembic, databricks-cli, prometheus-flask-exporter\n",
            "  Building wheel for alembic (setup.py) ... \u001b[?25l\u001b[?25hdone\n",
            "  Created wheel for alembic: filename=alembic-1.4.1-py2.py3-none-any.whl size=158170 sha256=5f74c871817e357d769c04e81d4e6edb6127135e684df10b0406185bd2cbfcbe\n",
            "  Stored in directory: /root/.cache/pip/wheels/be/5d/0a/9e13f53f4f5dfb67cd8d245bb7cdffe12f135846f491a283e3\n",
            "  Building wheel for databricks-cli (setup.py) ... \u001b[?25l\u001b[?25hdone\n",
            "  Created wheel for databricks-cli: filename=databricks_cli-0.14.3-py3-none-any.whl size=100557 sha256=0f68c912ab8063e96674b53da3e987238db80efeaa148f8f7307ebe874f1b40e\n",
            "  Stored in directory: /root/.cache/pip/wheels/3b/60/14/6930445b08959fbdf4e3029bac7e1f2cccb2e94df8afa00b29\n",
            "  Building wheel for prometheus-flask-exporter (setup.py) ... \u001b[?25l\u001b[?25hdone\n",
            "  Created wheel for prometheus-flask-exporter: filename=prometheus_flask_exporter-0.18.2-py3-none-any.whl size=17416 sha256=e61475a79a7ed762632c6671ebccc3baa6b97271b3c9088ded2bd06c3a529137\n",
            "  Stored in directory: /root/.cache/pip/wheels/6a/1e/1c/c765920cb92b2f0343d2dd8b481a407cee2823f9b4bbd2e52a\n",
            "Successfully built alembic databricks-cli prometheus-flask-exporter\n",
            "Installing collected packages: smmap, websocket-client, python-editor, Mako, gitdb, querystring-parser, pyyaml, prometheus-flask-exporter, gunicorn, gitpython, docker, databricks-cli, alembic, mlflow\n",
            "  Attempting uninstall: pyyaml\n",
            "    Found existing installation: PyYAML 3.13\n",
            "    Uninstalling PyYAML-3.13:\n",
            "      Successfully uninstalled PyYAML-3.13\n",
            "Successfully installed Mako-1.1.4 alembic-1.4.1 databricks-cli-0.14.3 docker-5.0.0 gitdb-4.0.7 gitpython-3.1.18 gunicorn-20.1.0 mlflow-1.19.0 prometheus-flask-exporter-0.18.2 python-editor-1.0.4 pyyaml-5.4.1 querystring-parser-1.2.4 smmap-4.0.0 websocket-client-1.1.0\n"
          ],
          "name": "stdout"
        }
      ]
    },
    {
      "cell_type": "code",
      "metadata": {
        "id": "l9P40JYa0fwX"
      },
      "source": [
        "!pip install -U -q PyDrive"
      ],
      "execution_count": 8,
      "outputs": []
    },
    {
      "cell_type": "code",
      "metadata": {
        "colab": {
          "base_uri": "https://localhost:8080/"
        },
        "id": "vTyH-TTQ0xpz",
        "outputId": "58192155-7927-49d6-c2b7-36d3a1def142"
      },
      "source": [
        "!pip install sentence-transformers"
      ],
      "execution_count": 9,
      "outputs": [
        {
          "output_type": "stream",
          "text": [
            "Collecting sentence-transformers\n",
            "  Downloading sentence-transformers-2.0.0.tar.gz (85 kB)\n",
            "\u001b[K     |████████████████████████████████| 85 kB 4.0 MB/s \n",
            "\u001b[?25hCollecting transformers<5.0.0,>=4.6.0\n",
            "  Downloading transformers-4.9.1-py3-none-any.whl (2.6 MB)\n",
            "\u001b[K     |████████████████████████████████| 2.6 MB 59.0 MB/s \n",
            "\u001b[?25hRequirement already satisfied: tqdm in /usr/local/lib/python3.7/dist-packages (from sentence-transformers) (4.41.1)\n",
            "Requirement already satisfied: torch>=1.6.0 in /usr/local/lib/python3.7/dist-packages (from sentence-transformers) (1.9.0+cu102)\n",
            "Requirement already satisfied: torchvision in /usr/local/lib/python3.7/dist-packages (from sentence-transformers) (0.10.0+cu102)\n",
            "Requirement already satisfied: numpy in /usr/local/lib/python3.7/dist-packages (from sentence-transformers) (1.19.5)\n",
            "Requirement already satisfied: scikit-learn in /usr/local/lib/python3.7/dist-packages (from sentence-transformers) (0.22.2.post1)\n",
            "Requirement already satisfied: scipy in /usr/local/lib/python3.7/dist-packages (from sentence-transformers) (1.4.1)\n",
            "Requirement already satisfied: nltk in /usr/local/lib/python3.7/dist-packages (from sentence-transformers) (3.2.5)\n",
            "Collecting sentencepiece\n",
            "  Downloading sentencepiece-0.1.96-cp37-cp37m-manylinux_2_17_x86_64.manylinux2014_x86_64.whl (1.2 MB)\n",
            "\u001b[K     |████████████████████████████████| 1.2 MB 66.5 MB/s \n",
            "\u001b[?25hCollecting huggingface-hub\n",
            "  Downloading huggingface_hub-0.0.15-py3-none-any.whl (43 kB)\n",
            "\u001b[K     |████████████████████████████████| 43 kB 2.5 MB/s \n",
            "\u001b[?25hRequirement already satisfied: typing-extensions in /usr/local/lib/python3.7/dist-packages (from torch>=1.6.0->sentence-transformers) (3.7.4.3)\n",
            "Collecting sacremoses\n",
            "  Downloading sacremoses-0.0.45-py3-none-any.whl (895 kB)\n",
            "\u001b[K     |████████████████████████████████| 895 kB 62.2 MB/s \n",
            "\u001b[?25hRequirement already satisfied: importlib-metadata in /usr/local/lib/python3.7/dist-packages (from transformers<5.0.0,>=4.6.0->sentence-transformers) (4.6.1)\n",
            "Collecting tokenizers<0.11,>=0.10.1\n",
            "  Downloading tokenizers-0.10.3-cp37-cp37m-manylinux_2_5_x86_64.manylinux1_x86_64.manylinux_2_12_x86_64.manylinux2010_x86_64.whl (3.3 MB)\n",
            "\u001b[K     |████████████████████████████████| 3.3 MB 51.5 MB/s \n",
            "\u001b[?25hRequirement already satisfied: pyyaml>=5.1 in /usr/local/lib/python3.7/dist-packages (from transformers<5.0.0,>=4.6.0->sentence-transformers) (5.4.1)\n",
            "Collecting huggingface-hub\n",
            "  Downloading huggingface_hub-0.0.12-py3-none-any.whl (37 kB)\n",
            "Requirement already satisfied: requests in /usr/local/lib/python3.7/dist-packages (from transformers<5.0.0,>=4.6.0->sentence-transformers) (2.23.0)\n",
            "Requirement already satisfied: regex!=2019.12.17 in /usr/local/lib/python3.7/dist-packages (from transformers<5.0.0,>=4.6.0->sentence-transformers) (2019.12.20)\n",
            "Requirement already satisfied: filelock in /usr/local/lib/python3.7/dist-packages (from transformers<5.0.0,>=4.6.0->sentence-transformers) (3.0.12)\n",
            "Requirement already satisfied: packaging in /usr/local/lib/python3.7/dist-packages (from transformers<5.0.0,>=4.6.0->sentence-transformers) (21.0)\n",
            "Requirement already satisfied: pyparsing>=2.0.2 in /usr/local/lib/python3.7/dist-packages (from packaging->transformers<5.0.0,>=4.6.0->sentence-transformers) (2.4.7)\n",
            "Requirement already satisfied: zipp>=0.5 in /usr/local/lib/python3.7/dist-packages (from importlib-metadata->transformers<5.0.0,>=4.6.0->sentence-transformers) (3.5.0)\n",
            "Requirement already satisfied: six in /usr/local/lib/python3.7/dist-packages (from nltk->sentence-transformers) (1.15.0)\n",
            "Requirement already satisfied: certifi>=2017.4.17 in /usr/local/lib/python3.7/dist-packages (from requests->transformers<5.0.0,>=4.6.0->sentence-transformers) (2021.5.30)\n",
            "Requirement already satisfied: idna<3,>=2.5 in /usr/local/lib/python3.7/dist-packages (from requests->transformers<5.0.0,>=4.6.0->sentence-transformers) (2.10)\n",
            "Requirement already satisfied: chardet<4,>=3.0.2 in /usr/local/lib/python3.7/dist-packages (from requests->transformers<5.0.0,>=4.6.0->sentence-transformers) (3.0.4)\n",
            "Requirement already satisfied: urllib3!=1.25.0,!=1.25.1,<1.26,>=1.21.1 in /usr/local/lib/python3.7/dist-packages (from requests->transformers<5.0.0,>=4.6.0->sentence-transformers) (1.24.3)\n",
            "Requirement already satisfied: joblib in /usr/local/lib/python3.7/dist-packages (from sacremoses->transformers<5.0.0,>=4.6.0->sentence-transformers) (1.0.1)\n",
            "Requirement already satisfied: click in /usr/local/lib/python3.7/dist-packages (from sacremoses->transformers<5.0.0,>=4.6.0->sentence-transformers) (7.1.2)\n",
            "Requirement already satisfied: pillow>=5.3.0 in /usr/local/lib/python3.7/dist-packages (from torchvision->sentence-transformers) (7.1.2)\n",
            "Building wheels for collected packages: sentence-transformers\n",
            "  Building wheel for sentence-transformers (setup.py) ... \u001b[?25l\u001b[?25hdone\n",
            "  Created wheel for sentence-transformers: filename=sentence_transformers-2.0.0-py3-none-any.whl size=126709 sha256=61534b181de0723cfcf5e3fafcc93e89a7b43629d30e81e99cd4dd97dc4f17aa\n",
            "  Stored in directory: /root/.cache/pip/wheels/d1/c1/0f/faafd427f705c4b012274ba60d9a91d75830306811e1355293\n",
            "Successfully built sentence-transformers\n",
            "Installing collected packages: tokenizers, sacremoses, huggingface-hub, transformers, sentencepiece, sentence-transformers\n",
            "Successfully installed huggingface-hub-0.0.12 sacremoses-0.0.45 sentence-transformers-2.0.0 sentencepiece-0.1.96 tokenizers-0.10.3 transformers-4.9.1\n"
          ],
          "name": "stdout"
        }
      ]
    },
    {
      "cell_type": "code",
      "metadata": {
        "colab": {
          "base_uri": "https://localhost:8080/"
        },
        "id": "6_nUX6xl02ov",
        "outputId": "fd0bc73a-4346-49e0-9368-1a767f2986d9"
      },
      "source": [
        "!pip install cloudstorage"
      ],
      "execution_count": 10,
      "outputs": [
        {
          "output_type": "stream",
          "text": [
            "Collecting cloudstorage\n",
            "  Downloading cloudstorage-0.11.0-py3-none-any.whl (54 kB)\n",
            "\u001b[?25l\r\u001b[K     |██████                          | 10 kB 37.7 MB/s eta 0:00:01\r\u001b[K     |████████████                    | 20 kB 36.2 MB/s eta 0:00:01\r\u001b[K     |██████████████████▏             | 30 kB 21.5 MB/s eta 0:00:01\r\u001b[K     |████████████████████████▏       | 40 kB 17.9 MB/s eta 0:00:01\r\u001b[K     |██████████████████████████████▏ | 51 kB 17.0 MB/s eta 0:00:01\r\u001b[K     |████████████████████████████████| 54 kB 2.7 MB/s \n",
            "\u001b[?25hRequirement already satisfied: python-dateutil>=2.7.3 in /usr/local/lib/python3.7/dist-packages (from cloudstorage) (2.8.1)\n",
            "Collecting python-magic>=0.4.15\n",
            "  Downloading python_magic-0.4.24-py2.py3-none-any.whl (12 kB)\n",
            "Collecting inflection>=0.3.1\n",
            "  Downloading inflection-0.5.1-py2.py3-none-any.whl (9.5 kB)\n",
            "Requirement already satisfied: six>=1.5 in /usr/local/lib/python3.7/dist-packages (from python-dateutil>=2.7.3->cloudstorage) (1.15.0)\n",
            "Installing collected packages: python-magic, inflection, cloudstorage\n",
            "Successfully installed cloudstorage-0.11.0 inflection-0.5.1 python-magic-0.4.24\n"
          ],
          "name": "stdout"
        }
      ]
    },
    {
      "cell_type": "code",
      "metadata": {
        "colab": {
          "base_uri": "https://localhost:8080/"
        },
        "id": "SH5FaZ6S09QR",
        "outputId": "c7d6ea1a-f1f2-417b-cc16-20c507fedb64"
      },
      "source": [
        "!pip install webapp2"
      ],
      "execution_count": 11,
      "outputs": [
        {
          "output_type": "stream",
          "text": [
            "Collecting webapp2\n",
            "  Downloading webapp2-2.5.2.zip (243 kB)\n",
            "\u001b[?25l\r\u001b[K     |█▍                              | 10 kB 37.7 MB/s eta 0:00:01\r\u001b[K     |██▊                             | 20 kB 38.9 MB/s eta 0:00:01\r\u001b[K     |████                            | 30 kB 39.2 MB/s eta 0:00:01\r\u001b[K     |█████▍                          | 40 kB 27.2 MB/s eta 0:00:01\r\u001b[K     |██████▊                         | 51 kB 17.4 MB/s eta 0:00:01\r\u001b[K     |████████                        | 61 kB 15.1 MB/s eta 0:00:01\r\u001b[K     |█████████▍                      | 71 kB 14.3 MB/s eta 0:00:01\r\u001b[K     |██████████▉                     | 81 kB 15.8 MB/s eta 0:00:01\r\u001b[K     |████████████▏                   | 92 kB 14.4 MB/s eta 0:00:01\r\u001b[K     |█████████████▌                  | 102 kB 13.4 MB/s eta 0:00:01\r\u001b[K     |██████████████▉                 | 112 kB 13.4 MB/s eta 0:00:01\r\u001b[K     |████████████████▏               | 122 kB 13.4 MB/s eta 0:00:01\r\u001b[K     |█████████████████▌              | 133 kB 13.4 MB/s eta 0:00:01\r\u001b[K     |██████████████████▉             | 143 kB 13.4 MB/s eta 0:00:01\r\u001b[K     |████████████████████▏           | 153 kB 13.4 MB/s eta 0:00:01\r\u001b[K     |█████████████████████▋          | 163 kB 13.4 MB/s eta 0:00:01\r\u001b[K     |███████████████████████         | 174 kB 13.4 MB/s eta 0:00:01\r\u001b[K     |████████████████████████▎       | 184 kB 13.4 MB/s eta 0:00:01\r\u001b[K     |█████████████████████████▋      | 194 kB 13.4 MB/s eta 0:00:01\r\u001b[K     |███████████████████████████     | 204 kB 13.4 MB/s eta 0:00:01\r\u001b[K     |████████████████████████████▎   | 215 kB 13.4 MB/s eta 0:00:01\r\u001b[K     |█████████████████████████████▋  | 225 kB 13.4 MB/s eta 0:00:01\r\u001b[K     |███████████████████████████████ | 235 kB 13.4 MB/s eta 0:00:01\r\u001b[K     |████████████████████████████████| 243 kB 13.4 MB/s \n",
            "\u001b[?25hBuilding wheels for collected packages: webapp2\n",
            "  Building wheel for webapp2 (setup.py) ... \u001b[?25l\u001b[?25hdone\n",
            "  Created wheel for webapp2: filename=webapp2-2.5.2-py3-none-any.whl size=64842 sha256=cc2746b913b393e0323032b52da15c23050fc7f40b213c671690e412efda25fa\n",
            "  Stored in directory: /root/.cache/pip/wheels/5e/b2/a4/d6d1ce12a65c39f47c390d74e273ea0c9f71f51451464b7183\n",
            "Successfully built webapp2\n",
            "Installing collected packages: webapp2\n",
            "Successfully installed webapp2-2.5.2\n"
          ],
          "name": "stdout"
        }
      ]
    },
    {
      "cell_type": "code",
      "metadata": {
        "colab": {
          "base_uri": "https://localhost:8080/"
        },
        "id": "Q2apH3870_s7",
        "outputId": "89c6974f-b6ba-4607-f234-24a06c0abf4e"
      },
      "source": [
        "!pip install fsspec"
      ],
      "execution_count": 12,
      "outputs": [
        {
          "output_type": "stream",
          "text": [
            "Collecting fsspec\n",
            "  Downloading fsspec-2021.7.0-py3-none-any.whl (118 kB)\n",
            "\u001b[?25l\r\u001b[K     |██▊                             | 10 kB 30.6 MB/s eta 0:00:01\r\u001b[K     |█████▌                          | 20 kB 35.1 MB/s eta 0:00:01\r\u001b[K     |████████▎                       | 30 kB 38.7 MB/s eta 0:00:01\r\u001b[K     |███████████                     | 40 kB 23.8 MB/s eta 0:00:01\r\u001b[K     |█████████████▉                  | 51 kB 16.7 MB/s eta 0:00:01\r\u001b[K     |████████████████▋               | 61 kB 13.4 MB/s eta 0:00:01\r\u001b[K     |███████████████████▍            | 71 kB 13.1 MB/s eta 0:00:01\r\u001b[K     |██████████████████████▏         | 81 kB 14.4 MB/s eta 0:00:01\r\u001b[K     |█████████████████████████       | 92 kB 13.7 MB/s eta 0:00:01\r\u001b[K     |███████████████████████████▊    | 102 kB 12.3 MB/s eta 0:00:01\r\u001b[K     |██████████████████████████████▌ | 112 kB 12.3 MB/s eta 0:00:01\r\u001b[K     |████████████████████████████████| 118 kB 12.3 MB/s \n",
            "\u001b[?25hInstalling collected packages: fsspec\n",
            "Successfully installed fsspec-2021.7.0\n"
          ],
          "name": "stdout"
        }
      ]
    },
    {
      "cell_type": "code",
      "metadata": {
        "colab": {
          "base_uri": "https://localhost:8080/"
        },
        "id": "mS3O8rY91CoP",
        "outputId": "42ed7bbb-8f09-48b3-9dcf-a7baaa176cff"
      },
      "source": [
        "!pip install gcsfs"
      ],
      "execution_count": 13,
      "outputs": [
        {
          "output_type": "stream",
          "text": [
            "Collecting gcsfs\n",
            "  Downloading gcsfs-2021.7.0-py2.py3-none-any.whl (23 kB)\n",
            "Requirement already satisfied: fsspec==2021.07.0 in /usr/local/lib/python3.7/dist-packages (from gcsfs) (2021.7.0)\n",
            "Requirement already satisfied: decorator in /usr/local/lib/python3.7/dist-packages (from gcsfs) (4.4.2)\n",
            "Requirement already satisfied: requests in /usr/local/lib/python3.7/dist-packages (from gcsfs) (2.23.0)\n",
            "Requirement already satisfied: google-auth>=1.2 in /usr/local/lib/python3.7/dist-packages (from gcsfs) (1.32.1)\n",
            "Requirement already satisfied: google-auth-oauthlib in /usr/local/lib/python3.7/dist-packages (from gcsfs) (0.4.4)\n",
            "Collecting aiohttp\n",
            "  Downloading aiohttp-3.7.4.post0-cp37-cp37m-manylinux2014_x86_64.whl (1.3 MB)\n",
            "\u001b[K     |████████████████████████████████| 1.3 MB 13.9 MB/s \n",
            "\u001b[?25hRequirement already satisfied: setuptools>=40.3.0 in /usr/local/lib/python3.7/dist-packages (from google-auth>=1.2->gcsfs) (57.2.0)\n",
            "Requirement already satisfied: pyasn1-modules>=0.2.1 in /usr/local/lib/python3.7/dist-packages (from google-auth>=1.2->gcsfs) (0.2.8)\n",
            "Requirement already satisfied: rsa<5,>=3.1.4 in /usr/local/lib/python3.7/dist-packages (from google-auth>=1.2->gcsfs) (4.7.2)\n",
            "Requirement already satisfied: cachetools<5.0,>=2.0.0 in /usr/local/lib/python3.7/dist-packages (from google-auth>=1.2->gcsfs) (4.2.2)\n",
            "Requirement already satisfied: six>=1.9.0 in /usr/local/lib/python3.7/dist-packages (from google-auth>=1.2->gcsfs) (1.15.0)\n",
            "Requirement already satisfied: pyasn1<0.5.0,>=0.4.6 in /usr/local/lib/python3.7/dist-packages (from pyasn1-modules>=0.2.1->google-auth>=1.2->gcsfs) (0.4.8)\n",
            "Collecting multidict<7.0,>=4.5\n",
            "  Downloading multidict-5.1.0-cp37-cp37m-manylinux2014_x86_64.whl (142 kB)\n",
            "\u001b[K     |████████████████████████████████| 142 kB 68.1 MB/s \n",
            "\u001b[?25hCollecting async-timeout<4.0,>=3.0\n",
            "  Downloading async_timeout-3.0.1-py3-none-any.whl (8.2 kB)\n",
            "Requirement already satisfied: attrs>=17.3.0 in /usr/local/lib/python3.7/dist-packages (from aiohttp->gcsfs) (21.2.0)\n",
            "Requirement already satisfied: typing-extensions>=3.6.5 in /usr/local/lib/python3.7/dist-packages (from aiohttp->gcsfs) (3.7.4.3)\n",
            "Collecting yarl<2.0,>=1.0\n",
            "  Downloading yarl-1.6.3-cp37-cp37m-manylinux2014_x86_64.whl (294 kB)\n",
            "\u001b[K     |████████████████████████████████| 294 kB 66.5 MB/s \n",
            "\u001b[?25hRequirement already satisfied: chardet<5.0,>=2.0 in /usr/local/lib/python3.7/dist-packages (from aiohttp->gcsfs) (3.0.4)\n",
            "Requirement already satisfied: idna>=2.0 in /usr/local/lib/python3.7/dist-packages (from yarl<2.0,>=1.0->aiohttp->gcsfs) (2.10)\n",
            "Requirement already satisfied: requests-oauthlib>=0.7.0 in /usr/local/lib/python3.7/dist-packages (from google-auth-oauthlib->gcsfs) (1.3.0)\n",
            "Requirement already satisfied: oauthlib>=3.0.0 in /usr/local/lib/python3.7/dist-packages (from requests-oauthlib>=0.7.0->google-auth-oauthlib->gcsfs) (3.1.1)\n",
            "Requirement already satisfied: certifi>=2017.4.17 in /usr/local/lib/python3.7/dist-packages (from requests->gcsfs) (2021.5.30)\n",
            "Requirement already satisfied: urllib3!=1.25.0,!=1.25.1,<1.26,>=1.21.1 in /usr/local/lib/python3.7/dist-packages (from requests->gcsfs) (1.24.3)\n",
            "Installing collected packages: multidict, yarl, async-timeout, aiohttp, gcsfs\n",
            "Successfully installed aiohttp-3.7.4.post0 async-timeout-3.0.1 gcsfs-2021.7.0 multidict-5.1.0 yarl-1.6.3\n"
          ],
          "name": "stdout"
        }
      ]
    },
    {
      "cell_type": "code",
      "metadata": {
        "colab": {
          "base_uri": "https://localhost:8080/"
        },
        "id": "PiwcRS5GgpUn",
        "outputId": "3cd35175-79dc-4381-886c-cc78b11de6ff"
      },
      "source": [
        "!pip install spark"
      ],
      "execution_count": 14,
      "outputs": [
        {
          "output_type": "stream",
          "text": [
            "Collecting spark\n",
            "  Downloading spark-0.2.1.tar.gz (41 kB)\n",
            "\u001b[?25l\r\u001b[K     |████████                        | 10 kB 31.2 MB/s eta 0:00:01\r\u001b[K     |████████████████                | 20 kB 37.4 MB/s eta 0:00:01\r\u001b[K     |████████████████████████        | 30 kB 40.9 MB/s eta 0:00:01\r\u001b[K     |████████████████████████████████| 40 kB 24.8 MB/s eta 0:00:01\r\u001b[K     |████████████████████████████████| 41 kB 69 kB/s \n",
            "\u001b[?25hBuilding wheels for collected packages: spark\n",
            "  Building wheel for spark (setup.py) ... \u001b[?25l\u001b[?25hdone\n",
            "  Created wheel for spark: filename=spark-0.2.1-py3-none-any.whl size=58762 sha256=ac7707c30e8b17d82e4b211349b1cae775fe89e55743baeb88d04335f888e37d\n",
            "  Stored in directory: /root/.cache/pip/wheels/4e/0e/f1/164619f9920fb447d294afaae11a7715bd442ded7225953d72\n",
            "Successfully built spark\n",
            "Installing collected packages: spark\n",
            "Successfully installed spark-0.2.1\n"
          ],
          "name": "stdout"
        }
      ]
    },
    {
      "cell_type": "markdown",
      "metadata": {
        "id": "SewhEFFrTDxx"
      },
      "source": [
        "# Import"
      ]
    },
    {
      "cell_type": "code",
      "metadata": {
        "id": "UYk9IiC47eE2"
      },
      "source": [
        "import pandas as pd\n",
        "import zipfile\n",
        "from google.colab import drive\n",
        "import re\n",
        "import time\n",
        "import glob\n",
        "import numpy as np\n",
        "import datetime as dt\n",
        "from calendar import monthrange\n",
        "import nltk\n",
        "import PyPDF2\n",
        "from sentence_transformers import SentenceTransformer\n",
        "import cloudstorage as gcs\n",
        "from sklearn.metrics.pairwise import cosine_similarity\n",
        "import matplotlib.pyplot as plt\n",
        "import matplotlib.ticker as mtick\n",
        "import spark\n",
        "import tensorflow as tf\n",
        "import tensorflow_hub as hub\n",
        "from nltk.tokenize import sent_tokenize"
      ],
      "execution_count": 15,
      "outputs": []
    },
    {
      "cell_type": "code",
      "metadata": {
        "id": "DKvIfbaJGTIn",
        "colab": {
          "base_uri": "https://localhost:8080/"
        },
        "outputId": "584e22a4-2e1f-4d9b-d248-47b35b182b93"
      },
      "source": [
        "nltk.download('punkt')"
      ],
      "execution_count": 16,
      "outputs": [
        {
          "output_type": "stream",
          "text": [
            "[nltk_data] Downloading package punkt to /root/nltk_data...\n",
            "[nltk_data]   Unzipping tokenizers/punkt.zip.\n"
          ],
          "name": "stdout"
        },
        {
          "output_type": "execute_result",
          "data": {
            "text/plain": [
              "True"
            ]
          },
          "metadata": {
            "tags": []
          },
          "execution_count": 16
        }
      ]
    },
    {
      "cell_type": "markdown",
      "metadata": {
        "id": "1Z1iBRqa9Vx6"
      },
      "source": [
        "# Data Prep"
      ]
    },
    {
      "cell_type": "code",
      "metadata": {
        "id": "OgdKRXxYp-yH"
      },
      "source": [
        "env_words = ['environment', 'global warming', 'emissions', 'assessment', 'oil spill', 'commitment', 'toxic', \n",
        "             'waste', 'pollution', 'environmental', 'hazardous', 'energy', 'natural resource', 'conservation', 'contamination', \n",
        "             'sustainability', 'sustainable', 'climate change', 'renewable', 'renew', 'reuse', 'recycle', 'mitigation',\n",
        "             'solar', 'wind', 'hydro']"
      ],
      "execution_count": null,
      "outputs": []
    },
    {
      "cell_type": "code",
      "metadata": {
        "id": "vE9_8djOpkWJ"
      },
      "source": [
        "def sent_contains_env_word(s):\n",
        "  contained_sents = []\n",
        "  s_tokenized = sent_tokenize(s)\n",
        "  for t in s_tokenized:\n",
        "    if(any(w in t for w in env_words)):\n",
        "      contained_sents.append(t)\n",
        "  return ' '.join(contained_sents)"
      ],
      "execution_count": null,
      "outputs": []
    },
    {
      "cell_type": "code",
      "metadata": {
        "colab": {
          "base_uri": "https://localhost:8080/"
        },
        "id": "9uAwil2Ot15Q",
        "outputId": "02caa743-a8c4-4883-d6f4-b622cf65c54d"
      },
      "source": [
        "subset_read_10q_df['contained_env_words_sents'] = subset_read_10q_df['Reports'].apply(lambda row: sent_contains_env_word(row))"
      ],
      "execution_count": null,
      "outputs": [
        {
          "output_type": "stream",
          "text": [
            "/usr/local/lib/python3.7/dist-packages/ipykernel_launcher.py:1: SettingWithCopyWarning: \n",
            "A value is trying to be set on a copy of a slice from a DataFrame.\n",
            "Try using .loc[row_indexer,col_indexer] = value instead\n",
            "\n",
            "See the caveats in the documentation: https://pandas.pydata.org/pandas-docs/stable/user_guide/indexing.html#returning-a-view-versus-a-copy\n",
            "  \"\"\"Entry point for launching an IPython kernel.\n"
          ],
          "name": "stderr"
        }
      ]
    },
    {
      "cell_type": "code",
      "metadata": {
        "id": "VOGpOxqb82f5"
      },
      "source": [
        "# function to remove numbers\n",
        "def remove_numbers(text):\n",
        "    # define the pattern to keep\n",
        "    pattern = r'[^a-zA-z.,!?/:;\\\"\\'\\s]' \n",
        "    return re.sub(pattern, ' _NUMBER_ ', text)\n"
      ],
      "execution_count": null,
      "outputs": []
    },
    {
      "cell_type": "code",
      "metadata": {
        "colab": {
          "base_uri": "https://localhost:8080/"
        },
        "id": "7-ZiiSBd9OL4",
        "outputId": "be5257b7-3bba-48e7-fd39-aa2d7872e71a"
      },
      "source": [
        "subset_read_10q_df['contained_env_words_sents_num_removed'] = subset_read_10q_df['contained_env_words_sents'].apply(lambda row: remove_numbers(row))"
      ],
      "execution_count": null,
      "outputs": [
        {
          "output_type": "stream",
          "text": [
            "/usr/local/lib/python3.7/dist-packages/ipykernel_launcher.py:1: SettingWithCopyWarning: \n",
            "A value is trying to be set on a copy of a slice from a DataFrame.\n",
            "Try using .loc[row_indexer,col_indexer] = value instead\n",
            "\n",
            "See the caveats in the documentation: https://pandas.pydata.org/pandas-docs/stable/user_guide/indexing.html#returning-a-view-versus-a-copy\n",
            "  \"\"\"Entry point for launching an IPython kernel.\n"
          ],
          "name": "stderr"
        }
      ]
    },
    {
      "cell_type": "markdown",
      "metadata": {
        "id": "s0NBw19o1UHS"
      },
      "source": [
        "# Universal Sentence Encoder"
      ]
    },
    {
      "cell_type": "code",
      "metadata": {
        "colab": {
          "base_uri": "https://localhost:8080/"
        },
        "id": "R2CKPWKa4YkS",
        "outputId": "f0495b03-5f57-49c4-9b6e-a92812ad0cfa"
      },
      "source": [
        "module_url = \"https://tfhub.dev/google/universal-sentence-encoder/4\" \n",
        "use_model = hub.load(module_url)\n",
        "print (\"module %s loaded\" % module_url)"
      ],
      "execution_count": null,
      "outputs": [
        {
          "output_type": "stream",
          "text": [
            "INFO:absl:Using /tmp/tfhub_modules to cache modules.\n",
            "INFO:absl:Downloading TF-Hub Module 'https://tfhub.dev/google/universal-sentence-encoder/4'.\n",
            "INFO:absl:Downloading https://tfhub.dev/google/universal-sentence-encoder/4: 820.00MB\n",
            "INFO:absl:Downloaded https://tfhub.dev/google/universal-sentence-encoder/4, Total size: 987.47MB\n",
            "INFO:absl:Downloaded TF-Hub Module 'https://tfhub.dev/google/universal-sentence-encoder/4'.\n"
          ],
          "name": "stderr"
        },
        {
          "output_type": "stream",
          "text": [
            "module https://tfhub.dev/google/universal-sentence-encoder/4 loaded\n"
          ],
          "name": "stdout"
        }
      ]
    },
    {
      "cell_type": "code",
      "metadata": {
        "id": "RqO-kyue44yR"
      },
      "source": [
        "new_sentences = [\"The Company announced that it is on track to meet goals to further reduce emissions from its operations, including a _NUMBER_-percent decrease in methane emissions and a _NUMBER_-percent reduction in flaring by year-end _NUMBER_ help meet society's ambition for a lower-carbon future.\",\n",
        "                 \"The Company is making significant investments in renewablec energy and sustainability initiatives: Running on _NUMBER_% renewable energy by _NUMBER_. The company has over _NUMBER_ renewable energy projects that saved more than _NUMBER_,_NUMBER_ tons of packaging material.\",\n",
        "                 \"The Company demonstrates corporate leadership on climate change by setting strong goals and taking purposeful action in and outside our company. Our climate change strategy is based on mitigation, resilience and enablement. Progress Toward Energy Intensity Reduction, Emissions Reduction, Refurbish, Reuse, Recycle\",\n",
        "                 \"The Company has not made investments in renewable energy and sustainability initiatives and risks not meeting EPA suggestions.\",\n",
        "                 \"The Board failed to establish a Public Policy and Sustainability Committee in _NUMBER_ which causes concern over key sustainability and public policy matters.\",\n",
        "                 \"The Company has further increased emissions and holds environmental liability.\"\n",
        "]"
      ],
      "execution_count": null,
      "outputs": []
    },
    {
      "cell_type": "code",
      "metadata": {
        "id": "RFwLgVrA-STz"
      },
      "source": [
        "one_compare_sent = [\"environment global warming emissions assessment oil spill commitment toxic waste pollution environmental hazardous energy natural resource conservation contamination sustainability sustainable climate change renewable renew reuse recycle mitigation solar wind hydro\"]"
      ],
      "execution_count": null,
      "outputs": []
    },
    {
      "cell_type": "code",
      "metadata": {
        "id": "QMPwCOuSCvZC"
      },
      "source": [
        "def cosine(u, v):\n",
        "    return np.dot(u, v) / (np.linalg.norm(u) * np.linalg.norm(v))"
      ],
      "execution_count": null,
      "outputs": []
    },
    {
      "cell_type": "code",
      "metadata": {
        "id": "i8uEb3_--fwD"
      },
      "source": [
        "def top_3_sents_use(s, compare_sentences):\n",
        "  dict_for_sents = {}\n",
        "  tokenized_sents = sent_tokenize(s)\n",
        "  for sent in tokenized_sents:\n",
        "    sims = []\n",
        "    for c in compare_sentences:\n",
        "      sim = cosine(use_model([c])[0], use_model([sent])[0])\n",
        "      sims.append(abs(sim))\n",
        "    dict_for_sents[sent] = np.max(sims)\n",
        "  return ' '.join([k[0] for k in sorted(dict_for_sents.items(), key=lambda item: item[1])[-3:]])"
      ],
      "execution_count": null,
      "outputs": []
    },
    {
      "cell_type": "code",
      "metadata": {
        "id": "Qj_lxK3qALUL"
      },
      "source": [
        "first_report_tokenized = sent_tokenize(read_10q_df.iloc[0,17])"
      ],
      "execution_count": null,
      "outputs": []
    },
    {
      "cell_type": "code",
      "metadata": {
        "colab": {
          "base_uri": "https://localhost:8080/"
        },
        "id": "JVegqZlxB6-K",
        "outputId": "ff96d1e3-1156-4838-b310-4adad049317c"
      },
      "source": [
        "len(top_3_sents_use(read_10q_df.iloc[0,17]))"
      ],
      "execution_count": null,
      "outputs": [
        {
          "output_type": "execute_result",
          "data": {
            "text/plain": [
              "818"
            ]
          },
          "metadata": {
            "tags": []
          },
          "execution_count": 22
        }
      ]
    },
    {
      "cell_type": "markdown",
      "metadata": {
        "id": "6KaRKL8KNTcC"
      },
      "source": [
        "# Adding Column for Top 3 Sents per Universal Sentence Encoder (USE)"
      ]
    },
    {
      "cell_type": "code",
      "metadata": {
        "colab": {
          "base_uri": "https://localhost:8080/"
        },
        "id": "_CNVjore-mWv",
        "outputId": "0b9fc06b-e531-4b8f-a529-963685045769"
      },
      "source": [
        "subset_read_10q_df['top_3_sents_use'] = subset_read_10q_df['contained_env_words_sents_num_removed'].apply(lambda row: top_3_sents_use(row, new_sentences))"
      ],
      "execution_count": null,
      "outputs": [
        {
          "output_type": "stream",
          "text": [
            "/usr/local/lib/python3.7/dist-packages/ipykernel_launcher.py:1: SettingWithCopyWarning: \n",
            "A value is trying to be set on a copy of a slice from a DataFrame.\n",
            "Try using .loc[row_indexer,col_indexer] = value instead\n",
            "\n",
            "See the caveats in the documentation: https://pandas.pydata.org/pandas-docs/stable/user_guide/indexing.html#returning-a-view-versus-a-copy\n",
            "  \"\"\"Entry point for launching an IPython kernel.\n"
          ],
          "name": "stderr"
        }
      ]
    },
    {
      "cell_type": "code",
      "metadata": {
        "id": "XT8lJWozyEK9"
      },
      "source": [
        "subset_read_10q_df.to_csv('no_0_change_read_10q_df_with_top_3_use.csv')"
      ],
      "execution_count": null,
      "outputs": []
    },
    {
      "cell_type": "code",
      "metadata": {
        "colab": {
          "base_uri": "https://localhost:8080/"
        },
        "id": "ptpm8WUwyIWS",
        "outputId": "3a9f9753-e921-4a20-b251-7e75262cd132"
      },
      "source": [
        "!gsutil cp no_0_change_read_10q_df_with_top_3_use.csv gs://esgbert_resourses/raw_data/"
      ],
      "execution_count": null,
      "outputs": [
        {
          "output_type": "stream",
          "text": [
            "Copying file://no_0_change_read_10q_df_with_top_3_use.csv [Content-Type=text/csv]...\n",
            "/ [0 files][    0.0 B/721.7 MiB]                                                \r==> NOTE: You are uploading one or more large file(s), which would run\n",
            "significantly faster if you enable parallel composite uploads. This\n",
            "feature can be enabled by editing the\n",
            "\"parallel_composite_upload_threshold\" value in your .boto\n",
            "configuration file. However, note that if you do this large files will\n",
            "be uploaded as `composite objects\n",
            "<https://cloud.google.com/storage/docs/composite-objects>`_,which\n",
            "means that any user who downloads such objects will need to have a\n",
            "compiled crcmod installed (see \"gsutil help crcmod\"). This is because\n",
            "without a compiled crcmod, computing checksums on composite objects is\n",
            "so slow that gsutil disables downloads of composite objects.\n",
            "\n",
            "/\n",
            "Operation completed over 1 objects/721.7 MiB.                                    \n"
          ],
          "name": "stdout"
        }
      ]
    },
    {
      "cell_type": "code",
      "metadata": {
        "id": "9Vavl8PwZQuT"
      },
      "source": [
        "subset_read_10q_df = pd.read_csv(\"gs://esgbert_resourses/raw_data/no_0_change_read_10q_df_with_top_3_use.csv\")"
      ],
      "execution_count": null,
      "outputs": []
    },
    {
      "cell_type": "code",
      "metadata": {
        "colab": {
          "base_uri": "https://localhost:8080/"
        },
        "id": "5_gt30JXKi6L",
        "outputId": "2afe3fde-5182-4e03-aa49-7ac55ac6b53a"
      },
      "source": [
        "!gsutil cp gs://esgbert_resourses/raw_data/read_10q_df_partial_prep.csv ."
      ],
      "execution_count": null,
      "outputs": [
        {
          "output_type": "stream",
          "text": [
            "Copying gs://esgbert_resourses/raw_data/read_10q_df_partial_prep.csv...\n",
            "- [1 files][  2.9 GiB/  2.9 GiB]   41.1 MiB/s                                   \n",
            "Operation completed over 1 objects/2.9 GiB.                                      \n"
          ],
          "name": "stdout"
        }
      ]
    },
    {
      "cell_type": "code",
      "metadata": {
        "id": "sXEjj8rdIYhK"
      },
      "source": [
        "read_10q_df = pd.read_csv(\"/content/read_10q_df_partial_prep.csv\")"
      ],
      "execution_count": null,
      "outputs": []
    },
    {
      "cell_type": "code",
      "metadata": {
        "colab": {
          "base_uri": "https://localhost:8080/"
        },
        "id": "2IHV2cj2TZSD",
        "outputId": "8d040ae7-60ab-4a7a-d5a7-2b048e6b0233"
      },
      "source": [
        "len(read_10q_df)"
      ],
      "execution_count": null,
      "outputs": [
        {
          "output_type": "execute_result",
          "data": {
            "text/plain": [
              "5944"
            ]
          },
          "metadata": {
            "tags": []
          },
          "execution_count": 21
        }
      ]
    },
    {
      "cell_type": "code",
      "metadata": {
        "colab": {
          "base_uri": "https://localhost:8080/",
          "height": 137
        },
        "id": "1qgGgktMZ7fQ",
        "outputId": "41036b76-b983-4aa3-bca5-860230e39b28"
      },
      "source": [
        "subset_read_10q_df.iloc[0,23]"
      ],
      "execution_count": null,
      "outputs": [
        {
          "output_type": "execute_result",
          "data": {
            "application/vnd.google.colaboratory.intrinsic+json": {
              "type": "string"
            },
            "text/plain": [
              "'While we have divested substantially all of our semiconductor related businesses to Avago Technologies Ltd. and Advantest Corporation and regardless of indemnification arrangements with those parties, we may still become subject to liabilities for historical environmental contamination related to those businesses. Environmental contamination from past operations could subject us to unreimbursed costs and could harm on_NUMBER_site operations and the future use and value of the properties involved, and environmental contamination caused by ongoing operations could subject us to substantial liabilities in the future. As a result, we may become subject to liabilities for environmental contamination, and these liabilities may be substantial.'"
            ]
          },
          "metadata": {
            "tags": []
          },
          "execution_count": 17
        }
      ]
    },
    {
      "cell_type": "code",
      "metadata": {
        "colab": {
          "base_uri": "https://localhost:8080/",
          "height": 137
        },
        "id": "U5_XZjkpbpLE",
        "outputId": "94e5a934-9f5e-4161-ebaa-1c7bfbd432a7"
      },
      "source": [
        "subset_read_10q_df.iloc[1,23]"
      ],
      "execution_count": null,
      "outputs": [
        {
          "output_type": "execute_result",
          "data": {
            "application/vnd.google.colaboratory.intrinsic+json": {
              "type": "string"
            },
            "text/plain": [
              "'While we have divested substantially all of our semiconductor related businesses to Avago Technologies Ltd. and Advantest Corporation and regardless of indemnification arrangements with those parties, we may still become subject to liabilities for historical environmental contamination related to those businesses. Environmental contamination from past operations could subject us to unreimbursed costs and could harm on_NUMBER_site operations and the future use and value of the properties involved, and environmental contamination caused by ongoing operations could subject us to substantial liabilities in the future. As a result, we may become subject to liabilities for environmental contamination, and these liabilities may be substantial.'"
            ]
          },
          "metadata": {
            "tags": []
          },
          "execution_count": 191
        }
      ]
    },
    {
      "cell_type": "code",
      "metadata": {
        "colab": {
          "base_uri": "https://localhost:8080/"
        },
        "id": "BYfwQnd7h4IM",
        "outputId": "02b476bc-dedf-4863-c752-2836891ea70f"
      },
      "source": [
        "import difflib\n",
        "\n",
        "def get_overlap(s1, s2):\n",
        "  overlaps = []\n",
        "  s = difflib.SequenceMatcher(None, s1, s2)\n",
        "  for match in s.get_matching_blocks():\n",
        "    pos_a, pos_b, size = match\n",
        "    if((size>50)):\n",
        "      overlaps.append(s1[pos_a:pos_a+size])\n",
        "  return overlaps\n",
        "  \n",
        "s1 = subset_read_10q_df.iloc[0,22]\n",
        "print(s1)\n",
        "s2 = subset_read_10q_df.iloc[1,22]\n",
        "print(s2)\n",
        "print(get_overlap(s1, s2))"
      ],
      "execution_count": null,
      "outputs": [
        {
          "output_type": "stream",
          "text": [
            "The reassessment process considers whether we have acquired the power to direct the most significant activities of the VIE through changes in governing documents or other circumstances. The maximum exposure is equal to the carrying value because we do not have future funding commitments. Under the authoritative guidance we have the option to perform a qualitative assessment to determine whether further impairment testing is necessary. If an entity believes, as a result of its qualitative assessment, that it is more_NUMBER_likely_NUMBER_than_NUMBER_not _NUMBER_i.e. These include macro_NUMBER_economic conditions such as deterioration in the entity's operating environment or industry or market considerations; entity_NUMBER_specific events such as increasing costs, declining financial performance, or loss of key personnel; or other events such as an expectation that a reporting unit will be sold or a sustained decrease in the stock price on either an absolute basis or relative to peers. If it is determined, as a result of the qualitative assessment, that it is more_NUMBER_likely_NUMBER_than_NUMBER_not that the fair value of a reporting unit is less than its carrying amount, the provisions of authoritative guidance require that we perform a two_NUMBER_step impairment test on goodwill. An organization may choose to bypass the qualitative assessment for any indefinite_NUMBER_lived intangible asset in any period and proceed directly to calculating its fair value. Additional amendments to the accounting for income taxes on previously reported quarterly results was the recognition of the windfall tax benefits as a cumulative effect adjustment to opening retained earnings of   _NUMBER__NUMBER__NUMBER__NUMBER_ million   together with an increase in deferred tax assets included in other assets of   _NUMBER__NUMBER__NUMBER_ million  , an increase in additional paid in capital of   _NUMBER__NUMBER_ million  , a reduction in other accrued liabilities of   _NUMBER__NUMBER_ million   and a decrease of   _NUMBER__NUMBER__NUMBER_ million   in other long term liabilities. Changes in the time value of the foreign exchange contract are excluded from the assessment of hedge effectiveness and are recognized in other income _NUMBER_expense_NUMBER_ each period. For options designated as cash flow hedges, changes in the time value are excluded from the assessment of hedge effectiveness and are recognized in other income _NUMBER_expense_NUMBER_ over the life of the option contract. On June _NUMBER_, _NUMBER__NUMBER__NUMBER__NUMBER_, the commitments under the existing credit facility were increased by   _NUMBER__NUMBER__NUMBER__NUMBER_ million   so that the aggregate commitments under the facility now total   _NUMBER__NUMBER__NUMBER__NUMBER_ million  . This report contains forward_NUMBER_looking statements including, without limitation, statements regarding trends, seasonality and growth in, and drivers of, the markets we sell into, our strategic direction, our future effective tax rate and tax valuation allowance, earnings from our foreign subsidiaries, lease and site services income from Keysight, the impact of foreign currency movements on our performance, our hedging programs, remediation activities, indemnification, new product and service introductions, the ability of our products to meet market needs, adoption of our products, changes to our manufacturing processes, the use of contract manufacturers, out sourcing and third_NUMBER_party package delivery services, source and supply of materials used in our products, the impact of local government regulations on our ability to pay vendors or conduct operations, our liquidity position and cash availability, our ability to generate cash from operations, growth in our businesses, our investments, including in research and development, the potential impact of adopting new accounting pronouncements, our financial results, our operating margin, our sales, our purchase commitments, our capital expenditures, our contributions to our pension and other defined benefit plans, our strategic initiatives, our cost_NUMBER_control activities and other cost saving initiatives, uncertainties relating to Food and Drug Administration _NUMBER_\"FDA\"_NUMBER_ and other regulatory approvals, the integration of our acquisitions and other transactions, impairment of goodwill and other intangible assets, write down of investment values or loans and convertible notes, remediation of our material weakness, our stock repurchase program, our declared dividends, our transition to lower_NUMBER_cost regions, and the existence of economic instability, that involve risks and uncertainties. Within the applied markets, and excluding the impact of foreign currency movements, the NMR business and acquisitions, there was strong revenue growth in both the environmental and food markets, but revenue from sales to other applied markets was weak with a decline in revenue from sales to the chemical and energy markets in the   three and nine   months ended   July _NUMBER__NUMBER_, _NUMBER__NUMBER__NUMBER__NUMBER_  , when compared to the same periods last year. Excluding the impact of foreign currency movements, revenue grew strongly in the pharmaceutical and biotechnology market as well as in the food and environmental markets in the   three and nine   months ended   July _NUMBER__NUMBER_, _NUMBER__NUMBER__NUMBER__NUMBER_   when compared to the same periods last year. Within the applied markets, and excluding the impact of foreign currency movements, the NMR business and acquisitions, there was strong revenue growth in both the environmental and food markets, but revenue from sales to other applied markets was weak with a decline in revenue from sales to the chemical and energy markets in the   three and nine   months ended   July _NUMBER__NUMBER_, _NUMBER__NUMBER__NUMBER__NUMBER_  , when compared to the same periods last year. Excluding the impact of foreign currency movements, revenue grew strongly in the pharmaceutical and biotechnology market as well as in the food and environmental markets in the   three and nine   months ended   July _NUMBER__NUMBER_, _NUMBER__NUMBER__NUMBER__NUMBER_   when compared to the same periods last year. The decline in the Americas for the three and nine months ended July _NUMBER__NUMBER_, _NUMBER__NUMBER__NUMBER__NUMBER_ when compared to the same period last year was due to continued weakness in the chemical and energy markets, softness in diagnostic and clinical markets, and the impact of the exiting of the NMR business. Growth in Asia Pacific excluding Japan reflected broad growth in China, particularly in the environmental and food markets. European sales were down on weakness in sales to energy and applied markets. Chemical and energy end_NUMBER_market revenue performance continued to decline in the three and nine months ended July _NUMBER__NUMBER_, _NUMBER__NUMBER__NUMBER__NUMBER_. Continued government spending in China for environmental initiatives helped drive market performance in the segment. We remain concerned about short term prospects in chemical and energy markets, but are confident in our product portfolio to address customer needs when the market does recover. The food market saw very strong growth and the environmental market saw strong growth for the three months ended July _NUMBER__NUMBER_, _NUMBER__NUMBER__NUMBER__NUMBER_. The drivers of growth in the short_NUMBER_term and long_NUMBER_term will be our commitment to bring innovative solutions to market and our focus on improving customer experience. We believe our cash and cash equivalents, cash generated from operations, and ability to access capital markets and credit lines will satisfy, for at least the next twelve months, our liquidity requirements, both globally and domestically, including the following: working capital needs, capital expenditures, business acquisitions, stock repurchases, cash dividends, contractual obligations, commitments, principal and interest payments on debt, and other liquidity requirements associated with our operations. On June _NUMBER_, _NUMBER__NUMBER__NUMBER__NUMBER_, the commitments under the existing credit facility were increased by   _NUMBER__NUMBER__NUMBER__NUMBER_ million   so that the aggregate commitments under the facility now total   _NUMBER__NUMBER__NUMBER__NUMBER_ million  . _NUMBER__NUMBER_      Table of Contents  Other       As of July _NUMBER__NUMBER_, _NUMBER__NUMBER__NUMBER__NUMBER_ our contractual obligations reported under  other purchase commitments   were approximately _NUMBER__NUMBER__NUMBER_ million, an increase of approximately _NUMBER__NUMBER__NUMBER_ million in the first nine months of fiscal year _NUMBER__NUMBER__NUMBER__NUMBER_, largely due to a renewed telecommunications contract together with a long_NUMBER_term support contract related to the purchase of a software license. There were no other substantial changes from our _NUMBER__NUMBER__NUMBER__NUMBER_ Annual Report on Form _NUMBER__NUMBER__NUMBER_K to our contractual commitments in the first   nine   months of fiscal _NUMBER__NUMBER__NUMBER__NUMBER_. We have contractual commitments for non_NUMBER_cancelable operating leases. We have no other material non_NUMBER_cancelable guarantees or commitments. QUANTITATIVE AND QUALITATIVE DISCLOSURES ABOUT MARKET RISK       We are exposed to foreign currency exchange rate risks inherent in our sales commitments, anticipated sales, and assets and liabilities denominated in currencies other than the functional currency of our subsidiaries. While some of the remediation actions are completed, remediation actions will take time to be fully integrated and confirmed to be effective and sustainable. Also, in such an environment, pricing pressures could intensify. In order to secure components for the production of products, we may continue to enter into non_NUMBER_cancelable purchase commitments with vendors, or at times make advance payments to suppliers, which could impact our ability to adjust our inventory to declining market demands. Some of our products are subject to particularly complex regulations such as regulations of toxic substances and failure to comply with such regulations could harm our business. Environmental contamination from past operations could subject us to unreimbursed costs and could harm on_NUMBER_site operations and the future use and value of the properties involved, and environmental contamination caused by ongoing operations could subject us to substantial liabilities in the future. Certain properties transferred to Keysight Technologies, Inc. _NUMBER_ Keysight _NUMBER_ as part of the separation are undergoing remediation by HP Inc. and Hewlett_NUMBER_Packard Enterprise _NUMBER_formerly Hewlett_NUMBER_Packard Company_NUMBER_ _NUMBER_together \"HP\"_NUMBER_ for subsurface contaminations that were known at the time of our separation from HP. HP has agreed to retain the liability for this subsurface contamination, perform the required remediation and indemnify Keysight with respect to claims arising out of that contamination. While HP has agreed to minimize interference with on_NUMBER_site operations at those properties, remediation activities and subsurface contamination may require Keysight to incur unreimbursed costs and could harm on_NUMBER_site operations and the future use and value of the properties. In addition, the       _NUMBER__NUMBER_      Table of Contents  determination of the existence and cost of any additional contamination caused by us prior to the separation could involve costly and time_NUMBER_consuming negotiations and litigation. Other than those properties currently undergoing remediation by HP, we have agreed to indemnify HP, with respect to any liability associated with contamination from past operations, and Keysight, with respect to any liability associated with contamination prior to the separation, at, respectively, properties transferred from HP to us and properties transferred by us to Keysight. While we are not aware of any material liabilities associated with any potential subsurface contamination at any of those properties, subsurface contamination may exist, and we may be exposed to material liability as a result of the existence of that contamination. Our current and historical manufacturing processes involve, or have involved, the use of substances regulated under various international, federal, state and local laws governing the environment. As a result, we may become subject to liabilities for environmental contamination, and these liabilities may be substantial. While we have divested substantially all of our semiconductor related businesses to Avago Technologies Ltd. and Advantest Corporation and regardless of indemnification arrangements with those parties, we may still become subject to liabilities for historical environmental contamination related to those businesses. Although our policy is to apply strict standards for environmental protection at our sites inside and outside the United States, even if the sites outside the United States are not subject to regulations imposed by foreign governments, we may not be aware of all conditions that could subject us to liability. As part of our acquisition of Varian, Inc. _NUMBER_ Varian _NUMBER_ we assumed the liabilities of Varian, including Varian's costs and potential liabilities for environmental matters. One such cost is our obligation, along with the obligation of Varian Semiconductor Equipment Associates, Inc. _NUMBER_\"VSEA\"_NUMBER_ to each indemnify Varian Medical Systems, Inc. _NUMBER_ VMS _NUMBER_ for certain costs relating to _NUMBER_a_NUMBER_ environmental investigation, monitoring and/or remediation activities at certain facilities previously operated by Varian Associates, Inc. _NUMBER_\"VAI\"_NUMBER_ and third_NUMBER_party claims made in connection with environmental conditions at those facilities, and _NUMBER_b_NUMBER_ EPA or third_NUMBER_party claims alleging that VAI or VMS is a potentially responsible party under the Comprehensive Environmental Response Compensation and Liability Act of _NUMBER__NUMBER__NUMBER__NUMBER_, as amended in connection with certain sites to which VAI allegedly shipped manufacturing waste for recycling, treatment or disposal. Although any ultimate liability arising from environmental_NUMBER_related matters could result in significant expenditures that, if aggregated and assumed to occur within a single fiscal year, could be material to our financial statements, the likelihood of such occurrence is considered remote. Based on information currently available and our best assessment of the ultimate amount and timing of environmental_NUMBER_related events, management believes that the costs of environmental_NUMBER_related matters are unlikely to have a material adverse effect on our financial condition or results of operations. These assessments can require a high degree of judgment and estimation. Several jurisdictions have granted Agilent tax incentives which require renewal at various times in the future. Agilent's taxes could increase if the incentives are not renewed upon expiration. On June _NUMBER_, _NUMBER__NUMBER__NUMBER__NUMBER_, we increased the commitments under the existing credit facility by _NUMBER__NUMBER__NUMBER__NUMBER_ million so that the aggregate commitments under the facility now total _NUMBER__NUMBER__NUMBER__NUMBER_ million and retained a provision that allows us to further increase commitments to the credit facility by _NUMBER__NUMBER__NUMBER__NUMBER_ million in the aggregate, subject to certain conditions.\n",
            "The reassessment process considers whether we have acquired the power to direct the most significant activities of the VIE through changes in governing documents or other circumstances. Changes in the time value of the foreign exchange contract are excluded from the assessment of hedge effectiveness and are recognized in other income _NUMBER_expense_NUMBER_ each period. For options designated as cash flow hedges, changes in the time value are excluded from the assessment of hedge effectiveness and are recognized in other income _NUMBER_expense_NUMBER_ over the life of the option contract. On June _NUMBER_, _NUMBER__NUMBER__NUMBER__NUMBER_, the commitments under the existing credit facility were increased by   _NUMBER__NUMBER__NUMBER__NUMBER_ million   so that the aggregate commitments under the facility now total   _NUMBER__NUMBER__NUMBER__NUMBER_ million  . This report contains forward_NUMBER_looking statements including, without limitation, statements regarding trends, seasonality and growth in, and drivers of, the markets we sell into, our strategic direction, our future effective tax rate and tax valuation allowance, earnings from our foreign subsidiaries, lease and site services income from Keysight, the impact of foreign currency movements on our performance, our hedging programs, indemnification, new product and service introductions, the ability of our products to meet market needs, adoption of our products, changes to our manufacturing processes, the use of contract manufacturers, out sourcing and third_NUMBER_party package delivery services, source and supply of materials used in our products, the impact of local government regulations on our ability to pay vendors or conduct operations, our liquidity position, our ability to generate cash from operations, growth in our businesses, our investments, including in research and development, the potential impact of adopting new accounting pronouncements, our financial results, our operating margin, our sales, our purchase commitments, our capital expenditures, our contributions to our pension and other defined benefit plans, our strategic initiatives, our cost_NUMBER_control activities and other cost saving initiatives, uncertainties relating to Food and Drug Administration _NUMBER_\"FDA\"_NUMBER_ and other regulatory approvals, the integration of our acquisitions and other transactions, impairment of goodwill and other intangible assets, write down of investment values or loans and convertible notes, our stock repurchase program, our declared dividends, and the existence of economic instability, that involve risks and uncertainties. Within the applied markets, there was strong revenue growth in the environmental and chemical and energy markets with modest revenue growth in the food market and ongoing declines in the forensics market in the   three and six   months ended   April _NUMBER__NUMBER_, _NUMBER__NUMBER__NUMBER__NUMBER_  , when compared to the same periods last year. For the three and six months ended April _NUMBER__NUMBER_, _NUMBER__NUMBER__NUMBER__NUMBER_, revenue grew across nearly all key markets led by strong growth in the diagnostics and clinical, environmental, food and the chemical and energy markets. Within the chemical and energy market, we are encouraged by two consecutive quarters of revenue growth but a cyclical recovery in these markets cannot yet be determined. Within the applied markets, there was strong revenue growth in the environmental and chemical and energy markets with modest revenue growth in the food market and ongoing declines in the forensics market in the   three and six   months ended   April _NUMBER__NUMBER_, _NUMBER__NUMBER__NUMBER__NUMBER_  , when compared to the same periods last year. For the three and six months ended April _NUMBER__NUMBER_, _NUMBER__NUMBER__NUMBER__NUMBER_, revenue grew across nearly all key markets led by strong growth in the diagnostics and clinical, environmental, food and the chemical and energy markets. Gas chromatography and gas chromatography mass spectrometry saw strong revenue growth helped by increased demand in chemical and energy market sales. For the three months ended April _NUMBER__NUMBER_, _NUMBER__NUMBER__NUMBER__NUMBER_, end market performance was led by encouraging demand in the chemical and energy markets. Pharmaceutical and biotechnology markets continued to have solid growth during our second quarter as did environmental sales. For the six months ended April _NUMBER__NUMBER_, _NUMBER__NUMBER__NUMBER__NUMBER_, chemical and energy and pharmaceutical sales were the primary drivers of growth, with weakness coming from life science research and diagnostic and clinical sales. We are encouraged by the continued growth in the chemical and energy markets but a cyclical recovery in these markets cannot yet be determined. We believe our cash and cash equivalents, cash generated from operations, and ability to access capital markets and credit lines will satisfy, for at least the next twelve months, our liquidity requirements, both globally and domestically, including the       _NUMBER__NUMBER_      Table of Contents  following: working capital needs, capital expenditures, business acquisitions, stock repurchases, cash dividends, contractual obligations, commitments, principal and interest payments on debt, and other liquidity requirements associated with our operations. On June _NUMBER_, _NUMBER__NUMBER__NUMBER__NUMBER_, the commitments under the existing credit facility were increased by   _NUMBER__NUMBER__NUMBER__NUMBER_ million   so that the aggregate commitments under the facility now total   _NUMBER__NUMBER__NUMBER__NUMBER_ million  . Other       As of   April _NUMBER__NUMBER_, _NUMBER__NUMBER__NUMBER__NUMBER_   our contractual obligations reported under  other purchase commitments  were approximately _NUMBER__NUMBER__NUMBER_ million, a decrease of approximately _NUMBER__NUMBER__NUMBER_ million in the first   six   months of fiscal year _NUMBER__NUMBER__NUMBER__NUMBER_, primarily due to the reduction in commitments that occurred as purchases were made. There were no other substantial changes from our _NUMBER__NUMBER__NUMBER__NUMBER_ Annual Report on Form _NUMBER__NUMBER__NUMBER_K to our contractual commitments in the first   six   months of fiscal _NUMBER__NUMBER__NUMBER__NUMBER_. We have contractual commitments for non_NUMBER_cancelable operating leases. We have no other material non_NUMBER_cancelable guarantees or commitments. QUANTITATIVE AND QUALITATIVE DISCLOSURES ABOUT MARKET RISK       We are exposed to foreign currency exchange rate risks inherent in our sales commitments, anticipated sales, and assets and liabilities denominated in currencies other than the functional currency of our subsidiaries. Also, in such an environment, pricing pressures could intensify. In order to secure components for the production of products, we may continue to enter into non_NUMBER_cancelable purchase commitments with vendors, or at times make advance payments to suppliers, which could impact our ability to adjust our inventory to declining market demands. Some of our products are subject to particularly complex regulations such as regulations of toxic substances and failure to comply with such regulations could harm our business. Environmental contamination from past operations could subject us to unreimbursed costs and could harm on_NUMBER_site operations and the future use and value of the properties involved, and environmental contamination caused by ongoing operations could subject us to substantial liabilities in the future. Certain properties transferred to Keysight Technologies, Inc. _NUMBER_ Keysight _NUMBER_ as part of the separation are undergoing remediation by HP Inc. and Hewlett_NUMBER_Packard Enterprise _NUMBER_formerly Hewlett_NUMBER_Packard Company_NUMBER_ _NUMBER_together \"HP\"_NUMBER_ for subsurface contaminations that were known at the time of our separation from HP. HP has agreed to retain the liability for this subsurface contamination, perform the required remediation and indemnify Keysight with respect to claims arising out of that contamination. While HP has agreed to minimize interference with on_NUMBER_site operations at those properties, remediation activities and subsurface contamination may require Keysight to incur unreimbursed costs and could harm on_NUMBER_site operations and the future use and value of the properties. In addition, the determination of the existence and cost of any additional contamination caused by us prior to the separation could involve costly and time_NUMBER_consuming negotiations and litigation. Other than those properties currently undergoing remediation by HP, we have agreed to indemnify HP, with respect to any liability associated with contamination from past operations, and Keysight, with respect to any liability associated with contamination prior to the separation, at, respectively, properties transferred from HP to us and properties transferred by us to Keysight. While we are not aware of any material liabilities associated with any potential subsurface contamination at any of       _NUMBER__NUMBER_      Table of Contents  those properties, subsurface contamination may exist, and we may be exposed to material liability as a result of the existence of that contamination. Our current and historical manufacturing processes involve, or have involved, the use of substances regulated under various international, federal, state and local laws governing the environment. As a result, we may become subject to liabilities for environmental contamination, and these liabilities may be substantial. While we have divested substantially all of our semiconductor related businesses to Avago Technologies Ltd. and Advantest Corporation and regardless of indemnification arrangements with those parties, we may still become subject to liabilities for historical environmental contamination related to those businesses. Although our policy is to apply strict standards for environmental protection at our sites inside and outside the United States, even if the sites outside the United States are not subject to regulations imposed by foreign governments, we may not be aware of all conditions that could subject us to liability. As part of our acquisition of Varian, Inc. _NUMBER_ Varian _NUMBER_ we assumed the liabilities of Varian, including Varian's costs and potential liabilities for environmental matters. One such cost is our obligation, along with the obligation of Varian Semiconductor Equipment Associates, Inc. _NUMBER_\"VSEA\"_NUMBER_ to each indemnify Varian Medical Systems, Inc. _NUMBER_ VMS _NUMBER_ for certain costs relating to _NUMBER_a_NUMBER_ environmental investigation, monitoring and/or remediation activities at certain facilities previously operated by Varian Associates, Inc. _NUMBER_\"VAI\"_NUMBER_ and third_NUMBER_party claims made in connection with environmental conditions at those facilities, and _NUMBER_b_NUMBER_ EPA or third_NUMBER_party claims alleging that VAI or VMS is a potentially responsible party under the Comprehensive Environmental Response Compensation and Liability Act of _NUMBER__NUMBER__NUMBER__NUMBER_, as amended, in connection with certain sites to which VAI allegedly shipped manufacturing waste for recycling, treatment or disposal. Although any ultimate liability arising from environmental_NUMBER_related matters could result in significant expenditures that, if aggregated and assumed to occur within a single fiscal year, could be material to our financial statements, the likelihood of such occurrence is considered unlikely. Based on information currently available and our best assessment of the ultimate amount and timing of environmental_NUMBER_related events, management believes that the costs of environmental_NUMBER_related matters are unlikely to have a material adverse effect on our financial condition or results of operations. These assessments can require a high degree of judgment and estimation. Several jurisdictions have granted Agilent tax incentives which require renewal at various times in the future. Agilent's taxes could increase if the incentives are not renewed upon expiration. On June _NUMBER_, _NUMBER__NUMBER__NUMBER__NUMBER_, we increased the commitments under the existing credit facility by _NUMBER__NUMBER__NUMBER__NUMBER_ million so that the aggregate commitments under the facility now total _NUMBER__NUMBER__NUMBER__NUMBER_ million and retained a provision that allows us to further increase commitments to the credit facility by _NUMBER__NUMBER__NUMBER__NUMBER_ million in the aggregate, subject to certain conditions.\n",
            "C\n",
            "['The reassessment process considers whether we have acquired the power to direct the most significant activities of the VIE through changes in governing documents or other circumstances. ', ', our ability to generate cash from operations, growth in our businesses, our investments, including in research and development, the potential impact of adopting new accounting pronouncements, our financial results, our operating margin, our sales, our purchase commitments, our capital expenditures, our contributions to our pension and other defined benefit plans, our strategic initiatives, our cost_NUMBER_control activities and other cost saving initiatives, uncertainties relating to Food and Drug Administration _NUMBER_\"FDA\"_NUMBER_ and other regulatory approvals, the integration of our acquisitions and other transactions, impairment of goodwill and other intangible assets, write down of investment values or loans and convertible notes, ', '   months of fiscal _NUMBER__NUMBER__NUMBER__NUMBER_. We have contractual commitments for non_NUMBER_cancelable operating leases. We have no other material non_NUMBER_cancelable guarantees or commitments. QUANTITATIVE AND QUALITATIVE DISCLOSURES ABOUT MARKET RISK       We are exposed to foreign currency exchange rate risks inherent in our sales commitments, anticipated sales, and assets and liabilities denominated in currencies other than the functional currency of our subsidiaries. ', 'Also, in such an environment, pricing pressures could intensify. In order to secure components for the production of products, we may continue to enter into non_NUMBER_cancelable purchase commitments with vendors, or at times make advance payments to suppliers, which could impact our ability to adjust our inventory to declining market demands. Some of our products are subject to particularly complex regulations such as regulations of toxic substances and failure to comply with such regulations could harm our business. Environmental contamination from past operations could subject us to unreimbursed costs and could harm on_NUMBER_site operations and the future use and value of the properties involved, and environmental contamination caused by ongoing operations could subject us to substantial liabilities in the future. Certain properties transferred to Keysight Technologies, Inc. _NUMBER_ Keysight _NUMBER_ as part of the separation are undergoing remediation by HP Inc. and Hewlett_NUMBER_Packard Enterprise _NUMBER_formerly Hewlett_NUMBER_Packard Company_NUMBER_ _NUMBER_together \"HP\"_NUMBER_ for subsurface contaminations that were known at the time of our separation from HP. HP has agreed to retain the liability for this subsurface contamination, perform the required remediation and indemnify Keysight with respect to claims arising out of that contamination. While HP has agreed to minimize interference with on_NUMBER_site operations at those properties, remediation activities and subsurface contamination may require Keysight to incur unreimbursed costs and could harm on_NUMBER_site operations and the future use and value of the properties. In addition, the ', 'determination of the existence and cost of any additional contamination caused by us prior to the separation could involve costly and time_NUMBER_consuming negotiations and litigation. Other than those properties currently undergoing remediation by HP, we have agreed to indemnify HP, with respect to any liability associated with contamination from past operations, and Keysight, with respect to any liability associated with contamination prior to the separation, at, respectively, properties transferred from HP to us and properties transferred by us to Keysight. While we are not aware of any material liabilities associated with any potential subsurface contamination at any of', ' those properties, subsurface contamination may exist, and we may be exposed to material liability as a result of the existence of that contamination. Our current and historical manufacturing processes involve, or have involved, the use of substances regulated under various international, federal, state and local laws governing the environment. As a result, we may become subject to liabilities for environmental contamination, and these liabilities may be substantial. While we have divested substantially all of our semiconductor related businesses to Avago Technologies Ltd. and Advantest Corporation and regardless of indemnification arrangements with those parties, we may still become subject to liabilities for historical environmental contamination related to those businesses. Although our policy is to apply strict standards for environmental protection at our sites inside and outside the United States, even if the sites outside the United States are not subject to regulations imposed by foreign governments, we may not be aware of all conditions that could subject us to liability. As part of our acquisition of Varian, Inc. _NUMBER_ Varian _NUMBER_ we assumed the liabilities of Varian, including Varian\\'s costs and potential liabilities for environmental matters. One such cost is our obligation, along with the obligation of Varian Semiconductor Equipment Associates, Inc. _NUMBER_\"VSEA\"_NUMBER_ to each indemnify Varian Medical Systems, Inc. _NUMBER_ VMS _NUMBER_ for certain costs relating to _NUMBER_a_NUMBER_ environmental investigation, monitoring and/or remediation activities at certain facilities previously operated by Varian Associates, Inc. _NUMBER_\"VAI\"_NUMBER_ and third_NUMBER_party claims made in connection with environmental conditions at those facilities, and _NUMBER_b_NUMBER_ EPA or third_NUMBER_party claims alleging that VAI or VMS is a potentially responsible party under the Comprehensive Environmental Response Compensation and Liability Act of _NUMBER__NUMBER__NUMBER__NUMBER_, as amended', ' in connection with certain sites to which VAI allegedly shipped manufacturing waste for recycling, treatment or disposal. Although any ultimate liability arising from environmental_NUMBER_related matters could result in significant expenditures that, if aggregated and assumed to occur within a single fiscal year, could be material to our financial statements, the likelihood of such occurrence is considered ', \". Based on information currently available and our best assessment of the ultimate amount and timing of environmental_NUMBER_related events, management believes that the costs of environmental_NUMBER_related matters are unlikely to have a material adverse effect on our financial condition or results of operations. These assessments can require a high degree of judgment and estimation. Several jurisdictions have granted Agilent tax incentives which require renewal at various times in the future. Agilent's taxes could increase if the incentives are not renewed upon expiration. On June _NUMBER_, _NUMBER__NUMBER__NUMBER__NUMBER_, we increased the commitments under the existing credit facility by _NUMBER__NUMBER__NUMBER__NUMBER_ million so that the aggregate commitments under the facility now total _NUMBER__NUMBER__NUMBER__NUMBER_ million and retained a provision that allows us to further increase commitments to the credit facility by _NUMBER__NUMBER__NUMBER__NUMBER_ million in the aggregate, subject to certain conditions.\"]\n"
          ],
          "name": "stdout"
        }
      ]
    },
    {
      "cell_type": "code",
      "metadata": {
        "colab": {
          "base_uri": "https://localhost:8080/"
        },
        "id": "B02ArMbE_T8Y",
        "outputId": "58cecade-3992-4238-a7b6-1d515948c497"
      },
      "source": [
        "len(\"The reassessment process considers whether we have acquired the power to direct the most significant activities of the VIE through changes in governing documents or other circumstances. \")"
      ],
      "execution_count": null,
      "outputs": [
        {
          "output_type": "execute_result",
          "data": {
            "text/plain": [
              "186"
            ]
          },
          "metadata": {
            "tags": []
          },
          "execution_count": 127
        }
      ]
    },
    {
      "cell_type": "code",
      "metadata": {
        "colab": {
          "base_uri": "https://localhost:8080/"
        },
        "id": "VBryekuwiEu0",
        "outputId": "6ef89660-7649-4d07-a405-f8984f5aae99"
      },
      "source": [
        "type(subset_read_10q_df['CIK'].to_numpy())"
      ],
      "execution_count": null,
      "outputs": [
        {
          "output_type": "execute_result",
          "data": {
            "text/plain": [
              "numpy.ndarray"
            ]
          },
          "metadata": {
            "tags": []
          },
          "execution_count": 204
        }
      ]
    },
    {
      "cell_type": "code",
      "metadata": {
        "id": "aobeUBuWGULK"
      },
      "source": [
        "subset_read_10q_df['contained_env_words_sents_num_boiler_plt_removed'] = ''"
      ],
      "execution_count": null,
      "outputs": []
    },
    {
      "cell_type": "code",
      "metadata": {
        "id": "lnsp0m6JiACN"
      },
      "source": [
        "concatenated_filtered_cik_dfs = pd.DataFrame()\n",
        "for cik in subset_read_10q_df['CIK'].to_numpy():\n",
        "  filter_for_cik = subset_read_10q_df[subset_read_10q_df.CIK==cik]\n",
        "  #print(filter_for_cik.iloc[0,22])\n",
        "  #print(filter_for_cik.iloc[1,22])\n",
        "  overlaps_across_quarters = []\n",
        "  for i in range(len(filter_for_cik)-1):\n",
        "    for j in range(i+1, len(filter_for_cik)-2):\n",
        "      overlaps = get_overlap(str(filter_for_cik.iloc[i,22]),str(filter_for_cik.iloc[j,22]))\n",
        "      overlaps_across_quarters = np.concatenate((overlaps_across_quarters, overlaps))\n",
        "  for i in range(len(filter_for_cik)):\n",
        "    filter_for_cik.iloc[i,24] = str(filter_for_cik.iloc[i,22])\n",
        "    for overlap in overlaps_across_quarters:\n",
        "      filter_for_cik.iloc[i,24] = filter_for_cik.iloc[i,24].replace(overlap, '')  \n",
        "  concatenated_filtered_cik_dfs = concatenated_filtered_cik_dfs.append(filter_for_cik)\n",
        "  #print(\"duplicate text: \", overlaps_across_quarters)"
      ],
      "execution_count": null,
      "outputs": []
    },
    {
      "cell_type": "code",
      "metadata": {
        "id": "0mrhyhJ9q85V"
      },
      "source": [
        "subset_read_10q_df.to_csv('no_boiler_plt_subset_read_10q_df.csv')"
      ],
      "execution_count": null,
      "outputs": []
    },
    {
      "cell_type": "code",
      "metadata": {
        "colab": {
          "base_uri": "https://localhost:8080/"
        },
        "id": "MIcCAjwMrAWl",
        "outputId": "ab5f654c-7c15-47f6-eb47-4d5cc32b6962"
      },
      "source": [
        "!gsutil cp no_boiler_plt_subset_read_10q_df.csv gs://esgbert_resourses/raw_data/"
      ],
      "execution_count": null,
      "outputs": [
        {
          "output_type": "stream",
          "text": [
            "Copying file://no_boiler_plt_subset_read_10q_df.csv [Content-Type=text/csv]...\n",
            "/ [0 files][    0.0 B/719.2 MiB]                                                \r==> NOTE: You are uploading one or more large file(s), which would run\n",
            "significantly faster if you enable parallel composite uploads. This\n",
            "feature can be enabled by editing the\n",
            "\"parallel_composite_upload_threshold\" value in your .boto\n",
            "configuration file. However, note that if you do this large files will\n",
            "be uploaded as `composite objects\n",
            "<https://cloud.google.com/storage/docs/composite-objects>`_,which\n",
            "means that any user who downloads such objects will need to have a\n",
            "compiled crcmod installed (see \"gsutil help crcmod\"). This is because\n",
            "without a compiled crcmod, computing checksums on composite objects is\n",
            "so slow that gsutil disables downloads of composite objects.\n",
            "\n",
            "| [1 files][719.2 MiB/719.2 MiB]                                                \n",
            "Operation completed over 1 objects/719.2 MiB.                                    \n"
          ],
          "name": "stdout"
        }
      ]
    },
    {
      "cell_type": "code",
      "metadata": {
        "colab": {
          "base_uri": "https://localhost:8080/"
        },
        "id": "UlHyHlvfjA3N",
        "outputId": "cfc09998-40dc-4082-a896-c673f9dd4d03"
      },
      "source": [
        "concatenated_filtered_cik_dfs=pd.read_csv(\"gs://esgbert_resourses/raw_data/no_boiler_plt_subset_read_10q_df.csv\")"
      ],
      "execution_count": null,
      "outputs": [
        {
          "output_type": "stream",
          "text": [
            "/usr/local/lib/python3.7/dist-packages/google/auth/_default.py:70: UserWarning: Your application has authenticated using end user credentials from Google Cloud SDK without a quota project. You might receive a \"quota exceeded\" or \"API not enabled\" error. We recommend you rerun `gcloud auth application-default login` and make sure a quota project is added. Or you can use service accounts instead. For more information about service accounts, see https://cloud.google.com/docs/authentication/\n",
            "  warnings.warn(_CLOUD_SDK_CREDENTIALS_WARNING)\n",
            "WARNING:google.auth._default:No project ID could be determined. Consider running `gcloud config set project` or setting the GOOGLE_CLOUD_PROJECT environment variable\n"
          ],
          "name": "stderr"
        }
      ]
    },
    {
      "cell_type": "markdown",
      "metadata": {
        "id": "mHPqG0MG2ejQ"
      },
      "source": [
        "# Adding top 3 columns"
      ]
    },
    {
      "cell_type": "code",
      "metadata": {
        "colab": {
          "base_uri": "https://localhost:8080/"
        },
        "id": "gufgx_5V4DMO",
        "outputId": "61322ce7-c8a8-4753-d5be-4789f33b7765"
      },
      "source": [
        "len(concatenated_filtered_cik_dfs)"
      ],
      "execution_count": null,
      "outputs": [
        {
          "output_type": "execute_result",
          "data": {
            "text/plain": [
              "2274"
            ]
          },
          "metadata": {
            "tags": []
          },
          "execution_count": 38
        }
      ]
    },
    {
      "cell_type": "code",
      "metadata": {
        "id": "pO36RHziiWnq"
      },
      "source": [
        "year_2017_quarter_1_concat = concatenated_filtered_cik_dfs[(concatenated_filtered_cik_dfs.year==2017)&(concatenated_filtered_cik_dfs.quarter==1)]"
      ],
      "execution_count": null,
      "outputs": []
    },
    {
      "cell_type": "code",
      "metadata": {
        "colab": {
          "base_uri": "https://localhost:8080/"
        },
        "id": "kwRLlt4zk80e",
        "outputId": "df621104-cd5c-47fe-bbd1-7a99e1484c66"
      },
      "source": [
        "len(year_2017_quarter_1_concat)"
      ],
      "execution_count": null,
      "outputs": [
        {
          "output_type": "execute_result",
          "data": {
            "text/plain": [
              "221"
            ]
          },
          "metadata": {
            "tags": []
          },
          "execution_count": 175
        }
      ]
    },
    {
      "cell_type": "code",
      "metadata": {
        "colab": {
          "base_uri": "https://localhost:8080/"
        },
        "id": "djeySe0f11jT",
        "outputId": "0433ab2f-d633-4b73-d6cf-12e27a3d2798"
      },
      "source": [
        "year_2017_concat['contained_env_words_sents_num_boiler_plt_removed'].to_numpy().dtype"
      ],
      "execution_count": null,
      "outputs": [
        {
          "output_type": "execute_result",
          "data": {
            "text/plain": [
              "dtype('O')"
            ]
          },
          "metadata": {
            "tags": []
          },
          "execution_count": 35
        }
      ]
    },
    {
      "cell_type": "code",
      "metadata": {
        "colab": {
          "base_uri": "https://localhost:8080/"
        },
        "id": "T65B-fQtk2DQ",
        "outputId": "d1ca77f4-98d0-4a7d-9dd6-4a42279943a4"
      },
      "source": [
        "%%time \n",
        "year_2017_concat['top_3_sents_use_no_boiler_plt'] = year_2017_concat['contained_env_words_sents_num_boiler_plt_removed'].apply(lambda row: top_3_sents_use(str(row)))"
      ],
      "execution_count": null,
      "outputs": [
        {
          "output_type": "stream",
          "text": [
            "CPU times: user 1min 23s, sys: 13.2 s, total: 1min 37s\n",
            "Wall time: 38.3 s\n"
          ],
          "name": "stdout"
        },
        {
          "output_type": "stream",
          "text": [
            "/usr/local/lib/python3.7/dist-packages/ipykernel_launcher.py:1: SettingWithCopyWarning: \n",
            "A value is trying to be set on a copy of a slice from a DataFrame.\n",
            "Try using .loc[row_indexer,col_indexer] = value instead\n",
            "\n",
            "See the caveats in the documentation: https://pandas.pydata.org/pandas-docs/stable/user_guide/indexing.html#returning-a-view-versus-a-copy\n",
            "  \"\"\"Entry point for launching an IPython kernel.\n"
          ],
          "name": "stderr"
        }
      ]
    },
    {
      "cell_type": "code",
      "metadata": {
        "colab": {
          "base_uri": "https://localhost:8080/"
        },
        "id": "G3I6Dy5hrhSp",
        "outputId": "a2ca0d94-5809-419f-f8b9-dfdce6a5fa0e"
      },
      "source": [
        "%%time \n",
        "concatenated_filtered_cik_dfs['top_3_sents_use_no_boiler_plt'] = concatenated_filtered_cik_dfs['contained_env_words_sents_num_boiler_plt_removed'].apply(lambda row: top_3_sents_use(str(row)))"
      ],
      "execution_count": null,
      "outputs": [
        {
          "output_type": "stream",
          "text": [
            "CPU times: user 4min 37s, sys: 44.6 s, total: 5min 22s\n",
            "Wall time: 2min 7s\n"
          ],
          "name": "stdout"
        }
      ]
    },
    {
      "cell_type": "code",
      "metadata": {
        "id": "lVLHguqmwabz"
      },
      "source": [
        "concatenated_filtered_cik_dfs.to_csv('final_subset_read_10q_df.csv')"
      ],
      "execution_count": null,
      "outputs": []
    },
    {
      "cell_type": "code",
      "metadata": {
        "colab": {
          "base_uri": "https://localhost:8080/"
        },
        "id": "gl6fc5Uh-AlA",
        "outputId": "7a099356-9555-48a7-822a-e8b4b51ab8fe"
      },
      "source": [
        "%%time\n",
        "concatenated_filtered_cik_dfs['top_3_sents_use_one_compare_no_boiler_plt'] = concatenated_filtered_cik_dfs['contained_env_words_sents_num_boiler_plt_removed'].apply(lambda row: top_3_sents_use(str(row),one_compare_sent))"
      ],
      "execution_count": null,
      "outputs": [
        {
          "output_type": "stream",
          "text": [
            "CPU times: user 46.7 s, sys: 7.25 s, total: 54 s\n",
            "Wall time: 21.3 s\n"
          ],
          "name": "stdout"
        }
      ]
    },
    {
      "cell_type": "code",
      "metadata": {
        "colab": {
          "base_uri": "https://localhost:8080/"
        },
        "id": "u_Tqz-StBnUn",
        "outputId": "2f64e58c-6d21-41a5-8aa1-4d69980a21c1"
      },
      "source": [
        "%%time\n",
        "concatenated_filtered_cik_dfs['reports_num_removed'] = concatenated_filtered_cik_dfs['Reports'].apply(lambda row: remove_numbers(row))"
      ],
      "execution_count": null,
      "outputs": [
        {
          "output_type": "stream",
          "text": [
            "CPU times: user 4.05 s, sys: 59.2 ms, total: 4.11 s\n",
            "Wall time: 4.1 s\n"
          ],
          "name": "stdout"
        }
      ]
    },
    {
      "cell_type": "code",
      "metadata": {
        "colab": {
          "base_uri": "https://localhost:8080/"
        },
        "id": "PvCZ5wXABQjf",
        "outputId": "eca420e1-828d-4fc6-9660-a317143c3946"
      },
      "source": [
        "%%time\n",
        "year_2017_quarter_1_concat['top_3_sents_use_one_compare_no_num'] = year_2017_quarter_1_concat['reports_num_removed'].apply(lambda row: top_3_sents_use(str(row),one_compare_sent))"
      ],
      "execution_count": null,
      "outputs": [
        {
          "output_type": "stream",
          "text": [
            "CPU times: user 1h 39s, sys: 9min 59s, total: 1h 10min 38s\n",
            "Wall time: 27min 17s\n"
          ],
          "name": "stdout"
        },
        {
          "output_type": "stream",
          "text": [
            "/usr/local/lib/python3.7/dist-packages/ipykernel_launcher.py:1: SettingWithCopyWarning: \n",
            "A value is trying to be set on a copy of a slice from a DataFrame.\n",
            "Try using .loc[row_indexer,col_indexer] = value instead\n",
            "\n",
            "See the caveats in the documentation: https://pandas.pydata.org/pandas-docs/stable/user_guide/indexing.html#returning-a-view-versus-a-copy\n",
            "  \"\"\"Entry point for launching an IPython kernel.\n"
          ],
          "name": "stderr"
        }
      ]
    },
    {
      "cell_type": "markdown",
      "metadata": {
        "id": "UWK8Ze2G2l6F"
      },
      "source": [
        "# Testing Model with USE Selected Relevant Sents"
      ]
    },
    {
      "cell_type": "code",
      "metadata": {
        "colab": {
          "base_uri": "https://localhost:8080/",
          "height": 154
        },
        "id": "SCnfT3kAQapi",
        "outputId": "9013326a-72b4-4ebe-b0f3-981da5f71d59"
      },
      "source": [
        "read_10q_df.iloc[0,24]"
      ],
      "execution_count": null,
      "outputs": [
        {
          "output_type": "execute_result",
          "data": {
            "application/vnd.google.colaboratory.intrinsic+json": {
              "type": "string"
            },
            "text/plain": [
              "'One such cost is our obligation, along with the obligation of Varian Semiconductor Equipment Associates, Inc.  _NUMBER_ \"VSEA\" _NUMBER_  to each indemnify Varian Medical Systems, Inc.  _NUMBER_  VMS  _NUMBER_  for certain costs relating to  _NUMBER_ a _NUMBER_  environmental investigation, monitoring and/or remediation activities at certain facilities previously operated by Varian Associates, Inc.  _NUMBER_ \"VAI\" _NUMBER_  and third _NUMBER_ party claims made in connection with environmental conditions at those facilities, and  _NUMBER_ b _NUMBER_  EPA or third _NUMBER_ party claims alleging that VAI or VMS is a potentially responsible party under the Comprehensive Environmental Response Compensation and Liability Act of  _NUMBER_  _NUMBER_  _NUMBER_  _NUMBER_ , as amended in connection with certain sites to which VAI allegedly shipped manufacturing waste for recycling, treatment or disposal. While we have divested substantially all of our semiconductor related businesses to Avago Technologies Ltd. and Advantest Corporation and regardless of indemnification arrangements with those parties, we may still become subject to liabilities for historical environmental contamination related to those businesses. As a result, we may become subject to liabilities for environmental contamination, and these liabilities may be substantial.'"
            ]
          },
          "metadata": {
            "tags": []
          },
          "execution_count": 35
        }
      ]
    },
    {
      "cell_type": "code",
      "metadata": {
        "colab": {
          "base_uri": "https://localhost:8080/"
        },
        "id": "yO0tE40AQ4lU",
        "outputId": "a4a6fb87-d1f0-418f-ebb5-0e77e2d760a5"
      },
      "source": [
        "%%time \n",
        "read_10q_df['top_3_sents_use_str'] = read_10q_df['top_3_sents_use'].apply(lambda row: str(row))"
      ],
      "execution_count": null,
      "outputs": [
        {
          "output_type": "stream",
          "text": [
            "CPU times: user 4.31 ms, sys: 270 µs, total: 4.58 ms\n",
            "Wall time: 8.09 ms\n"
          ],
          "name": "stdout"
        }
      ]
    },
    {
      "cell_type": "code",
      "metadata": {
        "id": "_po-HChBoXX-"
      },
      "source": [
        "read_10q_df.rename(columns = {'top_3_sents_use':'top_3_sents_use_one_compare'}, inplace = True)\n",
        "read_10q_df.rename(columns = {'top_3_sents_use_str':'top_3_sents_use_one_compare_str'}, inplace = True)"
      ],
      "execution_count": null,
      "outputs": []
    },
    {
      "cell_type": "code",
      "metadata": {
        "colab": {
          "base_uri": "https://localhost:8080/",
          "height": 1000
        },
        "id": "Z99rSzewliPF",
        "outputId": "e825ae4b-3314-49da-df98-5e2b647ef13f"
      },
      "source": [
        "read_10q_df"
      ],
      "execution_count": null,
      "outputs": [
        {
          "output_type": "execute_result",
          "data": {
            "text/html": [
              "<div>\n",
              "<style scoped>\n",
              "    .dataframe tbody tr th:only-of-type {\n",
              "        vertical-align: middle;\n",
              "    }\n",
              "\n",
              "    .dataframe tbody tr th {\n",
              "        vertical-align: top;\n",
              "    }\n",
              "\n",
              "    .dataframe thead th {\n",
              "        text-align: right;\n",
              "    }\n",
              "</style>\n",
              "<table border=\"1\" class=\"dataframe\">\n",
              "  <thead>\n",
              "    <tr style=\"text-align: right;\">\n",
              "      <th></th>\n",
              "      <th>Unnamed: 0</th>\n",
              "      <th>Unnamed: 0.1</th>\n",
              "      <th>origin_idx</th>\n",
              "      <th>CIK</th>\n",
              "      <th>date</th>\n",
              "      <th>total_esg_score</th>\n",
              "      <th>total_esg_score_quarter_change_pure</th>\n",
              "      <th>total_esg_score_quarter_change_pct</th>\n",
              "      <th>governance_score_quarter_change_pure</th>\n",
              "      <th>governance_score_quarter_change_pct</th>\n",
              "      <th>social_score_quarter_change_pure</th>\n",
              "      <th>social_score_quarter_change_pct</th>\n",
              "      <th>environment_score_quarter_change_pure</th>\n",
              "      <th>environment_score_quarter_change_pct</th>\n",
              "      <th>quarter</th>\n",
              "      <th>year</th>\n",
              "      <th>month</th>\n",
              "      <th>ReportType</th>\n",
              "      <th>Reports</th>\n",
              "      <th>reports_ordered</th>\n",
              "      <th>reports_cosines</th>\n",
              "      <th>contained_env_words_sents</th>\n",
              "      <th>reports_num_removed</th>\n",
              "      <th>contained_env_words_sents_num_removed</th>\n",
              "      <th>top_3_sents_use_one_compare</th>\n",
              "      <th>top_3_sents_use_one_compare_str</th>\n",
              "    </tr>\n",
              "  </thead>\n",
              "  <tbody>\n",
              "    <tr>\n",
              "      <th>0</th>\n",
              "      <td>0</td>\n",
              "      <td>0</td>\n",
              "      <td>38</td>\n",
              "      <td>1090872</td>\n",
              "      <td>2016-03-31</td>\n",
              "      <td>70.45</td>\n",
              "      <td>1.51</td>\n",
              "      <td>0.021434</td>\n",
              "      <td>0.01</td>\n",
              "      <td>0.000166</td>\n",
              "      <td>3.34</td>\n",
              "      <td>0.047249</td>\n",
              "      <td>0.00</td>\n",
              "      <td>0.000000</td>\n",
              "      <td>1</td>\n",
              "      <td>2016</td>\n",
              "      <td>3</td>\n",
              "      <td>10Q</td>\n",
              "      <td>0001090872-16-000070.txt : 2016060710-Q 1 a-0...</td>\n",
              "      <td>In addition, the operation of Dako within Agil...</td>\n",
              "      <td>0.8 0.78 0.78 0.76 0.76 0.76 0.75 0.75 0.75 0....</td>\n",
              "      <td>The reassessment process considers whether we ...</td>\n",
              "      <td>_NUMBER_  _NUMBER_  _NUMBER_  _NUMBER_  _NUM...</td>\n",
              "      <td>The reassessment process considers whether we ...</td>\n",
              "      <td>One such cost is our obligation, along with th...</td>\n",
              "      <td>One such cost is our obligation, along with th...</td>\n",
              "    </tr>\n",
              "    <tr>\n",
              "      <th>1</th>\n",
              "      <td>1</td>\n",
              "      <td>1</td>\n",
              "      <td>41</td>\n",
              "      <td>1090872</td>\n",
              "      <td>2016-06-30</td>\n",
              "      <td>71.96</td>\n",
              "      <td>-2.98</td>\n",
              "      <td>-0.041412</td>\n",
              "      <td>1.20</td>\n",
              "      <td>0.019861</td>\n",
              "      <td>-10.44</td>\n",
              "      <td>-0.141024</td>\n",
              "      <td>5.43</td>\n",
              "      <td>0.066155</td>\n",
              "      <td>2</td>\n",
              "      <td>2016</td>\n",
              "      <td>6</td>\n",
              "      <td>10Q</td>\n",
              "      <td>0001090872-16-000076.txt : 2016090710-Q 1 a-0...</td>\n",
              "      <td>In addition, the operation of Dako within Agil...</td>\n",
              "      <td>0.8 0.78 0.78 0.76 0.76 0.76 0.75 0.75 0.75 0....</td>\n",
              "      <td>The reassessment process considers whether we ...</td>\n",
              "      <td>_NUMBER_  _NUMBER_  _NUMBER_  _NUMBER_  _NUM...</td>\n",
              "      <td>The reassessment process considers whether we ...</td>\n",
              "      <td>While we have divested substantially all of ou...</td>\n",
              "      <td>While we have divested substantially all of ou...</td>\n",
              "    </tr>\n",
              "    <tr>\n",
              "      <th>2</th>\n",
              "      <td>2</td>\n",
              "      <td>2</td>\n",
              "      <td>47</td>\n",
              "      <td>1090872</td>\n",
              "      <td>2016-12-30</td>\n",
              "      <td>68.98</td>\n",
              "      <td>-2.73</td>\n",
              "      <td>-0.039577</td>\n",
              "      <td>0.00</td>\n",
              "      <td>0.000000</td>\n",
              "      <td>-6.05</td>\n",
              "      <td>-0.095141</td>\n",
              "      <td>0.00</td>\n",
              "      <td>0.000000</td>\n",
              "      <td>4</td>\n",
              "      <td>2016</td>\n",
              "      <td>12</td>\n",
              "      <td>10Q</td>\n",
              "      <td>0001090872-17-000004.txt : 2017030810-Q 1 a-0...</td>\n",
              "      <td>Our customers and we are subject to various go...</td>\n",
              "      <td>0.78 0.77 0.76 0.76 0.76 0.76 0.76 0.75 0.75 0...</td>\n",
              "      <td>The reassessment process considers whether we ...</td>\n",
              "      <td>_NUMBER_  _NUMBER_  _NUMBER_  _NUMBER_  _NUM...</td>\n",
              "      <td>The reassessment process considers whether we ...</td>\n",
              "      <td>One such cost is our obligation, along with th...</td>\n",
              "      <td>One such cost is our obligation, along with th...</td>\n",
              "    </tr>\n",
              "    <tr>\n",
              "      <th>3</th>\n",
              "      <td>3</td>\n",
              "      <td>3</td>\n",
              "      <td>50</td>\n",
              "      <td>1090872</td>\n",
              "      <td>2017-03-31</td>\n",
              "      <td>66.25</td>\n",
              "      <td>0.14</td>\n",
              "      <td>0.002113</td>\n",
              "      <td>0.00</td>\n",
              "      <td>0.000000</td>\n",
              "      <td>0.00</td>\n",
              "      <td>0.000000</td>\n",
              "      <td>0.55</td>\n",
              "      <td>0.006285</td>\n",
              "      <td>1</td>\n",
              "      <td>2017</td>\n",
              "      <td>3</td>\n",
              "      <td>10Q</td>\n",
              "      <td>0001090872-17-000008.txt : 2017060610-Q 1 a-0...</td>\n",
              "      <td>Our customers and we are subject to various go...</td>\n",
              "      <td>0.78 0.77 0.76 0.76 0.76 0.76 0.75 0.75 0.75 0...</td>\n",
              "      <td>The reassessment process considers whether we ...</td>\n",
              "      <td>_NUMBER_  _NUMBER_  _NUMBER_  _NUMBER_  _NUM...</td>\n",
              "      <td>The reassessment process considers whether we ...</td>\n",
              "      <td>Within the applied markets, there was strong r...</td>\n",
              "      <td>Within the applied markets, there was strong r...</td>\n",
              "    </tr>\n",
              "    <tr>\n",
              "      <th>4</th>\n",
              "      <td>4</td>\n",
              "      <td>4</td>\n",
              "      <td>53</td>\n",
              "      <td>1090872</td>\n",
              "      <td>2017-06-30</td>\n",
              "      <td>66.39</td>\n",
              "      <td>0.00</td>\n",
              "      <td>0.000000</td>\n",
              "      <td>0.00</td>\n",
              "      <td>0.000000</td>\n",
              "      <td>0.00</td>\n",
              "      <td>0.000000</td>\n",
              "      <td>0.00</td>\n",
              "      <td>0.000000</td>\n",
              "      <td>2</td>\n",
              "      <td>2017</td>\n",
              "      <td>6</td>\n",
              "      <td>10Q</td>\n",
              "      <td>0001090872-17-000013.txt : 2017090610-Q 1 a-0...</td>\n",
              "      <td>Our customers and we are subject to various go...</td>\n",
              "      <td>0.78 0.77 0.76 0.76 0.76 0.75 0.75 0.75 0.75 0...</td>\n",
              "      <td>The reassessment process considers whether we ...</td>\n",
              "      <td>_NUMBER_  _NUMBER_  _NUMBER_  _NUMBER_  _NUM...</td>\n",
              "      <td>The reassessment process considers whether we ...</td>\n",
              "      <td>One such cost is our obligation, along with th...</td>\n",
              "      <td>One such cost is our obligation, along with th...</td>\n",
              "    </tr>\n",
              "    <tr>\n",
              "      <th>...</th>\n",
              "      <td>...</td>\n",
              "      <td>...</td>\n",
              "      <td>...</td>\n",
              "      <td>...</td>\n",
              "      <td>...</td>\n",
              "      <td>...</td>\n",
              "      <td>...</td>\n",
              "      <td>...</td>\n",
              "      <td>...</td>\n",
              "      <td>...</td>\n",
              "      <td>...</td>\n",
              "      <td>...</td>\n",
              "      <td>...</td>\n",
              "      <td>...</td>\n",
              "      <td>...</td>\n",
              "      <td>...</td>\n",
              "      <td>...</td>\n",
              "      <td>...</td>\n",
              "      <td>...</td>\n",
              "      <td>...</td>\n",
              "      <td>...</td>\n",
              "      <td>...</td>\n",
              "      <td>...</td>\n",
              "      <td>...</td>\n",
              "      <td>...</td>\n",
              "      <td>...</td>\n",
              "    </tr>\n",
              "    <tr>\n",
              "      <th>5939</th>\n",
              "      <td>5939</td>\n",
              "      <td>2966</td>\n",
              "      <td>30866</td>\n",
              "      <td>1158449</td>\n",
              "      <td>2015-09-30</td>\n",
              "      <td>48.00</td>\n",
              "      <td>2.00</td>\n",
              "      <td>0.041667</td>\n",
              "      <td>4.00</td>\n",
              "      <td>0.067797</td>\n",
              "      <td>0.00</td>\n",
              "      <td>0.000000</td>\n",
              "      <td>4.00</td>\n",
              "      <td>0.097561</td>\n",
              "      <td>3</td>\n",
              "      <td>2015</td>\n",
              "      <td>9</td>\n",
              "      <td>10Q</td>\n",
              "      <td>0001158449-15-000190.txt : 2015111710-Q 1 aap...</td>\n",
              "      <td>Listed below and discussed in our Annual Repor...</td>\n",
              "      <td>0.74 0.7 0.69 0.69 0.68 0.68 0.67 0.67 0.67 0....</td>\n",
              "      <td>This new standard requires management to perfo...</td>\n",
              "      <td>_NUMBER_  _NUMBER_  _NUMBER_  _NUMBER_  _NUM...</td>\n",
              "      <td>This new standard requires management to perfo...</td>\n",
              "      <td>This new standard requires management to perfo...</td>\n",
              "      <td>This new standard requires management to perfo...</td>\n",
              "    </tr>\n",
              "    <tr>\n",
              "      <th>5940</th>\n",
              "      <td>5940</td>\n",
              "      <td>2967</td>\n",
              "      <td>30907</td>\n",
              "      <td>728535</td>\n",
              "      <td>2015-09-30</td>\n",
              "      <td>54.00</td>\n",
              "      <td>-5.00</td>\n",
              "      <td>-0.092593</td>\n",
              "      <td>-2.00</td>\n",
              "      <td>-0.032258</td>\n",
              "      <td>0.00</td>\n",
              "      <td>0.000000</td>\n",
              "      <td>-13.00</td>\n",
              "      <td>-0.236364</td>\n",
              "      <td>3</td>\n",
              "      <td>2015</td>\n",
              "      <td>9</td>\n",
              "      <td>10Q</td>\n",
              "      <td>0001437749-15-018776.txt : 2015102310-Q 1 jbh...</td>\n",
              "      <td>Rapid changes in fuel costs could impact our p...</td>\n",
              "      <td>0.77 0.77 0.74 0.73 0.73 0.73 0.72 0.7 0.7 0.7...</td>\n",
              "      <td>This new senior credit facility has a five yea...</td>\n",
              "      <td>_NUMBER_  _NUMBER_  _NUMBER_  _NUMBER_  _NUM...</td>\n",
              "      <td>This new senior credit facility has a five yea...</td>\n",
              "      <td>The following table summarizes our expected ob...</td>\n",
              "      <td>The following table summarizes our expected ob...</td>\n",
              "    </tr>\n",
              "    <tr>\n",
              "      <th>5941</th>\n",
              "      <td>5941</td>\n",
              "      <td>2968</td>\n",
              "      <td>31005</td>\n",
              "      <td>832988</td>\n",
              "      <td>2015-09-30</td>\n",
              "      <td>51.00</td>\n",
              "      <td>0.00</td>\n",
              "      <td>0.000000</td>\n",
              "      <td>0.00</td>\n",
              "      <td>0.000000</td>\n",
              "      <td>0.00</td>\n",
              "      <td>0.000000</td>\n",
              "      <td>0.00</td>\n",
              "      <td>0.000000</td>\n",
              "      <td>3</td>\n",
              "      <td>2015</td>\n",
              "      <td>9</td>\n",
              "      <td>10Q</td>\n",
              "      <td>0001628280-15-009247.txt : 2015120410-Q 1 fy1...</td>\n",
              "      <td>These adjustments also reflect the impact of d...</td>\n",
              "      <td>0.72 0.71 0.71 0.71 0.67 0.66 0.66 0.65 0.65 0...</td>\n",
              "      <td>Signet's chief operating decision maker utiliz...</td>\n",
              "      <td>_NUMBER_  _NUMBER_  _NUMBER_  _NUMBER_  _NUM...</td>\n",
              "      <td>Signet's chief operating decision maker utiliz...</td>\n",
              "      <td>Additionally, the debt financing replaced comm...</td>\n",
              "      <td>Additionally, the debt financing replaced comm...</td>\n",
              "    </tr>\n",
              "    <tr>\n",
              "      <th>5942</th>\n",
              "      <td>5942</td>\n",
              "      <td>2969</td>\n",
              "      <td>31065</td>\n",
              "      <td>718877</td>\n",
              "      <td>2015-09-30</td>\n",
              "      <td>48.00</td>\n",
              "      <td>0.00</td>\n",
              "      <td>0.000000</td>\n",
              "      <td>0.00</td>\n",
              "      <td>0.000000</td>\n",
              "      <td>0.00</td>\n",
              "      <td>0.000000</td>\n",
              "      <td>0.00</td>\n",
              "      <td>0.000000</td>\n",
              "      <td>3</td>\n",
              "      <td>2015</td>\n",
              "      <td>9</td>\n",
              "      <td>10Q</td>\n",
              "      <td>0001104659-15-076727.txt : 2015111010-Q 1 a15...</td>\n",
              "      <td>The overall effective income tax rate for the ...</td>\n",
              "      <td>0.77 0.77 0.74 0.71 0.71 0.7 0.7 0.7 0.69 0.69...</td>\n",
              "      <td>Risks and uncertainties that may affect our fu...</td>\n",
              "      <td>_NUMBER_  _NUMBER_  _NUMBER_  _NUMBER_  _NUM...</td>\n",
              "      <td>Risks and uncertainties that may affect our fu...</td>\n",
              "      <td>Risks and uncertainties that may affect our fu...</td>\n",
              "      <td>Risks and uncertainties that may affect our fu...</td>\n",
              "    </tr>\n",
              "    <tr>\n",
              "      <th>5943</th>\n",
              "      <td>5943</td>\n",
              "      <td>2970</td>\n",
              "      <td>31100</td>\n",
              "      <td>100517</td>\n",
              "      <td>2015-09-30</td>\n",
              "      <td>57.00</td>\n",
              "      <td>-1.00</td>\n",
              "      <td>-0.017544</td>\n",
              "      <td>-1.00</td>\n",
              "      <td>-0.014925</td>\n",
              "      <td>-1.00</td>\n",
              "      <td>-0.021739</td>\n",
              "      <td>0.00</td>\n",
              "      <td>0.000000</td>\n",
              "      <td>3</td>\n",
              "      <td>2015</td>\n",
              "      <td>9</td>\n",
              "      <td>10Q</td>\n",
              "      <td>0001193125-15-350093.txt : 2015102210-Q 1 d63...</td>\n",
              "      <td>As describedin the 2014 Annual Report, the Com...</td>\n",
              "      <td>0.77 0.76 0.75 0.74 0.74 0.74 0.71 0.71 0.71 0...</td>\n",
              "      <td>As of September 30, 2015, United had firm comm...</td>\n",
              "      <td>_NUMBER_  _NUMBER_  _NUMBER_  _NUMBER_  _NUM...</td>\n",
              "      <td>As of September  _NUMBER_  _NUMBER_ ,  _NUMBER...</td>\n",
              "      <td>The Company s actual results could differmater...</td>\n",
              "      <td>The Company s actual results could differmater...</td>\n",
              "    </tr>\n",
              "  </tbody>\n",
              "</table>\n",
              "<p>5944 rows × 26 columns</p>\n",
              "</div>"
            ],
            "text/plain": [
              "      Unnamed: 0  ...                    top_3_sents_use_one_compare_str\n",
              "0              0  ...  One such cost is our obligation, along with th...\n",
              "1              1  ...  While we have divested substantially all of ou...\n",
              "2              2  ...  One such cost is our obligation, along with th...\n",
              "3              3  ...  Within the applied markets, there was strong r...\n",
              "4              4  ...  One such cost is our obligation, along with th...\n",
              "...          ...  ...                                                ...\n",
              "5939        5939  ...  This new standard requires management to perfo...\n",
              "5940        5940  ...  The following table summarizes our expected ob...\n",
              "5941        5941  ...  Additionally, the debt financing replaced comm...\n",
              "5942        5942  ...  Risks and uncertainties that may affect our fu...\n",
              "5943        5943  ...  The Company s actual results could differmater...\n",
              "\n",
              "[5944 rows x 26 columns]"
            ]
          },
          "metadata": {
            "tags": []
          },
          "execution_count": 120
        }
      ]
    },
    {
      "cell_type": "code",
      "metadata": {
        "id": "sHFgN_iwomFA"
      },
      "source": [
        "read_10q_df.to_csv(\"final_read_10q_df.csv\")"
      ],
      "execution_count": null,
      "outputs": []
    },
    {
      "cell_type": "code",
      "metadata": {
        "colab": {
          "base_uri": "https://localhost:8080/"
        },
        "id": "jdLqBGKUpURC",
        "outputId": "5d5e5522-b1ea-444e-ae88-b4f671dd9549"
      },
      "source": [
        "!gsutil cp final_read_10q_df.csv gs://esgbert_resourses/raw_data/"
      ],
      "execution_count": null,
      "outputs": [
        {
          "output_type": "stream",
          "text": [
            "Copying file://final_read_10q_df.csv [Content-Type=text/csv]...\n",
            "/ [0 files][    0.0 B/  2.9 GiB]                                                \r==> NOTE: You are uploading one or more large file(s), which would run\n",
            "significantly faster if you enable parallel composite uploads. This\n",
            "feature can be enabled by editing the\n",
            "\"parallel_composite_upload_threshold\" value in your .boto\n",
            "configuration file. However, note that if you do this large files will\n",
            "be uploaded as `composite objects\n",
            "<https://cloud.google.com/storage/docs/composite-objects>`_,which\n",
            "means that any user who downloads such objects will need to have a\n",
            "compiled crcmod installed (see \"gsutil help crcmod\"). This is because\n",
            "without a compiled crcmod, computing checksums on composite objects is\n",
            "so slow that gsutil disables downloads of composite objects.\n",
            "\n",
            "\\\n",
            "Operation completed over 1 objects/2.9 GiB.                                      \n"
          ],
          "name": "stdout"
        }
      ]
    },
    {
      "cell_type": "markdown",
      "metadata": {
        "id": "Ng_zNPRNQ46z"
      },
      "source": [
        "## Testing Model"
      ]
    },
    {
      "cell_type": "code",
      "metadata": {
        "id": "y1h0c0fT5CAJ"
      },
      "source": [
        "import numpy as np\n",
        "import pandas as pd\n",
        "\n",
        "import tensorflow as tf\n",
        "import tensorflow_datasets as tfds\n",
        "\n",
        "import transformers\n",
        "\n",
        "from transformers import BertTokenizer, TFBertModel, BertForMaskedLM, TFBertForMaskedLM, TFBertForSequenceClassification\n",
        "from tensorflow.keras import backend as K\n",
        "\n",
        "import logging\n",
        "tf.get_logger().setLevel(logging.ERROR)"
      ],
      "execution_count": 17,
      "outputs": []
    },
    {
      "cell_type": "code",
      "metadata": {
        "id": "St1QsY0q35QE",
        "colab": {
          "base_uri": "https://localhost:8080/"
        },
        "outputId": "9e4d757d-7627-4e3b-f99a-4744351583b6"
      },
      "source": [
        "read_10q_df = pd.read_csv(\"gs://esgbert_resourses/raw_data/final_read_10q_df.csv\")"
      ],
      "execution_count": 18,
      "outputs": [
        {
          "output_type": "stream",
          "text": [
            "/usr/local/lib/python3.7/dist-packages/google/auth/_default.py:70: UserWarning: Your application has authenticated using end user credentials from Google Cloud SDK without a quota project. You might receive a \"quota exceeded\" or \"API not enabled\" error. We recommend you rerun `gcloud auth application-default login` and make sure a quota project is added. Or you can use service accounts instead. For more information about service accounts, see https://cloud.google.com/docs/authentication/\n",
            "  warnings.warn(_CLOUD_SDK_CREDENTIALS_WARNING)\n"
          ],
          "name": "stderr"
        }
      ]
    },
    {
      "cell_type": "code",
      "metadata": {
        "colab": {
          "base_uri": "https://localhost:8080/"
        },
        "id": "lSbRpXP7dX1s",
        "outputId": "147f5bb5-9527-4626-db4a-9290bc328e80"
      },
      "source": [
        "%%time \n",
        "read_10q_df['top_3_sents_use_one_compare_str'] = read_10q_df['top_3_sents_use_one_compare'].apply(lambda row: str(row))"
      ],
      "execution_count": 19,
      "outputs": [
        {
          "output_type": "stream",
          "text": [
            "CPU times: user 3 ms, sys: 1.27 ms, total: 4.27 ms\n",
            "Wall time: 7.31 ms\n"
          ],
          "name": "stdout"
        }
      ]
    },
    {
      "cell_type": "code",
      "metadata": {
        "colab": {
          "base_uri": "https://localhost:8080/",
          "height": 1000
        },
        "id": "RsutT8wXc07j",
        "outputId": "2b386767-e72f-4dc6-a971-b14740f4410b"
      },
      "source": [
        "read_10q_df"
      ],
      "execution_count": null,
      "outputs": [
        {
          "output_type": "execute_result",
          "data": {
            "text/html": [
              "<div>\n",
              "<style scoped>\n",
              "    .dataframe tbody tr th:only-of-type {\n",
              "        vertical-align: middle;\n",
              "    }\n",
              "\n",
              "    .dataframe tbody tr th {\n",
              "        vertical-align: top;\n",
              "    }\n",
              "\n",
              "    .dataframe thead th {\n",
              "        text-align: right;\n",
              "    }\n",
              "</style>\n",
              "<table border=\"1\" class=\"dataframe\">\n",
              "  <thead>\n",
              "    <tr style=\"text-align: right;\">\n",
              "      <th></th>\n",
              "      <th>Unnamed: 0</th>\n",
              "      <th>Unnamed: 0.1</th>\n",
              "      <th>Unnamed: 0.1.1</th>\n",
              "      <th>origin_idx</th>\n",
              "      <th>CIK</th>\n",
              "      <th>date</th>\n",
              "      <th>total_esg_score</th>\n",
              "      <th>total_esg_score_quarter_change_pure</th>\n",
              "      <th>total_esg_score_quarter_change_pct</th>\n",
              "      <th>governance_score_quarter_change_pure</th>\n",
              "      <th>governance_score_quarter_change_pct</th>\n",
              "      <th>social_score_quarter_change_pure</th>\n",
              "      <th>social_score_quarter_change_pct</th>\n",
              "      <th>environment_score_quarter_change_pure</th>\n",
              "      <th>environment_score_quarter_change_pct</th>\n",
              "      <th>quarter</th>\n",
              "      <th>year</th>\n",
              "      <th>month</th>\n",
              "      <th>ReportType</th>\n",
              "      <th>Reports</th>\n",
              "      <th>reports_ordered</th>\n",
              "      <th>reports_cosines</th>\n",
              "      <th>contained_env_words_sents</th>\n",
              "      <th>reports_num_removed</th>\n",
              "      <th>contained_env_words_sents_num_removed</th>\n",
              "      <th>top_3_sents_use_one_compare</th>\n",
              "      <th>top_3_sents_use_one_compare_str</th>\n",
              "    </tr>\n",
              "  </thead>\n",
              "  <tbody>\n",
              "    <tr>\n",
              "      <th>0</th>\n",
              "      <td>0</td>\n",
              "      <td>0</td>\n",
              "      <td>0</td>\n",
              "      <td>38</td>\n",
              "      <td>1090872</td>\n",
              "      <td>2016-03-31</td>\n",
              "      <td>70.45</td>\n",
              "      <td>1.51</td>\n",
              "      <td>0.021434</td>\n",
              "      <td>0.01</td>\n",
              "      <td>0.000166</td>\n",
              "      <td>3.34</td>\n",
              "      <td>0.047249</td>\n",
              "      <td>0.00</td>\n",
              "      <td>0.000000</td>\n",
              "      <td>1</td>\n",
              "      <td>2016</td>\n",
              "      <td>3</td>\n",
              "      <td>10Q</td>\n",
              "      <td>0001090872-16-000070.txt : 2016060710-Q 1 a-0...</td>\n",
              "      <td>In addition, the operation of Dako within Agil...</td>\n",
              "      <td>0.8 0.78 0.78 0.76 0.76 0.76 0.75 0.75 0.75 0....</td>\n",
              "      <td>The reassessment process considers whether we ...</td>\n",
              "      <td>_NUMBER_  _NUMBER_  _NUMBER_  _NUMBER_  _NUM...</td>\n",
              "      <td>The reassessment process considers whether we ...</td>\n",
              "      <td>One such cost is our obligation, along with th...</td>\n",
              "      <td>One such cost is our obligation, along with th...</td>\n",
              "    </tr>\n",
              "    <tr>\n",
              "      <th>1</th>\n",
              "      <td>1</td>\n",
              "      <td>1</td>\n",
              "      <td>1</td>\n",
              "      <td>41</td>\n",
              "      <td>1090872</td>\n",
              "      <td>2016-06-30</td>\n",
              "      <td>71.96</td>\n",
              "      <td>-2.98</td>\n",
              "      <td>-0.041412</td>\n",
              "      <td>1.20</td>\n",
              "      <td>0.019861</td>\n",
              "      <td>-10.44</td>\n",
              "      <td>-0.141024</td>\n",
              "      <td>5.43</td>\n",
              "      <td>0.066155</td>\n",
              "      <td>2</td>\n",
              "      <td>2016</td>\n",
              "      <td>6</td>\n",
              "      <td>10Q</td>\n",
              "      <td>0001090872-16-000076.txt : 2016090710-Q 1 a-0...</td>\n",
              "      <td>In addition, the operation of Dako within Agil...</td>\n",
              "      <td>0.8 0.78 0.78 0.76 0.76 0.76 0.75 0.75 0.75 0....</td>\n",
              "      <td>The reassessment process considers whether we ...</td>\n",
              "      <td>_NUMBER_  _NUMBER_  _NUMBER_  _NUMBER_  _NUM...</td>\n",
              "      <td>The reassessment process considers whether we ...</td>\n",
              "      <td>While we have divested substantially all of ou...</td>\n",
              "      <td>While we have divested substantially all of ou...</td>\n",
              "    </tr>\n",
              "    <tr>\n",
              "      <th>2</th>\n",
              "      <td>2</td>\n",
              "      <td>2</td>\n",
              "      <td>2</td>\n",
              "      <td>47</td>\n",
              "      <td>1090872</td>\n",
              "      <td>2016-12-30</td>\n",
              "      <td>68.98</td>\n",
              "      <td>-2.73</td>\n",
              "      <td>-0.039577</td>\n",
              "      <td>0.00</td>\n",
              "      <td>0.000000</td>\n",
              "      <td>-6.05</td>\n",
              "      <td>-0.095141</td>\n",
              "      <td>0.00</td>\n",
              "      <td>0.000000</td>\n",
              "      <td>4</td>\n",
              "      <td>2016</td>\n",
              "      <td>12</td>\n",
              "      <td>10Q</td>\n",
              "      <td>0001090872-17-000004.txt : 2017030810-Q 1 a-0...</td>\n",
              "      <td>Our customers and we are subject to various go...</td>\n",
              "      <td>0.78 0.77 0.76 0.76 0.76 0.76 0.76 0.75 0.75 0...</td>\n",
              "      <td>The reassessment process considers whether we ...</td>\n",
              "      <td>_NUMBER_  _NUMBER_  _NUMBER_  _NUMBER_  _NUM...</td>\n",
              "      <td>The reassessment process considers whether we ...</td>\n",
              "      <td>One such cost is our obligation, along with th...</td>\n",
              "      <td>One such cost is our obligation, along with th...</td>\n",
              "    </tr>\n",
              "    <tr>\n",
              "      <th>3</th>\n",
              "      <td>3</td>\n",
              "      <td>3</td>\n",
              "      <td>3</td>\n",
              "      <td>50</td>\n",
              "      <td>1090872</td>\n",
              "      <td>2017-03-31</td>\n",
              "      <td>66.25</td>\n",
              "      <td>0.14</td>\n",
              "      <td>0.002113</td>\n",
              "      <td>0.00</td>\n",
              "      <td>0.000000</td>\n",
              "      <td>0.00</td>\n",
              "      <td>0.000000</td>\n",
              "      <td>0.55</td>\n",
              "      <td>0.006285</td>\n",
              "      <td>1</td>\n",
              "      <td>2017</td>\n",
              "      <td>3</td>\n",
              "      <td>10Q</td>\n",
              "      <td>0001090872-17-000008.txt : 2017060610-Q 1 a-0...</td>\n",
              "      <td>Our customers and we are subject to various go...</td>\n",
              "      <td>0.78 0.77 0.76 0.76 0.76 0.76 0.75 0.75 0.75 0...</td>\n",
              "      <td>The reassessment process considers whether we ...</td>\n",
              "      <td>_NUMBER_  _NUMBER_  _NUMBER_  _NUMBER_  _NUM...</td>\n",
              "      <td>The reassessment process considers whether we ...</td>\n",
              "      <td>Within the applied markets, there was strong r...</td>\n",
              "      <td>Within the applied markets, there was strong r...</td>\n",
              "    </tr>\n",
              "    <tr>\n",
              "      <th>4</th>\n",
              "      <td>4</td>\n",
              "      <td>4</td>\n",
              "      <td>4</td>\n",
              "      <td>53</td>\n",
              "      <td>1090872</td>\n",
              "      <td>2017-06-30</td>\n",
              "      <td>66.39</td>\n",
              "      <td>0.00</td>\n",
              "      <td>0.000000</td>\n",
              "      <td>0.00</td>\n",
              "      <td>0.000000</td>\n",
              "      <td>0.00</td>\n",
              "      <td>0.000000</td>\n",
              "      <td>0.00</td>\n",
              "      <td>0.000000</td>\n",
              "      <td>2</td>\n",
              "      <td>2017</td>\n",
              "      <td>6</td>\n",
              "      <td>10Q</td>\n",
              "      <td>0001090872-17-000013.txt : 2017090610-Q 1 a-0...</td>\n",
              "      <td>Our customers and we are subject to various go...</td>\n",
              "      <td>0.78 0.77 0.76 0.76 0.76 0.75 0.75 0.75 0.75 0...</td>\n",
              "      <td>The reassessment process considers whether we ...</td>\n",
              "      <td>_NUMBER_  _NUMBER_  _NUMBER_  _NUMBER_  _NUM...</td>\n",
              "      <td>The reassessment process considers whether we ...</td>\n",
              "      <td>One such cost is our obligation, along with th...</td>\n",
              "      <td>One such cost is our obligation, along with th...</td>\n",
              "    </tr>\n",
              "    <tr>\n",
              "      <th>...</th>\n",
              "      <td>...</td>\n",
              "      <td>...</td>\n",
              "      <td>...</td>\n",
              "      <td>...</td>\n",
              "      <td>...</td>\n",
              "      <td>...</td>\n",
              "      <td>...</td>\n",
              "      <td>...</td>\n",
              "      <td>...</td>\n",
              "      <td>...</td>\n",
              "      <td>...</td>\n",
              "      <td>...</td>\n",
              "      <td>...</td>\n",
              "      <td>...</td>\n",
              "      <td>...</td>\n",
              "      <td>...</td>\n",
              "      <td>...</td>\n",
              "      <td>...</td>\n",
              "      <td>...</td>\n",
              "      <td>...</td>\n",
              "      <td>...</td>\n",
              "      <td>...</td>\n",
              "      <td>...</td>\n",
              "      <td>...</td>\n",
              "      <td>...</td>\n",
              "      <td>...</td>\n",
              "      <td>...</td>\n",
              "    </tr>\n",
              "    <tr>\n",
              "      <th>5939</th>\n",
              "      <td>5939</td>\n",
              "      <td>5939</td>\n",
              "      <td>2966</td>\n",
              "      <td>30866</td>\n",
              "      <td>1158449</td>\n",
              "      <td>2015-09-30</td>\n",
              "      <td>48.00</td>\n",
              "      <td>2.00</td>\n",
              "      <td>0.041667</td>\n",
              "      <td>4.00</td>\n",
              "      <td>0.067797</td>\n",
              "      <td>0.00</td>\n",
              "      <td>0.000000</td>\n",
              "      <td>4.00</td>\n",
              "      <td>0.097561</td>\n",
              "      <td>3</td>\n",
              "      <td>2015</td>\n",
              "      <td>9</td>\n",
              "      <td>10Q</td>\n",
              "      <td>0001158449-15-000190.txt : 2015111710-Q 1 aap...</td>\n",
              "      <td>Listed below and discussed in our Annual Repor...</td>\n",
              "      <td>0.74 0.7 0.69 0.69 0.68 0.68 0.67 0.67 0.67 0....</td>\n",
              "      <td>This new standard requires management to perfo...</td>\n",
              "      <td>_NUMBER_  _NUMBER_  _NUMBER_  _NUMBER_  _NUM...</td>\n",
              "      <td>This new standard requires management to perfo...</td>\n",
              "      <td>This new standard requires management to perfo...</td>\n",
              "      <td>This new standard requires management to perfo...</td>\n",
              "    </tr>\n",
              "    <tr>\n",
              "      <th>5940</th>\n",
              "      <td>5940</td>\n",
              "      <td>5940</td>\n",
              "      <td>2967</td>\n",
              "      <td>30907</td>\n",
              "      <td>728535</td>\n",
              "      <td>2015-09-30</td>\n",
              "      <td>54.00</td>\n",
              "      <td>-5.00</td>\n",
              "      <td>-0.092593</td>\n",
              "      <td>-2.00</td>\n",
              "      <td>-0.032258</td>\n",
              "      <td>0.00</td>\n",
              "      <td>0.000000</td>\n",
              "      <td>-13.00</td>\n",
              "      <td>-0.236364</td>\n",
              "      <td>3</td>\n",
              "      <td>2015</td>\n",
              "      <td>9</td>\n",
              "      <td>10Q</td>\n",
              "      <td>0001437749-15-018776.txt : 2015102310-Q 1 jbh...</td>\n",
              "      <td>Rapid changes in fuel costs could impact our p...</td>\n",
              "      <td>0.77 0.77 0.74 0.73 0.73 0.73 0.72 0.7 0.7 0.7...</td>\n",
              "      <td>This new senior credit facility has a five yea...</td>\n",
              "      <td>_NUMBER_  _NUMBER_  _NUMBER_  _NUMBER_  _NUM...</td>\n",
              "      <td>This new senior credit facility has a five yea...</td>\n",
              "      <td>The following table summarizes our expected ob...</td>\n",
              "      <td>The following table summarizes our expected ob...</td>\n",
              "    </tr>\n",
              "    <tr>\n",
              "      <th>5941</th>\n",
              "      <td>5941</td>\n",
              "      <td>5941</td>\n",
              "      <td>2968</td>\n",
              "      <td>31005</td>\n",
              "      <td>832988</td>\n",
              "      <td>2015-09-30</td>\n",
              "      <td>51.00</td>\n",
              "      <td>0.00</td>\n",
              "      <td>0.000000</td>\n",
              "      <td>0.00</td>\n",
              "      <td>0.000000</td>\n",
              "      <td>0.00</td>\n",
              "      <td>0.000000</td>\n",
              "      <td>0.00</td>\n",
              "      <td>0.000000</td>\n",
              "      <td>3</td>\n",
              "      <td>2015</td>\n",
              "      <td>9</td>\n",
              "      <td>10Q</td>\n",
              "      <td>0001628280-15-009247.txt : 2015120410-Q 1 fy1...</td>\n",
              "      <td>These adjustments also reflect the impact of d...</td>\n",
              "      <td>0.72 0.71 0.71 0.71 0.67 0.66 0.66 0.65 0.65 0...</td>\n",
              "      <td>Signet's chief operating decision maker utiliz...</td>\n",
              "      <td>_NUMBER_  _NUMBER_  _NUMBER_  _NUMBER_  _NUM...</td>\n",
              "      <td>Signet's chief operating decision maker utiliz...</td>\n",
              "      <td>Additionally, the debt financing replaced comm...</td>\n",
              "      <td>Additionally, the debt financing replaced comm...</td>\n",
              "    </tr>\n",
              "    <tr>\n",
              "      <th>5942</th>\n",
              "      <td>5942</td>\n",
              "      <td>5942</td>\n",
              "      <td>2969</td>\n",
              "      <td>31065</td>\n",
              "      <td>718877</td>\n",
              "      <td>2015-09-30</td>\n",
              "      <td>48.00</td>\n",
              "      <td>0.00</td>\n",
              "      <td>0.000000</td>\n",
              "      <td>0.00</td>\n",
              "      <td>0.000000</td>\n",
              "      <td>0.00</td>\n",
              "      <td>0.000000</td>\n",
              "      <td>0.00</td>\n",
              "      <td>0.000000</td>\n",
              "      <td>3</td>\n",
              "      <td>2015</td>\n",
              "      <td>9</td>\n",
              "      <td>10Q</td>\n",
              "      <td>0001104659-15-076727.txt : 2015111010-Q 1 a15...</td>\n",
              "      <td>The overall effective income tax rate for the ...</td>\n",
              "      <td>0.77 0.77 0.74 0.71 0.71 0.7 0.7 0.7 0.69 0.69...</td>\n",
              "      <td>Risks and uncertainties that may affect our fu...</td>\n",
              "      <td>_NUMBER_  _NUMBER_  _NUMBER_  _NUMBER_  _NUM...</td>\n",
              "      <td>Risks and uncertainties that may affect our fu...</td>\n",
              "      <td>Risks and uncertainties that may affect our fu...</td>\n",
              "      <td>Risks and uncertainties that may affect our fu...</td>\n",
              "    </tr>\n",
              "    <tr>\n",
              "      <th>5943</th>\n",
              "      <td>5943</td>\n",
              "      <td>5943</td>\n",
              "      <td>2970</td>\n",
              "      <td>31100</td>\n",
              "      <td>100517</td>\n",
              "      <td>2015-09-30</td>\n",
              "      <td>57.00</td>\n",
              "      <td>-1.00</td>\n",
              "      <td>-0.017544</td>\n",
              "      <td>-1.00</td>\n",
              "      <td>-0.014925</td>\n",
              "      <td>-1.00</td>\n",
              "      <td>-0.021739</td>\n",
              "      <td>0.00</td>\n",
              "      <td>0.000000</td>\n",
              "      <td>3</td>\n",
              "      <td>2015</td>\n",
              "      <td>9</td>\n",
              "      <td>10Q</td>\n",
              "      <td>0001193125-15-350093.txt : 2015102210-Q 1 d63...</td>\n",
              "      <td>As describedin the 2014 Annual Report, the Com...</td>\n",
              "      <td>0.77 0.76 0.75 0.74 0.74 0.74 0.71 0.71 0.71 0...</td>\n",
              "      <td>As of September 30, 2015, United had firm comm...</td>\n",
              "      <td>_NUMBER_  _NUMBER_  _NUMBER_  _NUMBER_  _NUM...</td>\n",
              "      <td>As of September  _NUMBER_  _NUMBER_ ,  _NUMBER...</td>\n",
              "      <td>The Company s actual results could differmater...</td>\n",
              "      <td>The Company s actual results could differmater...</td>\n",
              "    </tr>\n",
              "  </tbody>\n",
              "</table>\n",
              "<p>5944 rows × 27 columns</p>\n",
              "</div>"
            ],
            "text/plain": [
              "      Unnamed: 0  ...                    top_3_sents_use_one_compare_str\n",
              "0              0  ...  One such cost is our obligation, along with th...\n",
              "1              1  ...  While we have divested substantially all of ou...\n",
              "2              2  ...  One such cost is our obligation, along with th...\n",
              "3              3  ...  Within the applied markets, there was strong r...\n",
              "4              4  ...  One such cost is our obligation, along with th...\n",
              "...          ...  ...                                                ...\n",
              "5939        5939  ...  This new standard requires management to perfo...\n",
              "5940        5940  ...  The following table summarizes our expected ob...\n",
              "5941        5941  ...  Additionally, the debt financing replaced comm...\n",
              "5942        5942  ...  Risks and uncertainties that may affect our fu...\n",
              "5943        5943  ...  The Company s actual results could differmater...\n",
              "\n",
              "[5944 rows x 27 columns]"
            ]
          },
          "metadata": {
            "tags": []
          },
          "execution_count": 20
        }
      ]
    },
    {
      "cell_type": "code",
      "metadata": {
        "colab": {
          "base_uri": "https://localhost:8080/"
        },
        "id": "pThtpY_p3M1j",
        "outputId": "ccc79cd1-3701-4231-c97b-5195a545d35d"
      },
      "source": [
        "#total_ds = pd.concat([train_ds, test_ds])\n",
        "#total_ds = concatenated_filtered_cik_dfs.copy()\n",
        "total_ds = read_10q_df.copy()\n",
        "#total_ds = no_0_change_subset_with_top_3_2017.copy()\n",
        "len(total_ds)"
      ],
      "execution_count": 20,
      "outputs": [
        {
          "output_type": "execute_result",
          "data": {
            "text/plain": [
              "5944"
            ]
          },
          "metadata": {
            "tags": []
          },
          "execution_count": 20
        }
      ]
    },
    {
      "cell_type": "code",
      "metadata": {
        "id": "O9QdQD5h4K-b"
      },
      "source": [
        "total_ds['class_environment_score_quarter_change_pure'] = np.where(total_ds['environment_score_quarter_change_pure']==0,0,1)"
      ],
      "execution_count": 21,
      "outputs": []
    },
    {
      "cell_type": "code",
      "metadata": {
        "id": "Hc2qu4CkPgTV"
      },
      "source": [
        "#train_ds = total_ds[total_ds.year!=2018]\n",
        "#test_ds = total_ds[total_ds.year==2018]"
      ],
      "execution_count": null,
      "outputs": []
    },
    {
      "cell_type": "code",
      "metadata": {
        "colab": {
          "base_uri": "https://localhost:8080/"
        },
        "id": "w8fI7NL13M1j",
        "outputId": "6dffed3a-6141-4f04-8aa0-9577a969a16f"
      },
      "source": [
        "dataset = tf.data.Dataset.from_tensor_slices((total_ds.top_3_sents_use_one_compare_str.values, total_ds.class_environment_score_quarter_change_pure.values))\n",
        "dataset"
      ],
      "execution_count": 22,
      "outputs": [
        {
          "output_type": "execute_result",
          "data": {
            "text/plain": [
              "<TensorSliceDataset shapes: ((), ()), types: (tf.string, tf.int64)>"
            ]
          },
          "metadata": {
            "tags": []
          },
          "execution_count": 22
        }
      ]
    },
    {
      "cell_type": "code",
      "metadata": {
        "id": "cW9XeZgGcv3W"
      },
      "source": [
        "dataset = dataset.shuffle(len(dataset))"
      ],
      "execution_count": 23,
      "outputs": []
    },
    {
      "cell_type": "code",
      "metadata": {
        "colab": {
          "base_uri": "https://localhost:8080/"
        },
        "id": "jRRTQ_Ts3M1k",
        "outputId": "90f0cf85-034b-4bc2-e5bf-d57b12a937b3"
      },
      "source": [
        "#train_size = round(len(total_ds)*.8)\n",
        "#test_size = len(total_ds) - round(len(total_ds)*.8)\n",
        "#train_size = len(train_ds)\n",
        "#test_size = len(test_ds)\n",
        "train_size = round(len(total_ds)*.7)\n",
        "valid_size = round(len(total_ds)*.2)\n",
        "test_size = len(total_ds) - round(len(total_ds)*.7) - round(len(total_ds)*.2)\n",
        "\n",
        "print(train_size)\n",
        "print(valid_size)\n",
        "print(test_size)"
      ],
      "execution_count": 24,
      "outputs": [
        {
          "output_type": "stream",
          "text": [
            "4161\n",
            "1189\n",
            "594\n"
          ],
          "name": "stdout"
        }
      ]
    },
    {
      "cell_type": "code",
      "metadata": {
        "id": "kURnZ3Nr3M1l"
      },
      "source": [
        "#train_data = dataset.take(train_size)\n",
        "#train_data = dataset.take(len(train_ds))\n",
        "#train_data = tf.data.Dataset.from_tensor_slices((train_ds.top_3_sents_use_one_compare_no_num.values, train_ds.class_environment_score_quarter_change_pure.values))\n",
        "#train_data"
      ],
      "execution_count": null,
      "outputs": []
    },
    {
      "cell_type": "code",
      "metadata": {
        "id": "IoI4S3M73M1l"
      },
      "source": [
        "#test_data = dataset.skip(train_size)\n",
        "#test_data = dataset.skip(len(train_ds))\n",
        "#test_data = tf.data.Dataset.from_tensor_slices((test_ds.top_3_sents_use_one_compare_no_num.values, test_ds.class_environment_score_quarter_change_pure.values))\n",
        "#test_data"
      ],
      "execution_count": null,
      "outputs": []
    },
    {
      "cell_type": "code",
      "metadata": {
        "id": "NLK6VUR4RecG"
      },
      "source": [
        "train_data = dataset.take(train_size)\n",
        "temp_data = dataset.skip(train_size)\n",
        "valid_data = temp_data.take(valid_size)\n",
        "test_data = temp_data.skip(valid_size)"
      ],
      "execution_count": 25,
      "outputs": []
    },
    {
      "cell_type": "code",
      "metadata": {
        "id": "nmas094j3M1l"
      },
      "source": [
        "train_examples_batch, train_labels_batch = next(iter(train_data.batch(train_size)))\n",
        "valid_examples_batch, valid_labels_batch = next(iter(valid_data.batch(valid_size)))\n",
        "test_examples_batch, test_labels_batch = next(iter(test_data.batch(test_size)))"
      ],
      "execution_count": 26,
      "outputs": []
    },
    {
      "cell_type": "code",
      "metadata": {
        "id": "LMvUlXNN3M1m",
        "colab": {
          "base_uri": "https://localhost:8080/",
          "height": 213,
          "referenced_widgets": [
            "81c33135427f49a79c1240e7a4bfec8c",
            "a321128c9b414e549c994750b27c1837",
            "f9f04451a20c473d961f03d0a02744ac",
            "d0209b5ef3db49ea85365e0ee0b48907",
            "f930d6ad0fb04095a134e1ddc09ec363",
            "0a80648207374aa2a896fc31b91b1c82",
            "f5e5c26b643a42c6a62e3cc8d5ed85a3",
            "2ec2d58c1bb54a1c92a59a2f087c6871",
            "bf3f5f5ef9fc427b89f58c4a1cfbfd5d",
            "f664a5992634484885261fbbd66ee295",
            "c16f496c1de046bc8e95b310dbdd6c9f",
            "9456fa51e4d24937b938ee216103e853",
            "329d1ce7e7a748ec993fc04b3bb59257",
            "376553fdaeb34b00bfc5a8ad1c4f2001",
            "e7805ebc9476436f9599dc05ff28005e",
            "5d8948caed2b4135bc49ec2eef0f11d4",
            "c0d7f4ba02414bc88c167762d8d0080b",
            "8f5dc0f6d4b74d8aa3c98c43e59c8f8b",
            "309a3e8bbe4d4e619f90dbb269f446ae",
            "c484ec18b53147839cd7842549c980eb",
            "0cff2f7deb78477ea49df63ca138ebc8",
            "10a46ad7ef2247e1bd4c33e4a8492e01",
            "c9ab1dc594454008846d6a1ecd330cd6",
            "c726604bd2cf4d83a535dc14cc2a5e17",
            "6e0ffa5fb47447078c15e3afab698c2d",
            "a2d492d6a0d44f07b1cc5e1774c47a8d",
            "50a6a70d97fd45f08eb22c4b24006286",
            "6a54784c1dbb4fc8a94da3584036cd05",
            "0a417c24123c4fc3b705b3b53a9aec03",
            "46ebafb4d2354e809a2ac3211be06069",
            "62e9d970e4f940df9abae41a86ebbaed",
            "27719d6663a74c04bed287520e7b4d83"
          ]
        },
        "outputId": "2d117611-8adf-4004-ae32-e23c90caa0d0"
      },
      "source": [
        "tokenizer = BertTokenizer.from_pretrained('bert-base-cased')\n",
        "\n",
        "num_train_examples = train_size\n",
        "num_valid_examples = valid_size\n",
        "num_test_examples = test_size\n",
        "num_tiny_set = 5\n",
        "\n",
        "max_length = 512\n",
        "\n",
        "x_train = tokenizer([str(x.numpy())[2:] for x in train_examples_batch[:num_train_examples]], \n",
        "              max_length=max_length,\n",
        "              truncation=True,\n",
        "              padding='max_length', \n",
        "              return_tensors='tf')\n",
        "y_train = train_labels_batch[:num_train_examples]\n",
        "\n",
        "x_val = tokenizer([str(x.numpy())[2:] for x in valid_examples_batch[:num_valid_examples]], \n",
        "              max_length=max_length,\n",
        "              truncation=True,\n",
        "              padding='max_length', \n",
        "              return_tensors='tf')\n",
        "y_val = valid_labels_batch[:num_valid_examples]\n",
        "\n",
        "x_test = tokenizer([str(x.numpy())[2:] for x in test_examples_batch[:num_test_examples]], \n",
        "              max_length=max_length,\n",
        "              truncation=True,\n",
        "              padding='max_length', \n",
        "              return_tensors='tf')\n",
        "y_test = test_labels_batch[:num_test_examples]\n",
        " \n",
        "x_tiny = tokenizer([str(x.numpy())[2:] for x in test_examples_batch[:num_tiny_set]], \n",
        "              max_length=max_length,\n",
        "              truncation=True,\n",
        "              padding='max_length', \n",
        "              return_tensors='tf')\n",
        "y_tiny = test_labels_batch[:num_tiny_set]"
      ],
      "execution_count": 30,
      "outputs": [
        {
          "output_type": "display_data",
          "data": {
            "application/vnd.jupyter.widget-view+json": {
              "model_id": "81c33135427f49a79c1240e7a4bfec8c",
              "version_minor": 0,
              "version_major": 2
            },
            "text/plain": [
              "HBox(children=(FloatProgress(value=0.0, description='Downloading', max=213450.0, style=ProgressStyle(descripti…"
            ]
          },
          "metadata": {
            "tags": []
          }
        },
        {
          "output_type": "stream",
          "text": [
            "\n"
          ],
          "name": "stdout"
        },
        {
          "output_type": "display_data",
          "data": {
            "application/vnd.jupyter.widget-view+json": {
              "model_id": "bf3f5f5ef9fc427b89f58c4a1cfbfd5d",
              "version_minor": 0,
              "version_major": 2
            },
            "text/plain": [
              "HBox(children=(FloatProgress(value=0.0, description='Downloading', max=29.0, style=ProgressStyle(description_w…"
            ]
          },
          "metadata": {
            "tags": []
          }
        },
        {
          "output_type": "stream",
          "text": [
            "\n"
          ],
          "name": "stdout"
        },
        {
          "output_type": "display_data",
          "data": {
            "application/vnd.jupyter.widget-view+json": {
              "model_id": "c0d7f4ba02414bc88c167762d8d0080b",
              "version_minor": 0,
              "version_major": 2
            },
            "text/plain": [
              "HBox(children=(FloatProgress(value=0.0, description='Downloading', max=435797.0, style=ProgressStyle(descripti…"
            ]
          },
          "metadata": {
            "tags": []
          }
        },
        {
          "output_type": "stream",
          "text": [
            "\n"
          ],
          "name": "stdout"
        },
        {
          "output_type": "display_data",
          "data": {
            "application/vnd.jupyter.widget-view+json": {
              "model_id": "6e0ffa5fb47447078c15e3afab698c2d",
              "version_minor": 0,
              "version_major": 2
            },
            "text/plain": [
              "HBox(children=(FloatProgress(value=0.0, description='Downloading', max=570.0, style=ProgressStyle(description_…"
            ]
          },
          "metadata": {
            "tags": []
          }
        },
        {
          "output_type": "stream",
          "text": [
            "\n"
          ],
          "name": "stdout"
        }
      ]
    },
    {
      "cell_type": "code",
      "metadata": {
        "colab": {
          "base_uri": "https://localhost:8080/"
        },
        "id": "Runcm8AI4gTx",
        "outputId": "c0b1bb34-7529-4d2f-a260-6c24a46efb06"
      },
      "source": [
        "print('ratio of positive examples: ', np.sum(y_train==0)/len(y_train))\n",
        "print('ratio of positive examples in validation: ', np.sum(y_val==0)/len(y_val))\n",
        "print('ratio of positive examples in test: ', np.sum(y_test==0)/len(y_test))"
      ],
      "execution_count": 31,
      "outputs": [
        {
          "output_type": "stream",
          "text": [
            "ratio of positive examples:  0.6106705118961788\n",
            "ratio of positive examples in validation:  0.6139613120269134\n",
            "ratio of positive examples in test:  0.5791245791245792\n"
          ],
          "name": "stdout"
        }
      ]
    },
    {
      "cell_type": "code",
      "metadata": {
        "colab": {
          "base_uri": "https://localhost:8080/"
        },
        "id": "Ac4UdVXO3M1l",
        "outputId": "a0f6d062-f9e5-49be-e200-fc170e8742c6"
      },
      "source": [
        "#Getting the model from google cloud storage\n",
        "!gsutil cp -r gs://esgbert_resourses/esgbert_model/model '.'"
      ],
      "execution_count": 32,
      "outputs": [
        {
          "output_type": "stream",
          "text": [
            "Copying gs://esgbert_resourses/esgbert_model/model/ESGMLMTunedBERT/config.json...\n",
            "Copying gs://esgbert_resourses/esgbert_model/model/ESGMLMTunedBERT/pytorch_model.bin...\n",
            "Copying gs://esgbert_resourses/esgbert_model/model/ESGMLMTunedBERT/training_args.bin...\n",
            "\\ [3 files][413.4 MiB/413.4 MiB]                                                \n",
            "Operation completed over 3 objects/413.4 MiB.                                    \n"
          ],
          "name": "stdout"
        }
      ]
    },
    {
      "cell_type": "code",
      "metadata": {
        "colab": {
          "base_uri": "https://localhost:8080/"
        },
        "id": "SB6M0bve3M1l",
        "outputId": "0a27a874-78a5-4fc0-b472-9914f8a442ca"
      },
      "source": [
        "# From Bucket\n",
        "bert_model = TFBertForSequenceClassification.from_pretrained('./model/ESGMLMTunedBERT', from_pt=True, num_labels=2)"
      ],
      "execution_count": 34,
      "outputs": [
        {
          "output_type": "stream",
          "text": [
            "Some weights of the PyTorch model were not used when initializing the TF 2.0 model TFBertForSequenceClassification: ['bert.embeddings.position_ids']\n",
            "- This IS expected if you are initializing TFBertForSequenceClassification from a PyTorch model trained on another task or with another architecture (e.g. initializing a TFBertForSequenceClassification model from a BertForPreTraining model).\n",
            "- This IS NOT expected if you are initializing TFBertForSequenceClassification from a PyTorch model that you expect to be exactly identical (e.g. initializing a TFBertForSequenceClassification model from a BertForSequenceClassification model).\n",
            "Some weights or buffers of the TF 2.0 model TFBertForSequenceClassification were not initialized from the PyTorch model and are newly initialized: ['bert.pooler.dense.weight', 'bert.pooler.dense.bias', 'classifier.weight', 'classifier.bias']\n",
            "You should probably TRAIN this model on a down-stream task to be able to use it for predictions and inference.\n"
          ],
          "name": "stderr"
        }
      ]
    },
    {
      "cell_type": "code",
      "metadata": {
        "id": "F8PfV5wTQz40"
      },
      "source": [
        "callbacks = [tf.keras.callbacks.ModelCheckpoint(filepath=model_save_path,save_weights_only=True,monitor='val_loss',mode='min',save_best_only=True),keras.callbacks.TensorBoard(log_dir=log_dir)]"
      ],
      "execution_count": null,
      "outputs": []
    },
    {
      "cell_type": "code",
      "metadata": {
        "id": "3PG4E8vXQQef"
      },
      "source": [
        "loss = tf.keras.losses.BinaryCrossentropy(from_logits=False)\n",
        "metric = tf.keras.metrics.BinaryAccuracy('accuracy')\n",
        "optimizer = tf.keras.optimizers.Adam(learning_rate=2e-5,epsilon=1e-08)\n",
        "\n",
        "bert_model.compile(loss=loss,optimizer=optimizer,metrics=[metric])"
      ],
      "execution_count": 35,
      "outputs": []
    },
    {
      "cell_type": "code",
      "metadata": {
        "colab": {
          "base_uri": "https://localhost:8080/"
        },
        "id": "m7Sy4KPIQovs",
        "outputId": "93122191-a918-48e3-fda9-d50b34abe234"
      },
      "source": [
        "bert_model.fit([x_train.input_ids, x_train.attention_mask],y_train,\n",
        "               batch_size=8,epochs=8,\n",
        "               validation_data=([x_val.input_ids,x_val.attention_mask],y_val),)\n",
        "               #callbacks=callbacks)"
      ],
      "execution_count": null,
      "outputs": [
        {
          "output_type": "stream",
          "text": [
            "Epoch 1/8\n",
            "521/521 [==============================] - 323s 620ms/step - loss: 0.6315 - accuracy: 0.6443 - val_loss: 0.6212 - val_accuracy: 0.6396\n",
            "Epoch 2/8\n",
            "521/521 [==============================] - 323s 620ms/step - loss: 0.5856 - accuracy: 0.6938 - val_loss: 0.6266 - val_accuracy: 0.7275\n",
            "Epoch 3/8\n",
            "521/521 [==============================] - 323s 620ms/step - loss: 0.5601 - accuracy: 0.7424 - val_loss: 0.5478 - val_accuracy: 0.7595\n",
            "Epoch 4/8\n",
            "521/521 [==============================] - 323s 620ms/step - loss: 0.5590 - accuracy: 0.7354 - val_loss: 0.5762 - val_accuracy: 0.7061\n",
            "Epoch 5/8\n",
            "521/521 [==============================] - 323s 620ms/step - loss: 0.4873 - accuracy: 0.7854 - val_loss: 0.9727 - val_accuracy: 0.7918\n",
            "Epoch 6/8\n",
            "521/521 [==============================] - 323s 620ms/step - loss: 0.4578 - accuracy: 0.8123 - val_loss: 0.7270 - val_accuracy: 0.7792\n",
            "Epoch 7/8\n",
            "521/521 [==============================] - 323s 620ms/step - loss: 0.5147 - accuracy: 0.7680 - val_loss: 1.0733 - val_accuracy: 0.7914\n",
            "Epoch 8/8\n",
            "521/521 [==============================] - 323s 620ms/step - loss: 0.4026 - accuracy: 0.8390 - val_loss: 0.8719 - val_accuracy: 0.7906\n"
          ],
          "name": "stdout"
        },
        {
          "output_type": "execute_result",
          "data": {
            "text/plain": [
              "<tensorflow.python.keras.callbacks.History at 0x7ff5ae48d790>"
            ]
          },
          "metadata": {
            "tags": []
          },
          "execution_count": 45
        }
      ]
    },
    {
      "cell_type": "markdown",
      "metadata": {
        "id": "wQwL11xIbETG"
      },
      "source": [
        "# Evaluate on Original BERT"
      ]
    },
    {
      "cell_type": "code",
      "metadata": {
        "colab": {
          "base_uri": "https://localhost:8080/",
          "height": 154,
          "referenced_widgets": [
            "15d830c1b7a7481dacc836b5a6bc9ddb",
            "f6c2cec81031465180465f5a46ba8f03",
            "da7ce4dc7f6a4e968aef69df85a7f4d0",
            "50ec9269fce443ea98a722984c93d557",
            "7d1e8a98cd45404f868bba08b25bd5b3",
            "700628feb7904273b60fe683920b5b50",
            "02c90bbcc84c40ab99f129ee4e4f3926",
            "5c6899288cdd400e8ce58cdf93120695"
          ]
        },
        "id": "nFRpVsIhbO34",
        "outputId": "07108cb5-c626-47ba-d8fd-44bb64e2cbf5"
      },
      "source": [
        "bert_original_model = TFBertForSequenceClassification.from_pretrained('bert-base-cased', num_labels=2)"
      ],
      "execution_count": 38,
      "outputs": [
        {
          "output_type": "display_data",
          "data": {
            "application/vnd.jupyter.widget-view+json": {
              "model_id": "15d830c1b7a7481dacc836b5a6bc9ddb",
              "version_minor": 0,
              "version_major": 2
            },
            "text/plain": [
              "HBox(children=(FloatProgress(value=0.0, description='Downloading', max=526681800.0, style=ProgressStyle(descri…"
            ]
          },
          "metadata": {
            "tags": []
          }
        },
        {
          "output_type": "stream",
          "text": [
            "\n"
          ],
          "name": "stdout"
        },
        {
          "output_type": "stream",
          "text": [
            "All model checkpoint layers were used when initializing TFBertForSequenceClassification.\n",
            "\n",
            "Some layers of TFBertForSequenceClassification were not initialized from the model checkpoint at bert-base-cased and are newly initialized: ['classifier']\n",
            "You should probably TRAIN this model on a down-stream task to be able to use it for predictions and inference.\n"
          ],
          "name": "stderr"
        }
      ]
    },
    {
      "cell_type": "code",
      "metadata": {
        "id": "aDebbxTqbO35"
      },
      "source": [
        "callbacks = [tf.keras.callbacks.ModelCheckpoint(filepath=model_save_path,save_weights_only=True,monitor='val_loss',mode='min',save_best_only=True),keras.callbacks.TensorBoard(log_dir=log_dir)]"
      ],
      "execution_count": null,
      "outputs": []
    },
    {
      "cell_type": "code",
      "metadata": {
        "id": "l9IsghSkbO35"
      },
      "source": [
        "loss = tf.keras.losses.BinaryCrossentropy(from_logits=False)\n",
        "metric = tf.keras.metrics.BinaryAccuracy('accuracy')\n",
        "optimizer = tf.keras.optimizers.Adam(learning_rate=2e-5,epsilon=1e-08)\n",
        "\n",
        "bert_original_model.compile(loss=loss,optimizer=optimizer,metrics=[metric])"
      ],
      "execution_count": 39,
      "outputs": []
    },
    {
      "cell_type": "code",
      "metadata": {
        "colab": {
          "base_uri": "https://localhost:8080/"
        },
        "id": "G1NOfRwLbO35",
        "outputId": "1cbf0877-b301-4995-9904-16aa9f7f43d3"
      },
      "source": [
        "bert_original_model.fit([x_train.input_ids, x_train.attention_mask],y_train,\n",
        "               batch_size=8,epochs=8,\n",
        "               validation_data=([x_val.input_ids,x_val.attention_mask],y_val),)\n",
        "               #callbacks=callbacks)"
      ],
      "execution_count": 40,
      "outputs": [
        {
          "output_type": "stream",
          "text": [
            "Epoch 1/8\n",
            "521/521 [==============================] - 200s 356ms/step - loss: 0.7963 - accuracy: 0.5705 - val_loss: 0.6668 - val_accuracy: 0.6140\n",
            "Epoch 2/8\n",
            "521/521 [==============================] - 182s 350ms/step - loss: 0.6808 - accuracy: 0.5914 - val_loss: 0.6732 - val_accuracy: 0.6140\n",
            "Epoch 3/8\n",
            "521/521 [==============================] - 182s 350ms/step - loss: 0.6776 - accuracy: 0.5914 - val_loss: 0.6660 - val_accuracy: 0.6140\n",
            "Epoch 4/8\n",
            "521/521 [==============================] - 182s 350ms/step - loss: 0.6768 - accuracy: 0.6006 - val_loss: 0.6716 - val_accuracy: 0.6140\n",
            "Epoch 5/8\n",
            "521/521 [==============================] - 182s 350ms/step - loss: 0.6842 - accuracy: 0.5904 - val_loss: 0.6723 - val_accuracy: 0.6140\n",
            "Epoch 6/8\n",
            "521/521 [==============================] - 182s 350ms/step - loss: 0.6728 - accuracy: 0.5971 - val_loss: 0.6533 - val_accuracy: 0.6140\n",
            "Epoch 7/8\n",
            "521/521 [==============================] - 182s 350ms/step - loss: 0.6599 - accuracy: 0.6075 - val_loss: 0.6731 - val_accuracy: 0.6266\n",
            "Epoch 8/8\n",
            "521/521 [==============================] - 183s 350ms/step - loss: 0.6442 - accuracy: 0.6251 - val_loss: 0.6960 - val_accuracy: 0.6325\n"
          ],
          "name": "stdout"
        },
        {
          "output_type": "execute_result",
          "data": {
            "text/plain": [
              "<tensorflow.python.keras.callbacks.History at 0x7f248ffdf410>"
            ]
          },
          "metadata": {
            "tags": []
          },
          "execution_count": 40
        }
      ]
    },
    {
      "cell_type": "markdown",
      "metadata": {
        "id": "g1DTeuXQqbFS"
      },
      "source": [
        "# Evaluate on Test"
      ]
    },
    {
      "cell_type": "code",
      "metadata": {
        "colab": {
          "base_uri": "https://localhost:8080/"
        },
        "id": "i3fwybItKoBI",
        "outputId": "11372337-dcc2-438f-c7b5-47b7eab25db6"
      },
      "source": [
        "bert_model.evaluate([x_test.input_ids, x_test.attention_mask],y_test,batch_size=8)"
      ],
      "execution_count": 43,
      "outputs": [
        {
          "output_type": "stream",
          "text": [
            "75/75 [==============================] - 8s 112ms/step - loss: 0.6557 - accuracy: 0.6709\n"
          ],
          "name": "stdout"
        },
        {
          "output_type": "execute_result",
          "data": {
            "text/plain": [
              "[0.6556648015975952, 0.6708754301071167]"
            ]
          },
          "metadata": {
            "tags": []
          },
          "execution_count": 43
        }
      ]
    },
    {
      "cell_type": "code",
      "metadata": {
        "colab": {
          "base_uri": "https://localhost:8080/"
        },
        "id": "_TOfZHdwXN_s",
        "outputId": "4c6ba38f-8f15-4bde-a6b2-66b96ab9aad2"
      },
      "source": [
        "bert_original_model.evaluate([x_test.input_ids, x_test.attention_mask],y_test,batch_size=8)"
      ],
      "execution_count": 41,
      "outputs": [
        {
          "output_type": "stream",
          "text": [
            "75/75 [==============================] - 9s 113ms/step - loss: 0.7748 - accuracy: 0.5985\n"
          ],
          "name": "stdout"
        },
        {
          "output_type": "execute_result",
          "data": {
            "text/plain": [
              "[0.774804949760437, 0.5984848737716675]"
            ]
          },
          "metadata": {
            "tags": []
          },
          "execution_count": 41
        }
      ]
    },
    {
      "cell_type": "markdown",
      "metadata": {
        "id": "AFCj9zJo_tVA"
      },
      "source": [
        "# Boiler Plate Removal 10Q - Full"
      ]
    },
    {
      "cell_type": "code",
      "metadata": {
        "id": "1d7hyy2sAAJn"
      },
      "source": [
        "read_10q_df = pd.read_csv(\"gs://esgbert_resourses/raw_data/final_read_10q_df.csv\")"
      ],
      "execution_count": null,
      "outputs": []
    },
    {
      "cell_type": "code",
      "metadata": {
        "id": "0k6BpHlTANc0"
      },
      "source": [
        "len(read_10q_df)"
      ],
      "execution_count": null,
      "outputs": []
    },
    {
      "cell_type": "code",
      "metadata": {
        "id": "vrKwCNXZ_yC2"
      },
      "source": [
        "concatenated_filtered_cik_dfs = pd.DataFrame()\n",
        "for cik in read_10q_df['CIK'].to_numpy():\n",
        "  filter_for_cik = read_10q_df[read_10q_df.CIK==cik]\n",
        "  #print(filter_for_cik.iloc[0,22])\n",
        "  #print(filter_for_cik.iloc[1,22])\n",
        "  overlaps_across_quarters = []\n",
        "  for i in range(len(filter_for_cik)-1):\n",
        "    for j in range(i+1, len(filter_for_cik)-2):\n",
        "      overlaps = get_overlap(str(filter_for_cik.iloc[i,22]),str(filter_for_cik.iloc[j,22]))\n",
        "      overlaps_across_quarters = np.concatenate((overlaps_across_quarters, overlaps))\n",
        "  for i in range(len(filter_for_cik)):\n",
        "    filter_for_cik.iloc[i,24] = str(filter_for_cik.iloc[i,22])\n",
        "    for overlap in overlaps_across_quarters:\n",
        "      filter_for_cik.iloc[i,24] = filter_for_cik.iloc[i,24].replace(overlap, '')  \n",
        "  concatenated_filtered_cik_dfs = concatenated_filtered_cik_dfs.append(filter_for_cik)\n",
        "  #print(\"duplicate text: \", overlaps_across_quarters)"
      ],
      "execution_count": null,
      "outputs": []
    },
    {
      "cell_type": "code",
      "metadata": {
        "id": "HXmWahRF_yC4"
      },
      "source": [
        "concatenated_filtered_cik_dfs.to_csv('final_no_boiler_plt_read_10q_df.csv')"
      ],
      "execution_count": null,
      "outputs": []
    },
    {
      "cell_type": "code",
      "metadata": {
        "colab": {
          "base_uri": "https://localhost:8080/"
        },
        "id": "-Gg-4_CP_yC4",
        "outputId": "ab5f654c-7c15-47f6-eb47-4d5cc32b6962"
      },
      "source": [
        "!gsutil cp final_no_boiler_plt_read_10q_df.csv gs://esgbert_resourses/raw_data/"
      ],
      "execution_count": null,
      "outputs": [
        {
          "output_type": "stream",
          "text": [
            "Copying file://no_boiler_plt_subset_read_10q_df.csv [Content-Type=text/csv]...\n",
            "/ [0 files][    0.0 B/719.2 MiB]                                                \r==> NOTE: You are uploading one or more large file(s), which would run\n",
            "significantly faster if you enable parallel composite uploads. This\n",
            "feature can be enabled by editing the\n",
            "\"parallel_composite_upload_threshold\" value in your .boto\n",
            "configuration file. However, note that if you do this large files will\n",
            "be uploaded as `composite objects\n",
            "<https://cloud.google.com/storage/docs/composite-objects>`_,which\n",
            "means that any user who downloads such objects will need to have a\n",
            "compiled crcmod installed (see \"gsutil help crcmod\"). This is because\n",
            "without a compiled crcmod, computing checksums on composite objects is\n",
            "so slow that gsutil disables downloads of composite objects.\n",
            "\n",
            "| [1 files][719.2 MiB/719.2 MiB]                                                \n",
            "Operation completed over 1 objects/719.2 MiB.                                    \n"
          ],
          "name": "stdout"
        }
      ]
    }
  ]
}