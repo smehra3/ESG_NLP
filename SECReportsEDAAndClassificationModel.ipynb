{
  "nbformat": 4,
  "nbformat_minor": 0,
  "metadata": {
    "colab": {
      "name": "SECReportsEDAAndClassificationModel.ipynb",
      "provenance": [],
      "collapsed_sections": [
        "Nyjo68RL0ZHn",
        "SewhEFFrTDxx",
        "8PSo7NXnho2n",
        "EEm_5_l0h1PJ",
        "kfixVSEbEAjy",
        "rpbGztr2amIu"
      ]
    },
    "kernelspec": {
      "name": "python3",
      "display_name": "Python 3"
    },
    "language_info": {
      "name": "python"
    },
    "accelerator": "GPU"
  },
  "cells": [
    {
      "cell_type": "markdown",
      "metadata": {
        "id": "Nyjo68RL0ZHn"
      },
      "source": [
        "#Install"
      ]
    },
    {
      "cell_type": "code",
      "metadata": {
        "id": "PrNVdb270dCu",
        "colab": {
          "base_uri": "https://localhost:8080/"
        },
        "outputId": "edb6dc9f-f981-45f7-a500-449d67a0e26e"
      },
      "source": [
        "!apt-get install python3-pypdf2"
      ],
      "execution_count": 2,
      "outputs": [
        {
          "output_type": "stream",
          "text": [
            "Reading package lists... Done\n",
            "Building dependency tree       \n",
            "Reading state information... Done\n",
            "python3-pypdf2 is already the newest version (1.26.0-2).\n",
            "0 upgraded, 0 newly installed, 0 to remove and 40 not upgraded.\n"
          ],
          "name": "stdout"
        }
      ]
    },
    {
      "cell_type": "code",
      "metadata": {
        "id": "l9P40JYa0fwX"
      },
      "source": [
        "!pip install -U -q PyDrive"
      ],
      "execution_count": 3,
      "outputs": []
    },
    {
      "cell_type": "code",
      "metadata": {
        "id": "vTyH-TTQ0xpz",
        "colab": {
          "base_uri": "https://localhost:8080/"
        },
        "outputId": "5244835b-581e-4ef6-b267-da9d99a97b8b"
      },
      "source": [
        "!pip install sentence-transformers"
      ],
      "execution_count": 4,
      "outputs": [
        {
          "output_type": "stream",
          "text": [
            "Requirement already satisfied: sentence-transformers in /usr/local/lib/python3.7/dist-packages (2.0.0)\n",
            "Requirement already satisfied: huggingface-hub in /usr/local/lib/python3.7/dist-packages (from sentence-transformers) (0.0.12)\n",
            "Requirement already satisfied: tqdm in /usr/local/lib/python3.7/dist-packages (from sentence-transformers) (4.41.1)\n",
            "Requirement already satisfied: transformers<5.0.0,>=4.6.0 in /usr/local/lib/python3.7/dist-packages (from sentence-transformers) (4.9.1)\n",
            "Requirement already satisfied: nltk in /usr/local/lib/python3.7/dist-packages (from sentence-transformers) (3.2.5)\n",
            "Requirement already satisfied: torchvision in /usr/local/lib/python3.7/dist-packages (from sentence-transformers) (0.10.0+cu102)\n",
            "Requirement already satisfied: torch>=1.6.0 in /usr/local/lib/python3.7/dist-packages (from sentence-transformers) (1.9.0+cu102)\n",
            "Requirement already satisfied: numpy in /usr/local/lib/python3.7/dist-packages (from sentence-transformers) (1.19.5)\n",
            "Requirement already satisfied: scipy in /usr/local/lib/python3.7/dist-packages (from sentence-transformers) (1.4.1)\n",
            "Requirement already satisfied: scikit-learn in /usr/local/lib/python3.7/dist-packages (from sentence-transformers) (0.22.2.post1)\n",
            "Requirement already satisfied: sentencepiece in /usr/local/lib/python3.7/dist-packages (from sentence-transformers) (0.1.96)\n",
            "Requirement already satisfied: typing-extensions in /usr/local/lib/python3.7/dist-packages (from torch>=1.6.0->sentence-transformers) (3.7.4.3)\n",
            "Requirement already satisfied: sacremoses in /usr/local/lib/python3.7/dist-packages (from transformers<5.0.0,>=4.6.0->sentence-transformers) (0.0.45)\n",
            "Requirement already satisfied: tokenizers<0.11,>=0.10.1 in /usr/local/lib/python3.7/dist-packages (from transformers<5.0.0,>=4.6.0->sentence-transformers) (0.10.3)\n",
            "Requirement already satisfied: pyyaml>=5.1 in /usr/local/lib/python3.7/dist-packages (from transformers<5.0.0,>=4.6.0->sentence-transformers) (5.4.1)\n",
            "Requirement already satisfied: packaging in /usr/local/lib/python3.7/dist-packages (from transformers<5.0.0,>=4.6.0->sentence-transformers) (21.0)\n",
            "Requirement already satisfied: requests in /usr/local/lib/python3.7/dist-packages (from transformers<5.0.0,>=4.6.0->sentence-transformers) (2.23.0)\n",
            "Requirement already satisfied: importlib-metadata in /usr/local/lib/python3.7/dist-packages (from transformers<5.0.0,>=4.6.0->sentence-transformers) (4.6.1)\n",
            "Requirement already satisfied: regex!=2019.12.17 in /usr/local/lib/python3.7/dist-packages (from transformers<5.0.0,>=4.6.0->sentence-transformers) (2019.12.20)\n",
            "Requirement already satisfied: filelock in /usr/local/lib/python3.7/dist-packages (from transformers<5.0.0,>=4.6.0->sentence-transformers) (3.0.12)\n",
            "Requirement already satisfied: pyparsing>=2.0.2 in /usr/local/lib/python3.7/dist-packages (from packaging->transformers<5.0.0,>=4.6.0->sentence-transformers) (2.4.7)\n",
            "Requirement already satisfied: zipp>=0.5 in /usr/local/lib/python3.7/dist-packages (from importlib-metadata->transformers<5.0.0,>=4.6.0->sentence-transformers) (3.5.0)\n",
            "Requirement already satisfied: six in /usr/local/lib/python3.7/dist-packages (from nltk->sentence-transformers) (1.15.0)\n",
            "Requirement already satisfied: certifi>=2017.4.17 in /usr/local/lib/python3.7/dist-packages (from requests->transformers<5.0.0,>=4.6.0->sentence-transformers) (2021.5.30)\n",
            "Requirement already satisfied: urllib3!=1.25.0,!=1.25.1,<1.26,>=1.21.1 in /usr/local/lib/python3.7/dist-packages (from requests->transformers<5.0.0,>=4.6.0->sentence-transformers) (1.24.3)\n",
            "Requirement already satisfied: chardet<4,>=3.0.2 in /usr/local/lib/python3.7/dist-packages (from requests->transformers<5.0.0,>=4.6.0->sentence-transformers) (3.0.4)\n",
            "Requirement already satisfied: idna<3,>=2.5 in /usr/local/lib/python3.7/dist-packages (from requests->transformers<5.0.0,>=4.6.0->sentence-transformers) (2.10)\n",
            "Requirement already satisfied: joblib in /usr/local/lib/python3.7/dist-packages (from sacremoses->transformers<5.0.0,>=4.6.0->sentence-transformers) (1.0.1)\n",
            "Requirement already satisfied: click in /usr/local/lib/python3.7/dist-packages (from sacremoses->transformers<5.0.0,>=4.6.0->sentence-transformers) (7.1.2)\n",
            "Requirement already satisfied: pillow>=5.3.0 in /usr/local/lib/python3.7/dist-packages (from torchvision->sentence-transformers) (7.1.2)\n"
          ],
          "name": "stdout"
        }
      ]
    },
    {
      "cell_type": "code",
      "metadata": {
        "id": "6_nUX6xl02ov",
        "colab": {
          "base_uri": "https://localhost:8080/"
        },
        "outputId": "d41a0f11-8f25-4839-ada4-516fcd38b404"
      },
      "source": [
        "!pip install cloudstorage"
      ],
      "execution_count": 5,
      "outputs": [
        {
          "output_type": "stream",
          "text": [
            "Requirement already satisfied: cloudstorage in /usr/local/lib/python3.7/dist-packages (0.11.0)\n",
            "Requirement already satisfied: inflection>=0.3.1 in /usr/local/lib/python3.7/dist-packages (from cloudstorage) (0.5.1)\n",
            "Requirement already satisfied: python-dateutil>=2.7.3 in /usr/local/lib/python3.7/dist-packages (from cloudstorage) (2.8.1)\n",
            "Requirement already satisfied: python-magic>=0.4.15 in /usr/local/lib/python3.7/dist-packages (from cloudstorage) (0.4.24)\n",
            "Requirement already satisfied: six>=1.5 in /usr/local/lib/python3.7/dist-packages (from python-dateutil>=2.7.3->cloudstorage) (1.15.0)\n"
          ],
          "name": "stdout"
        }
      ]
    },
    {
      "cell_type": "code",
      "metadata": {
        "id": "SH5FaZ6S09QR",
        "colab": {
          "base_uri": "https://localhost:8080/"
        },
        "outputId": "7ce81665-db0c-4140-b0c8-bdc8009e3a6c"
      },
      "source": [
        "!pip install webapp2"
      ],
      "execution_count": 6,
      "outputs": [
        {
          "output_type": "stream",
          "text": [
            "Requirement already satisfied: webapp2 in /usr/local/lib/python3.7/dist-packages (2.5.2)\n"
          ],
          "name": "stdout"
        }
      ]
    },
    {
      "cell_type": "code",
      "metadata": {
        "id": "Q2apH3870_s7",
        "colab": {
          "base_uri": "https://localhost:8080/"
        },
        "outputId": "1a2828e3-7975-4b50-aa70-61aca051a560"
      },
      "source": [
        "!pip install fsspec"
      ],
      "execution_count": 7,
      "outputs": [
        {
          "output_type": "stream",
          "text": [
            "Requirement already satisfied: fsspec in /usr/local/lib/python3.7/dist-packages (2021.7.0)\n"
          ],
          "name": "stdout"
        }
      ]
    },
    {
      "cell_type": "code",
      "metadata": {
        "id": "mS3O8rY91CoP",
        "colab": {
          "base_uri": "https://localhost:8080/"
        },
        "outputId": "0e927580-bbb7-4d49-e187-c75d287b4369"
      },
      "source": [
        "!pip install gcsfs"
      ],
      "execution_count": 8,
      "outputs": [
        {
          "output_type": "stream",
          "text": [
            "Requirement already satisfied: gcsfs in /usr/local/lib/python3.7/dist-packages (2021.7.0)\n",
            "Requirement already satisfied: fsspec==2021.07.0 in /usr/local/lib/python3.7/dist-packages (from gcsfs) (2021.7.0)\n",
            "Requirement already satisfied: decorator in /usr/local/lib/python3.7/dist-packages (from gcsfs) (4.4.2)\n",
            "Requirement already satisfied: google-auth-oauthlib in /usr/local/lib/python3.7/dist-packages (from gcsfs) (0.4.4)\n",
            "Requirement already satisfied: aiohttp in /usr/local/lib/python3.7/dist-packages (from gcsfs) (3.7.4.post0)\n",
            "Requirement already satisfied: requests in /usr/local/lib/python3.7/dist-packages (from gcsfs) (2.23.0)\n",
            "Requirement already satisfied: google-auth>=1.2 in /usr/local/lib/python3.7/dist-packages (from gcsfs) (1.32.1)\n",
            "Requirement already satisfied: setuptools>=40.3.0 in /usr/local/lib/python3.7/dist-packages (from google-auth>=1.2->gcsfs) (57.2.0)\n",
            "Requirement already satisfied: pyasn1-modules>=0.2.1 in /usr/local/lib/python3.7/dist-packages (from google-auth>=1.2->gcsfs) (0.2.8)\n",
            "Requirement already satisfied: six>=1.9.0 in /usr/local/lib/python3.7/dist-packages (from google-auth>=1.2->gcsfs) (1.15.0)\n",
            "Requirement already satisfied: rsa<5,>=3.1.4 in /usr/local/lib/python3.7/dist-packages (from google-auth>=1.2->gcsfs) (4.7.2)\n",
            "Requirement already satisfied: cachetools<5.0,>=2.0.0 in /usr/local/lib/python3.7/dist-packages (from google-auth>=1.2->gcsfs) (4.2.2)\n",
            "Requirement already satisfied: pyasn1<0.5.0,>=0.4.6 in /usr/local/lib/python3.7/dist-packages (from pyasn1-modules>=0.2.1->google-auth>=1.2->gcsfs) (0.4.8)\n",
            "Requirement already satisfied: typing-extensions>=3.6.5 in /usr/local/lib/python3.7/dist-packages (from aiohttp->gcsfs) (3.7.4.3)\n",
            "Requirement already satisfied: async-timeout<4.0,>=3.0 in /usr/local/lib/python3.7/dist-packages (from aiohttp->gcsfs) (3.0.1)\n",
            "Requirement already satisfied: chardet<5.0,>=2.0 in /usr/local/lib/python3.7/dist-packages (from aiohttp->gcsfs) (3.0.4)\n",
            "Requirement already satisfied: multidict<7.0,>=4.5 in /usr/local/lib/python3.7/dist-packages (from aiohttp->gcsfs) (5.1.0)\n",
            "Requirement already satisfied: attrs>=17.3.0 in /usr/local/lib/python3.7/dist-packages (from aiohttp->gcsfs) (21.2.0)\n",
            "Requirement already satisfied: yarl<2.0,>=1.0 in /usr/local/lib/python3.7/dist-packages (from aiohttp->gcsfs) (1.6.3)\n",
            "Requirement already satisfied: idna>=2.0 in /usr/local/lib/python3.7/dist-packages (from yarl<2.0,>=1.0->aiohttp->gcsfs) (2.10)\n",
            "Requirement already satisfied: requests-oauthlib>=0.7.0 in /usr/local/lib/python3.7/dist-packages (from google-auth-oauthlib->gcsfs) (1.3.0)\n",
            "Requirement already satisfied: oauthlib>=3.0.0 in /usr/local/lib/python3.7/dist-packages (from requests-oauthlib>=0.7.0->google-auth-oauthlib->gcsfs) (3.1.1)\n",
            "Requirement already satisfied: certifi>=2017.4.17 in /usr/local/lib/python3.7/dist-packages (from requests->gcsfs) (2021.5.30)\n",
            "Requirement already satisfied: urllib3!=1.25.0,!=1.25.1,<1.26,>=1.21.1 in /usr/local/lib/python3.7/dist-packages (from requests->gcsfs) (1.24.3)\n"
          ],
          "name": "stdout"
        }
      ]
    },
    {
      "cell_type": "markdown",
      "metadata": {
        "id": "SewhEFFrTDxx"
      },
      "source": [
        "# Import"
      ]
    },
    {
      "cell_type": "code",
      "metadata": {
        "id": "UYk9IiC47eE2"
      },
      "source": [
        "import pandas as pd\n",
        "import zipfile\n",
        "from google.colab import drive\n",
        "import re\n",
        "import time\n",
        "import glob\n",
        "import numpy as np\n",
        "import datetime as dt\n",
        "from calendar import monthrange\n",
        "import nltk\n",
        "import PyPDF2\n",
        "from sentence_transformers import SentenceTransformer\n",
        "import cloudstorage as gcs\n",
        "from sklearn.metrics.pairwise import cosine_similarity\n",
        "import matplotlib.pyplot as plt\n",
        "import matplotlib.ticker as mtick\n",
        "from sklearn.metrics import f1_score"
      ],
      "execution_count": 9,
      "outputs": []
    },
    {
      "cell_type": "code",
      "metadata": {
        "id": "DKvIfbaJGTIn",
        "colab": {
          "base_uri": "https://localhost:8080/"
        },
        "outputId": "efb5e1d0-67dd-41b8-cd67-691c4a39c23d"
      },
      "source": [
        "nltk.download('punkt')"
      ],
      "execution_count": 10,
      "outputs": [
        {
          "output_type": "stream",
          "text": [
            "[nltk_data] Downloading package punkt to /root/nltk_data...\n",
            "[nltk_data]   Package punkt is already up-to-date!\n"
          ],
          "name": "stdout"
        },
        {
          "output_type": "execute_result",
          "data": {
            "text/plain": [
              "True"
            ]
          },
          "metadata": {
            "tags": []
          },
          "execution_count": 10
        }
      ]
    },
    {
      "cell_type": "markdown",
      "metadata": {
        "id": "8OeoRf6GZFBu"
      },
      "source": [
        "# 10K EDA\n"
      ]
    },
    {
      "cell_type": "markdown",
      "metadata": {
        "id": "tF2b2irynFez"
      },
      "source": [
        "#### Auth"
      ]
    },
    {
      "cell_type": "code",
      "metadata": {
        "colab": {
          "base_uri": "https://localhost:8080/"
        },
        "id": "s3AwEcRMtt8d",
        "outputId": "e3fc727e-695a-441b-fc45-9b0d132a3d77"
      },
      "source": [
        "!gcloud auth login\n",
        "!gcloud auth application-default login"
      ],
      "execution_count": 11,
      "outputs": [
        {
          "output_type": "stream",
          "text": [
            "Go to the following link in your browser:\n",
            "\n",
            "    https://accounts.google.com/o/oauth2/auth?response_type=code&client_id=32555940559.apps.googleusercontent.com&redirect_uri=urn%3Aietf%3Awg%3Aoauth%3A2.0%3Aoob&scope=openid+https%3A%2F%2Fwww.googleapis.com%2Fauth%2Fuserinfo.email+https%3A%2F%2Fwww.googleapis.com%2Fauth%2Fcloud-platform+https%3A%2F%2Fwww.googleapis.com%2Fauth%2Fappengine.admin+https%3A%2F%2Fwww.googleapis.com%2Fauth%2Fcompute+https%3A%2F%2Fwww.googleapis.com%2Fauth%2Faccounts.reauth&state=ut9OfDNApmv6lnZpt71RDvB9JW5qLM&prompt=consent&access_type=offline&code_challenge=wX4mGD5olqjip0S2EsRo3Ld-B1YN-vJrow2v9xdd0a4&code_challenge_method=S256\n",
            "\n",
            "Enter verification code: 4/1AX4XfWj03I2NaPlYUmFlsdUXphHCc3wQXWPvkT_6VHTWhFAcrSTXD23cB_U\n",
            "\n",
            "You are now logged in as [yixunz@berkeley.edu].\n",
            "Your current project is [None].  You can change this setting by running:\n",
            "  $ gcloud config set project PROJECT_ID\n",
            "Go to the following link in your browser:\n",
            "\n",
            "    https://accounts.google.com/o/oauth2/auth?response_type=code&client_id=764086051850-6qr4p6gpi6hn506pt8ejuq83di341hur.apps.googleusercontent.com&redirect_uri=urn%3Aietf%3Awg%3Aoauth%3A2.0%3Aoob&scope=openid+https%3A%2F%2Fwww.googleapis.com%2Fauth%2Fuserinfo.email+https%3A%2F%2Fwww.googleapis.com%2Fauth%2Fcloud-platform+https%3A%2F%2Fwww.googleapis.com%2Fauth%2Faccounts.reauth&state=CfBoeGBeChbHpi1MHlCEzAJjMl76ET&prompt=consent&access_type=offline&code_challenge=MEP52p5oSQ3l0y3vwARSkgKbCJvhDfkFAGIvfHcx0BQ&code_challenge_method=S256\n",
            "\n",
            "Enter verification code: 4/1AX4XfWgjLQksubw3A1jMjyfp7PVb5a34EInx9wg1QEZdApceHYJCVnnVQo8\n",
            "\n",
            "Credentials saved to file: [/content/.config/application_default_credentials.json]\n",
            "\n",
            "These credentials will be used by any library that requests Application Default Credentials (ADC).\n",
            "\u001b[1;33mWARNING:\u001b[0m \n",
            "Cannot find a quota project to add to ADC. You might receive a \"quota exceeded\" or \"API not enabled\" error. Run $ gcloud auth application-default set-quota-project to add a quota project.\n"
          ],
          "name": "stdout"
        }
      ]
    },
    {
      "cell_type": "code",
      "metadata": {
        "id": "RjmY_qEsWRqP",
        "colab": {
          "base_uri": "https://localhost:8080/"
        },
        "outputId": "7918298a-c951-4b64-fa5a-75671fb2acb6"
      },
      "source": [
        "read_10k_df = pd.read_csv(\"gs://esgbert_resourses/raw_data/sen_res_10K_201318.csv\")"
      ],
      "execution_count": 12,
      "outputs": [
        {
          "output_type": "stream",
          "text": [
            "/usr/local/lib/python3.7/dist-packages/google/auth/_default.py:70: UserWarning: Your application has authenticated using end user credentials from Google Cloud SDK without a quota project. You might receive a \"quota exceeded\" or \"API not enabled\" error. We recommend you rerun `gcloud auth application-default login` and make sure a quota project is added. Or you can use service accounts instead. For more information about service accounts, see https://cloud.google.com/docs/authentication/\n",
            "  warnings.warn(_CLOUD_SDK_CREDENTIALS_WARNING)\n"
          ],
          "name": "stderr"
        }
      ]
    },
    {
      "cell_type": "code",
      "metadata": {
        "id": "bwC9P07BI-nh"
      },
      "source": [
        "read_10q_df = pd.read_csv(\"gs://esgbert_resourses/raw_data/sen_res_10Q_201318.csv\")"
      ],
      "execution_count": 13,
      "outputs": []
    },
    {
      "cell_type": "code",
      "metadata": {
        "colab": {
          "base_uri": "https://localhost:8080/"
        },
        "id": "DqPZ4VjnfyzH",
        "outputId": "85a4e780-effb-4972-99ed-211797f2193c"
      },
      "source": [
        "len(read_10q_df)"
      ],
      "execution_count": 14,
      "outputs": [
        {
          "output_type": "execute_result",
          "data": {
            "text/plain": [
              "5944"
            ]
          },
          "metadata": {
            "tags": []
          },
          "execution_count": 14
        }
      ]
    },
    {
      "cell_type": "code",
      "metadata": {
        "colab": {
          "base_uri": "https://localhost:8080/",
          "height": 201
        },
        "id": "hlob2jUKZjWE",
        "outputId": "7fbe5a67-b167-4556-930e-13452050fb13"
      },
      "source": [
        "read_10q_df.head()"
      ],
      "execution_count": 46,
      "outputs": [
        {
          "output_type": "execute_result",
          "data": {
            "text/html": [
              "<div>\n",
              "<style scoped>\n",
              "    .dataframe tbody tr th:only-of-type {\n",
              "        vertical-align: middle;\n",
              "    }\n",
              "\n",
              "    .dataframe tbody tr th {\n",
              "        vertical-align: top;\n",
              "    }\n",
              "\n",
              "    .dataframe thead th {\n",
              "        text-align: right;\n",
              "    }\n",
              "</style>\n",
              "<table border=\"1\" class=\"dataframe\">\n",
              "  <thead>\n",
              "    <tr style=\"text-align: right;\">\n",
              "      <th></th>\n",
              "      <th>Unnamed: 0</th>\n",
              "      <th>origin_idx</th>\n",
              "      <th>CIK</th>\n",
              "      <th>date</th>\n",
              "      <th>total_esg_score</th>\n",
              "      <th>total_esg_score_quarter_change_pure</th>\n",
              "      <th>total_esg_score_quarter_change_pct</th>\n",
              "      <th>governance_score_quarter_change_pure</th>\n",
              "      <th>governance_score_quarter_change_pct</th>\n",
              "      <th>social_score_quarter_change_pure</th>\n",
              "      <th>social_score_quarter_change_pct</th>\n",
              "      <th>environment_score_quarter_change_pure</th>\n",
              "      <th>environment_score_quarter_change_pct</th>\n",
              "      <th>quarter</th>\n",
              "      <th>year</th>\n",
              "      <th>month</th>\n",
              "      <th>ReportType</th>\n",
              "      <th>Reports</th>\n",
              "      <th>reports_ordered</th>\n",
              "      <th>reports_cosines</th>\n",
              "    </tr>\n",
              "  </thead>\n",
              "  <tbody>\n",
              "    <tr>\n",
              "      <th>0</th>\n",
              "      <td>0</td>\n",
              "      <td>38</td>\n",
              "      <td>1090872</td>\n",
              "      <td>2016-03-31</td>\n",
              "      <td>70.45</td>\n",
              "      <td>1.51</td>\n",
              "      <td>0.021434</td>\n",
              "      <td>0.01</td>\n",
              "      <td>0.000166</td>\n",
              "      <td>3.34</td>\n",
              "      <td>0.047249</td>\n",
              "      <td>0.00</td>\n",
              "      <td>0.000000</td>\n",
              "      <td>1</td>\n",
              "      <td>2016</td>\n",
              "      <td>3</td>\n",
              "      <td>10Q</td>\n",
              "      <td>0001090872-16-000070.txt : 2016060710-Q 1 a-0...</td>\n",
              "      <td>In addition, the operation of Dako within Agil...</td>\n",
              "      <td>0.8 0.78 0.78 0.76 0.76 0.76 0.75 0.75 0.75 0....</td>\n",
              "    </tr>\n",
              "    <tr>\n",
              "      <th>1</th>\n",
              "      <td>1</td>\n",
              "      <td>41</td>\n",
              "      <td>1090872</td>\n",
              "      <td>2016-06-30</td>\n",
              "      <td>71.96</td>\n",
              "      <td>-2.98</td>\n",
              "      <td>-0.041412</td>\n",
              "      <td>1.20</td>\n",
              "      <td>0.019861</td>\n",
              "      <td>-10.44</td>\n",
              "      <td>-0.141024</td>\n",
              "      <td>5.43</td>\n",
              "      <td>0.066155</td>\n",
              "      <td>2</td>\n",
              "      <td>2016</td>\n",
              "      <td>6</td>\n",
              "      <td>10Q</td>\n",
              "      <td>0001090872-16-000076.txt : 2016090710-Q 1 a-0...</td>\n",
              "      <td>In addition, the operation of Dako within Agil...</td>\n",
              "      <td>0.8 0.78 0.78 0.76 0.76 0.76 0.75 0.75 0.75 0....</td>\n",
              "    </tr>\n",
              "    <tr>\n",
              "      <th>2</th>\n",
              "      <td>2</td>\n",
              "      <td>47</td>\n",
              "      <td>1090872</td>\n",
              "      <td>2016-12-30</td>\n",
              "      <td>68.98</td>\n",
              "      <td>-2.73</td>\n",
              "      <td>-0.039577</td>\n",
              "      <td>0.00</td>\n",
              "      <td>0.000000</td>\n",
              "      <td>-6.05</td>\n",
              "      <td>-0.095141</td>\n",
              "      <td>0.00</td>\n",
              "      <td>0.000000</td>\n",
              "      <td>4</td>\n",
              "      <td>2016</td>\n",
              "      <td>12</td>\n",
              "      <td>10Q</td>\n",
              "      <td>0001090872-17-000004.txt : 2017030810-Q 1 a-0...</td>\n",
              "      <td>Our customers and we are subject to various go...</td>\n",
              "      <td>0.78 0.77 0.76 0.76 0.76 0.76 0.76 0.75 0.75 0...</td>\n",
              "    </tr>\n",
              "    <tr>\n",
              "      <th>3</th>\n",
              "      <td>3</td>\n",
              "      <td>50</td>\n",
              "      <td>1090872</td>\n",
              "      <td>2017-03-31</td>\n",
              "      <td>66.25</td>\n",
              "      <td>0.14</td>\n",
              "      <td>0.002113</td>\n",
              "      <td>0.00</td>\n",
              "      <td>0.000000</td>\n",
              "      <td>0.00</td>\n",
              "      <td>0.000000</td>\n",
              "      <td>0.55</td>\n",
              "      <td>0.006285</td>\n",
              "      <td>1</td>\n",
              "      <td>2017</td>\n",
              "      <td>3</td>\n",
              "      <td>10Q</td>\n",
              "      <td>0001090872-17-000008.txt : 2017060610-Q 1 a-0...</td>\n",
              "      <td>Our customers and we are subject to various go...</td>\n",
              "      <td>0.78 0.77 0.76 0.76 0.76 0.76 0.75 0.75 0.75 0...</td>\n",
              "    </tr>\n",
              "    <tr>\n",
              "      <th>4</th>\n",
              "      <td>4</td>\n",
              "      <td>53</td>\n",
              "      <td>1090872</td>\n",
              "      <td>2017-06-30</td>\n",
              "      <td>66.39</td>\n",
              "      <td>0.00</td>\n",
              "      <td>0.000000</td>\n",
              "      <td>0.00</td>\n",
              "      <td>0.000000</td>\n",
              "      <td>0.00</td>\n",
              "      <td>0.000000</td>\n",
              "      <td>0.00</td>\n",
              "      <td>0.000000</td>\n",
              "      <td>2</td>\n",
              "      <td>2017</td>\n",
              "      <td>6</td>\n",
              "      <td>10Q</td>\n",
              "      <td>0001090872-17-000013.txt : 2017090610-Q 1 a-0...</td>\n",
              "      <td>Our customers and we are subject to various go...</td>\n",
              "      <td>0.78 0.77 0.76 0.76 0.76 0.75 0.75 0.75 0.75 0...</td>\n",
              "    </tr>\n",
              "  </tbody>\n",
              "</table>\n",
              "</div>"
            ],
            "text/plain": [
              "   Unnamed: 0  ...                                    reports_cosines\n",
              "0           0  ...  0.8 0.78 0.78 0.76 0.76 0.76 0.75 0.75 0.75 0....\n",
              "1           1  ...  0.8 0.78 0.78 0.76 0.76 0.76 0.75 0.75 0.75 0....\n",
              "2           2  ...  0.78 0.77 0.76 0.76 0.76 0.76 0.76 0.75 0.75 0...\n",
              "3           3  ...  0.78 0.77 0.76 0.76 0.76 0.76 0.75 0.75 0.75 0...\n",
              "4           4  ...  0.78 0.77 0.76 0.76 0.76 0.75 0.75 0.75 0.75 0...\n",
              "\n",
              "[5 rows x 20 columns]"
            ]
          },
          "metadata": {
            "tags": []
          },
          "execution_count": 46
        }
      ]
    },
    {
      "cell_type": "markdown",
      "metadata": {
        "id": "8PSo7NXnho2n"
      },
      "source": [
        "#### MSFT analysis"
      ]
    },
    {
      "cell_type": "code",
      "metadata": {
        "colab": {
          "base_uri": "https://localhost:8080/",
          "height": 0
        },
        "id": "6oNzls0ShqSg",
        "outputId": "2d5b3d38-ccc6-4555-8fbf-2736e3025ead"
      },
      "source": [
        "msft_10k_df = read_10k_df[read_10k_df.CIK.isin(['789019'])]\n",
        "print(len(msft_10k_df))\n",
        "msft_10k_df"
      ],
      "execution_count": 14,
      "outputs": [
        {
          "output_type": "stream",
          "text": [
            "6\n"
          ],
          "name": "stdout"
        },
        {
          "output_type": "execute_result",
          "data": {
            "text/html": [
              "<div>\n",
              "<style scoped>\n",
              "    .dataframe tbody tr th:only-of-type {\n",
              "        vertical-align: middle;\n",
              "    }\n",
              "\n",
              "    .dataframe tbody tr th {\n",
              "        vertical-align: top;\n",
              "    }\n",
              "\n",
              "    .dataframe thead th {\n",
              "        text-align: right;\n",
              "    }\n",
              "</style>\n",
              "<table border=\"1\" class=\"dataframe\">\n",
              "  <thead>\n",
              "    <tr style=\"text-align: right;\">\n",
              "      <th></th>\n",
              "      <th>Unnamed: 0</th>\n",
              "      <th>origin_idx</th>\n",
              "      <th>CIK</th>\n",
              "      <th>date</th>\n",
              "      <th>ReportType</th>\n",
              "      <th>total_esg_score</th>\n",
              "      <th>Reports</th>\n",
              "      <th>total_esg_score_change_10k</th>\n",
              "      <th>quarter</th>\n",
              "      <th>year</th>\n",
              "      <th>month</th>\n",
              "      <th>governance_score_change_pure_10k</th>\n",
              "      <th>social_score_change_pure_10k</th>\n",
              "      <th>environment_score_change_pure_10k</th>\n",
              "      <th>reports_ordered</th>\n",
              "      <th>reports_cosines</th>\n",
              "    </tr>\n",
              "  </thead>\n",
              "  <tbody>\n",
              "    <tr>\n",
              "      <th>585</th>\n",
              "      <td>586</td>\n",
              "      <td>865</td>\n",
              "      <td>789019</td>\n",
              "      <td>2016-06-30</td>\n",
              "      <td>10K</td>\n",
              "      <td>71.03</td>\n",
              "      <td>0001193125-16-662209.txt : 2016072810-K 1 d18...</td>\n",
              "      <td>5.03</td>\n",
              "      <td>2</td>\n",
              "      <td>2016</td>\n",
              "      <td>6</td>\n",
              "      <td>1.95</td>\n",
              "      <td>-2.75</td>\n",
              "      <td>-1.57</td>\n",
              "      <td>Environmental regulations or changes in the su...</td>\n",
              "      <td>0.77 0.75 0.75 0.74 0.73 0.73 0.73 0.73 0.73 0...</td>\n",
              "    </tr>\n",
              "    <tr>\n",
              "      <th>586</th>\n",
              "      <td>587</td>\n",
              "      <td>866</td>\n",
              "      <td>789019</td>\n",
              "      <td>2017-06-30</td>\n",
              "      <td>10K</td>\n",
              "      <td>71.74</td>\n",
              "      <td>0001564590-17-014900.txt : 2017080210-K 1 msf...</td>\n",
              "      <td>0.71</td>\n",
              "      <td>2</td>\n",
              "      <td>2017</td>\n",
              "      <td>6</td>\n",
              "      <td>0.80</td>\n",
              "      <td>-1.02</td>\n",
              "      <td>0.84</td>\n",
              "      <td>Environmental regulations or changes in the su...</td>\n",
              "      <td>0.77 0.74 0.74 0.74 0.74 0.73 0.73 0.73 0.73 0...</td>\n",
              "    </tr>\n",
              "    <tr>\n",
              "      <th>587</th>\n",
              "      <td>588</td>\n",
              "      <td>867</td>\n",
              "      <td>789019</td>\n",
              "      <td>2018-06-29</td>\n",
              "      <td>10K</td>\n",
              "      <td>74.16</td>\n",
              "      <td>0001564590-18-019062.txt : 2018080310-K 1 msf...</td>\n",
              "      <td>2.42</td>\n",
              "      <td>2</td>\n",
              "      <td>2018</td>\n",
              "      <td>6</td>\n",
              "      <td>4.40</td>\n",
              "      <td>1.98</td>\n",
              "      <td>3.33</td>\n",
              "      <td>Environmental regulations or changes in the su...</td>\n",
              "      <td>0.77 0.75 0.75 0.74 0.74 0.74 0.73 0.73 0.73 0...</td>\n",
              "    </tr>\n",
              "    <tr>\n",
              "      <th>1515</th>\n",
              "      <td>743</td>\n",
              "      <td>862</td>\n",
              "      <td>789019</td>\n",
              "      <td>2013-06-28</td>\n",
              "      <td>10K</td>\n",
              "      <td>64.00</td>\n",
              "      <td>0001193125-13-310206.txt : 2013073010-K 1 d52...</td>\n",
              "      <td>0.00</td>\n",
              "      <td>2</td>\n",
              "      <td>2013</td>\n",
              "      <td>6</td>\n",
              "      <td>0.00</td>\n",
              "      <td>0.00</td>\n",
              "      <td>0.00</td>\n",
              "      <td>These conditions also may add uncertainty to t...</td>\n",
              "      <td>0.81 0.78 0.74 0.74 0.73 0.73 0.72 0.72 0.72 0...</td>\n",
              "    </tr>\n",
              "    <tr>\n",
              "      <th>1516</th>\n",
              "      <td>744</td>\n",
              "      <td>863</td>\n",
              "      <td>789019</td>\n",
              "      <td>2014-06-30</td>\n",
              "      <td>10K</td>\n",
              "      <td>66.00</td>\n",
              "      <td>0001193125-14-289961.txt : 2014073110-K 1 d72...</td>\n",
              "      <td>2.00</td>\n",
              "      <td>2</td>\n",
              "      <td>2014</td>\n",
              "      <td>6</td>\n",
              "      <td>4.00</td>\n",
              "      <td>2.00</td>\n",
              "      <td>0.00</td>\n",
              "      <td>Environmental regulations or changes in the su...</td>\n",
              "      <td>0.77 0.74 0.74 0.74 0.74 0.74 0.73 0.73 0.73 0...</td>\n",
              "    </tr>\n",
              "    <tr>\n",
              "      <th>1517</th>\n",
              "      <td>745</td>\n",
              "      <td>864</td>\n",
              "      <td>789019</td>\n",
              "      <td>2015-06-30</td>\n",
              "      <td>10K</td>\n",
              "      <td>66.00</td>\n",
              "      <td>0001193125-15-272806.txt : 2015073110-K 1 d91...</td>\n",
              "      <td>0.00</td>\n",
              "      <td>2</td>\n",
              "      <td>2015</td>\n",
              "      <td>6</td>\n",
              "      <td>1.00</td>\n",
              "      <td>11.00</td>\n",
              "      <td>5.00</td>\n",
              "      <td>Environmental regulations orchanges in the sup...</td>\n",
              "      <td>0.77 0.75 0.75 0.74 0.74 0.73 0.73 0.73 0.73 0...</td>\n",
              "    </tr>\n",
              "  </tbody>\n",
              "</table>\n",
              "</div>"
            ],
            "text/plain": [
              "      Unnamed: 0  ...                                    reports_cosines\n",
              "585          586  ...  0.77 0.75 0.75 0.74 0.73 0.73 0.73 0.73 0.73 0...\n",
              "586          587  ...  0.77 0.74 0.74 0.74 0.74 0.73 0.73 0.73 0.73 0...\n",
              "587          588  ...  0.77 0.75 0.75 0.74 0.74 0.74 0.73 0.73 0.73 0...\n",
              "1515         743  ...  0.81 0.78 0.74 0.74 0.73 0.73 0.72 0.72 0.72 0...\n",
              "1516         744  ...  0.77 0.74 0.74 0.74 0.74 0.74 0.73 0.73 0.73 0...\n",
              "1517         745  ...  0.77 0.75 0.75 0.74 0.74 0.73 0.73 0.73 0.73 0...\n",
              "\n",
              "[6 rows x 16 columns]"
            ]
          },
          "metadata": {
            "tags": []
          },
          "execution_count": 14
        }
      ]
    },
    {
      "cell_type": "markdown",
      "metadata": {
        "id": "EEm_5_l0h1PJ"
      },
      "source": [
        "#### All company analysis"
      ]
    },
    {
      "cell_type": "code",
      "metadata": {
        "colab": {
          "base_uri": "https://localhost:8080/"
        },
        "id": "vtBIMV6mh17z",
        "outputId": "e13b9c57-0c58-447c-c73c-c997a1affbdd"
      },
      "source": [
        "cik_10k_df = read_10k_df.groupby(by='CIK').count()\n",
        "print(\"total companies in the report:\", len(cik_10k_df))"
      ],
      "execution_count": 15,
      "outputs": [
        {
          "output_type": "stream",
          "text": [
            "total companies in the report: 418\n"
          ],
          "name": "stdout"
        }
      ]
    },
    {
      "cell_type": "code",
      "metadata": {
        "colab": {
          "base_uri": "https://localhost:8080/",
          "height": 474
        },
        "id": "AAgAPMPgh8lB",
        "outputId": "44e45faa-b016-40ae-fb84-df829dde7b91"
      },
      "source": [
        "read_10k_df[['ReportType', 'CIK', 'date', 'reports_ordered']].groupby(['ReportType', 'CIK', 'date']).agg(['count'])"
      ],
      "execution_count": 16,
      "outputs": [
        {
          "output_type": "execute_result",
          "data": {
            "text/html": [
              "<div>\n",
              "<style scoped>\n",
              "    .dataframe tbody tr th:only-of-type {\n",
              "        vertical-align: middle;\n",
              "    }\n",
              "\n",
              "    .dataframe tbody tr th {\n",
              "        vertical-align: top;\n",
              "    }\n",
              "\n",
              "    .dataframe thead tr th {\n",
              "        text-align: left;\n",
              "    }\n",
              "\n",
              "    .dataframe thead tr:last-of-type th {\n",
              "        text-align: right;\n",
              "    }\n",
              "</style>\n",
              "<table border=\"1\" class=\"dataframe\">\n",
              "  <thead>\n",
              "    <tr>\n",
              "      <th></th>\n",
              "      <th></th>\n",
              "      <th></th>\n",
              "      <th>reports_ordered</th>\n",
              "    </tr>\n",
              "    <tr>\n",
              "      <th></th>\n",
              "      <th></th>\n",
              "      <th></th>\n",
              "      <th>count</th>\n",
              "    </tr>\n",
              "    <tr>\n",
              "      <th>ReportType</th>\n",
              "      <th>CIK</th>\n",
              "      <th>date</th>\n",
              "      <th></th>\n",
              "    </tr>\n",
              "  </thead>\n",
              "  <tbody>\n",
              "    <tr>\n",
              "      <th rowspan=\"11\" valign=\"top\">10K</th>\n",
              "      <th>2488</th>\n",
              "      <th>2017-12-29</th>\n",
              "      <td>1</td>\n",
              "    </tr>\n",
              "    <tr>\n",
              "      <th rowspan=\"4\" valign=\"top\">2969</th>\n",
              "      <th>2013-09-30</th>\n",
              "      <td>1</td>\n",
              "    </tr>\n",
              "    <tr>\n",
              "      <th>2014-09-30</th>\n",
              "      <td>1</td>\n",
              "    </tr>\n",
              "    <tr>\n",
              "      <th>2015-09-30</th>\n",
              "      <td>1</td>\n",
              "    </tr>\n",
              "    <tr>\n",
              "      <th>2016-09-30</th>\n",
              "      <td>1</td>\n",
              "    </tr>\n",
              "    <tr>\n",
              "      <th>...</th>\n",
              "      <th>...</th>\n",
              "      <td>...</td>\n",
              "    </tr>\n",
              "    <tr>\n",
              "      <th rowspan=\"2\" valign=\"top\">1652044</th>\n",
              "      <th>2016-12-30</th>\n",
              "      <td>1</td>\n",
              "    </tr>\n",
              "    <tr>\n",
              "      <th>2017-12-29</th>\n",
              "      <td>1</td>\n",
              "    </tr>\n",
              "    <tr>\n",
              "      <th>1659166</th>\n",
              "      <th>2017-12-29</th>\n",
              "      <td>1</td>\n",
              "    </tr>\n",
              "    <tr>\n",
              "      <th>1681459</th>\n",
              "      <th>2017-12-29</th>\n",
              "      <td>1</td>\n",
              "    </tr>\n",
              "    <tr>\n",
              "      <th>1688568</th>\n",
              "      <th>2018-03-29</th>\n",
              "      <td>1</td>\n",
              "    </tr>\n",
              "  </tbody>\n",
              "</table>\n",
              "<p>1784 rows × 1 columns</p>\n",
              "</div>"
            ],
            "text/plain": [
              "                              reports_ordered\n",
              "                                        count\n",
              "ReportType CIK     date                      \n",
              "10K        2488    2017-12-29               1\n",
              "           2969    2013-09-30               1\n",
              "                   2014-09-30               1\n",
              "                   2015-09-30               1\n",
              "                   2016-09-30               1\n",
              "...                                       ...\n",
              "           1652044 2016-12-30               1\n",
              "                   2017-12-29               1\n",
              "           1659166 2017-12-29               1\n",
              "           1681459 2017-12-29               1\n",
              "           1688568 2018-03-29               1\n",
              "\n",
              "[1784 rows x 1 columns]"
            ]
          },
          "metadata": {
            "tags": []
          },
          "execution_count": 16
        }
      ]
    },
    {
      "cell_type": "code",
      "metadata": {
        "colab": {
          "base_uri": "https://localhost:8080/",
          "height": 474
        },
        "id": "-1VBPm5Qh_5g",
        "outputId": "7cc6d78c-b7c4-47c5-8f91-12d43ffdc37a"
      },
      "source": [
        "read_10k_df[['ReportType', 'CIK', 'year', 'month', 'reports_ordered']].groupby(['ReportType', 'CIK', 'year', 'month']).agg(['count'])"
      ],
      "execution_count": 19,
      "outputs": [
        {
          "output_type": "execute_result",
          "data": {
            "text/html": [
              "<div>\n",
              "<style scoped>\n",
              "    .dataframe tbody tr th:only-of-type {\n",
              "        vertical-align: middle;\n",
              "    }\n",
              "\n",
              "    .dataframe tbody tr th {\n",
              "        vertical-align: top;\n",
              "    }\n",
              "\n",
              "    .dataframe thead tr th {\n",
              "        text-align: left;\n",
              "    }\n",
              "\n",
              "    .dataframe thead tr:last-of-type th {\n",
              "        text-align: right;\n",
              "    }\n",
              "</style>\n",
              "<table border=\"1\" class=\"dataframe\">\n",
              "  <thead>\n",
              "    <tr>\n",
              "      <th></th>\n",
              "      <th></th>\n",
              "      <th></th>\n",
              "      <th></th>\n",
              "      <th>reports_ordered</th>\n",
              "    </tr>\n",
              "    <tr>\n",
              "      <th></th>\n",
              "      <th></th>\n",
              "      <th></th>\n",
              "      <th></th>\n",
              "      <th>count</th>\n",
              "    </tr>\n",
              "    <tr>\n",
              "      <th>ReportType</th>\n",
              "      <th>CIK</th>\n",
              "      <th>year</th>\n",
              "      <th>month</th>\n",
              "      <th></th>\n",
              "    </tr>\n",
              "  </thead>\n",
              "  <tbody>\n",
              "    <tr>\n",
              "      <th rowspan=\"11\" valign=\"top\">10K</th>\n",
              "      <th>2488</th>\n",
              "      <th>2017</th>\n",
              "      <th>12</th>\n",
              "      <td>1</td>\n",
              "    </tr>\n",
              "    <tr>\n",
              "      <th rowspan=\"4\" valign=\"top\">2969</th>\n",
              "      <th>2013</th>\n",
              "      <th>9</th>\n",
              "      <td>1</td>\n",
              "    </tr>\n",
              "    <tr>\n",
              "      <th>2014</th>\n",
              "      <th>9</th>\n",
              "      <td>1</td>\n",
              "    </tr>\n",
              "    <tr>\n",
              "      <th>2015</th>\n",
              "      <th>9</th>\n",
              "      <td>1</td>\n",
              "    </tr>\n",
              "    <tr>\n",
              "      <th>2016</th>\n",
              "      <th>9</th>\n",
              "      <td>1</td>\n",
              "    </tr>\n",
              "    <tr>\n",
              "      <th>...</th>\n",
              "      <th>...</th>\n",
              "      <th>...</th>\n",
              "      <td>...</td>\n",
              "    </tr>\n",
              "    <tr>\n",
              "      <th rowspan=\"2\" valign=\"top\">1652044</th>\n",
              "      <th>2016</th>\n",
              "      <th>12</th>\n",
              "      <td>1</td>\n",
              "    </tr>\n",
              "    <tr>\n",
              "      <th>2017</th>\n",
              "      <th>12</th>\n",
              "      <td>1</td>\n",
              "    </tr>\n",
              "    <tr>\n",
              "      <th>1659166</th>\n",
              "      <th>2017</th>\n",
              "      <th>12</th>\n",
              "      <td>1</td>\n",
              "    </tr>\n",
              "    <tr>\n",
              "      <th>1681459</th>\n",
              "      <th>2017</th>\n",
              "      <th>12</th>\n",
              "      <td>1</td>\n",
              "    </tr>\n",
              "    <tr>\n",
              "      <th>1688568</th>\n",
              "      <th>2018</th>\n",
              "      <th>3</th>\n",
              "      <td>1</td>\n",
              "    </tr>\n",
              "  </tbody>\n",
              "</table>\n",
              "<p>1784 rows × 1 columns</p>\n",
              "</div>"
            ],
            "text/plain": [
              "                              reports_ordered\n",
              "                                        count\n",
              "ReportType CIK     year month                \n",
              "10K        2488    2017 12                  1\n",
              "           2969    2013 9                   1\n",
              "                   2014 9                   1\n",
              "                   2015 9                   1\n",
              "                   2016 9                   1\n",
              "...                                       ...\n",
              "           1652044 2016 12                  1\n",
              "                   2017 12                  1\n",
              "           1659166 2017 12                  1\n",
              "           1681459 2017 12                  1\n",
              "           1688568 2018 3                   1\n",
              "\n",
              "[1784 rows x 1 columns]"
            ]
          },
          "metadata": {
            "tags": []
          },
          "execution_count": 19
        }
      ]
    },
    {
      "cell_type": "code",
      "metadata": {
        "colab": {
          "base_uri": "https://localhost:8080/",
          "height": 292
        },
        "id": "hyYSg2k3iBd-",
        "outputId": "dc667505-ab7e-466a-8df1-18f7083201fb"
      },
      "source": [
        "read_10k_df[['ReportType', 'year', 'reports_ordered']].groupby(['ReportType', 'year']).agg(['count'])"
      ],
      "execution_count": 20,
      "outputs": [
        {
          "output_type": "execute_result",
          "data": {
            "text/html": [
              "<div>\n",
              "<style scoped>\n",
              "    .dataframe tbody tr th:only-of-type {\n",
              "        vertical-align: middle;\n",
              "    }\n",
              "\n",
              "    .dataframe tbody tr th {\n",
              "        vertical-align: top;\n",
              "    }\n",
              "\n",
              "    .dataframe thead tr th {\n",
              "        text-align: left;\n",
              "    }\n",
              "\n",
              "    .dataframe thead tr:last-of-type th {\n",
              "        text-align: right;\n",
              "    }\n",
              "</style>\n",
              "<table border=\"1\" class=\"dataframe\">\n",
              "  <thead>\n",
              "    <tr>\n",
              "      <th></th>\n",
              "      <th></th>\n",
              "      <th>reports_ordered</th>\n",
              "    </tr>\n",
              "    <tr>\n",
              "      <th></th>\n",
              "      <th></th>\n",
              "      <th>count</th>\n",
              "    </tr>\n",
              "    <tr>\n",
              "      <th>ReportType</th>\n",
              "      <th>year</th>\n",
              "      <th></th>\n",
              "    </tr>\n",
              "  </thead>\n",
              "  <tbody>\n",
              "    <tr>\n",
              "      <th rowspan=\"6\" valign=\"top\">10K</th>\n",
              "      <th>2013</th>\n",
              "      <td>327</td>\n",
              "    </tr>\n",
              "    <tr>\n",
              "      <th>2014</th>\n",
              "      <td>330</td>\n",
              "    </tr>\n",
              "    <tr>\n",
              "      <th>2015</th>\n",
              "      <td>352</td>\n",
              "    </tr>\n",
              "    <tr>\n",
              "      <th>2016</th>\n",
              "      <td>358</td>\n",
              "    </tr>\n",
              "    <tr>\n",
              "      <th>2017</th>\n",
              "      <td>378</td>\n",
              "    </tr>\n",
              "    <tr>\n",
              "      <th>2018</th>\n",
              "      <td>39</td>\n",
              "    </tr>\n",
              "  </tbody>\n",
              "</table>\n",
              "</div>"
            ],
            "text/plain": [
              "                reports_ordered\n",
              "                          count\n",
              "ReportType year                \n",
              "10K        2013             327\n",
              "           2014             330\n",
              "           2015             352\n",
              "           2016             358\n",
              "           2017             378\n",
              "           2018              39"
            ]
          },
          "metadata": {
            "tags": []
          },
          "execution_count": 20
        }
      ]
    },
    {
      "cell_type": "code",
      "metadata": {
        "colab": {
          "base_uri": "https://localhost:8080/",
          "height": 780
        },
        "id": "Zcfe6B4miEBu",
        "outputId": "7c392468-9722-426d-8fd1-241a9d08d888"
      },
      "source": [
        "read_10k_df[['ReportType', 'year', 'month', 'reports_ordered']].groupby(['ReportType', 'year', 'month']).agg(['count'])"
      ],
      "execution_count": 22,
      "outputs": [
        {
          "output_type": "execute_result",
          "data": {
            "text/html": [
              "<div>\n",
              "<style scoped>\n",
              "    .dataframe tbody tr th:only-of-type {\n",
              "        vertical-align: middle;\n",
              "    }\n",
              "\n",
              "    .dataframe tbody tr th {\n",
              "        vertical-align: top;\n",
              "    }\n",
              "\n",
              "    .dataframe thead tr th {\n",
              "        text-align: left;\n",
              "    }\n",
              "\n",
              "    .dataframe thead tr:last-of-type th {\n",
              "        text-align: right;\n",
              "    }\n",
              "</style>\n",
              "<table border=\"1\" class=\"dataframe\">\n",
              "  <thead>\n",
              "    <tr>\n",
              "      <th></th>\n",
              "      <th></th>\n",
              "      <th></th>\n",
              "      <th>reports_ordered</th>\n",
              "    </tr>\n",
              "    <tr>\n",
              "      <th></th>\n",
              "      <th></th>\n",
              "      <th></th>\n",
              "      <th>count</th>\n",
              "    </tr>\n",
              "    <tr>\n",
              "      <th>ReportType</th>\n",
              "      <th>year</th>\n",
              "      <th>month</th>\n",
              "      <th></th>\n",
              "    </tr>\n",
              "  </thead>\n",
              "  <tbody>\n",
              "    <tr>\n",
              "      <th rowspan=\"22\" valign=\"top\">10K</th>\n",
              "      <th rowspan=\"4\" valign=\"top\">2013</th>\n",
              "      <th>3</th>\n",
              "      <td>19</td>\n",
              "    </tr>\n",
              "    <tr>\n",
              "      <th>6</th>\n",
              "      <td>17</td>\n",
              "    </tr>\n",
              "    <tr>\n",
              "      <th>9</th>\n",
              "      <td>26</td>\n",
              "    </tr>\n",
              "    <tr>\n",
              "      <th>12</th>\n",
              "      <td>265</td>\n",
              "    </tr>\n",
              "    <tr>\n",
              "      <th rowspan=\"4\" valign=\"top\">2014</th>\n",
              "      <th>3</th>\n",
              "      <td>18</td>\n",
              "    </tr>\n",
              "    <tr>\n",
              "      <th>6</th>\n",
              "      <td>19</td>\n",
              "    </tr>\n",
              "    <tr>\n",
              "      <th>9</th>\n",
              "      <td>24</td>\n",
              "    </tr>\n",
              "    <tr>\n",
              "      <th>12</th>\n",
              "      <td>269</td>\n",
              "    </tr>\n",
              "    <tr>\n",
              "      <th rowspan=\"4\" valign=\"top\">2015</th>\n",
              "      <th>3</th>\n",
              "      <td>19</td>\n",
              "    </tr>\n",
              "    <tr>\n",
              "      <th>6</th>\n",
              "      <td>17</td>\n",
              "    </tr>\n",
              "    <tr>\n",
              "      <th>9</th>\n",
              "      <td>25</td>\n",
              "    </tr>\n",
              "    <tr>\n",
              "      <th>12</th>\n",
              "      <td>291</td>\n",
              "    </tr>\n",
              "    <tr>\n",
              "      <th rowspan=\"4\" valign=\"top\">2016</th>\n",
              "      <th>3</th>\n",
              "      <td>20</td>\n",
              "    </tr>\n",
              "    <tr>\n",
              "      <th>6</th>\n",
              "      <td>18</td>\n",
              "    </tr>\n",
              "    <tr>\n",
              "      <th>9</th>\n",
              "      <td>26</td>\n",
              "    </tr>\n",
              "    <tr>\n",
              "      <th>12</th>\n",
              "      <td>294</td>\n",
              "    </tr>\n",
              "    <tr>\n",
              "      <th rowspan=\"4\" valign=\"top\">2017</th>\n",
              "      <th>3</th>\n",
              "      <td>20</td>\n",
              "    </tr>\n",
              "    <tr>\n",
              "      <th>6</th>\n",
              "      <td>19</td>\n",
              "    </tr>\n",
              "    <tr>\n",
              "      <th>9</th>\n",
              "      <td>31</td>\n",
              "    </tr>\n",
              "    <tr>\n",
              "      <th>12</th>\n",
              "      <td>308</td>\n",
              "    </tr>\n",
              "    <tr>\n",
              "      <th rowspan=\"2\" valign=\"top\">2018</th>\n",
              "      <th>3</th>\n",
              "      <td>20</td>\n",
              "    </tr>\n",
              "    <tr>\n",
              "      <th>6</th>\n",
              "      <td>19</td>\n",
              "    </tr>\n",
              "  </tbody>\n",
              "</table>\n",
              "</div>"
            ],
            "text/plain": [
              "                      reports_ordered\n",
              "                                count\n",
              "ReportType year month                \n",
              "10K        2013 3                  19\n",
              "                6                  17\n",
              "                9                  26\n",
              "                12                265\n",
              "           2014 3                  18\n",
              "                6                  19\n",
              "                9                  24\n",
              "                12                269\n",
              "           2015 3                  19\n",
              "                6                  17\n",
              "                9                  25\n",
              "                12                291\n",
              "           2016 3                  20\n",
              "                6                  18\n",
              "                9                  26\n",
              "                12                294\n",
              "           2017 3                  20\n",
              "                6                  19\n",
              "                9                  31\n",
              "                12                308\n",
              "           2018 3                  20\n",
              "                6                  19"
            ]
          },
          "metadata": {
            "tags": []
          },
          "execution_count": 22
        }
      ]
    },
    {
      "cell_type": "code",
      "metadata": {
        "id": "z27dgObJiG6J"
      },
      "source": [
        "assert len(read_10k_df[read_10k_df.duplicated(['CIK', 'year', 'quarter', 'Reports'])]) == 0, \"10K Report for every company should be just one quarterly\"\n",
        "assert len(read_10k_df[read_10k_df.duplicated(['CIK', 'date', 'Reports'])]) == 0, \"10K Report for every company should be just one per date\"\n",
        "assert len(read_10k_df[read_10k_df.duplicated(['CIK', 'year'])]) == 0, \"10K Report for every company should be just one per year\""
      ],
      "execution_count": 23,
      "outputs": []
    },
    {
      "cell_type": "code",
      "metadata": {
        "colab": {
          "base_uri": "https://localhost:8080/"
        },
        "id": "nlI51bW5iYJp",
        "outputId": "ccd859b7-d99c-4628-cace-fd12fa658547"
      },
      "source": [
        "read_10k_df.columns"
      ],
      "execution_count": 24,
      "outputs": [
        {
          "output_type": "execute_result",
          "data": {
            "text/plain": [
              "Index(['Unnamed: 0', 'origin_idx', 'CIK', 'date', 'ReportType',\n",
              "       'total_esg_score', 'Reports', 'total_esg_score_change_10k', 'quarter',\n",
              "       'year', 'month', 'governance_score_change_pure_10k',\n",
              "       'social_score_change_pure_10k', 'environment_score_change_pure_10k',\n",
              "       'reports_ordered', 'reports_cosines'],\n",
              "      dtype='object')"
            ]
          },
          "metadata": {
            "tags": []
          },
          "execution_count": 24
        }
      ]
    },
    {
      "cell_type": "markdown",
      "metadata": {
        "id": "kfixVSEbEAjy"
      },
      "source": [
        "#### Cosine Similarity EDA functions"
      ]
    },
    {
      "cell_type": "code",
      "metadata": {
        "id": "W_59zIbVC9A4"
      },
      "source": [
        "def get_cosines(cosine_col_name, report):\n",
        "  cosines = []\n",
        "  max_cosines = []\n",
        "  third_cosines = []\n",
        "  cosines_col = report.columns.get_loc(cosine_col_name)\n",
        "  for index, row in report.iterrows():\n",
        "      cosines_row = report.iloc[index, cosines_col]\n",
        "      if type(cosines_row) == str:\n",
        "          cosines_split = cosines_row.split()\n",
        "          cosines.extend(cosines_row.split())\n",
        "          max_cosines.append(max(cosines_split))\n",
        "          if (len(cosines_split)) > 3:\n",
        "            third_cosines.append(cosines_split[2])\n",
        "  return cosines, max_cosines, third_cosines"
      ],
      "execution_count": 25,
      "outputs": []
    },
    {
      "cell_type": "code",
      "metadata": {
        "id": "jaXzWzydGQkj"
      },
      "source": [
        "def plot_cosines(cosines_type_name, cosines, plot_title):\n",
        "  cosines_df = pd.DataFrame(cosines)\n",
        "  cosines_df.rename(columns={0: cosines_type_name}, inplace=True)\n",
        "  cosines_df[cosines_type_name] = cosines_df[cosines_type_name].astype(float)\n",
        "\n",
        "  fig, ax = plt.subplots()\n",
        "\n",
        "  bins = [i/10 for i in range(11)]\n",
        "  ax.hist(cosines_df[cosines_type_name],\n",
        "        weights=np.zeros_like(cosines_df) + 1. / cosines_df.size * 100,\n",
        "        bins=bins)\n",
        "  ax.set_title(plot_title)\n",
        "  ax.set_ylabel('Count')\n",
        "  ax.set_xlabel('Cosine')\n",
        "  ax.yaxis.set_major_formatter(mtick.PercentFormatter(decimals=0))"
      ],
      "execution_count": 26,
      "outputs": []
    },
    {
      "cell_type": "code",
      "metadata": {
        "id": "RxdvdVJAJqYj"
      },
      "source": [
        "def get_cosines_plots(report):\n",
        "  cosines, max_cosines, third_cosines = get_cosines('reports_cosines', report)\n",
        "  cosines_type = ['reports_cosines', 'max_cosines', 'third_cosines']\n",
        "  plot_titles = ['Relative Frequency of Cosines of All Sentences', 'Relative Frequency of Max Cosine of Each 10K Report', 'Relative Frequency of Third Cosine of Each 10K Report']\n",
        "  plot_cosines(cosines_type[0], cosines, plot_titles[0])\n",
        "  plot_cosines(cosines_type[1], max_cosines, plot_titles[1])\n",
        "  plot_cosines(cosines_type[2], third_cosines, plot_titles[2])"
      ],
      "execution_count": 27,
      "outputs": []
    },
    {
      "cell_type": "code",
      "metadata": {
        "id": "rDou7005SlgA"
      },
      "source": [
        "def esg_score_summary_with_date(report):\n",
        "  eda_df = report[['date', 'total_esg_score', 'total_esg_score_change_10k',\n",
        "                        'governance_score_change_pure_10k',\n",
        "                        'social_score_change_pure_10k',\n",
        "                        'environment_score_change_pure_10k',\n",
        "                        'reports_ordered', 'reports_cosines']]\n",
        "\n",
        "  eda_df = eda_df[(eda_df.total_esg_score.isna()==False) & (eda_df.reports_ordered.isna()==False)]\n",
        "  eda_df['date'] = pd.to_datetime(eda_df.date)\n",
        "  eda_df['quarter'] = eda_df['date'].dt.quarter\n",
        "  eda_df['year'] = eda_df['date'].dt.year\n",
        "  counts_df = eda_df[['total_esg_score', 'year', 'quarter']].groupby(by=['year','quarter']).agg('count')\n",
        "  counts_df.plot()\n",
        "  eda_df.hist('total_esg_score')\n",
        "  eda_df.hist('total_esg_score_change_10k')\n",
        "  print(\"Number of 10K reports have total_esg_score:\", len(eda_df))\n",
        "  return counts_df, eda_df"
      ],
      "execution_count": 28,
      "outputs": []
    },
    {
      "cell_type": "code",
      "metadata": {
        "id": "eTknj6PMpzER"
      },
      "source": [
        "def plot_quarterly_score(report_df):\n",
        "  qc_df = report_df[['total_esg_score_change_10k',\n",
        "                          'governance_score_change_pure_10k',\n",
        "                          'social_score_change_pure_10k',\n",
        "                          'environment_score_change_pure_10k']]\n",
        "\n",
        "  fig, ax = plt.subplots(2, 2, figsize=(12,8))\n",
        "\n",
        "  fig.suptitle(\"Percent Distribution of Changes\\nIn Quarterly Score\")\n",
        "  bins = [i for i in range(-10, 11, 2)]\n",
        "\n",
        "  c = 'total_esg_score_change_10k'\n",
        "  ax[0,0].hist(qc_df[c],\n",
        "              weights=np.zeros_like(qc_df[c]) + 1. / qc_df[c].size * 100,\n",
        "              bins=bins)\n",
        "  ax[0,0].set_title('Total ESG')\n",
        "  ax[0,0].yaxis.set_major_formatter(mtick.PercentFormatter(decimals=0))\n",
        "\n",
        "  c = 'governance_score_change_pure_10k'\n",
        "  ax[0,1].hist(qc_df[c],\n",
        "              weights=np.zeros_like(qc_df[c]) + 1. / qc_df[c].size * 100,\n",
        "              bins=bins)\n",
        "  ax[0,1].set_title('Governance')\n",
        "  ax[0,1].yaxis.set_major_formatter(mtick.PercentFormatter(decimals=0))\n",
        "\n",
        "  c = 'social_score_change_pure_10k'\n",
        "  ax[1,0].hist(qc_df[c],\n",
        "              weights=np.zeros_like(qc_df[c]) + 1. / qc_df[c].size * 100,\n",
        "              bins=bins)\n",
        "  ax[1,0].set_title('Social')\n",
        "  ax[1,0].yaxis.set_major_formatter(mtick.PercentFormatter(decimals=0))\n",
        "\n",
        "  c = 'environment_score_change_pure_10k'\n",
        "  ax[1,1].hist(qc_df[c],\n",
        "              weights=np.zeros_like(qc_df[c]) + 1. / qc_df[c].size * 100,\n",
        "              bins=bins)\n",
        "  ax[1,1].set_title('Environment')\n",
        "  ax[1,1].yaxis.set_major_formatter(mtick.PercentFormatter(decimals=0))\n",
        "  plt.tight_layout"
      ],
      "execution_count": 29,
      "outputs": []
    },
    {
      "cell_type": "code",
      "metadata": {
        "id": "9B12OC01a3y3"
      },
      "source": [
        "def plot_score_by_year(eda_df, eda_columns, sub_title, bins_range):\n",
        "  score_duration_df = eda_df[eda_columns]\n",
        "  fig, ax = plt.subplots(2, 3, figsize=(12,8))\n",
        "\n",
        "  fig.suptitle(sub_title)\n",
        "  bins = [i for i in bins_range]\n",
        "\n",
        "  sc = eda_columns[1]\n",
        "\n",
        "  yrs = [[2013, 2014, 2015], [2016, 2017, 2018]]\n",
        "\n",
        "  for row in range(2):\n",
        "    for column in range(3):\n",
        "      temp_df = score_duration_df[score_duration_df.year==yrs[row][column]]\n",
        "      ax[row,column].hist(temp_df[sc],\n",
        "                  weights=np.zeros_like(temp_df[sc]) + 1. / temp_df[sc].size * 100,\n",
        "                  bins=bins)\n",
        "      ax[row,column].set_title((str)(yrs[row][column]))\n",
        "      ax[row,column].yaxis.set_major_formatter(mtick.PercentFormatter(decimals=0))"
      ],
      "execution_count": 30,
      "outputs": []
    },
    {
      "cell_type": "markdown",
      "metadata": {
        "id": "rpbGztr2amIu"
      },
      "source": [
        "#### Cosine Similarity EDA Summaries and Plots"
      ]
    },
    {
      "cell_type": "code",
      "metadata": {
        "colab": {
          "base_uri": "https://localhost:8080/",
          "height": 1000
        },
        "id": "-OfoWPqF28Zr",
        "outputId": "b8b03490-2846-4477-b580-d56c8e44cce4"
      },
      "source": [
        "get_cosines_plots(read_10k_df)\n",
        "counts_10k_df, eda_10k_df = esg_score_summary_with_date(read_10k_df)\n",
        "counts_10k_df"
      ],
      "execution_count": 31,
      "outputs": [
        {
          "output_type": "stream",
          "text": [
            "Number of 10K reports have total_esg_score: 1784\n"
          ],
          "name": "stdout"
        },
        {
          "output_type": "execute_result",
          "data": {
            "text/html": [
              "<div>\n",
              "<style scoped>\n",
              "    .dataframe tbody tr th:only-of-type {\n",
              "        vertical-align: middle;\n",
              "    }\n",
              "\n",
              "    .dataframe tbody tr th {\n",
              "        vertical-align: top;\n",
              "    }\n",
              "\n",
              "    .dataframe thead th {\n",
              "        text-align: right;\n",
              "    }\n",
              "</style>\n",
              "<table border=\"1\" class=\"dataframe\">\n",
              "  <thead>\n",
              "    <tr style=\"text-align: right;\">\n",
              "      <th></th>\n",
              "      <th></th>\n",
              "      <th>total_esg_score</th>\n",
              "    </tr>\n",
              "    <tr>\n",
              "      <th>year</th>\n",
              "      <th>quarter</th>\n",
              "      <th></th>\n",
              "    </tr>\n",
              "  </thead>\n",
              "  <tbody>\n",
              "    <tr>\n",
              "      <th rowspan=\"4\" valign=\"top\">2013</th>\n",
              "      <th>1</th>\n",
              "      <td>19</td>\n",
              "    </tr>\n",
              "    <tr>\n",
              "      <th>2</th>\n",
              "      <td>17</td>\n",
              "    </tr>\n",
              "    <tr>\n",
              "      <th>3</th>\n",
              "      <td>26</td>\n",
              "    </tr>\n",
              "    <tr>\n",
              "      <th>4</th>\n",
              "      <td>265</td>\n",
              "    </tr>\n",
              "    <tr>\n",
              "      <th rowspan=\"4\" valign=\"top\">2014</th>\n",
              "      <th>1</th>\n",
              "      <td>18</td>\n",
              "    </tr>\n",
              "    <tr>\n",
              "      <th>2</th>\n",
              "      <td>19</td>\n",
              "    </tr>\n",
              "    <tr>\n",
              "      <th>3</th>\n",
              "      <td>24</td>\n",
              "    </tr>\n",
              "    <tr>\n",
              "      <th>4</th>\n",
              "      <td>269</td>\n",
              "    </tr>\n",
              "    <tr>\n",
              "      <th rowspan=\"4\" valign=\"top\">2015</th>\n",
              "      <th>1</th>\n",
              "      <td>19</td>\n",
              "    </tr>\n",
              "    <tr>\n",
              "      <th>2</th>\n",
              "      <td>17</td>\n",
              "    </tr>\n",
              "    <tr>\n",
              "      <th>3</th>\n",
              "      <td>25</td>\n",
              "    </tr>\n",
              "    <tr>\n",
              "      <th>4</th>\n",
              "      <td>291</td>\n",
              "    </tr>\n",
              "    <tr>\n",
              "      <th rowspan=\"4\" valign=\"top\">2016</th>\n",
              "      <th>1</th>\n",
              "      <td>20</td>\n",
              "    </tr>\n",
              "    <tr>\n",
              "      <th>2</th>\n",
              "      <td>18</td>\n",
              "    </tr>\n",
              "    <tr>\n",
              "      <th>3</th>\n",
              "      <td>26</td>\n",
              "    </tr>\n",
              "    <tr>\n",
              "      <th>4</th>\n",
              "      <td>294</td>\n",
              "    </tr>\n",
              "    <tr>\n",
              "      <th rowspan=\"4\" valign=\"top\">2017</th>\n",
              "      <th>1</th>\n",
              "      <td>20</td>\n",
              "    </tr>\n",
              "    <tr>\n",
              "      <th>2</th>\n",
              "      <td>19</td>\n",
              "    </tr>\n",
              "    <tr>\n",
              "      <th>3</th>\n",
              "      <td>31</td>\n",
              "    </tr>\n",
              "    <tr>\n",
              "      <th>4</th>\n",
              "      <td>308</td>\n",
              "    </tr>\n",
              "    <tr>\n",
              "      <th rowspan=\"2\" valign=\"top\">2018</th>\n",
              "      <th>1</th>\n",
              "      <td>20</td>\n",
              "    </tr>\n",
              "    <tr>\n",
              "      <th>2</th>\n",
              "      <td>19</td>\n",
              "    </tr>\n",
              "  </tbody>\n",
              "</table>\n",
              "</div>"
            ],
            "text/plain": [
              "              total_esg_score\n",
              "year quarter                 \n",
              "2013 1                     19\n",
              "     2                     17\n",
              "     3                     26\n",
              "     4                    265\n",
              "2014 1                     18\n",
              "     2                     19\n",
              "     3                     24\n",
              "     4                    269\n",
              "2015 1                     19\n",
              "     2                     17\n",
              "     3                     25\n",
              "     4                    291\n",
              "2016 1                     20\n",
              "     2                     18\n",
              "     3                     26\n",
              "     4                    294\n",
              "2017 1                     20\n",
              "     2                     19\n",
              "     3                     31\n",
              "     4                    308\n",
              "2018 1                     20\n",
              "     2                     19"
            ]
          },
          "metadata": {
            "tags": []
          },
          "execution_count": 31
        },
        {
          "output_type": "display_data",
          "data": {
            "image/png": "[encoded data removed]",
            "text/plain": [
              "<Figure size 432x288 with 1 Axes>"
            ]
          },
          "metadata": {
            "tags": [],
            "needs_background": "light"
          }
        },
        {
          "output_type": "display_data",
          "data": {
            "image/png": "[encoded data removed]",
            "text/plain": [
              "<Figure size 432x288 with 1 Axes>"
            ]
          },
          "metadata": {
            "tags": [],
            "needs_background": "light"
          }
        },
        {
          "output_type": "display_data",
          "data": {
            "image/png": "[encoded data removed]",
            "text/plain": [
              "<Figure size 432x288 with 1 Axes>"
            ]
          },
          "metadata": {
            "tags": [],
            "needs_background": "light"
          }
        },
        {
          "output_type": "display_data",
          "data": {
            "image/png": "[encoded data removed]",
            "text/plain": [
              "<Figure size 432x288 with 1 Axes>"
            ]
          },
          "metadata": {
            "tags": [],
            "needs_background": "light"
          }
        },
        {
          "output_type": "display_data",
          "data": {
            "image/png": "[encoded data removed]",
            "text/plain": [
              "<Figure size 432x288 with 1 Axes>"
            ]
          },
          "metadata": {
            "tags": [],
            "needs_background": "light"
          }
        },
        {
          "output_type": "display_data",
          "data": {
            "image/png": "[encoded data removed]",
            "text/plain": [
              "<Figure size 432x288 with 1 Axes>"
            ]
          },
          "metadata": {
            "tags": [],
            "needs_background": "light"
          }
        }
      ]
    },
    {
      "cell_type": "code",
      "metadata": {
        "colab": {
          "base_uri": "https://localhost:8080/",
          "height": 412
        },
        "id": "_ITawq36iy7X",
        "outputId": "da63e30b-0074-43f9-c1c3-16d21004311a"
      },
      "source": [
        "eda_10k_df"
      ],
      "execution_count": 32,
      "outputs": [
        {
          "output_type": "execute_result",
          "data": {
            "text/html": [
              "<div>\n",
              "<style scoped>\n",
              "    .dataframe tbody tr th:only-of-type {\n",
              "        vertical-align: middle;\n",
              "    }\n",
              "\n",
              "    .dataframe tbody tr th {\n",
              "        vertical-align: top;\n",
              "    }\n",
              "\n",
              "    .dataframe thead th {\n",
              "        text-align: right;\n",
              "    }\n",
              "</style>\n",
              "<table border=\"1\" class=\"dataframe\">\n",
              "  <thead>\n",
              "    <tr style=\"text-align: right;\">\n",
              "      <th></th>\n",
              "      <th>date</th>\n",
              "      <th>total_esg_score</th>\n",
              "      <th>total_esg_score_change_10k</th>\n",
              "      <th>governance_score_change_pure_10k</th>\n",
              "      <th>social_score_change_pure_10k</th>\n",
              "      <th>environment_score_change_pure_10k</th>\n",
              "      <th>reports_ordered</th>\n",
              "      <th>reports_cosines</th>\n",
              "      <th>quarter</th>\n",
              "      <th>year</th>\n",
              "    </tr>\n",
              "  </thead>\n",
              "  <tbody>\n",
              "    <tr>\n",
              "      <th>0</th>\n",
              "      <td>2016-12-30</td>\n",
              "      <td>56.08</td>\n",
              "      <td>-2.92</td>\n",
              "      <td>-1.66</td>\n",
              "      <td>-0.38</td>\n",
              "      <td>0.80</td>\n",
              "      <td>If we fail to comply with laws and regulations...</td>\n",
              "      <td>0.76 0.75 0.75 0.75 0.75 0.74 0.74 0.74 0.74 0...</td>\n",
              "      <td>4</td>\n",
              "      <td>2016</td>\n",
              "    </tr>\n",
              "    <tr>\n",
              "      <th>1</th>\n",
              "      <td>2017-12-29</td>\n",
              "      <td>57.68</td>\n",
              "      <td>1.60</td>\n",
              "      <td>-4.50</td>\n",
              "      <td>-1.07</td>\n",
              "      <td>1.40</td>\n",
              "      <td>Although we believe we are positioned to accom...</td>\n",
              "      <td>0.77 0.76 0.75 0.75 0.75 0.75 0.75 0.75 0.74 0...</td>\n",
              "      <td>4</td>\n",
              "      <td>2017</td>\n",
              "    </tr>\n",
              "    <tr>\n",
              "      <th>2</th>\n",
              "      <td>2016-12-30</td>\n",
              "      <td>56.29</td>\n",
              "      <td>-5.71</td>\n",
              "      <td>-7.76</td>\n",
              "      <td>-12.52</td>\n",
              "      <td>1.28</td>\n",
              "      <td>In the event that any future climatechange leg...</td>\n",
              "      <td>0.81 0.79 0.78 0.78 0.77 0.76 0.76 0.75 0.75 0...</td>\n",
              "      <td>4</td>\n",
              "      <td>2016</td>\n",
              "    </tr>\n",
              "    <tr>\n",
              "      <th>3</th>\n",
              "      <td>2017-12-29</td>\n",
              "      <td>52.96</td>\n",
              "      <td>-3.33</td>\n",
              "      <td>-16.81</td>\n",
              "      <td>0.09</td>\n",
              "      <td>4.44</td>\n",
              "      <td>In the event that any future climate change le...</td>\n",
              "      <td>0.81 0.79 0.78 0.78 0.77 0.77 0.77 0.76 0.76 0...</td>\n",
              "      <td>4</td>\n",
              "      <td>2017</td>\n",
              "    </tr>\n",
              "    <tr>\n",
              "      <th>4</th>\n",
              "      <td>2017-12-29</td>\n",
              "      <td>42.31</td>\n",
              "      <td>0.00</td>\n",
              "      <td>0.00</td>\n",
              "      <td>0.00</td>\n",
              "      <td>0.00</td>\n",
              "      <td>Our wireless spectrum licenses are subject to ...</td>\n",
              "      <td>0.78 0.78 0.77 0.77 0.77 0.77 0.77 0.76 0.76 0...</td>\n",
              "      <td>4</td>\n",
              "      <td>2017</td>\n",
              "    </tr>\n",
              "    <tr>\n",
              "      <th>...</th>\n",
              "      <td>...</td>\n",
              "      <td>...</td>\n",
              "      <td>...</td>\n",
              "      <td>...</td>\n",
              "      <td>...</td>\n",
              "      <td>...</td>\n",
              "      <td>...</td>\n",
              "      <td>...</td>\n",
              "      <td>...</td>\n",
              "      <td>...</td>\n",
              "    </tr>\n",
              "    <tr>\n",
              "      <th>1779</th>\n",
              "      <td>2014-12-31</td>\n",
              "      <td>64.00</td>\n",
              "      <td>1.00</td>\n",
              "      <td>0.00</td>\n",
              "      <td>-6.00</td>\n",
              "      <td>10.00</td>\n",
              "      <td>While management believes the accruals for env...</td>\n",
              "      <td>0.8 0.79 0.78 0.75 0.75 0.74 0.74 0.74 0.74 0....</td>\n",
              "      <td>4</td>\n",
              "      <td>2014</td>\n",
              "    </tr>\n",
              "    <tr>\n",
              "      <th>1780</th>\n",
              "      <td>2015-12-31</td>\n",
              "      <td>58.00</td>\n",
              "      <td>-6.00</td>\n",
              "      <td>0.08</td>\n",
              "      <td>-11.64</td>\n",
              "      <td>0.11</td>\n",
              "      <td>While management believes the accruals for env...</td>\n",
              "      <td>0.8 0.78 0.75 0.75 0.74 0.74 0.74 0.74 0.74 0....</td>\n",
              "      <td>4</td>\n",
              "      <td>2015</td>\n",
              "    </tr>\n",
              "    <tr>\n",
              "      <th>1781</th>\n",
              "      <td>2013-12-31</td>\n",
              "      <td>64.00</td>\n",
              "      <td>0.00</td>\n",
              "      <td>0.00</td>\n",
              "      <td>0.00</td>\n",
              "      <td>0.00</td>\n",
              "      <td>Yes         No    x      Indicate by check mar...</td>\n",
              "      <td>0.56 0.55 0.54 0.52 0.52 0.52 0.52 0.5 0.48 0....</td>\n",
              "      <td>4</td>\n",
              "      <td>2013</td>\n",
              "    </tr>\n",
              "    <tr>\n",
              "      <th>1782</th>\n",
              "      <td>2014-12-31</td>\n",
              "      <td>63.00</td>\n",
              "      <td>-1.00</td>\n",
              "      <td>7.00</td>\n",
              "      <td>1.00</td>\n",
              "      <td>2.00</td>\n",
              "      <td>In addition, any significant deterioration in ...</td>\n",
              "      <td>0.76 0.76 0.75 0.75 0.74 0.74 0.71 0.71 0.71 0...</td>\n",
              "      <td>4</td>\n",
              "      <td>2014</td>\n",
              "    </tr>\n",
              "    <tr>\n",
              "      <th>1783</th>\n",
              "      <td>2015-12-31</td>\n",
              "      <td>65.00</td>\n",
              "      <td>2.00</td>\n",
              "      <td>-3.50</td>\n",
              "      <td>-0.29</td>\n",
              "      <td>-0.15</td>\n",
              "      <td>In addition, any significant deterioration in ...</td>\n",
              "      <td>0.76 0.76 0.75 0.75 0.75 0.75 0.72 0.72 0.72 0...</td>\n",
              "      <td>4</td>\n",
              "      <td>2015</td>\n",
              "    </tr>\n",
              "  </tbody>\n",
              "</table>\n",
              "<p>1784 rows × 10 columns</p>\n",
              "</div>"
            ],
            "text/plain": [
              "           date  total_esg_score  ...  quarter  year\n",
              "0    2016-12-30            56.08  ...        4  2016\n",
              "1    2017-12-29            57.68  ...        4  2017\n",
              "2    2016-12-30            56.29  ...        4  2016\n",
              "3    2017-12-29            52.96  ...        4  2017\n",
              "4    2017-12-29            42.31  ...        4  2017\n",
              "...         ...              ...  ...      ...   ...\n",
              "1779 2014-12-31            64.00  ...        4  2014\n",
              "1780 2015-12-31            58.00  ...        4  2015\n",
              "1781 2013-12-31            64.00  ...        4  2013\n",
              "1782 2014-12-31            63.00  ...        4  2014\n",
              "1783 2015-12-31            65.00  ...        4  2015\n",
              "\n",
              "[1784 rows x 10 columns]"
            ]
          },
          "metadata": {
            "tags": []
          },
          "execution_count": 32
        }
      ]
    },
    {
      "cell_type": "code",
      "metadata": {
        "colab": {
          "base_uri": "https://localhost:8080/",
          "height": 540
        },
        "id": "kHzxxmSpeppS",
        "outputId": "3e4c28d5-533a-4a56-b0ee-481dc9330e75"
      },
      "source": [
        "plot_score_by_year(eda_10k_df, ['year', 'total_esg_score_change_10k', 'reports_cosines'], \"Percent Distribution of Changes\\nIn Quarterly Score\", range(-10, 11, 2))"
      ],
      "execution_count": 33,
      "outputs": [
        {
          "output_type": "display_data",
          "data": {
            "image/png": "[encoded data removed]",
            "text/plain": [
              "<Figure size 864x576 with 6 Axes>"
            ]
          },
          "metadata": {
            "tags": [],
            "needs_background": "light"
          }
        }
      ]
    },
    {
      "cell_type": "code",
      "metadata": {
        "colab": {
          "base_uri": "https://localhost:8080/",
          "height": 540
        },
        "id": "5zRKoKIAhPUR",
        "outputId": "b9a8a85f-a156-4b11-c65a-744fb15c926a"
      },
      "source": [
        "plot_score_by_year(eda_10k_df, ['year', 'total_esg_score', 'reports_cosines'], \"Percent Distribution of Total ESG Score\", range(0, 100, 10))"
      ],
      "execution_count": 34,
      "outputs": [
        {
          "output_type": "display_data",
          "data": {
            "image/png": "[encoded data removed]",
            "text/plain": [
              "<Figure size 864x576 with 6 Axes>"
            ]
          },
          "metadata": {
            "tags": [],
            "needs_background": "light"
          }
        }
      ]
    },
    {
      "cell_type": "code",
      "metadata": {
        "colab": {
          "base_uri": "https://localhost:8080/",
          "height": 540
        },
        "id": "5bJx-u4baQKs",
        "outputId": "e5cedf66-912a-4fd2-a224-9ea647dcdf6a"
      },
      "source": [
        "plot_quarterly_score(read_10k_df)"
      ],
      "execution_count": 35,
      "outputs": [
        {
          "output_type": "display_data",
          "data": {
            "image/png": "[encoded data removed]",
            "text/plain": [
              "<Figure size 864x576 with 4 Axes>"
            ]
          },
          "metadata": {
            "tags": [],
            "needs_background": "light"
          }
        }
      ]
    },
    {
      "cell_type": "markdown",
      "metadata": {
        "id": "UOVsomr4DM-Z"
      },
      "source": [
        "# 10K and 10Q Input and Label Datasets"
      ]
    },
    {
      "cell_type": "code",
      "metadata": {
        "id": "L8omW571lTSJ"
      },
      "source": [
        "import numpy as np\n",
        "import pandas as pd\n",
        "\n",
        "import tensorflow as tf\n",
        "import tensorflow_datasets as tfds\n",
        "\n",
        "import transformers\n",
        "\n",
        "from transformers import BertTokenizer, TFBertModel, BertForMaskedLM, TFBertForMaskedLM\n",
        "from tensorflow.keras import backend as K\n",
        "\n",
        "import logging\n",
        "from nltk.tokenize import sent_tokenize\n",
        "from sklearn.utils import shuffle\n",
        "\n",
        "from sklearn.feature_extraction.text import TfidfTransformer\n",
        "from sklearn.feature_extraction.text import TfidfVectorizer\n",
        "from sklearn import svm\n",
        "import sklearn.metrics as metrics\n",
        "from keras.regularizers import l2\n",
        "\n",
        "tf.get_logger().setLevel(logging.ERROR)"
      ],
      "execution_count": 15,
      "outputs": []
    },
    {
      "cell_type": "code",
      "metadata": {
        "id": "tH0rbcFlxLkP"
      },
      "source": [
        "def func_to_retain_order(a):\n",
        "  return [a[i] for i in sorted(np.unique(a, return_index=True)[1])]"
      ],
      "execution_count": 16,
      "outputs": []
    },
    {
      "cell_type": "code",
      "metadata": {
        "id": "1gm-MyG6rpfW"
      },
      "source": [
        "eda_10k_df = read_10k_df"
      ],
      "execution_count": 17,
      "outputs": []
    },
    {
      "cell_type": "code",
      "metadata": {
        "id": "HYwc1aIhJpNe"
      },
      "source": [
        "eda_10q_df = read_10q_df"
      ],
      "execution_count": 21,
      "outputs": []
    },
    {
      "cell_type": "code",
      "metadata": {
        "id": "-8ux9AZiKOXT"
      },
      "source": [
        "eda_10q_df['truncated_reports_ordered'] = eda_10q_df['reports_ordered'].apply(lambda row: row[0:10000])\n",
        "eda_10q_df['tokenized_reports_ordered'] = eda_10q_df['truncated_reports_ordered'].apply(lambda row: sent_tokenize(row))\n",
        "eda_10q_df['top_truncate_tokenized_reports_ordered'] = eda_10q_df['tokenized_reports_ordered'].apply(lambda row: row[3:])\n",
        "eda_10q_df['uniq_top_truncate_tokenized_reports_ordered'] = eda_10q_df['top_truncate_tokenized_reports_ordered'].apply(lambda row: func_to_retain_order(row))\n",
        "eda_10q_df['to_model_reports_col'] = eda_10q_df['uniq_top_truncate_tokenized_reports_ordered'].apply(lambda row: ''.join(row))\n",
        "eda_df_10q = eda_10q_df[(eda_10q_df.year<2019) & (eda_10q_df.year>=2013)]\n",
        "eda_df_10q = eda_df_10q[['CIK', 'year', 'date', 'to_model_reports_col', 'total_esg_score_quarter_change_pure']]\n",
        "eda_df_10q['total_esg_score_change'] = eda_df_10q['total_esg_score_quarter_change_pure']\n",
        "eda_df_10q = eda_df_10q[['CIK', 'year', 'date', 'to_model_reports_col', 'total_esg_score_change']]"
      ],
      "execution_count": 22,
      "outputs": []
    },
    {
      "cell_type": "code",
      "metadata": {
        "id": "xMwsYq8NuGpS"
      },
      "source": [
        "eda_10k_df['truncated_reports_ordered'] = eda_10k_df['reports_ordered'].apply(lambda row: row[0:10000])\n",
        "eda_10k_df['tokenized_reports_ordered'] = eda_10k_df['truncated_reports_ordered'].apply(lambda row: sent_tokenize(row))\n",
        "eda_10k_df['top_truncate_tokenized_reports_ordered'] = eda_10k_df['tokenized_reports_ordered'].apply(lambda row: row[3:])\n",
        "eda_10k_df['uniq_top_truncate_tokenized_reports_ordered'] = eda_10k_df['top_truncate_tokenized_reports_ordered'].apply(lambda row: func_to_retain_order(row))\n",
        "eda_10k_df['to_model_reports_col'] = eda_10k_df['uniq_top_truncate_tokenized_reports_ordered'].apply(lambda row: ''.join(row))\n",
        "eda_df_10k = eda_10k_df[(eda_10k_df.year<2019) & (eda_10k_df.year>=2013)]\n",
        "eda_df_10k = eda_df_10k[['CIK', 'year', 'date', 'to_model_reports_col', 'total_esg_score_change_10k']]\n",
        "eda_df_10k['total_esg_score_change'] = eda_10k_df['total_esg_score_change_10k']\n",
        "eda_df_10k = eda_df_10k[['CIK', 'year', 'date', 'to_model_reports_col', 'total_esg_score_change']]"
      ],
      "execution_count": 23,
      "outputs": []
    },
    {
      "cell_type": "code",
      "metadata": {
        "id": "1oGkqWsg3hQK"
      },
      "source": [
        "subset_run1_10k_df = eda_df_10k.copy()"
      ],
      "execution_count": 24,
      "outputs": []
    },
    {
      "cell_type": "code",
      "metadata": {
        "id": "FuXEjGYM3uJ6"
      },
      "source": [
        "subset_run1_10q_df = eda_df_10q.copy()"
      ],
      "execution_count": 25,
      "outputs": []
    },
    {
      "cell_type": "code",
      "metadata": {
        "colab": {
          "base_uri": "https://localhost:8080/"
        },
        "id": "5wjI4Yr43zEH",
        "outputId": "5d71cfbd-264e-4136-984b-415003434636"
      },
      "source": [
        "print(\"Total 10k reports: \", len(subset_run1_10k_df))\n",
        "print(\"Total 10q reports: \", len(subset_run1_10q_df))"
      ],
      "execution_count": 26,
      "outputs": [
        {
          "output_type": "stream",
          "text": [
            "Total 10k reports:  1784\n",
            "Total 10q reports:  5944\n"
          ],
          "name": "stdout"
        }
      ]
    },
    {
      "cell_type": "code",
      "metadata": {
        "colab": {
          "base_uri": "https://localhost:8080/"
        },
        "id": "EVdgHcNj1L0d",
        "outputId": "f67738ed-efe9-4d8c-ed2f-cc6d038317b4"
      },
      "source": [
        "print(\"Total esg core change of 10k report is smaller than 0:\", len(subset_run1_10k_df[subset_run1_10k_df.total_esg_score_change<0]))\n",
        "print(\"Total esg core change of 10k report is larger than 0:\", len(subset_run1_10k_df[subset_run1_10k_df.total_esg_score_change>0]))\n",
        "print(\"Total esg core change of 10k report is equal to 0:\", len(subset_run1_10k_df[subset_run1_10k_df.total_esg_score_change==0]))\n",
        "\n",
        "print(\"Total esg core change of 10q report is smaller than 0:\", len(subset_run1_10q_df[subset_run1_10q_df.total_esg_score_change<0]))\n",
        "print(\"Total esg core change of 10q report is larger than 0:\", len(subset_run1_10q_df[subset_run1_10q_df.total_esg_score_change>0]))\n",
        "print(\"Total esg core change of 10q report is equal to 0:\", len(subset_run1_10q_df[subset_run1_10q_df.total_esg_score_change==0]))"
      ],
      "execution_count": 27,
      "outputs": [
        {
          "output_type": "stream",
          "text": [
            "Total esg core change of 10k report is smaller than 0: 604\n",
            "Total esg core change of 10k report is larger than 0: 602\n",
            "Total esg core change of 10k report is equal to 0: 578\n",
            "Total esg core change of 10q report is smaller than 0: 1503\n",
            "Total esg core change of 10q report is larger than 0: 1282\n",
            "Total esg core change of 10q report is equal to 0: 3159\n"
          ],
          "name": "stdout"
        }
      ]
    },
    {
      "cell_type": "code",
      "metadata": {
        "id": "NDjyPPmd1ZzH"
      },
      "source": [
        "subset_run1_10k_df['total_esg_score_change'] = np.where(abs(subset_run1_10k_df['total_esg_score_change'])==0,0,1)\n",
        "subset_run1_10q_df['total_esg_score_change'] = np.where(abs(subset_run1_10q_df['total_esg_score_change'])==0,0,1)"
      ],
      "execution_count": 28,
      "outputs": []
    },
    {
      "cell_type": "code",
      "metadata": {
        "id": "fPcGKcwDCszN"
      },
      "source": [
        "split_0s_10k = np.array_split(subset_run1_10k_df[subset_run1_10k_df['total_esg_score_change'] == 0], 5)\n",
        "validation_ds_0s_10k = split_0s_10k[4]\n",
        "train_ds_0s_10k = pd.concat(split_0s_10k[0:4])\n",
        "split_1s_10k = np.array_split(subset_run1_10k_df[subset_run1_10k_df['total_esg_score_change'] == 1], 5)\n",
        "validation_ds_1s_10k = split_1s_10k[4]\n",
        "train_ds_1s_10k = pd.concat(split_1s_10k[0:4])\n",
        "validation_ds_10k = pd.concat([validation_ds_0s_10k, validation_ds_1s_10k]).sample(frac=1)\n",
        "train_ds_10k = pd.concat([train_ds_0s_10k, train_ds_1s_10k]).sample(frac=1)"
      ],
      "execution_count": 29,
      "outputs": []
    },
    {
      "cell_type": "code",
      "metadata": {
        "id": "8aOjrbRekMZW"
      },
      "source": [
        "split_0s_10q = np.array_split(subset_run1_10q_df[subset_run1_10q_df['total_esg_score_change'] == 0], 5)\n",
        "validation_ds_0s_10q = split_0s_10q[4]\n",
        "train_ds_0s_10q = pd.concat(split_0s_10q[0:4])\n",
        "split_1s_10q = np.array_split(subset_run1_10q_df[subset_run1_10q_df['total_esg_score_change'] == 1], 5)\n",
        "validation_ds_1s_10q = split_1s_10q[4]\n",
        "train_ds_1s_10q = pd.concat(split_1s_10q[0:4])\n",
        "validation_ds_10q = pd.concat([validation_ds_0s_10q, validation_ds_1s_10q]).sample(frac=1)\n",
        "train_ds_10q = pd.concat([train_ds_0s_10q, train_ds_1s_10q]).sample(frac=1)"
      ],
      "execution_count": 30,
      "outputs": []
    },
    {
      "cell_type": "code",
      "metadata": {
        "id": "JLJWqm-NsC21"
      },
      "source": [
        "validation_dataset_10q = tf.data.Dataset.from_tensor_slices((validation_ds_10q.to_model_reports_col.values, validation_ds_10q.total_esg_score_change.values))\n",
        "validation_data_10q = validation_dataset_10q.take(len(validation_ds_10q))\n",
        "train_dataset_10q = tf.data.Dataset.from_tensor_slices((train_ds_10q.to_model_reports_col.values, train_ds_10q.total_esg_score_change.values))\n",
        "train_data_10q = train_dataset_10q.take(len(train_ds_10q))"
      ],
      "execution_count": 32,
      "outputs": []
    },
    {
      "cell_type": "code",
      "metadata": {
        "id": "6Uj5zk-mFJ0a"
      },
      "source": [
        "validation_dataset_10k = tf.data.Dataset.from_tensor_slices((validation_ds_10k.to_model_reports_col.values, validation_ds_10k.total_esg_score_change.values))\n",
        "validation_data_10k = validation_dataset_10k.take(len(validation_ds_10k))\n",
        "train_dataset_10k = tf.data.Dataset.from_tensor_slices((train_ds_10k.to_model_reports_col.values, train_ds_10k.total_esg_score_change.values))\n",
        "train_data_10k = train_dataset_10k.take(len(train_ds_10k))"
      ],
      "execution_count": 34,
      "outputs": []
    },
    {
      "cell_type": "code",
      "metadata": {
        "colab": {
          "base_uri": "https://localhost:8080/"
        },
        "id": "-737TbsJo7E3",
        "outputId": "75153614-8c3d-4413-d335-c311e1db0529"
      },
      "source": [
        "print(\"Number of training dataset: \", len(train_data_10q))\n",
        "print(\"Number of validataion dataset: \", len(validation_data_10q))"
      ],
      "execution_count": 35,
      "outputs": [
        {
          "output_type": "stream",
          "text": [
            "Number of training dataset:  4756\n",
            "Number of validataion dataset:  1188\n"
          ],
          "name": "stdout"
        }
      ]
    },
    {
      "cell_type": "code",
      "metadata": {
        "colab": {
          "base_uri": "https://localhost:8080/"
        },
        "id": "N1Evhl9FP7WA",
        "outputId": "580a30b2-8bd1-4963-8387-6307c719247b"
      },
      "source": [
        "print(\"Number of training dataset: \", len(train_data_10k))\n",
        "print(\"Number of validataion dataset: \", len(validation_data_10k))"
      ],
      "execution_count": 36,
      "outputs": [
        {
          "output_type": "stream",
          "text": [
            "Number of training dataset:  1428\n",
            "Number of validataion dataset:  356\n"
          ],
          "name": "stdout"
        }
      ]
    },
    {
      "cell_type": "code",
      "metadata": {
        "id": "ukghyi88F4_E"
      },
      "source": [
        "train_size_10k = len(train_data_10k)\n",
        "validation_size_10k = len(validation_data_10k)\n",
        "train_examples_batch_10k, train_labels_batch_10k = next(iter(train_data_10k.batch(train_size_10k)))\n",
        "validation_examples_batch_10k, validation_labels_batch_10k = next(iter(validation_data_10k.batch(validation_size_10k)))\n",
        "x_train_10k=train_ds_10k.to_model_reports_col.values\n",
        "x_validation_10k=validation_ds_10k.to_model_reports_col.values\n",
        "y_train_10k=train_ds_10k.total_esg_score_change.values\n",
        "y_validation_10k=validation_ds_10k.total_esg_score_change.values"
      ],
      "execution_count": 37,
      "outputs": []
    },
    {
      "cell_type": "code",
      "metadata": {
        "id": "yeO7dYDd2c-X"
      },
      "source": [
        "train_size_10q = len(train_data_10q)\n",
        "validation_size_10q = len(validation_data_10q)\n",
        "train_examples_batch_10q, train_labels_batch_10q = next(iter(train_data_10q.batch(train_size_10q)))\n",
        "validation_examples_batch_10q, validation_labels_batch_10q = next(iter(validation_data_10q.batch(validation_size_10q)))\n",
        "x_train_10q=train_ds_10q.to_model_reports_col.values\n",
        "x_validation_10q=validation_ds_10q.to_model_reports_col.values\n",
        "y_train_10q=train_ds_10q.total_esg_score_change.values\n",
        "y_validation_10q=validation_ds_10q.total_esg_score_change.values"
      ],
      "execution_count": 38,
      "outputs": []
    },
    {
      "cell_type": "markdown",
      "metadata": {
        "id": "VEX7lSS09v8e"
      },
      "source": [
        "# Baseline Modeling"
      ]
    },
    {
      "cell_type": "code",
      "metadata": {
        "id": "3lDSQLe79vLz"
      },
      "source": [
        "Tfidf_vect = TfidfVectorizer(max_features=5000)\n",
        "Tfidf_vect.fit(x_train_10q)\n",
        "Train_X_Tfidf_10q = Tfidf_vect.transform(x_train_10q)\n",
        "Test_X_Tfidf_10q = Tfidf_vect.transform(x_validation_10q)"
      ],
      "execution_count": 39,
      "outputs": []
    },
    {
      "cell_type": "code",
      "metadata": {
        "colab": {
          "base_uri": "https://localhost:8080/"
        },
        "id": "dPFjyN3gZGbT",
        "outputId": "d4767a24-5941-4cbd-d0b6-4caa4f246e78"
      },
      "source": [
        "SVM = svm.SVC(C=1.0, kernel='linear', degree=3, gamma='auto')\n",
        "SVM.fit(Train_X_Tfidf_10q,y_train_10q)\n",
        "predictions_SVM_10q = SVM.predict(Test_X_Tfidf_10q)\n",
        "print(\"Base SVM Accuracy Score -> \", metrics.accuracy_score(y_validation_10q, predictions_SVM_10q))\n",
        "print(\"Base SVM F1 Score -> \", metrics.f1_score(y_validation_10q, predictions_SVM_10q))"
      ],
      "execution_count": 40,
      "outputs": [
        {
          "output_type": "stream",
          "text": [
            "Base SVM Accuracy Score ->  0.49242424242424243\n",
            "Base SVM F1 Score ->  0.1862348178137652\n"
          ],
          "name": "stdout"
        }
      ]
    },
    {
      "cell_type": "code",
      "metadata": {
        "id": "WEJ01oVjHZfp"
      },
      "source": [
        "Tfidf_vect = TfidfVectorizer(max_features=5000)\n",
        "Tfidf_vect.fit(x_train_10k)\n",
        "Train_X_Tfidf_10k = Tfidf_vect.transform(x_train_10k)\n",
        "Test_X_Tfidf_10k = Tfidf_vect.transform(x_validation_10k)"
      ],
      "execution_count": 41,
      "outputs": []
    },
    {
      "cell_type": "code",
      "metadata": {
        "colab": {
          "base_uri": "https://localhost:8080/"
        },
        "id": "GzWj8OfNHdw6",
        "outputId": "e193e2f3-69cc-4eb2-d092-4a24f9faa546"
      },
      "source": [
        "SVM = svm.SVC(C=1.0, kernel='linear', degree=3, gamma='auto')\n",
        "SVM.fit(Train_X_Tfidf_10k,y_train_10k)\n",
        "predictions_SVM_10k = SVM.predict(Test_X_Tfidf_10k)\n",
        "print(\"Base SVM Accuracy Score -> \", metrics.accuracy_score(y_validation_10k, predictions_SVM_10k))\n",
        "print(\"Base SVM F1 Score -> \", metrics.f1_score(y_validation_10k, predictions_SVM_10k))"
      ],
      "execution_count": 42,
      "outputs": [
        {
          "output_type": "stream",
          "text": [
            "Base SVM Accuracy Score ->  0.6853932584269663\n",
            "Base SVM F1 Score ->  0.8101694915254236\n"
          ],
          "name": "stdout"
        }
      ]
    },
    {
      "cell_type": "markdown",
      "metadata": {
        "id": "hVWOOw9hlPCm"
      },
      "source": [
        "# Modeling With Pretrained BERT"
      ]
    },
    {
      "cell_type": "markdown",
      "metadata": {
        "id": "k1z8_hw_FYYn"
      },
      "source": [
        "#### Get pretrained model"
      ]
    },
    {
      "cell_type": "code",
      "metadata": {
        "colab": {
          "base_uri": "https://localhost:8080/"
        },
        "id": "9AVe-s3ClRA-",
        "outputId": "693cfb0a-a272-4605-9f69-b49e9e7a63b7"
      },
      "source": [
        "!pip install transformers"
      ],
      "execution_count": 43,
      "outputs": [
        {
          "output_type": "stream",
          "text": [
            "Requirement already satisfied: transformers in /usr/local/lib/python3.7/dist-packages (4.9.1)\n",
            "Requirement already satisfied: huggingface-hub==0.0.12 in /usr/local/lib/python3.7/dist-packages (from transformers) (0.0.12)\n",
            "Requirement already satisfied: pyyaml>=5.1 in /usr/local/lib/python3.7/dist-packages (from transformers) (5.4.1)\n",
            "Requirement already satisfied: numpy>=1.17 in /usr/local/lib/python3.7/dist-packages (from transformers) (1.19.5)\n",
            "Requirement already satisfied: tokenizers<0.11,>=0.10.1 in /usr/local/lib/python3.7/dist-packages (from transformers) (0.10.3)\n",
            "Requirement already satisfied: importlib-metadata in /usr/local/lib/python3.7/dist-packages (from transformers) (4.6.1)\n",
            "Requirement already satisfied: regex!=2019.12.17 in /usr/local/lib/python3.7/dist-packages (from transformers) (2019.12.20)\n",
            "Requirement already satisfied: filelock in /usr/local/lib/python3.7/dist-packages (from transformers) (3.0.12)\n",
            "Requirement already satisfied: packaging in /usr/local/lib/python3.7/dist-packages (from transformers) (21.0)\n",
            "Requirement already satisfied: requests in /usr/local/lib/python3.7/dist-packages (from transformers) (2.23.0)\n",
            "Requirement already satisfied: sacremoses in /usr/local/lib/python3.7/dist-packages (from transformers) (0.0.45)\n",
            "Requirement already satisfied: tqdm>=4.27 in /usr/local/lib/python3.7/dist-packages (from transformers) (4.41.1)\n",
            "Requirement already satisfied: typing-extensions in /usr/local/lib/python3.7/dist-packages (from huggingface-hub==0.0.12->transformers) (3.7.4.3)\n",
            "Requirement already satisfied: pyparsing>=2.0.2 in /usr/local/lib/python3.7/dist-packages (from packaging->transformers) (2.4.7)\n",
            "Requirement already satisfied: zipp>=0.5 in /usr/local/lib/python3.7/dist-packages (from importlib-metadata->transformers) (3.5.0)\n",
            "Requirement already satisfied: urllib3!=1.25.0,!=1.25.1,<1.26,>=1.21.1 in /usr/local/lib/python3.7/dist-packages (from requests->transformers) (1.24.3)\n",
            "Requirement already satisfied: certifi>=2017.4.17 in /usr/local/lib/python3.7/dist-packages (from requests->transformers) (2021.5.30)\n",
            "Requirement already satisfied: idna<3,>=2.5 in /usr/local/lib/python3.7/dist-packages (from requests->transformers) (2.10)\n",
            "Requirement already satisfied: chardet<4,>=3.0.2 in /usr/local/lib/python3.7/dist-packages (from requests->transformers) (3.0.4)\n",
            "Requirement already satisfied: click in /usr/local/lib/python3.7/dist-packages (from sacremoses->transformers) (7.1.2)\n",
            "Requirement already satisfied: six in /usr/local/lib/python3.7/dist-packages (from sacremoses->transformers) (1.15.0)\n",
            "Requirement already satisfied: joblib in /usr/local/lib/python3.7/dist-packages (from sacremoses->transformers) (1.0.1)\n"
          ],
          "name": "stdout"
        }
      ]
    },
    {
      "cell_type": "code",
      "metadata": {
        "colab": {
          "base_uri": "https://localhost:8080/"
        },
        "id": "efumfSOU29KO",
        "outputId": "4c011f70-babf-4dab-e2de-bf49d0720aea"
      },
      "source": [
        "!gsutil cp -r gs://esgbert_resourses/esgbert_model/model '.'"
      ],
      "execution_count": 44,
      "outputs": [
        {
          "output_type": "stream",
          "text": [
            "Copying gs://esgbert_resourses/esgbert_model/model/ESGMLMTunedBERT/config.json...\n",
            "Copying gs://esgbert_resourses/esgbert_model/model/ESGMLMTunedBERT/pytorch_model.bin...\n",
            "Copying gs://esgbert_resourses/esgbert_model/model/ESGMLMTunedBERT/training_args.bin...\n",
            "| [3 files][413.4 MiB/413.4 MiB]                                                \n",
            "Operation completed over 3 objects/413.4 MiB.                                    \n"
          ],
          "name": "stdout"
        }
      ]
    },
    {
      "cell_type": "code",
      "metadata": {
        "colab": {
          "base_uri": "https://localhost:8080/"
        },
        "id": "ur9qYESk3d97",
        "outputId": "c62d4f77-96f9-4781-dc78-343ba291c1b9"
      },
      "source": [
        "tokenizer = BertTokenizer.from_pretrained('bert-base-cased')\n",
        "bert_model = TFBertModel.from_pretrained('./model/ESGMLMTunedBERT', from_pt=True)\n",
        "bert_mlm_model = BertForMaskedLM.from_pretrained('./model/ESGMLMTunedBERT', return_dict = True)\n",
        "bert_mlm_tf_model = TFBertForMaskedLM.from_pretrained('./model/ESGMLMTunedBERT', from_pt=True)"
      ],
      "execution_count": 45,
      "outputs": [
        {
          "output_type": "stream",
          "text": [
            "Some weights of the PyTorch model were not used when initializing the TF 2.0 model TFBertModel: ['cls.predictions.transform.dense.weight', 'cls.predictions.decoder.weight', 'cls.predictions.transform.LayerNorm.bias', 'cls.predictions.bias', 'cls.predictions.transform.LayerNorm.weight', 'cls.predictions.transform.dense.bias', 'cls.predictions.decoder.bias', 'bert.embeddings.position_ids']\n",
            "- This IS expected if you are initializing TFBertModel from a PyTorch model trained on another task or with another architecture (e.g. initializing a TFBertForSequenceClassification model from a BertForPreTraining model).\n",
            "- This IS NOT expected if you are initializing TFBertModel from a PyTorch model that you expect to be exactly identical (e.g. initializing a TFBertForSequenceClassification model from a BertForSequenceClassification model).\n",
            "Some weights or buffers of the TF 2.0 model TFBertModel were not initialized from the PyTorch model and are newly initialized: ['bert.pooler.dense.weight', 'bert.pooler.dense.bias']\n",
            "You should probably TRAIN this model on a down-stream task to be able to use it for predictions and inference.\n",
            "Some weights of the PyTorch model were not used when initializing the TF 2.0 model TFBertForMaskedLM: ['cls.predictions.decoder.bias', 'bert.embeddings.position_ids']\n",
            "- This IS expected if you are initializing TFBertForMaskedLM from a PyTorch model trained on another task or with another architecture (e.g. initializing a TFBertForSequenceClassification model from a BertForPreTraining model).\n",
            "- This IS NOT expected if you are initializing TFBertForMaskedLM from a PyTorch model that you expect to be exactly identical (e.g. initializing a TFBertForSequenceClassification model from a BertForSequenceClassification model).\n",
            "All the weights of TFBertForMaskedLM were initialized from the PyTorch model.\n",
            "If your task is similar to the task the model of the checkpoint was trained on, you can already use TFBertForMaskedLM for predictions without further training.\n"
          ],
          "name": "stderr"
        }
      ]
    },
    {
      "cell_type": "markdown",
      "metadata": {
        "id": "cuyb9U_iFjvy"
      },
      "source": [
        "#### Tokenize input data"
      ]
    },
    {
      "cell_type": "code",
      "metadata": {
        "id": "MQfjQ4uA3jK8"
      },
      "source": [
        "num_train_examples_10k = train_size_10k\n",
        "num_validation_examples_10k = validation_size_10k\n",
        "\n",
        "max_length = 512\n",
        "\n",
        "x_train_10k = tokenizer([str(x.numpy())[2:] for x in train_examples_batch_10k[:num_train_examples_10k]], \n",
        "              max_length=max_length,\n",
        "              truncation=True,\n",
        "              padding='max_length', \n",
        "              return_tensors='tf')\n",
        "y_train_10k = train_labels_batch_10k[:num_train_examples_10k]\n",
        "\n",
        "x_validation_10k = tokenizer([str(x.numpy())[2:] for x in validation_examples_batch_10k[:num_validation_examples_10k]], \n",
        "              max_length=max_length,\n",
        "              truncation=True,\n",
        "              padding='max_length', \n",
        "              return_tensors='tf')\n",
        "y_validation_10k = validation_labels_batch_10k[:num_validation_examples_10k]"
      ],
      "execution_count": 49,
      "outputs": []
    },
    {
      "cell_type": "code",
      "metadata": {
        "colab": {
          "base_uri": "https://localhost:8080/"
        },
        "id": "JUvqbihzTUxw",
        "outputId": "65b7e32f-d495-4193-d947-da38d17061e8"
      },
      "source": [
        "print('ratio of positive examples: ', np.sum(y_train_10k==0)/len(y_train_10k))\n",
        "print('ratio of positive examples in validation: ', np.sum(y_validation_10k==0)/len(y_validation_10k))"
      ],
      "execution_count": 53,
      "outputs": [
        {
          "output_type": "stream",
          "text": [
            "ratio of positive examples:  0.3242296918767507\n",
            "ratio of positive examples in validation:  0.32303370786516855\n"
          ],
          "name": "stdout"
        }
      ]
    },
    {
      "cell_type": "code",
      "metadata": {
        "id": "tsqnmO74JQbJ"
      },
      "source": [
        "num_train_examples_10q = train_size_10q\n",
        "num_validation_examples_10q = validation_size_10q\n",
        "\n",
        "max_length = 512\n",
        "\n",
        "x_train_10q = tokenizer([str(x.numpy())[2:] for x in train_examples_batch_10q[:num_train_examples_10q]], \n",
        "              max_length=max_length,\n",
        "              truncation=True,\n",
        "              padding='max_length', \n",
        "              return_tensors='tf')\n",
        "y_train_10q = train_labels_batch_10q[:num_train_examples_10q]\n",
        "\n",
        "x_validation_10q = tokenizer([str(x.numpy())[2:] for x in validation_examples_batch_10q[:num_validation_examples_10q]], \n",
        "              max_length=max_length,\n",
        "              truncation=True,\n",
        "              padding='max_length', \n",
        "              return_tensors='tf')\n",
        "y_validation_10q = validation_labels_batch_10q[:num_validation_examples_10q]"
      ],
      "execution_count": 51,
      "outputs": []
    },
    {
      "cell_type": "code",
      "metadata": {
        "colab": {
          "base_uri": "https://localhost:8080/"
        },
        "id": "CvH9Rs003qho",
        "outputId": "262a9a07-309f-4be5-98ad-ddb8bffd1af7"
      },
      "source": [
        "print('ratio of positive examples: ', np.sum(y_train_10q==0)/len(y_train_10q))\n",
        "print('ratio of positive examples in validation: ', np.sum(y_validation_10q==0)/len(y_validation_10q))"
      ],
      "execution_count": 52,
      "outputs": [
        {
          "output_type": "stream",
          "text": [
            "ratio of positive examples:  0.5315391084945332\n",
            "ratio of positive examples in validation:  0.5311447811447811\n"
          ],
          "name": "stdout"
        }
      ]
    },
    {
      "cell_type": "markdown",
      "metadata": {
        "id": "7YVeuBKzF4JW"
      },
      "source": [
        "#### Define plots of results"
      ]
    },
    {
      "cell_type": "code",
      "metadata": {
        "id": "TKuQIT-UGpy9"
      },
      "source": [
        "def plot_training_validation_loss(history):\n",
        "  history_dict = history.history\n",
        "\n",
        "  acc = history_dict['accuracy']\n",
        "  val_acc = history_dict['val_accuracy']\n",
        "  loss = history_dict['loss']\n",
        "  val_loss = history_dict['val_loss']\n",
        "\n",
        "  epochs = range(1, len(acc) + 1)\n",
        "  fig = plt.figure(figsize=(10, 6))\n",
        "  fig.tight_layout()\n",
        "\n",
        "  plt.subplot(2, 1, 1)\n",
        "  plt.plot(epochs, loss, 'r', label='Training loss')\n",
        "  plt.plot(epochs, val_loss, 'b', label='Validation loss')\n",
        "  plt.title('Training and validation loss')\n",
        "  plt.xlabel('Epochs')\n",
        "  plt.ylabel('Loss')\n",
        "  plt.legend()\n",
        "\n",
        "  plt.subplot(2, 1, 2)\n",
        "  plt.plot(epochs, acc, 'r', label='Training acc')\n",
        "  plt.plot(epochs, val_acc, 'b', label='Validation acc')\n",
        "  plt.title('Training and validation accuracy')\n",
        "  plt.xlabel('Epochs')\n",
        "  plt.ylabel('Accuracy')\n",
        "  plt.legend(loc='lower right')\n",
        "  print(\"The median of val_accuracy: \", np.median(val_acc))"
      ],
      "execution_count": 54,
      "outputs": []
    },
    {
      "cell_type": "markdown",
      "metadata": {
        "id": "tHxeKBp7FHOh"
      },
      "source": [
        "#### Experiment and Fine-tuning And the Best Model"
      ]
    },
    {
      "cell_type": "markdown",
      "metadata": {
        "id": "08gTz-9CyemJ"
      },
      "source": [
        "##### 10k - Lower learning rate & layer freezing is 3 & add a 64dense relu & a Dropout layer"
      ]
    },
    {
      "cell_type": "code",
      "metadata": {
        "colab": {
          "base_uri": "https://localhost:8080/",
          "height": 1000
        },
        "id": "MmIqzTNJzAwD",
        "outputId": "fb67e829-1f58-4432-ec73-ace10a6392bc"
      },
      "source": [
        "def create_mixed_tuning_classification_model_2_10k(hidden_size = 200, \n",
        "                                train_layers = -1, \n",
        "                                optimizer=tf.keras.optimizers.Adam(),\n",
        "                                training_model=bert_model):\n",
        "\n",
        "    input_ids = tf.keras.layers.Input(shape=(max_length,), dtype=tf.int32, name='input_ids_layer')\n",
        "    token_type_ids = tf.keras.layers.Input(shape=(max_length,), dtype=tf.int32, name='token_type_ids_layer')\n",
        "    attention_mask = tf.keras.layers.Input(shape=(max_length,), dtype=tf.int32, name='attention_mask_layer')\n",
        "\n",
        "    bert_inputs = {'input_ids': input_ids,\n",
        "                  'token_type_ids': token_type_ids,\n",
        "                  'attention_mask': attention_mask}\n",
        "\n",
        "    #restrict training to the train_layers outer transformer layers\n",
        "    if not train_layers == -1:\n",
        "\n",
        "            retrain_layers = []\n",
        "\n",
        "            for retrain_layer_number in range(train_layers):\n",
        "\n",
        "                layer_code = '_' + str(11 - retrain_layer_number)\n",
        "                retrain_layers.append(layer_code)\n",
        "\n",
        "            for w in training_model.weights:\n",
        "                if not any([x in w.name for x in retrain_layers]):\n",
        "                    w._trainable = False\n",
        "\n",
        "\n",
        "    bert_out = training_model(bert_inputs)\n",
        "\n",
        "    classification_token = tf.keras.layers.Lambda(lambda x: x, name='get_first_vector')(bert_out[0])\n",
        "\n",
        "    hidden = tf.keras.layers.Dense(hidden_size, name='hidden_layer')(classification_token)\n",
        "    hidden = tf.keras.layers.Dense(64, activation='relu',name='hidden_layer_2')(hidden)\n",
        "    hidden = tf.keras.layers.Dropout(rate=0.1)(hidden)\n",
        "    classification = tf.keras.layers.Dense(1, activation='sigmoid',name='classification_layer', kernel_regularizer=l2(0.01), bias_regularizer=l2(0.01))(hidden)\n",
        "\n",
        "    classification_model = tf.keras.Model(inputs=[input_ids, token_type_ids, attention_mask], \n",
        "                                          outputs=[classification])\n",
        "    \n",
        "    output_classification = classification\n",
        "    classification_model.compile(optimizer=optimizer,\n",
        "                            loss=tf.keras.losses.BinaryCrossentropy(from_logits=False),\n",
        "                            metrics='accuracy')\n",
        "    return classification_model, classification\n",
        "\n",
        "try:\n",
        "    del classification_mixed_tuning_model_2_10k\n",
        "except:\n",
        "    pass\n",
        "\n",
        "try:\n",
        "    del bert_model\n",
        "except:\n",
        "    pass\n",
        "\n",
        "tf.keras.backend.clear_session()\n",
        "bert_model = TFBertModel.from_pretrained('./model/ESGMLMTunedBERT', from_pt=True)\n",
        "classification_mixed_tuning_model_2_10k, classification_2_10k = create_mixed_tuning_classification_model_2_10k(optimizer=tf.keras.optimizers.Adam(learning_rate=0.00005), train_layers=3)\n",
        "\n",
        "fit_classification_mixed_tuning_model_2_10k = classification_mixed_tuning_model_2_10k.fit([x_train_10k.input_ids, x_train_10k.token_type_ids, x_train_10k.attention_mask],\n",
        "                         y_train_10k,\n",
        "                         validation_data=([x_validation_10k.input_ids, x_validation_10k.token_type_ids, x_validation_10k.attention_mask],\n",
        "                         y_validation_10k),\n",
        "                        epochs=10,\n",
        "                        batch_size=8)\n",
        "\n",
        "prediction_classification_mixed_tuning_2_10k = classification_mixed_tuning_model_2_10k.predict([x_train_10k.input_ids, x_train_10k.token_type_ids, x_train_10k.attention_mask], \n",
        "                             batch_size=8, \n",
        "                             steps=2)\n",
        "\n",
        "plot_training_validation_loss(fit_classification_mixed_tuning_model_2_10k)\n",
        "tf.argmax(prediction_classification_mixed_tuning_2_10k, axis=1)"
      ],
      "execution_count": 55,
      "outputs": [
        {
          "output_type": "stream",
          "text": [
            "Some weights of the PyTorch model were not used when initializing the TF 2.0 model TFBertModel: ['cls.predictions.transform.dense.weight', 'cls.predictions.decoder.weight', 'cls.predictions.transform.LayerNorm.bias', 'cls.predictions.bias', 'cls.predictions.transform.LayerNorm.weight', 'cls.predictions.transform.dense.bias', 'cls.predictions.decoder.bias', 'bert.embeddings.position_ids']\n",
            "- This IS expected if you are initializing TFBertModel from a PyTorch model trained on another task or with another architecture (e.g. initializing a TFBertForSequenceClassification model from a BertForPreTraining model).\n",
            "- This IS NOT expected if you are initializing TFBertModel from a PyTorch model that you expect to be exactly identical (e.g. initializing a TFBertForSequenceClassification model from a BertForSequenceClassification model).\n",
            "Some weights or buffers of the TF 2.0 model TFBertModel were not initialized from the PyTorch model and are newly initialized: ['bert.pooler.dense.weight', 'bert.pooler.dense.bias']\n",
            "You should probably TRAIN this model on a down-stream task to be able to use it for predictions and inference.\n"
          ],
          "name": "stderr"
        },
        {
          "output_type": "stream",
          "text": [
            "Epoch 1/10\n",
            "179/179 [==============================] - 49s 227ms/step - loss: 0.6648 - accuracy: 0.6672 - val_loss: 0.6643 - val_accuracy: 0.6769\n",
            "Epoch 2/10\n",
            "179/179 [==============================] - 38s 210ms/step - loss: 0.6538 - accuracy: 0.6755 - val_loss: 0.6657 - val_accuracy: 0.6770\n",
            "Epoch 3/10\n",
            "179/179 [==============================] - 38s 211ms/step - loss: 0.6401 - accuracy: 0.6810 - val_loss: 0.6639 - val_accuracy: 0.7081\n",
            "Epoch 4/10\n",
            "179/179 [==============================] - 38s 211ms/step - loss: 0.6055 - accuracy: 0.7189 - val_loss: 0.6441 - val_accuracy: 0.7062\n",
            "Epoch 5/10\n",
            "179/179 [==============================] - 38s 210ms/step - loss: 0.5821 - accuracy: 0.7312 - val_loss: 0.7079 - val_accuracy: 0.6895\n",
            "Epoch 6/10\n",
            "179/179 [==============================] - 38s 211ms/step - loss: 0.5547 - accuracy: 0.7387 - val_loss: 0.6281 - val_accuracy: 0.7175\n",
            "Epoch 7/10\n",
            "179/179 [==============================] - 38s 211ms/step - loss: 0.5296 - accuracy: 0.7517 - val_loss: 0.6755 - val_accuracy: 0.7059\n",
            "Epoch 8/10\n",
            "179/179 [==============================] - 38s 210ms/step - loss: 0.5093 - accuracy: 0.7644 - val_loss: 0.6786 - val_accuracy: 0.6840\n",
            "Epoch 9/10\n",
            "179/179 [==============================] - 38s 211ms/step - loss: 0.4601 - accuracy: 0.7875 - val_loss: 0.8717 - val_accuracy: 0.6679\n",
            "Epoch 10/10\n",
            "179/179 [==============================] - 38s 211ms/step - loss: 0.4087 - accuracy: 0.8137 - val_loss: 0.9924 - val_accuracy: 0.5170\n",
            "The median of val_accuracy:  0.6867620944976807\n"
          ],
          "name": "stdout"
        },
        {
          "output_type": "execute_result",
          "data": {
            "text/plain": [
              "<tf.Tensor: shape=(16, 1), dtype=int64, numpy=\n",
              "array([[202],\n",
              "       [205],\n",
              "       [148],\n",
              "       [ 50],\n",
              "       [287],\n",
              "       [209],\n",
              "       [117],\n",
              "       [ 94],\n",
              "       [108],\n",
              "       [129],\n",
              "       [126],\n",
              "       [431],\n",
              "       [ 10],\n",
              "       [189],\n",
              "       [142],\n",
              "       [379]])>"
            ]
          },
          "metadata": {
            "tags": []
          },
          "execution_count": 55
        },
        {
          "output_type": "display_data",
          "data": {
            "image/png": "[encoded data removed]",
            "text/plain": [
              "<Figure size 720x432 with 2 Axes>"
            ]
          },
          "metadata": {
            "tags": [],
            "needs_background": "light"
          }
        }
      ]
    },
    {
      "cell_type": "markdown",
      "metadata": {
        "id": "pq1nooKaSaT3"
      },
      "source": [
        "##### 10q - Lower learning rate & layer freezing is 3 & add a 64dense relu & a Dropout layer"
      ]
    },
    {
      "cell_type": "code",
      "metadata": {
        "colab": {
          "base_uri": "https://localhost:8080/",
          "height": 1000
        },
        "id": "gdrNptFmVG9e",
        "outputId": "fdf45e43-3133-4b50-a4b8-771632b55346"
      },
      "source": [
        "def create_mixed_tuning_classification_model_2_10q(hidden_size = 200, \n",
        "                                train_layers = -1, \n",
        "                                optimizer=tf.keras.optimizers.Adam(),\n",
        "                                training_model=bert_model):\n",
        "\n",
        "    input_ids = tf.keras.layers.Input(shape=(max_length,), dtype=tf.int32, name='input_ids_layer')\n",
        "    token_type_ids = tf.keras.layers.Input(shape=(max_length,), dtype=tf.int32, name='token_type_ids_layer')\n",
        "    attention_mask = tf.keras.layers.Input(shape=(max_length,), dtype=tf.int32, name='attention_mask_layer')\n",
        "\n",
        "    bert_inputs = {'input_ids': input_ids,\n",
        "                  'token_type_ids': token_type_ids,\n",
        "                  'attention_mask': attention_mask}\n",
        "\n",
        "    #restrict training to the train_layers outer transformer layers\n",
        "    if not train_layers == -1:\n",
        "\n",
        "            retrain_layers = []\n",
        "\n",
        "            for retrain_layer_number in range(train_layers):\n",
        "\n",
        "                layer_code = '_' + str(11 - retrain_layer_number)\n",
        "                retrain_layers.append(layer_code)\n",
        "\n",
        "            for w in training_model.weights:\n",
        "                if not any([x in w.name for x in retrain_layers]):\n",
        "                    w._trainable = False\n",
        "\n",
        "\n",
        "    bert_out = training_model(bert_inputs)\n",
        "\n",
        "    classification_token = tf.keras.layers.Lambda(lambda x: x, name='get_first_vector')(bert_out[0])\n",
        "\n",
        "    hidden = tf.keras.layers.Dense(hidden_size, name='hidden_layer')(classification_token)\n",
        "    hidden = tf.keras.layers.Dense(64, activation='relu',name='hidden_layer_2')(hidden)\n",
        "    hidden = tf.keras.layers.Dropout(rate=0.1)(hidden)\n",
        "    classification = tf.keras.layers.Dense(1, activation='sigmoid',name='classification_layer', kernel_regularizer=l2(0.01), bias_regularizer=l2(0.01))(hidden)\n",
        "\n",
        "    classification_model = tf.keras.Model(inputs=[input_ids, token_type_ids, attention_mask], \n",
        "                                          outputs=[classification])\n",
        "    \n",
        "    output_classification = classification\n",
        "    classification_model.compile(optimizer=optimizer,\n",
        "                            loss=tf.keras.losses.BinaryCrossentropy(from_logits=False),\n",
        "                            metrics='accuracy')\n",
        "    return classification_model, classification\n",
        "\n",
        "try:\n",
        "    del classification_mixed_tuning_model_2_10q\n",
        "except:\n",
        "    pass\n",
        "\n",
        "try:\n",
        "    del bert_model\n",
        "except:\n",
        "    pass\n",
        "\n",
        "tf.keras.backend.clear_session()\n",
        "bert_model = TFBertModel.from_pretrained('./model/ESGMLMTunedBERT', from_pt=True)\n",
        "classification_mixed_tuning_model_2_10q, classification_2_10q = create_mixed_tuning_classification_model_2_10q(optimizer=tf.keras.optimizers.Adam(learning_rate=0.00005), train_layers=3)\n",
        "\n",
        "fit_classification_mixed_tuning_model_2_10q = classification_mixed_tuning_model_2_10q.fit([x_train_10q.input_ids, x_train_10q.token_type_ids, x_train_10q.attention_mask],\n",
        "                         y_train_10q,\n",
        "                         validation_data=([x_validation_10q.input_ids, x_validation_10q.token_type_ids, x_validation_10q.attention_mask],\n",
        "                         y_validation_10q),\n",
        "                        epochs=10,\n",
        "                        batch_size=8)\n",
        "\n",
        "prediction_classification_mixed_tuning_2_10q = classification_mixed_tuning_model_2_10q.predict([x_train_10q.input_ids, x_train_10q.token_type_ids, x_train_10q.attention_mask], \n",
        "                             batch_size=8, \n",
        "                             steps=2)\n",
        "\n",
        "plot_training_validation_loss(fit_classification_mixed_tuning_model_2_10q)\n",
        "tf.argmax(prediction_classification_mixed_tuning_2_10q, axis=1)"
      ],
      "execution_count": 57,
      "outputs": [
        {
          "output_type": "stream",
          "text": [
            "Some weights of the PyTorch model were not used when initializing the TF 2.0 model TFBertModel: ['cls.predictions.transform.dense.weight', 'cls.predictions.decoder.weight', 'cls.predictions.transform.LayerNorm.bias', 'cls.predictions.bias', 'cls.predictions.transform.LayerNorm.weight', 'cls.predictions.transform.dense.bias', 'cls.predictions.decoder.bias', 'bert.embeddings.position_ids']\n",
            "- This IS expected if you are initializing TFBertModel from a PyTorch model trained on another task or with another architecture (e.g. initializing a TFBertForSequenceClassification model from a BertForPreTraining model).\n",
            "- This IS NOT expected if you are initializing TFBertModel from a PyTorch model that you expect to be exactly identical (e.g. initializing a TFBertForSequenceClassification model from a BertForSequenceClassification model).\n",
            "Some weights or buffers of the TF 2.0 model TFBertModel were not initialized from the PyTorch model and are newly initialized: ['bert.pooler.dense.weight', 'bert.pooler.dense.bias']\n",
            "You should probably TRAIN this model on a down-stream task to be able to use it for predictions and inference.\n"
          ],
          "name": "stderr"
        },
        {
          "output_type": "stream",
          "text": [
            "Epoch 1/10\n",
            "595/595 [==============================] - 136s 215ms/step - loss: 0.7138 - accuracy: 0.5313 - val_loss: 0.7102 - val_accuracy: 0.5320\n",
            "Epoch 2/10\n",
            "595/595 [==============================] - 125s 210ms/step - loss: 0.7099 - accuracy: 0.5334 - val_loss: 0.7073 - val_accuracy: 0.5320\n",
            "Epoch 3/10\n",
            "595/595 [==============================] - 125s 210ms/step - loss: 0.7008 - accuracy: 0.5509 - val_loss: 0.7475 - val_accuracy: 0.5374\n",
            "Epoch 4/10\n",
            "595/595 [==============================] - 125s 211ms/step - loss: 0.6771 - accuracy: 0.5970 - val_loss: 0.7307 - val_accuracy: 0.5383\n",
            "Epoch 5/10\n",
            "595/595 [==============================] - 125s 211ms/step - loss: 0.6664 - accuracy: 0.6135 - val_loss: 0.7433 - val_accuracy: 0.5394\n",
            "Epoch 6/10\n",
            "595/595 [==============================] - 125s 210ms/step - loss: 0.6596 - accuracy: 0.6162 - val_loss: 0.7535 - val_accuracy: 0.5086\n",
            "Epoch 7/10\n",
            "595/595 [==============================] - 126s 211ms/step - loss: 0.6507 - accuracy: 0.6347 - val_loss: 0.7634 - val_accuracy: 0.5332\n",
            "Epoch 8/10\n",
            "595/595 [==============================] - 125s 211ms/step - loss: 0.6417 - accuracy: 0.6458 - val_loss: 0.7578 - val_accuracy: 0.5265\n",
            "Epoch 9/10\n",
            "595/595 [==============================] - 125s 211ms/step - loss: 0.6296 - accuracy: 0.6606 - val_loss: 0.7902 - val_accuracy: 0.5251\n",
            "Epoch 10/10\n",
            "595/595 [==============================] - 126s 211ms/step - loss: 0.6149 - accuracy: 0.6708 - val_loss: 0.8126 - val_accuracy: 0.5269\n",
            "The median of val_accuracy:  0.5319816172122955\n"
          ],
          "name": "stdout"
        },
        {
          "output_type": "execute_result",
          "data": {
            "text/plain": [
              "<tf.Tensor: shape=(16, 1), dtype=int64, numpy=\n",
              "array([[126],\n",
              "       [511],\n",
              "       [377],\n",
              "       [511],\n",
              "       [279],\n",
              "       [261],\n",
              "       [511],\n",
              "       [125],\n",
              "       [511],\n",
              "       [ 37],\n",
              "       [354],\n",
              "       [511],\n",
              "       [383],\n",
              "       [274],\n",
              "       [ 46],\n",
              "       [314]])>"
            ]
          },
          "metadata": {
            "tags": []
          },
          "execution_count": 57
        },
        {
          "output_type": "display_data",
          "data": {
            "image/png": "[encoded data removed]",
            "text/plain": [
              "<Figure size 720x432 with 2 Axes>"
            ]
          },
          "metadata": {
            "tags": [],
            "needs_background": "light"
          }
        }
      ]
    }
  ]
}