{
  "nbformat": 4,
  "nbformat_minor": 0,
  "metadata": {
    "colab": {
      "name": "final_10KQ_report_generator.ipynb",
      "provenance": [],
      "collapsed_sections": [
        "Nyjo68RL0ZHn",
        "eqwMaGMZHdoz",
        "tRinKeYmzBRp",
        "ZY7qhLfOyq8e",
        "EmjRm9-PR6Y2",
        "7IQ4FLuML8dM",
        "vGiCFvVZYplQ"
      ]
    },
    "kernelspec": {
      "display_name": "Python 3",
      "name": "python3"
    },
    "language_info": {
      "name": "python"
    },
    "accelerator": "GPU"
  },
  "cells": [
    {
      "cell_type": "markdown",
      "metadata": {
        "id": "Nyjo68RL0ZHn"
      },
      "source": [
        "#Install:"
      ]
    },
    {
      "cell_type": "code",
      "metadata": {
        "colab": {
          "base_uri": "https://localhost:8080/"
        },
        "id": "PrNVdb270dCu",
        "outputId": "73448a2b-2062-4ffd-d39b-0090389dc347"
      },
      "source": [
        "!apt-get install python3-pypdf2"
      ],
      "execution_count": null,
      "outputs": [
        {
          "output_type": "stream",
          "text": [
            "Reading package lists... Done\n",
            "Building dependency tree       \n",
            "Reading state information... Done\n",
            "python3-pypdf2 is already the newest version (1.26.0-2).\n",
            "0 upgraded, 0 newly installed, 0 to remove and 40 not upgraded.\n"
          ],
          "name": "stdout"
        }
      ]
    },
    {
      "cell_type": "code",
      "metadata": {
        "id": "l9P40JYa0fwX"
      },
      "source": [
        "!pip install -U -q PyDrive"
      ],
      "execution_count": null,
      "outputs": []
    },
    {
      "cell_type": "code",
      "metadata": {
        "colab": {
          "base_uri": "https://localhost:8080/"
        },
        "id": "vTyH-TTQ0xpz",
        "outputId": "a6976792-3416-466b-fe7f-b38df526d4d9"
      },
      "source": [
        "!pip install sentence-transformers"
      ],
      "execution_count": null,
      "outputs": [
        {
          "output_type": "stream",
          "text": [
            "Requirement already satisfied: sentence-transformers in /usr/local/lib/python3.7/dist-packages (2.0.0)\n",
            "Requirement already satisfied: torchvision in /usr/local/lib/python3.7/dist-packages (from sentence-transformers) (0.10.0+cu102)\n",
            "Requirement already satisfied: scikit-learn in /usr/local/lib/python3.7/dist-packages (from sentence-transformers) (0.22.2.post1)\n",
            "Requirement already satisfied: numpy in /usr/local/lib/python3.7/dist-packages (from sentence-transformers) (1.19.5)\n",
            "Requirement already satisfied: transformers<5.0.0,>=4.6.0 in /usr/local/lib/python3.7/dist-packages (from sentence-transformers) (4.8.2)\n",
            "Requirement already satisfied: nltk in /usr/local/lib/python3.7/dist-packages (from sentence-transformers) (3.2.5)\n",
            "Requirement already satisfied: huggingface-hub in /usr/local/lib/python3.7/dist-packages (from sentence-transformers) (0.0.12)\n",
            "Requirement already satisfied: sentencepiece in /usr/local/lib/python3.7/dist-packages (from sentence-transformers) (0.1.96)\n",
            "Requirement already satisfied: torch>=1.6.0 in /usr/local/lib/python3.7/dist-packages (from sentence-transformers) (1.9.0+cu102)\n",
            "Requirement already satisfied: tqdm in /usr/local/lib/python3.7/dist-packages (from sentence-transformers) (4.41.1)\n",
            "Requirement already satisfied: scipy in /usr/local/lib/python3.7/dist-packages (from sentence-transformers) (1.4.1)\n",
            "Requirement already satisfied: typing-extensions in /usr/local/lib/python3.7/dist-packages (from torch>=1.6.0->sentence-transformers) (3.7.4.3)\n",
            "Requirement already satisfied: filelock in /usr/local/lib/python3.7/dist-packages (from transformers<5.0.0,>=4.6.0->sentence-transformers) (3.0.12)\n",
            "Requirement already satisfied: importlib-metadata in /usr/local/lib/python3.7/dist-packages (from transformers<5.0.0,>=4.6.0->sentence-transformers) (4.6.1)\n",
            "Requirement already satisfied: regex!=2019.12.17 in /usr/local/lib/python3.7/dist-packages (from transformers<5.0.0,>=4.6.0->sentence-transformers) (2019.12.20)\n",
            "Requirement already satisfied: tokenizers<0.11,>=0.10.1 in /usr/local/lib/python3.7/dist-packages (from transformers<5.0.0,>=4.6.0->sentence-transformers) (0.10.3)\n",
            "Requirement already satisfied: packaging in /usr/local/lib/python3.7/dist-packages (from transformers<5.0.0,>=4.6.0->sentence-transformers) (21.0)\n",
            "Requirement already satisfied: sacremoses in /usr/local/lib/python3.7/dist-packages (from transformers<5.0.0,>=4.6.0->sentence-transformers) (0.0.45)\n",
            "Requirement already satisfied: pyyaml in /usr/local/lib/python3.7/dist-packages (from transformers<5.0.0,>=4.6.0->sentence-transformers) (3.13)\n",
            "Requirement already satisfied: requests in /usr/local/lib/python3.7/dist-packages (from transformers<5.0.0,>=4.6.0->sentence-transformers) (2.23.0)\n",
            "Requirement already satisfied: pyparsing>=2.0.2 in /usr/local/lib/python3.7/dist-packages (from packaging->transformers<5.0.0,>=4.6.0->sentence-transformers) (2.4.7)\n",
            "Requirement already satisfied: zipp>=0.5 in /usr/local/lib/python3.7/dist-packages (from importlib-metadata->transformers<5.0.0,>=4.6.0->sentence-transformers) (3.5.0)\n",
            "Requirement already satisfied: six in /usr/local/lib/python3.7/dist-packages (from nltk->sentence-transformers) (1.15.0)\n",
            "Requirement already satisfied: chardet<4,>=3.0.2 in /usr/local/lib/python3.7/dist-packages (from requests->transformers<5.0.0,>=4.6.0->sentence-transformers) (3.0.4)\n",
            "Requirement already satisfied: idna<3,>=2.5 in /usr/local/lib/python3.7/dist-packages (from requests->transformers<5.0.0,>=4.6.0->sentence-transformers) (2.10)\n",
            "Requirement already satisfied: urllib3!=1.25.0,!=1.25.1,<1.26,>=1.21.1 in /usr/local/lib/python3.7/dist-packages (from requests->transformers<5.0.0,>=4.6.0->sentence-transformers) (1.24.3)\n",
            "Requirement already satisfied: certifi>=2017.4.17 in /usr/local/lib/python3.7/dist-packages (from requests->transformers<5.0.0,>=4.6.0->sentence-transformers) (2021.5.30)\n",
            "Requirement already satisfied: joblib in /usr/local/lib/python3.7/dist-packages (from sacremoses->transformers<5.0.0,>=4.6.0->sentence-transformers) (1.0.1)\n",
            "Requirement already satisfied: click in /usr/local/lib/python3.7/dist-packages (from sacremoses->transformers<5.0.0,>=4.6.0->sentence-transformers) (7.1.2)\n",
            "Requirement already satisfied: pillow>=5.3.0 in /usr/local/lib/python3.7/dist-packages (from torchvision->sentence-transformers) (7.1.2)\n"
          ],
          "name": "stdout"
        }
      ]
    },
    {
      "cell_type": "code",
      "metadata": {
        "colab": {
          "base_uri": "https://localhost:8080/"
        },
        "id": "6_nUX6xl02ov",
        "outputId": "509fdade-6a29-4c84-fb85-139485eaaabf"
      },
      "source": [
        "!pip install cloudstorage"
      ],
      "execution_count": null,
      "outputs": [
        {
          "output_type": "stream",
          "text": [
            "Requirement already satisfied: cloudstorage in /usr/local/lib/python3.7/dist-packages (0.11.0)\n",
            "Requirement already satisfied: python-magic>=0.4.15 in /usr/local/lib/python3.7/dist-packages (from cloudstorage) (0.4.24)\n",
            "Requirement already satisfied: python-dateutil>=2.7.3 in /usr/local/lib/python3.7/dist-packages (from cloudstorage) (2.8.1)\n",
            "Requirement already satisfied: inflection>=0.3.1 in /usr/local/lib/python3.7/dist-packages (from cloudstorage) (0.5.1)\n",
            "Requirement already satisfied: six>=1.5 in /usr/local/lib/python3.7/dist-packages (from python-dateutil>=2.7.3->cloudstorage) (1.15.0)\n"
          ],
          "name": "stdout"
        }
      ]
    },
    {
      "cell_type": "code",
      "metadata": {
        "colab": {
          "base_uri": "https://localhost:8080/"
        },
        "id": "SH5FaZ6S09QR",
        "outputId": "5676d585-04ee-467f-b78c-6ae1a86a6fc9"
      },
      "source": [
        "!pip install webapp2"
      ],
      "execution_count": null,
      "outputs": [
        {
          "output_type": "stream",
          "text": [
            "Requirement already satisfied: webapp2 in /usr/local/lib/python3.7/dist-packages (2.5.2)\n"
          ],
          "name": "stdout"
        }
      ]
    },
    {
      "cell_type": "code",
      "metadata": {
        "colab": {
          "base_uri": "https://localhost:8080/"
        },
        "id": "Q2apH3870_s7",
        "outputId": "c473d922-e60c-4edc-a9db-75dac8035bb6"
      },
      "source": [
        "!pip install fsspec"
      ],
      "execution_count": null,
      "outputs": [
        {
          "output_type": "stream",
          "text": [
            "Requirement already satisfied: fsspec in /usr/local/lib/python3.7/dist-packages (2021.7.0)\n"
          ],
          "name": "stdout"
        }
      ]
    },
    {
      "cell_type": "code",
      "metadata": {
        "colab": {
          "base_uri": "https://localhost:8080/"
        },
        "id": "mS3O8rY91CoP",
        "outputId": "f8b1cc3c-98a7-4c5f-81d6-dedad7d9a552"
      },
      "source": [
        "!pip install gcsfs"
      ],
      "execution_count": null,
      "outputs": [
        {
          "output_type": "stream",
          "text": [
            "Requirement already satisfied: gcsfs in /usr/local/lib/python3.7/dist-packages (2021.7.0)\n",
            "Requirement already satisfied: aiohttp in /usr/local/lib/python3.7/dist-packages (from gcsfs) (3.7.4.post0)\n",
            "Requirement already satisfied: requests in /usr/local/lib/python3.7/dist-packages (from gcsfs) (2.23.0)\n",
            "Requirement already satisfied: google-auth>=1.2 in /usr/local/lib/python3.7/dist-packages (from gcsfs) (1.32.1)\n",
            "Requirement already satisfied: fsspec==2021.07.0 in /usr/local/lib/python3.7/dist-packages (from gcsfs) (2021.7.0)\n",
            "Requirement already satisfied: decorator in /usr/local/lib/python3.7/dist-packages (from gcsfs) (4.4.2)\n",
            "Requirement already satisfied: google-auth-oauthlib in /usr/local/lib/python3.7/dist-packages (from gcsfs) (0.4.4)\n",
            "Requirement already satisfied: pyasn1-modules>=0.2.1 in /usr/local/lib/python3.7/dist-packages (from google-auth>=1.2->gcsfs) (0.2.8)\n",
            "Requirement already satisfied: six>=1.9.0 in /usr/local/lib/python3.7/dist-packages (from google-auth>=1.2->gcsfs) (1.15.0)\n",
            "Requirement already satisfied: rsa<5,>=3.1.4 in /usr/local/lib/python3.7/dist-packages (from google-auth>=1.2->gcsfs) (4.7.2)\n",
            "Requirement already satisfied: setuptools>=40.3.0 in /usr/local/lib/python3.7/dist-packages (from google-auth>=1.2->gcsfs) (57.2.0)\n",
            "Requirement already satisfied: cachetools<5.0,>=2.0.0 in /usr/local/lib/python3.7/dist-packages (from google-auth>=1.2->gcsfs) (4.2.2)\n",
            "Requirement already satisfied: pyasn1<0.5.0,>=0.4.6 in /usr/local/lib/python3.7/dist-packages (from pyasn1-modules>=0.2.1->google-auth>=1.2->gcsfs) (0.4.8)\n",
            "Requirement already satisfied: multidict<7.0,>=4.5 in /usr/local/lib/python3.7/dist-packages (from aiohttp->gcsfs) (5.1.0)\n",
            "Requirement already satisfied: attrs>=17.3.0 in /usr/local/lib/python3.7/dist-packages (from aiohttp->gcsfs) (21.2.0)\n",
            "Requirement already satisfied: typing-extensions>=3.6.5 in /usr/local/lib/python3.7/dist-packages (from aiohttp->gcsfs) (3.7.4.3)\n",
            "Requirement already satisfied: yarl<2.0,>=1.0 in /usr/local/lib/python3.7/dist-packages (from aiohttp->gcsfs) (1.6.3)\n",
            "Requirement already satisfied: async-timeout<4.0,>=3.0 in /usr/local/lib/python3.7/dist-packages (from aiohttp->gcsfs) (3.0.1)\n",
            "Requirement already satisfied: chardet<5.0,>=2.0 in /usr/local/lib/python3.7/dist-packages (from aiohttp->gcsfs) (3.0.4)\n",
            "Requirement already satisfied: idna>=2.0 in /usr/local/lib/python3.7/dist-packages (from yarl<2.0,>=1.0->aiohttp->gcsfs) (2.10)\n",
            "Requirement already satisfied: requests-oauthlib>=0.7.0 in /usr/local/lib/python3.7/dist-packages (from google-auth-oauthlib->gcsfs) (1.3.0)\n",
            "Requirement already satisfied: oauthlib>=3.0.0 in /usr/local/lib/python3.7/dist-packages (from requests-oauthlib>=0.7.0->google-auth-oauthlib->gcsfs) (3.1.1)\n",
            "Requirement already satisfied: certifi>=2017.4.17 in /usr/local/lib/python3.7/dist-packages (from requests->gcsfs) (2021.5.30)\n",
            "Requirement already satisfied: urllib3!=1.25.0,!=1.25.1,<1.26,>=1.21.1 in /usr/local/lib/python3.7/dist-packages (from requests->gcsfs) (1.24.3)\n"
          ],
          "name": "stdout"
        }
      ]
    },
    {
      "cell_type": "markdown",
      "metadata": {
        "id": "eqwMaGMZHdoz"
      },
      "source": [
        "#Get auth to bucket:"
      ]
    },
    {
      "cell_type": "code",
      "metadata": {
        "colab": {
          "base_uri": "https://localhost:8080/"
        },
        "id": "n0r_5W2zHhdD",
        "outputId": "2083a04c-f0af-40f2-f45c-11c0ba3fc97a"
      },
      "source": [
        "!gcloud auth login\n",
        "!gcloud auth application-default login"
      ],
      "execution_count": null,
      "outputs": [
        {
          "output_type": "stream",
          "text": [
            "Go to the following link in your browser:\n",
            "\n",
            "    https://accounts.google.com/o/oauth2/auth?response_type=code&client_id=32555940559.apps.googleusercontent.com&redirect_uri=urn%3Aietf%3Awg%3Aoauth%3A2.0%3Aoob&scope=openid+https%3A%2F%2Fwww.googleapis.com%2Fauth%2Fuserinfo.email+https%3A%2F%2Fwww.googleapis.com%2Fauth%2Fcloud-platform+https%3A%2F%2Fwww.googleapis.com%2Fauth%2Fappengine.admin+https%3A%2F%2Fwww.googleapis.com%2Fauth%2Fcompute+https%3A%2F%2Fwww.googleapis.com%2Fauth%2Faccounts.reauth&state=S9mUjJk7byhrgHisRPAEaFWg3wfswx&prompt=consent&access_type=offline&code_challenge=DmtbqiwJrXBJDNOgNS5oKRpQ5W9nu0qE9-KBQubEN3U&code_challenge_method=S256\n",
            "\n",
            "Enter verification code: 4/1AX4XfWjVZ646w3okOnmlwwbVbFG68FrTWjrXi9-ep0JJPmBtddLr5rQkX_g\n",
            "\n",
            "You are now logged in as [yixunz@berkeley.edu].\n",
            "Your current project is [None].  You can change this setting by running:\n",
            "  $ gcloud config set project PROJECT_ID\n",
            "Go to the following link in your browser:\n",
            "\n",
            "    https://accounts.google.com/o/oauth2/auth?response_type=code&client_id=764086051850-6qr4p6gpi6hn506pt8ejuq83di341hur.apps.googleusercontent.com&redirect_uri=urn%3Aietf%3Awg%3Aoauth%3A2.0%3Aoob&scope=openid+https%3A%2F%2Fwww.googleapis.com%2Fauth%2Fuserinfo.email+https%3A%2F%2Fwww.googleapis.com%2Fauth%2Fcloud-platform+https%3A%2F%2Fwww.googleapis.com%2Fauth%2Faccounts.reauth&state=mjDAB2ddMg2CCqYgXaZmG0I3qf8Box&prompt=consent&access_type=offline&code_challenge=WweP1eKurW1utD8lggdbJqv-DMfK8lPOdcnB_wUl3A8&code_challenge_method=S256\n",
            "\n",
            "Enter verification code: 4/1AX4XfWjmq9GaWibtGpAHsmNC5v0C4HVzndVS2wmIk2bddrrH-YUYzEV5Ui4\n",
            "\n",
            "Credentials saved to file: [/content/.config/application_default_credentials.json]\n",
            "\n",
            "These credentials will be used by any library that requests Application Default Credentials (ADC).\n",
            "\u001b[1;33mWARNING:\u001b[0m \n",
            "Cannot find a quota project to add to ADC. You might receive a \"quota exceeded\" or \"API not enabled\" error. Run $ gcloud auth application-default set-quota-project to add a quota project.\n"
          ],
          "name": "stdout"
        }
      ]
    },
    {
      "cell_type": "markdown",
      "metadata": {
        "id": "SewhEFFrTDxx"
      },
      "source": [
        "# Import:"
      ]
    },
    {
      "cell_type": "code",
      "metadata": {
        "id": "UYk9IiC47eE2"
      },
      "source": [
        "import pandas as pd\n",
        "import zipfile\n",
        "from google.colab import drive\n",
        "import re\n",
        "import time\n",
        "import glob\n",
        "import numpy as np\n",
        "import datetime as dt\n",
        "from calendar import monthrange\n",
        "import nltk\n",
        "import PyPDF2\n",
        "from sentence_transformers import SentenceTransformer\n",
        "import cloudstorage as gcs\n",
        "from sklearn.metrics.pairwise import cosine_similarity"
      ],
      "execution_count": null,
      "outputs": []
    },
    {
      "cell_type": "code",
      "metadata": {
        "colab": {
          "base_uri": "https://localhost:8080/"
        },
        "id": "DKvIfbaJGTIn",
        "outputId": "0cf8b27f-6109-4c39-f283-a94d8d2058f3"
      },
      "source": [
        "nltk.download('punkt')"
      ],
      "execution_count": null,
      "outputs": [
        {
          "output_type": "stream",
          "text": [
            "[nltk_data] Downloading package punkt to /root/nltk_data...\n",
            "[nltk_data]   Package punkt is already up-to-date!\n"
          ],
          "name": "stdout"
        },
        {
          "output_type": "execute_result",
          "data": {
            "text/plain": [
              "True"
            ]
          },
          "metadata": {
            "tags": []
          },
          "execution_count": 10
        }
      ]
    },
    {
      "cell_type": "code",
      "metadata": {
        "colab": {
          "base_uri": "https://localhost:8080/"
        },
        "id": "sUHnEAo78SCu",
        "outputId": "bd77c6fa-c807-4fec-e75d-641f6b4f0805"
      },
      "source": [
        "drive.mount('/content/drive')"
      ],
      "execution_count": null,
      "outputs": [
        {
          "output_type": "stream",
          "text": [
            "Drive already mounted at /content/drive; to attempt to forcibly remount, call drive.mount(\"/content/drive\", force_remount=True).\n"
          ],
          "name": "stdout"
        }
      ]
    },
    {
      "cell_type": "code",
      "metadata": {
        "id": "eLdTGz0q3MWe"
      },
      "source": [
        "column_names=['ReportType', 'CIK', 'Conformed Name', 'Former Conformer names', 'kq_Year', 'kq_month', 'Filer', 'Reports', 'Exhibits']"
      ],
      "execution_count": null,
      "outputs": []
    },
    {
      "cell_type": "code",
      "metadata": {
        "id": "aD6FO0McWC8W"
      },
      "source": [
        "start_time = \"2013-01-01\"\n",
        "end_time = \"2019-01-01\"\n",
        "sen_res_file = '/content/drive/MyDrive/final_sen_res_10K_201318.txt'"
      ],
      "execution_count": null,
      "outputs": []
    },
    {
      "cell_type": "markdown",
      "metadata": {
        "id": "tRinKeYmzBRp"
      },
      "source": [
        "# Read a table with sustainability score and transcripts:"
      ]
    },
    {
      "cell_type": "code",
      "metadata": {
        "colab": {
          "base_uri": "https://localhost:8080/"
        },
        "id": "kOekd0NgApiR",
        "outputId": "5388cf76-9621-4440-9f3e-16adbec1fd0b"
      },
      "source": [
        "univ_with_scores_transcript = pd.read_csv(\"/content/drive/MyDrive/univ_with_map_and_scores_and_transcripts_df.csv\")"
      ],
      "execution_count": null,
      "outputs": [
        {
          "output_type": "stream",
          "text": [
            "/usr/local/lib/python3.7/dist-packages/IPython/core/interactiveshell.py:2718: DtypeWarning: Columns (51,52) have mixed types.Specify dtype option on import or set low_memory=False.\n",
            "  interactivity=interactivity, compiler=compiler, result=result)\n"
          ],
          "name": "stderr"
        }
      ]
    },
    {
      "cell_type": "code",
      "metadata": {
        "colab": {
          "base_uri": "https://localhost:8080/",
          "height": 966
        },
        "id": "qqdU6cu9xDEX",
        "outputId": "d4c9858a-d38f-4676-a0ec-6dcf2c844466"
      },
      "source": [
        "univ_with_scores_transcript"
      ],
      "execution_count": null,
      "outputs": [
        {
          "output_type": "execute_result",
          "data": {
            "text/html": [
              "<div>\n",
              "<style scoped>\n",
              "    .dataframe tbody tr th:only-of-type {\n",
              "        vertical-align: middle;\n",
              "    }\n",
              "\n",
              "    .dataframe tbody tr th {\n",
              "        vertical-align: top;\n",
              "    }\n",
              "\n",
              "    .dataframe thead th {\n",
              "        text-align: right;\n",
              "    }\n",
              "</style>\n",
              "<table border=\"1\" class=\"dataframe\">\n",
              "  <thead>\n",
              "    <tr style=\"text-align: right;\">\n",
              "      <th></th>\n",
              "      <th>Unnamed: 0</th>\n",
              "      <th>Unnamed: 0.1</th>\n",
              "      <th>date</th>\n",
              "      <th>permno</th>\n",
              "      <th>comnam</th>\n",
              "      <th>ncusip</th>\n",
              "      <th>shrcd</th>\n",
              "      <th>exchcd</th>\n",
              "      <th>hsiccd</th>\n",
              "      <th>ticker_univ</th>\n",
              "      <th>gvkey</th>\n",
              "      <th>iid</th>\n",
              "      <th>start</th>\n",
              "      <th>ending</th>\n",
              "      <th>ret_month_one</th>\n",
              "      <th>ret_month_two</th>\n",
              "      <th>ret_month_three</th>\n",
              "      <th>three_month_return</th>\n",
              "      <th>ticker1</th>\n",
              "      <th>ticker2</th>\n",
              "      <th>ticker3</th>\n",
              "      <th>ticker</th>\n",
              "      <th>CapitalIQ_ID</th>\n",
              "      <th>Company</th>\n",
              "      <th>total_esg_score</th>\n",
              "      <th>total_esg_score_lead_1</th>\n",
              "      <th>total_esg_score_lead_3</th>\n",
              "      <th>total_esg_score_month_change_pure</th>\n",
              "      <th>total_esg_score_month_change_pct</th>\n",
              "      <th>total_esg_score_quarter_change_pure</th>\n",
              "      <th>total_esg_score_quarter_change_pct</th>\n",
              "      <th>governance_score_lead_1</th>\n",
              "      <th>governance_score_lead_3</th>\n",
              "      <th>governance_score_month_change_pure</th>\n",
              "      <th>governance_score_month_change_pct</th>\n",
              "      <th>governance_score_quarter_change_pure</th>\n",
              "      <th>governance_score_quarter_change_pct</th>\n",
              "      <th>social_score_lead_1</th>\n",
              "      <th>social_score_lead_3</th>\n",
              "      <th>social_score_month_change_pure</th>\n",
              "      <th>social_score_month_change_pct</th>\n",
              "      <th>social_score_quarter_change_pure</th>\n",
              "      <th>social_score_quarter_change_pct</th>\n",
              "      <th>environment_score_lead_1</th>\n",
              "      <th>environment_score_lead_3</th>\n",
              "      <th>environment_score_month_change_pure</th>\n",
              "      <th>environment_score_month_change_pct</th>\n",
              "      <th>environment_score_quarter_change_pure</th>\n",
              "      <th>environment_score_quarter_change_pct</th>\n",
              "      <th>CapitalIQ_ID_join2</th>\n",
              "      <th>Company_join2</th>\n",
              "      <th>CapitalIQ_ID_join3</th>\n",
              "      <th>Company_join3</th>\n",
              "      <th>quarter</th>\n",
              "      <th>year</th>\n",
              "      <th>month</th>\n",
              "      <th>symbol</th>\n",
              "      <th>time</th>\n",
              "      <th>quarter_join1</th>\n",
              "      <th>year_join1</th>\n",
              "      <th>speech</th>\n",
              "      <th>symbol_join2</th>\n",
              "      <th>time_join2</th>\n",
              "      <th>quarter_join2</th>\n",
              "      <th>year_join2</th>\n",
              "      <th>symbol_join3</th>\n",
              "      <th>time_join3</th>\n",
              "      <th>quarter_join3</th>\n",
              "      <th>year_join3</th>\n",
              "    </tr>\n",
              "  </thead>\n",
              "  <tbody>\n",
              "    <tr>\n",
              "      <th>0</th>\n",
              "      <td>0</td>\n",
              "      <td>0</td>\n",
              "      <td>2009-12-31</td>\n",
              "      <td>87432.0</td>\n",
              "      <td>AGILENT TECHNOLOGIES INC</td>\n",
              "      <td>00846U10</td>\n",
              "      <td>11.0</td>\n",
              "      <td>1.0</td>\n",
              "      <td>3826.0</td>\n",
              "      <td>A</td>\n",
              "      <td>126554</td>\n",
              "      <td>01</td>\n",
              "      <td>2000-06-05</td>\n",
              "      <td>2020-12-31</td>\n",
              "      <td>0.074343</td>\n",
              "      <td>-0.097844</td>\n",
              "      <td>0.122369</td>\n",
              "      <td>0.087828</td>\n",
              "      <td>A</td>\n",
              "      <td>NaN</td>\n",
              "      <td>NaN</td>\n",
              "      <td>NaN</td>\n",
              "      <td>IQ154924</td>\n",
              "      <td>Agilent Technologies Inc.</td>\n",
              "      <td>69.00</td>\n",
              "      <td>69.00</td>\n",
              "      <td>69.00</td>\n",
              "      <td>0.00</td>\n",
              "      <td>0.000000</td>\n",
              "      <td>0.00</td>\n",
              "      <td>0.000000</td>\n",
              "      <td>70.00</td>\n",
              "      <td>70.00</td>\n",
              "      <td>0.00</td>\n",
              "      <td>0.000000</td>\n",
              "      <td>0.00</td>\n",
              "      <td>0.000000</td>\n",
              "      <td>72.00</td>\n",
              "      <td>72.00</td>\n",
              "      <td>0.00</td>\n",
              "      <td>0.000000</td>\n",
              "      <td>0.00</td>\n",
              "      <td>0.000000</td>\n",
              "      <td>65.0</td>\n",
              "      <td>65.0</td>\n",
              "      <td>0.0</td>\n",
              "      <td>0.000000</td>\n",
              "      <td>0.0</td>\n",
              "      <td>0.000000</td>\n",
              "      <td>NaN</td>\n",
              "      <td>NaN</td>\n",
              "      <td>NaN</td>\n",
              "      <td>NaN</td>\n",
              "      <td>4</td>\n",
              "      <td>2009</td>\n",
              "      <td>12</td>\n",
              "      <td>NaN</td>\n",
              "      <td>NaN</td>\n",
              "      <td>NaN</td>\n",
              "      <td>NaN</td>\n",
              "      <td>NaN</td>\n",
              "      <td>NaN</td>\n",
              "      <td>NaN</td>\n",
              "      <td>NaN</td>\n",
              "      <td>NaN</td>\n",
              "      <td>NaN</td>\n",
              "      <td>NaN</td>\n",
              "      <td>NaN</td>\n",
              "      <td>NaN</td>\n",
              "    </tr>\n",
              "    <tr>\n",
              "      <th>1</th>\n",
              "      <td>1</td>\n",
              "      <td>1</td>\n",
              "      <td>2009-12-31</td>\n",
              "      <td>24643.0</td>\n",
              "      <td>ALCOA INC</td>\n",
              "      <td>01381710</td>\n",
              "      <td>11.0</td>\n",
              "      <td>1.0</td>\n",
              "      <td>3355.0</td>\n",
              "      <td>AA</td>\n",
              "      <td>1356</td>\n",
              "      <td>01</td>\n",
              "      <td>1957-03-01</td>\n",
              "      <td>2020-12-31</td>\n",
              "      <td>0.287540</td>\n",
              "      <td>-0.210298</td>\n",
              "      <td>0.047133</td>\n",
              "      <td>0.064696</td>\n",
              "      <td>AA</td>\n",
              "      <td>ARNC</td>\n",
              "      <td>HWM</td>\n",
              "      <td>HWM</td>\n",
              "      <td>IQ249603</td>\n",
              "      <td>Alcoa Inc.</td>\n",
              "      <td>67.00</td>\n",
              "      <td>69.00</td>\n",
              "      <td>69.00</td>\n",
              "      <td>2.00</td>\n",
              "      <td>0.029851</td>\n",
              "      <td>2.00</td>\n",
              "      <td>0.029851</td>\n",
              "      <td>76.00</td>\n",
              "      <td>76.00</td>\n",
              "      <td>8.00</td>\n",
              "      <td>0.117647</td>\n",
              "      <td>8.00</td>\n",
              "      <td>0.117647</td>\n",
              "      <td>68.00</td>\n",
              "      <td>68.00</td>\n",
              "      <td>0.00</td>\n",
              "      <td>0.000000</td>\n",
              "      <td>0.00</td>\n",
              "      <td>0.000000</td>\n",
              "      <td>64.0</td>\n",
              "      <td>64.0</td>\n",
              "      <td>-1.0</td>\n",
              "      <td>-0.015385</td>\n",
              "      <td>-1.0</td>\n",
              "      <td>-0.015385</td>\n",
              "      <td>NaN</td>\n",
              "      <td>NaN</td>\n",
              "      <td>NaN</td>\n",
              "      <td>NaN</td>\n",
              "      <td>4</td>\n",
              "      <td>2009</td>\n",
              "      <td>12</td>\n",
              "      <td>NaN</td>\n",
              "      <td>NaN</td>\n",
              "      <td>NaN</td>\n",
              "      <td>NaN</td>\n",
              "      <td>NaN</td>\n",
              "      <td>NaN</td>\n",
              "      <td>NaN</td>\n",
              "      <td>NaN</td>\n",
              "      <td>NaN</td>\n",
              "      <td>NaN</td>\n",
              "      <td>NaN</td>\n",
              "      <td>NaN</td>\n",
              "      <td>NaN</td>\n",
              "    </tr>\n",
              "    <tr>\n",
              "      <th>2</th>\n",
              "      <td>2</td>\n",
              "      <td>2</td>\n",
              "      <td>2009-12-31</td>\n",
              "      <td>14593.0</td>\n",
              "      <td>APPLE INC</td>\n",
              "      <td>03783310</td>\n",
              "      <td>11.0</td>\n",
              "      <td>3.0</td>\n",
              "      <td>3571.0</td>\n",
              "      <td>AAPL</td>\n",
              "      <td>1690</td>\n",
              "      <td>01</td>\n",
              "      <td>1982-11-18</td>\n",
              "      <td>2020-12-31</td>\n",
              "      <td>0.054134</td>\n",
              "      <td>-0.088591</td>\n",
              "      <td>0.065380</td>\n",
              "      <td>0.023561</td>\n",
              "      <td>AAPL</td>\n",
              "      <td>NaN</td>\n",
              "      <td>NaN</td>\n",
              "      <td>NaN</td>\n",
              "      <td>IQ24937</td>\n",
              "      <td>Apple Inc.</td>\n",
              "      <td>56.00</td>\n",
              "      <td>56.00</td>\n",
              "      <td>56.00</td>\n",
              "      <td>0.00</td>\n",
              "      <td>0.000000</td>\n",
              "      <td>0.00</td>\n",
              "      <td>0.000000</td>\n",
              "      <td>63.00</td>\n",
              "      <td>63.00</td>\n",
              "      <td>0.00</td>\n",
              "      <td>0.000000</td>\n",
              "      <td>0.00</td>\n",
              "      <td>0.000000</td>\n",
              "      <td>38.00</td>\n",
              "      <td>38.00</td>\n",
              "      <td>0.00</td>\n",
              "      <td>0.000000</td>\n",
              "      <td>0.00</td>\n",
              "      <td>0.000000</td>\n",
              "      <td>68.0</td>\n",
              "      <td>68.0</td>\n",
              "      <td>0.0</td>\n",
              "      <td>0.000000</td>\n",
              "      <td>0.0</td>\n",
              "      <td>0.000000</td>\n",
              "      <td>NaN</td>\n",
              "      <td>NaN</td>\n",
              "      <td>NaN</td>\n",
              "      <td>NaN</td>\n",
              "      <td>4</td>\n",
              "      <td>2009</td>\n",
              "      <td>12</td>\n",
              "      <td>NaN</td>\n",
              "      <td>NaN</td>\n",
              "      <td>NaN</td>\n",
              "      <td>NaN</td>\n",
              "      <td>NaN</td>\n",
              "      <td>NaN</td>\n",
              "      <td>NaN</td>\n",
              "      <td>NaN</td>\n",
              "      <td>NaN</td>\n",
              "      <td>NaN</td>\n",
              "      <td>NaN</td>\n",
              "      <td>NaN</td>\n",
              "      <td>NaN</td>\n",
              "    </tr>\n",
              "    <tr>\n",
              "      <th>3</th>\n",
              "      <td>3</td>\n",
              "      <td>3</td>\n",
              "      <td>2009-12-31</td>\n",
              "      <td>81540.0</td>\n",
              "      <td>AMERISOURCEBERGEN CORP</td>\n",
              "      <td>03073E10</td>\n",
              "      <td>11.0</td>\n",
              "      <td>1.0</td>\n",
              "      <td>8099.0</td>\n",
              "      <td>ABC</td>\n",
              "      <td>31673</td>\n",
              "      <td>01</td>\n",
              "      <td>2001-08-30</td>\n",
              "      <td>2020-12-31</td>\n",
              "      <td>0.055893</td>\n",
              "      <td>0.045646</td>\n",
              "      <td>0.031548</td>\n",
              "      <td>0.138923</td>\n",
              "      <td>ABC</td>\n",
              "      <td>NaN</td>\n",
              "      <td>NaN</td>\n",
              "      <td>NaN</td>\n",
              "      <td>IQ24809</td>\n",
              "      <td>AmerisourceBergen Corporation</td>\n",
              "      <td>50.00</td>\n",
              "      <td>50.00</td>\n",
              "      <td>50.00</td>\n",
              "      <td>0.00</td>\n",
              "      <td>0.000000</td>\n",
              "      <td>0.00</td>\n",
              "      <td>0.000000</td>\n",
              "      <td>78.00</td>\n",
              "      <td>78.00</td>\n",
              "      <td>0.00</td>\n",
              "      <td>0.000000</td>\n",
              "      <td>0.00</td>\n",
              "      <td>0.000000</td>\n",
              "      <td>45.00</td>\n",
              "      <td>45.00</td>\n",
              "      <td>1.00</td>\n",
              "      <td>0.022727</td>\n",
              "      <td>1.00</td>\n",
              "      <td>0.022727</td>\n",
              "      <td>36.0</td>\n",
              "      <td>36.0</td>\n",
              "      <td>-2.0</td>\n",
              "      <td>-0.052632</td>\n",
              "      <td>-2.0</td>\n",
              "      <td>-0.052632</td>\n",
              "      <td>NaN</td>\n",
              "      <td>NaN</td>\n",
              "      <td>NaN</td>\n",
              "      <td>NaN</td>\n",
              "      <td>4</td>\n",
              "      <td>2009</td>\n",
              "      <td>12</td>\n",
              "      <td>NaN</td>\n",
              "      <td>NaN</td>\n",
              "      <td>NaN</td>\n",
              "      <td>NaN</td>\n",
              "      <td>NaN</td>\n",
              "      <td>NaN</td>\n",
              "      <td>NaN</td>\n",
              "      <td>NaN</td>\n",
              "      <td>NaN</td>\n",
              "      <td>NaN</td>\n",
              "      <td>NaN</td>\n",
              "      <td>NaN</td>\n",
              "      <td>NaN</td>\n",
              "    </tr>\n",
              "    <tr>\n",
              "      <th>4</th>\n",
              "      <td>4</td>\n",
              "      <td>4</td>\n",
              "      <td>2009-12-31</td>\n",
              "      <td>20482.0</td>\n",
              "      <td>ABBOTT LABORATORIES</td>\n",
              "      <td>00282410</td>\n",
              "      <td>11.0</td>\n",
              "      <td>1.0</td>\n",
              "      <td>5047.0</td>\n",
              "      <td>ABT</td>\n",
              "      <td>1078</td>\n",
              "      <td>01</td>\n",
              "      <td>1957-03-01</td>\n",
              "      <td>2020-12-31</td>\n",
              "      <td>-0.009176</td>\n",
              "      <td>-0.012039</td>\n",
              "      <td>0.025312</td>\n",
              "      <td>0.003673</td>\n",
              "      <td>ABT</td>\n",
              "      <td>NaN</td>\n",
              "      <td>NaN</td>\n",
              "      <td>NaN</td>\n",
              "      <td>IQ247483</td>\n",
              "      <td>Abbott Laboratories</td>\n",
              "      <td>63.00</td>\n",
              "      <td>66.00</td>\n",
              "      <td>66.00</td>\n",
              "      <td>3.00</td>\n",
              "      <td>0.047619</td>\n",
              "      <td>3.00</td>\n",
              "      <td>0.047619</td>\n",
              "      <td>66.00</td>\n",
              "      <td>66.00</td>\n",
              "      <td>4.00</td>\n",
              "      <td>0.064516</td>\n",
              "      <td>4.00</td>\n",
              "      <td>0.064516</td>\n",
              "      <td>63.00</td>\n",
              "      <td>63.00</td>\n",
              "      <td>4.00</td>\n",
              "      <td>0.067797</td>\n",
              "      <td>4.00</td>\n",
              "      <td>0.067797</td>\n",
              "      <td>70.0</td>\n",
              "      <td>70.0</td>\n",
              "      <td>0.0</td>\n",
              "      <td>0.000000</td>\n",
              "      <td>0.0</td>\n",
              "      <td>0.000000</td>\n",
              "      <td>NaN</td>\n",
              "      <td>NaN</td>\n",
              "      <td>NaN</td>\n",
              "      <td>NaN</td>\n",
              "      <td>4</td>\n",
              "      <td>2009</td>\n",
              "      <td>12</td>\n",
              "      <td>NaN</td>\n",
              "      <td>NaN</td>\n",
              "      <td>NaN</td>\n",
              "      <td>NaN</td>\n",
              "      <td>NaN</td>\n",
              "      <td>NaN</td>\n",
              "      <td>NaN</td>\n",
              "      <td>NaN</td>\n",
              "      <td>NaN</td>\n",
              "      <td>NaN</td>\n",
              "      <td>NaN</td>\n",
              "      <td>NaN</td>\n",
              "      <td>NaN</td>\n",
              "    </tr>\n",
              "    <tr>\n",
              "      <th>...</th>\n",
              "      <td>...</td>\n",
              "      <td>...</td>\n",
              "      <td>...</td>\n",
              "      <td>...</td>\n",
              "      <td>...</td>\n",
              "      <td>...</td>\n",
              "      <td>...</td>\n",
              "      <td>...</td>\n",
              "      <td>...</td>\n",
              "      <td>...</td>\n",
              "      <td>...</td>\n",
              "      <td>...</td>\n",
              "      <td>...</td>\n",
              "      <td>...</td>\n",
              "      <td>...</td>\n",
              "      <td>...</td>\n",
              "      <td>...</td>\n",
              "      <td>...</td>\n",
              "      <td>...</td>\n",
              "      <td>...</td>\n",
              "      <td>...</td>\n",
              "      <td>...</td>\n",
              "      <td>...</td>\n",
              "      <td>...</td>\n",
              "      <td>...</td>\n",
              "      <td>...</td>\n",
              "      <td>...</td>\n",
              "      <td>...</td>\n",
              "      <td>...</td>\n",
              "      <td>...</td>\n",
              "      <td>...</td>\n",
              "      <td>...</td>\n",
              "      <td>...</td>\n",
              "      <td>...</td>\n",
              "      <td>...</td>\n",
              "      <td>...</td>\n",
              "      <td>...</td>\n",
              "      <td>...</td>\n",
              "      <td>...</td>\n",
              "      <td>...</td>\n",
              "      <td>...</td>\n",
              "      <td>...</td>\n",
              "      <td>...</td>\n",
              "      <td>...</td>\n",
              "      <td>...</td>\n",
              "      <td>...</td>\n",
              "      <td>...</td>\n",
              "      <td>...</td>\n",
              "      <td>...</td>\n",
              "      <td>...</td>\n",
              "      <td>...</td>\n",
              "      <td>...</td>\n",
              "      <td>...</td>\n",
              "      <td>...</td>\n",
              "      <td>...</td>\n",
              "      <td>...</td>\n",
              "      <td>...</td>\n",
              "      <td>...</td>\n",
              "      <td>...</td>\n",
              "      <td>...</td>\n",
              "      <td>...</td>\n",
              "      <td>...</td>\n",
              "      <td>...</td>\n",
              "      <td>...</td>\n",
              "      <td>...</td>\n",
              "      <td>...</td>\n",
              "      <td>...</td>\n",
              "      <td>...</td>\n",
              "      <td>...</td>\n",
              "    </tr>\n",
              "    <tr>\n",
              "      <th>66625</th>\n",
              "      <td>66625</td>\n",
              "      <td>66625</td>\n",
              "      <td>2020-12-31</td>\n",
              "      <td>85348.0</td>\n",
              "      <td>YUM BRANDS INC</td>\n",
              "      <td>98849810</td>\n",
              "      <td>11.0</td>\n",
              "      <td>1.0</td>\n",
              "      <td>5812.0</td>\n",
              "      <td>YUM</td>\n",
              "      <td>65417</td>\n",
              "      <td>01</td>\n",
              "      <td>1997-10-07</td>\n",
              "      <td>2020-12-31</td>\n",
              "      <td>0.026087</td>\n",
              "      <td>NaN</td>\n",
              "      <td>NaN</td>\n",
              "      <td>NaN</td>\n",
              "      <td>YUM</td>\n",
              "      <td>NaN</td>\n",
              "      <td>NaN</td>\n",
              "      <td>NaN</td>\n",
              "      <td>IQ365997</td>\n",
              "      <td>Yum! Brands, Inc.</td>\n",
              "      <td>53.32</td>\n",
              "      <td>NaN</td>\n",
              "      <td>NaN</td>\n",
              "      <td>NaN</td>\n",
              "      <td>NaN</td>\n",
              "      <td>NaN</td>\n",
              "      <td>NaN</td>\n",
              "      <td>NaN</td>\n",
              "      <td>NaN</td>\n",
              "      <td>NaN</td>\n",
              "      <td>NaN</td>\n",
              "      <td>NaN</td>\n",
              "      <td>NaN</td>\n",
              "      <td>NaN</td>\n",
              "      <td>NaN</td>\n",
              "      <td>NaN</td>\n",
              "      <td>NaN</td>\n",
              "      <td>NaN</td>\n",
              "      <td>NaN</td>\n",
              "      <td>NaN</td>\n",
              "      <td>NaN</td>\n",
              "      <td>NaN</td>\n",
              "      <td>NaN</td>\n",
              "      <td>NaN</td>\n",
              "      <td>NaN</td>\n",
              "      <td>NaN</td>\n",
              "      <td>NaN</td>\n",
              "      <td>NaN</td>\n",
              "      <td>NaN</td>\n",
              "      <td>4</td>\n",
              "      <td>2020</td>\n",
              "      <td>12</td>\n",
              "      <td>YUM</td>\n",
              "      <td>2018-12-08 00:52:07</td>\n",
              "      <td>-1.0</td>\n",
              "      <td>2018.0</td>\n",
              "      <td>All right. Thank you, everyone, for joining us...</td>\n",
              "      <td>NaN</td>\n",
              "      <td>NaN</td>\n",
              "      <td>NaN</td>\n",
              "      <td>NaN</td>\n",
              "      <td>NaN</td>\n",
              "      <td>NaN</td>\n",
              "      <td>NaN</td>\n",
              "      <td>NaN</td>\n",
              "    </tr>\n",
              "    <tr>\n",
              "      <th>66626</th>\n",
              "      <td>66626</td>\n",
              "      <td>66626</td>\n",
              "      <td>2020-12-31</td>\n",
              "      <td>89070.0</td>\n",
              "      <td>ZIMMER BIOMET HOLDINGS INC</td>\n",
              "      <td>98956P10</td>\n",
              "      <td>11.0</td>\n",
              "      <td>1.0</td>\n",
              "      <td>3842.0</td>\n",
              "      <td>ZBH</td>\n",
              "      <td>144559</td>\n",
              "      <td>01</td>\n",
              "      <td>2001-08-07</td>\n",
              "      <td>2020-12-31</td>\n",
              "      <td>0.034938</td>\n",
              "      <td>NaN</td>\n",
              "      <td>NaN</td>\n",
              "      <td>NaN</td>\n",
              "      <td>ZBH</td>\n",
              "      <td>ZMH</td>\n",
              "      <td>NaN</td>\n",
              "      <td>NaN</td>\n",
              "      <td>IQ264048</td>\n",
              "      <td>Zimmer Biomet Holdings Inc</td>\n",
              "      <td>61.05</td>\n",
              "      <td>59.47</td>\n",
              "      <td>58.24</td>\n",
              "      <td>-0.25</td>\n",
              "      <td>-0.004186</td>\n",
              "      <td>-1.48</td>\n",
              "      <td>-0.024782</td>\n",
              "      <td>62.58</td>\n",
              "      <td>59.28</td>\n",
              "      <td>0.01</td>\n",
              "      <td>0.000160</td>\n",
              "      <td>-3.29</td>\n",
              "      <td>-0.052581</td>\n",
              "      <td>55.22</td>\n",
              "      <td>55.22</td>\n",
              "      <td>-0.55</td>\n",
              "      <td>-0.009862</td>\n",
              "      <td>-0.55</td>\n",
              "      <td>-0.009862</td>\n",
              "      <td>63.4</td>\n",
              "      <td>62.4</td>\n",
              "      <td>0.0</td>\n",
              "      <td>0.000000</td>\n",
              "      <td>-1.0</td>\n",
              "      <td>-0.015773</td>\n",
              "      <td>IQ264048</td>\n",
              "      <td>Zimmer Biomet Holdings, Inc.</td>\n",
              "      <td>NaN</td>\n",
              "      <td>NaN</td>\n",
              "      <td>4</td>\n",
              "      <td>2020</td>\n",
              "      <td>12</td>\n",
              "      <td>ZBH</td>\n",
              "      <td>2018-10-26 18:07:08</td>\n",
              "      <td>3.0</td>\n",
              "      <td>2018.0</td>\n",
              "      <td>Thank you and good morning. Welcome to Zimmer ...</td>\n",
              "      <td>NaN</td>\n",
              "      <td>NaN</td>\n",
              "      <td>NaN</td>\n",
              "      <td>NaN</td>\n",
              "      <td>NaN</td>\n",
              "      <td>NaN</td>\n",
              "      <td>NaN</td>\n",
              "      <td>NaN</td>\n",
              "    </tr>\n",
              "    <tr>\n",
              "      <th>66627</th>\n",
              "      <td>66627</td>\n",
              "      <td>66627</td>\n",
              "      <td>2020-12-31</td>\n",
              "      <td>76795.0</td>\n",
              "      <td>ZEBRA TECHNOLOGIES CORP</td>\n",
              "      <td>98920710</td>\n",
              "      <td>11.0</td>\n",
              "      <td>3.0</td>\n",
              "      <td>3577.0</td>\n",
              "      <td>ZBRA</td>\n",
              "      <td>24405</td>\n",
              "      <td>01</td>\n",
              "      <td>2019-12-23</td>\n",
              "      <td>2020-12-31</td>\n",
              "      <td>0.015617</td>\n",
              "      <td>NaN</td>\n",
              "      <td>NaN</td>\n",
              "      <td>NaN</td>\n",
              "      <td>ZBRA</td>\n",
              "      <td>NaN</td>\n",
              "      <td>NaN</td>\n",
              "      <td>NaN</td>\n",
              "      <td>IQ393488</td>\n",
              "      <td>Zebra Technologies Corporation</td>\n",
              "      <td>55.81</td>\n",
              "      <td>NaN</td>\n",
              "      <td>NaN</td>\n",
              "      <td>NaN</td>\n",
              "      <td>NaN</td>\n",
              "      <td>NaN</td>\n",
              "      <td>NaN</td>\n",
              "      <td>NaN</td>\n",
              "      <td>NaN</td>\n",
              "      <td>NaN</td>\n",
              "      <td>NaN</td>\n",
              "      <td>NaN</td>\n",
              "      <td>NaN</td>\n",
              "      <td>NaN</td>\n",
              "      <td>NaN</td>\n",
              "      <td>NaN</td>\n",
              "      <td>NaN</td>\n",
              "      <td>NaN</td>\n",
              "      <td>NaN</td>\n",
              "      <td>NaN</td>\n",
              "      <td>NaN</td>\n",
              "      <td>NaN</td>\n",
              "      <td>NaN</td>\n",
              "      <td>NaN</td>\n",
              "      <td>NaN</td>\n",
              "      <td>NaN</td>\n",
              "      <td>NaN</td>\n",
              "      <td>NaN</td>\n",
              "      <td>NaN</td>\n",
              "      <td>4</td>\n",
              "      <td>2020</td>\n",
              "      <td>12</td>\n",
              "      <td>ZBRA</td>\n",
              "      <td>2018-11-06 17:08:22</td>\n",
              "      <td>3.0</td>\n",
              "      <td>2018.0</td>\n",
              "      <td>Good morning, and thank you for joining us tod...</td>\n",
              "      <td>NaN</td>\n",
              "      <td>NaN</td>\n",
              "      <td>NaN</td>\n",
              "      <td>NaN</td>\n",
              "      <td>NaN</td>\n",
              "      <td>NaN</td>\n",
              "      <td>NaN</td>\n",
              "      <td>NaN</td>\n",
              "    </tr>\n",
              "    <tr>\n",
              "      <th>66628</th>\n",
              "      <td>66628</td>\n",
              "      <td>66628</td>\n",
              "      <td>2020-12-31</td>\n",
              "      <td>84129.0</td>\n",
              "      <td>ZIONS BANCORPORATION N A</td>\n",
              "      <td>98970110</td>\n",
              "      <td>11.0</td>\n",
              "      <td>3.0</td>\n",
              "      <td>6021.0</td>\n",
              "      <td>ZION</td>\n",
              "      <td>11687</td>\n",
              "      <td>01</td>\n",
              "      <td>2001-06-25</td>\n",
              "      <td>2020-12-31</td>\n",
              "      <td>0.125680</td>\n",
              "      <td>NaN</td>\n",
              "      <td>NaN</td>\n",
              "      <td>NaN</td>\n",
              "      <td>ZION</td>\n",
              "      <td>NaN</td>\n",
              "      <td>NaN</td>\n",
              "      <td>NaN</td>\n",
              "      <td>IQ315476</td>\n",
              "      <td>Zions Bancorporation</td>\n",
              "      <td>48.73</td>\n",
              "      <td>NaN</td>\n",
              "      <td>NaN</td>\n",
              "      <td>NaN</td>\n",
              "      <td>NaN</td>\n",
              "      <td>NaN</td>\n",
              "      <td>NaN</td>\n",
              "      <td>NaN</td>\n",
              "      <td>NaN</td>\n",
              "      <td>NaN</td>\n",
              "      <td>NaN</td>\n",
              "      <td>NaN</td>\n",
              "      <td>NaN</td>\n",
              "      <td>NaN</td>\n",
              "      <td>NaN</td>\n",
              "      <td>NaN</td>\n",
              "      <td>NaN</td>\n",
              "      <td>NaN</td>\n",
              "      <td>NaN</td>\n",
              "      <td>NaN</td>\n",
              "      <td>NaN</td>\n",
              "      <td>NaN</td>\n",
              "      <td>NaN</td>\n",
              "      <td>NaN</td>\n",
              "      <td>NaN</td>\n",
              "      <td>NaN</td>\n",
              "      <td>NaN</td>\n",
              "      <td>NaN</td>\n",
              "      <td>NaN</td>\n",
              "      <td>4</td>\n",
              "      <td>2020</td>\n",
              "      <td>12</td>\n",
              "      <td>ZION</td>\n",
              "      <td>2018-10-23 04:46:50</td>\n",
              "      <td>3.0</td>\n",
              "      <td>2018.0</td>\n",
              "      <td>Thank you, Latif, and good evening everyone on...</td>\n",
              "      <td>NaN</td>\n",
              "      <td>NaN</td>\n",
              "      <td>NaN</td>\n",
              "      <td>NaN</td>\n",
              "      <td>NaN</td>\n",
              "      <td>NaN</td>\n",
              "      <td>NaN</td>\n",
              "      <td>NaN</td>\n",
              "    </tr>\n",
              "    <tr>\n",
              "      <th>66629</th>\n",
              "      <td>66629</td>\n",
              "      <td>66629</td>\n",
              "      <td>2020-12-31</td>\n",
              "      <td>13788.0</td>\n",
              "      <td>ZOETIS INC</td>\n",
              "      <td>98978V10</td>\n",
              "      <td>11.0</td>\n",
              "      <td>1.0</td>\n",
              "      <td>2834.0</td>\n",
              "      <td>ZTS</td>\n",
              "      <td>13721</td>\n",
              "      <td>01</td>\n",
              "      <td>2013-06-24</td>\n",
              "      <td>2020-12-31</td>\n",
              "      <td>0.031924</td>\n",
              "      <td>NaN</td>\n",
              "      <td>NaN</td>\n",
              "      <td>NaN</td>\n",
              "      <td>ZTS</td>\n",
              "      <td>NaN</td>\n",
              "      <td>NaN</td>\n",
              "      <td>NaN</td>\n",
              "      <td>IQ215548781</td>\n",
              "      <td>Zoetis Inc</td>\n",
              "      <td>51.09</td>\n",
              "      <td>NaN</td>\n",
              "      <td>NaN</td>\n",
              "      <td>NaN</td>\n",
              "      <td>NaN</td>\n",
              "      <td>NaN</td>\n",
              "      <td>NaN</td>\n",
              "      <td>NaN</td>\n",
              "      <td>NaN</td>\n",
              "      <td>NaN</td>\n",
              "      <td>NaN</td>\n",
              "      <td>NaN</td>\n",
              "      <td>NaN</td>\n",
              "      <td>NaN</td>\n",
              "      <td>NaN</td>\n",
              "      <td>NaN</td>\n",
              "      <td>NaN</td>\n",
              "      <td>NaN</td>\n",
              "      <td>NaN</td>\n",
              "      <td>NaN</td>\n",
              "      <td>NaN</td>\n",
              "      <td>NaN</td>\n",
              "      <td>NaN</td>\n",
              "      <td>NaN</td>\n",
              "      <td>NaN</td>\n",
              "      <td>NaN</td>\n",
              "      <td>NaN</td>\n",
              "      <td>NaN</td>\n",
              "      <td>NaN</td>\n",
              "      <td>4</td>\n",
              "      <td>2020</td>\n",
              "      <td>12</td>\n",
              "      <td>ZTS</td>\n",
              "      <td>2018-11-01 20:36:25</td>\n",
              "      <td>3.0</td>\n",
              "      <td>2018.0</td>\n",
              "      <td>Thank you. Good morning, everyone, and welcome...</td>\n",
              "      <td>NaN</td>\n",
              "      <td>NaN</td>\n",
              "      <td>NaN</td>\n",
              "      <td>NaN</td>\n",
              "      <td>NaN</td>\n",
              "      <td>NaN</td>\n",
              "      <td>NaN</td>\n",
              "      <td>NaN</td>\n",
              "    </tr>\n",
              "  </tbody>\n",
              "</table>\n",
              "<p>66630 rows × 69 columns</p>\n",
              "</div>"
            ],
            "text/plain": [
              "       Unnamed: 0  Unnamed: 0.1  ... quarter_join3  year_join3\n",
              "0               0             0  ...           NaN         NaN\n",
              "1               1             1  ...           NaN         NaN\n",
              "2               2             2  ...           NaN         NaN\n",
              "3               3             3  ...           NaN         NaN\n",
              "4               4             4  ...           NaN         NaN\n",
              "...           ...           ...  ...           ...         ...\n",
              "66625       66625         66625  ...           NaN         NaN\n",
              "66626       66626         66626  ...           NaN         NaN\n",
              "66627       66627         66627  ...           NaN         NaN\n",
              "66628       66628         66628  ...           NaN         NaN\n",
              "66629       66629         66629  ...           NaN         NaN\n",
              "\n",
              "[66630 rows x 69 columns]"
            ]
          },
          "metadata": {
            "tags": []
          },
          "execution_count": 32
        }
      ]
    },
    {
      "cell_type": "markdown",
      "metadata": {
        "id": "ZY7qhLfOyq8e"
      },
      "source": [
        "#CIK_TiCKER:"
      ]
    },
    {
      "cell_type": "code",
      "metadata": {
        "id": "akr5doOUCQ3K"
      },
      "source": [
        "cik_ticker = pd.read_csv('gs://content/drive/MyDrive/MIDS/just_cik_ticker.txt', delimiter='\\t')"
      ],
      "execution_count": null,
      "outputs": []
    },
    {
      "cell_type": "code",
      "metadata": {
        "colab": {
          "base_uri": "https://localhost:8080/",
          "height": 419
        },
        "id": "Clm2EhPLxaud",
        "outputId": "21e253c0-6e24-46cf-e152-47cf439a52ba"
      },
      "source": [
        "cik_ticker"
      ],
      "execution_count": null,
      "outputs": [
        {
          "output_type": "execute_result",
          "data": {
            "text/html": [
              "<div>\n",
              "<style scoped>\n",
              "    .dataframe tbody tr th:only-of-type {\n",
              "        vertical-align: middle;\n",
              "    }\n",
              "\n",
              "    .dataframe tbody tr th {\n",
              "        vertical-align: top;\n",
              "    }\n",
              "\n",
              "    .dataframe thead th {\n",
              "        text-align: right;\n",
              "    }\n",
              "</style>\n",
              "<table border=\"1\" class=\"dataframe\">\n",
              "  <thead>\n",
              "    <tr style=\"text-align: right;\">\n",
              "      <th></th>\n",
              "      <th>Ticker</th>\n",
              "      <th>CIK</th>\n",
              "    </tr>\n",
              "  </thead>\n",
              "  <tbody>\n",
              "    <tr>\n",
              "      <th>0</th>\n",
              "      <td>aapl</td>\n",
              "      <td>320193</td>\n",
              "    </tr>\n",
              "    <tr>\n",
              "      <th>1</th>\n",
              "      <td>msft</td>\n",
              "      <td>789019</td>\n",
              "    </tr>\n",
              "    <tr>\n",
              "      <th>2</th>\n",
              "      <td>amzn</td>\n",
              "      <td>1018724</td>\n",
              "    </tr>\n",
              "    <tr>\n",
              "      <th>3</th>\n",
              "      <td>goog</td>\n",
              "      <td>1652044</td>\n",
              "    </tr>\n",
              "    <tr>\n",
              "      <th>4</th>\n",
              "      <td>tcehy</td>\n",
              "      <td>1293451</td>\n",
              "    </tr>\n",
              "    <tr>\n",
              "      <th>...</th>\n",
              "      <td>...</td>\n",
              "      <td>...</td>\n",
              "    </tr>\n",
              "    <tr>\n",
              "      <th>12852</th>\n",
              "      <td>aac-wt</td>\n",
              "      <td>1829432</td>\n",
              "    </tr>\n",
              "    <tr>\n",
              "      <th>12853</th>\n",
              "      <td>aaic-pb</td>\n",
              "      <td>1209028</td>\n",
              "    </tr>\n",
              "    <tr>\n",
              "      <th>12854</th>\n",
              "      <td>aaic-pc</td>\n",
              "      <td>1209028</td>\n",
              "    </tr>\n",
              "    <tr>\n",
              "      <th>12855</th>\n",
              "      <td>aaqc-un</td>\n",
              "      <td>1838883</td>\n",
              "    </tr>\n",
              "    <tr>\n",
              "      <th>12856</th>\n",
              "      <td>aaqc-wt</td>\n",
              "      <td>1838883</td>\n",
              "    </tr>\n",
              "  </tbody>\n",
              "</table>\n",
              "<p>12857 rows × 2 columns</p>\n",
              "</div>"
            ],
            "text/plain": [
              "        Ticker      CIK\n",
              "0         aapl   320193\n",
              "1         msft   789019\n",
              "2         amzn  1018724\n",
              "3         goog  1652044\n",
              "4        tcehy  1293451\n",
              "...        ...      ...\n",
              "12852   aac-wt  1829432\n",
              "12853  aaic-pb  1209028\n",
              "12854  aaic-pc  1209028\n",
              "12855  aaqc-un  1838883\n",
              "12856  aaqc-wt  1838883\n",
              "\n",
              "[12857 rows x 2 columns]"
            ]
          },
          "metadata": {
            "tags": []
          },
          "execution_count": 16
        }
      ]
    },
    {
      "cell_type": "code",
      "metadata": {
        "colab": {
          "base_uri": "https://localhost:8080/",
          "height": 419
        },
        "id": "dSvLdH1dKNES",
        "outputId": "1ad8ba42-7e62-4b2f-ef1b-25fb9940cbe5"
      },
      "source": [
        "cik_ticker['Ticker'] = cik_ticker['Ticker'].str.upper()\n",
        "cik_ticker['CIK'] = cik_ticker['CIK'].astype(str)\n",
        "cik_ticker"
      ],
      "execution_count": null,
      "outputs": [
        {
          "output_type": "execute_result",
          "data": {
            "text/html": [
              "<div>\n",
              "<style scoped>\n",
              "    .dataframe tbody tr th:only-of-type {\n",
              "        vertical-align: middle;\n",
              "    }\n",
              "\n",
              "    .dataframe tbody tr th {\n",
              "        vertical-align: top;\n",
              "    }\n",
              "\n",
              "    .dataframe thead th {\n",
              "        text-align: right;\n",
              "    }\n",
              "</style>\n",
              "<table border=\"1\" class=\"dataframe\">\n",
              "  <thead>\n",
              "    <tr style=\"text-align: right;\">\n",
              "      <th></th>\n",
              "      <th>Ticker</th>\n",
              "      <th>CIK</th>\n",
              "    </tr>\n",
              "  </thead>\n",
              "  <tbody>\n",
              "    <tr>\n",
              "      <th>0</th>\n",
              "      <td>AAPL</td>\n",
              "      <td>320193</td>\n",
              "    </tr>\n",
              "    <tr>\n",
              "      <th>1</th>\n",
              "      <td>MSFT</td>\n",
              "      <td>789019</td>\n",
              "    </tr>\n",
              "    <tr>\n",
              "      <th>2</th>\n",
              "      <td>AMZN</td>\n",
              "      <td>1018724</td>\n",
              "    </tr>\n",
              "    <tr>\n",
              "      <th>3</th>\n",
              "      <td>GOOG</td>\n",
              "      <td>1652044</td>\n",
              "    </tr>\n",
              "    <tr>\n",
              "      <th>4</th>\n",
              "      <td>TCEHY</td>\n",
              "      <td>1293451</td>\n",
              "    </tr>\n",
              "    <tr>\n",
              "      <th>...</th>\n",
              "      <td>...</td>\n",
              "      <td>...</td>\n",
              "    </tr>\n",
              "    <tr>\n",
              "      <th>12852</th>\n",
              "      <td>AAC-WT</td>\n",
              "      <td>1829432</td>\n",
              "    </tr>\n",
              "    <tr>\n",
              "      <th>12853</th>\n",
              "      <td>AAIC-PB</td>\n",
              "      <td>1209028</td>\n",
              "    </tr>\n",
              "    <tr>\n",
              "      <th>12854</th>\n",
              "      <td>AAIC-PC</td>\n",
              "      <td>1209028</td>\n",
              "    </tr>\n",
              "    <tr>\n",
              "      <th>12855</th>\n",
              "      <td>AAQC-UN</td>\n",
              "      <td>1838883</td>\n",
              "    </tr>\n",
              "    <tr>\n",
              "      <th>12856</th>\n",
              "      <td>AAQC-WT</td>\n",
              "      <td>1838883</td>\n",
              "    </tr>\n",
              "  </tbody>\n",
              "</table>\n",
              "<p>12857 rows × 2 columns</p>\n",
              "</div>"
            ],
            "text/plain": [
              "        Ticker      CIK\n",
              "0         AAPL   320193\n",
              "1         MSFT   789019\n",
              "2         AMZN  1018724\n",
              "3         GOOG  1652044\n",
              "4        TCEHY  1293451\n",
              "...        ...      ...\n",
              "12852   AAC-WT  1829432\n",
              "12853  AAIC-PB  1209028\n",
              "12854  AAIC-PC  1209028\n",
              "12855  AAQC-UN  1838883\n",
              "12856  AAQC-WT  1838883\n",
              "\n",
              "[12857 rows x 2 columns]"
            ]
          },
          "metadata": {
            "tags": []
          },
          "execution_count": 17
        }
      ]
    },
    {
      "cell_type": "markdown",
      "metadata": {
        "id": "_qYc_BFVzVHh"
      },
      "source": [
        "Each ticker has 1 CIK, and each CIK can have multiple tickers:"
      ]
    },
    {
      "cell_type": "code",
      "metadata": {
        "colab": {
          "base_uri": "https://localhost:8080/",
          "height": 419
        },
        "id": "TnQYH3t1xeLw",
        "outputId": "0ab94e72-383a-426e-9013-6958add75e63"
      },
      "source": [
        "CIK_counts_per_ticker = cik_ticker.groupby('Ticker').nunique()\n",
        "CIK_counts_per_ticker.sort_values('CIK', ascending=False).reset_index()"
      ],
      "execution_count": null,
      "outputs": [
        {
          "output_type": "execute_result",
          "data": {
            "text/html": [
              "<div>\n",
              "<style scoped>\n",
              "    .dataframe tbody tr th:only-of-type {\n",
              "        vertical-align: middle;\n",
              "    }\n",
              "\n",
              "    .dataframe tbody tr th {\n",
              "        vertical-align: top;\n",
              "    }\n",
              "\n",
              "    .dataframe thead th {\n",
              "        text-align: right;\n",
              "    }\n",
              "</style>\n",
              "<table border=\"1\" class=\"dataframe\">\n",
              "  <thead>\n",
              "    <tr style=\"text-align: right;\">\n",
              "      <th></th>\n",
              "      <th>Ticker</th>\n",
              "      <th>CIK</th>\n",
              "    </tr>\n",
              "  </thead>\n",
              "  <tbody>\n",
              "    <tr>\n",
              "      <th>0</th>\n",
              "      <td>A</td>\n",
              "      <td>1</td>\n",
              "    </tr>\n",
              "    <tr>\n",
              "      <th>1</th>\n",
              "      <td>OLO</td>\n",
              "      <td>1</td>\n",
              "    </tr>\n",
              "    <tr>\n",
              "      <th>2</th>\n",
              "      <td>OLB</td>\n",
              "      <td>1</td>\n",
              "    </tr>\n",
              "    <tr>\n",
              "      <th>3</th>\n",
              "      <td>OLCLF</td>\n",
              "      <td>1</td>\n",
              "    </tr>\n",
              "    <tr>\n",
              "      <th>4</th>\n",
              "      <td>OLCLY</td>\n",
              "      <td>1</td>\n",
              "    </tr>\n",
              "    <tr>\n",
              "      <th>...</th>\n",
              "      <td>...</td>\n",
              "      <td>...</td>\n",
              "    </tr>\n",
              "    <tr>\n",
              "      <th>12850</th>\n",
              "      <td>FHN-PD</td>\n",
              "      <td>1</td>\n",
              "    </tr>\n",
              "    <tr>\n",
              "      <th>12851</th>\n",
              "      <td>FHN-PE</td>\n",
              "      <td>1</td>\n",
              "    </tr>\n",
              "    <tr>\n",
              "      <th>12852</th>\n",
              "      <td>FHN-PF</td>\n",
              "      <td>1</td>\n",
              "    </tr>\n",
              "    <tr>\n",
              "      <th>12853</th>\n",
              "      <td>FHNNP</td>\n",
              "      <td>1</td>\n",
              "    </tr>\n",
              "    <tr>\n",
              "      <th>12854</th>\n",
              "      <td>ZZLL</td>\n",
              "      <td>1</td>\n",
              "    </tr>\n",
              "  </tbody>\n",
              "</table>\n",
              "<p>12855 rows × 2 columns</p>\n",
              "</div>"
            ],
            "text/plain": [
              "       Ticker  CIK\n",
              "0           A    1\n",
              "1         OLO    1\n",
              "2         OLB    1\n",
              "3       OLCLF    1\n",
              "4       OLCLY    1\n",
              "...       ...  ...\n",
              "12850  FHN-PD    1\n",
              "12851  FHN-PE    1\n",
              "12852  FHN-PF    1\n",
              "12853   FHNNP    1\n",
              "12854    ZZLL    1\n",
              "\n",
              "[12855 rows x 2 columns]"
            ]
          },
          "metadata": {
            "tags": []
          },
          "execution_count": 18
        }
      ]
    },
    {
      "cell_type": "code",
      "metadata": {
        "colab": {
          "base_uri": "https://localhost:8080/",
          "height": 419
        },
        "id": "8bF6nGw5wJNL",
        "outputId": "10f9944d-e4ea-460b-f1b9-45dff7c0f829"
      },
      "source": [
        "ticker_counts_per_CIK = cik_ticker.groupby('CIK').nunique()\n",
        "ticker_counts_per_CIK.sort_values('Ticker', ascending=False).reset_index()"
      ],
      "execution_count": null,
      "outputs": [
        {
          "output_type": "execute_result",
          "data": {
            "text/html": [
              "<div>\n",
              "<style scoped>\n",
              "    .dataframe tbody tr th:only-of-type {\n",
              "        vertical-align: middle;\n",
              "    }\n",
              "\n",
              "    .dataframe tbody tr th {\n",
              "        vertical-align: top;\n",
              "    }\n",
              "\n",
              "    .dataframe thead th {\n",
              "        text-align: right;\n",
              "    }\n",
              "</style>\n",
              "<table border=\"1\" class=\"dataframe\">\n",
              "  <thead>\n",
              "    <tr style=\"text-align: right;\">\n",
              "      <th></th>\n",
              "      <th>CIK</th>\n",
              "      <th>Ticker</th>\n",
              "    </tr>\n",
              "  </thead>\n",
              "  <tbody>\n",
              "    <tr>\n",
              "      <th>0</th>\n",
              "      <td>312070</td>\n",
              "      <td>75</td>\n",
              "    </tr>\n",
              "    <tr>\n",
              "      <th>1</th>\n",
              "      <td>1114446</td>\n",
              "      <td>58</td>\n",
              "    </tr>\n",
              "    <tr>\n",
              "      <th>2</th>\n",
              "      <td>1053092</td>\n",
              "      <td>25</td>\n",
              "    </tr>\n",
              "    <tr>\n",
              "      <th>3</th>\n",
              "      <td>1026214</td>\n",
              "      <td>25</td>\n",
              "    </tr>\n",
              "    <tr>\n",
              "      <th>4</th>\n",
              "      <td>831001</td>\n",
              "      <td>21</td>\n",
              "    </tr>\n",
              "    <tr>\n",
              "      <th>...</th>\n",
              "      <td>...</td>\n",
              "      <td>...</td>\n",
              "    </tr>\n",
              "    <tr>\n",
              "      <th>9460</th>\n",
              "      <td>1509745</td>\n",
              "      <td>1</td>\n",
              "    </tr>\n",
              "    <tr>\n",
              "      <th>9461</th>\n",
              "      <td>1509646</td>\n",
              "      <td>1</td>\n",
              "    </tr>\n",
              "    <tr>\n",
              "      <th>9462</th>\n",
              "      <td>1509589</td>\n",
              "      <td>1</td>\n",
              "    </tr>\n",
              "    <tr>\n",
              "      <th>9463</th>\n",
              "      <td>1509470</td>\n",
              "      <td>1</td>\n",
              "    </tr>\n",
              "    <tr>\n",
              "      <th>9464</th>\n",
              "      <td>1074769</td>\n",
              "      <td>0</td>\n",
              "    </tr>\n",
              "  </tbody>\n",
              "</table>\n",
              "<p>9465 rows × 2 columns</p>\n",
              "</div>"
            ],
            "text/plain": [
              "          CIK  Ticker\n",
              "0      312070      75\n",
              "1     1114446      58\n",
              "2     1053092      25\n",
              "3     1026214      25\n",
              "4      831001      21\n",
              "...       ...     ...\n",
              "9460  1509745       1\n",
              "9461  1509646       1\n",
              "9462  1509589       1\n",
              "9463  1509470       1\n",
              "9464  1074769       0\n",
              "\n",
              "[9465 rows x 2 columns]"
            ]
          },
          "metadata": {
            "tags": []
          },
          "execution_count": 19
        }
      ]
    },
    {
      "cell_type": "markdown",
      "metadata": {
        "id": "mJoVTnSmALdN"
      },
      "source": [
        "The unique number of CIK:"
      ]
    },
    {
      "cell_type": "code",
      "metadata": {
        "colab": {
          "base_uri": "https://localhost:8080/"
        },
        "id": "vje4UZRL_1tp",
        "outputId": "623db818-6930-4801-eae5-5f365b2aa537"
      },
      "source": [
        "len(cik_ticker['CIK'].unique())"
      ],
      "execution_count": null,
      "outputs": [
        {
          "output_type": "execute_result",
          "data": {
            "text/plain": [
              "9465"
            ]
          },
          "metadata": {
            "tags": []
          },
          "execution_count": 39
        }
      ]
    },
    {
      "cell_type": "markdown",
      "metadata": {
        "id": "XxGKrwx-AQjt"
      },
      "source": [
        "The unique number of Ticker:"
      ]
    },
    {
      "cell_type": "code",
      "metadata": {
        "colab": {
          "base_uri": "https://localhost:8080/"
        },
        "id": "EJIEXHfo__no",
        "outputId": "c4f1ca6f-ca65-4aff-9b63-02dd0506b397"
      },
      "source": [
        "len(cik_ticker['Ticker'].unique())"
      ],
      "execution_count": null,
      "outputs": [
        {
          "output_type": "execute_result",
          "data": {
            "text/plain": [
              "12856"
            ]
          },
          "metadata": {
            "tags": []
          },
          "execution_count": 40
        }
      ]
    },
    {
      "cell_type": "code",
      "metadata": {
        "colab": {
          "base_uri": "https://localhost:8080/",
          "height": 80
        },
        "id": "Bh9ZZDJwAUQB",
        "outputId": "bd2a14d9-c813-4f4f-a602-df9d28f84f0f"
      },
      "source": [
        "cik_ticker[cik_ticker.Ticker.isin(['MSFT'])]"
      ],
      "execution_count": null,
      "outputs": [
        {
          "output_type": "execute_result",
          "data": {
            "text/html": [
              "<div>\n",
              "<style scoped>\n",
              "    .dataframe tbody tr th:only-of-type {\n",
              "        vertical-align: middle;\n",
              "    }\n",
              "\n",
              "    .dataframe tbody tr th {\n",
              "        vertical-align: top;\n",
              "    }\n",
              "\n",
              "    .dataframe thead th {\n",
              "        text-align: right;\n",
              "    }\n",
              "</style>\n",
              "<table border=\"1\" class=\"dataframe\">\n",
              "  <thead>\n",
              "    <tr style=\"text-align: right;\">\n",
              "      <th></th>\n",
              "      <th>Ticker</th>\n",
              "      <th>CIK</th>\n",
              "    </tr>\n",
              "  </thead>\n",
              "  <tbody>\n",
              "    <tr>\n",
              "      <th>1</th>\n",
              "      <td>MSFT</td>\n",
              "      <td>789019</td>\n",
              "    </tr>\n",
              "  </tbody>\n",
              "</table>\n",
              "</div>"
            ],
            "text/plain": [
              "  Ticker     CIK\n",
              "1   MSFT  789019"
            ]
          },
          "metadata": {
            "tags": []
          },
          "execution_count": 41
        }
      ]
    },
    {
      "cell_type": "code",
      "metadata": {
        "colab": {
          "base_uri": "https://localhost:8080/",
          "height": 80
        },
        "id": "1cUwmUXqAend",
        "outputId": "8df3fd3f-14cf-4230-ce0c-e9ec7f148b2e"
      },
      "source": [
        "cik_ticker[cik_ticker.CIK.isin(['789019'])]"
      ],
      "execution_count": null,
      "outputs": [
        {
          "output_type": "execute_result",
          "data": {
            "text/html": [
              "<div>\n",
              "<style scoped>\n",
              "    .dataframe tbody tr th:only-of-type {\n",
              "        vertical-align: middle;\n",
              "    }\n",
              "\n",
              "    .dataframe tbody tr th {\n",
              "        vertical-align: top;\n",
              "    }\n",
              "\n",
              "    .dataframe thead th {\n",
              "        text-align: right;\n",
              "    }\n",
              "</style>\n",
              "<table border=\"1\" class=\"dataframe\">\n",
              "  <thead>\n",
              "    <tr style=\"text-align: right;\">\n",
              "      <th></th>\n",
              "      <th>Ticker</th>\n",
              "      <th>CIK</th>\n",
              "    </tr>\n",
              "  </thead>\n",
              "  <tbody>\n",
              "    <tr>\n",
              "      <th>1</th>\n",
              "      <td>MSFT</td>\n",
              "      <td>789019</td>\n",
              "    </tr>\n",
              "  </tbody>\n",
              "</table>\n",
              "</div>"
            ],
            "text/plain": [
              "  Ticker     CIK\n",
              "1   MSFT  789019"
            ]
          },
          "metadata": {
            "tags": []
          },
          "execution_count": 42
        }
      ]
    },
    {
      "cell_type": "code",
      "metadata": {
        "colab": {
          "base_uri": "https://localhost:8080/",
          "height": 80
        },
        "id": "eImpMzYXiagE",
        "outputId": "dc507969-a1c4-4b2e-c084-3878ef415110"
      },
      "source": [
        "cik_ticker[cik_ticker.CIK.isin(['1711269'])]"
      ],
      "execution_count": null,
      "outputs": [
        {
          "output_type": "execute_result",
          "data": {
            "text/html": [
              "<div>\n",
              "<style scoped>\n",
              "    .dataframe tbody tr th:only-of-type {\n",
              "        vertical-align: middle;\n",
              "    }\n",
              "\n",
              "    .dataframe tbody tr th {\n",
              "        vertical-align: top;\n",
              "    }\n",
              "\n",
              "    .dataframe thead th {\n",
              "        text-align: right;\n",
              "    }\n",
              "</style>\n",
              "<table border=\"1\" class=\"dataframe\">\n",
              "  <thead>\n",
              "    <tr style=\"text-align: right;\">\n",
              "      <th></th>\n",
              "      <th>Ticker</th>\n",
              "      <th>CIK</th>\n",
              "    </tr>\n",
              "  </thead>\n",
              "  <tbody>\n",
              "    <tr>\n",
              "      <th>885</th>\n",
              "      <td>EVRG</td>\n",
              "      <td>1711269</td>\n",
              "    </tr>\n",
              "  </tbody>\n",
              "</table>\n",
              "</div>"
            ],
            "text/plain": [
              "    Ticker      CIK\n",
              "885   EVRG  1711269"
            ]
          },
          "metadata": {
            "tags": []
          },
          "execution_count": 43
        }
      ]
    },
    {
      "cell_type": "markdown",
      "metadata": {
        "id": "_7lSqJElz0Am"
      },
      "source": [
        "#Merge sustainability score and cik tables:"
      ]
    },
    {
      "cell_type": "markdown",
      "metadata": {
        "id": "QskGc6vp0AZa"
      },
      "source": [
        "Add CIK to result table:"
      ]
    },
    {
      "cell_type": "code",
      "metadata": {
        "id": "LHmzQ_QuyXLW"
      },
      "source": [
        "final_res_table = pd.merge(cik_ticker, univ_with_scores_transcript, how=\"right\", left_on=[\"Ticker\"], right_on=[\"ticker_univ\"]).drop_duplicates()"
      ],
      "execution_count": null,
      "outputs": []
    },
    {
      "cell_type": "markdown",
      "metadata": {
        "id": "9ML1Zvl30b4l"
      },
      "source": [
        "Find how many 'Ticker' is not the same as 'ticker_univ':"
      ]
    },
    {
      "cell_type": "code",
      "metadata": {
        "colab": {
          "base_uri": "https://localhost:8080/"
        },
        "id": "I26MMoaY-Zig",
        "outputId": "fccfffb3-0b9b-4603-9af8-e9887c1a144c"
      },
      "source": [
        "np.where(final_res_table['Ticker'] != final_res_table['ticker_univ'])[0].size"
      ],
      "execution_count": null,
      "outputs": [
        {
          "output_type": "execute_result",
          "data": {
            "text/plain": [
              "10231"
            ]
          },
          "metadata": {
            "tags": []
          },
          "execution_count": 46
        }
      ]
    },
    {
      "cell_type": "code",
      "metadata": {
        "id": "MdSQZ__F3NV_"
      },
      "source": [
        "final_res_table = final_res_table.loc[:, 'CIK':'year_join3']"
      ],
      "execution_count": null,
      "outputs": []
    },
    {
      "cell_type": "code",
      "metadata": {
        "colab": {
          "base_uri": "https://localhost:8080/"
        },
        "id": "R8voAD3xBEjc",
        "outputId": "ceea85c2-2843-4d3e-9117-556600e04f94"
      },
      "source": [
        "len(final_res_table[final_res_table.CIK.isin([\"789019\"])])"
      ],
      "execution_count": null,
      "outputs": [
        {
          "output_type": "execute_result",
          "data": {
            "text/plain": [
              "133"
            ]
          },
          "metadata": {
            "tags": []
          },
          "execution_count": 48
        }
      ]
    },
    {
      "cell_type": "code",
      "metadata": {
        "colab": {
          "base_uri": "https://localhost:8080/"
        },
        "id": "n7Cqd-sdwAGa",
        "outputId": "91da885e-7156-4c4b-d108-d09d1fbbfce2"
      },
      "source": [
        "len(final_res_table[final_res_table.CIK.isin([\"789019\"])][final_res_table.date.str.startswith('2016')])"
      ],
      "execution_count": null,
      "outputs": [
        {
          "output_type": "stream",
          "text": [
            "/usr/local/lib/python3.7/dist-packages/ipykernel_launcher.py:1: UserWarning: Boolean Series key will be reindexed to match DataFrame index.\n",
            "  \"\"\"Entry point for launching an IPython kernel.\n"
          ],
          "name": "stderr"
        },
        {
          "output_type": "execute_result",
          "data": {
            "text/plain": [
              "12"
            ]
          },
          "metadata": {
            "tags": []
          },
          "execution_count": 49
        }
      ]
    },
    {
      "cell_type": "markdown",
      "metadata": {
        "id": "3b_Z85Nv033d"
      },
      "source": [
        "Get all the unique CIK from result table:"
      ]
    },
    {
      "cell_type": "code",
      "metadata": {
        "colab": {
          "base_uri": "https://localhost:8080/"
        },
        "id": "mU8utNWbRcOS",
        "outputId": "a7325ee1-02a1-440a-84a0-8cdf5a04fc32"
      },
      "source": [
        "selected_cik = final_res_table['CIK']\n",
        "selected_cik = selected_cik.unique()\n",
        "len(selected_cik)"
      ],
      "execution_count": null,
      "outputs": [
        {
          "output_type": "execute_result",
          "data": {
            "text/plain": [
              "591"
            ]
          },
          "metadata": {
            "tags": []
          },
          "execution_count": 22
        }
      ]
    },
    {
      "cell_type": "code",
      "metadata": {
        "colab": {
          "base_uri": "https://localhost:8080/"
        },
        "id": "-chvNaNDOIKg",
        "outputId": "cbcdd9ee-febf-4528-8b3c-be59eca4ba89"
      },
      "source": [
        "'789019' in selected_cik"
      ],
      "execution_count": null,
      "outputs": [
        {
          "output_type": "execute_result",
          "data": {
            "text/plain": [
              "True"
            ]
          },
          "metadata": {
            "tags": []
          },
          "execution_count": 51
        }
      ]
    },
    {
      "cell_type": "code",
      "metadata": {
        "colab": {
          "base_uri": "https://localhost:8080/"
        },
        "id": "pfutqLO5VsvT",
        "outputId": "22b15380-0b19-4ab6-c84e-82f7571a5132"
      },
      "source": [
        "final_res_table.columns"
      ],
      "execution_count": null,
      "outputs": [
        {
          "output_type": "execute_result",
          "data": {
            "text/plain": [
              "Index(['CIK', 'Unnamed: 0', 'Unnamed: 0.1', 'date', 'permno', 'comnam',\n",
              "       'ncusip', 'shrcd', 'exchcd', 'hsiccd', 'ticker_univ', 'gvkey', 'iid',\n",
              "       'start', 'ending', 'ret_month_one', 'ret_month_two', 'ret_month_three',\n",
              "       'three_month_return', 'ticker1', 'ticker2', 'ticker3', 'ticker',\n",
              "       'CapitalIQ_ID', 'Company', 'total_esg_score', 'total_esg_score_lead_1',\n",
              "       'total_esg_score_lead_3', 'total_esg_score_month_change_pure',\n",
              "       'total_esg_score_month_change_pct',\n",
              "       'total_esg_score_quarter_change_pure',\n",
              "       'total_esg_score_quarter_change_pct', 'governance_score_lead_1',\n",
              "       'governance_score_lead_3', 'governance_score_month_change_pure',\n",
              "       'governance_score_month_change_pct',\n",
              "       'governance_score_quarter_change_pure',\n",
              "       'governance_score_quarter_change_pct', 'social_score_lead_1',\n",
              "       'social_score_lead_3', 'social_score_month_change_pure',\n",
              "       'social_score_month_change_pct', 'social_score_quarter_change_pure',\n",
              "       'social_score_quarter_change_pct', 'environment_score_lead_1',\n",
              "       'environment_score_lead_3', 'environment_score_month_change_pure',\n",
              "       'environment_score_month_change_pct',\n",
              "       'environment_score_quarter_change_pure',\n",
              "       'environment_score_quarter_change_pct', 'CapitalIQ_ID_join2',\n",
              "       'Company_join2', 'CapitalIQ_ID_join3', 'Company_join3', 'quarter',\n",
              "       'year', 'month', 'symbol', 'time', 'quarter_join1', 'year_join1',\n",
              "       'speech', 'symbol_join2', 'time_join2', 'quarter_join2', 'year_join2',\n",
              "       'symbol_join3', 'time_join3', 'quarter_join3', 'year_join3'],\n",
              "      dtype='object')"
            ]
          },
          "metadata": {
            "tags": []
          },
          "execution_count": 52
        }
      ]
    },
    {
      "cell_type": "code",
      "metadata": {
        "colab": {
          "base_uri": "https://localhost:8080/"
        },
        "id": "V8NZGnYPVq3O",
        "outputId": "4a10aca8-5f84-4eb4-dc0a-a12710fa26ee"
      },
      "source": [
        "reports_res_table = final_res_table[['CIK',\n",
        "                                   'date',\n",
        "                                  'ticker_univ',\n",
        "                                  'total_esg_score',\n",
        "                                  'total_esg_score_quarter_change_pure',\n",
        "                                  'total_esg_score_quarter_change_pct',\n",
        "                                  'governance_score_quarter_change_pure',\n",
        "                                  'governance_score_quarter_change_pct',\n",
        "                                  'social_score_quarter_change_pure',\n",
        "                                  'social_score_quarter_change_pct',\n",
        "                                  'environment_score_quarter_change_pure',\n",
        "                                  'environment_score_quarter_change_pct',\n",
        "                                  'quarter',\n",
        "                                  'year',\n",
        "                                  'month']]\n",
        "len(reports_res_table.drop_duplicates())"
      ],
      "execution_count": null,
      "outputs": [
        {
          "output_type": "execute_result",
          "data": {
            "text/plain": [
              "66497"
            ]
          },
          "metadata": {
            "tags": []
          },
          "execution_count": 23
        }
      ]
    },
    {
      "cell_type": "code",
      "metadata": {
        "id": "hm7REnZ9DanC"
      },
      "source": [
        "reports_res_table = reports_res_table[reports_res_table.year.isin([2013, 2014, 2015, 2016, 2017, 2018])].drop_duplicates()"
      ],
      "execution_count": null,
      "outputs": []
    },
    {
      "cell_type": "code",
      "metadata": {
        "id": "aMz1HxW6YXd5"
      },
      "source": [
        "reports_res_table = reports_res_table[reports_res_table.total_esg_score_quarter_change_pure.notnull()]"
      ],
      "execution_count": null,
      "outputs": []
    },
    {
      "cell_type": "markdown",
      "metadata": {
        "id": "EmjRm9-PR6Y2"
      },
      "source": [
        "#Create 10K and 10Q report table:"
      ]
    },
    {
      "cell_type": "code",
      "metadata": {
        "id": "qtW5LLMS8xHA"
      },
      "source": [
        "def create_10_K_Q_df(zf, start_i, end_i):\n",
        "  kq_df = pd.DataFrame(columns=column_names)\n",
        "  for f in zf.namelist()[start_i:end_i]:\n",
        "    if '.txt' not in f:\n",
        "      continue\n",
        "    \n",
        "    # Read the whole file contents\n",
        "    content = open(zf.extract(f)).read()\n",
        "    \n",
        "    # Split based on </Header>\n",
        "    report_header, report_contents = re.split(r'\\<\\/Header\\>', content)\n",
        "    \n",
        "    # Detect report type 10Q or 10K\n",
        "    reportType = \"10Q\"\n",
        "    raw_file_name = re.search(r'(?<=<FileName>).*\\<\\/FileName\\>', report_header)\n",
        "    raw_file_name = raw_file_name[0].replace('-', '')\n",
        "    \n",
        "    # Set report type\n",
        "    filer_date, file_name = raw_file_name.split('_', 1)\n",
        "    if file_name.startswith('10K'):\n",
        "      reportType = \"10K\"\n",
        "    \n",
        "    # Set filer\n",
        "    SEC_Header_first_part, filer = re.split(r'FILER:', report_header, 1)\n",
        "    cik = re.search(r'(?<=CENTRAL INDEX KEY:).*\\S', filer)[0]\n",
        "    cik = cik.replace('\\t', '').replace('\\n', '').strip(\"0\")\n",
        "    if cik not in selected_cik:\n",
        "      continue\n",
        "    report_time = re.search(r'(?<=CONFORMED PERIOD OF REPORT:\\t)[0-9]{8}', SEC_Header_first_part)[0]\n",
        "    \n",
        "    # Report date in the file\n",
        "    year = (int)(report_time[0:4])\n",
        "    month = (int)(report_time[4:6])\n",
        "    if month in [12, 1, 2]:\n",
        "      if month != 12:\n",
        "        year -= 1\n",
        "      month = 12\n",
        "    elif month in [3, 4, 5]:\n",
        "      month = 3\n",
        "    elif month in [6, 7, 8]:\n",
        "      month = 6\n",
        "    else:\n",
        "      month = 9\n",
        "\n",
        "    # Former company names\n",
        "    former_names = re.findall(r'(?<=FORMER CONFORMED NAME:).*\\s', filer)\n",
        "    parsed_former_names = []\n",
        "    for n in former_names:\n",
        "      parsed_former_names.append(n.replace('\\t', '').replace('\\n', ''))\n",
        "    conformed_name = re.search(r'(?<=COMPANY CONFORMED NAME:).*\\s', filer)[0].replace('\\n', '').replace('\\t', '')\n",
        "    filer = filer.replace('\\t', '').replace('\\n', '')\n",
        "   \n",
        "    # Exhibits\n",
        "    reports = re.split(r'\\<EX.*\\>', report_contents, 1)\n",
        "    if len(reports) == 2:\n",
        "      exhibits = reports[1].replace('\\n', '').replace('\\t', '')\n",
        "    reports = reports[0].replace('\\n', '').replace('\\t', '')\n",
        "\n",
        "    # Append each row to the data frame\n",
        "    parsed_row = pd.Series([reportType, cik, conformed_name, ','.join([str(name) for name in parsed_former_names]), year, month, filer, reports, exhibits], index=kq_df.columns)\n",
        "    kq_df = kq_df.append(parsed_row, ignore_index=True)\n",
        "\n",
        "  return kq_df"
      ],
      "execution_count": null,
      "outputs": []
    },
    {
      "cell_type": "code",
      "metadata": {
        "id": "j3IPmv9x_cNB"
      },
      "source": [
        "def merge_kq_ticker(left_df, output_path):\n",
        "  res_kq_pd = pd.merge(left=left_df, right=cik_ticker, left_on=\"CIK\", right_on=\"CIK\")\n",
        "  res_kq_pd.to_csv(output_path)"
      ],
      "execution_count": null,
      "outputs": []
    },
    {
      "cell_type": "code",
      "metadata": {
        "id": "VyzdjImOpuRz"
      },
      "source": [
        "def get_kq_res(zf_files, zf_name):\n",
        "  kq_res = create_10_K_Q_df(zf_files, 0, len(zf_files.namelist()))\n",
        "  kq_res_file_name = 'just_10kq_without_score_' + zf_name + '.txt'\n",
        "  merge_kq_ticker(kq_res, kq_res_file_name)"
      ],
      "execution_count": null,
      "outputs": []
    },
    {
      "cell_type": "code",
      "metadata": {
        "colab": {
          "base_uri": "https://localhost:8080/"
        },
        "id": "4ACvpC-pvU0G",
        "outputId": "9738df69-913a-4f6e-920f-da09bcd8ea56"
      },
      "source": [
        "kq_201318 = pd.read_csv(\"gs://esgbert_resourses/raw_data/just_10kq_without_score_201318.txt\")"
      ],
      "execution_count": null,
      "outputs": [
        {
          "output_type": "stream",
          "text": [
            "/usr/local/lib/python3.7/dist-packages/google/auth/_default.py:70: UserWarning: Your application has authenticated using end user credentials from Google Cloud SDK without a quota project. You might receive a \"quota exceeded\" or \"API not enabled\" error. We recommend you rerun `gcloud auth application-default login` and make sure a quota project is added. Or you can use service accounts instead. For more information about service accounts, see https://cloud.google.com/docs/authentication/\n",
            "  warnings.warn(_CLOUD_SDK_CREDENTIALS_WARNING)\n"
          ],
          "name": "stderr"
        }
      ]
    },
    {
      "cell_type": "code",
      "metadata": {
        "colab": {
          "base_uri": "https://localhost:8080/",
          "height": 419
        },
        "id": "3KJiDHPBnISn",
        "outputId": "affb87b3-67bf-479d-8ec4-6558c1d57359"
      },
      "source": [
        "kq_201318"
      ],
      "execution_count": null,
      "outputs": [
        {
          "output_type": "execute_result",
          "data": {
            "text/html": [
              "<div>\n",
              "<style scoped>\n",
              "    .dataframe tbody tr th:only-of-type {\n",
              "        vertical-align: middle;\n",
              "    }\n",
              "\n",
              "    .dataframe tbody tr th {\n",
              "        vertical-align: top;\n",
              "    }\n",
              "\n",
              "    .dataframe thead th {\n",
              "        text-align: right;\n",
              "    }\n",
              "</style>\n",
              "<table border=\"1\" class=\"dataframe\">\n",
              "  <thead>\n",
              "    <tr style=\"text-align: right;\">\n",
              "      <th></th>\n",
              "      <th>ReportType</th>\n",
              "      <th>CIK</th>\n",
              "      <th>kq_Year</th>\n",
              "      <th>kq_month</th>\n",
              "      <th>Reports</th>\n",
              "      <th>Ticker</th>\n",
              "    </tr>\n",
              "  </thead>\n",
              "  <tbody>\n",
              "    <tr>\n",
              "      <th>0</th>\n",
              "      <td>10Q</td>\n",
              "      <td>23217</td>\n",
              "      <td>2015</td>\n",
              "      <td>9</td>\n",
              "      <td>0001628280-16-010116.txt : 2016010610-Q 1 cag...</td>\n",
              "      <td>CAG</td>\n",
              "    </tr>\n",
              "    <tr>\n",
              "      <th>1</th>\n",
              "      <td>10Q</td>\n",
              "      <td>23217</td>\n",
              "      <td>2015</td>\n",
              "      <td>12</td>\n",
              "      <td>0001628280-16-014070.txt : 2016040710-Q 1 cag...</td>\n",
              "      <td>CAG</td>\n",
              "    </tr>\n",
              "    <tr>\n",
              "      <th>2</th>\n",
              "      <td>10K</td>\n",
              "      <td>23217</td>\n",
              "      <td>2016</td>\n",
              "      <td>3</td>\n",
              "      <td>0001628280-16-017613.txt : 2016071510-K 1 cag...</td>\n",
              "      <td>CAG</td>\n",
              "    </tr>\n",
              "    <tr>\n",
              "      <th>3</th>\n",
              "      <td>10Q</td>\n",
              "      <td>23217</td>\n",
              "      <td>2016</td>\n",
              "      <td>6</td>\n",
              "      <td>0001628280-16-019920.txt : 2016100410-Q 1 cag...</td>\n",
              "      <td>CAG</td>\n",
              "    </tr>\n",
              "    <tr>\n",
              "      <th>4</th>\n",
              "      <td>10Q</td>\n",
              "      <td>23217</td>\n",
              "      <td>2016</td>\n",
              "      <td>9</td>\n",
              "      <td>0001628280-17-000036.txt : 2017010410-Q 1 cag...</td>\n",
              "      <td>CAG</td>\n",
              "    </tr>\n",
              "    <tr>\n",
              "      <th>...</th>\n",
              "      <td>...</td>\n",
              "      <td>...</td>\n",
              "      <td>...</td>\n",
              "      <td>...</td>\n",
              "      <td>...</td>\n",
              "      <td>...</td>\n",
              "    </tr>\n",
              "    <tr>\n",
              "      <th>10650</th>\n",
              "      <td>10Q</td>\n",
              "      <td>1730168</td>\n",
              "      <td>2018</td>\n",
              "      <td>6</td>\n",
              "      <td>0001730168-18-000039.txt : 2018091310-Q 1 avg...</td>\n",
              "      <td>AVGO</td>\n",
              "    </tr>\n",
              "    <tr>\n",
              "      <th>10652</th>\n",
              "      <td>10K</td>\n",
              "      <td>1730168</td>\n",
              "      <td>2018</td>\n",
              "      <td>9</td>\n",
              "      <td>0001730168-18-000084.txt : 2018122110-K 1 avg...</td>\n",
              "      <td>AVGO</td>\n",
              "    </tr>\n",
              "    <tr>\n",
              "      <th>10654</th>\n",
              "      <td>10Q</td>\n",
              "      <td>1711269</td>\n",
              "      <td>2018</td>\n",
              "      <td>6</td>\n",
              "      <td>0001711269-18-000012.txt : 2018080810-Q 1 evr...</td>\n",
              "      <td>EVRG</td>\n",
              "    </tr>\n",
              "    <tr>\n",
              "      <th>10657</th>\n",
              "      <td>10Q</td>\n",
              "      <td>1711269</td>\n",
              "      <td>2018</td>\n",
              "      <td>9</td>\n",
              "      <td>0001711269-18-000022.txt : 2018110710-Q 1 evr...</td>\n",
              "      <td>EVRG</td>\n",
              "    </tr>\n",
              "    <tr>\n",
              "      <th>10660</th>\n",
              "      <td>10K</td>\n",
              "      <td>1732845</td>\n",
              "      <td>2018</td>\n",
              "      <td>9</td>\n",
              "      <td>0001564590-18-029723.txt : 2018111610-K 1 wrk...</td>\n",
              "      <td>WRK</td>\n",
              "    </tr>\n",
              "  </tbody>\n",
              "</table>\n",
              "<p>5875 rows × 6 columns</p>\n",
              "</div>"
            ],
            "text/plain": [
              "      ReportType  ...  Ticker\n",
              "0            10Q  ...     CAG\n",
              "1            10Q  ...     CAG\n",
              "2            10K  ...     CAG\n",
              "3            10Q  ...     CAG\n",
              "4            10Q  ...     CAG\n",
              "...          ...  ...     ...\n",
              "10650        10Q  ...    AVGO\n",
              "10652        10K  ...    AVGO\n",
              "10654        10Q  ...    EVRG\n",
              "10657        10Q  ...    EVRG\n",
              "10660        10K  ...     WRK\n",
              "\n",
              "[5875 rows x 6 columns]"
            ]
          },
          "metadata": {
            "tags": []
          },
          "execution_count": 33
        }
      ]
    },
    {
      "cell_type": "code",
      "metadata": {
        "colab": {
          "base_uri": "https://localhost:8080/",
          "height": 481
        },
        "id": "SYYTVVINhiiG",
        "outputId": "512e3004-675a-4067-b075-1b3f1d9d6803"
      },
      "source": [
        "kq_201318[['ReportType', 'CIK', 'kq_Year', 'kq_month', 'Reports']].groupby(['ReportType', 'CIK', 'kq_Year', 'kq_month']).agg(['count'])"
      ],
      "execution_count": null,
      "outputs": [
        {
          "output_type": "execute_result",
          "data": {
            "text/html": [
              "<div>\n",
              "<style scoped>\n",
              "    .dataframe tbody tr th:only-of-type {\n",
              "        vertical-align: middle;\n",
              "    }\n",
              "\n",
              "    .dataframe tbody tr th {\n",
              "        vertical-align: top;\n",
              "    }\n",
              "\n",
              "    .dataframe thead tr th {\n",
              "        text-align: left;\n",
              "    }\n",
              "\n",
              "    .dataframe thead tr:last-of-type th {\n",
              "        text-align: right;\n",
              "    }\n",
              "</style>\n",
              "<table border=\"1\" class=\"dataframe\">\n",
              "  <thead>\n",
              "    <tr>\n",
              "      <th></th>\n",
              "      <th></th>\n",
              "      <th></th>\n",
              "      <th></th>\n",
              "      <th>Reports</th>\n",
              "    </tr>\n",
              "    <tr>\n",
              "      <th></th>\n",
              "      <th></th>\n",
              "      <th></th>\n",
              "      <th></th>\n",
              "      <th>count</th>\n",
              "    </tr>\n",
              "    <tr>\n",
              "      <th>ReportType</th>\n",
              "      <th>CIK</th>\n",
              "      <th>kq_Year</th>\n",
              "      <th>kq_month</th>\n",
              "      <th></th>\n",
              "    </tr>\n",
              "  </thead>\n",
              "  <tbody>\n",
              "    <tr>\n",
              "      <th rowspan=\"5\" valign=\"top\">10K</th>\n",
              "      <th rowspan=\"3\" valign=\"top\">2488</th>\n",
              "      <th>2015</th>\n",
              "      <th>12</th>\n",
              "      <td>1</td>\n",
              "    </tr>\n",
              "    <tr>\n",
              "      <th>2016</th>\n",
              "      <th>12</th>\n",
              "      <td>1</td>\n",
              "    </tr>\n",
              "    <tr>\n",
              "      <th>2017</th>\n",
              "      <th>12</th>\n",
              "      <td>1</td>\n",
              "    </tr>\n",
              "    <tr>\n",
              "      <th rowspan=\"2\" valign=\"top\">2969</th>\n",
              "      <th>2016</th>\n",
              "      <th>9</th>\n",
              "      <td>1</td>\n",
              "    </tr>\n",
              "    <tr>\n",
              "      <th>2017</th>\n",
              "      <th>9</th>\n",
              "      <td>1</td>\n",
              "    </tr>\n",
              "    <tr>\n",
              "      <th>...</th>\n",
              "      <th>...</th>\n",
              "      <th>...</th>\n",
              "      <th>...</th>\n",
              "      <td>...</td>\n",
              "    </tr>\n",
              "    <tr>\n",
              "      <th rowspan=\"5\" valign=\"top\">10Q</th>\n",
              "      <th>1707925</th>\n",
              "      <th>2018</th>\n",
              "      <th>9</th>\n",
              "      <td>1</td>\n",
              "    </tr>\n",
              "    <tr>\n",
              "      <th rowspan=\"2\" valign=\"top\">1711269</th>\n",
              "      <th rowspan=\"2\" valign=\"top\">2018</th>\n",
              "      <th>6</th>\n",
              "      <td>1</td>\n",
              "    </tr>\n",
              "    <tr>\n",
              "      <th>9</th>\n",
              "      <td>1</td>\n",
              "    </tr>\n",
              "    <tr>\n",
              "      <th rowspan=\"2\" valign=\"top\">1730168</th>\n",
              "      <th rowspan=\"2\" valign=\"top\">2018</th>\n",
              "      <th>3</th>\n",
              "      <td>1</td>\n",
              "    </tr>\n",
              "    <tr>\n",
              "      <th>6</th>\n",
              "      <td>1</td>\n",
              "    </tr>\n",
              "  </tbody>\n",
              "</table>\n",
              "<p>5875 rows × 1 columns</p>\n",
              "</div>"
            ],
            "text/plain": [
              "                                    Reports\n",
              "                                      count\n",
              "ReportType CIK     kq_Year kq_month        \n",
              "10K        2488    2015    12             1\n",
              "                   2016    12             1\n",
              "                   2017    12             1\n",
              "           2969    2016    9              1\n",
              "                   2017    9              1\n",
              "...                                     ...\n",
              "10Q        1707925 2018    9              1\n",
              "           1711269 2018    6              1\n",
              "                           9              1\n",
              "           1730168 2018    3              1\n",
              "                           6              1\n",
              "\n",
              "[5875 rows x 1 columns]"
            ]
          },
          "metadata": {
            "tags": []
          },
          "execution_count": 34
        }
      ]
    },
    {
      "cell_type": "code",
      "metadata": {
        "colab": {
          "base_uri": "https://localhost:8080/"
        },
        "id": "Gj2E2KMcBhLf",
        "outputId": "4567d7b9-227c-4d7a-ca09-c8a7d2d93a90"
      },
      "source": [
        "test_20162018_10Q_MS = kq_201618[kq_201618.ReportType.isin(['10Q'])][kq_201618.CIK == 789019]\n",
        "assert len(test_20162018_10Q_MS[test_20162018_10Q_MS.duplicated(['CIK', 'kq_Year', 'kq_month'])]) == 0, \"10Q Report for MSFT should be just one quarterly\""
      ],
      "execution_count": null,
      "outputs": [
        {
          "output_type": "stream",
          "text": [
            "/usr/local/lib/python3.7/dist-packages/ipykernel_launcher.py:1: UserWarning: Boolean Series key will be reindexed to match DataFrame index.\n",
            "  \"\"\"Entry point for launching an IPython kernel.\n"
          ],
          "name": "stderr"
        }
      ]
    },
    {
      "cell_type": "code",
      "metadata": {
        "colab": {
          "base_uri": "https://localhost:8080/"
        },
        "id": "47rXrLIiqcZs",
        "outputId": "c5bff5d7-725f-4297-b269-6d4114084ed7"
      },
      "source": [
        "test_20132015_10Q_MS = kq_201315[kq_201315.ReportType.isin(['10Q'])][kq_201315.CIK == 789019]\n",
        "assert len(test_20132015_10Q_MS[test_20132015_10Q_MS.duplicated(['CIK', 'kq_Year', 'kq_month'])]) == 0, \"10Q Report for MSFT should be just one quarterly\""
      ],
      "execution_count": null,
      "outputs": [
        {
          "output_type": "stream",
          "text": [
            "/usr/local/lib/python3.7/dist-packages/ipykernel_launcher.py:1: UserWarning: Boolean Series key will be reindexed to match DataFrame index.\n",
            "  \"\"\"Entry point for launching an IPython kernel.\n"
          ],
          "name": "stderr"
        }
      ]
    },
    {
      "cell_type": "code",
      "metadata": {
        "id": "flnYYhSjq9c6"
      },
      "source": [
        "test_20162018_10Q = kq_201618[kq_201618.ReportType.isin(['10Q'])]\n",
        "assert len(test_20162018_10Q[test_20162018_10Q.duplicated(['CIK', 'kq_Year', 'kq_month'])]) == 0, \"10Q Report for every company should be just one quarterly\""
      ],
      "execution_count": null,
      "outputs": []
    },
    {
      "cell_type": "code",
      "metadata": {
        "id": "zG4KTzhnnOfZ"
      },
      "source": [
        "test_20132015_10Q = kq_201315[kq_201315.ReportType.isin(['10Q'])]\n",
        "assert len(test_20132015_10Q_MS[test_20132015_10Q_MS.duplicated(['CIK', 'kq_Year', 'kq_month'])]) == 0, \"10Q Report for every company should be just one quarterly\""
      ],
      "execution_count": null,
      "outputs": []
    },
    {
      "cell_type": "markdown",
      "metadata": {
        "id": "ven0F3NgsUcP"
      },
      "source": [
        "Clean up temporary data"
      ]
    },
    {
      "cell_type": "code",
      "metadata": {
        "id": "q-iHN5DS3qxW"
      },
      "source": [
        "!rm -rf \"/content/2016\" & rm -rf \"/content/2017\" & rm -rf \"/content/2018\""
      ],
      "execution_count": null,
      "outputs": []
    },
    {
      "cell_type": "code",
      "metadata": {
        "id": "V1MwerMB1fi_"
      },
      "source": [
        "!rm -rf \"/content/2011\" & rm -rf \"/content/2012\" & rm -rf \"/content/2013\" & rm -rf \"/content/2014\" & rm -rf \"/content/2015\""
      ],
      "execution_count": null,
      "outputs": []
    },
    {
      "cell_type": "code",
      "metadata": {
        "id": "I0OmilSqOGgi"
      },
      "source": [
        "frames = [kq_201315, kq_201618]\n",
        "res_df = pd.concat(frames)"
      ],
      "execution_count": null,
      "outputs": []
    },
    {
      "cell_type": "code",
      "metadata": {
        "id": "VwI0S2FMsL8N"
      },
      "source": [
        "res_df.to_csv(\"final_kq_reports_without_earning_calls.csv\")"
      ],
      "execution_count": null,
      "outputs": []
    },
    {
      "cell_type": "markdown",
      "metadata": {
        "id": "6wm8LeI3jd7A"
      },
      "source": [
        "#Read 10K and 10Q report table without earning calls:"
      ]
    },
    {
      "cell_type": "code",
      "metadata": {
        "id": "grtU7AdZsBvf"
      },
      "source": [
        "res_df = pd.read_csv(\"gs://esgbert_resourses/raw_data/final_kq_reports_without_earning_calls.csv\")"
      ],
      "execution_count": null,
      "outputs": []
    },
    {
      "cell_type": "code",
      "metadata": {
        "id": "uvqRHacEig_9"
      },
      "source": [
        "res_df_10K = res_df[res_df.ReportType.isin(['10K'])]"
      ],
      "execution_count": null,
      "outputs": []
    },
    {
      "cell_type": "markdown",
      "metadata": {
        "id": "c1Zg_G1aYL6s"
      },
      "source": [
        "# Finalize final result table:"
      ]
    },
    {
      "cell_type": "code",
      "metadata": {
        "id": "Y4nAyj-2G917",
        "colab": {
          "base_uri": "https://localhost:8080/"
        },
        "outputId": "ef7d5bd9-7f55-484b-d44a-154e4efc63fb"
      },
      "source": [
        "res_df_10K['CIK'] = res_df_10K['CIK'].astype(str)"
      ],
      "execution_count": null,
      "outputs": [
        {
          "output_type": "stream",
          "text": [
            "/usr/local/lib/python3.7/dist-packages/ipykernel_launcher.py:1: SettingWithCopyWarning: \n",
            "A value is trying to be set on a copy of a slice from a DataFrame.\n",
            "Try using .loc[row_indexer,col_indexer] = value instead\n",
            "\n",
            "See the caveats in the documentation: https://pandas.pydata.org/pandas-docs/stable/user_guide/indexing.html#returning-a-view-versus-a-copy\n",
            "  \"\"\"Entry point for launching an IPython kernel.\n"
          ],
          "name": "stderr"
        }
      ]
    },
    {
      "cell_type": "code",
      "metadata": {
        "id": "GbuOp63cGsz6"
      },
      "source": [
        "reports_res_table['CIK'] = reports_res_table['CIK'].astype(str)"
      ],
      "execution_count": null,
      "outputs": []
    },
    {
      "cell_type": "code",
      "metadata": {
        "id": "Vq1e4ODvGACU"
      },
      "source": [
        "new_df = pd.merge(reports_res_table, res_df_10K,  how='left', left_on=['CIK','year', 'month'], right_on = ['CIK','kq_Year', 'kq_month'])"
      ],
      "execution_count": null,
      "outputs": []
    },
    {
      "cell_type": "code",
      "metadata": {
        "id": "K14f_3kWHl3c"
      },
      "source": [
        "new_df = new_df[new_df['ReportType'].notna()]"
      ],
      "execution_count": null,
      "outputs": []
    },
    {
      "cell_type": "code",
      "metadata": {
        "id": "-tS-fajoHOec"
      },
      "source": [
        "new_df=new_df.drop_duplicates(subset=['ReportType', 'CIK', 'kq_Year', 'kq_month', 'total_esg_score'])"
      ],
      "execution_count": null,
      "outputs": []
    },
    {
      "cell_type": "code",
      "metadata": {
        "colab": {
          "base_uri": "https://localhost:8080/"
        },
        "id": "tsfLOzF9IKeh",
        "outputId": "0027ac26-3ed9-4227-b0f6-f808bd91dfdc"
      },
      "source": [
        "new_df.columns"
      ],
      "execution_count": null,
      "outputs": [
        {
          "output_type": "execute_result",
          "data": {
            "text/plain": [
              "Index(['CIK', 'date', 'ticker_univ', 'total_esg_score',\n",
              "       'total_esg_score_quarter_change_pure',\n",
              "       'total_esg_score_quarter_change_pct',\n",
              "       'governance_score_quarter_change_pure',\n",
              "       'governance_score_quarter_change_pct',\n",
              "       'social_score_quarter_change_pure', 'social_score_quarter_change_pct',\n",
              "       'environment_score_quarter_change_pure',\n",
              "       'environment_score_quarter_change_pct', 'quarter', 'year', 'month',\n",
              "       'Unnamed: 0', 'ReportType', 'kq_Year', 'kq_month', 'Reports', 'Ticker'],\n",
              "      dtype='object')"
            ]
          },
          "metadata": {
            "tags": []
          },
          "execution_count": 60
        }
      ]
    },
    {
      "cell_type": "code",
      "metadata": {
        "id": "JpPift3PIhBP"
      },
      "source": [
        "new_df = new_df[['CIK', 'date', 'total_esg_score', 'total_esg_score_quarter_change_pure', 'total_esg_score_quarter_change_pct', 'governance_score_quarter_change_pure',\n",
        "       'governance_score_quarter_change_pct', 'social_score_quarter_change_pure', 'social_score_quarter_change_pct', 'environment_score_quarter_change_pure',\n",
        "       'environment_score_quarter_change_pct', 'quarter', 'year', 'month', 'ReportType', 'Reports']].drop_duplicates()"
      ],
      "execution_count": null,
      "outputs": []
    },
    {
      "cell_type": "code",
      "metadata": {
        "id": "PRwFipHbJ2KF"
      },
      "source": [
        "new_df = new_df.drop_duplicates(subset=['ReportType', 'CIK', 'year', 'month'])"
      ],
      "execution_count": null,
      "outputs": []
    },
    {
      "cell_type": "code",
      "metadata": {
        "colab": {
          "base_uri": "https://localhost:8080/",
          "height": 481
        },
        "id": "HBnSZ4YRJEhM",
        "outputId": "628507b5-2131-4cf7-9efc-6e27e69d3d5a"
      },
      "source": [
        "new_df[['ReportType', 'CIK', 'year', 'month', 'Reports']].groupby(['ReportType', 'CIK', 'year', 'month']).agg(['count'])"
      ],
      "execution_count": null,
      "outputs": [
        {
          "output_type": "execute_result",
          "data": {
            "text/html": [
              "<div>\n",
              "<style scoped>\n",
              "    .dataframe tbody tr th:only-of-type {\n",
              "        vertical-align: middle;\n",
              "    }\n",
              "\n",
              "    .dataframe tbody tr th {\n",
              "        vertical-align: top;\n",
              "    }\n",
              "\n",
              "    .dataframe thead tr th {\n",
              "        text-align: left;\n",
              "    }\n",
              "\n",
              "    .dataframe thead tr:last-of-type th {\n",
              "        text-align: right;\n",
              "    }\n",
              "</style>\n",
              "<table border=\"1\" class=\"dataframe\">\n",
              "  <thead>\n",
              "    <tr>\n",
              "      <th></th>\n",
              "      <th></th>\n",
              "      <th></th>\n",
              "      <th></th>\n",
              "      <th>Reports</th>\n",
              "    </tr>\n",
              "    <tr>\n",
              "      <th></th>\n",
              "      <th></th>\n",
              "      <th></th>\n",
              "      <th></th>\n",
              "      <th>count</th>\n",
              "    </tr>\n",
              "    <tr>\n",
              "      <th>ReportType</th>\n",
              "      <th>CIK</th>\n",
              "      <th>year</th>\n",
              "      <th>month</th>\n",
              "      <th></th>\n",
              "    </tr>\n",
              "  </thead>\n",
              "  <tbody>\n",
              "    <tr>\n",
              "      <th rowspan=\"11\" valign=\"top\">10K</th>\n",
              "      <th rowspan=\"3\" valign=\"top\">1000228</th>\n",
              "      <th>2015</th>\n",
              "      <th>12</th>\n",
              "      <td>1</td>\n",
              "    </tr>\n",
              "    <tr>\n",
              "      <th>2016</th>\n",
              "      <th>12</th>\n",
              "      <td>1</td>\n",
              "    </tr>\n",
              "    <tr>\n",
              "      <th>2017</th>\n",
              "      <th>12</th>\n",
              "      <td>1</td>\n",
              "    </tr>\n",
              "    <tr>\n",
              "      <th rowspan=\"2\" valign=\"top\">1000697</th>\n",
              "      <th>2013</th>\n",
              "      <th>12</th>\n",
              "      <td>1</td>\n",
              "    </tr>\n",
              "    <tr>\n",
              "      <th>2014</th>\n",
              "      <th>12</th>\n",
              "      <td>1</td>\n",
              "    </tr>\n",
              "    <tr>\n",
              "      <th>...</th>\n",
              "      <th>...</th>\n",
              "      <th>...</th>\n",
              "      <td>...</td>\n",
              "    </tr>\n",
              "    <tr>\n",
              "      <th rowspan=\"5\" valign=\"top\">98246</th>\n",
              "      <th>2013</th>\n",
              "      <th>12</th>\n",
              "      <td>1</td>\n",
              "    </tr>\n",
              "    <tr>\n",
              "      <th>2014</th>\n",
              "      <th>12</th>\n",
              "      <td>1</td>\n",
              "    </tr>\n",
              "    <tr>\n",
              "      <th>2015</th>\n",
              "      <th>12</th>\n",
              "      <td>1</td>\n",
              "    </tr>\n",
              "    <tr>\n",
              "      <th>2016</th>\n",
              "      <th>12</th>\n",
              "      <td>1</td>\n",
              "    </tr>\n",
              "    <tr>\n",
              "      <th>2017</th>\n",
              "      <th>12</th>\n",
              "      <td>1</td>\n",
              "    </tr>\n",
              "  </tbody>\n",
              "</table>\n",
              "<p>1824 rows × 1 columns</p>\n",
              "</div>"
            ],
            "text/plain": [
              "                              Reports\n",
              "                                count\n",
              "ReportType CIK     year month        \n",
              "10K        1000228 2015 12          1\n",
              "                   2016 12          1\n",
              "                   2017 12          1\n",
              "           1000697 2013 12          1\n",
              "                   2014 12          1\n",
              "...                               ...\n",
              "           98246   2013 12          1\n",
              "                   2014 12          1\n",
              "                   2015 12          1\n",
              "                   2016 12          1\n",
              "                   2017 12          1\n",
              "\n",
              "[1824 rows x 1 columns]"
            ]
          },
          "metadata": {
            "tags": []
          },
          "execution_count": 51
        }
      ]
    },
    {
      "cell_type": "code",
      "metadata": {
        "id": "nlkaJSEyKt2T"
      },
      "source": [
        "test_new_df_ms = new_df[new_df.ReportType.isin(['10K'])][new_df.CIK == '789019']\n",
        "assert len(test_new_df_ms[test_new_df_ms.duplicated(['CIK', 'year', 'month'])]) == 0, \"10Q Report for MSFT should be just one quarterly\""
      ],
      "execution_count": null,
      "outputs": []
    },
    {
      "cell_type": "code",
      "metadata": {
        "id": "BEerVAD1K-xy"
      },
      "source": [
        "test_new_df = new_df[new_df.ReportType.isin(['10K'])]\n",
        "assert len(test_new_df[test_new_df.duplicated(['CIK', 'year', 'month'])]) == 0, \"10Q Report for every company should be just one quarterly\""
      ],
      "execution_count": null,
      "outputs": []
    },
    {
      "cell_type": "code",
      "metadata": {
        "id": "M74o2vpvaThv"
      },
      "source": [
        "#res_df['CIK'] = res_df.CIK.astype(str)\n",
        "#final_res_table_sorted = final_res_table.copy().sort_values(by=['date', 'CIK'])\n",
        "#res_df_sorted = res_df.copy().sort_values(by=['Report Date', 'CIK'])\n",
        "#res_df_sorted.rename(columns={'Report Date': 'date'}, inplace=True)\n",
        "#res_df_sorted.date = pd.to_datetime(res_df_sorted.date)\n",
        "#final_res_table_sorted.date = pd.to_datetime(final_res_table_sorted.date)\n",
        "#merged_table = pd.merge_asof(final_res_table_sorted, res_df_sorted, on='date', by='CIK', direction='nearest')\n",
        "#merged_table"
      ],
      "execution_count": null,
      "outputs": []
    },
    {
      "cell_type": "markdown",
      "metadata": {
        "id": "MrFVT0kFFRhI"
      },
      "source": [
        "Number of 10Q report whose total_esg_score is not null: 5980"
      ]
    },
    {
      "cell_type": "code",
      "metadata": {
        "colab": {
          "base_uri": "https://localhost:8080/"
        },
        "id": "zjzCQE53L2YT",
        "outputId": "c1f2e5ae-07cb-4866-a6ad-c7ef0d73504f"
      },
      "source": [
        "new_df_10Q = new_df[new_df['ReportType'] == '10Q']\n",
        "new_df_10Q = new_df_10Q[new_df_10Q.total_esg_score.notna()]\n",
        "len(new_df_10Q)"
      ],
      "execution_count": null,
      "outputs": [
        {
          "output_type": "execute_result",
          "data": {
            "text/plain": [
              "5980"
            ]
          },
          "metadata": {
            "tags": []
          },
          "execution_count": 185
        }
      ]
    },
    {
      "cell_type": "code",
      "metadata": {
        "id": "_B5VvUItN6sJ"
      },
      "source": [
        "#new_df_10Q.to_csv(\"final_10Q_reports_with_score_without_sorted_sen.csv\")"
      ],
      "execution_count": null,
      "outputs": []
    },
    {
      "cell_type": "code",
      "metadata": {
        "id": "YrkoIBl4mQvS"
      },
      "source": [
        "#new_df_10K.to_csv(\"final_10K_reports_with_score_without_sorted_sen.csv\")"
      ],
      "execution_count": null,
      "outputs": []
    },
    {
      "cell_type": "code",
      "metadata": {
        "colab": {
          "base_uri": "https://localhost:8080/"
        },
        "id": "n6-Z39kuNJEI",
        "outputId": "fb55151a-09e1-4b3d-bf31-9ef1464e1b04"
      },
      "source": [
        "#!gsutil cp \"final_10Q_reports_with_score_without_sorted_sen.csv\" gs://esgbert_resourses/raw_data/"
      ],
      "execution_count": null,
      "outputs": [
        {
          "output_type": "stream",
          "text": [
            "Copying file://final_10K_reports_with_score_without_sorted_sen.csv [Content-Type=text/csv]...\n",
            "/ [0 files][    0.0 B/666.5 MiB]                                                \r==> NOTE: You are uploading one or more large file(s), which would run\n",
            "significantly faster if you enable parallel composite uploads. This\n",
            "feature can be enabled by editing the\n",
            "\"parallel_composite_upload_threshold\" value in your .boto\n",
            "configuration file. However, note that if you do this large files will\n",
            "be uploaded as `composite objects\n",
            "<https://cloud.google.com/storage/docs/composite-objects>`_,which\n",
            "means that any user who downloads such objects will need to have a\n",
            "compiled crcmod installed (see \"gsutil help crcmod\"). This is because\n",
            "without a compiled crcmod, computing checksums on composite objects is\n",
            "so slow that gsutil disables downloads of composite objects.\n",
            "\n",
            "|\n",
            "Operation completed over 1 objects/666.5 MiB.                                    \n"
          ],
          "name": "stdout"
        }
      ]
    },
    {
      "cell_type": "markdown",
      "metadata": {
        "id": "nmH01EgMRoJA"
      },
      "source": [
        "Number of 10K report whose total_esg_score_quarter_change_pct is not null: 1824"
      ]
    },
    {
      "cell_type": "code",
      "metadata": {
        "colab": {
          "base_uri": "https://localhost:8080/"
        },
        "id": "lT9a8jeIM1kI",
        "outputId": "a0e0a1e4-97ae-4b9e-b47b-f06963cc33eb"
      },
      "source": [
        "new_df_10K = new_df[new_df['ReportType'] == '10K']\n",
        "new_df_10K = new_df_10K[new_df_10K.total_esg_score.notna()]\n",
        "len(new_df_10K)"
      ],
      "execution_count": null,
      "outputs": [
        {
          "output_type": "execute_result",
          "data": {
            "text/plain": [
              "1824"
            ]
          },
          "metadata": {
            "tags": []
          },
          "execution_count": 52
        }
      ]
    },
    {
      "cell_type": "code",
      "metadata": {
        "id": "uG-3LPp_OQI1"
      },
      "source": [
        "#new_df_10K.to_csv(\"final_10K_reports_with_score_without_sorted_sen.csv\")"
      ],
      "execution_count": null,
      "outputs": []
    },
    {
      "cell_type": "code",
      "metadata": {
        "colab": {
          "base_uri": "https://localhost:8080/"
        },
        "id": "FZaXK0voOaZg",
        "outputId": "51890c47-54bd-41ad-bac5-11a47a34e022"
      },
      "source": [
        "#!gsutil cp \"final_10K_reports_with_score_without_sorted_sen.csv\" gs://esgbert_resourses/raw_data/"
      ],
      "execution_count": null,
      "outputs": [
        {
          "output_type": "stream",
          "text": [
            "Copying file://final_10K_reports_with_score_without_sorted_sen.csv [Content-Type=text/csv]...\n",
            "/ [0 files][    0.0 B/666.5 MiB]                                                \r==> NOTE: You are uploading one or more large file(s), which would run\n",
            "significantly faster if you enable parallel composite uploads. This\n",
            "feature can be enabled by editing the\n",
            "\"parallel_composite_upload_threshold\" value in your .boto\n",
            "configuration file. However, note that if you do this large files will\n",
            "be uploaded as `composite objects\n",
            "<https://cloud.google.com/storage/docs/composite-objects>`_,which\n",
            "means that any user who downloads such objects will need to have a\n",
            "compiled crcmod installed (see \"gsutil help crcmod\"). This is because\n",
            "without a compiled crcmod, computing checksums on composite objects is\n",
            "so slow that gsutil disables downloads of composite objects.\n",
            "\n",
            "\\ [1 files][666.5 MiB/666.5 MiB]                                                \n",
            "Operation completed over 1 objects/666.5 MiB.                                    \n"
          ],
          "name": "stdout"
        }
      ]
    },
    {
      "cell_type": "markdown",
      "metadata": {
        "id": "7IQ4FLuML8dM"
      },
      "source": [
        "#Test:"
      ]
    },
    {
      "cell_type": "code",
      "metadata": {
        "id": "9qcr438bOhDL"
      },
      "source": [
        "#read_10q_df = pd.read_csv(\"gs://esgbert_resourses/raw_data/final_10Q_reports_with_score_without_sorted_sen.csv\")\n",
        "read_10k_df = pd.read_csv(\"gs://esgbert_resourses/raw_data/final_10K_reports_with_score_without_sorted_sen.csv\")"
      ],
      "execution_count": null,
      "outputs": []
    },
    {
      "cell_type": "markdown",
      "metadata": {
        "id": "DX3NWFmPMkCb"
      },
      "source": [
        "Count of 10k and 10q reports per quarter:"
      ]
    },
    {
      "cell_type": "code",
      "metadata": {
        "colab": {
          "base_uri": "https://localhost:8080/",
          "height": 481
        },
        "id": "w4Pa3icEnMWZ",
        "outputId": "03ccaae5-3a78-4a29-fa72-4537e7ddb464"
      },
      "source": [
        "read_10k_df[['ReportType', 'CIK', 'year', 'month', 'Reports']].groupby(['ReportType', 'CIK', 'year', 'month']).agg(['count'])"
      ],
      "execution_count": null,
      "outputs": [
        {
          "output_type": "execute_result",
          "data": {
            "text/html": [
              "<div>\n",
              "<style scoped>\n",
              "    .dataframe tbody tr th:only-of-type {\n",
              "        vertical-align: middle;\n",
              "    }\n",
              "\n",
              "    .dataframe tbody tr th {\n",
              "        vertical-align: top;\n",
              "    }\n",
              "\n",
              "    .dataframe thead tr th {\n",
              "        text-align: left;\n",
              "    }\n",
              "\n",
              "    .dataframe thead tr:last-of-type th {\n",
              "        text-align: right;\n",
              "    }\n",
              "</style>\n",
              "<table border=\"1\" class=\"dataframe\">\n",
              "  <thead>\n",
              "    <tr>\n",
              "      <th></th>\n",
              "      <th></th>\n",
              "      <th></th>\n",
              "      <th></th>\n",
              "      <th>Reports</th>\n",
              "    </tr>\n",
              "    <tr>\n",
              "      <th></th>\n",
              "      <th></th>\n",
              "      <th></th>\n",
              "      <th></th>\n",
              "      <th>count</th>\n",
              "    </tr>\n",
              "    <tr>\n",
              "      <th>ReportType</th>\n",
              "      <th>CIK</th>\n",
              "      <th>year</th>\n",
              "      <th>month</th>\n",
              "      <th></th>\n",
              "    </tr>\n",
              "  </thead>\n",
              "  <tbody>\n",
              "    <tr>\n",
              "      <th rowspan=\"11\" valign=\"top\">10K</th>\n",
              "      <th>2488</th>\n",
              "      <th>2017</th>\n",
              "      <th>12</th>\n",
              "      <td>1</td>\n",
              "    </tr>\n",
              "    <tr>\n",
              "      <th rowspan=\"4\" valign=\"top\">2969</th>\n",
              "      <th>2013</th>\n",
              "      <th>9</th>\n",
              "      <td>1</td>\n",
              "    </tr>\n",
              "    <tr>\n",
              "      <th>2014</th>\n",
              "      <th>9</th>\n",
              "      <td>1</td>\n",
              "    </tr>\n",
              "    <tr>\n",
              "      <th>2015</th>\n",
              "      <th>9</th>\n",
              "      <td>1</td>\n",
              "    </tr>\n",
              "    <tr>\n",
              "      <th>2016</th>\n",
              "      <th>9</th>\n",
              "      <td>1</td>\n",
              "    </tr>\n",
              "    <tr>\n",
              "      <th>...</th>\n",
              "      <th>...</th>\n",
              "      <th>...</th>\n",
              "      <td>...</td>\n",
              "    </tr>\n",
              "    <tr>\n",
              "      <th rowspan=\"2\" valign=\"top\">1652044</th>\n",
              "      <th>2016</th>\n",
              "      <th>12</th>\n",
              "      <td>1</td>\n",
              "    </tr>\n",
              "    <tr>\n",
              "      <th>2017</th>\n",
              "      <th>12</th>\n",
              "      <td>1</td>\n",
              "    </tr>\n",
              "    <tr>\n",
              "      <th>1659166</th>\n",
              "      <th>2017</th>\n",
              "      <th>12</th>\n",
              "      <td>1</td>\n",
              "    </tr>\n",
              "    <tr>\n",
              "      <th>1681459</th>\n",
              "      <th>2017</th>\n",
              "      <th>12</th>\n",
              "      <td>1</td>\n",
              "    </tr>\n",
              "    <tr>\n",
              "      <th>1688568</th>\n",
              "      <th>2018</th>\n",
              "      <th>3</th>\n",
              "      <td>1</td>\n",
              "    </tr>\n",
              "  </tbody>\n",
              "</table>\n",
              "<p>1824 rows × 1 columns</p>\n",
              "</div>"
            ],
            "text/plain": [
              "                              Reports\n",
              "                                count\n",
              "ReportType CIK     year month        \n",
              "10K        2488    2017 12          1\n",
              "           2969    2013 9           1\n",
              "                   2014 9           1\n",
              "                   2015 9           1\n",
              "                   2016 9           1\n",
              "...                               ...\n",
              "           1652044 2016 12          1\n",
              "                   2017 12          1\n",
              "           1659166 2017 12          1\n",
              "           1681459 2017 12          1\n",
              "           1688568 2018 3           1\n",
              "\n",
              "[1824 rows x 1 columns]"
            ]
          },
          "metadata": {
            "tags": []
          },
          "execution_count": 71
        }
      ]
    },
    {
      "cell_type": "code",
      "metadata": {
        "colab": {
          "base_uri": "https://localhost:8080/",
          "height": 481
        },
        "id": "UxTgxZV_P_Jy",
        "outputId": "4503ea82-d5f5-49ba-9487-314e70c197b8"
      },
      "source": [
        "read_10q_df[['ReportType', 'CIK', 'year', 'month', 'Reports']].groupby(['ReportType', 'CIK', 'year', 'month']).agg(['count'])"
      ],
      "execution_count": null,
      "outputs": [
        {
          "output_type": "execute_result",
          "data": {
            "text/html": [
              "<div>\n",
              "<style scoped>\n",
              "    .dataframe tbody tr th:only-of-type {\n",
              "        vertical-align: middle;\n",
              "    }\n",
              "\n",
              "    .dataframe tbody tr th {\n",
              "        vertical-align: top;\n",
              "    }\n",
              "\n",
              "    .dataframe thead tr th {\n",
              "        text-align: left;\n",
              "    }\n",
              "\n",
              "    .dataframe thead tr:last-of-type th {\n",
              "        text-align: right;\n",
              "    }\n",
              "</style>\n",
              "<table border=\"1\" class=\"dataframe\">\n",
              "  <thead>\n",
              "    <tr>\n",
              "      <th></th>\n",
              "      <th></th>\n",
              "      <th></th>\n",
              "      <th></th>\n",
              "      <th>Reports</th>\n",
              "    </tr>\n",
              "    <tr>\n",
              "      <th></th>\n",
              "      <th></th>\n",
              "      <th></th>\n",
              "      <th></th>\n",
              "      <th>count</th>\n",
              "    </tr>\n",
              "    <tr>\n",
              "      <th>ReportType</th>\n",
              "      <th>CIK</th>\n",
              "      <th>year</th>\n",
              "      <th>month</th>\n",
              "      <th></th>\n",
              "    </tr>\n",
              "  </thead>\n",
              "  <tbody>\n",
              "    <tr>\n",
              "      <th rowspan=\"11\" valign=\"top\">10Q</th>\n",
              "      <th rowspan=\"4\" valign=\"top\">2488</th>\n",
              "      <th rowspan=\"2\" valign=\"top\">2013</th>\n",
              "      <th>3</th>\n",
              "      <td>1</td>\n",
              "    </tr>\n",
              "    <tr>\n",
              "      <th>6</th>\n",
              "      <td>1</td>\n",
              "    </tr>\n",
              "    <tr>\n",
              "      <th rowspan=\"2\" valign=\"top\">2018</th>\n",
              "      <th>3</th>\n",
              "      <td>1</td>\n",
              "    </tr>\n",
              "    <tr>\n",
              "      <th>6</th>\n",
              "      <td>1</td>\n",
              "    </tr>\n",
              "    <tr>\n",
              "      <th>2969</th>\n",
              "      <th>2013</th>\n",
              "      <th>3</th>\n",
              "      <td>1</td>\n",
              "    </tr>\n",
              "    <tr>\n",
              "      <th>...</th>\n",
              "      <th>...</th>\n",
              "      <th>...</th>\n",
              "      <td>...</td>\n",
              "    </tr>\n",
              "    <tr>\n",
              "      <th rowspan=\"3\" valign=\"top\">1688568</th>\n",
              "      <th>2017</th>\n",
              "      <th>12</th>\n",
              "      <td>1</td>\n",
              "    </tr>\n",
              "    <tr>\n",
              "      <th rowspan=\"2\" valign=\"top\">2018</th>\n",
              "      <th>6</th>\n",
              "      <td>1</td>\n",
              "    </tr>\n",
              "    <tr>\n",
              "      <th>9</th>\n",
              "      <td>1</td>\n",
              "    </tr>\n",
              "    <tr>\n",
              "      <th rowspan=\"2\" valign=\"top\">1730168</th>\n",
              "      <th rowspan=\"2\" valign=\"top\">2018</th>\n",
              "      <th>3</th>\n",
              "      <td>1</td>\n",
              "    </tr>\n",
              "    <tr>\n",
              "      <th>6</th>\n",
              "      <td>1</td>\n",
              "    </tr>\n",
              "  </tbody>\n",
              "</table>\n",
              "<p>5980 rows × 1 columns</p>\n",
              "</div>"
            ],
            "text/plain": [
              "                              Reports\n",
              "                                count\n",
              "ReportType CIK     year month        \n",
              "10Q        2488    2013 3           1\n",
              "                        6           1\n",
              "                   2018 3           1\n",
              "                        6           1\n",
              "           2969    2013 3           1\n",
              "...                               ...\n",
              "           1688568 2017 12          1\n",
              "                   2018 6           1\n",
              "                        9           1\n",
              "           1730168 2018 3           1\n",
              "                        6           1\n",
              "\n",
              "[5980 rows x 1 columns]"
            ]
          },
          "metadata": {
            "tags": []
          },
          "execution_count": 201
        }
      ]
    },
    {
      "cell_type": "code",
      "metadata": {
        "colab": {
          "base_uri": "https://localhost:8080/",
          "height": 297
        },
        "id": "m97I7q4VnvvC",
        "outputId": "fd849bee-e1aa-477e-eecb-1e04733889e6"
      },
      "source": [
        "ms_10k_df = read_10k_df[read_10k_df['CIK'].isin(['789019'])]\n",
        "ms_10k_df[['ReportType', 'CIK', 'year', 'month', 'Reports']].groupby(['ReportType', 'CIK', 'year', 'month']).agg(['count'])"
      ],
      "execution_count": null,
      "outputs": [
        {
          "output_type": "execute_result",
          "data": {
            "text/html": [
              "<div>\n",
              "<style scoped>\n",
              "    .dataframe tbody tr th:only-of-type {\n",
              "        vertical-align: middle;\n",
              "    }\n",
              "\n",
              "    .dataframe tbody tr th {\n",
              "        vertical-align: top;\n",
              "    }\n",
              "\n",
              "    .dataframe thead tr th {\n",
              "        text-align: left;\n",
              "    }\n",
              "\n",
              "    .dataframe thead tr:last-of-type th {\n",
              "        text-align: right;\n",
              "    }\n",
              "</style>\n",
              "<table border=\"1\" class=\"dataframe\">\n",
              "  <thead>\n",
              "    <tr>\n",
              "      <th></th>\n",
              "      <th></th>\n",
              "      <th></th>\n",
              "      <th></th>\n",
              "      <th>Reports</th>\n",
              "    </tr>\n",
              "    <tr>\n",
              "      <th></th>\n",
              "      <th></th>\n",
              "      <th></th>\n",
              "      <th></th>\n",
              "      <th>count</th>\n",
              "    </tr>\n",
              "    <tr>\n",
              "      <th>ReportType</th>\n",
              "      <th>CIK</th>\n",
              "      <th>year</th>\n",
              "      <th>month</th>\n",
              "      <th></th>\n",
              "    </tr>\n",
              "  </thead>\n",
              "  <tbody>\n",
              "    <tr>\n",
              "      <th rowspan=\"6\" valign=\"top\">10K</th>\n",
              "      <th rowspan=\"6\" valign=\"top\">789019</th>\n",
              "      <th>2013</th>\n",
              "      <th>6</th>\n",
              "      <td>1</td>\n",
              "    </tr>\n",
              "    <tr>\n",
              "      <th>2014</th>\n",
              "      <th>6</th>\n",
              "      <td>1</td>\n",
              "    </tr>\n",
              "    <tr>\n",
              "      <th>2015</th>\n",
              "      <th>6</th>\n",
              "      <td>1</td>\n",
              "    </tr>\n",
              "    <tr>\n",
              "      <th>2016</th>\n",
              "      <th>6</th>\n",
              "      <td>1</td>\n",
              "    </tr>\n",
              "    <tr>\n",
              "      <th>2017</th>\n",
              "      <th>6</th>\n",
              "      <td>1</td>\n",
              "    </tr>\n",
              "    <tr>\n",
              "      <th>2018</th>\n",
              "      <th>6</th>\n",
              "      <td>1</td>\n",
              "    </tr>\n",
              "  </tbody>\n",
              "</table>\n",
              "</div>"
            ],
            "text/plain": [
              "                             Reports\n",
              "                               count\n",
              "ReportType CIK    year month        \n",
              "10K        789019 2013 6           1\n",
              "                  2014 6           1\n",
              "                  2015 6           1\n",
              "                  2016 6           1\n",
              "                  2017 6           1\n",
              "                  2018 6           1"
            ]
          },
          "metadata": {
            "tags": []
          },
          "execution_count": 54
        }
      ]
    },
    {
      "cell_type": "code",
      "metadata": {
        "id": "odOZGHiJi-Ru"
      },
      "source": [
        "reports_res_table = reports_res_table[reports_res_table['month'].isin([3, 6, 9, 12])]"
      ],
      "execution_count": null,
      "outputs": []
    },
    {
      "cell_type": "code",
      "metadata": {
        "id": "mZSim-TyALKz"
      },
      "source": [
        "sorted_reports_res_table = reports_res_table[reports_res_table['CIK'] != 'nan'].sort_values(by=['CIK', 'year', 'month'])"
      ],
      "execution_count": null,
      "outputs": []
    },
    {
      "cell_type": "code",
      "metadata": {
        "id": "9BzTfXEfjX_y"
      },
      "source": [
        "sorted_reports_res_table = sorted_reports_res_table.drop_duplicates(subset=['CIK', 'year', 'month'], keep='last')"
      ],
      "execution_count": null,
      "outputs": []
    },
    {
      "cell_type": "code",
      "metadata": {
        "id": "atUx-41Z-hEF"
      },
      "source": [
        "end_idx_res_table = len(sorted_reports_res_table.index)\n",
        "\n",
        "governance_score_quarter_change_pure_10k = [0]\n",
        "social_score_quarter_change_pure_10k = [0]\n",
        "environment_score_quarter_change_pure_10k = [0]\n",
        "\n",
        "for i in range(1, end_idx_res_table, 1):\n",
        "  if sorted_reports_res_table.iloc[i]['CIK'] == sorted_reports_res_table.iloc[i-1]['CIK']:\n",
        "    governance_score_quarter_change_pure_10k.append(sorted_reports_res_table.iloc[i]['governance_score_quarter_change_pure'] + governance_score_quarter_change_pure_10k[i-1])\n",
        "    social_score_quarter_change_pure_10k.append(sorted_reports_res_table.iloc[i]['social_score_quarter_change_pure'] + social_score_quarter_change_pure_10k[i-1])\n",
        "    environment_score_quarter_change_pure_10k.append(sorted_reports_res_table.iloc[i]['environment_score_quarter_change_pure'] + environment_score_quarter_change_pure_10k[i-1])\n",
        "  else:\n",
        "    governance_score_quarter_change_pure_10k.append(0)\n",
        "    social_score_quarter_change_pure_10k.append(0)\n",
        "    environment_score_quarter_change_pure_10k.append(0)\n",
        "  \n",
        "sorted_reports_res_table['governance_score_accumulate_change_pure_10k'] = governance_score_quarter_change_pure_10k\n",
        "sorted_reports_res_table['social_score_accumulate_change_pure_10k'] = social_score_quarter_change_pure_10k\n",
        "sorted_reports_res_table['environment_score_accumulate_change_pure_10k'] = environment_score_quarter_change_pure_10k"
      ],
      "execution_count": null,
      "outputs": []
    },
    {
      "cell_type": "code",
      "metadata": {
        "id": "pnSsfzyHC02x"
      },
      "source": [
        "sorted_reports_res_table = sorted_reports_res_table[['CIK', 'date', 'total_esg_score',\n",
        "       'total_esg_score_quarter_change_pure',\n",
        "       'total_esg_score_quarter_change_pct',\n",
        "       'quarter', 'year', 'month',\n",
        "       'governance_score_accumulate_change_pure_10k',\n",
        "       'social_score_accumulate_change_pure_10k',\n",
        "       'environment_score_accumulate_change_pure_10k']]"
      ],
      "execution_count": null,
      "outputs": []
    },
    {
      "cell_type": "code",
      "metadata": {
        "id": "NCPlWFPYGDdp"
      },
      "source": [
        "sorted_reports_res_table=sorted_reports_res_table.drop_duplicates(['CIK', 'date', 'total_esg_score'])"
      ],
      "execution_count": null,
      "outputs": []
    },
    {
      "cell_type": "code",
      "metadata": {
        "id": "SWf593YI095-"
      },
      "source": [
        "sorted_10k = read_10k_df.sort_values(by=['CIK', 'date'])"
      ],
      "execution_count": null,
      "outputs": []
    },
    {
      "cell_type": "code",
      "metadata": {
        "id": "V-JLB5HH0lel"
      },
      "source": [
        "end_idx = len(sorted_10k.index)\n",
        "sorted_10k = read_10k_df.sort_values(by=['CIK', 'date'])\n",
        "total_10k_esg_score = [0]\n",
        "for i in range(1, end_idx, 1):\n",
        "  if sorted_10k.iloc[i]['CIK'] == sorted_10k.iloc[i-1]['CIK']:\n",
        "    total_10k_esg_score.append(sorted_10k.iloc[i]['total_esg_score'] - sorted_10k.iloc[i-1]['total_esg_score'])\n",
        "  else:\n",
        "    total_10k_esg_score.append(0)\n",
        "sorted_10k['total_esg_score_change_10k'] = total_10k_esg_score"
      ],
      "execution_count": null,
      "outputs": []
    },
    {
      "cell_type": "code",
      "metadata": {
        "id": "7VrEwveuFhNp"
      },
      "source": [
        "sorted_10k = sorted_10k[['CIK', 'date', 'ReportType', 'total_esg_score', 'Reports', 'total_esg_score_change_10k']]"
      ],
      "execution_count": null,
      "outputs": []
    },
    {
      "cell_type": "code",
      "metadata": {
        "colab": {
          "base_uri": "https://localhost:8080/",
          "height": 419
        },
        "id": "euQMid0W0uxx",
        "outputId": "182e7aab-675d-43bc-c3ca-2be666507f00"
      },
      "source": [
        "sorted_10k[['CIK', 'date', 'total_esg_score_change_10k']].sort_values(by=['CIK', 'date'])"
      ],
      "execution_count": null,
      "outputs": [
        {
          "output_type": "execute_result",
          "data": {
            "text/html": [
              "<div>\n",
              "<style scoped>\n",
              "    .dataframe tbody tr th:only-of-type {\n",
              "        vertical-align: middle;\n",
              "    }\n",
              "\n",
              "    .dataframe tbody tr th {\n",
              "        vertical-align: top;\n",
              "    }\n",
              "\n",
              "    .dataframe thead th {\n",
              "        text-align: right;\n",
              "    }\n",
              "</style>\n",
              "<table border=\"1\" class=\"dataframe\">\n",
              "  <thead>\n",
              "    <tr style=\"text-align: right;\">\n",
              "      <th></th>\n",
              "      <th>CIK</th>\n",
              "      <th>date</th>\n",
              "      <th>total_esg_score_change_10k</th>\n",
              "    </tr>\n",
              "  </thead>\n",
              "  <tbody>\n",
              "    <tr>\n",
              "      <th>715</th>\n",
              "      <td>2488</td>\n",
              "      <td>2017-12-29</td>\n",
              "      <td>0.00</td>\n",
              "    </tr>\n",
              "    <tr>\n",
              "      <th>751</th>\n",
              "      <td>2969</td>\n",
              "      <td>2013-09-30</td>\n",
              "      <td>0.00</td>\n",
              "    </tr>\n",
              "    <tr>\n",
              "      <th>752</th>\n",
              "      <td>2969</td>\n",
              "      <td>2014-09-30</td>\n",
              "      <td>4.00</td>\n",
              "    </tr>\n",
              "    <tr>\n",
              "      <th>753</th>\n",
              "      <td>2969</td>\n",
              "      <td>2015-09-30</td>\n",
              "      <td>-2.00</td>\n",
              "    </tr>\n",
              "    <tr>\n",
              "      <th>754</th>\n",
              "      <td>2969</td>\n",
              "      <td>2016-09-30</td>\n",
              "      <td>-1.36</td>\n",
              "    </tr>\n",
              "    <tr>\n",
              "      <th>...</th>\n",
              "      <td>...</td>\n",
              "      <td>...</td>\n",
              "      <td>...</td>\n",
              "    </tr>\n",
              "    <tr>\n",
              "      <th>647</th>\n",
              "      <td>1652044</td>\n",
              "      <td>2016-12-30</td>\n",
              "      <td>-0.17</td>\n",
              "    </tr>\n",
              "    <tr>\n",
              "      <th>648</th>\n",
              "      <td>1652044</td>\n",
              "      <td>2017-12-29</td>\n",
              "      <td>0.54</td>\n",
              "    </tr>\n",
              "    <tr>\n",
              "      <th>649</th>\n",
              "      <td>1659166</td>\n",
              "      <td>2017-12-29</td>\n",
              "      <td>0.00</td>\n",
              "    </tr>\n",
              "    <tr>\n",
              "      <th>656</th>\n",
              "      <td>1681459</td>\n",
              "      <td>2017-12-29</td>\n",
              "      <td>0.00</td>\n",
              "    </tr>\n",
              "    <tr>\n",
              "      <th>657</th>\n",
              "      <td>1688568</td>\n",
              "      <td>2018-03-29</td>\n",
              "      <td>0.00</td>\n",
              "    </tr>\n",
              "  </tbody>\n",
              "</table>\n",
              "<p>1824 rows × 3 columns</p>\n",
              "</div>"
            ],
            "text/plain": [
              "         CIK        date  total_esg_score_change_10k\n",
              "715     2488  2017-12-29                        0.00\n",
              "751     2969  2013-09-30                        0.00\n",
              "752     2969  2014-09-30                        4.00\n",
              "753     2969  2015-09-30                       -2.00\n",
              "754     2969  2016-09-30                       -1.36\n",
              "..       ...         ...                         ...\n",
              "647  1652044  2016-12-30                       -0.17\n",
              "648  1652044  2017-12-29                        0.54\n",
              "649  1659166  2017-12-29                        0.00\n",
              "656  1681459  2017-12-29                        0.00\n",
              "657  1688568  2018-03-29                        0.00\n",
              "\n",
              "[1824 rows x 3 columns]"
            ]
          },
          "metadata": {
            "tags": []
          },
          "execution_count": 98
        }
      ]
    },
    {
      "cell_type": "code",
      "metadata": {
        "colab": {
          "base_uri": "https://localhost:8080/",
          "height": 481
        },
        "id": "V01zZhT0u1YG",
        "outputId": "4091d672-854a-46cf-dc8c-ea71f4bf9d3d"
      },
      "source": [
        "sorted_10k[['CIK', 'date', 'total_esg_score_change_10k']].groupby(['CIK', 'date']).agg(['count'])"
      ],
      "execution_count": null,
      "outputs": [
        {
          "output_type": "execute_result",
          "data": {
            "text/html": [
              "<div>\n",
              "<style scoped>\n",
              "    .dataframe tbody tr th:only-of-type {\n",
              "        vertical-align: middle;\n",
              "    }\n",
              "\n",
              "    .dataframe tbody tr th {\n",
              "        vertical-align: top;\n",
              "    }\n",
              "\n",
              "    .dataframe thead tr th {\n",
              "        text-align: left;\n",
              "    }\n",
              "\n",
              "    .dataframe thead tr:last-of-type th {\n",
              "        text-align: right;\n",
              "    }\n",
              "</style>\n",
              "<table border=\"1\" class=\"dataframe\">\n",
              "  <thead>\n",
              "    <tr>\n",
              "      <th></th>\n",
              "      <th></th>\n",
              "      <th>total_esg_score_change_10k</th>\n",
              "    </tr>\n",
              "    <tr>\n",
              "      <th></th>\n",
              "      <th></th>\n",
              "      <th>count</th>\n",
              "    </tr>\n",
              "    <tr>\n",
              "      <th>CIK</th>\n",
              "      <th>date</th>\n",
              "      <th></th>\n",
              "    </tr>\n",
              "  </thead>\n",
              "  <tbody>\n",
              "    <tr>\n",
              "      <th>2488</th>\n",
              "      <th>2017-12-29</th>\n",
              "      <td>1</td>\n",
              "    </tr>\n",
              "    <tr>\n",
              "      <th rowspan=\"4\" valign=\"top\">2969</th>\n",
              "      <th>2013-09-30</th>\n",
              "      <td>1</td>\n",
              "    </tr>\n",
              "    <tr>\n",
              "      <th>2014-09-30</th>\n",
              "      <td>1</td>\n",
              "    </tr>\n",
              "    <tr>\n",
              "      <th>2015-09-30</th>\n",
              "      <td>1</td>\n",
              "    </tr>\n",
              "    <tr>\n",
              "      <th>2016-09-30</th>\n",
              "      <td>1</td>\n",
              "    </tr>\n",
              "    <tr>\n",
              "      <th>...</th>\n",
              "      <th>...</th>\n",
              "      <td>...</td>\n",
              "    </tr>\n",
              "    <tr>\n",
              "      <th rowspan=\"2\" valign=\"top\">1652044</th>\n",
              "      <th>2016-12-30</th>\n",
              "      <td>1</td>\n",
              "    </tr>\n",
              "    <tr>\n",
              "      <th>2017-12-29</th>\n",
              "      <td>1</td>\n",
              "    </tr>\n",
              "    <tr>\n",
              "      <th>1659166</th>\n",
              "      <th>2017-12-29</th>\n",
              "      <td>1</td>\n",
              "    </tr>\n",
              "    <tr>\n",
              "      <th>1681459</th>\n",
              "      <th>2017-12-29</th>\n",
              "      <td>1</td>\n",
              "    </tr>\n",
              "    <tr>\n",
              "      <th>1688568</th>\n",
              "      <th>2018-03-29</th>\n",
              "      <td>1</td>\n",
              "    </tr>\n",
              "  </tbody>\n",
              "</table>\n",
              "<p>1824 rows × 1 columns</p>\n",
              "</div>"
            ],
            "text/plain": [
              "                   total_esg_score_change_10k\n",
              "                                        count\n",
              "CIK     date                                 \n",
              "2488    2017-12-29                          1\n",
              "2969    2013-09-30                          1\n",
              "        2014-09-30                          1\n",
              "        2015-09-30                          1\n",
              "        2016-09-30                          1\n",
              "...                                       ...\n",
              "1652044 2016-12-30                          1\n",
              "        2017-12-29                          1\n",
              "1659166 2017-12-29                          1\n",
              "1681459 2017-12-29                          1\n",
              "1688568 2018-03-29                          1\n",
              "\n",
              "[1824 rows x 1 columns]"
            ]
          },
          "metadata": {
            "tags": []
          },
          "execution_count": 99
        }
      ]
    },
    {
      "cell_type": "code",
      "metadata": {
        "id": "h8JKXh63IlRk"
      },
      "source": [
        "sorted_10k['CIK'] = sorted_10k['CIK'].astype(str)\n",
        "sorted_10k['date'] = sorted_10k['date'].astype(str)\n",
        "sorted_reports_res_table['CIK'] = sorted_reports_res_table['CIK'].astype(str)\n",
        "sorted_reports_res_table['date'] = sorted_reports_res_table['date'].astype(str)"
      ],
      "execution_count": null,
      "outputs": []
    },
    {
      "cell_type": "code",
      "metadata": {
        "id": "YcDzuVKMH3Kt"
      },
      "source": [
        "final_10k = pd.merge(sorted_10k, sorted_reports_res_table,  how='left', left_on=['CIK','date', 'total_esg_score'], right_on = ['CIK','date', 'total_esg_score'])"
      ],
      "execution_count": null,
      "outputs": []
    },
    {
      "cell_type": "code",
      "metadata": {
        "id": "X8AePNN5KA1Z"
      },
      "source": [
        "final_10k_end_idx = len(final_10k.index)\n",
        "final_10k = final_10k.sort_values(by=['CIK', 'date'])\n",
        "\n",
        "governance_score_change_pure_10k = [0]\n",
        "social_score_change_pure_10k = [0]\n",
        "environment_score_change_pure_10k = [0]\n",
        "\n",
        "for i in range(1, final_10k_end_idx, 1):\n",
        "  if final_10k.iloc[i]['CIK'] == final_10k.iloc[i-1]['CIK']:\n",
        "    governance_score_change_pure_10k.append(final_10k.iloc[i]['governance_score_accumulate_change_pure_10k'] - final_10k.iloc[i-1]['governance_score_accumulate_change_pure_10k'])\n",
        "    social_score_change_pure_10k.append(final_10k.iloc[i]['social_score_accumulate_change_pure_10k'] - final_10k.iloc[i-1]['social_score_accumulate_change_pure_10k'])\n",
        "    environment_score_change_pure_10k.append(final_10k.iloc[i]['environment_score_accumulate_change_pure_10k'] - final_10k.iloc[i-1]['environment_score_accumulate_change_pure_10k'])\n",
        "  else:\n",
        "    governance_score_change_pure_10k.append(0)\n",
        "    social_score_change_pure_10k.append(0)\n",
        "    environment_score_change_pure_10k.append(0)\n",
        "final_10k['governance_score_change_pure_10k'] = governance_score_change_pure_10k\n",
        "final_10k['social_score_change_pure_10k'] = social_score_change_pure_10k\n",
        "final_10k['environment_score_change_pure_10k'] = environment_score_change_pure_10k"
      ],
      "execution_count": null,
      "outputs": []
    },
    {
      "cell_type": "code",
      "metadata": {
        "colab": {
          "base_uri": "https://localhost:8080/",
          "height": 202
        },
        "id": "4zSvRqc3ncRQ",
        "outputId": "d2aadb30-9f1d-47df-bff5-062ea9a310a6"
      },
      "source": [
        "final_10k[final_10k['CIK'].isin(['789019'])][final_10k['date'].str.startswith('2013')]"
      ],
      "execution_count": null,
      "outputs": [
        {
          "output_type": "stream",
          "text": [
            "/usr/local/lib/python3.7/dist-packages/ipykernel_launcher.py:1: UserWarning: Boolean Series key will be reindexed to match DataFrame index.\n",
            "  \"\"\"Entry point for launching an IPython kernel.\n"
          ],
          "name": "stderr"
        },
        {
          "output_type": "execute_result",
          "data": {
            "text/html": [
              "<div>\n",
              "<style scoped>\n",
              "    .dataframe tbody tr th:only-of-type {\n",
              "        vertical-align: middle;\n",
              "    }\n",
              "\n",
              "    .dataframe tbody tr th {\n",
              "        vertical-align: top;\n",
              "    }\n",
              "\n",
              "    .dataframe thead th {\n",
              "        text-align: right;\n",
              "    }\n",
              "</style>\n",
              "<table border=\"1\" class=\"dataframe\">\n",
              "  <thead>\n",
              "    <tr style=\"text-align: right;\">\n",
              "      <th></th>\n",
              "      <th>CIK</th>\n",
              "      <th>date</th>\n",
              "      <th>ReportType</th>\n",
              "      <th>total_esg_score</th>\n",
              "      <th>Reports</th>\n",
              "      <th>total_esg_score_change_10k</th>\n",
              "      <th>total_esg_score_quarter_change_pure</th>\n",
              "      <th>total_esg_score_quarter_change_pct</th>\n",
              "      <th>quarter</th>\n",
              "      <th>year</th>\n",
              "      <th>month</th>\n",
              "      <th>governance_score_accumulate_change_pure_10k</th>\n",
              "      <th>social_score_accumulate_change_pure_10k</th>\n",
              "      <th>environment_score_accumulate_change_pure_10k</th>\n",
              "      <th>governance_score_change_pure_10k</th>\n",
              "      <th>social_score_change_pure_10k</th>\n",
              "      <th>environment_score_change_pure_10k</th>\n",
              "    </tr>\n",
              "  </thead>\n",
              "  <tbody>\n",
              "    <tr>\n",
              "      <th>862</th>\n",
              "      <td>789019</td>\n",
              "      <td>2013-06-28</td>\n",
              "      <td>10K</td>\n",
              "      <td>64.0</td>\n",
              "      <td>0001193125-13-310206.txt : 2013073010-K 1 d52...</td>\n",
              "      <td>0.0</td>\n",
              "      <td>0.0</td>\n",
              "      <td>0.0</td>\n",
              "      <td>2</td>\n",
              "      <td>2013</td>\n",
              "      <td>6</td>\n",
              "      <td>0.0</td>\n",
              "      <td>0.0</td>\n",
              "      <td>0.0</td>\n",
              "      <td>0.0</td>\n",
              "      <td>0.0</td>\n",
              "      <td>0.0</td>\n",
              "    </tr>\n",
              "  </tbody>\n",
              "</table>\n",
              "</div>"
            ],
            "text/plain": [
              "        CIK  ... environment_score_change_pure_10k\n",
              "862  789019  ...                               0.0\n",
              "\n",
              "[1 rows x 17 columns]"
            ]
          },
          "metadata": {
            "tags": []
          },
          "execution_count": 103
        }
      ]
    },
    {
      "cell_type": "code",
      "metadata": {
        "colab": {
          "base_uri": "https://localhost:8080/"
        },
        "id": "wCXdmvTZMP-j",
        "outputId": "3bf8679b-1dd5-44e9-f8a9-41a3ce1e3c43"
      },
      "source": [
        "final_10k.columns"
      ],
      "execution_count": null,
      "outputs": [
        {
          "output_type": "execute_result",
          "data": {
            "text/plain": [
              "Index(['CIK', 'date', 'ReportType', 'total_esg_score', 'Reports',\n",
              "       'total_esg_score_change_10k', 'total_esg_score_quarter_change_pure',\n",
              "       'total_esg_score_quarter_change_pct', 'quarter', 'year', 'month',\n",
              "       'governance_score_accumulate_change_pure_10k',\n",
              "       'social_score_accumulate_change_pure_10k',\n",
              "       'environment_score_accumulate_change_pure_10k',\n",
              "       'governance_score_change_pure_10k', 'social_score_change_pure_10k',\n",
              "       'environment_score_change_pure_10k'],\n",
              "      dtype='object')"
            ]
          },
          "metadata": {
            "tags": []
          },
          "execution_count": 263
        }
      ]
    },
    {
      "cell_type": "code",
      "metadata": {
        "id": "9OtD5pfVMXJw"
      },
      "source": [
        "final_10k = final_10k[['CIK', 'date', 'ReportType', 'total_esg_score', 'Reports',\n",
        "       'total_esg_score_change_10k', 'quarter', 'year', 'month',\n",
        "       'governance_score_change_pure_10k', 'social_score_change_pure_10k',\n",
        "       'environment_score_change_pure_10k']]"
      ],
      "execution_count": null,
      "outputs": []
    },
    {
      "cell_type": "code",
      "metadata": {
        "id": "Rz2GmfOdRK9g"
      },
      "source": [
        "read_10q_df[read_10q_df['CIK'].isin(['789019'])][read_10q_df['year'].isin([2013])]"
      ],
      "execution_count": null,
      "outputs": []
    },
    {
      "cell_type": "code",
      "metadata": {
        "colab": {
          "base_uri": "https://localhost:8080/",
          "height": 417
        },
        "id": "HFG-fWLhRlSa",
        "outputId": "688166b8-4efd-48f5-e392-4af70276c124"
      },
      "source": [
        "read_10q_df[read_10q_df['CIK'].isin(['789019'])][read_10q_df['year'].isin([2017])]"
      ],
      "execution_count": null,
      "outputs": [
        {
          "output_type": "stream",
          "text": [
            "/usr/local/lib/python3.7/dist-packages/ipykernel_launcher.py:1: UserWarning: Boolean Series key will be reindexed to match DataFrame index.\n",
            "  \"\"\"Entry point for launching an IPython kernel.\n"
          ],
          "name": "stderr"
        },
        {
          "output_type": "execute_result",
          "data": {
            "text/html": [
              "<div>\n",
              "<style scoped>\n",
              "    .dataframe tbody tr th:only-of-type {\n",
              "        vertical-align: middle;\n",
              "    }\n",
              "\n",
              "    .dataframe tbody tr th {\n",
              "        vertical-align: top;\n",
              "    }\n",
              "\n",
              "    .dataframe thead th {\n",
              "        text-align: right;\n",
              "    }\n",
              "</style>\n",
              "<table border=\"1\" class=\"dataframe\">\n",
              "  <thead>\n",
              "    <tr style=\"text-align: right;\">\n",
              "      <th></th>\n",
              "      <th>Unnamed: 0</th>\n",
              "      <th>origin_idx</th>\n",
              "      <th>CIK</th>\n",
              "      <th>date</th>\n",
              "      <th>total_esg_score</th>\n",
              "      <th>total_esg_score_quarter_change_pure</th>\n",
              "      <th>total_esg_score_quarter_change_pct</th>\n",
              "      <th>governance_score_quarter_change_pure</th>\n",
              "      <th>governance_score_quarter_change_pct</th>\n",
              "      <th>social_score_quarter_change_pure</th>\n",
              "      <th>social_score_quarter_change_pct</th>\n",
              "      <th>environment_score_quarter_change_pure</th>\n",
              "      <th>environment_score_quarter_change_pct</th>\n",
              "      <th>quarter</th>\n",
              "      <th>year</th>\n",
              "      <th>month</th>\n",
              "      <th>ReportType</th>\n",
              "      <th>Reports</th>\n",
              "      <th>reports_ordered</th>\n",
              "      <th>reports_cosines</th>\n",
              "    </tr>\n",
              "  </thead>\n",
              "  <tbody>\n",
              "    <tr>\n",
              "      <th>1328</th>\n",
              "      <td>1328</td>\n",
              "      <td>15724</td>\n",
              "      <td>789019</td>\n",
              "      <td>2017-03-31</td>\n",
              "      <td>71.49</td>\n",
              "      <td>0.25</td>\n",
              "      <td>0.003497</td>\n",
              "      <td>0.0</td>\n",
              "      <td>0.000000</td>\n",
              "      <td>0.00</td>\n",
              "      <td>0.000000</td>\n",
              "      <td>0.84</td>\n",
              "      <td>0.010316</td>\n",
              "      <td>1</td>\n",
              "      <td>2017</td>\n",
              "      <td>3</td>\n",
              "      <td>10Q</td>\n",
              "      <td>0001564590-17-007547.txt : 2017042710-Q 1 msf...</td>\n",
              "      <td>Environmental regulations or changes in the su...</td>\n",
              "      <td>0.77 0.74 0.74 0.74 0.73 0.73 0.73 0.73 0.73 0...</td>\n",
              "    </tr>\n",
              "    <tr>\n",
              "      <th>1329</th>\n",
              "      <td>1329</td>\n",
              "      <td>15730</td>\n",
              "      <td>789019</td>\n",
              "      <td>2017-09-29</td>\n",
              "      <td>71.17</td>\n",
              "      <td>2.99</td>\n",
              "      <td>0.042012</td>\n",
              "      <td>4.4</td>\n",
              "      <td>0.065918</td>\n",
              "      <td>1.98</td>\n",
              "      <td>0.029896</td>\n",
              "      <td>3.33</td>\n",
              "      <td>0.040476</td>\n",
              "      <td>3</td>\n",
              "      <td>2017</td>\n",
              "      <td>9</td>\n",
              "      <td>10Q</td>\n",
              "      <td>0001564590-17-020171.txt : 2017102610-Q 1 msf...</td>\n",
              "      <td>Environmental regulations or changes in the su...</td>\n",
              "      <td>0.77 0.74 0.74 0.74 0.73 0.73 0.73 0.73 0.73 0...</td>\n",
              "    </tr>\n",
              "    <tr>\n",
              "      <th>1330</th>\n",
              "      <td>1330</td>\n",
              "      <td>15733</td>\n",
              "      <td>789019</td>\n",
              "      <td>2017-12-29</td>\n",
              "      <td>74.16</td>\n",
              "      <td>0.00</td>\n",
              "      <td>0.000000</td>\n",
              "      <td>0.0</td>\n",
              "      <td>0.000000</td>\n",
              "      <td>0.00</td>\n",
              "      <td>0.000000</td>\n",
              "      <td>0.00</td>\n",
              "      <td>0.000000</td>\n",
              "      <td>4</td>\n",
              "      <td>2017</td>\n",
              "      <td>12</td>\n",
              "      <td>10Q</td>\n",
              "      <td>0001564590-18-001129.txt : 2018013110-Q 1 msf...</td>\n",
              "      <td>The remeasurement of deferred taxes included i...</td>\n",
              "      <td>0.77 0.76 0.74 0.74 0.74 0.74 0.73 0.73 0.73 0...</td>\n",
              "    </tr>\n",
              "  </tbody>\n",
              "</table>\n",
              "</div>"
            ],
            "text/plain": [
              "      Unnamed: 0  ...                                    reports_cosines\n",
              "1328        1328  ...  0.77 0.74 0.74 0.74 0.73 0.73 0.73 0.73 0.73 0...\n",
              "1329        1329  ...  0.77 0.74 0.74 0.74 0.73 0.73 0.73 0.73 0.73 0...\n",
              "1330        1330  ...  0.77 0.76 0.74 0.74 0.74 0.74 0.73 0.73 0.73 0...\n",
              "\n",
              "[3 rows x 20 columns]"
            ]
          },
          "metadata": {
            "tags": []
          },
          "execution_count": 167
        }
      ]
    },
    {
      "cell_type": "code",
      "metadata": {
        "colab": {
          "base_uri": "https://localhost:8080/",
          "height": 202
        },
        "id": "nfHcA4JJnDlV",
        "outputId": "9e8a94a1-1cbc-4b58-8a9e-9643781a32a0"
      },
      "source": [
        "final_10k[final_10k['CIK'].isin(['789019'])][final_10k['year'].isin([2017])]"
      ],
      "execution_count": null,
      "outputs": [
        {
          "output_type": "stream",
          "text": [
            "/usr/local/lib/python3.7/dist-packages/ipykernel_launcher.py:1: UserWarning: Boolean Series key will be reindexed to match DataFrame index.\n",
            "  \"\"\"Entry point for launching an IPython kernel.\n"
          ],
          "name": "stderr"
        },
        {
          "output_type": "execute_result",
          "data": {
            "text/html": [
              "<div>\n",
              "<style scoped>\n",
              "    .dataframe tbody tr th:only-of-type {\n",
              "        vertical-align: middle;\n",
              "    }\n",
              "\n",
              "    .dataframe tbody tr th {\n",
              "        vertical-align: top;\n",
              "    }\n",
              "\n",
              "    .dataframe thead th {\n",
              "        text-align: right;\n",
              "    }\n",
              "</style>\n",
              "<table border=\"1\" class=\"dataframe\">\n",
              "  <thead>\n",
              "    <tr style=\"text-align: right;\">\n",
              "      <th></th>\n",
              "      <th>CIK</th>\n",
              "      <th>date</th>\n",
              "      <th>ReportType</th>\n",
              "      <th>total_esg_score</th>\n",
              "      <th>Reports</th>\n",
              "      <th>total_esg_score_change_10k</th>\n",
              "      <th>quarter</th>\n",
              "      <th>year</th>\n",
              "      <th>month</th>\n",
              "      <th>governance_score_change_pure_10k</th>\n",
              "      <th>social_score_change_pure_10k</th>\n",
              "      <th>environment_score_change_pure_10k</th>\n",
              "    </tr>\n",
              "  </thead>\n",
              "  <tbody>\n",
              "    <tr>\n",
              "      <th>866</th>\n",
              "      <td>789019</td>\n",
              "      <td>2017-06-30</td>\n",
              "      <td>10K</td>\n",
              "      <td>71.74</td>\n",
              "      <td>0001564590-17-014900.txt : 2017080210-K 1 msf...</td>\n",
              "      <td>0.71</td>\n",
              "      <td>2</td>\n",
              "      <td>2017</td>\n",
              "      <td>6</td>\n",
              "      <td>0.8</td>\n",
              "      <td>-1.02</td>\n",
              "      <td>0.84</td>\n",
              "    </tr>\n",
              "  </tbody>\n",
              "</table>\n",
              "</div>"
            ],
            "text/plain": [
              "        CIK  ... environment_score_change_pure_10k\n",
              "866  789019  ...                              0.84\n",
              "\n",
              "[1 rows x 12 columns]"
            ]
          },
          "metadata": {
            "tags": []
          },
          "execution_count": 106
        }
      ]
    },
    {
      "cell_type": "code",
      "metadata": {
        "colab": {
          "base_uri": "https://localhost:8080/",
          "height": 296
        },
        "id": "RE13dsiZMRLS",
        "outputId": "a93702bc-d6e2-4097-9144-bc3c29f21536"
      },
      "source": [
        "counts_10q_df = read_10q_df[['total_esg_score', 'month', 'year']].groupby(by=['year', 'month']).agg('count')\n",
        "counts_10q_df.plot()"
      ],
      "execution_count": null,
      "outputs": [
        {
          "output_type": "execute_result",
          "data": {
            "text/plain": [
              "<matplotlib.axes._subplots.AxesSubplot at 0x7f6744d733d0>"
            ]
          },
          "metadata": {
            "tags": []
          },
          "execution_count": 222
        },
        {
          "output_type": "display_data",
          "data": {
            "image/png": "[encoded data removed]",
            "text/plain": [
              "<Figure size 432x288 with 1 Axes>"
            ]
          },
          "metadata": {
            "tags": []
          }
        }
      ]
    },
    {
      "cell_type": "code",
      "metadata": {
        "colab": {
          "base_uri": "https://localhost:8080/",
          "height": 296
        },
        "id": "9o_ka3VEO6wD",
        "outputId": "2b6c5038-5f87-4db1-a3f8-84c40691272a"
      },
      "source": [
        "counts_10k_df = final_10k[['total_esg_score', 'month', 'year']].groupby(by=['year', 'month']).agg('count')\n",
        "counts_10k_df.plot()"
      ],
      "execution_count": null,
      "outputs": [
        {
          "output_type": "execute_result",
          "data": {
            "text/plain": [
              "<matplotlib.axes._subplots.AxesSubplot at 0x7ff2ee845a90>"
            ]
          },
          "metadata": {
            "tags": []
          },
          "execution_count": 107
        },
        {
          "output_type": "display_data",
          "data": {
            "image/png": "[encoded data removed]",
            "text/plain": [
              "<Figure size 432x288 with 1 Axes>"
            ]
          },
          "metadata": {
            "tags": [],
            "needs_background": "light"
          }
        }
      ]
    },
    {
      "cell_type": "code",
      "metadata": {
        "id": "J8CPuf0X7d16"
      },
      "source": [
        "assert len(final_10k[final_10k.duplicated(['CIK', 'year', 'quarter', 'Reports'])]) == 0, \"10K Report for every company should be just one quarterly\"\n",
        "assert len(final_10k[final_10k.duplicated(['CIK', 'date', 'Reports'])]) == 0, \"10K Report for every company should be just one per date\"\n",
        "assert len(final_10k[final_10k.duplicated(['CIK', 'year', 'month', 'Reports'])]) == 0, \"10K Report for every company should be just one per month\"\n",
        "assert len(final_10k[final_10k.duplicated(['CIK', 'date'])]) == 0, \"10K Report for every company should be just one per date\""
      ],
      "execution_count": null,
      "outputs": []
    },
    {
      "cell_type": "code",
      "metadata": {
        "id": "DZOc6cQh9htD"
      },
      "source": [
        "#final_10k.to_csv('final_10K_reports_with_score_without_sorted_sen.csv')"
      ],
      "execution_count": null,
      "outputs": []
    },
    {
      "cell_type": "code",
      "metadata": {
        "colab": {
          "base_uri": "https://localhost:8080/"
        },
        "id": "pJ_59YIvMvIi",
        "outputId": "256c8f61-d15f-41af-e39d-408b17472587"
      },
      "source": [
        "#!gsutil cp \"final_10K_reports_with_score_without_sorted_sen.csv\" gs://esgbert_resourses/raw_data/"
      ],
      "execution_count": null,
      "outputs": [
        {
          "output_type": "stream",
          "text": [
            "Copying file://final_10K_reports_with_score_without_sorted_sen.csv [Content-Type=text/csv]...\n",
            "/ [0 files][    0.0 B/666.4 MiB]                                                \r==> NOTE: You are uploading one or more large file(s), which would run\n",
            "significantly faster if you enable parallel composite uploads. This\n",
            "feature can be enabled by editing the\n",
            "\"parallel_composite_upload_threshold\" value in your .boto\n",
            "configuration file. However, note that if you do this large files will\n",
            "be uploaded as `composite objects\n",
            "<https://cloud.google.com/storage/docs/composite-objects>`_,which\n",
            "means that any user who downloads such objects will need to have a\n",
            "compiled crcmod installed (see \"gsutil help crcmod\"). This is because\n",
            "without a compiled crcmod, computing checksums on composite objects is\n",
            "so slow that gsutil disables downloads of composite objects.\n",
            "\n",
            "|\n",
            "Operation completed over 1 objects/666.4 MiB.                                    \n"
          ],
          "name": "stdout"
        }
      ]
    },
    {
      "cell_type": "markdown",
      "metadata": {
        "id": "vGiCFvVZYplQ"
      },
      "source": [
        "#Sentence comparison:"
      ]
    },
    {
      "cell_type": "code",
      "metadata": {
        "id": "doimI0LOR_C1"
      },
      "source": [
        "#read_10q_df = pd.read_csv(\"gs://esgbert_resourses/raw_data/final_10Q_reports_with_score_without_sorted_sen.csv\")\n",
        "read_10k_df = pd.read_csv(\"gs://esgbert_resourses/raw_data/final_10K_reports_with_score_without_sorted_sen.csv\")"
      ],
      "execution_count": null,
      "outputs": []
    },
    {
      "cell_type": "code",
      "metadata": {
        "colab": {
          "base_uri": "https://localhost:8080/"
        },
        "id": "cCxbyTUVoCB0",
        "outputId": "1bbc18cc-3415-4544-e6bf-47016bdae33e"
      },
      "source": [
        "len(read_10k_df)"
      ],
      "execution_count": null,
      "outputs": [
        {
          "output_type": "execute_result",
          "data": {
            "text/plain": [
              "1824"
            ]
          },
          "metadata": {
            "tags": []
          },
          "execution_count": 121
        }
      ]
    },
    {
      "cell_type": "code",
      "metadata": {
        "id": "IGrhJQrxNIDk"
      },
      "source": [
        "read_10k_df = read_10k_df[(read_10k_df['date']>=start_time) & (read_10k_df['date']<end_time)]"
      ],
      "execution_count": null,
      "outputs": []
    },
    {
      "cell_type": "code",
      "metadata": {
        "id": "l-sRYnHLNdJQ"
      },
      "source": [
        "read_10k_df = read_10k_df.drop_duplicates()\n",
        "read_10k_df = read_10k_df.drop_duplicates(subset=['CIK', 'year', 'month'], keep='last')"
      ],
      "execution_count": null,
      "outputs": []
    },
    {
      "cell_type": "code",
      "metadata": {
        "id": "BITSH74xZIva"
      },
      "source": [
        "#read_10q_df = read_10q_df[(read_10q_df['date']>=start_time) & (read_10q_df['date']<end_time)]"
      ],
      "execution_count": null,
      "outputs": []
    },
    {
      "cell_type": "code",
      "metadata": {
        "id": "m0MlXrrc2Oft"
      },
      "source": [
        "#kq_compare_sentences_short = [\n",
        "#\"State of Hawaii is considering renewable energy proposals and related costs and uncertainties surrounding technologies, solar power, wind power, biofuels, environmental assessments required to meet renewable portfolio standards goals.\",\n",
        "#\"PacifiCorp is subject to federal, state and local laws and regulations regarding air and water quality, renewable portfolio standards, emissions performance standards, climate change, coal combustion byproduct disposal, hazardous and solid waste disposal, protected species and other environmental matters that have the potential to impact PacifiCorp's current and future operations.\",\n",
        "#\"A variety of regulatory developments, proposals or requirements and legislative initiatives are focused on restricting the emission of greenhouse gases.\",\n",
        "#\"The Company invested in limited liability companies that sponsor renewable energy projects related to solar energy.\",\n",
        "#\"Benefits might be realized later than expected, if ongoing investment are not successful or sustainable, we might undertake additional realignment and cost reduction efforts, which could result in future charges.\"                        \n",
        "#]\n",
        "\n",
        "kq_compare_sentences_3 = [\n",
        "\"PacifiCorp is subject to federal, state and local laws and regulations regarding air and water quality, renewable portfolio standards, emissions performance standards, climate change, coal combustion byproduct disposal, hazardous and solid waste disposal, protected species and other environmental matters that have the potential to impact PacifiCorp's current and future operations.\",\n",
        "\n",
        "\"There has been an increased focus in the last several years on climate change in response to findings that emissions of carbon dioxide, methane and other greenhouse gases present an endangerment to public health and the environment. As a result, there have been a variety of regulatory developments, proposals or requirements and legislative initiatives that have been introduced in the United States (and other parts of the world) that are focused on restricting the emission of greenhouse gases.\",\n",
        "\n",
        "\"Further, such benefits might be realized later than expected, and the ongoing costs of implementing these measures might be greater than anticipated. If these measures are not successful or sustainable, we might undertake additional realignment and cost reduction efforts, which could result in future charges.\"\n",
        "]\n",
        "\n",
        "kq_compare_sentences = [\n",
        "\"the potential delay by the Public Utilities Commission of the State of Hawaii (PUC) in considering (and potential disapproval of actual or proposed) renewable energy proposals and related costs; reliance by the Utilities on outside parties such as the state, independent power producers (IPPs) and developers; and uncertainties surrounding technologies, solar power, wind power, biofuels, environmental assessments required to meet renewable portfolio standards (RPS) goals and the impacts of implementation of the renewable energy proposals on future costs of electricity;\",\n",
        "\n",
        "\"PacifiCorp is subject to federal, state and local laws and regulations regarding air and water quality, renewable portfolio standards, emissions performance standards, climate change, coal combustion byproduct disposal, hazardous and solid waste disposal, protected species and other environmental matters that have the potential to impact PacifiCorp's current and future operations.\",\n",
        "\n",
        "\"During the   six months ended June 30, 2018  , the Company invested $  17 million   in limited liability companies that sponsor renewable energy projects related to solar energy. The Company has $  3 million   of future funding commitments for these investments as of   June 30, 2018  .\",\n",
        "\n",
        "\"There has been an increased focus in the last several years on climate change in response to findings that emissions of carbon dioxide, methane and other greenhouse gases present an endangerment to public health and the environment. As a result, there have been a variety of regulatory developments, proposals or requirements and legislative initiatives that have been introduced in the United States (and other parts of the world) that are focused on restricting the emission of greenhouse gases.\",\n",
        "\n",
        "\"Further, such benefits might be realized later than expected, and the ongoing costs of implementing these measures might be greater than anticipated. If these measures are not successful or sustainable, we might undertake additional realignment and cost reduction efforts, which could result in future charges.\"\n",
        "]"
      ],
      "execution_count": null,
      "outputs": []
    },
    {
      "cell_type": "code",
      "metadata": {
        "id": "oT89vDLCrUJQ"
      },
      "source": [
        "def cosine(u, v):\n",
        "    return np.dot(u, v) / (np.linalg.norm(u) * np.linalg.norm(v))"
      ],
      "execution_count": null,
      "outputs": []
    },
    {
      "cell_type": "code",
      "metadata": {
        "colab": {
          "base_uri": "https://localhost:8080/"
        },
        "id": "Kb-jdpZGDs0x",
        "outputId": "87dc6524-b28f-45cf-e96e-0fe940b1deda"
      },
      "source": [
        "# clean file before writting contents\n",
        "f = open(sen_res_file, 'r+')\n",
        "f.truncate(0)"
      ],
      "execution_count": null,
      "outputs": [
        {
          "output_type": "execute_result",
          "data": {
            "text/plain": [
              "0"
            ]
          },
          "metadata": {
            "tags": []
          },
          "execution_count": 144
        }
      ]
    },
    {
      "cell_type": "code",
      "metadata": {
        "colab": {
          "base_uri": "https://localhost:8080/"
        },
        "id": "EUDxIvWLPHMo",
        "outputId": "cfb0a923-794d-4e81-b706-73e07dac8e18"
      },
      "source": [
        "read_10k_df.columns"
      ],
      "execution_count": null,
      "outputs": [
        {
          "output_type": "execute_result",
          "data": {
            "text/plain": [
              "Index(['Unnamed: 0', 'CIK', 'date', 'ReportType', 'total_esg_score', 'Reports',\n",
              "       'total_esg_score_change_10k', 'quarter', 'year', 'month',\n",
              "       'governance_score_change_pure_10k', 'social_score_change_pure_10k',\n",
              "       'environment_score_change_pure_10k'],\n",
              "      dtype='object')"
            ]
          },
          "metadata": {
            "tags": []
          },
          "execution_count": 138
        }
      ]
    },
    {
      "cell_type": "code",
      "metadata": {
        "id": "9o44OM3ZTBlI"
      },
      "source": [
        "#read_10q_df"
      ],
      "execution_count": null,
      "outputs": []
    },
    {
      "cell_type": "code",
      "metadata": {
        "id": "rz2eTcunA46H",
        "colab": {
          "base_uri": "https://localhost:8080/"
        },
        "outputId": "1397bae7-46fc-4754-df51-9294197a63b7"
      },
      "source": [
        "%%time\n",
        "extracted_final_table = read_10k_df.reset_index()\n",
        "sbert_model=SentenceTransformer('bert-base-nli-mean-tokens')\n",
        "compare_sence_encode = [sbert_model.encode([compare_sent])[0] for compare_sent in kq_compare_sentences]\n",
        "compare_sence_encode = sum(compare_sence_encode) / len(kq_compare_sentences)\n",
        "\n",
        "extracted_final_table['reports_ordered']=''\n",
        "extracted_final_table['reports_cosines']=''\n",
        "\n",
        "col_idx_orig=extracted_final_table.columns.get_loc('Reports')\n",
        "col_idx_new=extracted_final_table.columns.get_loc('reports_ordered')\n",
        "col_idx_cos=extracted_final_table.columns.get_loc('reports_cosines')\n",
        "\n",
        "with open(sen_res_file, \"a\") as fhandle:\n",
        "  fhandle.write(f'origin_idx|CIK|date|ReportType|total_esg_score|Reports|total_esg_score_change_10k|quarter|year|month|governance_score_change_pure_10k|social_score_change_pure_10k|environment_score_change_pure_10k|reports_ordered|reports_cosines\\n')\n",
        "\n",
        "for index, row in extracted_final_table.iterrows():\n",
        "  print(index)\n",
        "\n",
        "  sorted_sents_for_reports=[]\n",
        "  sorted_cosine_for_reports=[]\n",
        "\n",
        "  reports=extracted_final_table.iloc[index, col_idx_orig]\n",
        "  #first_comma = short_reports.find('.', 100)\n",
        "  #print(first_comma)\n",
        "  #last_comma = short_reports.rfind('.')\n",
        "  #print(last_comma)\n",
        "  #short_reports = short_reports[(first_comma+1):last_comma]\n",
        "  #sentences=nltk.sent_tokenize(short_reports)\n",
        "  sentences=nltk.sent_tokenize(reports)\n",
        "  #middle = int(len(sentences) / 2)\n",
        "\n",
        "  #if (middle>600) & ((middle+600)<len(sentences)):\n",
        "  #sentences = sentences[(middle-600):(middle+600)]\n",
        "  tuples_of_sents_sim = [(sent, cosine(compare_sence_encode, sbert_model.encode([sent])[0]))for sent in sentences]\n",
        "  \n",
        "  tuples_of_sents_sim.sort(key=lambda x:x[1], reverse=True)\n",
        "  sorted_sents_for_reports.append(\" \".join([x[0] for x in tuples_of_sents_sim]))\n",
        "  sorted_cosine_for_reports.append(\" \".join([str(round(x[1],2)) for x in tuples_of_sents_sim]))\n",
        "\n",
        "  extracted_final_table.iloc[index, col_idx_new]=sorted_sents_for_reports\n",
        "  extracted_final_table.iloc[index, col_idx_cos]=sorted_cosine_for_reports\n",
        "\n",
        "  lim_list = extracted_final_table.iloc[index].values.tolist()\n",
        "\n",
        "  if len(extracted_final_table.reports_ordered.values[index]) > 0:\n",
        "    with open(sen_res_file, \"a\") as fhandle:\n",
        "      for l in lim_list:\n",
        "        fhandle.write(f'{l}|')\n",
        "      fhandle.write(f'\\n')\n",
        "    "
      ],
      "execution_count": null,
      "outputs": [
        {
          "output_type": "stream",
          "text": [
            "0\n",
            "1\n",
            "2\n",
            "3\n",
            "4\n",
            "5\n",
            "6\n",
            "7\n",
            "8\n",
            "9\n",
            "10\n",
            "11\n",
            "12\n",
            "13\n",
            "14\n",
            "15\n",
            "16\n",
            "17\n",
            "18\n",
            "19\n",
            "20\n",
            "21\n",
            "22\n",
            "23\n",
            "24\n",
            "25\n",
            "26\n",
            "27\n",
            "28\n",
            "29\n",
            "30\n",
            "31\n",
            "32\n",
            "33\n",
            "34\n",
            "35\n",
            "36\n",
            "37\n",
            "38\n",
            "39\n",
            "40\n",
            "41\n",
            "42\n",
            "43\n",
            "44\n",
            "45\n",
            "46\n",
            "47\n",
            "48\n",
            "49\n",
            "50\n",
            "51\n",
            "52\n",
            "53\n",
            "54\n",
            "55\n",
            "56\n",
            "57\n",
            "58\n",
            "59\n",
            "60\n",
            "61\n",
            "62\n",
            "63\n",
            "64\n",
            "65\n",
            "66\n",
            "67\n",
            "68\n",
            "69\n",
            "70\n",
            "71\n",
            "72\n",
            "73\n",
            "74\n",
            "75\n",
            "76\n",
            "77\n",
            "78\n",
            "79\n",
            "80\n",
            "81\n",
            "82\n",
            "83\n",
            "84\n",
            "85\n",
            "86\n",
            "87\n",
            "88\n",
            "89\n",
            "90\n",
            "91\n",
            "92\n",
            "93\n",
            "94\n",
            "95\n",
            "96\n",
            "97\n",
            "98\n",
            "99\n",
            "100\n",
            "101\n",
            "102\n",
            "103\n",
            "104\n",
            "105\n",
            "106\n",
            "107\n",
            "108\n",
            "109\n",
            "110\n",
            "111\n",
            "112\n",
            "113\n",
            "114\n",
            "115\n",
            "116\n",
            "117\n",
            "118\n",
            "119\n",
            "120\n",
            "121\n",
            "122\n",
            "123\n",
            "124\n",
            "125\n",
            "126\n",
            "127\n",
            "128\n",
            "129\n",
            "130\n",
            "131\n",
            "132\n",
            "133\n",
            "134\n",
            "135\n",
            "136\n",
            "137\n",
            "138\n",
            "139\n",
            "140\n",
            "141\n",
            "142\n",
            "143\n",
            "144\n",
            "145\n",
            "146\n",
            "147\n",
            "148\n",
            "149\n",
            "150\n",
            "151\n",
            "152\n",
            "153\n",
            "154\n",
            "155\n",
            "156\n",
            "157\n",
            "158\n",
            "159\n",
            "160\n",
            "161\n",
            "162\n",
            "163\n",
            "164\n",
            "165\n",
            "166\n",
            "167\n",
            "168\n",
            "169\n",
            "170\n",
            "171\n",
            "172\n",
            "173\n",
            "174\n",
            "175\n",
            "176\n",
            "177\n",
            "178\n",
            "179\n",
            "180\n",
            "181\n",
            "182\n",
            "183\n",
            "184\n",
            "185\n",
            "186\n",
            "187\n",
            "188\n",
            "189\n",
            "190\n",
            "191\n",
            "192\n",
            "193\n",
            "194\n",
            "195\n",
            "196\n",
            "197\n",
            "198\n",
            "199\n",
            "200\n",
            "201\n",
            "202\n",
            "203\n",
            "204\n",
            "205\n",
            "206\n",
            "207\n",
            "208\n",
            "209\n",
            "210\n",
            "211\n",
            "212\n",
            "213\n",
            "214\n",
            "215\n",
            "216\n",
            "217\n",
            "218\n",
            "219\n",
            "220\n",
            "221\n",
            "222\n",
            "223\n",
            "224\n",
            "225\n",
            "226\n",
            "227\n",
            "228\n",
            "229\n",
            "230\n",
            "231\n",
            "232\n",
            "233\n",
            "234\n",
            "235\n",
            "236\n",
            "237\n",
            "238\n",
            "239\n",
            "240\n",
            "241\n",
            "242\n",
            "243\n",
            "244\n",
            "245\n",
            "246\n",
            "247\n",
            "248\n",
            "249\n",
            "250\n",
            "251\n",
            "252\n",
            "253\n",
            "254\n",
            "255\n",
            "256\n",
            "257\n",
            "258\n",
            "259\n",
            "260\n",
            "261\n",
            "262\n",
            "263\n",
            "264\n",
            "265\n",
            "266\n",
            "267\n",
            "268\n",
            "269\n",
            "270\n",
            "271\n",
            "272\n",
            "273\n",
            "274\n",
            "275\n",
            "276\n",
            "277\n",
            "278\n",
            "279\n",
            "280\n",
            "281\n",
            "282\n",
            "283\n",
            "284\n",
            "285\n",
            "286\n",
            "287\n",
            "288\n",
            "289\n",
            "290\n",
            "291\n",
            "292\n",
            "293\n",
            "294\n",
            "295\n",
            "296\n",
            "297\n",
            "298\n",
            "299\n",
            "300\n",
            "301\n",
            "302\n",
            "303\n",
            "304\n",
            "305\n",
            "306\n",
            "307\n",
            "308\n",
            "309\n",
            "310\n",
            "311\n",
            "312\n",
            "313\n",
            "314\n",
            "315\n",
            "316\n",
            "317\n",
            "318\n",
            "319\n",
            "320\n",
            "321\n",
            "322\n",
            "323\n",
            "324\n",
            "325\n",
            "326\n",
            "327\n",
            "328\n",
            "329\n",
            "330\n",
            "331\n",
            "332\n",
            "333\n",
            "334\n",
            "335\n",
            "336\n",
            "337\n",
            "338\n",
            "339\n",
            "340\n",
            "341\n",
            "342\n",
            "343\n",
            "344\n",
            "345\n",
            "346\n",
            "347\n",
            "348\n",
            "349\n",
            "350\n",
            "351\n",
            "352\n",
            "353\n",
            "354\n",
            "355\n",
            "356\n",
            "357\n",
            "358\n",
            "359\n",
            "360\n",
            "361\n",
            "362\n",
            "363\n",
            "364\n",
            "365\n",
            "366\n",
            "367\n",
            "368\n",
            "369\n",
            "370\n",
            "371\n",
            "372\n",
            "373\n",
            "374\n",
            "375\n",
            "376\n",
            "377\n",
            "378\n",
            "379\n",
            "380\n",
            "381\n",
            "382\n",
            "383\n",
            "384\n",
            "385\n",
            "386\n",
            "387\n",
            "388\n",
            "389\n",
            "390\n",
            "391\n",
            "392\n",
            "393\n",
            "394\n",
            "395\n",
            "396\n",
            "397\n",
            "398\n",
            "399\n",
            "400\n",
            "401\n",
            "402\n",
            "403\n",
            "404\n",
            "405\n",
            "406\n",
            "407\n",
            "408\n",
            "409\n",
            "410\n",
            "411\n",
            "412\n",
            "413\n",
            "414\n",
            "415\n",
            "416\n",
            "417\n",
            "418\n",
            "419\n",
            "420\n",
            "421\n",
            "422\n",
            "423\n",
            "424\n",
            "425\n",
            "426\n",
            "427\n",
            "428\n",
            "429\n",
            "430\n",
            "431\n",
            "432\n",
            "433\n",
            "434\n",
            "435\n",
            "436\n",
            "437\n",
            "438\n",
            "439\n",
            "440\n",
            "441\n",
            "442\n",
            "443\n",
            "444\n",
            "445\n",
            "446\n",
            "447\n",
            "448\n",
            "449\n",
            "450\n",
            "451\n",
            "452\n",
            "453\n",
            "454\n",
            "455\n",
            "456\n",
            "457\n",
            "458\n",
            "459\n",
            "460\n",
            "461\n",
            "462\n",
            "463\n",
            "464\n",
            "465\n",
            "466\n",
            "467\n",
            "468\n",
            "469\n",
            "470\n",
            "471\n",
            "472\n",
            "473\n",
            "474\n",
            "475\n",
            "476\n",
            "477\n",
            "478\n",
            "479\n",
            "480\n",
            "481\n",
            "482\n",
            "483\n",
            "484\n",
            "485\n",
            "486\n",
            "487\n",
            "488\n",
            "489\n",
            "490\n",
            "491\n",
            "492\n",
            "493\n",
            "494\n",
            "495\n",
            "496\n",
            "497\n",
            "498\n",
            "499\n",
            "500\n",
            "501\n",
            "502\n",
            "503\n",
            "504\n",
            "505\n",
            "506\n",
            "507\n",
            "508\n",
            "509\n",
            "510\n",
            "511\n",
            "512\n",
            "513\n",
            "514\n",
            "515\n",
            "516\n",
            "517\n",
            "518\n",
            "519\n",
            "520\n",
            "521\n",
            "522\n",
            "523\n",
            "524\n",
            "525\n",
            "526\n",
            "527\n",
            "528\n",
            "529\n",
            "530\n",
            "531\n",
            "532\n",
            "533\n",
            "534\n",
            "535\n",
            "536\n",
            "537\n",
            "538\n",
            "539\n",
            "540\n",
            "541\n",
            "542\n",
            "543\n",
            "544\n",
            "545\n",
            "546\n",
            "547\n",
            "548\n",
            "549\n",
            "550\n",
            "551\n",
            "552\n",
            "553\n",
            "554\n",
            "555\n",
            "556\n",
            "557\n",
            "558\n",
            "559\n",
            "560\n",
            "561\n",
            "562\n",
            "563\n",
            "564\n",
            "565\n",
            "566\n",
            "567\n",
            "568\n",
            "569\n",
            "570\n",
            "571\n",
            "572\n",
            "573\n",
            "574\n",
            "575\n",
            "576\n",
            "577\n",
            "578\n",
            "579\n",
            "580\n",
            "581\n",
            "582\n",
            "583\n",
            "584\n",
            "585\n",
            "586\n",
            "587\n",
            "588\n",
            "589\n",
            "590\n",
            "591\n",
            "592\n",
            "593\n",
            "594\n",
            "595\n",
            "596\n",
            "597\n",
            "598\n",
            "599\n",
            "600\n",
            "601\n",
            "602\n",
            "603\n",
            "604\n",
            "605\n",
            "606\n",
            "607\n",
            "608\n",
            "609\n",
            "610\n",
            "611\n",
            "612\n",
            "613\n",
            "614\n",
            "615\n",
            "616\n",
            "617\n",
            "618\n",
            "619\n",
            "620\n",
            "621\n",
            "622\n",
            "623\n",
            "624\n",
            "625\n",
            "626\n",
            "627\n",
            "628\n",
            "629\n",
            "630\n",
            "631\n",
            "632\n",
            "633\n",
            "634\n",
            "635\n",
            "636\n",
            "637\n",
            "638\n",
            "639\n",
            "640\n",
            "641\n",
            "642\n",
            "643\n",
            "644\n",
            "645\n",
            "646\n",
            "647\n",
            "648\n",
            "649\n",
            "650\n",
            "651\n",
            "652\n",
            "653\n",
            "654\n",
            "655\n",
            "656\n",
            "657\n",
            "658\n",
            "659\n",
            "660\n",
            "661\n",
            "662\n",
            "663\n",
            "664\n",
            "665\n",
            "666\n",
            "667\n",
            "668\n",
            "669\n",
            "670\n",
            "671\n",
            "672\n",
            "673\n",
            "674\n",
            "675\n",
            "676\n",
            "677\n",
            "678\n",
            "679\n",
            "680\n",
            "681\n",
            "682\n",
            "683\n",
            "684\n",
            "685\n",
            "686\n",
            "687\n",
            "688\n",
            "689\n",
            "690\n",
            "691\n",
            "692\n",
            "693\n",
            "694\n",
            "695\n",
            "696\n",
            "697\n",
            "698\n",
            "699\n",
            "700\n",
            "701\n",
            "702\n",
            "703\n",
            "704\n",
            "705\n",
            "706\n",
            "707\n",
            "708\n",
            "709\n",
            "710\n",
            "711\n",
            "712\n",
            "713\n",
            "714\n",
            "715\n",
            "716\n",
            "717\n",
            "718\n",
            "719\n",
            "720\n",
            "721\n",
            "722\n",
            "723\n",
            "724\n",
            "725\n",
            "726\n",
            "727\n",
            "728\n",
            "729\n",
            "730\n",
            "731\n",
            "732\n",
            "733\n",
            "734\n",
            "735\n",
            "736\n",
            "737\n",
            "738\n",
            "739\n",
            "740\n",
            "741\n",
            "742\n",
            "743\n",
            "744\n",
            "745\n",
            "746\n",
            "747\n",
            "748\n",
            "749\n",
            "750\n",
            "751\n",
            "752\n",
            "753\n",
            "754\n",
            "755\n",
            "756\n",
            "757\n",
            "758\n",
            "759\n",
            "760\n",
            "761\n",
            "762\n",
            "763\n",
            "764\n",
            "765\n",
            "766\n",
            "767\n",
            "768\n",
            "769\n",
            "770\n",
            "771\n",
            "772\n",
            "773\n",
            "774\n",
            "775\n",
            "776\n",
            "777\n",
            "778\n",
            "779\n",
            "780\n",
            "781\n",
            "782\n",
            "783\n",
            "784\n",
            "785\n",
            "786\n",
            "787\n",
            "788\n",
            "789\n",
            "790\n",
            "791\n",
            "792\n",
            "793\n",
            "794\n",
            "795\n",
            "796\n",
            "797\n",
            "CPU times: user 4h 27min 1s, sys: 2min 9s, total: 4h 29min 10s\n",
            "Wall time: 4h 29min 54s\n"
          ],
          "name": "stdout"
        }
      ]
    },
    {
      "cell_type": "markdown",
      "metadata": {
        "id": "S0GEKE4juIcM"
      },
      "source": [
        "#Read all sentence files into dataframe:"
      ]
    },
    {
      "cell_type": "code",
      "metadata": {
        "id": "EIqqZFXhsSja"
      },
      "source": [
        "column_names = 'origin_idx|CIK|date|ReportType|total_esg_score|Reports|total_esg_score_change_10k|quarter|year|month|governance_score_change_pure_10k|social_score_change_pure_10k|environment_score_change_pure_10k|reports_ordered|reports_cosines'.split('|')\n",
        "kq_201618_df=pd.DataFrame(columns=column_names)\n",
        "content=open(sen_res_file).readlines()\n",
        "for l in content[1:]:\n",
        "  column_values = l.rstrip('\\n').rstrip('|').split(\"|\")[1:]\n",
        "  if len(column_values) == len(kq_201618_df.columns):\n",
        "    parsed_row = pd.Series(column_values, index=kq_201618_df.columns)\n",
        "    kq_201618_df = kq_201618_df.append(parsed_row, ignore_index=True)"
      ],
      "execution_count": null,
      "outputs": []
    },
    {
      "cell_type": "code",
      "metadata": {
        "id": "_BkZuX4xIb04"
      },
      "source": [
        "sen_res_file_2='/content/drive/MyDrive/final_sen_res_10K_201316.txt'\n",
        "column_names = 'origin_idx|CIK|date|ReportType|total_esg_score|Reports|total_esg_score_change_10k|quarter|year|month|governance_score_change_pure_10k|social_score_change_pure_10k|environment_score_change_pure_10k|reports_ordered|reports_cosines'.split('|')\n",
        "kq_201316_df=pd.DataFrame(columns=column_names)\n",
        "content_201316=open(sen_res_file_2).readlines()\n",
        "for l in content_201316[1:]:\n",
        "  column_values = l.rstrip('\\n').rstrip('|').split(\"|\")[1:]\n",
        "  if len(column_values) == len(kq_201316_df.columns):\n",
        "    parsed_row = pd.Series(column_values, index=kq_201316_df.columns)\n",
        "    kq_201316_df = kq_201316_df.append(parsed_row, ignore_index=True)"
      ],
      "execution_count": null,
      "outputs": []
    },
    {
      "cell_type": "code",
      "metadata": {
        "id": "OADlmxEUysF2"
      },
      "source": [
        "#kq_df.to_csv(\"sen_res_10Q_201315.csv\")"
      ],
      "execution_count": null,
      "outputs": []
    },
    {
      "cell_type": "code",
      "metadata": {
        "id": "nT_AzpahJJLA"
      },
      "source": [
        "frames = [kq_201618_df, kq_201316_df]\n",
        "result_df = pd.concat(frames)"
      ],
      "execution_count": null,
      "outputs": []
    },
    {
      "cell_type": "code",
      "metadata": {
        "id": "n-h8zUM3w6tJ"
      },
      "source": [
        "result_df = result_df.drop_duplicates(subset=['ReportType', 'CIK', 'year'], keep='last')"
      ],
      "execution_count": null,
      "outputs": []
    },
    {
      "cell_type": "code",
      "metadata": {
        "id": "WImmA3pIJ0zR"
      },
      "source": [
        "result_df.to_csv('sen_res_10K_201318.csv')"
      ],
      "execution_count": null,
      "outputs": []
    },
    {
      "cell_type": "code",
      "metadata": {
        "id": "zWbfp4_lyvUv",
        "colab": {
          "base_uri": "https://localhost:8080/"
        },
        "outputId": "f97749a7-f692-4027-c423-9c392742d35b"
      },
      "source": [
        "!gsutil cp 'sen_res_10K_201318.csv' gs://esgbert_resourses/raw_data"
      ],
      "execution_count": null,
      "outputs": [
        {
          "output_type": "stream",
          "text": [
            "Copying file://sen_res_10K_201318.csv [Content-Type=text/csv]...\n",
            "/ [0 files][    0.0 B/  1.3 GiB]                                                \r==> NOTE: You are uploading one or more large file(s), which would run\n",
            "significantly faster if you enable parallel composite uploads. This\n",
            "feature can be enabled by editing the\n",
            "\"parallel_composite_upload_threshold\" value in your .boto\n",
            "configuration file. However, note that if you do this large files will\n",
            "be uploaded as `composite objects\n",
            "<https://cloud.google.com/storage/docs/composite-objects>`_,which\n",
            "means that any user who downloads such objects will need to have a\n",
            "compiled crcmod installed (see \"gsutil help crcmod\"). This is because\n",
            "without a compiled crcmod, computing checksums on composite objects is\n",
            "so slow that gsutil disables downloads of composite objects.\n",
            "\n",
            "/\n",
            "Operation completed over 1 objects/1.3 GiB.                                      \n"
          ],
          "name": "stdout"
        }
      ]
    },
    {
      "cell_type": "markdown",
      "metadata": {
        "id": "b7z4tONKykk9"
      },
      "source": [
        "#Read 10KQ sorted sentences from bucket into dataframe:"
      ]
    },
    {
      "cell_type": "code",
      "metadata": {
        "id": "fyxm7NM5yiF-"
      },
      "source": [
        "#read_10q_df = pd.read_csv(\"gs://esgbert_resourses/raw_data/sen_res_10Q_201318.csv\")\n",
        "read_10k_df = pd.read_csv(\"gs://esgbert_resourses/raw_data/sen_res_10K_201318.csv\")"
      ],
      "execution_count": null,
      "outputs": []
    },
    {
      "cell_type": "code",
      "metadata": {
        "colab": {
          "base_uri": "https://localhost:8080/"
        },
        "id": "UtEKGDkOjkwN",
        "outputId": "02c546c9-2b01-46d8-e6da-c5d5b6ffed4c"
      },
      "source": [
        "read_10q_df[read_10q_df.ReportType.isin(['10K'])]['Reports'].isnull().values.sum()"
      ],
      "execution_count": null,
      "outputs": [
        {
          "output_type": "execute_result",
          "data": {
            "text/plain": [
              "0"
            ]
          },
          "metadata": {
            "tags": []
          },
          "execution_count": 274
        }
      ]
    },
    {
      "cell_type": "code",
      "metadata": {
        "colab": {
          "base_uri": "https://localhost:8080/"
        },
        "id": "20S2jvP9K9TB",
        "outputId": "9edaa7de-e0c8-4e39-fa8a-44536ed53f2e"
      },
      "source": [
        "read_10q_df.columns"
      ],
      "execution_count": null,
      "outputs": [
        {
          "output_type": "execute_result",
          "data": {
            "text/plain": [
              "Index(['Unnamed: 0', 'origin_idx', 'CIK', 'date', 'total_esg_score',\n",
              "       'total_esg_score_quarter_change_pure',\n",
              "       'total_esg_score_quarter_change_pct',\n",
              "       'governance_score_quarter_change_pure',\n",
              "       'governance_score_quarter_change_pct',\n",
              "       'social_score_quarter_change_pure', 'social_score_quarter_change_pct',\n",
              "       'environment_score_quarter_change_pure',\n",
              "       'environment_score_quarter_change_pct', 'quarter', 'year', 'month',\n",
              "       'ReportType', 'Reports', 'reports_ordered', 'reports_cosines'],\n",
              "      dtype='object')"
            ]
          },
          "metadata": {
            "tags": []
          },
          "execution_count": 16
        }
      ]
    },
    {
      "cell_type": "code",
      "metadata": {
        "colab": {
          "base_uri": "https://localhost:8080/",
          "height": 824
        },
        "id": "mC1LBknKq8TH",
        "outputId": "82f862dd-0a12-4cd6-f61b-de2f3001752e"
      },
      "source": [
        "read_10q_df[['ReportType', 'year', 'quarter', 'reports_ordered']].groupby(['ReportType', 'year', 'quarter']).agg(['count'])"
      ],
      "execution_count": null,
      "outputs": [
        {
          "output_type": "execute_result",
          "data": {
            "text/html": [
              "<div>\n",
              "<style scoped>\n",
              "    .dataframe tbody tr th:only-of-type {\n",
              "        vertical-align: middle;\n",
              "    }\n",
              "\n",
              "    .dataframe tbody tr th {\n",
              "        vertical-align: top;\n",
              "    }\n",
              "\n",
              "    .dataframe thead tr th {\n",
              "        text-align: left;\n",
              "    }\n",
              "\n",
              "    .dataframe thead tr:last-of-type th {\n",
              "        text-align: right;\n",
              "    }\n",
              "</style>\n",
              "<table border=\"1\" class=\"dataframe\">\n",
              "  <thead>\n",
              "    <tr>\n",
              "      <th></th>\n",
              "      <th></th>\n",
              "      <th></th>\n",
              "      <th>reports_ordered</th>\n",
              "    </tr>\n",
              "    <tr>\n",
              "      <th></th>\n",
              "      <th></th>\n",
              "      <th></th>\n",
              "      <th>count</th>\n",
              "    </tr>\n",
              "    <tr>\n",
              "      <th>ReportType</th>\n",
              "      <th>year</th>\n",
              "      <th>quarter</th>\n",
              "      <th></th>\n",
              "    </tr>\n",
              "  </thead>\n",
              "  <tbody>\n",
              "    <tr>\n",
              "      <th rowspan=\"23\" valign=\"top\">10Q</th>\n",
              "      <th rowspan=\"4\" valign=\"top\">2013</th>\n",
              "      <th>1</th>\n",
              "      <td>283</td>\n",
              "    </tr>\n",
              "    <tr>\n",
              "      <th>2</th>\n",
              "      <td>299</td>\n",
              "    </tr>\n",
              "    <tr>\n",
              "      <th>3</th>\n",
              "      <td>296</td>\n",
              "    </tr>\n",
              "    <tr>\n",
              "      <th>4</th>\n",
              "      <td>62</td>\n",
              "    </tr>\n",
              "    <tr>\n",
              "      <th rowspan=\"4\" valign=\"top\">2014</th>\n",
              "      <th>1</th>\n",
              "      <td>311</td>\n",
              "    </tr>\n",
              "    <tr>\n",
              "      <th>2</th>\n",
              "      <td>313</td>\n",
              "    </tr>\n",
              "    <tr>\n",
              "      <th>3</th>\n",
              "      <td>307</td>\n",
              "    </tr>\n",
              "    <tr>\n",
              "      <th>4</th>\n",
              "      <td>63</td>\n",
              "    </tr>\n",
              "    <tr>\n",
              "      <th rowspan=\"4\" valign=\"top\">2015</th>\n",
              "      <th>1</th>\n",
              "      <td>323</td>\n",
              "    </tr>\n",
              "    <tr>\n",
              "      <th>2</th>\n",
              "      <td>328</td>\n",
              "    </tr>\n",
              "    <tr>\n",
              "      <th>3</th>\n",
              "      <td>323</td>\n",
              "    </tr>\n",
              "    <tr>\n",
              "      <th>4</th>\n",
              "      <td>63</td>\n",
              "    </tr>\n",
              "    <tr>\n",
              "      <th rowspan=\"4\" valign=\"top\">2016</th>\n",
              "      <th>1</th>\n",
              "      <td>338</td>\n",
              "    </tr>\n",
              "    <tr>\n",
              "      <th>2</th>\n",
              "      <td>343</td>\n",
              "    </tr>\n",
              "    <tr>\n",
              "      <th>3</th>\n",
              "      <td>342</td>\n",
              "    </tr>\n",
              "    <tr>\n",
              "      <th>4</th>\n",
              "      <td>67</td>\n",
              "    </tr>\n",
              "    <tr>\n",
              "      <th rowspan=\"4\" valign=\"top\">2017</th>\n",
              "      <th>1</th>\n",
              "      <td>354</td>\n",
              "    </tr>\n",
              "    <tr>\n",
              "      <th>2</th>\n",
              "      <td>361</td>\n",
              "    </tr>\n",
              "    <tr>\n",
              "      <th>3</th>\n",
              "      <td>348</td>\n",
              "    </tr>\n",
              "    <tr>\n",
              "      <th>4</th>\n",
              "      <td>71</td>\n",
              "    </tr>\n",
              "    <tr>\n",
              "      <th rowspan=\"3\" valign=\"top\">2018</th>\n",
              "      <th>1</th>\n",
              "      <td>369</td>\n",
              "    </tr>\n",
              "    <tr>\n",
              "      <th>2</th>\n",
              "      <td>373</td>\n",
              "    </tr>\n",
              "    <tr>\n",
              "      <th>3</th>\n",
              "      <td>7</td>\n",
              "    </tr>\n",
              "  </tbody>\n",
              "</table>\n",
              "</div>"
            ],
            "text/plain": [
              "                        reports_ordered\n",
              "                                  count\n",
              "ReportType year quarter                \n",
              "10Q        2013 1                   283\n",
              "                2                   299\n",
              "                3                   296\n",
              "                4                    62\n",
              "           2014 1                   311\n",
              "                2                   313\n",
              "                3                   307\n",
              "                4                    63\n",
              "           2015 1                   323\n",
              "                2                   328\n",
              "                3                   323\n",
              "                4                    63\n",
              "           2016 1                   338\n",
              "                2                   343\n",
              "                3                   342\n",
              "                4                    67\n",
              "           2017 1                   354\n",
              "                2                   361\n",
              "                3                   348\n",
              "                4                    71\n",
              "           2018 1                   369\n",
              "                2                   373\n",
              "                3                     7"
            ]
          },
          "metadata": {
            "tags": []
          },
          "execution_count": 25
        }
      ]
    },
    {
      "cell_type": "code",
      "metadata": {
        "colab": {
          "base_uri": "https://localhost:8080/",
          "height": 607
        },
        "id": "0LMEE2ChIzav",
        "outputId": "34101f57-efc9-4d92-833b-b6cca7d46d87"
      },
      "source": [
        "read_10q_df[read_10q_df.CIK.isin(['789019'])][['ReportType', 'CIK', 'date', 'reports_ordered']].groupby(['ReportType', 'CIK', 'date']).agg(['count'])"
      ],
      "execution_count": null,
      "outputs": [
        {
          "output_type": "execute_result",
          "data": {
            "text/html": [
              "<div>\n",
              "<style scoped>\n",
              "    .dataframe tbody tr th:only-of-type {\n",
              "        vertical-align: middle;\n",
              "    }\n",
              "\n",
              "    .dataframe tbody tr th {\n",
              "        vertical-align: top;\n",
              "    }\n",
              "\n",
              "    .dataframe thead tr th {\n",
              "        text-align: left;\n",
              "    }\n",
              "\n",
              "    .dataframe thead tr:last-of-type th {\n",
              "        text-align: right;\n",
              "    }\n",
              "</style>\n",
              "<table border=\"1\" class=\"dataframe\">\n",
              "  <thead>\n",
              "    <tr>\n",
              "      <th></th>\n",
              "      <th></th>\n",
              "      <th></th>\n",
              "      <th>reports_ordered</th>\n",
              "    </tr>\n",
              "    <tr>\n",
              "      <th></th>\n",
              "      <th></th>\n",
              "      <th></th>\n",
              "      <th>count</th>\n",
              "    </tr>\n",
              "    <tr>\n",
              "      <th>ReportType</th>\n",
              "      <th>CIK</th>\n",
              "      <th>date</th>\n",
              "      <th></th>\n",
              "    </tr>\n",
              "  </thead>\n",
              "  <tbody>\n",
              "    <tr>\n",
              "      <th rowspan=\"16\" valign=\"top\">10Q</th>\n",
              "      <th rowspan=\"16\" valign=\"top\">789019</th>\n",
              "      <th>2013-03-28</th>\n",
              "      <td>1</td>\n",
              "    </tr>\n",
              "    <tr>\n",
              "      <th>2013-09-30</th>\n",
              "      <td>1</td>\n",
              "    </tr>\n",
              "    <tr>\n",
              "      <th>2013-12-31</th>\n",
              "      <td>1</td>\n",
              "    </tr>\n",
              "    <tr>\n",
              "      <th>2014-03-31</th>\n",
              "      <td>1</td>\n",
              "    </tr>\n",
              "    <tr>\n",
              "      <th>2014-09-30</th>\n",
              "      <td>1</td>\n",
              "    </tr>\n",
              "    <tr>\n",
              "      <th>2014-12-31</th>\n",
              "      <td>1</td>\n",
              "    </tr>\n",
              "    <tr>\n",
              "      <th>2015-03-31</th>\n",
              "      <td>1</td>\n",
              "    </tr>\n",
              "    <tr>\n",
              "      <th>2015-09-30</th>\n",
              "      <td>1</td>\n",
              "    </tr>\n",
              "    <tr>\n",
              "      <th>2015-12-31</th>\n",
              "      <td>1</td>\n",
              "    </tr>\n",
              "    <tr>\n",
              "      <th>2016-03-31</th>\n",
              "      <td>1</td>\n",
              "    </tr>\n",
              "    <tr>\n",
              "      <th>2016-09-30</th>\n",
              "      <td>1</td>\n",
              "    </tr>\n",
              "    <tr>\n",
              "      <th>2016-12-30</th>\n",
              "      <td>1</td>\n",
              "    </tr>\n",
              "    <tr>\n",
              "      <th>2017-03-31</th>\n",
              "      <td>1</td>\n",
              "    </tr>\n",
              "    <tr>\n",
              "      <th>2017-09-29</th>\n",
              "      <td>1</td>\n",
              "    </tr>\n",
              "    <tr>\n",
              "      <th>2017-12-29</th>\n",
              "      <td>1</td>\n",
              "    </tr>\n",
              "    <tr>\n",
              "      <th>2018-03-29</th>\n",
              "      <td>1</td>\n",
              "    </tr>\n",
              "  </tbody>\n",
              "</table>\n",
              "</div>"
            ],
            "text/plain": [
              "                             reports_ordered\n",
              "                                       count\n",
              "ReportType CIK    date                      \n",
              "10Q        789019 2013-03-28               1\n",
              "                  2013-09-30               1\n",
              "                  2013-12-31               1\n",
              "                  2014-03-31               1\n",
              "                  2014-09-30               1\n",
              "                  2014-12-31               1\n",
              "                  2015-03-31               1\n",
              "                  2015-09-30               1\n",
              "                  2015-12-31               1\n",
              "                  2016-03-31               1\n",
              "                  2016-09-30               1\n",
              "                  2016-12-30               1\n",
              "                  2017-03-31               1\n",
              "                  2017-09-29               1\n",
              "                  2017-12-29               1\n",
              "                  2018-03-29               1"
            ]
          },
          "metadata": {
            "tags": []
          },
          "execution_count": 17
        }
      ]
    },
    {
      "cell_type": "code",
      "metadata": {
        "colab": {
          "base_uri": "https://localhost:8080/",
          "height": 607
        },
        "id": "vFTdPRq0GFjJ",
        "outputId": "08b29447-c80d-4701-892a-6eadb0093955"
      },
      "source": [
        "read_10q_df[read_10q_df.CIK.isin(['789019'])][['ReportType', 'CIK', 'year', 'month', 'reports_ordered']].groupby(['ReportType', 'CIK', 'year', 'month']).agg(['count'])"
      ],
      "execution_count": null,
      "outputs": [
        {
          "output_type": "execute_result",
          "data": {
            "text/html": [
              "<div>\n",
              "<style scoped>\n",
              "    .dataframe tbody tr th:only-of-type {\n",
              "        vertical-align: middle;\n",
              "    }\n",
              "\n",
              "    .dataframe tbody tr th {\n",
              "        vertical-align: top;\n",
              "    }\n",
              "\n",
              "    .dataframe thead tr th {\n",
              "        text-align: left;\n",
              "    }\n",
              "\n",
              "    .dataframe thead tr:last-of-type th {\n",
              "        text-align: right;\n",
              "    }\n",
              "</style>\n",
              "<table border=\"1\" class=\"dataframe\">\n",
              "  <thead>\n",
              "    <tr>\n",
              "      <th></th>\n",
              "      <th></th>\n",
              "      <th></th>\n",
              "      <th></th>\n",
              "      <th>reports_ordered</th>\n",
              "    </tr>\n",
              "    <tr>\n",
              "      <th></th>\n",
              "      <th></th>\n",
              "      <th></th>\n",
              "      <th></th>\n",
              "      <th>count</th>\n",
              "    </tr>\n",
              "    <tr>\n",
              "      <th>ReportType</th>\n",
              "      <th>CIK</th>\n",
              "      <th>year</th>\n",
              "      <th>month</th>\n",
              "      <th></th>\n",
              "    </tr>\n",
              "  </thead>\n",
              "  <tbody>\n",
              "    <tr>\n",
              "      <th rowspan=\"16\" valign=\"top\">10Q</th>\n",
              "      <th rowspan=\"16\" valign=\"top\">789019</th>\n",
              "      <th rowspan=\"3\" valign=\"top\">2013</th>\n",
              "      <th>3</th>\n",
              "      <td>1</td>\n",
              "    </tr>\n",
              "    <tr>\n",
              "      <th>9</th>\n",
              "      <td>1</td>\n",
              "    </tr>\n",
              "    <tr>\n",
              "      <th>12</th>\n",
              "      <td>1</td>\n",
              "    </tr>\n",
              "    <tr>\n",
              "      <th rowspan=\"3\" valign=\"top\">2014</th>\n",
              "      <th>3</th>\n",
              "      <td>1</td>\n",
              "    </tr>\n",
              "    <tr>\n",
              "      <th>9</th>\n",
              "      <td>1</td>\n",
              "    </tr>\n",
              "    <tr>\n",
              "      <th>12</th>\n",
              "      <td>1</td>\n",
              "    </tr>\n",
              "    <tr>\n",
              "      <th rowspan=\"3\" valign=\"top\">2015</th>\n",
              "      <th>3</th>\n",
              "      <td>1</td>\n",
              "    </tr>\n",
              "    <tr>\n",
              "      <th>9</th>\n",
              "      <td>1</td>\n",
              "    </tr>\n",
              "    <tr>\n",
              "      <th>12</th>\n",
              "      <td>1</td>\n",
              "    </tr>\n",
              "    <tr>\n",
              "      <th rowspan=\"3\" valign=\"top\">2016</th>\n",
              "      <th>3</th>\n",
              "      <td>1</td>\n",
              "    </tr>\n",
              "    <tr>\n",
              "      <th>9</th>\n",
              "      <td>1</td>\n",
              "    </tr>\n",
              "    <tr>\n",
              "      <th>12</th>\n",
              "      <td>1</td>\n",
              "    </tr>\n",
              "    <tr>\n",
              "      <th rowspan=\"3\" valign=\"top\">2017</th>\n",
              "      <th>3</th>\n",
              "      <td>1</td>\n",
              "    </tr>\n",
              "    <tr>\n",
              "      <th>9</th>\n",
              "      <td>1</td>\n",
              "    </tr>\n",
              "    <tr>\n",
              "      <th>12</th>\n",
              "      <td>1</td>\n",
              "    </tr>\n",
              "    <tr>\n",
              "      <th>2018</th>\n",
              "      <th>3</th>\n",
              "      <td>1</td>\n",
              "    </tr>\n",
              "  </tbody>\n",
              "</table>\n",
              "</div>"
            ],
            "text/plain": [
              "                             reports_ordered\n",
              "                                       count\n",
              "ReportType CIK    year month                \n",
              "10Q        789019 2013 3                   1\n",
              "                       9                   1\n",
              "                       12                  1\n",
              "                  2014 3                   1\n",
              "                       9                   1\n",
              "                       12                  1\n",
              "                  2015 3                   1\n",
              "                       9                   1\n",
              "                       12                  1\n",
              "                  2016 3                   1\n",
              "                       9                   1\n",
              "                       12                  1\n",
              "                  2017 3                   1\n",
              "                       9                   1\n",
              "                       12                  1\n",
              "                  2018 3                   1"
            ]
          },
          "metadata": {
            "tags": []
          },
          "execution_count": 18
        }
      ]
    },
    {
      "cell_type": "code",
      "metadata": {
        "id": "N_uLUXpPHoz9"
      },
      "source": [
        "assert len(result_df[result_df.duplicated(['CIK', 'year', 'quarter', 'Reports'])]) == 0, \"10Q Report for every company should be just one quarterly\"\n",
        "assert len(result_df[result_df.duplicated(['CIK', 'date', 'Reports'])]) == 0, \"10Q Report for every company should be just one per date\""
      ],
      "execution_count": null,
      "outputs": []
    }
  ]
}